{
 "cells": [
  {
   "cell_type": "code",
   "execution_count": null,
   "metadata": {
    "_cell_guid": "b1076dfc-b9ad-4769-8c92-a6c4dae69d19",
    "_uuid": "8f2839f25d086af736a60e9eeb907d3b93b6e0e5",
    "execution": {
     "iopub.execute_input": "2024-08-03T08:03:38.738037Z",
     "iopub.status.busy": "2024-08-03T08:03:38.73779Z",
     "iopub.status.idle": "2024-08-03T08:03:38.775Z",
     "shell.execute_reply": "2024-08-03T08:03:38.774155Z",
     "shell.execute_reply.started": "2024-08-03T08:03:38.738015Z"
    }
   },
   "outputs": [],
   "source": [
    "# This Python 3 environment comes with many helpful analytics libraries installed\n",
    "# It is defined by the kaggle/python Docker image: https://github.com/kaggle/docker-python\n",
    "# For example, here's several helpful packages to load\n",
    "\n",
    "import numpy as np # linear algebra\n",
    "import pandas as pd # data processing, CSV file I/O (e.g. pd.read_csv)\n",
    "\n",
    "# Input data files are available in the read-only \"../input/\" directory\n",
    "# For example, running this (by clicking run or pressing Shift+Enter) will list all files under the input directory\n",
    "\n",
    "import os\n",
    "for dirname, _, filenames in os.walk('/kaggle/input'):\n",
    "    for filename in filenames:\n",
    "        print(os.path.join(dirname, filename))\n",
    "\n",
    "# You can write up to 20GB to the current directory (/kaggle/working/) that gets preserved as output when you create a version using \"Save & Run All\" \n",
    "# You can also write temporary files to /kaggle/temp/, but they won't be saved outside of the current session"
   ]
  },
  {
   "cell_type": "markdown",
   "id": "e638faef",
   "metadata": {},
   "source": [
    "## Import libraries"
   ]
  },
  {
   "cell_type": "code",
   "execution_count": null,
   "metadata": {
    "execution": {
     "iopub.execute_input": "2024-08-03T08:03:38.77685Z",
     "iopub.status.busy": "2024-08-03T08:03:38.776597Z",
     "iopub.status.idle": "2024-08-03T08:03:45.038125Z",
     "shell.execute_reply": "2024-08-03T08:03:45.037347Z",
     "shell.execute_reply.started": "2024-08-03T08:03:38.776828Z"
    }
   },
   "outputs": [],
   "source": [
    "import pandas as pd\n",
    "import numpy as np\n",
    "from datasets import Dataset\n",
    "from functools import partial\n",
    "from sklearn.model_selection import train_test_split\n",
    "from transformers import AutoTokenizer, TFAutoModel\n",
    "from transformers import DebertaV2Tokenizer\n",
    "import tensorflow as tf\n",
    "from tensorflow.keras.models import Sequential\n",
    "from tensorflow.keras.layers import Embedding, Conv1D, GlobalMaxPooling1D, Dense, Dropout, Input\n",
    "from keras.preprocessing import sequence as sq"
   ]
  },
  {
   "cell_type": "code",
   "execution_count": null,
   "metadata": {
    "execution": {
     "iopub.execute_input": "2024-08-03T08:03:45.040011Z",
     "iopub.status.busy": "2024-08-03T08:03:45.039313Z",
     "iopub.status.idle": "2024-08-03T08:03:48.113071Z",
     "shell.execute_reply": "2024-08-03T08:03:48.112184Z",
     "shell.execute_reply.started": "2024-08-03T08:03:45.039983Z"
    }
   },
   "outputs": [],
   "source": [
    "train = pd.read_csv('/kaggle/input/lmsys-chatbot-arena/train.csv')\n",
    "train.head(5)"
   ]
  },
  {
   "cell_type": "code",
   "execution_count": null,
   "metadata": {
    "execution": {
     "iopub.execute_input": "2024-08-03T08:03:48.115769Z",
     "iopub.status.busy": "2024-08-03T08:03:48.115448Z",
     "iopub.status.idle": "2024-08-03T08:03:48.130037Z",
     "shell.execute_reply": "2024-08-03T08:03:48.129112Z",
     "shell.execute_reply.started": "2024-08-03T08:03:48.115742Z"
    }
   },
   "outputs": [],
   "source": [
    "test = pd.read_csv('/kaggle/input/lmsys-chatbot-arena/test.csv')\n",
    "test.head(5)"
   ]
  },
  {
   "cell_type": "markdown",
   "id": "be9cb7b9",
   "metadata": {},
   "source": [
    "## Preprocessing"
   ]
  },
  {
   "cell_type": "code",
   "execution_count": null,
   "metadata": {
    "execution": {
     "iopub.execute_input": "2024-08-03T08:03:48.131534Z",
     "iopub.status.busy": "2024-08-03T08:03:48.131184Z",
     "iopub.status.idle": "2024-08-03T08:03:48.13793Z",
     "shell.execute_reply": "2024-08-03T08:03:48.137022Z",
     "shell.execute_reply.started": "2024-08-03T08:03:48.131498Z"
    }
   },
   "outputs": [],
   "source": [
    "def combine_text(df):\n",
    "    def process(input_str):\n",
    "        stripped_str = input_str.strip('[]')\n",
    "        sentences = [s.strip('\"') for s in stripped_str.split('\",\"')]\n",
    "        return  ' '.join(sentences)\n",
    "\n",
    "    # Flatten the arrays to single strings\n",
    "    df['prompt'] = df['prompt'].apply(process)\n",
    "    df['response_a'] = df['response_a'].apply(process)\n",
    "    df['response_b'] = df['response_b'].apply(process)\n",
    "    \n",
    "    # Combine text data\n",
    "#     df['combined_text'] = '[PROMPT] ' + df['prompt'] + ' [RESPONSE_A] ' + df['response_a'] + ' [RESPONSE_B] ' + df['response_b'] "
   ]
  },
  {
   "cell_type": "code",
   "execution_count": null,
   "metadata": {
    "execution": {
     "iopub.execute_input": "2024-08-03T08:03:48.139695Z",
     "iopub.status.busy": "2024-08-03T08:03:48.139245Z",
     "iopub.status.idle": "2024-08-03T08:03:48.690674Z",
     "shell.execute_reply": "2024-08-03T08:03:48.689875Z",
     "shell.execute_reply.started": "2024-08-03T08:03:48.139664Z"
    }
   },
   "outputs": [],
   "source": [
    "combine_text(train)\n",
    "# print(train['combined_text'][69])"
   ]
  },
  {
   "cell_type": "code",
   "execution_count": null,
   "metadata": {
    "execution": {
     "iopub.execute_input": "2024-08-03T08:03:48.692026Z",
     "iopub.status.busy": "2024-08-03T08:03:48.691747Z",
     "iopub.status.idle": "2024-08-03T08:03:48.697713Z",
     "shell.execute_reply": "2024-08-03T08:03:48.696689Z",
     "shell.execute_reply.started": "2024-08-03T08:03:48.692003Z"
    }
   },
   "outputs": [],
   "source": [
    "# Create labels\n",
    "def create_label(df):\n",
    "    def process(row):\n",
    "        if row['winner_model_a'] == 1:\n",
    "            return 0\n",
    "        elif row['winner_model_b'] == 1:\n",
    "            return 1\n",
    "        elif row['winner_tie'] == 1:\n",
    "            return 2\n",
    "        \n",
    "    df['label'] = df.apply(process, axis=1)"
   ]
  },
  {
   "cell_type": "code",
   "execution_count": null,
   "metadata": {
    "execution": {
     "iopub.execute_input": "2024-08-03T08:03:48.699028Z",
     "iopub.status.busy": "2024-08-03T08:03:48.698776Z",
     "iopub.status.idle": "2024-08-03T08:03:49.617907Z",
     "shell.execute_reply": "2024-08-03T08:03:49.61689Z",
     "shell.execute_reply.started": "2024-08-03T08:03:48.699006Z"
    }
   },
   "outputs": [],
   "source": [
    "create_label(train)\n",
    "print(train['label'][69])"
   ]
  },
  {
   "cell_type": "code",
   "execution_count": null,
   "metadata": {
    "execution": {
     "iopub.execute_input": "2024-08-03T08:03:49.619396Z",
     "iopub.status.busy": "2024-08-03T08:03:49.619056Z",
     "iopub.status.idle": "2024-08-03T08:03:49.632744Z",
     "shell.execute_reply": "2024-08-03T08:03:49.631804Z",
     "shell.execute_reply.started": "2024-08-03T08:03:49.619369Z"
    }
   },
   "outputs": [],
   "source": [
    "print(\"train.shape\", train.shape)\n",
    "train.head()"
   ]
  },
  {
   "cell_type": "markdown",
   "id": "389205fd",
   "metadata": {},
   "source": [
    "## Tokenizer"
   ]
  },
  {
   "cell_type": "code",
   "execution_count": null,
   "metadata": {
    "execution": {
     "iopub.execute_input": "2024-08-03T08:03:49.636967Z",
     "iopub.status.busy": "2024-08-03T08:03:49.636648Z",
     "iopub.status.idle": "2024-08-03T08:03:49.642558Z",
     "shell.execute_reply": "2024-08-03T08:03:49.641664Z",
     "shell.execute_reply.started": "2024-08-03T08:03:49.636941Z"
    }
   },
   "outputs": [],
   "source": [
    "max_length = 1024"
   ]
  },
  {
   "cell_type": "code",
   "execution_count": null,
   "metadata": {
    "execution": {
     "iopub.execute_input": "2024-08-03T08:03:49.644046Z",
     "iopub.status.busy": "2024-08-03T08:03:49.643715Z",
     "iopub.status.idle": "2024-08-03T08:03:50.066304Z",
     "shell.execute_reply": "2024-08-03T08:03:50.065011Z",
     "shell.execute_reply.started": "2024-08-03T08:03:49.644009Z"
    }
   },
   "outputs": [],
   "source": [
    "# Tokenization using DebertaV2Tokenizer\n",
    "model_name = \"/kaggle/input/qwen2/transformers/qwen2-7b-instruct/1\"\n",
    "# model_name = \"/kaggle/input/deberta-v3/pytorch/large/1\"\n",
    "tokenizer = AutoTokenizer.from_pretrained(model_name)\n",
    "# Limit the vocabulary size\n",
    "# tokenizer.model_max_length = max_length\n",
    "tokenizer.add_tokens(['[CLS]', '[SEP]', '[PAD]'], special_tokens=True)"
   ]
  },
  {
   "cell_type": "code",
   "execution_count": null,
   "metadata": {
    "execution": {
     "iopub.execute_input": "2024-08-03T08:03:50.068743Z",
     "iopub.status.busy": "2024-08-03T08:03:50.068322Z",
     "iopub.status.idle": "2024-08-03T08:03:50.087034Z",
     "shell.execute_reply": "2024-08-03T08:03:50.086035Z",
     "shell.execute_reply.started": "2024-08-03T08:03:50.068705Z"
    }
   },
   "outputs": [],
   "source": [
    "def tokenize_df(df, tokenizer):\n",
    "    # Check and set special tokens if they are not present\n",
    "    if tokenizer.cls_token_id is None:\n",
    "        tokenizer.cls_token_id = tokenizer.convert_tokens_to_ids('[CLS]')\n",
    "    if tokenizer.sep_token_id is None:\n",
    "        tokenizer.sep_token_id = tokenizer.convert_tokens_to_ids('[SEP]')\n",
    "    if tokenizer.pad_token_id is None:\n",
    "        tokenizer.pad_token_id = tokenizer.convert_tokens_to_ids('[PAD]')\n",
    "        \n",
    "    def process(row):\n",
    "        max_len = max_length - 2 # 2 separator tokens\n",
    "        # Tokenize prompt\n",
    "        prompt_tokens = tokenizer(row['prompt'], truncation=True, max_length=max_len//4)['input_ids']\n",
    "        remaining_length = max_len - len(prompt_tokens)\n",
    "\n",
    "        # Tokenize response A\n",
    "        response_a_tokens = tokenizer(row['response_a'], truncation=True, max_length=remaining_length//2)['input_ids']\n",
    "        remaining_length -= len(response_a_tokens)\n",
    "\n",
    "        # Tokenize response B\n",
    "        response_b_tokens = tokenizer(row['response_b'], truncation=True, max_length=remaining_length//2)['input_ids']\n",
    "\n",
    "        # Add responses\n",
    "        input_ids = [tokenizer.cls_token_id] + prompt_tokens + [tokenizer.sep_token_id] + response_a_tokens + [tokenizer.sep_token_id] + response_b_tokens\n",
    "        token_type_ids = [0] * (len(prompt_tokens) + 2) + [1] * (len(response_a_tokens) + 1) + [2] * len(response_b_tokens)\n",
    "        attention_mask = [1] * len(input_ids)\n",
    "\n",
    "        # Add padding\n",
    "        padding_length = max_length - len(input_ids)\n",
    "        if padding_length > 0:\n",
    "            input_ids = input_ids + [tokenizer.pad_token_id] * padding_length\n",
    "            token_type_ids = token_type_ids + [0] * padding_length\n",
    "            attention_mask = attention_mask + [0] * padding_length\n",
    "\n",
    "        input_ids = input_ids[:max_length]\n",
    "        token_type_ids = token_type_ids[:max_length]\n",
    "        attention_mask = attention_mask[:max_length]\n",
    "        \n",
    "        return input_ids, token_type_ids, attention_mask\n",
    "    \n",
    "    df[['input_ids', 'token_type_ids', 'attention_mask']] = df.apply(lambda row: pd.Series(process(row)), axis=1)\n",
    "#     tokenized = df.apply(lambda row: pd.Series(process(row)), axis=1)\n",
    "#     df.loc[:, ['input_ids', 'token_type_ids', 'attention_mask']] = tokenized\n",
    "#     return df"
   ]
  },
  {
   "cell_type": "code",
   "execution_count": null,
   "metadata": {
    "execution": {
     "iopub.execute_input": "2024-08-03T08:03:50.088603Z",
     "iopub.status.busy": "2024-08-03T08:03:50.08816Z",
     "iopub.status.idle": "2024-08-03T08:03:50.09929Z",
     "shell.execute_reply": "2024-08-03T08:03:50.098205Z",
     "shell.execute_reply.started": "2024-08-03T08:03:50.08856Z"
    }
   },
   "outputs": [],
   "source": [
    "# Convert labels to categorical\n",
    "labels = tf.keras.utils.to_categorical(train['label'], num_classes=3)"
   ]
  },
  {
   "cell_type": "code",
   "execution_count": null,
   "metadata": {
    "execution": {
     "iopub.execute_input": "2024-08-03T08:03:50.100788Z",
     "iopub.status.busy": "2024-08-03T08:03:50.100454Z",
     "iopub.status.idle": "2024-08-03T08:06:58.52437Z",
     "shell.execute_reply": "2024-08-03T08:06:58.523577Z",
     "shell.execute_reply.started": "2024-08-03T08:03:50.100757Z"
    }
   },
   "outputs": [],
   "source": [
    "tokenize_df(train, tokenizer)"
   ]
  },
  {
   "cell_type": "code",
   "execution_count": null,
   "metadata": {
    "execution": {
     "iopub.execute_input": "2024-08-03T08:06:58.525707Z",
     "iopub.status.busy": "2024-08-03T08:06:58.525433Z",
     "iopub.status.idle": "2024-08-03T08:07:07.039745Z",
     "shell.execute_reply": "2024-08-03T08:07:07.038886Z",
     "shell.execute_reply.started": "2024-08-03T08:06:58.525683Z"
    }
   },
   "outputs": [],
   "source": [
    "# Prepare data for training\n",
    "input_ids = train['input_ids']\n",
    "attention_mask = train['attention_mask']\n",
    "\n",
    "X_train = sq.pad_sequences(input_ids, maxlen=max_length)\n",
    "X_train_attention_mask = sq.pad_sequences(attention_mask, maxlen=max_length)\n",
    "\n",
    "y_train = labels"
   ]
  },
  {
   "cell_type": "markdown",
   "id": "b3bfbab0",
   "metadata": {},
   "source": [
    "## Model"
   ]
  },
  {
   "cell_type": "code",
   "execution_count": null,
   "metadata": {
    "execution": {
     "iopub.execute_input": "2024-08-03T08:10:26.889671Z",
     "iopub.status.busy": "2024-08-03T08:10:26.889305Z",
     "iopub.status.idle": "2024-08-03T08:10:26.901293Z",
     "shell.execute_reply": "2024-08-03T08:10:26.900295Z",
     "shell.execute_reply.started": "2024-08-03T08:10:26.88964Z"
    }
   },
   "outputs": [],
   "source": [
    "from keras.layers import concatenate, Dropout, BatchNormalization, LSTM, Conv1D, Masking\n",
    "\n",
    "# Define the CNN model\n",
    "def create_cnn_model(vocab_size, embedding_dim, max_length):\n",
    "    model = Sequential([\n",
    "        Input(shape=(max_length,), dtype=tf.int32, name='input_ids'),\n",
    "        Embedding(input_dim=vocab_size, output_dim=embedding_dim),\n",
    "        Conv1D(filters=256, kernel_size=5, activation='relu'),\n",
    "        GlobalMaxPooling1D(),\n",
    "        Dense(128, activation='relu'),\n",
    "        Dropout(0.5),\n",
    "        Dense(3, activation='softmax')\n",
    "    ])\n",
    "    model.compile(loss='categorical_crossentropy', optimizer='adam', metrics=['accuracy'])\n",
    "    return model\n",
    "\n",
    "# Define the LSTM model\n",
    "def create_lstm_model(vocab_size, embedding_dim, max_length):\n",
    "    model = Sequential([\n",
    "        Input(shape=(max_length,), dtype=tf.int32, name='input_ids'),\n",
    "        Embedding(input_dim=vocab_size, output_dim=embedding_dim),\n",
    "        LSTM(256, return_sequences=True),\n",
    "        GlobalMaxPooling1D(),\n",
    "        Dense(128, activation='relu'),\n",
    "        Dropout(0.5),\n",
    "        Dense(3, activation='softmax')\n",
    "    ])\n",
    "    model.compile(loss='categorical_crossentropy', optimizer='adam', metrics=['accuracy'])\n",
    "    return model\n",
    "\n",
    "# Define the CNN LSTM model\n",
    "def create_cnn_lstm_model(vocab_size, embedding_dim, max_length):\n",
    "    model = Sequential([\n",
    "        Input(shape=(max_length,), dtype=tf.int32, name='input_ids'),\n",
    "        Embedding(input_dim=vocab_size, output_dim=embedding_dim),\n",
    "        Conv1D(filters=128, kernel_size=5, activation='relu'),\n",
    "        LSTM(128, return_sequences=True),\n",
    "        GlobalMaxPooling1D(),\n",
    "        Dense(64, activation='relu'),\n",
    "        Dropout(0.5),\n",
    "        Dense(3, activation='softmax')\n",
    "    ])\n",
    "    model.compile(loss='categorical_crossentropy', optimizer='adam', metrics=['accuracy'])\n",
    "    return model"
   ]
  },
  {
   "cell_type": "code",
   "execution_count": null,
   "metadata": {
    "execution": {
     "iopub.execute_input": "2024-08-03T08:10:28.674752Z",
     "iopub.status.busy": "2024-08-03T08:10:28.674272Z",
     "iopub.status.idle": "2024-08-03T08:10:28.766639Z",
     "shell.execute_reply": "2024-08-03T08:10:28.765718Z",
     "shell.execute_reply.started": "2024-08-03T08:10:28.674703Z"
    }
   },
   "outputs": [],
   "source": [
    "# Parameters\n",
    "vocab_size = tokenizer.vocab_size\n",
    "# vocab_size = max_length\n",
    "embedding_dim = 100\n",
    "max_length = max_length\n",
    "max_features = tokenizer.vocab_size\n",
    "# max_features = max_length * 2\n",
    "max_len = max_length\n",
    "maxlen = max_len\n",
    "batch_size = 16\n",
    "embedding_dims = 100\n",
    "nb_filter = 150\n",
    "filter_length = 3\n",
    "hidden_dims = 100\n",
    "nb_epoch = 100\n",
    "# Create the model\n",
    "# model = create_lstm_model(vocab_size, embedding_dim, max_length)\n",
    "model = create_cnn_lstm_model(vocab_size, embedding_dim, max_length)\n",
    "model.summary()"
   ]
  },
  {
   "cell_type": "code",
   "execution_count": null,
   "metadata": {
    "execution": {
     "iopub.execute_input": "2024-08-03T08:10:36.064883Z",
     "iopub.status.busy": "2024-08-03T08:10:36.064528Z",
     "iopub.status.idle": "2024-08-03T08:10:36.073974Z",
     "shell.execute_reply": "2024-08-03T08:10:36.072978Z",
     "shell.execute_reply.started": "2024-08-03T08:10:36.064855Z"
    },
    "jupyter": {
     "source_hidden": true
    }
   },
   "outputs": [],
   "source": [
    "from __future__ import print_function\n",
    "import numpy as np\n",
    "\n",
    "from keras.preprocessing import sequence\n",
    "from keras.models import Sequential\n",
    "from keras.layers import Dense, Dropout, Activation, Lambda\n",
    "from keras.layers import Embedding\n",
    "from keras.layers import Convolution1D, LSTM\n",
    "from keras.datasets import imdb\n",
    "from keras import backend as K\n",
    "from keras.optimizers import Adadelta,Adamax\n",
    "from keras.preprocessing import sequence as sq\n",
    "\n",
    "from keras.layers import Dense, Dropout, Activation, Lambda,Input,TimeDistributed,Flatten\n",
    "from keras.models import Model\n",
    "from keras.callbacks import ModelCheckpoint"
   ]
  },
  {
   "cell_type": "code",
   "execution_count": null,
   "metadata": {
    "_kg_hide-input": true,
    "execution": {
     "iopub.execute_input": "2024-08-03T08:10:36.076014Z",
     "iopub.status.busy": "2024-08-03T08:10:36.075682Z",
     "iopub.status.idle": "2024-08-03T08:10:36.081868Z",
     "shell.execute_reply": "2024-08-03T08:10:36.080998Z",
     "shell.execute_reply.started": "2024-08-03T08:10:36.075991Z"
    },
    "jupyter": {
     "source_hidden": true
    }
   },
   "outputs": [],
   "source": [
    "# from tensorflow.keras.layers import Layer\n",
    "# from keras.layers import concatenate, Dropout, BatchNormalization, LSTM, Conv1D\n",
    "# from keras.layers import  GlobalMaxPooling1D\n",
    "# import tensorflow as tf\n",
    "\n",
    "# class ApplyAttentionMask(Layer):\n",
    "#     def call(self, inputs):\n",
    "#         embeddings, attention_mask = inputs\n",
    "#         return embeddings * tf.expand_dims(attention_mask, -1)\n",
    "\n",
    "# input_layer = Input(shape=(max_length,),dtype='int32', name='main_input')\n",
    "# attention_masks = Input(shape=(max_length,), dtype='float32', name=\"attention_masks\")\n",
    "\n",
    "# emb_layer = Embedding(max_features,\n",
    "#                       embedding_dims,\n",
    "#                       input_length=max_len\n",
    "#                       )(input_layer)\n",
    "\n",
    "# masked_embeddings = ApplyAttentionMask(name='apply_attention_mask')([emb_layer, attention_masks])\n",
    "\n",
    "# # LSTM branch\n",
    "# lstm_out = LSTM(128, return_sequences=True)(masked_embeddings)\n",
    "# lstm_out = LSTM(64, return_sequences=True)(lstm_out)\n",
    "# lstm_out = LSTM(32)(lstm_out)\n",
    "# lstm_out = BatchNormalization()(lstm_out)\n",
    "# lstm_out = Dropout(0.5)(lstm_out)\n",
    "# lstm_out = GlobalMaxPooling1D()(lstm_out)\n",
    "\n",
    "# # CNN layer branch\n",
    "# cnn_out = Conv1D(128, 5, activation='relu')(masked_embeddings)\n",
    "# cnn_out = Conv1D(64, 5, activation='relu')(cnn_out)\n",
    "# cnn_out = Conv1D(32, 5, activation='relu')(cnn_out)\n",
    "# cnn_out = BatchNormalization()(cnn_out)\n",
    "# cnn_out = Dropout(0.5)(cnn_out)\n",
    "# cnn_out = GlobalMaxPooling1D()(cnn_out)\n",
    "\n",
    "\n",
    "# # Concatenate LSTM and CNN outputs\n",
    "# merged = concatenate([lstm_out, cnn_out])\n",
    "# merged = Dense(32, activation='sigmoid')(merged)\n",
    "# merged = BatchNormalization()(merged)\n",
    "# merged = Dropout(0.5)(merged)\n",
    "# pred = Dense(3, activation='softmax')(merged)\n",
    "\n",
    "\n",
    "# # Build model\n",
    "# model = Model(inputs=[input_layer, attention_masks], outputs=[pred])\n",
    "# adadelta = Adadelta(learning_rate=1.0, rho=0.75, epsilon=1e-06)\n",
    "# adamax = Adamax(learning_rate=0.001)\n",
    "# model.compile(optimizer='adadelta', loss='categorical_crossentropy', metrics=['accuracy'])\n",
    "# model.summary()"
   ]
  },
  {
   "cell_type": "code",
   "execution_count": null,
   "metadata": {
    "execution": {
     "iopub.execute_input": "2024-08-03T08:10:36.083267Z",
     "iopub.status.busy": "2024-08-03T08:10:36.082972Z",
     "iopub.status.idle": "2024-08-03T08:10:36.096475Z",
     "shell.execute_reply": "2024-08-03T08:10:36.095652Z",
     "shell.execute_reply.started": "2024-08-03T08:10:36.083245Z"
    },
    "jupyter": {
     "source_hidden": true
    }
   },
   "outputs": [],
   "source": [
    "# import tensorflow as tf\n",
    "# from tensorflow.keras.layers import Input, Conv1D, LSTM, GRU, Dense, Masking\n",
    "# from tensorflow.keras.models import Model\n",
    "# from transformers import DebertaTokenizer, AutoModel\n",
    "\n",
    "# def create_cnn_lstm_hybrid_model(base_model_name, cnn_output_channels, cnn_kernel_size, hidden_dim, num_classes):\n",
    "#     # Load pre-trained BERT model\n",
    "#     model = AutoModel.from_pretrained(base_model_name)\n",
    "    \n",
    "#     # Define inputs\n",
    "#     input_ids = Input(shape=(max_length,), dtype=tf.int32, name='input_ids')\n",
    "#     attention_mask = Input(shape=(max_length,), dtype=tf.int32, name='attention_mask')\n",
    "\n",
    "#     # Get BERT outputs\n",
    "#     outputs = model(input_ids, attention_mask=attention_mask)\n",
    "#     seq_output = outputs.last_hidden_state  # Shape: (batch_size, seq_length, hidden_size)\n",
    "\n",
    "#     # Apply CNN\n",
    "#     cnn_output = Conv1D(filters=cnn_output_channels, kernel_size=cnn_kernel_size, padding='same', activation='relu')(bert_seq_output)\n",
    "\n",
    "#     # Apply Masking to handle padded sequences\n",
    "#     masked_cnn_output = Masking()(cnn_output)\n",
    "    \n",
    "#     # Apply LSTM\n",
    "#     rnn_output = LSTM(hidden_dim)(masked_cnn_output)\n",
    "\n",
    "#     # Define the classifier layer\n",
    "#     logits = Dense(num_classes, activation='softmax')(rnn_output)\n",
    "\n",
    "#     # Create the model\n",
    "#     model = Model(inputs=[input_ids, attention_mask], outputs=logits)\n",
    "\n",
    "#     return model"
   ]
  },
  {
   "cell_type": "code",
   "execution_count": null,
   "metadata": {
    "jupyter": {
     "source_hidden": true
    }
   },
   "outputs": [],
   "source": [
    "# Define hyperparameters\n",
    "# bert_model_name = '/kaggle/input/deberta_v3/keras/deberta_v3_large_en/2'\n",
    "# bert_model_name = '/kaggle/input/deberta-v3/pytorch/large/1'\n",
    "# bert_model_name = 'deberta_v3_large_en'\n",
    "# model_name = '/kaggle/input/qwen2/transformers/qwen2-7b-instruct/1'\n",
    "# cnn_output_channels = 128\n",
    "# cnn_kernel_size = 5\n",
    "# hidden_dim = 256\n",
    "# num_classes = 3\n",
    "\n",
    "# # Initialize the model\n",
    "# model = create_cnn_lstm_hybrid_model(model_name, cnn_output_channels, cnn_kernel_size, hidden_dim, num_classes)\n",
    "# model.summary()"
   ]
  },
  {
   "cell_type": "code",
   "execution_count": null,
   "metadata": {
    "execution": {
     "iopub.execute_input": "2024-08-03T08:10:51.105324Z",
     "iopub.status.busy": "2024-08-03T08:10:51.104735Z",
     "iopub.status.idle": "2024-08-03T08:11:52.190361Z",
     "shell.execute_reply": "2024-08-03T08:11:52.188502Z",
     "shell.execute_reply.started": "2024-08-03T08:10:51.105291Z"
    }
   },
   "outputs": [],
   "source": [
    "from keras.callbacks import EarlyStopping\n",
    "\n",
    "# Train the model\n",
    "early_stopping = EarlyStopping(monitor='val_loss', patience=8, verbose=1)\n",
    "\n",
    "history = model.fit([X_train, X_train_attention_mask], y_train, epochs=20, batch_size=32, validation_split=0.2\n",
    "                    , callbacks=[early_stopping])"
   ]
  },
  {
   "cell_type": "markdown",
   "id": "d567287c",
   "metadata": {},
   "source": [
    "## Test"
   ]
  },
  {
   "cell_type": "code",
   "execution_count": null,
   "metadata": {
    "execution": {
     "iopub.status.busy": "2024-08-03T08:11:52.191401Z",
     "iopub.status.idle": "2024-08-03T08:11:52.191823Z",
     "shell.execute_reply": "2024-08-03T08:11:52.19166Z",
     "shell.execute_reply.started": "2024-08-03T08:11:52.191643Z"
    }
   },
   "outputs": [],
   "source": [
    "# Encode test data\n",
    "combine_text(test)\n",
    "tokenize_df(test, tokenizer)\n",
    "\n",
    "input_ids = test['input_ids']\n",
    "attention_mask = test['attention_mask']\n",
    "\n",
    "X_test = sq.pad_sequences(input_ids, maxlen=max_length)\n",
    "X_test_attention_mask = sq.pad_sequences(attention_mask, maxlen=max_length)"
   ]
  },
  {
   "cell_type": "code",
   "execution_count": null,
   "metadata": {
    "execution": {
     "iopub.status.busy": "2024-08-03T08:11:52.19495Z",
     "iopub.status.idle": "2024-08-03T08:11:52.195296Z",
     "shell.execute_reply": "2024-08-03T08:11:52.195116Z",
     "shell.execute_reply.started": "2024-08-03T08:11:52.195104Z"
    }
   },
   "outputs": [],
   "source": [
    "predictions = model.predict([X_test, X_test_attention_mask])\n",
    "predictions"
   ]
  },
  {
   "cell_type": "code",
   "execution_count": null,
   "metadata": {
    "execution": {
     "iopub.status.busy": "2024-08-03T08:11:52.196009Z",
     "iopub.status.idle": "2024-08-03T08:11:52.196355Z",
     "shell.execute_reply": "2024-08-03T08:11:52.1962Z",
     "shell.execute_reply.started": "2024-08-03T08:11:52.196186Z"
    }
   },
   "outputs": [],
   "source": [
    "winner = pd.DataFrame(predictions, columns=['winner_model_a', 'winner_model_b', 'winner_tie'])\n",
    "result = pd.concat([test['id'], winner], axis=1)\n",
    "result.to_csv('submission.csv', index=False)\n",
    "result"
   ]
  }
 ],
 "metadata": {
  "kaggle": {
   "accelerator": "gpu",
   "dataSources": [
    {
     "databundleVersionId": 8346466,
     "sourceId": 66631,
     "sourceType": "competition"
    },
    {
     "modelId": 60131,
     "modelInstanceId": 43529,
     "sourceId": 51747,
     "sourceType": "modelInstanceVersion"
    },
    {
     "isSourceIdPinned": true,
     "modelId": 71342,
     "modelInstanceId": 51944,
     "sourceId": 62188,
     "sourceType": "modelInstanceVersion"
    },
    {
     "isSourceIdPinned": true,
     "modelId": 2820,
     "modelInstanceId": 4687,
     "sourceId": 6066,
     "sourceType": "modelInstanceVersion"
    }
   ],
   "dockerImageVersionId": 30747,
   "isGpuEnabled": true,
   "isInternetEnabled": false,
   "language": "python",
   "sourceType": "notebook"
  },
  "kernelspec": {
   "display_name": "Python 3",
   "language": "python",
   "name": "python3"
  },
  "language_info": {
   "codemirror_mode": {
    "name": "ipython",
    "version": 3
   },
   "file_extension": ".py",
   "mimetype": "text/x-python",
   "name": "python",
   "nbconvert_exporter": "python",
   "pygments_lexer": "ipython3",
   "version": "3.10.13"
  }
 },
 "nbformat": 4,
 "nbformat_minor": 4
}
