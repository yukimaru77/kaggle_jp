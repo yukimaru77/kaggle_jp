{
 "cells": [
  {
   "cell_type": "markdown",
   "id": "fbd0612d",
   "metadata": {},
   "source": [
    "# Libraries"
   ]
  },
  {
   "cell_type": "code",
   "execution_count": null,
   "metadata": {
    "execution": {
     "iopub.execute_input": "2024-07-21T14:07:01.529353Z",
     "iopub.status.busy": "2024-07-21T14:07:01.528854Z",
     "iopub.status.idle": "2024-07-21T14:07:32.331129Z",
     "shell.execute_reply": "2024-07-21T14:07:32.329496Z",
     "shell.execute_reply.started": "2024-07-21T14:07:01.529317Z"
    }
   },
   "outputs": [],
   "source": [
    "!pip install  /kaggle/input/ftfy-dependeces/ftfy-6.2.0-py3-none-any.whl\n",
    "!pip install  /kaggle/input/textstat-dependencies/textstat-0.7.4-py3-none-any.whl"
   ]
  },
  {
   "cell_type": "code",
   "execution_count": null,
   "metadata": {
    "execution": {
     "iopub.execute_input": "2024-07-21T13:25:22.921243Z",
     "iopub.status.busy": "2024-07-21T13:25:22.920751Z",
     "iopub.status.idle": "2024-07-21T13:25:23.887017Z",
     "shell.execute_reply": "2024-07-21T13:25:23.885858Z",
     "shell.execute_reply.started": "2024-07-21T13:25:22.921206Z"
    }
   },
   "outputs": [],
   "source": [
    "import pandas as pd\n",
    "import textstat as ts\n",
    "import json\n",
    "from ftfy import fix_encoding\n",
    "from catboost import CatBoostClassifier,Pool\n",
    "from lightgbm import LGBMClassifier\n",
    "import numpy as np\n",
    "from sklearn.model_selection import StratifiedKFold\n",
    "from sklearn.metrics import log_loss\n",
    "\n",
    "from tqdm.notebook import tqdm\n",
    "tqdm.pandas()"
   ]
  },
  {
   "cell_type": "markdown",
   "id": "5aab40b4",
   "metadata": {},
   "source": [
    "# Data"
   ]
  },
  {
   "cell_type": "code",
   "execution_count": null,
   "metadata": {
    "execution": {
     "iopub.execute_input": "2024-07-21T13:25:24.024738Z",
     "iopub.status.busy": "2024-07-21T13:25:24.023562Z",
     "iopub.status.idle": "2024-07-21T13:25:26.228073Z",
     "shell.execute_reply": "2024-07-21T13:25:26.226512Z",
     "shell.execute_reply.started": "2024-07-21T13:25:24.024697Z"
    }
   },
   "outputs": [],
   "source": [
    "train_df = pd.read_csv(\"/kaggle/input/lmsys-chatbot-arena/train.csv\")\n",
    "test_df = pd.read_csv(\"/kaggle/input/lmsys-chatbot-arena/test.csv\")\n",
    "sample_df = pd.read_csv(\"/kaggle/input/lmsys-chatbot-arena/sample_submission.csv\")"
   ]
  },
  {
   "cell_type": "code",
   "execution_count": null,
   "metadata": {
    "execution": {
     "iopub.execute_input": "2024-07-21T13:25:26.230919Z",
     "iopub.status.busy": "2024-07-21T13:25:26.23048Z",
     "iopub.status.idle": "2024-07-21T13:25:32.544319Z",
     "shell.execute_reply": "2024-07-21T13:25:32.543223Z",
     "shell.execute_reply.started": "2024-07-21T13:25:26.230884Z"
    }
   },
   "outputs": [],
   "source": [
    "response_a = pd.read_csv(\"/kaggle/input/responses-textstat/response_a.csv\")\n",
    "response_b = pd.read_csv(\"/kaggle/input/responses-textstat/response_b.csv\")"
   ]
  },
  {
   "cell_type": "markdown",
   "id": "2a000fcf",
   "metadata": {},
   "source": [
    "## Get true data"
   ]
  },
  {
   "cell_type": "code",
   "execution_count": null,
   "metadata": {
    "execution": {
     "iopub.execute_input": "2024-07-21T13:25:32.546412Z",
     "iopub.status.busy": "2024-07-21T13:25:32.546036Z",
     "iopub.status.idle": "2024-07-21T13:25:32.552286Z",
     "shell.execute_reply": "2024-07-21T13:25:32.551035Z",
     "shell.execute_reply.started": "2024-07-21T13:25:32.546381Z"
    }
   },
   "outputs": [],
   "source": [
    "unused_columns = ['model_a', 'model_b', 'prompt', 'response_a', 'response_b', 'winner_model_a', 'winner_model_b', 'winner_tie', 'text_standard']"
   ]
  },
  {
   "cell_type": "code",
   "execution_count": null,
   "metadata": {
    "execution": {
     "iopub.execute_input": "2024-07-21T13:25:32.55646Z",
     "iopub.status.busy": "2024-07-21T13:25:32.555546Z",
     "iopub.status.idle": "2024-07-21T13:25:32.618161Z",
     "shell.execute_reply": "2024-07-21T13:25:32.616959Z",
     "shell.execute_reply.started": "2024-07-21T13:25:32.556421Z"
    }
   },
   "outputs": [],
   "source": [
    "textstat_train = response_a.drop(columns=unused_columns).merge(response_b.drop(columns=unused_columns), on='id')"
   ]
  },
  {
   "cell_type": "code",
   "execution_count": null,
   "metadata": {
    "execution": {
     "iopub.execute_input": "2024-07-21T13:25:32.62023Z",
     "iopub.status.busy": "2024-07-21T13:25:32.619783Z",
     "iopub.status.idle": "2024-07-21T13:25:34.286476Z",
     "shell.execute_reply": "2024-07-21T13:25:34.285231Z",
     "shell.execute_reply.started": "2024-07-21T13:25:32.620189Z"
    }
   },
   "outputs": [],
   "source": [
    "textstat_train = textstat_train.groupby('id').mean()\n",
    "textstat_train.to_csv('textstat.csv', index=False)"
   ]
  },
  {
   "cell_type": "code",
   "execution_count": null,
   "metadata": {
    "execution": {
     "iopub.execute_input": "2024-07-21T13:25:34.28908Z",
     "iopub.status.busy": "2024-07-21T13:25:34.2886Z",
     "iopub.status.idle": "2024-07-21T13:25:34.30682Z",
     "shell.execute_reply": "2024-07-21T13:25:34.305643Z",
     "shell.execute_reply.started": "2024-07-21T13:25:34.289038Z"
    }
   },
   "outputs": [],
   "source": [
    "X = textstat_train.copy()"
   ]
  },
  {
   "cell_type": "code",
   "execution_count": null,
   "metadata": {
    "execution": {
     "iopub.execute_input": "2024-07-21T13:25:34.308896Z",
     "iopub.status.busy": "2024-07-21T13:25:34.308438Z",
     "iopub.status.idle": "2024-07-21T13:25:35.264629Z",
     "shell.execute_reply": "2024-07-21T13:25:35.26349Z",
     "shell.execute_reply.started": "2024-07-21T13:25:34.308857Z"
    }
   },
   "outputs": [],
   "source": [
    "y = response_a[['id', 'winner_model_a', 'winner_model_b', 'winner_tie']].groupby('id').agg('max').apply(pd.Series.argmax, axis=1)\n",
    "y.head()"
   ]
  },
  {
   "cell_type": "code",
   "execution_count": null,
   "metadata": {
    "execution": {
     "iopub.execute_input": "2024-07-21T13:25:35.266756Z",
     "iopub.status.busy": "2024-07-21T13:25:35.26634Z",
     "iopub.status.idle": "2024-07-21T13:26:46.07099Z",
     "shell.execute_reply": "2024-07-21T13:26:46.069374Z",
     "shell.execute_reply.started": "2024-07-21T13:25:35.266714Z"
    }
   },
   "outputs": [],
   "source": [
    "skf = StratifiedKFold(n_splits=5, shuffle=True, random_state=2024)\n",
    "clfs = []\n",
    "scores = []\n",
    "for train_index, test_index in tqdm(skf.split(X, y), total=5):\n",
    "\n",
    "    X_train, X_test = X.iloc[train_index], X.iloc[test_index]\n",
    "    y_train, y_test = y.iloc[train_index], y.iloc[test_index]\n",
    "\n",
    "    # Специальный класс для ускорения обучения \n",
    "    train_dataset = Pool(data=X_train, label=y_train)\n",
    "    eval_dataset = Pool(data=X_test, label=y_test)\n",
    "\n",
    "    clf = CatBoostClassifier(\n",
    "        depth=6,\n",
    "        iterations=10000,\n",
    "        learning_rate=0.06,\n",
    "#         loss_function=\"MultiLogloss\",  # MultiLogloss\n",
    "        eval_metric = 'AUC', \n",
    "#         custom_metric=[\"Logloss\"],  # 'AUC / Accuracy,\n",
    "        \n",
    "        # Главная фишка катбуста - работа с категориальными признаками\n",
    "#         cat_features=cat_features,\n",
    "        # ignored_features = ignored_features,\n",
    "        \n",
    "        # Регуляризация и ускорение\n",
    "#         colsample_bylevel=0.4,\n",
    "#         subsample=0.95,\n",
    "        l2_leaf_reg=10,\n",
    "        min_data_in_leaf=50,\n",
    "        max_bin=70,\n",
    "        random_strength=1,\n",
    "        \n",
    "        # Параметры скорения\n",
    "        task_type=\"CPU\",    \n",
    "        thread_count=-1,\n",
    "        bootstrap_type=\"Bernoulli\", \n",
    "        \n",
    "        # Важное!\n",
    "        random_seed=2024,\n",
    "#         auto_class_weights=\"SqrtBalanced\",\n",
    "        early_stopping_rounds=200)\n",
    "\n",
    "    clfs.append(clf)\n",
    "\n",
    "    clf.fit(\n",
    "        train_dataset,\n",
    "        eval_set=eval_dataset,\n",
    "        verbose=200,\n",
    "        use_best_model=True,\n",
    "        plot=False)\n",
    "\n",
    "    scores.append(np.mean([v for k, v in clf.best_score_[\"validation\"].items() if \"Recall\" in k], dtype=\"float16\"))\n",
    "    # scores.append(clf.best_score_['validation']['MultiClass'])\n",
    "    # clf.save_model(\"../tmp_data/cool_catboost_model_{}_deep\".format(n))\n",
    "\n",
    "assert len(clfs) == 5"
   ]
  },
  {
   "cell_type": "markdown",
   "id": "219e1345",
   "metadata": {},
   "source": [
    "## Generate test"
   ]
  },
  {
   "cell_type": "code",
   "execution_count": null,
   "metadata": {
    "execution": {
     "iopub.execute_input": "2024-07-21T13:26:46.073168Z",
     "iopub.status.busy": "2024-07-21T13:26:46.072673Z",
     "iopub.status.idle": "2024-07-21T13:26:46.083793Z",
     "shell.execute_reply": "2024-07-21T13:26:46.082507Z",
     "shell.execute_reply.started": "2024-07-21T13:26:46.073124Z"
    }
   },
   "outputs": [],
   "source": [
    "df_test = pd.read_csv(\"/kaggle/input/lmsys-chatbot-arena/test.csv\")"
   ]
  },
  {
   "cell_type": "code",
   "execution_count": null,
   "metadata": {
    "execution": {
     "iopub.execute_input": "2024-07-21T13:26:46.088923Z",
     "iopub.status.busy": "2024-07-21T13:26:46.088491Z",
     "iopub.status.idle": "2024-07-21T13:26:46.098421Z",
     "shell.execute_reply": "2024-07-21T13:26:46.0968Z",
     "shell.execute_reply.started": "2024-07-21T13:26:46.088888Z"
    }
   },
   "outputs": [],
   "source": [
    "def get_exploded(df: pd.DataFrame) -> pd.DataFrame:\n",
    "    tmp = df.copy()\n",
    "    tmp[\"prompt\"] = tmp[\"prompt\"].progress_apply(lambda x: json.loads(fix_encoding(x)))\n",
    "    tmp[\"response_a\"] = tmp[\"response_a\"].progress_apply(lambda x: json.loads(fix_encoding(x)))\n",
    "    tmp[\"response_b\"] = tmp[\"response_b\"].progress_apply(lambda x: json.loads(fix_encoding(x)))\n",
    "\n",
    "    tmp = tmp.explode(['prompt', 'response_a', 'response_b'])\n",
    "    return tmp"
   ]
  },
  {
   "cell_type": "code",
   "execution_count": null,
   "metadata": {
    "execution": {
     "iopub.execute_input": "2024-07-21T13:26:46.100232Z",
     "iopub.status.busy": "2024-07-21T13:26:46.09984Z",
     "iopub.status.idle": "2024-07-21T13:26:46.116649Z",
     "shell.execute_reply": "2024-07-21T13:26:46.115037Z",
     "shell.execute_reply.started": "2024-07-21T13:26:46.100201Z"
    }
   },
   "outputs": [],
   "source": [
    "def get_features(df, column):\n",
    "    df = df.copy()\n",
    "    df['flesch_reading_ease'] = df[column].progress_apply(lambda x: ts.flesch_reading_ease(str(x)))\n",
    "    df['flesch_kincaid_grade'] = df[column].progress_apply(lambda x: ts.flesch_kincaid_grade(str(x)))\n",
    "    df['smog_index'] = df[column].progress_apply(lambda x: ts.smog_index(str(x)))\n",
    "    df['automated_readability_index'] = df[column].progress_apply(lambda x: ts.automated_readability_index(str(x)))\n",
    "    df['dale_chall_readability_score'] = df[column].progress_apply(lambda x: ts.dale_chall_readability_score(str(x)))\n",
    "    df['difficult_words'] = df[column].progress_apply(lambda x: ts.difficult_words(str(x)))\n",
    "    df['linsear_write_formula'] = df[column].progress_apply(lambda x: ts.linsear_write_formula(str(x)))\n",
    "    df['gunning_fog'] = df[column].progress_apply(lambda x: ts.gunning_fog(str(x)))\n",
    "    df['text_standard'] = df[column].progress_apply(lambda x: ts.text_standard(str(x)))\n",
    "    df['fernandez_huerta'] = df[column].progress_apply(lambda x: ts.fernandez_huerta(str(x)))\n",
    "    df['szigriszt_pazos'] = df[column].progress_apply(lambda x: ts.szigriszt_pazos(str(x)))\n",
    "    df['gutierrez_polini'] = df[column].progress_apply(lambda x: ts.gutierrez_polini(str(x)))\n",
    "    df['crawford'] = df[column].progress_apply(lambda x: ts.crawford(str(x)))\n",
    "#     df['gulpease_index'] = df[column].progress_apply(lambda x: ts.gulpease_index(str(x)))\n",
    "#     df['osman'] = df[column].progress_apply(lambda x: ts.osman(str(x)))\n",
    "    return df"
   ]
  },
  {
   "cell_type": "code",
   "execution_count": null,
   "metadata": {
    "collapsed": true,
    "execution": {
     "iopub.execute_input": "2024-07-21T13:26:46.11913Z",
     "iopub.status.busy": "2024-07-21T13:26:46.118423Z",
     "iopub.status.idle": "2024-07-21T13:26:46.696465Z",
     "shell.execute_reply": "2024-07-21T13:26:46.695151Z",
     "shell.execute_reply.started": "2024-07-21T13:26:46.11908Z"
    },
    "jupyter": {
     "outputs_hidden": true
    }
   },
   "outputs": [],
   "source": [
    "test_expl = get_exploded(df_test)\n",
    "test_a = get_features(test_expl, 'response_a')\n",
    "test_b = get_features(test_expl, 'response_b')"
   ]
  },
  {
   "cell_type": "code",
   "execution_count": null,
   "metadata": {
    "execution": {
     "iopub.execute_input": "2024-07-21T13:27:26.214423Z",
     "iopub.status.busy": "2024-07-21T13:27:26.213884Z",
     "iopub.status.idle": "2024-07-21T13:27:26.271449Z",
     "shell.execute_reply": "2024-07-21T13:27:26.270046Z",
     "shell.execute_reply.started": "2024-07-21T13:27:26.214382Z"
    }
   },
   "outputs": [],
   "source": [
    "unused_columns = ['prompt', 'response_a', 'response_b', 'text_standard']\n",
    "textstat_test = test_a.drop(columns=unused_columns).merge(test_b.drop(columns=unused_columns), on='id')\n",
    "test = textstat_test.groupby('id').mean()\n",
    "test"
   ]
  },
  {
   "cell_type": "code",
   "execution_count": null,
   "metadata": {
    "execution": {
     "iopub.execute_input": "2024-07-21T13:29:04.572765Z",
     "iopub.status.busy": "2024-07-21T13:29:04.571529Z",
     "iopub.status.idle": "2024-07-21T13:29:04.611197Z",
     "shell.execute_reply": "2024-07-21T13:29:04.609612Z",
     "shell.execute_reply.started": "2024-07-21T13:29:04.572675Z"
    }
   },
   "outputs": [],
   "source": [
    "y_pred = []\n",
    "for clf in tqdm(clfs, total=len(clfs)):\n",
    "    y_predict = clf.predict_proba(test)\n",
    "    y_pred.append(y_predict)"
   ]
  },
  {
   "cell_type": "code",
   "execution_count": null,
   "metadata": {
    "execution": {
     "iopub.execute_input": "2024-07-21T13:29:33.270838Z",
     "iopub.status.busy": "2024-07-21T13:29:33.270273Z",
     "iopub.status.idle": "2024-07-21T13:29:33.277987Z",
     "shell.execute_reply": "2024-07-21T13:29:33.276271Z",
     "shell.execute_reply.started": "2024-07-21T13:29:33.270793Z"
    }
   },
   "outputs": [],
   "source": [
    "y_pred = sum(y_pred) / len(y_pred)"
   ]
  },
  {
   "cell_type": "markdown",
   "id": "bd6f1cbf",
   "metadata": {},
   "source": [
    "# Submition"
   ]
  },
  {
   "cell_type": "code",
   "execution_count": null,
   "metadata": {
    "execution": {
     "iopub.execute_input": "2024-07-21T13:34:19.654822Z",
     "iopub.status.busy": "2024-07-21T13:34:19.654344Z",
     "iopub.status.idle": "2024-07-21T13:34:19.665638Z",
     "shell.execute_reply": "2024-07-21T13:34:19.664459Z",
     "shell.execute_reply.started": "2024-07-21T13:34:19.654786Z"
    }
   },
   "outputs": [],
   "source": [
    "sample_df = pd.read_csv('/kaggle/input/lmsys-chatbot-arena/sample_submission.csv')"
   ]
  },
  {
   "cell_type": "code",
   "execution_count": null,
   "metadata": {
    "execution": {
     "iopub.execute_input": "2024-07-21T13:34:20.55522Z",
     "iopub.status.busy": "2024-07-21T13:34:20.554787Z",
     "iopub.status.idle": "2024-07-21T13:34:20.562322Z",
     "shell.execute_reply": "2024-07-21T13:34:20.561033Z",
     "shell.execute_reply.started": "2024-07-21T13:34:20.555187Z"
    }
   },
   "outputs": [],
   "source": [
    "sample_df[['winner_model_a', 'winner_model_b', 'winner_tie']] = y_pred"
   ]
  },
  {
   "cell_type": "code",
   "execution_count": null,
   "metadata": {
    "execution": {
     "iopub.execute_input": "2024-07-21T13:34:21.243221Z",
     "iopub.status.busy": "2024-07-21T13:34:21.242464Z",
     "iopub.status.idle": "2024-07-21T13:34:21.258563Z",
     "shell.execute_reply": "2024-07-21T13:34:21.25683Z",
     "shell.execute_reply.started": "2024-07-21T13:34:21.243177Z"
    }
   },
   "outputs": [],
   "source": [
    "sample_df.head()"
   ]
  },
  {
   "cell_type": "code",
   "execution_count": null,
   "metadata": {
    "execution": {
     "iopub.execute_input": "2024-07-21T13:34:22.149354Z",
     "iopub.status.busy": "2024-07-21T13:34:22.148883Z",
     "iopub.status.idle": "2024-07-21T13:34:22.158573Z",
     "shell.execute_reply": "2024-07-21T13:34:22.15721Z",
     "shell.execute_reply.started": "2024-07-21T13:34:22.149319Z"
    }
   },
   "outputs": [],
   "source": [
    "sample_df.to_csv('submission.csv', index=False)"
   ]
  }
 ],
 "metadata": {
  "kaggle": {
   "accelerator": "none",
   "dataSources": [
    {
     "databundleVersionId": 8346466,
     "sourceId": 66631,
     "sourceType": "competition"
    },
    {
     "datasetId": 5383460,
     "sourceId": 8946182,
     "sourceType": "datasetVersion"
    },
    {
     "datasetId": 5422910,
     "sourceId": 9002093,
     "sourceType": "datasetVersion"
    },
    {
     "datasetId": 5423918,
     "sourceId": 9003468,
     "sourceType": "datasetVersion"
    }
   ],
   "dockerImageVersionId": 30746,
   "isGpuEnabled": false,
   "isInternetEnabled": false,
   "language": "python",
   "sourceType": "notebook"
  },
  "kernelspec": {
   "display_name": "Python 3",
   "language": "python",
   "name": "python3"
  },
  "language_info": {
   "codemirror_mode": {
    "name": "ipython",
    "version": 3
   },
   "file_extension": ".py",
   "mimetype": "text/x-python",
   "name": "python",
   "nbconvert_exporter": "python",
   "pygments_lexer": "ipython3",
   "version": "3.10.13"
  }
 },
 "nbformat": 4,
 "nbformat_minor": 4
}
