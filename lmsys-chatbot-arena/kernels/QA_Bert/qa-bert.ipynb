{
 "cells": [
  {
   "cell_type": "markdown",
   "id": "af52c6c0",
   "metadata": {},
   "source": [
    "# Libraries"
   ]
  },
  {
   "cell_type": "code",
   "execution_count": null,
   "metadata": {
    "execution": {
     "iopub.execute_input": "2024-07-21T14:04:32.041364Z",
     "iopub.status.busy": "2024-07-21T14:04:32.040604Z",
     "iopub.status.idle": "2024-07-21T14:04:44.568689Z",
     "shell.execute_reply": "2024-07-21T14:04:44.567523Z",
     "shell.execute_reply.started": "2024-07-21T14:04:32.041328Z"
    }
   },
   "outputs": [],
   "source": [
    "!pip install /kaggle/input/ftfy-dependeces/ftfy-6.2.0-py3-none-any.whl"
   ]
  },
  {
   "cell_type": "code",
   "execution_count": null,
   "metadata": {
    "execution": {
     "iopub.execute_input": "2024-07-21T14:04:44.571646Z",
     "iopub.status.busy": "2024-07-21T14:04:44.571219Z",
     "iopub.status.idle": "2024-07-21T14:04:52.397912Z",
     "shell.execute_reply": "2024-07-21T14:04:52.397059Z",
     "shell.execute_reply.started": "2024-07-21T14:04:44.571605Z"
    }
   },
   "outputs": [],
   "source": [
    "import pandas as pd\n",
    "# from sklearn.linear_model import LogisticRegression\n",
    "from catboost import CatBoostClassifier\n",
    "from sklearn.model_selection import StratifiedKFold\n",
    "from sklearn.metrics import log_loss\n",
    "from transformers import AutoModelForQuestionAnswering, AutoTokenizer, pipeline\n",
    "from ftfy import fix_encoding\n",
    "import re\n",
    "import nltk\n",
    "from nltk.corpus import stopwords\n",
    "# nltk.download('stopwords')\n",
    "from torch.utils.data import Dataset\n",
    "import torch\n",
    "import json\n",
    "import optuna\n",
    "import numpy as np\n",
    "\n",
    "from tqdm.auto import tqdm\n",
    "tqdm.pandas()"
   ]
  },
  {
   "cell_type": "code",
   "execution_count": null,
   "metadata": {
    "execution": {
     "iopub.execute_input": "2024-07-21T14:04:52.399511Z",
     "iopub.status.busy": "2024-07-21T14:04:52.398977Z",
     "iopub.status.idle": "2024-07-21T14:04:52.409386Z",
     "shell.execute_reply": "2024-07-21T14:04:52.408376Z",
     "shell.execute_reply.started": "2024-07-21T14:04:52.399485Z"
    }
   },
   "outputs": [],
   "source": [
    "stop_words = pd.read_csv(\"/kaggle/input/nltk-english-stopwords/nltk_eng_stopwords.csv\")[\"list_of_stopwords\"].tolist()"
   ]
  },
  {
   "cell_type": "markdown",
   "id": "7402a2ba",
   "metadata": {},
   "source": [
    "# Load Data"
   ]
  },
  {
   "cell_type": "code",
   "execution_count": null,
   "metadata": {
    "execution": {
     "iopub.execute_input": "2024-07-21T14:04:52.411825Z",
     "iopub.status.busy": "2024-07-21T14:04:52.411529Z",
     "iopub.status.idle": "2024-07-21T14:04:54.210559Z",
     "shell.execute_reply": "2024-07-21T14:04:54.209787Z",
     "shell.execute_reply.started": "2024-07-21T14:04:52.411799Z"
    }
   },
   "outputs": [],
   "source": [
    "train_df = pd.read_csv(\"/kaggle/input/lmsys-chatbot-arena/train.csv\")\n",
    "test_df = pd.read_csv(\"/kaggle/input/lmsys-chatbot-arena/test.csv\")\n",
    "sample_df = pd.read_csv(\"/kaggle/input/lmsys-chatbot-arena/sample_submission.csv\")"
   ]
  },
  {
   "cell_type": "code",
   "execution_count": null,
   "metadata": {
    "execution": {
     "iopub.execute_input": "2024-07-21T14:04:54.212053Z",
     "iopub.status.busy": "2024-07-21T14:04:54.211708Z",
     "iopub.status.idle": "2024-07-21T14:04:54.216387Z",
     "shell.execute_reply": "2024-07-21T14:04:54.215251Z",
     "shell.execute_reply.started": "2024-07-21T14:04:54.212021Z"
    }
   },
   "outputs": [],
   "source": [
    "# if test_df.shape[0] < 10:\n",
    "#     train_df = train_df[:100]"
   ]
  },
  {
   "cell_type": "code",
   "execution_count": null,
   "metadata": {
    "execution": {
     "iopub.execute_input": "2024-07-21T14:04:54.2178Z",
     "iopub.status.busy": "2024-07-21T14:04:54.217506Z",
     "iopub.status.idle": "2024-07-21T14:04:54.226704Z",
     "shell.execute_reply": "2024-07-21T14:04:54.225843Z",
     "shell.execute_reply.started": "2024-07-21T14:04:54.217776Z"
    }
   },
   "outputs": [],
   "source": [
    "def get_exploded(df: pd.DataFrame) -> pd.DataFrame:\n",
    "    tmp = df.copy()\n",
    "    tmp[\"prompt\"] = tmp[\"prompt\"].progress_apply(lambda x: json.loads(fix_encoding(x)))\n",
    "    tmp[\"response_a\"] = tmp[\"response_a\"].progress_apply(lambda x: json.loads(fix_encoding(x)))\n",
    "    tmp[\"response_b\"] = tmp[\"response_b\"].progress_apply(lambda x: json.loads(fix_encoding(x)))\n",
    "\n",
    "    tmp = tmp.explode(['prompt', 'response_a', 'response_b'])\n",
    "    return tmp"
   ]
  },
  {
   "cell_type": "code",
   "execution_count": null,
   "metadata": {
    "execution": {
     "iopub.execute_input": "2024-07-21T14:04:54.228027Z",
     "iopub.status.busy": "2024-07-21T14:04:54.22773Z",
     "iopub.status.idle": "2024-07-21T14:04:58.793421Z",
     "shell.execute_reply": "2024-07-21T14:04:58.79272Z",
     "shell.execute_reply.started": "2024-07-21T14:04:54.228004Z"
    }
   },
   "outputs": [],
   "source": [
    "tmp_train = get_exploded(train_df)\n",
    "tmp_test = get_exploded(test_df)"
   ]
  },
  {
   "cell_type": "code",
   "execution_count": null,
   "metadata": {
    "execution": {
     "iopub.execute_input": "2024-07-21T14:04:58.795458Z",
     "iopub.status.busy": "2024-07-21T14:04:58.795197Z",
     "iopub.status.idle": "2024-07-21T14:05:04.579552Z",
     "shell.execute_reply": "2024-07-21T14:05:04.578552Z",
     "shell.execute_reply.started": "2024-07-21T14:04:58.795434Z"
    }
   },
   "outputs": [],
   "source": [
    "class MyDataset(Dataset):\n",
    "    def __init__(self, df, col):\n",
    "        self.col = col\n",
    "        self.df = df.copy()\n",
    "        \n",
    "        self.df[\"prompt\"] = self.df[\"prompt\"].progress_apply(self.fix_encode)\n",
    "        self.df[col] = self.df[col].progress_apply(self.fix_encode)\n",
    "        \n",
    "        self.df = self.df.explode(['prompt', col])\n",
    "    \n",
    "    def fix_encode(self, x):\n",
    "        return json.loads(fix_encoding(x))\n",
    "\n",
    "    def __len__(self):\n",
    "        return len(self.df)\n",
    "\n",
    "    def __getitem__(self, i):\n",
    "        QA_input = {}\n",
    "        QA_input['question'] = str(self.df.iloc[i][\"prompt\"])\n",
    "        QA_input['context'] = str(self.df.iloc[i][self.col])\n",
    "        \n",
    "        if not QA_input['question']:\n",
    "#             print(True)\n",
    "            QA_input['question'] = 'empty_text' * 10\n",
    "        if not QA_input['context']:\n",
    "#             print(True)\n",
    "            QA_input['context'] = 'empty_text' * 10\n",
    "        \n",
    "        QA_input['question'] = QA_input['question'][:510]\n",
    "        QA_input['context'] = QA_input['context'][:510]\n",
    "\n",
    "        return QA_input\n",
    "\n",
    "\n",
    "dataset_a = MyDataset(train_df, col='response_a')\n",
    "dataset_b = MyDataset(train_df, col='response_b')\n",
    "\n",
    "dataset_a_test = MyDataset(test_df, col='response_a')\n",
    "dataset_b_test = MyDataset(test_df, col='response_b')"
   ]
  },
  {
   "cell_type": "code",
   "execution_count": null,
   "metadata": {
    "execution": {
     "iopub.execute_input": "2024-07-21T14:05:04.581181Z",
     "iopub.status.busy": "2024-07-21T14:05:04.580871Z",
     "iopub.status.idle": "2024-07-21T14:05:04.587378Z",
     "shell.execute_reply": "2024-07-21T14:05:04.586473Z",
     "shell.execute_reply.started": "2024-07-21T14:05:04.581156Z"
    }
   },
   "outputs": [],
   "source": [
    "len(dataset_a)"
   ]
  },
  {
   "cell_type": "code",
   "execution_count": null,
   "metadata": {
    "execution": {
     "iopub.execute_input": "2024-07-21T14:05:04.590398Z",
     "iopub.status.busy": "2024-07-21T14:05:04.590078Z",
     "iopub.status.idle": "2024-07-21T14:05:04.603032Z",
     "shell.execute_reply": "2024-07-21T14:05:04.602179Z",
     "shell.execute_reply.started": "2024-07-21T14:05:04.590373Z"
    }
   },
   "outputs": [],
   "source": [
    "outs_dict = {'dataset_a': [], 'dataset_b': []}\n",
    "outs_dict_test = {'dataset_a': [], 'dataset_b': []}"
   ]
  },
  {
   "cell_type": "markdown",
   "id": "15d435ed",
   "metadata": {},
   "source": [
    "# Models\n",
    "\n",
    "## Generate Score"
   ]
  },
  {
   "cell_type": "code",
   "execution_count": null,
   "metadata": {
    "execution": {
     "iopub.execute_input": "2024-07-21T14:05:04.6043Z",
     "iopub.status.busy": "2024-07-21T14:05:04.604061Z",
     "iopub.status.idle": "2024-07-21T14:05:04.615026Z",
     "shell.execute_reply": "2024-07-21T14:05:04.614118Z",
     "shell.execute_reply.started": "2024-07-21T14:05:04.604279Z"
    }
   },
   "outputs": [],
   "source": [
    "model_list = [\n",
    "    \"deepset/roberta-base-squad2\",\n",
    "    \"deepset/deberta-v3-base-squad2\",\n",
    "    \"distilbert/distilbert-base-cased-distilled-squad\"\n",
    "#     \"Palak/microsoft_deberta-large_squad\"\n",
    "#     'distilbert/distilbert-base-cased-distilled-squad',\n",
    "#     'deepset/bert-large-uncased-whole-word-masking-squad2'\n",
    "]\n",
    "\n",
    "model_list_kaggle = model_list.copy()\n",
    "for i, model_name in enumerate(model_list_kaggle):\n",
    "    model_list_kaggle[i] = '/kaggle/input/deberta-v3-base/' + model_name\n",
    "model_list_kaggle"
   ]
  },
  {
   "cell_type": "code",
   "execution_count": null,
   "metadata": {
    "execution": {
     "iopub.execute_input": "2024-07-21T14:05:04.616484Z",
     "iopub.status.busy": "2024-07-21T14:05:04.616204Z",
     "iopub.status.idle": "2024-07-21T14:05:09.461446Z",
     "shell.execute_reply": "2024-07-21T14:05:09.460435Z",
     "shell.execute_reply.started": "2024-07-21T14:05:04.61646Z"
    }
   },
   "outputs": [],
   "source": [
    "nlp_list = []\n",
    "\n",
    "for model_name in model_list_kaggle:\n",
    "    model = AutoModelForQuestionAnswering.from_pretrained(model_name)\n",
    "    tokenizer = AutoTokenizer.from_pretrained(model_name, padding=True, truncation=True)\n",
    "    \n",
    "    nlp = pipeline('question-answering', model=model, tokenizer=tokenizer, device='cuda',torch_dtype=torch.float16)\n",
    "    \n",
    "    nlp_list.append(nlp)"
   ]
  },
  {
   "cell_type": "code",
   "execution_count": null,
   "metadata": {
    "execution": {
     "iopub.execute_input": "2024-07-21T14:05:09.463387Z",
     "iopub.status.busy": "2024-07-21T14:05:09.462757Z",
     "iopub.status.idle": "2024-07-21T14:05:12.762358Z",
     "shell.execute_reply": "2024-07-21T14:05:12.761387Z",
     "shell.execute_reply.started": "2024-07-21T14:05:09.46335Z"
    }
   },
   "outputs": [],
   "source": [
    "for model_name, pipeline in tqdm(zip(model_list, nlp_list), total=len(nlp_list)):\n",
    "    pipeline.save_pretrained(model_name)"
   ]
  },
  {
   "cell_type": "code",
   "execution_count": null,
   "metadata": {
    "execution": {
     "iopub.execute_input": "2024-07-21T14:05:32.063044Z",
     "iopub.status.busy": "2024-07-21T14:05:32.062232Z",
     "iopub.status.idle": "2024-07-21T14:05:32.067584Z",
     "shell.execute_reply": "2024-07-21T14:05:32.066565Z",
     "shell.execute_reply.started": "2024-07-21T14:05:32.063014Z"
    }
   },
   "outputs": [],
   "source": [
    "def get_outs(model_list):\n",
    "    outs_dict = {}\n",
    "    for model_name in model_list:\n",
    "        outs_dict[f'{model_name}-a'] = []\n",
    "        outs_dict[f'{model_name}-b'] = []\n",
    "    return outs_dict"
   ]
  },
  {
   "cell_type": "code",
   "execution_count": null,
   "metadata": {
    "execution": {
     "iopub.execute_input": "2024-07-21T14:05:32.238931Z",
     "iopub.status.busy": "2024-07-21T14:05:32.238551Z",
     "iopub.status.idle": "2024-07-21T14:05:32.245541Z",
     "shell.execute_reply": "2024-07-21T14:05:32.244702Z",
     "shell.execute_reply.started": "2024-07-21T14:05:32.238903Z"
    }
   },
   "outputs": [],
   "source": [
    "outs_train = get_outs(model_list)\n",
    "outs_test = get_outs(model_list)"
   ]
  },
  {
   "cell_type": "code",
   "execution_count": null,
   "metadata": {
    "execution": {
     "iopub.execute_input": "2024-07-21T14:05:33.44427Z",
     "iopub.status.busy": "2024-07-21T14:05:33.443578Z",
     "iopub.status.idle": "2024-07-21T14:05:33.448355Z",
     "shell.execute_reply": "2024-07-21T14:05:33.447388Z",
     "shell.execute_reply.started": "2024-07-21T14:05:33.444237Z"
    }
   },
   "outputs": [],
   "source": [
    "# tokenizer_kwargs = {\"truncation\": True, 'max_length': 512, 'padding': True}"
   ]
  },
  {
   "cell_type": "code",
   "execution_count": null,
   "metadata": {
    "execution": {
     "iopub.execute_input": "2024-07-21T14:05:33.626432Z",
     "iopub.status.busy": "2024-07-21T14:05:33.62601Z",
     "iopub.status.idle": "2024-07-21T14:05:33.633675Z",
     "shell.execute_reply": "2024-07-21T14:05:33.632731Z",
     "shell.execute_reply.started": "2024-07-21T14:05:33.626399Z"
    }
   },
   "outputs": [],
   "source": [
    "def get_score(nlp, dataset) -> list:\n",
    "    scores = []\n",
    "    for sample in tqdm(dataset, total=len(dataset)):\n",
    "        try:\n",
    "            out = nlp(sample, doc_stride=47)\n",
    "        except:\n",
    "            print('omom')\n",
    "            out = {}\n",
    "            out['score'] = 0\n",
    "        scores.append(out['score'])\n",
    "#     for out in tqdm(nlp(dataset, \n",
    "#         handle_impossible_answer=True,\n",
    "#         max_seq_len=384,\n",
    "#         ), total=len(dataset)):\n",
    "#         scores.append(out['score'])\n",
    "    return scores"
   ]
  },
  {
   "cell_type": "code",
   "execution_count": null,
   "metadata": {
    "execution": {
     "iopub.execute_input": "2024-07-21T14:05:34.012511Z",
     "iopub.status.busy": "2024-07-21T14:05:34.011871Z"
    }
   },
   "outputs": [],
   "source": [
    "for model_name, nlp in tqdm(zip(model_list, nlp_list), total=len(model_list)):\n",
    "    outs_train[f'{model_name}-a'] = get_score(nlp, dataset_a)\n",
    "    outs_train[f'{model_name}-b'] = get_score(nlp, dataset_b)\n",
    "    \n",
    "    outs_test[f'{model_name}-a'] = get_score(nlp, dataset_a_test)\n",
    "    outs_test[f'{model_name}-b'] = get_score(nlp, dataset_b_test)\n",
    "    \n",
    "    del nlp"
   ]
  },
  {
   "cell_type": "code",
   "execution_count": null,
   "metadata": {},
   "outputs": [],
   "source": [
    "outs_train = pd.DataFrame(outs_train)\n",
    "outs_test = pd.DataFrame(outs_test)"
   ]
  },
  {
   "cell_type": "code",
   "execution_count": null,
   "metadata": {},
   "outputs": [],
   "source": [
    "outs_train.head()"
   ]
  },
  {
   "cell_type": "code",
   "execution_count": null,
   "metadata": {},
   "outputs": [],
   "source": [
    "df_bert = pd.concat([outs_train, tmp_train[['id', 'winner_model_a', 'winner_model_b', 'winner_tie']].reset_index()], axis=1).drop('index', axis=1)\n",
    "df_bert_test = pd.concat([outs_test, tmp_test['id'].reset_index()], axis=1).drop('index', axis=1)\n",
    "df_bert.head()"
   ]
  },
  {
   "cell_type": "code",
   "execution_count": null,
   "metadata": {},
   "outputs": [],
   "source": [
    "model_dataset = outs_train.columns\n",
    "model_dataset"
   ]
  },
  {
   "cell_type": "code",
   "execution_count": null,
   "metadata": {},
   "outputs": [],
   "source": [
    "df_bert_train = df_bert.groupby('id').mean()\n",
    "\n",
    "df_bert_test = df_bert_test.groupby('id').mean()"
   ]
  },
  {
   "cell_type": "code",
   "execution_count": null,
   "metadata": {},
   "outputs": [],
   "source": [
    "df_bert_train.to_csv('df_bert_train.csv', index=False)\n",
    "df_bert_test.to_csv('df_bert_test.csv', index=False)"
   ]
  },
  {
   "cell_type": "code",
   "execution_count": null,
   "metadata": {},
   "outputs": [],
   "source": [
    "df_bert_train.head()"
   ]
  },
  {
   "cell_type": "markdown",
   "id": "2d0195e5",
   "metadata": {},
   "source": [
    "## Collect in one column"
   ]
  },
  {
   "cell_type": "code",
   "execution_count": null,
   "metadata": {},
   "outputs": [],
   "source": [
    "df_bert_train['winner'] = df_bert_train[['winner_model_a', 'winner_model_b', 'winner_tie']].apply(np.argmax, axis=1)\n",
    "df_bert_train.head(2)"
   ]
  },
  {
   "cell_type": "code",
   "execution_count": null,
   "metadata": {},
   "outputs": [],
   "source": [
    "df_bert_train.drop(columns=['winner_model_a', 'winner_model_b', 'winner_tie'], inplace=True)"
   ]
  },
  {
   "cell_type": "code",
   "execution_count": null,
   "metadata": {},
   "outputs": [],
   "source": [
    "df_bert_train.head(2)"
   ]
  },
  {
   "cell_type": "code",
   "execution_count": null,
   "metadata": {},
   "outputs": [],
   "source": [
    "df_bert_train.to_csv('deberts.csv', index=False)"
   ]
  },
  {
   "cell_type": "markdown",
   "id": "331aa244",
   "metadata": {},
   "source": [
    "## Train model"
   ]
  },
  {
   "cell_type": "code",
   "execution_count": null,
   "metadata": {},
   "outputs": [],
   "source": [
    "model = CatBoostClassifier(verbose=False, random_state=2024)"
   ]
  },
  {
   "cell_type": "code",
   "execution_count": null,
   "metadata": {},
   "outputs": [],
   "source": [
    "target = 'winner'"
   ]
  },
  {
   "cell_type": "code",
   "execution_count": null,
   "metadata": {},
   "outputs": [],
   "source": [
    "df_bert_train.head()"
   ]
  },
  {
   "cell_type": "code",
   "execution_count": null,
   "metadata": {},
   "outputs": [],
   "source": [
    "X_train = df_bert_train.drop(columns=target)\n",
    "y_train = df_bert_train[target]"
   ]
  },
  {
   "cell_type": "code",
   "execution_count": null,
   "metadata": {},
   "outputs": [],
   "source": [
    "model.fit(X_train, y_train)"
   ]
  },
  {
   "cell_type": "code",
   "execution_count": null,
   "metadata": {},
   "outputs": [],
   "source": [
    "y_pred = model.predict_proba(df_bert_test)\n",
    "y_pred"
   ]
  },
  {
   "cell_type": "markdown",
   "id": "d46dd406",
   "metadata": {},
   "source": [
    "# Submit"
   ]
  },
  {
   "cell_type": "code",
   "execution_count": null,
   "metadata": {},
   "outputs": [],
   "source": [
    "sample_df[['winner_model_a', 'winner_model_b', 'winner_tie']] = y_pred"
   ]
  },
  {
   "cell_type": "code",
   "execution_count": null,
   "metadata": {},
   "outputs": [],
   "source": [
    "sample_df"
   ]
  },
  {
   "cell_type": "code",
   "execution_count": null,
   "metadata": {},
   "outputs": [],
   "source": [
    "sample_df.to_csv('submission.csv', index=False)"
   ]
  }
 ],
 "metadata": {
  "kaggle": {
   "accelerator": "gpu",
   "dataSources": [
    {
     "databundleVersionId": 8346466,
     "sourceId": 66631,
     "sourceType": "competition"
    },
    {
     "databundleVersionId": 9164256,
     "datasetId": 5392932,
     "sourceId": 8998220,
     "sourceType": "datasetVersion"
    },
    {
     "databundleVersionId": 9109222,
     "datasetId": 5383460,
     "sourceId": 8946182,
     "sourceType": "datasetVersion"
    },
    {
     "databundleVersionId": 2993549,
     "datasetId": 1806231,
     "sourceId": 2946034,
     "sourceType": "datasetVersion"
    }
   ],
   "dockerImageVersionId": 30747,
   "isGpuEnabled": true,
   "isInternetEnabled": false,
   "language": "python",
   "sourceType": "notebook"
  },
  "kernelspec": {
   "display_name": "Python 3",
   "language": "python",
   "name": "python3"
  },
  "language_info": {
   "codemirror_mode": {
    "name": "ipython",
    "version": 3
   },
   "file_extension": ".py",
   "mimetype": "text/x-python",
   "name": "python",
   "nbconvert_exporter": "python",
   "pygments_lexer": "ipython3",
   "version": "3.10.13"
  }
 },
 "nbformat": 4,
 "nbformat_minor": 4
}
