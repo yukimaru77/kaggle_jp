{
 "cells": [
  {
   "cell_type": "markdown",
   "id": "3714513d",
   "metadata": {},
   "source": [
    "# LMSYS Keywords torch RoBERTa\n",
    "under internet on condition\n",
    "\n",
    "https://www.kaggle.com/code/stpeteishii/lmsys-prompt-response-words-keybert"
   ]
  },
  {
   "cell_type": "code",
   "execution_count": null,
   "metadata": {
    "execution": {
     "iopub.execute_input": "2024-07-23T09:22:50.432157Z",
     "iopub.status.busy": "2024-07-23T09:22:50.431872Z",
     "iopub.status.idle": "2024-07-23T09:23:02.326852Z",
     "shell.execute_reply": "2024-07-23T09:23:02.325671Z",
     "shell.execute_reply.started": "2024-07-23T09:22:50.432132Z"
    },
    "papermill": {
     "duration": 13.253789,
     "end_time": "2023-06-28T07:17:40.715086",
     "exception": false,
     "start_time": "2023-06-28T07:17:27.461297",
     "status": "completed"
    },
    "tags": []
   },
   "outputs": [],
   "source": [
    "!pip install chardet"
   ]
  },
  {
   "cell_type": "code",
   "execution_count": null,
   "metadata": {
    "execution": {
     "iopub.execute_input": "2024-07-23T09:23:02.328852Z",
     "iopub.status.busy": "2024-07-23T09:23:02.328537Z",
     "iopub.status.idle": "2024-07-23T09:23:02.33341Z",
     "shell.execute_reply": "2024-07-23T09:23:02.332436Z",
     "shell.execute_reply.started": "2024-07-23T09:23:02.328825Z"
    },
    "papermill": {
     "duration": 0.020191,
     "end_time": "2023-06-28T07:17:40.747178",
     "exception": false,
     "start_time": "2023-06-28T07:17:40.726987",
     "status": "completed"
    },
    "tags": []
   },
   "outputs": [],
   "source": [
    "#debug = False\n",
    "#debug2 = False"
   ]
  },
  {
   "cell_type": "code",
   "execution_count": null,
   "metadata": {
    "execution": {
     "iopub.execute_input": "2024-07-23T09:23:02.336693Z",
     "iopub.status.busy": "2024-07-23T09:23:02.334581Z",
     "iopub.status.idle": "2024-07-23T09:23:02.349212Z",
     "shell.execute_reply": "2024-07-23T09:23:02.348327Z",
     "shell.execute_reply.started": "2024-07-23T09:23:02.336668Z"
    },
    "papermill": {
     "duration": 6.118647,
     "end_time": "2023-06-28T07:17:46.877542",
     "exception": false,
     "start_time": "2023-06-28T07:17:40.758895",
     "status": "completed"
    },
    "tags": []
   },
   "outputs": [],
   "source": [
    "import numpy as np \n",
    "import pandas as pd \n",
    "import os\n",
    "from sklearn.metrics import mean_squared_error\n",
    "from sklearn.model_selection import StratifiedKFold\n",
    "import torch\n",
    "import torch.nn as nn\n",
    "from torch.utils.data import DataLoader, Dataset\n",
    "from tqdm import tqdm\n",
    "import matplotlib.pyplot as plt \n",
    "import transformers\n",
    "from transformers import AutoTokenizer, AutoModelForSequenceClassification\n",
    "import random\n",
    "import chardet\n",
    "import warnings\n",
    "warnings.simplefilter('ignore')\n",
    "scaler = torch.cuda.amp.GradScaler() \n",
    "device = torch.device('cuda' if torch.cuda.is_available() else 'cpu')\n",
    "device"
   ]
  },
  {
   "cell_type": "code",
   "execution_count": null,
   "metadata": {
    "execution": {
     "iopub.execute_input": "2024-07-23T09:23:02.350557Z",
     "iopub.status.busy": "2024-07-23T09:23:02.350258Z",
     "iopub.status.idle": "2024-07-23T09:23:02.360647Z",
     "shell.execute_reply": "2024-07-23T09:23:02.359898Z",
     "shell.execute_reply.started": "2024-07-23T09:23:02.350535Z"
    },
    "papermill": {
     "duration": 0.026662,
     "end_time": "2023-06-28T07:17:46.916292",
     "exception": false,
     "start_time": "2023-06-28T07:17:46.88963",
     "status": "completed"
    },
    "tags": []
   },
   "outputs": [],
   "source": [
    "def random_seed(SEED):\n",
    "    \n",
    "    random.seed(SEED)\n",
    "    os.environ['PYTHONHASHSEED'] = str(SEED)\n",
    "    np.random.seed(SEED)\n",
    "    torch.manual_seed(SEED)\n",
    "    torch.cuda.manual_seed(SEED)\n",
    "    torch.cuda.manual_seed_all(SEED)\n",
    "    torch.backends.cudnn.deterministic = True\n",
    "    \n",
    "SEED = 508\n",
    "random_seed(SEED)"
   ]
  },
  {
   "cell_type": "markdown",
   "id": "085a0f7e",
   "metadata": {},
   "source": [
    "# label is ranking"
   ]
  },
  {
   "cell_type": "code",
   "execution_count": null,
   "metadata": {
    "execution": {
     "iopub.execute_input": "2024-07-23T09:23:02.361849Z",
     "iopub.status.busy": "2024-07-23T09:23:02.361623Z",
     "iopub.status.idle": "2024-07-23T09:23:02.443216Z",
     "shell.execute_reply": "2024-07-23T09:23:02.442407Z",
     "shell.execute_reply.started": "2024-07-23T09:23:02.36183Z"
    }
   },
   "outputs": [],
   "source": [
    "train0=pd.read_csv('/kaggle/input/lmsys-prompt-response-words-keybert/train_key.csv')\n",
    "train0=train0[0:20000]\n",
    "display(train0)\n",
    "print(train0.columns.tolist())\n",
    "\n",
    "test0=pd.read_csv('/kaggle/input/lmsys-prompt-response-words-keybert/test_key.csv')\n",
    "display(test0)\n",
    "print(test0.columns.tolist())"
   ]
  },
  {
   "cell_type": "code",
   "execution_count": null,
   "metadata": {
    "execution": {
     "iopub.execute_input": "2024-07-23T09:31:37.966978Z",
     "iopub.status.busy": "2024-07-23T09:31:37.966597Z",
     "iopub.status.idle": "2024-07-23T09:31:37.993858Z",
     "shell.execute_reply": "2024-07-23T09:31:37.992982Z",
     "shell.execute_reply.started": "2024-07-23T09:31:37.966951Z"
    }
   },
   "outputs": [],
   "source": [
    "trainA=train0[['res_a_kw','winner_model_a']]\n",
    "trainA.columns=['text','label']\n",
    "trainB=train0[['res_b_kw','winner_model_b']]\n",
    "trainB.columns=['text','label']\n",
    "data=pd.concat([trainA,trainB],axis=0)\n",
    "\n",
    "testA=test0[['res_a_kw']]\n",
    "testA['label']=0\n",
    "testA.columns=['text','label']\n",
    "testB=test0[['res_b_kw']]\n",
    "testB['label']=0\n",
    "testB.columns=['text','label']\n",
    "TEST=pd.concat([testA,testB],axis=0)"
   ]
  },
  {
   "cell_type": "code",
   "execution_count": null,
   "metadata": {
    "execution": {
     "iopub.execute_input": "2024-04-21T15:27:00.618653Z",
     "iopub.status.busy": "2024-04-21T15:27:00.618357Z",
     "iopub.status.idle": "2024-04-21T15:27:00.668866Z",
     "shell.execute_reply": "2024-04-21T15:27:00.667944Z",
     "shell.execute_reply.started": "2024-04-21T15:27:00.618628Z"
    },
    "papermill": {
     "duration": 0.026581,
     "end_time": "2023-06-28T07:18:29.183917",
     "exception": false,
     "start_time": "2023-06-28T07:18:29.157336",
     "status": "completed"
    },
    "tags": []
   },
   "outputs": [],
   "source": [
    "from sklearn.model_selection import train_test_split\n",
    "train, test = train_test_split(data, test_size=0.2, random_state=42)"
   ]
  },
  {
   "cell_type": "code",
   "execution_count": null,
   "metadata": {
    "execution": {
     "iopub.execute_input": "2024-04-21T15:27:00.670721Z",
     "iopub.status.busy": "2024-04-21T15:27:00.67012Z",
     "iopub.status.idle": "2024-04-21T15:27:04.921664Z",
     "shell.execute_reply": "2024-04-21T15:27:04.92069Z",
     "shell.execute_reply.started": "2024-04-21T15:27:00.670688Z"
    },
    "papermill": {
     "duration": 2.112898,
     "end_time": "2023-06-28T07:18:31.309109",
     "exception": false,
     "start_time": "2023-06-28T07:18:29.196211",
     "status": "completed"
    },
    "tags": []
   },
   "outputs": [],
   "source": [
    "#tokenizer = transformers.BertTokenizer.from_pretrained(\"../input/bert-base-uncased\")\n",
    "tokenizer = transformers.AutoTokenizer.from_pretrained(\"roberta-base\")"
   ]
  },
  {
   "cell_type": "code",
   "execution_count": null,
   "metadata": {
    "execution": {
     "iopub.execute_input": "2024-04-21T15:27:04.923347Z",
     "iopub.status.busy": "2024-04-21T15:27:04.923052Z",
     "iopub.status.idle": "2024-04-21T15:27:11.313477Z",
     "shell.execute_reply": "2024-04-21T15:27:11.312494Z",
     "shell.execute_reply.started": "2024-04-21T15:27:04.923321Z"
    },
    "papermill": {
     "duration": 5.697647,
     "end_time": "2023-06-28T07:18:37.019837",
     "exception": false,
     "start_time": "2023-06-28T07:18:31.32219",
     "status": "completed"
    },
    "tags": []
   },
   "outputs": [],
   "source": [
    "test_s = train['text'].iloc[0]\n",
    "result1 = tokenizer.encode_plus(test_s)\n",
    "tokenizer.decode(result1[\"input_ids\"])"
   ]
  },
  {
   "cell_type": "code",
   "execution_count": null,
   "metadata": {
    "execution": {
     "iopub.execute_input": "2024-04-21T15:27:11.31493Z",
     "iopub.status.busy": "2024-04-21T15:27:11.314643Z",
     "iopub.status.idle": "2024-04-21T15:27:11.32222Z",
     "shell.execute_reply": "2024-04-21T15:27:11.321279Z",
     "shell.execute_reply.started": "2024-04-21T15:27:11.314899Z"
    },
    "papermill": {
     "duration": 0.022816,
     "end_time": "2023-06-28T07:18:37.055794",
     "exception": false,
     "start_time": "2023-06-28T07:18:37.032978",
     "status": "completed"
    },
    "tags": []
   },
   "outputs": [],
   "source": [
    "len(test_s.split(\" \"))"
   ]
  },
  {
   "cell_type": "code",
   "execution_count": null,
   "metadata": {
    "execution": {
     "iopub.execute_input": "2024-04-21T15:27:11.326432Z",
     "iopub.status.busy": "2024-04-21T15:27:11.326177Z",
     "iopub.status.idle": "2024-04-21T15:27:11.336362Z",
     "shell.execute_reply": "2024-04-21T15:27:11.335725Z",
     "shell.execute_reply.started": "2024-04-21T15:27:11.326409Z"
    },
    "papermill": {
     "duration": 0.020965,
     "end_time": "2023-06-28T07:18:37.089429",
     "exception": false,
     "start_time": "2023-06-28T07:18:37.068464",
     "status": "completed"
    },
    "tags": []
   },
   "outputs": [],
   "source": [
    "result2 = tokenizer.encode_plus(\n",
    "    test_s,\n",
    "    add_special_tokens = True, \n",
    "    max_length = 20, \n",
    "    pad_to_max_length = True, \n",
    "    truncation = True \n",
    ")"
   ]
  },
  {
   "cell_type": "code",
   "execution_count": null,
   "metadata": {
    "execution": {
     "iopub.execute_input": "2024-04-21T15:27:11.338107Z",
     "iopub.status.busy": "2024-04-21T15:27:11.337843Z",
     "iopub.status.idle": "2024-04-21T15:27:11.349792Z",
     "shell.execute_reply": "2024-04-21T15:27:11.348942Z",
     "shell.execute_reply.started": "2024-04-21T15:27:11.338081Z"
    },
    "papermill": {
     "duration": 0.02102,
     "end_time": "2023-06-28T07:18:37.123143",
     "exception": false,
     "start_time": "2023-06-28T07:18:37.102123",
     "status": "completed"
    },
    "tags": []
   },
   "outputs": [],
   "source": [
    "tokenizer.decode(result2[\"input_ids\"])"
   ]
  },
  {
   "cell_type": "code",
   "execution_count": null,
   "metadata": {
    "execution": {
     "iopub.execute_input": "2024-04-21T15:27:11.351248Z",
     "iopub.status.busy": "2024-04-21T15:27:11.350926Z",
     "iopub.status.idle": "2024-04-21T15:27:11.361283Z",
     "shell.execute_reply": "2024-04-21T15:27:11.360591Z",
     "shell.execute_reply.started": "2024-04-21T15:27:11.351214Z"
    },
    "papermill": {
     "duration": 0.030376,
     "end_time": "2023-06-28T07:18:37.166117",
     "exception": false,
     "start_time": "2023-06-28T07:18:37.135741",
     "status": "completed"
    },
    "tags": []
   },
   "outputs": [],
   "source": [
    "max_sens = 20\n",
    "\n",
    "train = train.sort_values(\"label\").reset_index(drop=True)\n",
    "\n",
    "train[\"kfold\"] = train.index % 5\n",
    "\n",
    "p_train = train[train[\"kfold\"]!=0].reset_index(drop=True)\n",
    "p_valid = train[train[\"kfold\"]==0].reset_index(drop=True)\n",
    "\n",
    "p_test=TEST.reset_index(drop=True)\n"
   ]
  },
  {
   "cell_type": "markdown",
   "id": "aa42fb7a",
   "metadata": {},
   "source": [
    "'token_type_ids' no need in RoBERTa/DeBERTa"
   ]
  },
  {
   "cell_type": "code",
   "execution_count": null,
   "metadata": {
    "execution": {
     "iopub.execute_input": "2024-04-21T15:27:11.362469Z",
     "iopub.status.busy": "2024-04-21T15:27:11.362223Z",
     "iopub.status.idle": "2024-04-21T15:27:11.371986Z",
     "shell.execute_reply": "2024-04-21T15:27:11.37122Z",
     "shell.execute_reply.started": "2024-04-21T15:27:11.362448Z"
    },
    "papermill": {
     "duration": 0.023548,
     "end_time": "2023-06-28T07:18:37.228036",
     "exception": false,
     "start_time": "2023-06-28T07:18:37.204488",
     "status": "completed"
    },
    "tags": []
   },
   "outputs": [],
   "source": [
    "class BERTDataSet(Dataset):\n",
    "    \n",
    "    def __init__(self,sentences,targets):        \n",
    "        self.sentences = sentences\n",
    "        self.targets = targets\n",
    "        \n",
    "    def __len__(self):        \n",
    "        return len(self.sentences)\n",
    "    \n",
    "    def __getitem__(self,idx):        \n",
    "        sentence = self.sentences[idx]    \n",
    "        bert_sens = tokenizer.encode_plus(\n",
    "                                sentence,\n",
    "                                add_special_tokens = True, \n",
    "                                max_length = max_sens, \n",
    "                                pad_to_max_length = True, \n",
    "                                return_attention_mask = True)\n",
    "\n",
    "        ids = torch.tensor(bert_sens['input_ids'], dtype=torch.long)\n",
    "        mask = torch.tensor(bert_sens['attention_mask'], dtype=torch.long)\n",
    "\n",
    "        target = torch.tensor(self.targets[idx],dtype=torch.float)\n",
    "        \n",
    "        return {\n",
    "                'ids': ids,\n",
    "                'mask': mask,\n",
    "\n",
    "                'targets': target\n",
    "            }"
   ]
  },
  {
   "cell_type": "code",
   "execution_count": null,
   "metadata": {
    "execution": {
     "iopub.execute_input": "2024-04-21T15:27:11.373525Z",
     "iopub.status.busy": "2024-04-21T15:27:11.373088Z",
     "iopub.status.idle": "2024-04-21T15:27:11.382953Z",
     "shell.execute_reply": "2024-04-21T15:27:11.382072Z",
     "shell.execute_reply.started": "2024-04-21T15:27:11.373494Z"
    },
    "papermill": {
     "duration": 0.023996,
     "end_time": "2023-06-28T07:18:37.264616",
     "exception": false,
     "start_time": "2023-06-28T07:18:37.24062",
     "status": "completed"
    },
    "tags": []
   },
   "outputs": [],
   "source": [
    "train_dataset = BERTDataSet(p_train[\"text\"],p_train[\"label\"])\n",
    "valid_dataset = BERTDataSet(p_valid[\"text\"],p_valid[\"label\"])\n",
    "test_dataset = BERTDataSet(p_test[\"text\"],p_test[\"label\"])\n",
    "\n",
    "\n",
    "train_batch = 16\n",
    "valid_batch = 32\n",
    "test_batch = 32\n",
    "\n",
    "train_dataloader = DataLoader(train_dataset,batch_size=train_batch,shuffle = True,num_workers=8,pin_memory=True)\n",
    "valid_dataloader = DataLoader(valid_dataset,batch_size=valid_batch,shuffle = False,num_workers=8,pin_memory=True)\n",
    "test_dataloader = DataLoader(test_dataset,batch_size=test_batch,shuffle = False,num_workers=8,pin_memory=True)"
   ]
  },
  {
   "cell_type": "code",
   "execution_count": null,
   "metadata": {
    "execution": {
     "iopub.execute_input": "2024-04-21T15:27:11.384979Z",
     "iopub.status.busy": "2024-04-21T15:27:11.384056Z",
     "iopub.status.idle": "2024-04-21T15:27:22.908743Z",
     "shell.execute_reply": "2024-04-21T15:27:22.907975Z",
     "shell.execute_reply.started": "2024-04-21T15:27:11.384943Z"
    },
    "papermill": {
     "duration": 5.239221,
     "end_time": "2023-06-28T07:18:42.516586",
     "exception": false,
     "start_time": "2023-06-28T07:18:37.277365",
     "status": "completed"
    },
    "tags": []
   },
   "outputs": [],
   "source": [
    "model = transformers.AutoModelForSequenceClassification.from_pretrained(\"roberta-base\", num_labels=1)\n",
    "#model = transformers.BertForSequenceClassification.from_pretrained(\"../input/bert-base-uncased\",num_labels=1)"
   ]
  },
  {
   "cell_type": "code",
   "execution_count": null,
   "metadata": {
    "execution": {
     "iopub.execute_input": "2024-04-21T15:27:22.910275Z",
     "iopub.status.busy": "2024-04-21T15:27:22.909926Z",
     "iopub.status.idle": "2024-04-21T15:27:23.209704Z",
     "shell.execute_reply": "2024-04-21T15:27:23.208753Z",
     "shell.execute_reply.started": "2024-04-21T15:27:22.910245Z"
    },
    "papermill": {
     "duration": 5.090094,
     "end_time": "2023-06-28T07:18:47.620511",
     "exception": false,
     "start_time": "2023-06-28T07:18:42.530417",
     "status": "completed"
    },
    "tags": []
   },
   "outputs": [],
   "source": [
    "model.to(device)\n",
    "model.train()"
   ]
  },
  {
   "cell_type": "code",
   "execution_count": null,
   "metadata": {
    "_kg_hide-output": true,
    "execution": {
     "iopub.execute_input": "2024-04-21T15:27:23.211394Z",
     "iopub.status.busy": "2024-04-21T15:27:23.211096Z",
     "iopub.status.idle": "2024-04-21T15:27:24.093806Z",
     "shell.execute_reply": "2024-04-21T15:27:24.092767Z",
     "shell.execute_reply.started": "2024-04-21T15:27:23.211369Z"
    },
    "papermill": {
     "duration": 2.557418,
     "end_time": "2023-06-28T07:18:50.195121",
     "exception": false,
     "start_time": "2023-06-28T07:18:47.637703",
     "status": "completed"
    },
    "tags": []
   },
   "outputs": [],
   "source": [
    "for a in train_dataloader:\n",
    "    ids = a[\"ids\"].to(device)\n",
    "    mask = a[\"mask\"].to(device)\n",
    "    output = model(ids,mask)\n",
    "    break"
   ]
  },
  {
   "cell_type": "code",
   "execution_count": null,
   "metadata": {
    "execution": {
     "iopub.execute_input": "2024-04-21T15:27:24.095438Z",
     "iopub.status.busy": "2024-04-21T15:27:24.095141Z",
     "iopub.status.idle": "2024-04-21T15:27:24.102328Z",
     "shell.execute_reply": "2024-04-21T15:27:24.101496Z",
     "shell.execute_reply.started": "2024-04-21T15:27:24.095408Z"
    },
    "papermill": {
     "duration": 0.027307,
     "end_time": "2023-06-28T07:18:50.236812",
     "exception": false,
     "start_time": "2023-06-28T07:18:50.209505",
     "status": "completed"
    },
    "tags": []
   },
   "outputs": [],
   "source": [
    "output = output[\"logits\"].squeeze(-1).shape"
   ]
  },
  {
   "cell_type": "code",
   "execution_count": null,
   "metadata": {
    "execution": {
     "iopub.execute_input": "2024-04-21T15:27:24.103928Z",
     "iopub.status.busy": "2024-04-21T15:27:24.103688Z",
     "iopub.status.idle": "2024-04-21T15:27:24.123001Z",
     "shell.execute_reply": "2024-04-21T15:27:24.122352Z",
     "shell.execute_reply.started": "2024-04-21T15:27:24.103907Z"
    },
    "papermill": {
     "duration": 0.033736,
     "end_time": "2023-06-28T07:18:50.284707",
     "exception": false,
     "start_time": "2023-06-28T07:18:50.250971",
     "status": "completed"
    },
    "tags": []
   },
   "outputs": [],
   "source": [
    "from transformers import AdamW\n",
    "LR=2e-5\n",
    "optimizer = AdamW(model.parameters(), LR,betas=(0.9, 0.999), weight_decay=1e-2) "
   ]
  },
  {
   "cell_type": "markdown",
   "id": "fb6891c6",
   "metadata": {},
   "source": [
    "# set epochs"
   ]
  },
  {
   "cell_type": "code",
   "execution_count": null,
   "metadata": {
    "_kg_hide-output": true,
    "execution": {
     "iopub.execute_input": "2024-04-21T15:27:24.124184Z",
     "iopub.status.busy": "2024-04-21T15:27:24.123934Z",
     "iopub.status.idle": "2024-04-21T15:27:24.130037Z",
     "shell.execute_reply": "2024-04-21T15:27:24.129018Z",
     "shell.execute_reply.started": "2024-04-21T15:27:24.124162Z"
    },
    "papermill": {
     "duration": 0.026503,
     "end_time": "2023-06-28T07:18:50.325816",
     "exception": false,
     "start_time": "2023-06-28T07:18:50.299313",
     "status": "completed"
    },
    "tags": []
   },
   "outputs": [],
   "source": [
    "from transformers import get_linear_schedule_with_warmup\n",
    "epochs = 30\n",
    "#if debug:\n",
    "#    epochs = 1\n",
    "train_steps = int(len(p_train)/train_batch*epochs)\n",
    "print(train_steps)\n",
    "num_steps = int(train_steps*0.1)\n",
    "scheduler = get_linear_schedule_with_warmup(optimizer, num_steps, train_steps)"
   ]
  },
  {
   "cell_type": "code",
   "execution_count": null,
   "metadata": {
    "execution": {
     "iopub.execute_input": "2024-04-21T15:27:24.13148Z",
     "iopub.status.busy": "2024-04-21T15:27:24.131178Z",
     "iopub.status.idle": "2024-04-21T15:27:24.138481Z",
     "shell.execute_reply": "2024-04-21T15:27:24.137556Z",
     "shell.execute_reply.started": "2024-04-21T15:27:24.131451Z"
    },
    "papermill": {
     "duration": 0.024242,
     "end_time": "2023-06-28T07:18:50.365039",
     "exception": false,
     "start_time": "2023-06-28T07:18:50.340797",
     "status": "completed"
    },
    "tags": []
   },
   "outputs": [],
   "source": [
    "def loss_fn(output,target):\n",
    "    return torch.sqrt(nn.MSELoss()(output,target))"
   ]
  },
  {
   "cell_type": "markdown",
   "id": "39fb635c",
   "metadata": {},
   "source": [
    "# def training"
   ]
  },
  {
   "cell_type": "code",
   "execution_count": null,
   "metadata": {
    "execution": {
     "iopub.execute_input": "2024-04-21T15:27:24.139863Z",
     "iopub.status.busy": "2024-04-21T15:27:24.139598Z",
     "iopub.status.idle": "2024-04-21T15:27:24.149616Z",
     "shell.execute_reply": "2024-04-21T15:27:24.148819Z",
     "shell.execute_reply.started": "2024-04-21T15:27:24.13984Z"
    },
    "papermill": {
     "duration": 0.029401,
     "end_time": "2023-06-28T07:18:50.439727",
     "exception": false,
     "start_time": "2023-06-28T07:18:50.410326",
     "status": "completed"
    },
    "tags": []
   },
   "outputs": [],
   "source": [
    "def training(\n",
    "    train_dataloader,\n",
    "    model,\n",
    "    optimizer,\n",
    "    scheduler\n",
    "):\n",
    "    \n",
    "    model.train()\n",
    "    torch.backends.cudnn.benchmark = True\n",
    "    allpreds = []\n",
    "    alltargets = []\n",
    "\n",
    "    for a in train_dataloader:\n",
    "\n",
    "        losses = []\n",
    "        optimizer.zero_grad()\n",
    "\n",
    "        with torch.cuda.amp.autocast():\n",
    "\n",
    "            ids = a[\"ids\"].to(device,non_blocking=True)\n",
    "            mask = a[\"mask\"].to(device,non_blocking=True)\n",
    "\n",
    "            output = model(ids,mask)\n",
    "            output = output[\"logits\"].squeeze(-1)\n",
    "            target = a[\"targets\"].to(device,non_blocking=True)\n",
    "            loss = loss_fn(output,target)\n",
    "\n",
    "            losses.append(loss.item())\n",
    "            allpreds.append(output.detach().cpu().numpy())\n",
    "            alltargets.append(target.detach().squeeze(-1).cpu().numpy())\n",
    "\n",
    "        scaler.scale(loss).backward() \n",
    "        scaler.step(optimizer) \n",
    "        scaler.update() \n",
    "        \n",
    "        del loss \n",
    "\n",
    "        scheduler.step() \n",
    "\n",
    "    allpreds = np.concatenate(allpreds)\n",
    "    alltargets = np.concatenate(alltargets)\n",
    "    losses = np.mean(losses)\n",
    "    train_rme_loss = np.sqrt(mean_squared_error(alltargets,allpreds))\n",
    "\n",
    "    return losses,train_rme_loss"
   ]
  },
  {
   "cell_type": "markdown",
   "id": "81773945",
   "metadata": {},
   "source": [
    "# def validating"
   ]
  },
  {
   "cell_type": "code",
   "execution_count": null,
   "metadata": {
    "execution": {
     "iopub.execute_input": "2024-04-21T15:27:24.151088Z",
     "iopub.status.busy": "2024-04-21T15:27:24.150802Z",
     "iopub.status.idle": "2024-04-21T15:27:24.163516Z",
     "shell.execute_reply": "2024-04-21T15:27:24.162696Z",
     "shell.execute_reply.started": "2024-04-21T15:27:24.151058Z"
    },
    "papermill": {
     "duration": 0.02798,
     "end_time": "2023-06-28T07:18:50.511175",
     "exception": false,
     "start_time": "2023-06-28T07:18:50.483195",
     "status": "completed"
    },
    "tags": []
   },
   "outputs": [],
   "source": [
    "def validating(valid_dataloader,model):\n",
    "    \n",
    "    model.eval()\n",
    "    allpreds = []\n",
    "    alltargets = []\n",
    "\n",
    "    for a in valid_dataloader:\n",
    "        losses = []\n",
    "        with torch.no_grad():\n",
    "\n",
    "            ids = a[\"ids\"].to(device)\n",
    "            mask = a[\"mask\"].to(device)\n",
    "\n",
    "            output = model(ids,mask)\n",
    "            output = output[\"logits\"].squeeze(-1)\n",
    "            target = a[\"targets\"].to(device)\n",
    "            loss = loss_fn(output,target)\n",
    "            losses.append(loss.item())\n",
    "            allpreds.append(output.detach().cpu().numpy())\n",
    "            alltargets.append(target.detach().squeeze(-1).cpu().numpy())\n",
    "            \n",
    "            del loss\n",
    "\n",
    "    allpreds = np.concatenate(allpreds)\n",
    "    alltargets = np.concatenate(alltargets)\n",
    "    losses = np.mean(losses)\n",
    "    valid_rme_loss = np.sqrt(mean_squared_error(alltargets,allpreds))\n",
    "\n",
    "    return allpreds,losses,valid_rme_loss"
   ]
  },
  {
   "cell_type": "markdown",
   "id": "e103c6b1",
   "metadata": {},
   "source": [
    "    if debug2 == False:\n",
    "        for a in range(epochs):\n",
    "            for b in train_dataloader:\n",
    "                break\n",
    "\n",
    "        losses,train_rme_loss = training(train_dataloader,model,optimizer,scheduler)\n",
    "\n",
    "        for a in valid_dataloader:\n",
    "            break\n",
    "\n",
    "# Train and Validate"
   ]
  },
  {
   "cell_type": "code",
   "execution_count": null,
   "metadata": {
    "execution": {
     "iopub.execute_input": "2024-04-21T15:27:29.174135Z",
     "iopub.status.busy": "2024-04-21T15:27:29.173749Z",
     "iopub.status.idle": "2024-04-21T15:28:03.846473Z",
     "shell.execute_reply": "2024-04-21T15:28:03.845402Z",
     "shell.execute_reply.started": "2024-04-21T15:27:29.174095Z"
    },
    "papermill": {
     "duration": 237.459602,
     "end_time": "2023-06-28T07:24:40.146621",
     "exception": false,
     "start_time": "2023-06-28T07:20:42.687019",
     "status": "completed"
    },
    "tags": []
   },
   "outputs": [],
   "source": [
    "trainlosses = []\n",
    "vallosses = []\n",
    "bestscore = None\n",
    "trainscores = []\n",
    "validscores = []\n",
    "\n",
    "for epoch in tqdm(range(epochs)):\n",
    "    \n",
    "    print(\"---------------\" + str(epoch) + \"start-------------\")\n",
    "    \n",
    "    trainloss,trainscore = training(train_dataloader,model,optimizer,scheduler)    \n",
    "    trainlosses.append(trainloss)\n",
    "    trainscores.append(trainscore)\n",
    "    \n",
    "    print(\"trainscore is \" + str(trainscore))\n",
    "    \n",
    "    preds,validloss,valscore=validating(valid_dataloader,model)    \n",
    "    vallosses.append(validloss)\n",
    "    validscores.append(valscore)\n",
    "    \n",
    "    print(\"valscore is \" + str(valscore))\n",
    "    \n",
    "    if bestscore is None:\n",
    "        bestscore = valscore\n",
    "        \n",
    "        print(\"Save first model\")\n",
    "        \n",
    "        state = {\n",
    "                        'state_dict': model.state_dict(),\n",
    "                        'optimizer_dict': optimizer.state_dict(),\n",
    "                        \"bestscore\":bestscore\n",
    "                    }\n",
    "            \n",
    "        torch.save(state, \"model0.pth\")\n",
    "        \n",
    "    elif bestscore > valscore:\n",
    "        \n",
    "        bestscore = valscore        \n",
    "        print(\"found better point\")        \n",
    "        state = {\n",
    "                        'state_dict': model.state_dict(),\n",
    "                        'optimizer_dict': optimizer.state_dict(),\n",
    "                        \"bestscore\":bestscore\n",
    "                    }\n",
    "            \n",
    "        torch.save(state, \"model0.pth\")\n",
    "        \n",
    "    else:\n",
    "        pass\n",
    "    "
   ]
  },
  {
   "cell_type": "code",
   "execution_count": null,
   "metadata": {
    "execution": {
     "iopub.execute_input": "2024-04-21T15:28:03.848381Z",
     "iopub.status.busy": "2024-04-21T15:28:03.847986Z",
     "iopub.status.idle": "2024-04-21T15:28:04.73517Z",
     "shell.execute_reply": "2024-04-21T15:28:04.734256Z",
     "shell.execute_reply.started": "2024-04-21T15:28:03.848349Z"
    },
    "papermill": {
     "duration": 0.775119,
     "end_time": "2023-06-28T07:24:40.942226",
     "exception": false,
     "start_time": "2023-06-28T07:24:40.167107",
     "status": "completed"
    },
    "tags": []
   },
   "outputs": [],
   "source": [
    "plt.scatter(p_valid['label'],preds, alpha=0.2)\n",
    "plt.title('Validation Prediction Result')\n",
    "plt.xlabel('Actual')\n",
    "plt.ylabel('Prediction')\n",
    "plt.show()\n",
    "\n",
    "x = np.arange(epochs)\n",
    "plt.title('Validation Losses')\n",
    "plt.xlabel('Epoch')\n",
    "plt.ylabel('Loss')\n",
    "plt.plot(x,trainlosses)\n",
    "plt.plot(x,vallosses)\n",
    "plt.show()\n",
    "\n",
    "x = np.arange(epochs)\n",
    "plt.title('Validation Scores')\n",
    "plt.xlabel('Epoch')\n",
    "plt.ylabel('Score')\n",
    "plt.plot(x,trainscores)\n",
    "plt.plot(x,validscores)\n",
    "plt.show()"
   ]
  },
  {
   "cell_type": "markdown",
   "id": "27837509",
   "metadata": {},
   "source": [
    "# save model"
   ]
  },
  {
   "cell_type": "code",
   "execution_count": null,
   "metadata": {
    "_kg_hide-output": true,
    "execution": {
     "iopub.execute_input": "2024-04-21T15:28:04.737019Z",
     "iopub.status.busy": "2024-04-21T15:28:04.736646Z",
     "iopub.status.idle": "2024-04-21T15:29:18.000052Z",
     "shell.execute_reply": "2024-04-21T15:29:17.998771Z",
     "shell.execute_reply.started": "2024-04-21T15:28:04.736983Z"
    },
    "papermill": {
     "duration": 969.305172,
     "end_time": "2023-06-28T07:40:50.393338",
     "exception": false,
     "start_time": "2023-06-28T07:24:41.088166",
     "status": "completed"
    },
    "tags": []
   },
   "outputs": [],
   "source": [
    "bestscores = []\n",
    "bestscores.append(bestscore)\n",
    "\n",
    "for fold in range(1,5):\n",
    "    \n",
    "    # initializing the data\n",
    "    p_train = train[train[\"kfold\"]!=fold].reset_index(drop=True)\n",
    "    p_valid = train[train[\"kfold\"]==fold].reset_index(drop=True)\n",
    "\n",
    "    train_dataset = BERTDataSet(p_train[\"text\"],p_train[\"label\"])\n",
    "    valid_dataset = BERTDataSet(p_valid[\"text\"],p_valid[\"label\"])\n",
    "    \n",
    "    model = transformers.AutoModelForSequenceClassification.from_pretrained(\"roberta-base\", num_labels=1)\n",
    "    \n",
    "    model.to(device)\n",
    "    LR=2e-5\n",
    "    optimizer = AdamW(model.parameters(), LR,betas=(0.9, 0.999), weight_decay=1e-2) # AdamW optimizer\n",
    "    train_steps = int(len(p_train)/train_batch*epochs)\n",
    "    num_steps = int(train_steps*0.1)\n",
    "    scheduler = get_linear_schedule_with_warmup(optimizer, num_steps, train_steps)\n",
    "\n",
    "    trainlosses = []\n",
    "    vallosses = []\n",
    "    bestscore = None\n",
    "    trainscores = []\n",
    "    validscores = []\n",
    "\n",
    "    for epoch in tqdm(range(epochs)):\n",
    "\n",
    "        print(\"---------------\" + str(epoch) + \"start-------------\")\n",
    "\n",
    "        trainloss,trainscore = training(train_dataloader,model,optimizer,scheduler)\n",
    "        trainlosses.append(trainloss)\n",
    "        trainscores.append(trainscore)\n",
    "\n",
    "        print(\"trainscore is \" + str(trainscore))\n",
    "\n",
    "        preds,validloss,valscore=validating(valid_dataloader,model)\n",
    "        vallosses.append(validloss)\n",
    "        validscores.append(valscore)\n",
    "\n",
    "        print(\"valscore is \" + str(valscore))\n",
    "\n",
    "        if bestscore is None:\n",
    "            bestscore = valscore\n",
    "\n",
    "            print(\"Save first model\")\n",
    "\n",
    "            state = {\n",
    "                            'state_dict': model.state_dict(),\n",
    "                            'optimizer_dict': optimizer.state_dict(),\n",
    "                            \"bestscore\":bestscore\n",
    "                        }\n",
    "\n",
    "            torch.save(state, \"model\" + str(fold) + \".pth\") \n",
    "\n",
    "        elif bestscore > valscore:\n",
    "            bestscore = valscore\n",
    "            print(\"found better point\")\n",
    "\n",
    "            state = {\n",
    "                            'state_dict': model.state_dict(),\n",
    "                            'optimizer_dict': optimizer.state_dict(),\n",
    "                            \"bestscore\":bestscore\n",
    "                        }\n",
    "            torch.save(state, \"model\"+ str(fold) + \".pth\")\n",
    "\n",
    "        else:\n",
    "            pass\n",
    "\n",
    "\n",
    "    bestscores.append(bestscore)"
   ]
  },
  {
   "cell_type": "code",
   "execution_count": null,
   "metadata": {
    "execution": {
     "iopub.execute_input": "2024-04-21T15:29:18.002462Z",
     "iopub.status.busy": "2024-04-21T15:29:18.002063Z",
     "iopub.status.idle": "2024-04-21T15:29:18.010475Z",
     "shell.execute_reply": "2024-04-21T15:29:18.009599Z",
     "shell.execute_reply.started": "2024-04-21T15:29:18.002418Z"
    },
    "papermill": {
     "duration": 0.04631,
     "end_time": "2023-06-28T07:40:50.474497",
     "exception": false,
     "start_time": "2023-06-28T07:40:50.428187",
     "status": "completed"
    },
    "tags": []
   },
   "outputs": [],
   "source": [
    "bestscores"
   ]
  },
  {
   "cell_type": "code",
   "execution_count": null,
   "metadata": {
    "execution": {
     "iopub.execute_input": "2024-04-21T15:29:18.01202Z",
     "iopub.status.busy": "2024-04-21T15:29:18.011748Z",
     "iopub.status.idle": "2024-04-21T15:29:20.822635Z",
     "shell.execute_reply": "2024-04-21T15:29:20.821515Z",
     "shell.execute_reply.started": "2024-04-21T15:29:18.011997Z"
    },
    "papermill": {
     "duration": 0.043282,
     "end_time": "2023-06-28T07:40:50.552707",
     "exception": false,
     "start_time": "2023-06-28T07:40:50.509425",
     "status": "completed"
    },
    "tags": []
   },
   "outputs": [],
   "source": [
    "np.mean(bestscores)\n",
    "print(\"My CV is \" + str(np.mean(bestscores))+ \".\")"
   ]
  },
  {
   "cell_type": "markdown",
   "id": "d4a3cdb4",
   "metadata": {},
   "source": [
    "# def predicting\n",
    "not use saved models"
   ]
  },
  {
   "cell_type": "code",
   "execution_count": null,
   "metadata": {
    "execution": {
     "iopub.execute_input": "2024-04-21T15:29:20.824508Z",
     "iopub.status.busy": "2024-04-21T15:29:20.824121Z",
     "iopub.status.idle": "2024-04-21T15:29:20.833769Z",
     "shell.execute_reply": "2024-04-21T15:29:20.832868Z",
     "shell.execute_reply.started": "2024-04-21T15:29:20.824463Z"
    },
    "papermill": {
     "duration": 0.043725,
     "end_time": "2023-06-28T07:40:50.691507",
     "exception": false,
     "start_time": "2023-06-28T07:40:50.647782",
     "status": "completed"
    },
    "tags": []
   },
   "outputs": [],
   "source": [
    "def predicting(test_dataloader,model):\n",
    "    \n",
    "    model.to(device)\n",
    "    model.eval()   \n",
    "    allpreds = []\n",
    "    preds = []\n",
    "    allvalloss=0\n",
    "\n",
    "    with torch.no_grad():\n",
    "        for a in test_dataloader:\n",
    "\n",
    "            ids = a[\"ids\"].to(device)\n",
    "            mask = a[\"mask\"].to(device)\n",
    "\n",
    "            output = model(ids,mask)\n",
    "            output = output[\"logits\"].squeeze(-1)\n",
    "            preds.append(output.cpu().numpy())\n",
    "\n",
    "        preds = np.concatenate(preds)\n",
    "        allpreds.append(preds)\n",
    "\n",
    "    return allpreds"
   ]
  },
  {
   "cell_type": "markdown",
   "id": "d106552f",
   "metadata": {},
   "source": [
    "# Predict"
   ]
  },
  {
   "cell_type": "code",
   "execution_count": null,
   "metadata": {
    "_kg_hide-output": true,
    "execution": {
     "iopub.execute_input": "2024-04-21T15:29:22.260435Z",
     "iopub.status.busy": "2024-04-21T15:29:22.260177Z",
     "iopub.status.idle": "2024-04-21T15:29:30.45845Z",
     "shell.execute_reply": "2024-04-21T15:29:30.457356Z",
     "shell.execute_reply.started": "2024-04-21T15:29:22.260412Z"
    },
    "papermill": {
     "duration": 71.891932,
     "end_time": "2023-06-28T07:42:05.088325",
     "exception": false,
     "start_time": "2023-06-28T07:40:53.196393",
     "status": "completed"
    },
    "tags": []
   },
   "outputs": [],
   "source": [
    "tpreds = predicting(test_dataloader,model)"
   ]
  },
  {
   "cell_type": "markdown",
   "id": "442f59d4",
   "metadata": {},
   "source": [
    "# Prediction Result"
   ]
  },
  {
   "cell_type": "code",
   "execution_count": null,
   "metadata": {
    "execution": {
     "iopub.execute_input": "2024-04-21T15:29:30.460891Z",
     "iopub.status.busy": "2024-04-21T15:29:30.46046Z",
     "iopub.status.idle": "2024-04-21T15:29:30.465747Z",
     "shell.execute_reply": "2024-04-21T15:29:30.4647Z",
     "shell.execute_reply.started": "2024-04-21T15:29:30.460858Z"
    }
   },
   "outputs": [],
   "source": [
    "test_pred = []\n",
    "for p in tpreds[0]:\n",
    "    test_pred+=[p]"
   ]
  },
  {
   "cell_type": "code",
   "execution_count": null,
   "metadata": {
    "execution": {
     "iopub.execute_input": "2024-04-21T15:29:30.467268Z",
     "iopub.status.busy": "2024-04-21T15:29:30.46695Z",
     "iopub.status.idle": "2024-04-21T15:29:30.733329Z",
     "shell.execute_reply": "2024-04-21T15:29:30.732391Z",
     "shell.execute_reply.started": "2024-04-21T15:29:30.467237Z"
    }
   },
   "outputs": [],
   "source": [
    "submit=pd.read_csv('/kaggle/input/lmsys-chatbot-arena/sample_submission.csv')\n",
    "pa=test_pred[0:len(test0)]\n",
    "pb=test_pred[len(test0):]\n",
    "pc=[]\n",
    "for i in range(len(test0)):\n",
    "    pc+=[np.clip(1-(pa[i]+pb[i]),0,1)]\n",
    "submit['winner_model_a']=pa\n",
    "submit['winner_model_b']=pb\n",
    "submit['winner_tie']=pc\n",
    "display(submit)\n",
    "submit.to_csv('submission.csv',index=False)"
   ]
  },
  {
   "cell_type": "markdown",
   "id": "114b6660",
   "metadata": {},
   "source": [
    "[Caution] The 'submission.csv' is not available for submission, because this noteboook runs under internet-on condition."
   ]
  }
 ],
 "metadata": {
  "kaggle": {
   "accelerator": "gpu",
   "dataSources": [
    {
     "databundleVersionId": 8346466,
     "sourceId": 66631,
     "sourceType": "competition"
    },
    {
     "sourceId": 190123501,
     "sourceType": "kernelVersion"
    }
   ],
   "isGpuEnabled": true,
   "isInternetEnabled": true,
   "language": "python",
   "sourceType": "notebook"
  },
  "kernelspec": {
   "display_name": "Python 3",
   "language": "python",
   "name": "python3"
  },
  "language_info": {
   "codemirror_mode": {
    "name": "ipython",
    "version": 3
   },
   "file_extension": ".py",
   "mimetype": "text/x-python",
   "name": "python",
   "nbconvert_exporter": "python",
   "pygments_lexer": "ipython3",
   "version": "3.10.13"
  }
 },
 "nbformat": 4,
 "nbformat_minor": 4
}
