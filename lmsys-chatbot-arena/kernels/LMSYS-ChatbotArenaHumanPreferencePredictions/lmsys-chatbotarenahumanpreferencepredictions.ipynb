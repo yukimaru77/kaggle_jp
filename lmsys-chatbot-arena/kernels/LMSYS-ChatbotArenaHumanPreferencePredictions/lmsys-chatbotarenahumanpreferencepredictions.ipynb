{
 "cells": [
  {
   "cell_type": "code",
   "execution_count": null,
   "metadata": {
    "_cell_guid": "b1076dfc-b9ad-4769-8c92-a6c4dae69d19",
    "_uuid": "8f2839f25d086af736a60e9eeb907d3b93b6e0e5",
    "execution": {
     "iopub.execute_input": "2024-07-22T13:14:42.061318Z",
     "iopub.status.busy": "2024-07-22T13:14:42.060926Z",
     "iopub.status.idle": "2024-07-22T13:14:46.817539Z",
     "shell.execute_reply": "2024-07-22T13:14:46.81639Z",
     "shell.execute_reply.started": "2024-07-22T13:14:42.061281Z"
    }
   },
   "outputs": [],
   "source": [
    "# Import necessary libraries\n",
    "import pandas as pd\n",
    "import numpy as np\n",
    "import matplotlib.pyplot as plt\n",
    "import seaborn as sns\n",
    "from sklearn.model_selection import train_test_split\n",
    "from sklearn.metrics import confusion_matrix, classification_report\n",
    "from tensorflow.keras.preprocessing.text import Tokenizer\n",
    "from tensorflow.keras.preprocessing.sequence import pad_sequences\n",
    "from tensorflow.keras.models import Sequential\n",
    "from tensorflow.keras.layers import Embedding, LSTM, Dense, Dropout\n",
    "from tensorflow.keras.utils import to_categorical"
   ]
  },
  {
   "cell_type": "code",
   "execution_count": null,
   "metadata": {
    "execution": {
     "iopub.execute_input": "2024-07-22T13:14:56.082925Z",
     "iopub.status.busy": "2024-07-22T13:14:56.082539Z",
     "iopub.status.idle": "2024-07-22T13:14:58.171616Z",
     "shell.execute_reply": "2024-07-22T13:14:58.170031Z",
     "shell.execute_reply.started": "2024-07-22T13:14:56.082893Z"
    }
   },
   "outputs": [],
   "source": [
    "# Load the data\n",
    "train_df = pd.read_csv('/kaggle/input/lmsys-chatbot-arena/train.csv')\n",
    "test_df = pd.read_csv('/kaggle/input/lmsys-chatbot-arena/test.csv')"
   ]
  },
  {
   "cell_type": "code",
   "execution_count": null,
   "metadata": {
    "execution": {
     "iopub.execute_input": "2024-07-22T13:14:58.174595Z",
     "iopub.status.busy": "2024-07-22T13:14:58.174072Z",
     "iopub.status.idle": "2024-07-22T13:14:58.181972Z",
     "shell.execute_reply": "2024-07-22T13:14:58.18047Z",
     "shell.execute_reply.started": "2024-07-22T13:14:58.174551Z"
    }
   },
   "outputs": [],
   "source": [
    "# Check the column names\n",
    "print(\"Train Data Columns:\", train_df.columns)\n",
    "print(\"\\nTest Data Columns:\", test_df.columns)"
   ]
  },
  {
   "cell_type": "code",
   "execution_count": null,
   "metadata": {
    "execution": {
     "iopub.execute_input": "2024-07-22T13:15:02.401503Z",
     "iopub.status.busy": "2024-07-22T13:15:02.400447Z",
     "iopub.status.idle": "2024-07-22T13:15:02.406866Z",
     "shell.execute_reply": "2024-07-22T13:15:02.405558Z",
     "shell.execute_reply.started": "2024-07-22T13:15:02.401438Z"
    }
   },
   "outputs": [],
   "source": [
    "# Use a smaller subset of data\n",
    "train_df = train_df.head(2000)\n",
    "test_df = test_df.head(2000)"
   ]
  },
  {
   "cell_type": "code",
   "execution_count": null,
   "metadata": {
    "execution": {
     "iopub.execute_input": "2024-07-22T13:15:05.058391Z",
     "iopub.status.busy": "2024-07-22T13:15:05.057957Z",
     "iopub.status.idle": "2024-07-22T13:15:05.071014Z",
     "shell.execute_reply": "2024-07-22T13:15:05.069648Z",
     "shell.execute_reply.started": "2024-07-22T13:15:05.058357Z"
    }
   },
   "outputs": [],
   "source": [
    "# Combine the winner columns into a single target column\n",
    "train_df['winner'] = np.argmax(train_df[['winner_model_a', 'winner_model_b', 'winner_tie']].values, axis=1)"
   ]
  },
  {
   "cell_type": "code",
   "execution_count": null,
   "metadata": {
    "execution": {
     "iopub.execute_input": "2024-07-22T13:15:07.761271Z",
     "iopub.status.busy": "2024-07-22T13:15:07.760899Z",
     "iopub.status.idle": "2024-07-22T13:15:07.768252Z",
     "shell.execute_reply": "2024-07-22T13:15:07.766897Z",
     "shell.execute_reply.started": "2024-07-22T13:15:07.761245Z"
    }
   },
   "outputs": [],
   "source": [
    "# Combine all text data for tokenization\n",
    "all_text = pd.concat([train_df['prompt'], train_df['response_a'], train_df['response_b'],\n",
    "                      test_df['prompt'], test_df['response_a'], test_df['response_b']])"
   ]
  },
  {
   "cell_type": "code",
   "execution_count": null,
   "metadata": {
    "execution": {
     "iopub.execute_input": "2024-07-22T13:15:35.270694Z",
     "iopub.status.busy": "2024-07-22T13:15:35.270118Z",
     "iopub.status.idle": "2024-07-22T13:15:36.222699Z",
     "shell.execute_reply": "2024-07-22T13:15:36.221458Z",
     "shell.execute_reply.started": "2024-07-22T13:15:35.270652Z"
    }
   },
   "outputs": [],
   "source": [
    "# Tokenize the text data\n",
    "tokenizer = Tokenizer()\n",
    "tokenizer.fit_on_texts(all_text)\n",
    "vocab_size = len(tokenizer.word_index) + 1"
   ]
  },
  {
   "cell_type": "code",
   "execution_count": null,
   "metadata": {
    "execution": {
     "iopub.execute_input": "2024-07-22T13:15:37.798892Z",
     "iopub.status.busy": "2024-07-22T13:15:37.798503Z",
     "iopub.status.idle": "2024-07-22T13:15:37.806056Z",
     "shell.execute_reply": "2024-07-22T13:15:37.804242Z",
     "shell.execute_reply.started": "2024-07-22T13:15:37.798865Z"
    }
   },
   "outputs": [],
   "source": [
    "def tokenize_and_pad(text_series, tokenizer, max_len):\n",
    "    sequences = tokenizer.texts_to_sequences(text_series)\n",
    "    padded_sequences = pad_sequences(sequences,maxlen=max_len)\n",
    "    return padded_sequences"
   ]
  },
  {
   "cell_type": "code",
   "execution_count": null,
   "metadata": {
    "execution": {
     "iopub.execute_input": "2024-07-22T13:15:40.147403Z",
     "iopub.status.busy": "2024-07-22T13:15:40.146696Z",
     "iopub.status.idle": "2024-07-22T13:15:40.152285Z",
     "shell.execute_reply": "2024-07-22T13:15:40.150813Z",
     "shell.execute_reply.started": "2024-07-22T13:15:40.147349Z"
    }
   },
   "outputs": [],
   "source": [
    "# Define maximum sequence length\n",
    "max_len = 100"
   ]
  },
  {
   "cell_type": "code",
   "execution_count": null,
   "metadata": {
    "execution": {
     "iopub.execute_input": "2024-07-22T13:15:42.292099Z",
     "iopub.status.busy": "2024-07-22T13:15:42.291739Z",
     "iopub.status.idle": "2024-07-22T13:15:42.895288Z",
     "shell.execute_reply": "2024-07-22T13:15:42.894009Z",
     "shell.execute_reply.started": "2024-07-22T13:15:42.292074Z"
    }
   },
   "outputs": [],
   "source": [
    "# Tokenize and pad the training data\n",
    "x_prompt = tokenize_and_pad(train_df['prompt'],tokenizer, max_len)\n",
    "x_response_a = tokenize_and_pad(train_df['response_a'],tokenizer, max_len)\n",
    "x_response_b = tokenize_and_pad(train_df['response_b'],tokenizer, max_len)\n",
    "x_train = np.concatenate([x_prompt,x_response_a,x_response_b],axis=1)"
   ]
  },
  {
   "cell_type": "code",
   "execution_count": null,
   "metadata": {
    "execution": {
     "iopub.execute_input": "2024-07-22T13:15:52.00097Z",
     "iopub.status.busy": "2024-07-22T13:15:52.000548Z",
     "iopub.status.idle": "2024-07-22T13:15:52.007496Z",
     "shell.execute_reply": "2024-07-22T13:15:52.006268Z",
     "shell.execute_reply.started": "2024-07-22T13:15:52.000939Z"
    }
   },
   "outputs": [],
   "source": [
    "# Encode the target variable\n",
    "y_train = to_categorical(train_df['winner'])"
   ]
  },
  {
   "cell_type": "code",
   "execution_count": null,
   "metadata": {
    "execution": {
     "iopub.execute_input": "2024-07-22T13:15:54.546283Z",
     "iopub.status.busy": "2024-07-22T13:15:54.545898Z",
     "iopub.status.idle": "2024-07-22T13:15:54.554313Z",
     "shell.execute_reply": "2024-07-22T13:15:54.553124Z",
     "shell.execute_reply.started": "2024-07-22T13:15:54.546257Z"
    }
   },
   "outputs": [],
   "source": [
    "# Split the data into training and validation sets\n",
    "x_train, x_val, y_train, y_val = train_test_split(x_train, y_train, test_size=0.2, random_state=42)"
   ]
  },
  {
   "cell_type": "code",
   "execution_count": null,
   "metadata": {
    "execution": {
     "iopub.execute_input": "2024-07-22T13:15:57.016503Z",
     "iopub.status.busy": "2024-07-22T13:15:57.016103Z",
     "iopub.status.idle": "2024-07-22T13:15:57.071352Z",
     "shell.execute_reply": "2024-07-22T13:15:57.070332Z",
     "shell.execute_reply.started": "2024-07-22T13:15:57.016458Z"
    }
   },
   "outputs": [],
   "source": [
    "# Build the Keras model\n",
    "model = Sequential()\n",
    "model.add(Embedding(vocab_size,128))\n",
    "model.add(LSTM(64,return_sequences=True))\n",
    "model.add(Dropout(0.5))\n",
    "model.add(LSTM(64))\n",
    "model.add(Dense(3,activation='softmax'))"
   ]
  },
  {
   "cell_type": "code",
   "execution_count": null,
   "metadata": {
    "execution": {
     "iopub.execute_input": "2024-07-22T13:16:00.056549Z",
     "iopub.status.busy": "2024-07-22T13:16:00.05614Z",
     "iopub.status.idle": "2024-07-22T13:16:00.079938Z",
     "shell.execute_reply": "2024-07-22T13:16:00.078747Z",
     "shell.execute_reply.started": "2024-07-22T13:16:00.056519Z"
    }
   },
   "outputs": [],
   "source": [
    "# Compile the model\n",
    "model.compile(optimizer='adam', loss='categorical_crossentropy', metrics=['accuracy'])"
   ]
  },
  {
   "cell_type": "code",
   "execution_count": null,
   "metadata": {
    "execution": {
     "iopub.execute_input": "2024-07-22T13:16:03.871163Z",
     "iopub.status.busy": "2024-07-22T13:16:03.87076Z",
     "iopub.status.idle": "2024-07-22T13:18:26.729764Z",
     "shell.execute_reply": "2024-07-22T13:18:26.728544Z",
     "shell.execute_reply.started": "2024-07-22T13:16:03.871131Z"
    }
   },
   "outputs": [],
   "source": [
    "# Train the model\n",
    "history = model.fit(x_train, y_train, epochs=10, batch_size=32, validation_data=(x_val, y_val))"
   ]
  },
  {
   "cell_type": "code",
   "execution_count": null,
   "metadata": {
    "execution": {
     "iopub.execute_input": "2024-07-22T13:18:33.627234Z",
     "iopub.status.busy": "2024-07-22T13:18:33.626834Z",
     "iopub.status.idle": "2024-07-22T13:18:34.312903Z",
     "shell.execute_reply": "2024-07-22T13:18:34.311353Z",
     "shell.execute_reply.started": "2024-07-22T13:18:33.627203Z"
    }
   },
   "outputs": [],
   "source": [
    "# Create a figure and a set of subplots\n",
    "fig, (ax1, ax2) = plt.subplots(1, 2, figsize=(18, 6))\n",
    "\n",
    "# Plot training & validation loss values\n",
    "ax1.plot(history.history['loss'], label='Train')\n",
    "ax1.plot(history.history['val_loss'], label='Validation')\n",
    "ax1.set_title('Model Loss')\n",
    "ax1.set_xlabel('Epoch')\n",
    "ax1.set_ylabel('Loss')\n",
    "ax1.legend(loc='upper right')\n",
    "\n",
    "# Plot training & validation accuracy values\n",
    "ax2.plot(history.history['accuracy'], label='Train')\n",
    "ax2.plot(history.history['val_accuracy'], label='Validation')\n",
    "ax2.set_title('Model Accuracy')\n",
    "ax2.set_xlabel('Epoch')\n",
    "ax2.set_ylabel('Accuracy')\n",
    "ax2.legend(loc='upper left')\n",
    "\n",
    "# Adjust layout to prevent overlap\n",
    "plt.tight_layout()\n",
    "plt.show()"
   ]
  },
  {
   "cell_type": "code",
   "execution_count": null,
   "metadata": {
    "execution": {
     "iopub.execute_input": "2024-07-22T13:18:45.064274Z",
     "iopub.status.busy": "2024-07-22T13:18:45.063845Z",
     "iopub.status.idle": "2024-07-22T13:18:45.073243Z",
     "shell.execute_reply": "2024-07-22T13:18:45.071753Z",
     "shell.execute_reply.started": "2024-07-22T13:18:45.06424Z"
    }
   },
   "outputs": [],
   "source": [
    "# Prepare the test data\n",
    "x_test_prompt = tokenize_and_pad(test_df['prompt'],tokenizer, max_len)\n",
    "x_test_response_a = tokenize_and_pad(test_df['response_a'],tokenizer, max_len)\n",
    "x_test_response_b = tokenize_and_pad(test_df['response_b'],tokenizer, max_len)\n",
    "x_test = np.concatenate([x_test_prompt,x_test_response_a,x_test_response_b],axis=1)"
   ]
  },
  {
   "cell_type": "code",
   "execution_count": null,
   "metadata": {
    "execution": {
     "iopub.execute_input": "2024-07-22T13:18:48.344657Z",
     "iopub.status.busy": "2024-07-22T13:18:48.344222Z",
     "iopub.status.idle": "2024-07-22T13:18:48.755229Z",
     "shell.execute_reply": "2024-07-22T13:18:48.753979Z",
     "shell.execute_reply.started": "2024-07-22T13:18:48.344617Z"
    }
   },
   "outputs": [],
   "source": [
    "# Predict on the test data\n",
    "y_test_pred = model.predict(x_test)\n",
    "y_test_pred_labels = np.argmax(y_test_pred,axis=1)"
   ]
  },
  {
   "cell_type": "code",
   "execution_count": null,
   "metadata": {
    "execution": {
     "iopub.execute_input": "2024-07-22T13:19:02.688609Z",
     "iopub.status.busy": "2024-07-22T13:19:02.688137Z",
     "iopub.status.idle": "2024-07-22T13:19:02.695314Z",
     "shell.execute_reply": "2024-07-22T13:19:02.694012Z",
     "shell.execute_reply.started": "2024-07-22T13:19:02.688574Z"
    }
   },
   "outputs": [],
   "source": [
    "# Convert predictions to binary columns\n",
    "test_df['winner_model_a'] = (y_test_pred_labels == 0).astype(float)\n",
    "test_df['winner_model_b'] = (y_test_pred_labels == 1).astype(float)\n",
    "test_df['winner_tie'] = (y_test_pred_labels == 2).astype(float)"
   ]
  },
  {
   "cell_type": "code",
   "execution_count": null,
   "metadata": {
    "execution": {
     "iopub.execute_input": "2024-07-22T13:19:05.10427Z",
     "iopub.status.busy": "2024-07-22T13:19:05.103861Z",
     "iopub.status.idle": "2024-07-22T13:19:05.117545Z",
     "shell.execute_reply": "2024-07-22T13:19:05.116362Z",
     "shell.execute_reply.started": "2024-07-22T13:19:05.104237Z"
    }
   },
   "outputs": [],
   "source": [
    "# Save the predictions to submission.csv\n",
    "submission_df = test_df[['id','winner_model_a','winner_model_b','winner_tie']]\n",
    "submission_df.to_csv('submission.csv',index=False)"
   ]
  }
 ],
 "metadata": {
  "kaggle": {
   "accelerator": "none",
   "dataSources": [
    {
     "databundleVersionId": 8346466,
     "sourceId": 66631,
     "sourceType": "competition"
    }
   ],
   "dockerImageVersionId": 30746,
   "isGpuEnabled": false,
   "isInternetEnabled": false,
   "language": "python",
   "sourceType": "notebook"
  },
  "kernelspec": {
   "display_name": "Python 3",
   "language": "python",
   "name": "python3"
  },
  "language_info": {
   "codemirror_mode": {
    "name": "ipython",
    "version": 3
   },
   "file_extension": ".py",
   "mimetype": "text/x-python",
   "name": "python",
   "nbconvert_exporter": "python",
   "pygments_lexer": "ipython3",
   "version": "3.10.13"
  }
 },
 "nbformat": 4,
 "nbformat_minor": 4
}
