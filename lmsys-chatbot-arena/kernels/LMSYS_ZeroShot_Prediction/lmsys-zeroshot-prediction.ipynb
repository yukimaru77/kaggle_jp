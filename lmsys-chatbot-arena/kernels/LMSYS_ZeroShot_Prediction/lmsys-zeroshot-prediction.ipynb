{
 "cells": [
  {
   "cell_type": "markdown",
   "id": "031b8313",
   "metadata": {},
   "source": [
    "# LMSYS ZeroShot Prediction\n",
    "\n",
    "This code uses LLama3 to make zero-shot predictions.\n",
    "\n",
    "Instead of learning a classification header, it uses a carefully crafted prompt to predict which token among **A**, **B**, or **tie** is most likely to follow `###Answer:`.\n",
    "\n",
    "\n",
    "\n",
    "\n",
    "\n",
    "\n",
    "\n"
   ]
  },
  {
   "cell_type": "code",
   "execution_count": null,
   "metadata": {
    "_cell_guid": "b1076dfc-b9ad-4769-8c92-a6c4dae69d19",
    "_uuid": "8f2839f25d086af736a60e9eeb907d3b93b6e0e5",
    "execution": {
     "iopub.execute_input": "2024-07-16T05:37:08.518147Z",
     "iopub.status.busy": "2024-07-16T05:37:08.517775Z",
     "iopub.status.idle": "2024-07-16T05:37:16.400033Z",
     "shell.execute_reply": "2024-07-16T05:37:16.398851Z",
     "shell.execute_reply.started": "2024-07-16T05:37:08.518119Z"
    }
   },
   "outputs": [],
   "source": [
    "import json\n",
    "import pandas as pd\n",
    "import numpy as np\n",
    "from tqdm.auto import tqdm\n",
    "import pickle\n",
    "import random\n",
    "import os\n",
    "import sys\n",
    "\n",
    "import transformers\n",
    "from transformers import AdamW\n",
    "from transformers import AutoTokenizer, AutoModel, AutoConfig\n",
    "from transformers import get_cosine_schedule_with_warmup\n",
    "\n",
    "import torch\n",
    "import torch.nn as nn\n",
    "from torch.utils.data import DataLoader, Dataset\n",
    "\n",
    "import sklearn.metrics\n",
    "from sklearn.metrics import accuracy_score\n",
    "\n",
    "os.environ[\"TOKENIZERS_PARALLELISM\"] = \"true\"\n",
    "device = torch.device('cuda' if torch.cuda.is_available() else 'cpu')\n",
    "print(device)"
   ]
  },
  {
   "cell_type": "code",
   "execution_count": null,
   "metadata": {
    "execution": {
     "iopub.execute_input": "2024-07-16T05:37:16.403148Z",
     "iopub.status.busy": "2024-07-16T05:37:16.402155Z",
     "iopub.status.idle": "2024-07-16T05:37:16.408247Z",
     "shell.execute_reply": "2024-07-16T05:37:16.407299Z",
     "shell.execute_reply.started": "2024-07-16T05:37:16.403107Z"
    }
   },
   "outputs": [],
   "source": [
    "class CFG:\n",
    "    INPUT_DIR = \"/kaggle/input/lmsys-chatbot-arena/\"\n",
    "    OUTPUT = \"/kaggle/working\"\n",
    "    MODEL_ID = \"/kaggle/input/llama-3/transformers/8b-hf/1\"\n",
    "    SEED = 42\n",
    "    USE_TURN = 0"
   ]
  },
  {
   "cell_type": "code",
   "execution_count": null,
   "metadata": {
    "execution": {
     "iopub.execute_input": "2024-07-16T05:37:16.410005Z",
     "iopub.status.busy": "2024-07-16T05:37:16.409365Z",
     "iopub.status.idle": "2024-07-16T05:37:19.824417Z",
     "shell.execute_reply": "2024-07-16T05:37:19.823342Z",
     "shell.execute_reply.started": "2024-07-16T05:37:16.409979Z"
    }
   },
   "outputs": [],
   "source": [
    "train_df = pd.read_csv(f\"{CFG.INPUT_DIR}/train.csv\")\n",
    "train_df"
   ]
  },
  {
   "cell_type": "code",
   "execution_count": null,
   "metadata": {
    "execution": {
     "iopub.execute_input": "2024-07-16T05:37:19.828212Z",
     "iopub.status.busy": "2024-07-16T05:37:19.827394Z",
     "iopub.status.idle": "2024-07-16T05:38:57.614487Z",
     "shell.execute_reply": "2024-07-16T05:38:57.613657Z",
     "shell.execute_reply.started": "2024-07-16T05:37:19.828177Z"
    }
   },
   "outputs": [],
   "source": [
    "from transformers import AutoModelForCausalLM, AutoTokenizer\n",
    "\n",
    "model = AutoModelForCausalLM.from_pretrained(\n",
    "    CFG.MODEL_ID,\n",
    "    torch_dtype=torch.float16,\n",
    "    device_map='auto',\n",
    ")"
   ]
  },
  {
   "cell_type": "code",
   "execution_count": null,
   "metadata": {
    "execution": {
     "iopub.execute_input": "2024-07-16T05:38:57.616385Z",
     "iopub.status.busy": "2024-07-16T05:38:57.615793Z",
     "iopub.status.idle": "2024-07-16T05:38:58.108652Z",
     "shell.execute_reply": "2024-07-16T05:38:58.107794Z",
     "shell.execute_reply.started": "2024-07-16T05:38:57.616348Z"
    }
   },
   "outputs": [],
   "source": [
    "tokenizer = AutoTokenizer.from_pretrained(\n",
    "    CFG.MODEL_ID,\n",
    "    use_fast=False,\n",
    "    trust_remote_code=True,\n",
    "    padding_side=\"left\",\n",
    "    pad_token=\"<|endoftext|>\"\n",
    ")\n",
    "model.config.pad_token_id = model.config.eos_token_id"
   ]
  },
  {
   "cell_type": "code",
   "execution_count": null,
   "metadata": {
    "execution": {
     "iopub.execute_input": "2024-07-16T05:38:58.110156Z",
     "iopub.status.busy": "2024-07-16T05:38:58.109829Z",
     "iopub.status.idle": "2024-07-16T05:38:58.136152Z",
     "shell.execute_reply": "2024-07-16T05:38:58.135275Z",
     "shell.execute_reply.started": "2024-07-16T05:38:58.110122Z"
    }
   },
   "outputs": [],
   "source": [
    "n_valid = len(train_df) // 5\n",
    "sample_df = train_df.sample(n_valid, random_state=CFG.SEED)\n",
    "sample_df.head()"
   ]
  },
  {
   "cell_type": "code",
   "execution_count": null,
   "metadata": {
    "execution": {
     "iopub.execute_input": "2024-07-16T05:40:24.347565Z",
     "iopub.status.busy": "2024-07-16T05:40:24.347188Z",
     "iopub.status.idle": "2024-07-16T05:40:37.053129Z",
     "shell.execute_reply": "2024-07-16T05:40:37.051932Z",
     "shell.execute_reply.started": "2024-07-16T05:40:24.347535Z"
    }
   },
   "outputs": [],
   "source": [
    "results = []\n",
    "for _, row in tqdm(sample_df.iterrows(), total=len(sample_df)):\n",
    "    prompt = json.loads(row[\"prompt\"])\n",
    "    response_a = json.loads(row[\"response_a\"])\n",
    "    response_b = json.loads(row[\"response_b\"])\n",
    "    \n",
    "    \n",
    "    p = prompt[CFG.USE_TURN]\n",
    "    a = response_a[CFG.USE_TURN]\n",
    "    b = response_b[CFG.USE_TURN]\n",
    "    \n",
    "    if a is None or b is None or len(p.split()) < 3:\n",
    "        continue\n",
    "        \n",
    "    p = \" ... \".join([\"none\" if i is None else i for i in prompt])\n",
    "    a = \" ... \".join([\"none\" if i is None else i for i in response_a])\n",
    "    b = \" ... \".join([\"none\" if i is None else i for i in response_b])\n",
    "    # Use head and tail\n",
    "    p = p[:128] + \" ... \" + p[-128:]\n",
    "    a = a[:256] + \" ... \" + a[-256:]\n",
    "    b = b[:256] + \" ... \" + b[-256:]\n",
    "    \n",
    "    text = f\"\"\"### Instruction\n",
    "Which model's answer is appropriate for the prompt?　If both are appropriate, answer `tie`.\n",
    "\n",
    "### Prompt\n",
    "{p}\n",
    "\n",
    "### A\n",
    "{a}\n",
    "\n",
    "### B\n",
    "{b}\n",
    "\n",
    "### Answer\n",
    "\"\"\"\n",
    "\n",
    "    toks = tokenizer(text)\n",
    "\n",
    "    for k in toks.keys():\n",
    "        toks[k] = torch.tensor(toks[k]).cuda()  \n",
    "\n",
    "    with torch.no_grad():\n",
    "        out = model(toks[\"input_ids\"].unsqueeze(0))\n",
    "\n",
    "    pred_token_id = tokenizer.encode(\"A\") + tokenizer.encode(\"B\") + tokenizer.encode(\"tie\")\n",
    "    pred = out.logits[0, -1, pred_token_id].cpu().softmax(0).numpy()\n",
    "    \n",
    "    d = row.to_dict()\n",
    "    d[\"predict\"] = pred\n",
    "    results.append(d)"
   ]
  },
  {
   "cell_type": "code",
   "execution_count": null,
   "metadata": {
    "execution": {
     "iopub.execute_input": "2024-07-16T05:40:38.450591Z",
     "iopub.status.busy": "2024-07-16T05:40:38.449756Z",
     "iopub.status.idle": "2024-07-16T05:40:38.502306Z",
     "shell.execute_reply": "2024-07-16T05:40:38.50127Z",
     "shell.execute_reply.started": "2024-07-16T05:40:38.450547Z"
    }
   },
   "outputs": [],
   "source": [
    "results_df = pd.DataFrame(results)\n",
    "results_df"
   ]
  },
  {
   "cell_type": "code",
   "execution_count": null,
   "metadata": {
    "execution": {
     "iopub.execute_input": "2024-07-16T05:40:43.05081Z",
     "iopub.status.busy": "2024-07-16T05:40:43.050093Z",
     "iopub.status.idle": "2024-07-16T05:40:43.076852Z",
     "shell.execute_reply": "2024-07-16T05:40:43.076064Z",
     "shell.execute_reply.started": "2024-07-16T05:40:43.050768Z"
    }
   },
   "outputs": [],
   "source": [
    "results_df.to_csv(\"result.csv\", index=None)"
   ]
  },
  {
   "cell_type": "code",
   "execution_count": null,
   "metadata": {
    "execution": {
     "iopub.status.busy": "2024-07-16T05:39:12.796211Z",
     "iopub.status.idle": "2024-07-16T05:39:12.796572Z",
     "shell.execute_reply": "2024-07-16T05:39:12.796415Z",
     "shell.execute_reply.started": "2024-07-16T05:39:12.7964Z"
    }
   },
   "outputs": [],
   "source": [
    "!ls"
   ]
  },
  {
   "cell_type": "code",
   "execution_count": null,
   "metadata": {
    "execution": {
     "iopub.execute_input": "2024-07-16T05:40:49.426708Z",
     "iopub.status.busy": "2024-07-16T05:40:49.426315Z",
     "iopub.status.idle": "2024-07-16T05:40:49.433051Z",
     "shell.execute_reply": "2024-07-16T05:40:49.431902Z",
     "shell.execute_reply.started": "2024-07-16T05:40:49.426677Z"
    }
   },
   "outputs": [],
   "source": [
    "targets = results_df[[\"winner_model_a\", \"winner_model_b\", \"winner_tie\"]].values\n",
    "\n",
    "predicts = np.array(results_df[\"predict\"].tolist())"
   ]
  },
  {
   "cell_type": "code",
   "execution_count": null,
   "metadata": {
    "execution": {
     "iopub.execute_input": "2024-07-16T05:40:50.609522Z",
     "iopub.status.busy": "2024-07-16T05:40:50.609076Z",
     "iopub.status.idle": "2024-07-16T05:40:50.620879Z",
     "shell.execute_reply": "2024-07-16T05:40:50.619702Z",
     "shell.execute_reply.started": "2024-07-16T05:40:50.609473Z"
    }
   },
   "outputs": [],
   "source": [
    "logloss = sklearn.metrics.log_loss(targets, predicts)\n",
    "print(logloss)"
   ]
  },
  {
   "cell_type": "code",
   "execution_count": null,
   "metadata": {
    "execution": {
     "iopub.status.busy": "2024-07-16T05:39:12.799897Z",
     "iopub.status.idle": "2024-07-16T05:39:12.80023Z",
     "shell.execute_reply": "2024-07-16T05:39:12.800083Z",
     "shell.execute_reply.started": "2024-07-16T05:39:12.800068Z"
    }
   },
   "outputs": [],
   "source": [
    "!ls"
   ]
  },
  {
   "cell_type": "markdown",
   "id": "4af7a48d",
   "metadata": {},
   "source": [
    "### Next steps:\n",
    "\n",
    "- Try a larger model (with better benchmark accuracy)\n",
    "- Refine the prompt.\n",
    "- SFT (Supervised Fine-Tuning) on competition data\n",
    "- Use ensemble "
   ]
  }
 ],
 "metadata": {
  "kaggle": {
   "accelerator": "nvidiaTeslaT4",
   "dataSources": [
    {
     "databundleVersionId": 8346466,
     "sourceId": 66631,
     "sourceType": "competition"
    },
    {
     "datasetId": 3516822,
     "sourceId": 8956143,
     "sourceType": "datasetVersion"
    },
    {
     "modelInstanceId": 28079,
     "sourceId": 33547,
     "sourceType": "modelInstanceVersion"
    }
   ],
   "dockerImageVersionId": 30733,
   "isGpuEnabled": true,
   "isInternetEnabled": true,
   "language": "python",
   "sourceType": "notebook"
  },
  "kernelspec": {
   "display_name": "Python 3",
   "language": "python",
   "name": "python3"
  },
  "language_info": {
   "codemirror_mode": {
    "name": "ipython",
    "version": 3
   },
   "file_extension": ".py",
   "mimetype": "text/x-python",
   "name": "python",
   "nbconvert_exporter": "python",
   "pygments_lexer": "ipython3",
   "version": "3.10.13"
  }
 },
 "nbformat": 4,
 "nbformat_minor": 4
}
