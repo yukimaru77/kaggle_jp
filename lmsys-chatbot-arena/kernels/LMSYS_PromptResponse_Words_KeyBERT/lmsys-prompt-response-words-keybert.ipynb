{
 "cells": [
  {
   "cell_type": "markdown",
   "id": "4378bf48",
   "metadata": {},
   "source": [
    "# LMSYS Prompt/Response Words KeyBERT\n",
    "\n",
    "\n",
    "\n",
    "KeyBERT is a Python library for keyword extraction and keyphrase extraction. It is built on top of the Hugging Face Transformers library and leverages pre-trained transformer models, such as BERT, to extract key phrases or keywords from a given text. KeyBERT is particularly useful for tasks like document summarization, content analysis, and information retrieval."
   ]
  },
  {
   "cell_type": "code",
   "execution_count": null,
   "metadata": {
    "_kg_hide-output": true,
    "execution": {
     "iopub.execute_input": "2024-07-28T14:33:41.208147Z",
     "iopub.status.busy": "2024-07-28T14:33:41.207826Z",
     "iopub.status.idle": "2024-07-28T14:33:55.646158Z",
     "shell.execute_reply": "2024-07-28T14:33:55.645245Z",
     "shell.execute_reply.started": "2024-07-28T14:33:41.208121Z"
    },
    "papermill": {
     "duration": 0.028693,
     "end_time": "2023-05-15T04:09:36.103904",
     "exception": false,
     "start_time": "2023-05-15T04:09:36.075211",
     "status": "completed"
    },
    "tags": []
   },
   "outputs": [],
   "source": [
    "!pip install keybert"
   ]
  },
  {
   "cell_type": "code",
   "execution_count": null,
   "metadata": {
    "execution": {
     "iopub.execute_input": "2024-07-28T14:33:55.648904Z",
     "iopub.status.busy": "2024-07-28T14:33:55.648601Z",
     "iopub.status.idle": "2024-07-28T14:34:12.862008Z",
     "shell.execute_reply": "2024-07-28T14:34:12.860935Z",
     "shell.execute_reply.started": "2024-07-28T14:33:55.648877Z"
    },
    "papermill": {
     "duration": 5.536922,
     "end_time": "2023-05-15T04:09:41.654588",
     "exception": false,
     "start_time": "2023-05-15T04:09:36.117666",
     "status": "completed"
    },
    "tags": []
   },
   "outputs": [],
   "source": [
    "import numpy as np \n",
    "import pandas as pd \n",
    "import random\n",
    "import os\n",
    "from keybert import KeyBERT\n",
    "import matplotlib.pyplot as plt"
   ]
  },
  {
   "cell_type": "code",
   "execution_count": null,
   "metadata": {
    "execution": {
     "iopub.execute_input": "2024-07-28T14:34:12.863778Z",
     "iopub.status.busy": "2024-07-28T14:34:12.863198Z",
     "iopub.status.idle": "2024-07-28T14:34:28.004067Z",
     "shell.execute_reply": "2024-07-28T14:34:28.003196Z",
     "shell.execute_reply.started": "2024-07-28T14:34:12.86375Z"
    }
   },
   "outputs": [],
   "source": [
    "model = KeyBERT('distilbert-base-nli-mean-tokens')"
   ]
  },
  {
   "cell_type": "code",
   "execution_count": null,
   "metadata": {
    "execution": {
     "iopub.status.busy": "2024-07-28T14:34:28.225539Z",
     "iopub.status.idle": "2024-07-28T14:34:28.226014Z",
     "shell.execute_reply": "2024-07-28T14:34:28.225756Z",
     "shell.execute_reply.started": "2024-07-28T14:34:28.225737Z"
    }
   },
   "outputs": [],
   "source": [
    "train = pd.read_csv('/kaggle/input/lmsys-chatbot-arena/train.csv')#, encoding='iso-8859-1')\n",
    "print(len(train))\n",
    "train['prompt_kw']='-'\n",
    "train['res_a_kw']='-'\n",
    "train['res_b_kw']='-'\n",
    "\n",
    "test = pd.read_csv('/kaggle/input/lmsys-chatbot-arena/test.csv')#, encoding='iso-8859-1')\n",
    "test['prompt_kw']='-'\n",
    "test['res_a_kw']='-'\n",
    "test['res_b_kw']='-'"
   ]
  },
  {
   "cell_type": "code",
   "execution_count": null,
   "metadata": {
    "execution": {
     "iopub.status.busy": "2024-07-28T14:34:28.227646Z",
     "iopub.status.idle": "2024-07-28T14:34:28.228005Z",
     "shell.execute_reply": "2024-07-28T14:34:28.227856Z",
     "shell.execute_reply.started": "2024-07-28T14:34:28.227839Z"
    }
   },
   "outputs": [],
   "source": [
    "kw0 = model.extract_keywords(train['prompt'],top_n=5)\n",
    "kw1 = model.extract_keywords(train['response_a'],top_n=20)\n",
    "kw2 = model.extract_keywords(train['response_b'],top_n=20)\n",
    "\n",
    "tkw0 = model.extract_keywords(test['prompt'],top_n=5)\n",
    "tkw1 = model.extract_keywords(test['response_a'],top_n=20)\n",
    "tkw2 = model.extract_keywords(test['response_b'],top_n=20)"
   ]
  },
  {
   "cell_type": "code",
   "execution_count": null,
   "metadata": {
    "execution": {
     "iopub.status.busy": "2024-07-28T14:34:28.229242Z",
     "iopub.status.idle": "2024-07-28T14:34:28.229689Z",
     "shell.execute_reply": "2024-07-28T14:34:28.229478Z",
     "shell.execute_reply.started": "2024-07-28T14:34:28.22946Z"
    }
   },
   "outputs": [],
   "source": [
    "for i,w in enumerate(kw0): \n",
    "    ws=[]\n",
    "    for wi in w:\n",
    "        if '_' not in wi[0]:\n",
    "            ws+=[wi[0]]\n",
    "    train.loc[i,'prompt_kw']=' '.join(ws)\n",
    "    \n",
    "for i,w in enumerate(kw1): \n",
    "    ws=[]\n",
    "    for wi in w:\n",
    "        if '_' not in wi[0]:\n",
    "            ws+=[wi[0]]\n",
    "    train.loc[i,'res_a_kw']=' '.join(ws)  \n",
    "    \n",
    "for i,w in enumerate(kw2): \n",
    "    ws=[]\n",
    "    for wi in w:\n",
    "        if '_' not in wi[0]:\n",
    "            ws+=[wi[0]]\n",
    "    train.loc[i,'res_b_kw']=' '.join(ws)   \n",
    "\n",
    "train['res_a_kw']=train['prompt_kw']+' / '+train['res_a_kw']\n",
    "train['res_b_kw']=train['prompt_kw']+' / '+train['res_b_kw']\n",
    "train=train.iloc[:,6:]\n",
    "display(train)\n",
    "\n",
    "train.to_csv('train_key.csv',index=False)"
   ]
  },
  {
   "cell_type": "code",
   "execution_count": null,
   "metadata": {
    "execution": {
     "iopub.status.busy": "2024-07-28T14:34:28.231526Z",
     "iopub.status.idle": "2024-07-28T14:34:28.231856Z",
     "shell.execute_reply": "2024-07-28T14:34:28.231711Z",
     "shell.execute_reply.started": "2024-07-28T14:34:28.231698Z"
    }
   },
   "outputs": [],
   "source": [
    "for i,w in enumerate(tkw0): \n",
    "    ws=[]\n",
    "    for wi in w:\n",
    "        if '_' not in wi[0]:\n",
    "            ws+=[wi[0]]\n",
    "    test.loc[i,'prompt_kw']=' '.join(ws)\n",
    "    \n",
    "for i,w in enumerate(tkw1): \n",
    "    ws=[]\n",
    "    for wi in w:\n",
    "        if '_' not in wi[0]:\n",
    "            ws+=[wi[0]]\n",
    "    test.loc[i,'res_a_kw']=' '.join(ws)  \n",
    "    \n",
    "for i,w in enumerate(tkw2): \n",
    "    ws=[]\n",
    "    for wi in w:\n",
    "        if '_' not in wi[0]:\n",
    "            ws+=[wi[0]]\n",
    "    test.loc[i,'res_b_kw']=' '.join(ws)   \n",
    "\n",
    "test['res_a_kw']=test['prompt_kw']+' / '+test['res_a_kw']\n",
    "test['res_b_kw']=test['prompt_kw']+' / '+test['res_b_kw']\n",
    "test=test.iloc[:,4:]\n",
    "display(test)\n",
    "\n",
    "test.to_csv('test_key.csv',index=False)"
   ]
  }
 ],
 "metadata": {
  "kaggle": {
   "accelerator": "gpu",
   "dataSources": [
    {
     "databundleVersionId": 8346466,
     "sourceId": 66631,
     "sourceType": "competition"
    }
   ],
   "isGpuEnabled": true,
   "isInternetEnabled": true,
   "language": "python",
   "sourceType": "notebook"
  },
  "kernelspec": {
   "display_name": "Python 3",
   "language": "python",
   "name": "python3"
  },
  "language_info": {
   "codemirror_mode": {
    "name": "ipython",
    "version": 3
   },
   "file_extension": ".py",
   "mimetype": "text/x-python",
   "name": "python",
   "nbconvert_exporter": "python",
   "pygments_lexer": "ipython3",
   "version": "3.10.13"
  }
 },
 "nbformat": 4,
 "nbformat_minor": 4
}
