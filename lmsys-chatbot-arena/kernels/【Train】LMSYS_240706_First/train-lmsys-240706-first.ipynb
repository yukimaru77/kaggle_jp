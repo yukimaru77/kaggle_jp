{
 "cells": [
  {
   "cell_type": "code",
   "execution_count": null,
   "metadata": {
    "_cell_guid": "b1076dfc-b9ad-4769-8c92-a6c4dae69d19",
    "_uuid": "8f2839f25d086af736a60e9eeb907d3b93b6e0e5",
    "execution": {
     "iopub.execute_input": "2024-07-06T03:55:51.379412Z",
     "iopub.status.busy": "2024-07-06T03:55:51.379039Z",
     "iopub.status.idle": "2024-07-06T03:57:45.456341Z",
     "shell.execute_reply": "2024-07-06T03:57:45.455303Z",
     "shell.execute_reply.started": "2024-07-06T03:55:51.379376Z"
    }
   },
   "outputs": [],
   "source": [
    "!pip install -q -U bitsandbytes\n",
    "!pip install -q -U transformers\n",
    "!pip install -q -U peft\n",
    "!pip install -q -U accelerate\n",
    "!pip install -q -U datasets\n",
    "!pip install -q -U trl"
   ]
  },
  {
   "cell_type": "code",
   "execution_count": null,
   "metadata": {
    "execution": {
     "iopub.execute_input": "2024-07-06T03:57:45.459419Z",
     "iopub.status.busy": "2024-07-06T03:57:45.458724Z",
     "iopub.status.idle": "2024-07-06T03:58:02.902179Z",
     "shell.execute_reply": "2024-07-06T03:58:02.901398Z",
     "shell.execute_reply.started": "2024-07-06T03:57:45.45938Z"
    }
   },
   "outputs": [],
   "source": [
    "import pandas as pd\n",
    "from torch.utils.data import Dataset\n",
    "from torch.utils.data import DataLoader\n",
    "import os\n",
    "import torch\n",
    "from time import time\n",
    "from datasets import load_dataset\n",
    "from peft import LoraConfig, PeftModel, prepare_model_for_kbit_training\n",
    "from transformers import (\n",
    "    AutoConfig,\n",
    "    AutoModelForCausalLM,\n",
    "    AutoTokenizer,\n",
    "    BitsAndBytesConfig,\n",
    "    AutoTokenizer,\n",
    "    TrainingArguments,\n",
    "    AutoModelForSequenceClassification,\n",
    "    Trainer,\n",
    "    EarlyStoppingCallback\n",
    ")\n",
    "from trl import SFTTrainer,setup_chat_format\n",
    "import numpy as np\n",
    "from transformers import BitsAndBytesConfig, AutoModelForSequenceClassification\n",
    "from peft import LoraConfig, prepare_model_for_kbit_training, get_peft_model\n",
    "from transformers import AutoTokenizer\n",
    "from datasets import DatasetDict, Dataset"
   ]
  },
  {
   "cell_type": "code",
   "execution_count": null,
   "metadata": {
    "execution": {
     "iopub.execute_input": "2024-07-06T03:58:02.90384Z",
     "iopub.status.busy": "2024-07-06T03:58:02.903286Z",
     "iopub.status.idle": "2024-07-06T03:58:02.909301Z",
     "shell.execute_reply": "2024-07-06T03:58:02.908303Z",
     "shell.execute_reply.started": "2024-07-06T03:58:02.903812Z"
    }
   },
   "outputs": [],
   "source": [
    "class CFG:\n",
    "    VER = 1\n",
    "    NUM_LABELS = 3\n",
    "    BATCH_SIZE = 4\n",
    "    EPOCHS = 1\n",
    "    \n",
    "    MODEL_NAME = '/kaggle/input/llama-3/transformers/8b-chat-hf/1'\n",
    "\n",
    "    \n",
    "    SEED = 2024 \n",
    "    MAX_LENGTH = 1024 \n",
    "    \n",
    "    OUTPUT_DIR = 'Llama 3 8b fine-tuned model'"
   ]
  },
  {
   "cell_type": "markdown",
   "id": "f5c04424",
   "metadata": {},
   "source": [
    "# Prepare Dataset"
   ]
  },
  {
   "cell_type": "code",
   "execution_count": null,
   "metadata": {
    "execution": {
     "iopub.execute_input": "2024-07-06T03:58:02.912449Z",
     "iopub.status.busy": "2024-07-06T03:58:02.912076Z",
     "iopub.status.idle": "2024-07-06T03:58:06.89136Z",
     "shell.execute_reply": "2024-07-06T03:58:06.890385Z",
     "shell.execute_reply.started": "2024-07-06T03:58:02.912415Z"
    }
   },
   "outputs": [],
   "source": [
    "train = pd.read_csv('/kaggle/input/lmsys-chatbot-arena/train.csv')\n",
    "train = train[:int(len(train)*0.01)]\n",
    "def process(input_str):\n",
    "    stripped_str = input_str.strip('[]')\n",
    "    sentences = [s.strip('\"') for s in stripped_str.split('\",\"')]\n",
    "    return  ' '.join(sentences)\n",
    "\n",
    "train.loc[:, 'prompt'] = train['prompt'].apply(process)\n",
    "train.loc[:, 'response_a'] = train['response_a'].apply(process)\n",
    "train.loc[:, 'response_b'] = train['response_b'].apply(process)\n",
    "\n",
    "# Drop 'Null' for training\n",
    "indexes = train[(train.response_a == 'null') & (train.response_b == 'null')].index\n",
    "train.drop(indexes, inplace=True)\n",
    "train.reset_index(inplace=True, drop=True)\n",
    "train.loc[:, 'label'] = np.argmax(train[['winner_model_a','winner_model_b','winner_tie']].values, axis=1)\n",
    "\n",
    "print(f\"Total {len(indexes)} Null response rows dropped\")\n",
    "print('Total train samples: ', len(train))\n",
    "\n",
    "train['text'] = 'User prompt: ' + train['prompt'] +  '\\n\\nModel A :\\n' + train['response_a'] +'\\n\\n--------\\n\\nModel B:\\n'  + train['response_b']\n",
    "print(train['text'][4])"
   ]
  },
  {
   "cell_type": "code",
   "execution_count": null,
   "metadata": {},
   "outputs": [],
   "source": [
    "from sklearn.model_selection import train_test_split\n",
    "\n",
    "train_df, val_df = train_test_split(train, test_size=0.2, random_state=42)\n",
    "\n",
    "dataset_train = Dataset.from_pandas(train_df)\n",
    "dataset_val = Dataset.from_pandas(val_df)\n",
    "\n",
    "# Combine them into a single DatasetDict\n",
    "dataset = DatasetDict({\n",
    "    'train': dataset_train,\n",
    "    'val': dataset_val,\n",
    "})"
   ]
  },
  {
   "cell_type": "markdown",
   "id": "599d06d1",
   "metadata": {},
   "source": [
    "# Model Loading -Quantization"
   ]
  },
  {
   "cell_type": "code",
   "execution_count": null,
   "metadata": {
    "execution": {
     "iopub.execute_input": "2024-07-06T03:58:06.893045Z",
     "iopub.status.busy": "2024-07-06T03:58:06.892645Z",
     "iopub.status.idle": "2024-07-06T03:59:46.472597Z",
     "shell.execute_reply": "2024-07-06T03:59:46.471825Z",
     "shell.execute_reply.started": "2024-07-06T03:58:06.893005Z"
    }
   },
   "outputs": [],
   "source": [
    "quantization_config = BitsAndBytesConfig(\n",
    "    load_in_4bit = True, \n",
    "    bnb_4bit_quant_type = 'nf4',\n",
    "    bnb_4bit_use_double_quant = True, \n",
    "    bnb_4bit_compute_dtype = torch.bfloat16 \n",
    ")\n",
    "\n",
    "\n",
    "model = AutoModelForSequenceClassification.from_pretrained(\n",
    "    CFG.MODEL_NAME,\n",
    "    quantization_config=quantization_config,\n",
    "    num_labels=CFG.NUM_LABELS,\n",
    "    device_map='auto'\n",
    ")"
   ]
  },
  {
   "cell_type": "markdown",
   "id": "651e11b6",
   "metadata": {},
   "source": [
    "# LoRA Configuration"
   ]
  },
  {
   "cell_type": "code",
   "execution_count": null,
   "metadata": {
    "execution": {
     "iopub.execute_input": "2024-07-06T03:59:46.474051Z",
     "iopub.status.busy": "2024-07-06T03:59:46.473761Z",
     "iopub.status.idle": "2024-07-06T03:59:46.630998Z",
     "shell.execute_reply": "2024-07-06T03:59:46.630117Z",
     "shell.execute_reply.started": "2024-07-06T03:59:46.474026Z"
    }
   },
   "outputs": [],
   "source": [
    "lora_config = LoraConfig(\n",
    "    r = 16, \n",
    "    lora_alpha = 8,\n",
    "    target_modules = ['q_proj', 'k_proj', 'v_proj', 'o_proj'],\n",
    "    lora_dropout = 0.05, \n",
    "    bias = 'none',\n",
    "    task_type = 'SEQ_CLS'\n",
    ")\n",
    "model = prepare_model_for_kbit_training(model)\n",
    "model = get_peft_model(model, lora_config)"
   ]
  },
  {
   "cell_type": "code",
   "execution_count": null,
   "metadata": {
    "execution": {
     "iopub.execute_input": "2024-07-06T03:59:46.634472Z",
     "iopub.status.busy": "2024-07-06T03:59:46.634119Z",
     "iopub.status.idle": "2024-07-06T03:59:47.150667Z",
     "shell.execute_reply": "2024-07-06T03:59:47.149724Z",
     "shell.execute_reply.started": "2024-07-06T03:59:46.634439Z"
    }
   },
   "outputs": [],
   "source": [
    "tokenizer = AutoTokenizer.from_pretrained(CFG.MODEL_NAME, add_prefix_space=True)\n",
    "\n",
    "tokenizer.pad_token_id = tokenizer.eos_token_id\n",
    "tokenizer.pad_token = tokenizer.eos_token\n",
    "tokenizer.padding_side = 'right'\n",
    "tokenizer.add_eos_token = True"
   ]
  },
  {
   "cell_type": "code",
   "execution_count": null,
   "metadata": {
    "execution": {
     "iopub.execute_input": "2024-07-06T03:59:47.152169Z",
     "iopub.status.busy": "2024-07-06T03:59:47.151868Z",
     "iopub.status.idle": "2024-07-06T03:59:47.156728Z",
     "shell.execute_reply": "2024-07-06T03:59:47.155858Z",
     "shell.execute_reply.started": "2024-07-06T03:59:47.152126Z"
    }
   },
   "outputs": [],
   "source": [
    "model.config.pad_token_id = tokenizer.pad_token_id\n",
    "# model.config.use_cache = False\n",
    "model.config.pretraining_tp = 1"
   ]
  },
  {
   "cell_type": "code",
   "execution_count": null,
   "metadata": {
    "execution": {
     "iopub.execute_input": "2024-07-06T03:59:47.158355Z",
     "iopub.status.busy": "2024-07-06T03:59:47.157945Z",
     "iopub.status.idle": "2024-07-06T04:00:20.951584Z",
     "shell.execute_reply": "2024-07-06T04:00:20.950741Z",
     "shell.execute_reply.started": "2024-07-06T03:59:47.158325Z"
    }
   },
   "outputs": [],
   "source": [
    "def data_preprocesing(row):\n",
    "    return tokenizer(row['text'], padding='max_length', truncation=True, max_length=CFG.MAX_LENGTH, return_tensors='np')\n",
    "\n",
    "# dataset = Dataset.from_pandas(train)\n",
    "tokenized_data = dataset.map(data_preprocesing, batched=True, remove_columns=['text'])\n",
    "tokenized_data.set_format(\"torch\")"
   ]
  },
  {
   "cell_type": "markdown",
   "id": "3ce0a8ee",
   "metadata": {},
   "source": [
    "# Finetune Llama 3: Model Training"
   ]
  },
  {
   "cell_type": "code",
   "execution_count": null,
   "metadata": {
    "execution": {
     "iopub.execute_input": "2024-07-06T04:00:20.973247Z",
     "iopub.status.busy": "2024-07-06T04:00:20.972973Z",
     "iopub.status.idle": "2024-07-06T04:00:20.984616Z",
     "shell.execute_reply": "2024-07-06T04:00:20.983756Z",
     "shell.execute_reply.started": "2024-07-06T04:00:20.973224Z"
    }
   },
   "outputs": [],
   "source": [
    "training_args = TrainingArguments(\n",
    "    per_device_train_batch_size=CFG.BATCH_SIZE,\n",
    "    num_train_epochs=CFG.EPOCHS,\n",
    "    logging_dir = f'./logs_v{CFG.VER}',\n",
    "    output_dir = f'./output_v{CFG.VER}',\n",
    "    logging_steps=10,\n",
    "    save_steps=10,\n",
    "    logging_first_step=True,\n",
    "    overwrite_output_dir=True,\n",
    "    warmup_ratio=0.0,\n",
    "    learning_rate=5e-5,\n",
    "    lr_scheduler_type='constant',\n",
    "    weight_decay=0.01,\n",
    "    eval_steps=10,\n",
    "    evaluation_strategy='steps',\n",
    "    save_total_limit=2,\n",
    "    report_to='none',\n",
    "    load_best_model_at_end = True\n",
    ")"
   ]
  },
  {
   "cell_type": "code",
   "execution_count": null,
   "metadata": {
    "execution": {
     "iopub.execute_input": "2024-07-06T04:00:20.986076Z",
     "iopub.status.busy": "2024-07-06T04:00:20.985722Z",
     "iopub.status.idle": "2024-07-06T04:00:21.028074Z",
     "shell.execute_reply": "2024-07-06T04:00:21.027256Z",
     "shell.execute_reply.started": "2024-07-06T04:00:20.986044Z"
    }
   },
   "outputs": [],
   "source": [
    "trainer = Trainer(\n",
    "    model=model,\n",
    "    args=training_args,\n",
    "    train_dataset=tokenized_data['train'],\n",
    "    eval_dataset=tokenized_data['val'],\n",
    "    callbacks=[EarlyStoppingCallback(early_stopping_patience=10)]\n",
    ")\n",
    "\n",
    "train_result = trainer.train()"
   ]
  }
 ],
 "metadata": {
  "kaggle": {
   "accelerator": "nvidiaTeslaT4",
   "dataSources": [
    {
     "databundleVersionId": 8346466,
     "sourceId": 66631,
     "sourceType": "competition"
    },
    {
     "isSourceIdPinned": true,
     "modelInstanceId": 28083,
     "sourceId": 33551,
     "sourceType": "modelInstanceVersion"
    }
   ],
   "dockerImageVersionId": 30733,
   "isGpuEnabled": true,
   "isInternetEnabled": true,
   "language": "python",
   "sourceType": "notebook"
  },
  "kernelspec": {
   "display_name": "Python 3",
   "language": "python",
   "name": "python3"
  },
  "language_info": {
   "codemirror_mode": {
    "name": "ipython",
    "version": 3
   },
   "file_extension": ".py",
   "mimetype": "text/x-python",
   "name": "python",
   "nbconvert_exporter": "python",
   "pygments_lexer": "ipython3",
   "version": "3.10.13"
  }
 },
 "nbformat": 4,
 "nbformat_minor": 4
}
