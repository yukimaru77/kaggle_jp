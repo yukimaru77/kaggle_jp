{
 "cells": [
  {
   "cell_type": "code",
   "execution_count": null,
   "metadata": {
    "_cell_guid": "b1076dfc-b9ad-4769-8c92-a6c4dae69d19",
    "_uuid": "8f2839f25d086af736a60e9eeb907d3b93b6e0e5",
    "execution": {
     "iopub.execute_input": "2024-07-29T15:45:22.005006Z",
     "iopub.status.busy": "2024-07-29T15:45:22.004242Z",
     "iopub.status.idle": "2024-07-29T15:45:26.607756Z",
     "shell.execute_reply": "2024-07-29T15:45:26.606692Z",
     "shell.execute_reply.started": "2024-07-29T15:45:22.004972Z"
    }
   },
   "outputs": [],
   "source": [
    "import pandas as pd\n",
    "import torch\n",
    "from transformers import AutoTokenizer, AutoModel\n",
    "from sklearn.model_selection import train_test_split\n",
    "from sklearn.ensemble import RandomForestClassifier\n",
    "from sklearn.metrics import accuracy_score\n"
   ]
  },
  {
   "cell_type": "code",
   "execution_count": null,
   "metadata": {
    "execution": {
     "iopub.execute_input": "2024-07-29T15:45:44.55312Z",
     "iopub.status.busy": "2024-07-29T15:45:44.55235Z",
     "iopub.status.idle": "2024-07-29T15:45:47.971006Z",
     "shell.execute_reply": "2024-07-29T15:45:47.970154Z",
     "shell.execute_reply.started": "2024-07-29T15:45:44.553078Z"
    }
   },
   "outputs": [],
   "source": [
    "INPUT_DIR = \"/kaggle/input/lmsys-chatbot-arena/\"\n",
    "train_df = pd.read_csv(f\"{INPUT_DIR}/train.csv\")\n"
   ]
  },
  {
   "cell_type": "code",
   "execution_count": null,
   "metadata": {
    "execution": {
     "iopub.execute_input": "2024-07-29T15:45:49.326197Z",
     "iopub.status.busy": "2024-07-29T15:45:49.325826Z",
     "iopub.status.idle": "2024-07-29T15:45:49.343125Z",
     "shell.execute_reply": "2024-07-29T15:45:49.342049Z",
     "shell.execute_reply.started": "2024-07-29T15:45:49.326165Z"
    }
   },
   "outputs": [],
   "source": [
    "train_df"
   ]
  },
  {
   "cell_type": "code",
   "execution_count": null,
   "metadata": {
    "execution": {
     "iopub.execute_input": "2024-07-29T15:45:51.776787Z",
     "iopub.status.busy": "2024-07-29T15:45:51.776136Z",
     "iopub.status.idle": "2024-07-29T15:45:51.836264Z",
     "shell.execute_reply": "2024-07-29T15:45:51.835316Z",
     "shell.execute_reply.started": "2024-07-29T15:45:51.776755Z"
    }
   },
   "outputs": [],
   "source": [
    "train_df.info()\n"
   ]
  },
  {
   "cell_type": "code",
   "execution_count": null,
   "metadata": {
    "execution": {
     "iopub.execute_input": "2024-07-29T15:45:54.21277Z",
     "iopub.status.busy": "2024-07-29T15:45:54.212386Z",
     "iopub.status.idle": "2024-07-29T15:45:59.487518Z",
     "shell.execute_reply": "2024-07-29T15:45:59.48643Z",
     "shell.execute_reply.started": "2024-07-29T15:45:54.212739Z"
    }
   },
   "outputs": [],
   "source": [
    "MODEL_ID = \"bert-base-uncased\"\n",
    "tokenizer = AutoTokenizer.from_pretrained(MODEL_ID)\n",
    "model = AutoModel.from_pretrained(MODEL_ID)"
   ]
  },
  {
   "cell_type": "code",
   "execution_count": null,
   "metadata": {
    "execution": {
     "iopub.execute_input": "2024-07-29T15:46:01.80508Z",
     "iopub.status.busy": "2024-07-29T15:46:01.804428Z",
     "iopub.status.idle": "2024-07-29T15:46:01.864994Z",
     "shell.execute_reply": "2024-07-29T15:46:01.863926Z",
     "shell.execute_reply.started": "2024-07-29T15:46:01.805045Z"
    }
   },
   "outputs": [],
   "source": [
    "device = torch.device('cuda' if torch.cuda.is_available() else 'cpu')\n",
    "\n",
    "print(device)"
   ]
  },
  {
   "cell_type": "code",
   "execution_count": null,
   "metadata": {
    "execution": {
     "iopub.execute_input": "2024-07-29T15:46:04.76693Z",
     "iopub.status.busy": "2024-07-29T15:46:04.766122Z",
     "iopub.status.idle": "2024-07-29T15:46:05.094372Z",
     "shell.execute_reply": "2024-07-29T15:46:05.093467Z",
     "shell.execute_reply.started": "2024-07-29T15:46:04.7669Z"
    }
   },
   "outputs": [],
   "source": [
    "# Move model to GPU\n",
    "model.to(device)\n"
   ]
  },
  {
   "cell_type": "code",
   "execution_count": null,
   "metadata": {
    "execution": {
     "iopub.execute_input": "2024-07-29T15:46:30.889365Z",
     "iopub.status.busy": "2024-07-29T15:46:30.888689Z",
     "iopub.status.idle": "2024-07-29T15:46:30.894205Z",
     "shell.execute_reply": "2024-07-29T15:46:30.892929Z",
     "shell.execute_reply.started": "2024-07-29T15:46:30.889325Z"
    }
   },
   "outputs": [],
   "source": [
    "if tokenizer.pad_token is None:\n",
    "    tokenizer.add_special_tokens({'pad_token': '[PAD]'})\n",
    "    tokenizer.pad_token = '[PAD]'\n"
   ]
  },
  {
   "cell_type": "code",
   "execution_count": null,
   "metadata": {
    "execution": {
     "iopub.execute_input": "2024-07-29T15:52:26.63758Z",
     "iopub.status.busy": "2024-07-29T15:52:26.637204Z",
     "iopub.status.idle": "2024-07-29T15:52:26.642611Z",
     "shell.execute_reply": "2024-07-29T15:52:26.64146Z",
     "shell.execute_reply.started": "2024-07-29T15:52:26.637547Z"
    }
   },
   "outputs": [],
   "source": [
    "def tokenize_text(text):\n",
    "    return tokenizer(text, padding=True, truncation=True, return_tensors=\"pt\").to(device)"
   ]
  },
  {
   "cell_type": "code",
   "execution_count": null,
   "metadata": {
    "execution": {
     "iopub.execute_input": "2024-07-29T15:52:27.835878Z",
     "iopub.status.busy": "2024-07-29T15:52:27.834996Z",
     "iopub.status.idle": "2024-07-29T15:56:18.703387Z",
     "shell.execute_reply": "2024-07-29T15:56:18.702495Z",
     "shell.execute_reply.started": "2024-07-29T15:52:27.835847Z"
    }
   },
   "outputs": [],
   "source": [
    "train_df['prompt_tokens'] = train_df['prompt'].apply(tokenize_text)\n",
    "train_df['response_a_tokens'] = train_df['response_a'].apply(tokenize_text)\n",
    "train_df['response_b_tokens'] = train_df['response_b'].apply(tokenize_text)\n"
   ]
  },
  {
   "cell_type": "code",
   "execution_count": null,
   "metadata": {
    "execution": {
     "iopub.execute_input": "2024-07-29T15:56:18.705783Z",
     "iopub.status.busy": "2024-07-29T15:56:18.705464Z",
     "iopub.status.idle": "2024-07-29T15:56:18.739322Z",
     "shell.execute_reply": "2024-07-29T15:56:18.73824Z",
     "shell.execute_reply.started": "2024-07-29T15:56:18.705756Z"
    }
   },
   "outputs": [],
   "source": [
    "train_df"
   ]
  },
  {
   "cell_type": "code",
   "execution_count": null,
   "metadata": {
    "execution": {
     "iopub.execute_input": "2024-07-29T15:56:18.750386Z",
     "iopub.status.busy": "2024-07-29T15:56:18.750052Z",
     "iopub.status.idle": "2024-07-29T15:56:18.766567Z",
     "shell.execute_reply": "2024-07-29T15:56:18.765645Z",
     "shell.execute_reply.started": "2024-07-29T15:56:18.75035Z"
    }
   },
   "outputs": [],
   "source": [
    "def get_embeddings(text_tokens):\n",
    "    with torch.no_grad():\n",
    "        outputs = model(**text_tokens)\n",
    "    return outputs.last_hidden_state.mean(dim=1).squeeze().cpu().numpy()\n"
   ]
  },
  {
   "cell_type": "code",
   "execution_count": null,
   "metadata": {
    "execution": {
     "iopub.execute_input": "2024-07-29T15:56:18.768034Z",
     "iopub.status.busy": "2024-07-29T15:56:18.767732Z",
     "iopub.status.idle": "2024-07-29T16:42:56.714703Z",
     "shell.execute_reply": "2024-07-29T16:42:56.71372Z",
     "shell.execute_reply.started": "2024-07-29T15:56:18.768006Z"
    }
   },
   "outputs": [],
   "source": [
    "train_df['prompt_embeddings'] = train_df['prompt_tokens'].apply(lambda x: get_embeddings(x))\n",
    "train_df['response_a_embeddings'] = train_df['response_a_tokens'].apply(lambda x: get_embeddings(x))\n",
    "train_df['response_b_embeddings'] = train_df['response_b_tokens'].apply(lambda x: get_embeddings(x))\n"
   ]
  },
  {
   "cell_type": "code",
   "execution_count": null,
   "metadata": {
    "execution": {
     "iopub.execute_input": "2024-07-29T16:43:21.913194Z",
     "iopub.status.busy": "2024-07-29T16:43:21.912515Z",
     "iopub.status.idle": "2024-07-29T16:44:55.73248Z",
     "shell.execute_reply": "2024-07-29T16:44:55.731639Z",
     "shell.execute_reply.started": "2024-07-29T16:43:21.913146Z"
    }
   },
   "outputs": [],
   "source": [
    "X = pd.concat([pd.DataFrame(train_df['prompt_embeddings'].tolist()), \n",
    "               pd.DataFrame(train_df['response_a_embeddings'].tolist()), \n",
    "               pd.DataFrame(train_df['response_b_embeddings'].tolist())], axis=1)\n",
    "y = train_df[['winner_model_a', 'winner_model_b', 'winner_tie']].values.argmax(axis=1)\n"
   ]
  },
  {
   "cell_type": "code",
   "execution_count": null,
   "metadata": {
    "execution": {
     "iopub.execute_input": "2024-07-29T16:44:55.734497Z",
     "iopub.status.busy": "2024-07-29T16:44:55.734173Z",
     "iopub.status.idle": "2024-07-29T16:44:55.771555Z",
     "shell.execute_reply": "2024-07-29T16:44:55.770647Z",
     "shell.execute_reply.started": "2024-07-29T16:44:55.734469Z"
    }
   },
   "outputs": [],
   "source": [
    "#input \n",
    "X"
   ]
  },
  {
   "cell_type": "code",
   "execution_count": null,
   "metadata": {
    "execution": {
     "iopub.execute_input": "2024-07-29T16:44:55.773464Z",
     "iopub.status.busy": "2024-07-29T16:44:55.773036Z",
     "iopub.status.idle": "2024-07-29T16:44:55.780271Z",
     "shell.execute_reply": "2024-07-29T16:44:55.779339Z",
     "shell.execute_reply.started": "2024-07-29T16:44:55.773428Z"
    }
   },
   "outputs": [],
   "source": [
    "#output\n",
    "y"
   ]
  },
  {
   "cell_type": "code",
   "execution_count": null,
   "metadata": {
    "execution": {
     "iopub.execute_input": "2024-07-29T16:54:21.859786Z",
     "iopub.status.busy": "2024-07-29T16:54:21.858799Z",
     "iopub.status.idle": "2024-07-29T16:54:22.301019Z",
     "shell.execute_reply": "2024-07-29T16:54:22.300217Z",
     "shell.execute_reply.started": "2024-07-29T16:54:21.859747Z"
    }
   },
   "outputs": [],
   "source": [
    "X_train, X_val, y_train, y_val = train_test_split(X, y, test_size=0.2, random_state=42)"
   ]
  },
  {
   "cell_type": "code",
   "execution_count": null,
   "metadata": {
    "execution": {
     "iopub.execute_input": "2024-07-29T16:54:29.430379Z",
     "iopub.status.busy": "2024-07-29T16:54:29.429673Z",
     "iopub.status.idle": "2024-07-29T16:59:45.516713Z",
     "shell.execute_reply": "2024-07-29T16:59:45.515639Z",
     "shell.execute_reply.started": "2024-07-29T16:54:29.430344Z"
    }
   },
   "outputs": [],
   "source": [
    "clf = RandomForestClassifier(n_estimators=100, random_state=42)\n",
    "clf.fit(X_train, y_train)\n"
   ]
  },
  {
   "cell_type": "code",
   "execution_count": null,
   "metadata": {
    "execution": {
     "iopub.execute_input": "2024-07-29T16:59:45.519645Z",
     "iopub.status.busy": "2024-07-29T16:59:45.519226Z",
     "iopub.status.idle": "2024-07-29T16:59:46.296424Z",
     "shell.execute_reply": "2024-07-29T16:59:46.295434Z",
     "shell.execute_reply.started": "2024-07-29T16:59:45.519609Z"
    }
   },
   "outputs": [],
   "source": [
    "y_pred = clf.predict(X_val)\n",
    "accuracy = accuracy_score(y_val, y_pred)\n",
    "print(f'Validation Accuracy: {accuracy:.4f}')\n"
   ]
  },
  {
   "cell_type": "code",
   "execution_count": null,
   "metadata": {
    "execution": {
     "iopub.execute_input": "2024-07-29T16:59:46.298139Z",
     "iopub.status.busy": "2024-07-29T16:59:46.297753Z",
     "iopub.status.idle": "2024-07-29T16:59:46.308541Z",
     "shell.execute_reply": "2024-07-29T16:59:46.307775Z",
     "shell.execute_reply.started": "2024-07-29T16:59:46.298103Z"
    }
   },
   "outputs": [],
   "source": [
    "test_df = pd.read_csv(f\"{INPUT_DIR}/test.csv\")"
   ]
  },
  {
   "cell_type": "code",
   "execution_count": null,
   "metadata": {
    "execution": {
     "iopub.execute_input": "2024-07-29T17:00:05.171126Z",
     "iopub.status.busy": "2024-07-29T17:00:05.170163Z",
     "iopub.status.idle": "2024-07-29T17:00:05.428797Z",
     "shell.execute_reply": "2024-07-29T17:00:05.427774Z",
     "shell.execute_reply.started": "2024-07-29T17:00:05.171072Z"
    }
   },
   "outputs": [],
   "source": [
    "# Process Test Data\n",
    "test_df['prompt_tokens'] = test_df['prompt'].apply(tokenize_text)\n",
    "test_df['response_a_tokens'] = test_df['response_a'].apply(tokenize_text)\n",
    "test_df['response_b_tokens'] = test_df['response_b'].apply(tokenize_text)\n",
    "\n",
    "test_df['prompt_embeddings'] = test_df['prompt_tokens'].apply(get_embeddings)\n",
    "test_df['response_a_embeddings'] = test_df['response_a_tokens'].apply(get_embeddings)\n",
    "test_df['response_b_embeddings'] = test_df['response_b_tokens'].apply(get_embeddings)\n",
    "\n",
    "# Prepare Test Features\n",
    "X_test = pd.concat([pd.DataFrame(test_df['prompt_embeddings'].tolist()), \n",
    "                    pd.DataFrame(test_df['response_a_embeddings'].tolist()), \n",
    "                    pd.DataFrame(test_df['response_b_embeddings'].tolist())], axis=1)"
   ]
  },
  {
   "cell_type": "code",
   "execution_count": null,
   "metadata": {
    "execution": {
     "iopub.execute_input": "2024-07-29T17:00:27.734646Z",
     "iopub.status.busy": "2024-07-29T17:00:27.733816Z",
     "iopub.status.idle": "2024-07-29T17:00:27.766853Z",
     "shell.execute_reply": "2024-07-29T17:00:27.765647Z",
     "shell.execute_reply.started": "2024-07-29T17:00:27.734589Z"
    }
   },
   "outputs": [],
   "source": [
    "X_test"
   ]
  },
  {
   "cell_type": "code",
   "execution_count": null,
   "metadata": {
    "execution": {
     "iopub.execute_input": "2024-07-29T17:00:35.389917Z",
     "iopub.status.busy": "2024-07-29T17:00:35.389517Z",
     "iopub.status.idle": "2024-07-29T17:00:35.45484Z",
     "shell.execute_reply": "2024-07-29T17:00:35.45391Z",
     "shell.execute_reply.started": "2024-07-29T17:00:35.389889Z"
    }
   },
   "outputs": [],
   "source": [
    "y_test_pred_prob = clf.predict_proba(X_test)\n",
    "\n",
    "submission_df = pd.DataFrame(y_test_pred_prob, columns=['winner_model_a', 'winner_model_b', 'winner_tie'])\n",
    "submission_df.insert(0, 'id', test_df['id'])\n"
   ]
  },
  {
   "cell_type": "code",
   "execution_count": null,
   "metadata": {
    "execution": {
     "iopub.execute_input": "2024-07-29T17:00:37.167742Z",
     "iopub.status.busy": "2024-07-29T17:00:37.167028Z",
     "iopub.status.idle": "2024-07-29T17:00:37.181737Z",
     "shell.execute_reply": "2024-07-29T17:00:37.180781Z",
     "shell.execute_reply.started": "2024-07-29T17:00:37.167711Z"
    }
   },
   "outputs": [],
   "source": [
    "submission_df"
   ]
  },
  {
   "cell_type": "code",
   "execution_count": null,
   "metadata": {
    "execution": {
     "iopub.execute_input": "2024-07-29T17:00:39.547636Z",
     "iopub.status.busy": "2024-07-29T17:00:39.546988Z",
     "iopub.status.idle": "2024-07-29T17:00:39.557479Z",
     "shell.execute_reply": "2024-07-29T17:00:39.556534Z",
     "shell.execute_reply.started": "2024-07-29T17:00:39.547606Z"
    }
   },
   "outputs": [],
   "source": [
    "submission_df.to_csv('/kaggle/working/submission.csv', index=False)\n",
    "\n",
    "print(\"Submission file created.\")"
   ]
  }
 ],
 "metadata": {
  "kaggle": {
   "accelerator": "nvidiaTeslaT4",
   "dataSources": [
    {
     "databundleVersionId": 8346466,
     "sourceId": 66631,
     "sourceType": "competition"
    }
   ],
   "dockerImageVersionId": 30746,
   "isGpuEnabled": true,
   "isInternetEnabled": false,
   "language": "python",
   "sourceType": "notebook"
  },
  "kernelspec": {
   "display_name": "Python 3",
   "language": "python",
   "name": "python3"
  },
  "language_info": {
   "codemirror_mode": {
    "name": "ipython",
    "version": 3
   },
   "file_extension": ".py",
   "mimetype": "text/x-python",
   "name": "python",
   "nbconvert_exporter": "python",
   "pygments_lexer": "ipython3",
   "version": "3.10.13"
  }
 },
 "nbformat": 4,
 "nbformat_minor": 4
}
