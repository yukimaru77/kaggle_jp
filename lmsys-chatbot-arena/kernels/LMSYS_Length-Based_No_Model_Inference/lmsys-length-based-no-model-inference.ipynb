{
 "cells": [
  {
   "cell_type": "code",
   "execution_count": null,
   "metadata": {
    "execution": {
     "iopub.execute_input": "2024-07-03T13:36:32.197678Z",
     "iopub.status.busy": "2024-07-03T13:36:32.197284Z",
     "iopub.status.idle": "2024-07-03T13:36:32.218807Z",
     "shell.execute_reply": "2024-07-03T13:36:32.217461Z",
     "shell.execute_reply.started": "2024-07-03T13:36:32.197649Z"
    }
   },
   "outputs": [],
   "source": [
    "import numpy as np\n",
    "import pandas as pd\n",
    "\n",
    "from sklearn.metrics import log_loss\n",
    "df = pd.read_csv('/kaggle/input/lmsys-chatbot-arena/test.csv')\n",
    "\n",
    "df['response_a_len'] = df['response_a'].apply(lambda x: len(x))\n",
    "df['response_b_len'] = df['response_b'].apply(lambda x: len(x))\n",
    "\n",
    "df[\"ratio_response_b_response_a\"] = df['response_b_len'] / df['response_a_len']\n",
    "\n",
    "# This value is computed from train dataset\n",
    "avg_1 = {'winner_model_a': 0.2550469811145223, 'winner_model_b': 0.4547399758117034, 'winner_tie': 0.2902130430737743}\n",
    "avg_2 = {'winner_model_a': 0.31478770131771594, 'winner_model_b': 0.33601756954612005, 'winner_tie': 0.349194729136164}\n",
    "avg_3 = {'winner_model_a': 0.45816715010877446, 'winner_model_b': 0.25086113125453224, 'winner_tie': 0.29097171863669324}\n",
    "\n",
    "\n",
    "# The below threshold is also computed from the train datset\n",
    "def assign_prob(row):\n",
    "    if row['ratio_response_b_response_a'] <= 0.838296:\n",
    "        return avg_3.values()\n",
    "    elif row['ratio_response_b_response_a'] <= 1.004711:\n",
    "        return avg_2.values()\n",
    "    else:\n",
    "        return avg_1.values()\n",
    "\n",
    "\n",
    "\n",
    "df[['winner_model_a', 'winner_model_b', 'winner_tie']] = df.apply(\n",
    "    lambda x: assign_prob(x), axis=1, result_type='expand'\n",
    ")\n"
   ]
  },
  {
   "cell_type": "code",
   "execution_count": null,
   "metadata": {
    "execution": {
     "iopub.execute_input": "2024-07-03T13:36:36.866321Z",
     "iopub.status.busy": "2024-07-03T13:36:36.865923Z",
     "iopub.status.idle": "2024-07-03T13:36:36.880212Z",
     "shell.execute_reply": "2024-07-03T13:36:36.879026Z",
     "shell.execute_reply.started": "2024-07-03T13:36:36.866293Z"
    }
   },
   "outputs": [],
   "source": [
    "\n",
    "submission_df = pd.DataFrame(\n",
    "    {\n",
    "        'id': df['id'],\n",
    "        'winner_model_a': df['winner_model_a'],\n",
    "        'winner_model_b': df['winner_model_b'],\n",
    "        'winner_tie': df['winner_tie']\n",
    "    }\n",
    ")\n",
    "submission_df.to_csv(\"submission.csv\", index=False)\n",
    "submission_df"
   ]
  }
 ],
 "metadata": {
  "kaggle": {
   "accelerator": "none",
   "dataSources": [
    {
     "databundleVersionId": 8346466,
     "sourceId": 66631,
     "sourceType": "competition"
    }
   ],
   "dockerImageVersionId": 30732,
   "isGpuEnabled": false,
   "isInternetEnabled": false,
   "language": "python",
   "sourceType": "notebook"
  },
  "kernelspec": {
   "display_name": "Python 3",
   "language": "python",
   "name": "python3"
  },
  "language_info": {
   "codemirror_mode": {
    "name": "ipython",
    "version": 3
   },
   "file_extension": ".py",
   "mimetype": "text/x-python",
   "name": "python",
   "nbconvert_exporter": "python",
   "pygments_lexer": "ipython3",
   "version": "3.10.13"
  }
 },
 "nbformat": 4,
 "nbformat_minor": 4
}
