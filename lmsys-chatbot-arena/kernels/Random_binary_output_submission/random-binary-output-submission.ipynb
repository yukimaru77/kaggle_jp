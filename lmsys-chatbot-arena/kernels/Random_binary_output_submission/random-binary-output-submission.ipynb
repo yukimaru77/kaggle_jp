{
 "cells": [
  {
   "cell_type": "code",
   "execution_count": null,
   "metadata": {
    "_cell_guid": "b1076dfc-b9ad-4769-8c92-a6c4dae69d19",
    "_uuid": "8f2839f25d086af736a60e9eeb907d3b93b6e0e5",
    "execution": {
     "iopub.execute_input": "2024-07-26T19:58:48.907769Z",
     "iopub.status.busy": "2024-07-26T19:58:48.907399Z",
     "iopub.status.idle": "2024-07-26T19:58:50.094969Z",
     "shell.execute_reply": "2024-07-26T19:58:50.0939Z",
     "shell.execute_reply.started": "2024-07-26T19:58:48.907737Z"
    }
   },
   "outputs": [],
   "source": [
    "import numpy as np # linear algebra\n",
    "import pandas as pd # data processing, CSV file I/O (e.g. pd.read_csv)"
   ]
  },
  {
   "cell_type": "code",
   "execution_count": null,
   "metadata": {
    "execution": {
     "iopub.execute_input": "2024-07-26T19:59:59.28363Z",
     "iopub.status.busy": "2024-07-26T19:59:59.283265Z",
     "iopub.status.idle": "2024-07-26T19:59:59.31884Z",
     "shell.execute_reply": "2024-07-26T19:59:59.317767Z",
     "shell.execute_reply.started": "2024-07-26T19:59:59.2836Z"
    }
   },
   "outputs": [],
   "source": [
    "test = pd.read_csv('/kaggle/input/lmsys-chatbot-arena/test.csv')"
   ]
  },
  {
   "cell_type": "code",
   "execution_count": null,
   "metadata": {
    "execution": {
     "iopub.execute_input": "2024-07-26T20:24:28.929145Z",
     "iopub.status.busy": "2024-07-26T20:24:28.928697Z",
     "iopub.status.idle": "2024-07-26T20:24:28.948217Z",
     "shell.execute_reply": "2024-07-26T20:24:28.947125Z",
     "shell.execute_reply.started": "2024-07-26T20:24:28.929109Z"
    }
   },
   "outputs": [],
   "source": [
    "# Create a new DataFrame with the same 'id' column as 'test'\n",
    "sample_submission = pd.DataFrame({'id': test['id']})\n",
    "\n",
    "# Generate random winner columns\n",
    "n_rows = len(test)\n",
    "winners = np.random.choice(['a', 'b', 'tie'], size=n_rows)\n",
    "\n",
    "# Create the winner columns\n",
    "sample_submission['winner_model_a'] = (winners == 'a').astype(int)\n",
    "sample_submission['winner_model_b'] = (winners == 'b').astype(int)\n",
    "sample_submission['winner_tie'] = (winners == 'tie').astype(int)\n",
    "\n",
    "# Verify that the sum of winner columns is 1 for each row\n",
    "assert (sample_submission[['winner_model_a', 'winner_model_b', 'winner_tie']].sum(axis=1) == 1).all()\n",
    "\n",
    "# Display the first few rows of the new DataFrame\n",
    "print(sample_submission.head())"
   ]
  },
  {
   "cell_type": "code",
   "execution_count": null,
   "metadata": {},
   "outputs": [],
   "source": [
    "sample_submission.to_csv('submission.csv', index=False)"
   ]
  }
 ],
 "metadata": {
  "kaggle": {
   "accelerator": "none",
   "dataSources": [
    {
     "databundleVersionId": 8346466,
     "sourceId": 66631,
     "sourceType": "competition"
    }
   ],
   "dockerImageVersionId": 30746,
   "isGpuEnabled": false,
   "isInternetEnabled": false,
   "language": "python",
   "sourceType": "notebook"
  },
  "kernelspec": {
   "display_name": "Python 3",
   "language": "python",
   "name": "python3"
  },
  "language_info": {
   "codemirror_mode": {
    "name": "ipython",
    "version": 3
   },
   "file_extension": ".py",
   "mimetype": "text/x-python",
   "name": "python",
   "nbconvert_exporter": "python",
   "pygments_lexer": "ipython3",
   "version": "3.10.13"
  }
 },
 "nbformat": 4,
 "nbformat_minor": 4
}
