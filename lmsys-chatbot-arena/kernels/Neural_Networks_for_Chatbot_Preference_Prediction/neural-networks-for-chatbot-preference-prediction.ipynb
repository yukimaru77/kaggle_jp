{
 "cells": [
  {
   "cell_type": "code",
   "execution_count": null,
   "metadata": {
    "_cell_guid": "b1076dfc-b9ad-4769-8c92-a6c4dae69d19",
    "_uuid": "8f2839f25d086af736a60e9eeb907d3b93b6e0e5",
    "execution": {
     "iopub.execute_input": "2024-07-21T17:36:54.726752Z",
     "iopub.status.busy": "2024-07-21T17:36:54.726092Z",
     "iopub.status.idle": "2024-07-21T17:36:55.558709Z",
     "shell.execute_reply": "2024-07-21T17:36:55.557721Z",
     "shell.execute_reply.started": "2024-07-21T17:36:54.726713Z"
    }
   },
   "outputs": [],
   "source": [
    "# This Python 3 environment comes with many helpful analytics libraries installed\n",
    "# It is defined by the kaggle/python Docker image: https://github.com/kaggle/docker-python\n",
    "# For example, here's several helpful packages to load\n",
    "\n",
    "import numpy as np # linear algebra\n",
    "import pandas as pd # data processing, CSV file I/O (e.g. pd.read_csv)\n",
    "\n",
    "# Input data files are available in the read-only \"../input/\" directory\n",
    "# For example, running this (by clicking run or pressing Shift+Enter) will list all files under the input directory\n",
    "\n",
    "import os\n",
    "for dirname, _, filenames in os.walk('/kaggle/input'):\n",
    "    for filename in filenames:\n",
    "        print(os.path.join(dirname, filename))\n",
    "\n",
    "# You can write up to 20GB to the current directory (/kaggle/working/) that gets preserved as output when you create a version using \"Save & Run All\" \n",
    "# You can also write temporary files to /kaggle/temp/, but they won't be saved outside of the current session"
   ]
  },
  {
   "cell_type": "code",
   "execution_count": null,
   "metadata": {
    "execution": {
     "iopub.execute_input": "2024-07-21T17:36:55.561158Z",
     "iopub.status.busy": "2024-07-21T17:36:55.560592Z",
     "iopub.status.idle": "2024-07-21T17:36:59.259953Z",
     "shell.execute_reply": "2024-07-21T17:36:59.258008Z",
     "shell.execute_reply.started": "2024-07-21T17:36:55.561129Z"
    }
   },
   "outputs": [],
   "source": [
    "data=pd.read_csv('/kaggle/input/lmsys-chatbot-arena/train.csv')"
   ]
  },
  {
   "cell_type": "code",
   "execution_count": null,
   "metadata": {
    "execution": {
     "iopub.execute_input": "2024-07-21T17:36:59.262394Z",
     "iopub.status.busy": "2024-07-21T17:36:59.261988Z",
     "iopub.status.idle": "2024-07-21T17:37:52.550619Z",
     "shell.execute_reply": "2024-07-21T17:37:52.549505Z",
     "shell.execute_reply.started": "2024-07-21T17:36:59.262358Z"
    }
   },
   "outputs": [],
   "source": [
    "import pandas as pd\n",
    "import numpy as np\n",
    "from sklearn.model_selection import train_test_split\n",
    "from sklearn.preprocessing import LabelEncoder, StandardScaler\n",
    "from tensorflow.keras.models import Sequential\n",
    "from tensorflow.keras.layers import Dense, Dropout\n",
    "from tensorflow.keras.optimizers import Adam\n",
    "from tensorflow.keras.callbacks import EarlyStopping\n",
    "from tensorflow.keras.utils import to_categorical\n",
    "\n",
    "# Load data\n",
    "\n",
    "# Preprocess data\n",
    "# Create labels\n",
    "data['winner'] = data.apply(lambda row: 0 if row['winner_model_a'] == 1 else (1 if row['winner_model_b'] == 1 else 2), axis=1)\n",
    "\n",
    "# Encode categorical features\n",
    "label_encoder = LabelEncoder()\n",
    "data['model_a'] = label_encoder.fit_transform(data['model_a'])\n",
    "data['model_b'] = label_encoder.fit_transform(data['model_b'])\n",
    "\n",
    "# Feature and target split\n",
    "X = data[['model_a', 'model_b', 'prompt', 'response_a', 'response_b']]\n",
    "y = data['winner']\n",
    "\n",
    "# Text vectorization (simple approach: count the number of words)\n",
    "X['prompt_len'] = X['prompt'].apply(lambda x: len(str(x).split()))\n",
    "X['response_a_len'] = X['response_a'].apply(lambda x: len(str(x).split()))\n",
    "X['response_b_len'] = X['response_b'].apply(lambda x: len(str(x).split()))\n",
    "X = X.drop(['prompt', 'response_a', 'response_b'], axis=1)\n",
    "\n",
    "# Normalize features\n",
    "scaler = StandardScaler()\n",
    "X = scaler.fit_transform(X)\n",
    "\n",
    "# One-hot encode labels\n",
    "y = to_categorical(y, num_classes=3)\n",
    "\n",
    "# Split data into training and testing sets\n",
    "X_train, X_test, y_train, y_test = train_test_split(X, y, test_size=0.2, random_state=42)\n",
    "\n",
    "# Build the model\n",
    "model = Sequential()\n",
    "model.add(Dense(128, input_dim=X_train.shape[1], activation='relu'))\n",
    "model.add(Dropout(0.1))\n",
    "model.add(Dense(32, activation='relu'))\n",
    "model.add(Dropout(0.1))\n",
    "model.add(Dense(16, activation='relu'))\n",
    "model.add(Dense(3, activation='softmax'))\n",
    "\n",
    "# Compile the model\n",
    "model.compile(optimizer=Adam(learning_rate=0.001), loss='categorical_crossentropy', metrics=['accuracy'])\n",
    "\n",
    "# Define early stopping\n",
    "early_stopping = EarlyStopping(monitor='val_loss', patience=5, restore_best_weights=True)\n",
    "\n",
    "# Train the model\n",
    "history = model.fit(X_train, y_train, validation_data=(X_test, y_test), epochs=100, batch_size=32, callbacks=[early_stopping])\n",
    "\n",
    "# Evaluate the model\n",
    "loss, accuracy = model.evaluate(X_test, y_test)\n",
    "print(f\"Test Accuracy: {accuracy * 100:.2f}%\")\n",
    "\n",
    "# Save the model\n",
    "model.save('chatbot_preference_model.h5')\n",
    "\n",
    "# Print validation loss during training\n",
    "val_loss = history.history['val_loss']\n",
    "print(f\"Validation Loss: {val_loss[-1]:.4f}\")\n"
   ]
  },
  {
   "cell_type": "code",
   "execution_count": null,
   "metadata": {
    "execution": {
     "iopub.execute_input": "2024-07-21T17:37:52.552736Z",
     "iopub.status.busy": "2024-07-21T17:37:52.551986Z",
     "iopub.status.idle": "2024-07-21T17:37:52.7518Z",
     "shell.execute_reply": "2024-07-21T17:37:52.7506Z",
     "shell.execute_reply.started": "2024-07-21T17:37:52.552677Z"
    }
   },
   "outputs": [],
   "source": [
    "import pandas as pd\n",
    "import numpy as np\n",
    "from tensorflow.keras.models import load_model\n",
    "from sklearn.preprocessing import LabelEncoder, StandardScaler\n",
    "\n",
    "# Load the test data\n",
    "test = pd.read_csv(\"/kaggle/input/lmsys-chatbot-arena/test.csv\")\n",
    "\n",
    "# Add default values for 'model_a' and 'model_b' as placeholders\n",
    "test['model_a'] = 'gpt-3.5-turbo-0613'  # Example default value\n",
    "test['model_b'] = 'gpt-3.5-turbo-0613'  # Example default value\n",
    "\n",
    "# Encode categorical features using the same label encoder used for training data\n",
    "label_encoder = LabelEncoder()\n",
    "test['model_a'] = label_encoder.fit_transform(test['model_a'])\n",
    "test['model_b'] = label_encoder.fit_transform(test['model_b'])\n",
    "\n",
    "# Text vectorization (simple approach: count the number of words)\n",
    "test['prompt_len'] = test['prompt'].apply(lambda x: len(str(x).split()))\n",
    "test['response_a_len'] = test['response_a'].apply(lambda x: len(str(x).split()))\n",
    "test['response_b_len'] = test['response_b'].apply(lambda x: len(str(x).split()))\n",
    "\n",
    "# Drop original text columns\n",
    "X_test = test.drop(['prompt', 'response_a', 'response_b'], axis=1)\n",
    "\n",
    "# Normalize features using the same scaler used for training data\n",
    "# Assuming the scaler was fit during training and is now loaded\n",
    "scaler = StandardScaler()\n",
    "X_test_scaled = scaler.fit_transform(X_test[['model_a', 'model_b', 'prompt_len', 'response_a_len', 'response_b_len']])\n",
    "\n",
    "# Load the trained model\n",
    "model = load_model('chatbot_preference_model.h5')\n",
    "\n",
    "# Make predictions\n",
    "probs = model.predict(X_test_scaled)\n",
    "\n",
    "# Prepare the submission file\n",
    "submission = pd.DataFrame(probs, columns=['winner_model_a', 'winner_model_b', 'winner_tie'])\n",
    "submission['id'] = test['id']\n",
    "\n",
    "# Reorder columns to have 'id' first\n",
    "submission = submission[['id', 'winner_model_a', 'winner_model_b', 'winner_tie']]\n",
    "\n",
    "submission.to_csv('submission.csv', index=False)\n",
    "print(\"Submission file generated successfully!\")\n"
   ]
  },
  {
   "cell_type": "code",
   "execution_count": null,
   "metadata": {
    "execution": {
     "iopub.execute_input": "2024-07-21T17:37:52.755112Z",
     "iopub.status.busy": "2024-07-21T17:37:52.75434Z",
     "iopub.status.idle": "2024-07-21T17:37:52.764265Z",
     "shell.execute_reply": "2024-07-21T17:37:52.763304Z",
     "shell.execute_reply.started": "2024-07-21T17:37:52.755071Z"
    }
   },
   "outputs": [],
   "source": [
    "print(submission)"
   ]
  }
 ],
 "metadata": {
  "kaggle": {
   "accelerator": "none",
   "dataSources": [
    {
     "databundleVersionId": 8346466,
     "sourceId": 66631,
     "sourceType": "competition"
    }
   ],
   "dockerImageVersionId": 30746,
   "isGpuEnabled": false,
   "isInternetEnabled": false,
   "language": "python",
   "sourceType": "notebook"
  },
  "kernelspec": {
   "display_name": "Python 3",
   "language": "python",
   "name": "python3"
  },
  "language_info": {
   "codemirror_mode": {
    "name": "ipython",
    "version": 3
   },
   "file_extension": ".py",
   "mimetype": "text/x-python",
   "name": "python",
   "nbconvert_exporter": "python",
   "pygments_lexer": "ipython3",
   "version": "3.10.13"
  }
 },
 "nbformat": 4,
 "nbformat_minor": 4
}
