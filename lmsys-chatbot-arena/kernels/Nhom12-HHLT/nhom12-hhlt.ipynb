{
 "cells": [
  {
   "cell_type": "code",
   "execution_count": null,
   "metadata": {
    "_cell_guid": "b1076dfc-b9ad-4769-8c92-a6c4dae69d19",
    "_uuid": "8f2839f25d086af736a60e9eeb907d3b93b6e0e5",
    "execution": {
     "iopub.execute_input": "2024-07-29T07:24:09.157264Z",
     "iopub.status.busy": "2024-07-29T07:24:09.156433Z",
     "iopub.status.idle": "2024-07-29T07:24:12.884535Z",
     "shell.execute_reply": "2024-07-29T07:24:12.883096Z",
     "shell.execute_reply.started": "2024-07-29T07:24:09.157223Z"
    }
   },
   "outputs": [],
   "source": [
    "# Library\n",
    "import pandas as pd\n",
    "import numpy as np\n",
    "from sklearn.model_selection import train_test_split\n",
    "from sklearn.feature_extraction.text import TfidfVectorizer\n",
    "from sklearn.metrics import log_loss\n",
    "import lightgbm as lgb\n",
    "import optuna"
   ]
  },
  {
   "cell_type": "code",
   "execution_count": null,
   "metadata": {
    "execution": {
     "iopub.execute_input": "2024-07-29T07:24:12.887848Z",
     "iopub.status.busy": "2024-07-29T07:24:12.886621Z",
     "iopub.status.idle": "2024-07-29T07:24:16.942582Z",
     "shell.execute_reply": "2024-07-29T07:24:16.941473Z",
     "shell.execute_reply.started": "2024-07-29T07:24:12.887807Z"
    }
   },
   "outputs": [],
   "source": [
    "# Load the data\n",
    "train_data = pd.read_csv('/kaggle/input/lmsys-chatbot-arena/train.csv')\n",
    "test_data = pd.read_csv('/kaggle/input/lmsys-chatbot-arena/test.csv')\n",
    "\n",
    "print(train_data.head())\n",
    "print(train_data.info())\n",
    "print(train_data.describe())\n"
   ]
  },
  {
   "cell_type": "code",
   "execution_count": null,
   "metadata": {
    "execution": {
     "iopub.execute_input": "2024-07-29T07:24:16.94433Z",
     "iopub.status.busy": "2024-07-29T07:24:16.943898Z",
     "iopub.status.idle": "2024-07-29T07:24:39.394286Z",
     "shell.execute_reply": "2024-07-29T07:24:39.393157Z",
     "shell.execute_reply.started": "2024-07-29T07:24:16.944292Z"
    }
   },
   "outputs": [],
   "source": [
    "# Preprocessing data\n",
    "# Handling missing values if any\n",
    "train_data.fillna('', inplace=True)\n",
    "test_data.fillna('', inplace=True)\n",
    "\n",
    "# Combine text data for vectorization\n",
    "train_data['combined_text'] = train_data['prompt'] + ' ' + train_data['response_a'] + ' ' + train_data['response_b']\n",
    "test_data['combined_text'] = test_data['prompt'] + ' ' + test_data['response_a'] + ' ' + test_data['response_b']\n",
    "\n",
    "# Vectorize the text data\n",
    "vectorizer = TfidfVectorizer(max_features=10000)\n",
    "X_train = vectorizer.fit_transform(train_data['combined_text'])\n",
    "X_test = vectorizer.transform(test_data['combined_text'])\n",
    "\n",
    "# Extract the target variable\n",
    "train_data['winner'] = np.where(train_data['winner_model_a'] == 1, 0, np.where(train_data['winner_model_b'] == 1, 1, 2))\n",
    "y_train = train_data['winner']\n"
   ]
  },
  {
   "cell_type": "code",
   "execution_count": null,
   "metadata": {
    "collapsed": true,
    "execution": {
     "iopub.execute_input": "2024-07-29T07:24:39.397161Z",
     "iopub.status.busy": "2024-07-29T07:24:39.396739Z",
     "iopub.status.idle": "2024-07-29T07:38:52.792464Z",
     "shell.execute_reply": "2024-07-29T07:38:52.791446Z",
     "shell.execute_reply.started": "2024-07-29T07:24:39.397125Z"
    },
    "jupyter": {
     "outputs_hidden": true
    }
   },
   "outputs": [],
   "source": [
    "# Split the data into training and validation sets\n",
    "X_train_split, X_val, y_train_split, y_val = train_test_split(X_train, y_train, test_size=0.2, random_state=42)\n",
    "\n",
    "# Convert to LightGBM Dataset\n",
    "train_data_lgb = lgb.Dataset(X_train_split, label=y_train_split)\n",
    "val_data_lgb = lgb.Dataset(X_val, label=y_val, reference=train_data_lgb)\n",
    "\n",
    "# Optuna objective function for tuning\n",
    "def objective(trial):\n",
    "    params = {\n",
    "        'feature_pre_filter': False,\n",
    "        'objective': 'multiclass',\n",
    "        'num_class': 3,\n",
    "        'metric': 'multi_logloss',\n",
    "        'boosting': 'gbdt',\n",
    "        'num_leaves': trial.suggest_int('num_leaves', 20, 150),\n",
    "        'learning_rate': trial.suggest_float('learning_rate', 0.01, 0.25),\n",
    "        'feature_fraction': trial.suggest_float('feature_fraction', 0.7, 1.0),\n",
    "        'bagging_fraction': trial.suggest_float('bagging_fraction', 0.7, 1.0),\n",
    "        'bagging_freq': trial.suggest_int('bagging_freq', 1, 10),\n",
    "        'max_depth': trial.suggest_int('max_depth', 3, 12),\n",
    "        'min_data_in_leaf': trial.suggest_int('min_data_in_leaf', 30, 100),\n",
    "    }\n",
    "    \n",
    "    model = lgb.train(params, train_data_lgb, valid_sets=[val_data_lgb], callbacks=[lgb.early_stopping(stopping_rounds=10), lgb.log_evaluation(10)])\n",
    "    \n",
    "    y_val_pred_proba = model.predict(X_val, num_iteration=model.best_iteration)\n",
    "    loss = log_loss(y_val, y_val_pred_proba)\n",
    "    return loss\n",
    "\n",
    "# Run Optuna for hyperparameter tuning\n",
    "study = optuna.create_study(direction='minimize')\n",
    "study.optimize(objective, n_trials=20)\n",
    "\n",
    "# Retrieve the best hyperparameters\n",
    "best_params = study.best_trial.params\n",
    "best_params.update({'objective': 'multiclass', 'num_class': 3, 'metric': 'multi_logloss', 'boosting': 'gbdt'})\n",
    "\n",
    "# Train the final model with the best hyperparameters\n",
    "final_model = lgb.train(best_params, train_data_lgb, valid_sets=[val_data_lgb], callbacks=[lgb.early_stopping(stopping_rounds=10), lgb.log_evaluation(10)])\n"
   ]
  },
  {
   "cell_type": "code",
   "execution_count": null,
   "metadata": {
    "execution": {
     "iopub.execute_input": "2024-07-29T07:38:52.793929Z",
     "iopub.status.busy": "2024-07-29T07:38:52.79362Z",
     "iopub.status.idle": "2024-07-29T07:38:52.806983Z",
     "shell.execute_reply": "2024-07-29T07:38:52.805921Z",
     "shell.execute_reply.started": "2024-07-29T07:38:52.793902Z"
    }
   },
   "outputs": [],
   "source": [
    "# Predict probabilities for test set\n",
    "test_pred_proba = final_model.predict(X_test, num_iteration=final_model.best_iteration)\n",
    "\n",
    "# Create a submission file\n",
    "submission = pd.DataFrame(test_pred_proba, columns=['winner_model_a', 'winner_model_b', 'winner_tie'])\n",
    "submission['id'] = test_data['id']\n",
    "submission = submission[['id', 'winner_model_a', 'winner_model_b', 'winner_tie']]\n",
    "submission.to_csv('submission.csv', index=False)\n"
   ]
  }
 ],
 "metadata": {
  "kaggle": {
   "accelerator": "none",
   "dataSources": [
    {
     "databundleVersionId": 8346466,
     "sourceId": 66631,
     "sourceType": "competition"
    }
   ],
   "dockerImageVersionId": 30746,
   "isGpuEnabled": false,
   "isInternetEnabled": false,
   "language": "python",
   "sourceType": "notebook"
  },
  "kernelspec": {
   "display_name": "Python 3",
   "language": "python",
   "name": "python3"
  },
  "language_info": {
   "codemirror_mode": {
    "name": "ipython",
    "version": 3
   },
   "file_extension": ".py",
   "mimetype": "text/x-python",
   "name": "python",
   "nbconvert_exporter": "python",
   "pygments_lexer": "ipython3",
   "version": "3.10.13"
  }
 },
 "nbformat": 4,
 "nbformat_minor": 4
}
