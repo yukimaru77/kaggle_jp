{
 "cells": [
  {
   "cell_type": "code",
   "execution_count": null,
   "metadata": {
    "_cell_guid": "b1076dfc-b9ad-4769-8c92-a6c4dae69d19",
    "_uuid": "8f2839f25d086af736a60e9eeb907d3b93b6e0e5",
    "execution": {
     "iopub.execute_input": "2024-07-23T10:11:23.58132Z",
     "iopub.status.busy": "2024-07-23T10:11:23.579927Z",
     "iopub.status.idle": "2024-07-23T10:11:24.79663Z",
     "shell.execute_reply": "2024-07-23T10:11:24.795003Z",
     "shell.execute_reply.started": "2024-07-23T10:11:23.581277Z"
    }
   },
   "outputs": [],
   "source": [
    "# This Python 3 environment comes with many helpful analytics libraries installed\n",
    "# It is defined by the kaggle/python Docker image: https://github.com/kaggle/docker-python\n",
    "# For example, here's several helpful packages to load\n",
    "\n",
    "import numpy as np # linear algebra\n",
    "import pandas as pd # data processing, CSV file I/O (e.g. pd.read_csv)\n",
    "\n",
    "# Input data files are available in the read-only \"../input/\" directory\n",
    "# For example, running this (by clicking run or pressing Shift+Enter) will list all files under the input directory\n",
    "\n",
    "import os\n",
    "for dirname, _, filenames in os.walk('/kaggle/input'):\n",
    "    for filename in filenames:\n",
    "        print(os.path.join(dirname, filename))\n",
    "\n",
    "# You can write up to 20GB to the current directory (/kaggle/working/) that gets preserved as output when you create a version using \"Save & Run All\" \n",
    "# You can also write temporary files to /kaggle/temp/, but they won't be saved outside of the current session"
   ]
  },
  {
   "cell_type": "code",
   "execution_count": null,
   "metadata": {
    "execution": {
     "iopub.execute_input": "2024-07-23T10:12:37.857322Z",
     "iopub.status.busy": "2024-07-23T10:12:37.85663Z",
     "iopub.status.idle": "2024-07-23T10:27:22.248898Z",
     "shell.execute_reply": "2024-07-23T10:27:22.247112Z",
     "shell.execute_reply.started": "2024-07-23T10:12:37.857288Z"
    }
   },
   "outputs": [],
   "source": [
    "import os\n",
    "os.environ['CUDA_VISIBLE_DEVICES'] = '-1'  # Disable GPU\n",
    "\n",
    "import pandas as pd\n",
    "import numpy as np\n",
    "from sklearn.model_selection import train_test_split\n",
    "from sklearn.feature_extraction.text import TfidfVectorizer\n",
    "from sklearn.preprocessing import StandardScaler\n",
    "from sklearn.metrics import log_loss\n",
    "import tensorflow as tf\n",
    "from tensorflow.keras.layers import Input, Dense, Dropout\n",
    "from tensorflow.keras.models import Model\n",
    "\n",
    "# Load the dataset\n",
    "train_data = pd.read_csv('/kaggle/input/lmsys-chatbot-arena/train.csv')\n",
    "test_data = pd.read_csv('/kaggle/input/lmsys-chatbot-arena/test.csv')\n",
    "\n",
    "# Combine prompts and responses for feature extraction\n",
    "train_data['text_a'] = train_data['prompt'] + ' ' + train_data['response_a']\n",
    "train_data['text_b'] = train_data['prompt'] + ' ' + train_data['response_b']\n",
    "\n",
    "# Vectorize the text data using TF-IDF\n",
    "tfidf = TfidfVectorizer(max_features=5000)\n",
    "X_a = tfidf.fit_transform(train_data['text_a']).toarray()\n",
    "X_b = tfidf.transform(train_data['text_b']).toarray()\n",
    "\n",
    "# Combine the vectorized responses\n",
    "X = np.hstack([X_a, X_b])\n",
    "\n",
    "# Target variable\n",
    "y = train_data[['winner_model_a', 'winner_model_b', 'winner_tie']].values\n",
    "\n",
    "# Split the data into training and validation sets\n",
    "X_train, X_val, y_train, y_val = train_test_split(X, y, test_size=0.2, random_state=42)\n",
    "\n",
    "# Scale the features\n",
    "scaler = StandardScaler()\n",
    "X_train = scaler.fit_transform(X_train)\n",
    "X_val = scaler.transform(X_val)\n",
    "\n",
    "# Define the model using Functional API\n",
    "input_layer = Input(shape=(X_train.shape[1],))\n",
    "x = Dense(512, activation='relu')(input_layer)\n",
    "x = Dropout(0.5)(x)\n",
    "x = Dense(256, activation='relu')(x)\n",
    "x = Dropout(0.5)(x)\n",
    "x = Dense(128, activation='relu')(x)\n",
    "x = Dropout(0.5)(x)\n",
    "output_layer = Dense(3, activation='softmax')(x)\n",
    "\n",
    "model = Model(inputs=input_layer, outputs=output_layer)\n",
    "model.compile(optimizer='adam', loss='categorical_crossentropy', metrics=['accuracy'])\n",
    "\n",
    "# Train the model\n",
    "history = model.fit(X_train, y_train, epochs=10, batch_size=32, validation_data=(X_val, y_val))\n",
    "\n",
    "# Evaluate the model\n",
    "val_predictions = model.predict(X_val)\n",
    "loss = log_loss(y_val, val_predictions)\n",
    "print(f'Validation Log Loss: {loss}')\n",
    "\n",
    "# Prepare the test data\n",
    "test_data['text_a'] = test_data['prompt'] + ' ' + test_data['response_a']\n",
    "test_data['text_b'] = test_data['prompt'] + ' ' + test_data['response_b']\n",
    "X_test_a = tfidf.transform(test_data['text_a']).toarray()\n",
    "X_test_b = tfidf.transform(test_data['text_b']).toarray()\n",
    "X_test = np.hstack([X_test_a, X_test_b])\n",
    "X_test = scaler.transform(X_test)\n",
    "\n",
    "# Predict on the test set\n",
    "test_predictions = model.predict(X_test)\n",
    "\n",
    "# Create the submission file\n",
    "submission = pd.DataFrame(test_data['id'])\n",
    "submission['winner_model_a'] = test_predictions[:, 0]\n",
    "submission['winner_model_b'] = test_predictions[:, 1]\n",
    "submission['winner_tie'] = test_predictions[:, 2]\n",
    "submission.to_csv('submission.csv', index=False)\n"
   ]
  }
 ],
 "metadata": {
  "kaggle": {
   "accelerator": "none",
   "dataSources": [
    {
     "databundleVersionId": 8346466,
     "sourceId": 66631,
     "sourceType": "competition"
    }
   ],
   "dockerImageVersionId": 30746,
   "isGpuEnabled": false,
   "isInternetEnabled": false,
   "language": "python",
   "sourceType": "notebook"
  },
  "kernelspec": {
   "display_name": "Python 3",
   "language": "python",
   "name": "python3"
  },
  "language_info": {
   "codemirror_mode": {
    "name": "ipython",
    "version": 3
   },
   "file_extension": ".py",
   "mimetype": "text/x-python",
   "name": "python",
   "nbconvert_exporter": "python",
   "pygments_lexer": "ipython3",
   "version": "3.10.13"
  }
 },
 "nbformat": 4,
 "nbformat_minor": 4
}
