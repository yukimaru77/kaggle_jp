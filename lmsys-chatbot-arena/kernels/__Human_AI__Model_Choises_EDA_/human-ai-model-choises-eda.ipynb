{
 "cells": [
  {
   "cell_type": "code",
   "execution_count": null,
   "metadata": {
    "_cell_guid": "b1076dfc-b9ad-4769-8c92-a6c4dae69d19",
    "_uuid": "8f2839f25d086af736a60e9eeb907d3b93b6e0e5",
    "execution": {
     "iopub.execute_input": "2024-07-10T00:00:06.863637Z",
     "iopub.status.busy": "2024-07-10T00:00:06.863306Z",
     "iopub.status.idle": "2024-07-10T00:00:07.921585Z",
     "shell.execute_reply": "2024-07-10T00:00:07.920485Z",
     "shell.execute_reply.started": "2024-07-10T00:00:06.863608Z"
    }
   },
   "outputs": [],
   "source": [
    "# This Python 3 environment comes with many helpful analytics libraries installed\n",
    "# It is defined by the kaggle/python Docker image: https://github.com/kaggle/docker-python\n",
    "# For example, here's several helpful packages to load\n",
    "\n",
    "import numpy as np # linear algebra\n",
    "import pandas as pd # data processing, CSV file I/O (e.g. pd.read_csv)\n",
    "\n",
    "# Input data files are available in the read-only \"../input/\" directory\n",
    "# For example, running this (by clicking run or pressing Shift+Enter) will list all files under the input directory\n",
    "\n",
    "import os\n",
    "for dirname, _, filenames in os.walk('/kaggle/input'):\n",
    "    for filename in filenames:\n",
    "        print(os.path.join(dirname, filename))\n",
    "\n",
    "# You can write up to 20GB to the current directory (/kaggle/working/) that gets preserved as output when you create a version using \"Save & Run All\" \n",
    "# You can also write temporary files to /kaggle/temp/, but they won't be saved outside of the current session"
   ]
  },
  {
   "cell_type": "code",
   "execution_count": null,
   "metadata": {
    "execution": {
     "iopub.execute_input": "2024-07-10T00:06:52.937831Z",
     "iopub.status.busy": "2024-07-10T00:06:52.937119Z",
     "iopub.status.idle": "2024-07-10T00:06:54.84631Z",
     "shell.execute_reply": "2024-07-10T00:06:54.845253Z",
     "shell.execute_reply.started": "2024-07-10T00:06:52.937799Z"
    }
   },
   "outputs": [],
   "source": [
    "import pandas as pd\n",
    "\n",
    "# Veri setini yükleme\n",
    "df = pd.read_csv('/kaggle/input/lmsys-chatbot-arena/train.csv')\n",
    "\n",
    "# Veri setinin ilk birkaç satırını inceleme\n",
    "df.head()\n"
   ]
  },
  {
   "cell_type": "code",
   "execution_count": null,
   "metadata": {
    "execution": {
     "iopub.execute_input": "2024-07-10T00:05:44.78886Z",
     "iopub.status.busy": "2024-07-10T00:05:44.788173Z",
     "iopub.status.idle": "2024-07-10T00:05:44.793382Z",
     "shell.execute_reply": "2024-07-10T00:05:44.79232Z",
     "shell.execute_reply.started": "2024-07-10T00:05:44.788826Z"
    }
   },
   "outputs": [],
   "source": [
    "import pandas as pd\n",
    "from textblob import TextBlob\n",
    "import string"
   ]
  },
  {
   "cell_type": "code",
   "execution_count": null,
   "metadata": {
    "execution": {
     "iopub.execute_input": "2024-07-10T00:23:09.357811Z",
     "iopub.status.busy": "2024-07-10T00:23:09.356985Z",
     "iopub.status.idle": "2024-07-10T00:23:36.393468Z",
     "shell.execute_reply": "2024-07-10T00:23:36.392433Z",
     "shell.execute_reply.started": "2024-07-10T00:23:09.35777Z"
    }
   },
   "outputs": [],
   "source": [
    "from sklearn.preprocessing import OneHotEncoder\n",
    "\n",
    "# Noktalama işaretleri sayısını özellik olarak eklemek\n",
    "df['response_a_punctuation_count'] = df['response_a'].apply(lambda x: sum([1 for char in x if char in string.punctuation]))\n",
    "df['response_b_punctuation_count'] = df['response_b'].apply(lambda x: sum([1 for char in x if char in string.punctuation]))\n",
    "\n",
    "# Kelime çeşitliliği özelliği eklemek\n",
    "df['response_a_unique_words'] = df['response_a'].apply(lambda x: len(set(x.split())))\n",
    "df['response_b_unique_words'] = df['response_b'].apply(lambda x: len(set(x.split())))\n",
    "\n",
    "# Stop words oranı özelliği eklemek (örnek bir stop words listesi kullanıyoruz)\n",
    "stop_words = set(['the', 'and', 'is', 'in', 'at', 'of', 'it', 'to'])\n",
    "df['response_a_stop_words_ratio'] = df['response_a'].apply(lambda x: len([word for word in x.lower().split() if word in stop_words]) / len(x.split()))\n",
    "df['response_b_stop_words_ratio'] = df['response_b'].apply(lambda x: len([word for word in x.lower().split() if word in stop_words]) / len(x.split()))\n",
    "\n",
    "# Cümlenin baş harf büyüklüğü özelliği eklemek\n",
    "df['response_a_startswith_upper'] = df['response_a'].apply(lambda x: 1 if x[0].isupper() else 0)\n",
    "df['response_b_startswith_upper'] = df['response_b'].apply(lambda x: 1 if x[0].isupper() else 0)\n",
    "\n",
    "# Cümlenin uzunluğu ve farkı özelliği eklemek\n",
    "df['response_a_length'] = df['response_a'].apply(len)\n",
    "df['response_b_length'] = df['response_b'].apply(len)\n",
    "df['response_length_difference'] = df['response_a_length'] - df['response_b_length']\n",
    "\n",
    "# Kazanan model sütunu eklemek\n",
    "df['winner'] = df.apply(lambda row: 'model_a' if row['winner_model_a'] == 1 else 'model_b' if row['winner_model_b'] == 1 else 'tie', axis=1)\n",
    "\n",
    "# Model adı sütunu eklemek\n",
    "df['model_name'] = df.apply(lambda row: row['model_a'] if row['winner'] == 'model_a' else row['model_b'] if row['winner'] == 'model_b' else '', axis=1)\n",
    "\n",
    "# One-hot encoding işlemi\n",
    "encoder = OneHotEncoder()\n",
    "winner_encoded = encoder.fit_transform(df[['winner']])\n",
    "\n",
    "# Encode edilmiş sütunları dataframe'e ekleme\n",
    "df_encoded = pd.concat([df, pd.DataFrame(winner_encoded.toarray(), columns=encoder.categories_[0])], axis=1)\n",
    "\n",
    "# Sonuçları gösterme\n",
    "\n"
   ]
  },
  {
   "cell_type": "code",
   "execution_count": null,
   "metadata": {
    "execution": {
     "iopub.execute_input": "2024-07-10T00:31:21.247967Z",
     "iopub.status.busy": "2024-07-10T00:31:21.247555Z",
     "iopub.status.idle": "2024-07-10T00:31:28.451202Z",
     "shell.execute_reply": "2024-07-10T00:31:28.450323Z",
     "shell.execute_reply.started": "2024-07-10T00:31:21.247937Z"
    }
   },
   "outputs": [],
   "source": [
    "import pandas as pd\n",
    "import numpy as np\n",
    "from sklearn.model_selection import train_test_split\n",
    "from sklearn.preprocessing import StandardScaler, LabelEncoder\n",
    "from sklearn.ensemble import RandomForestClassifier\n",
    "from sklearn.metrics import classification_report, confusion_matrix\n",
    "\n",
    "# Veri setini hazırlama fonksiyonu\n",
    "def prepare_data_for_ml(df):\n",
    "    # Punctuation count fonksiyonu\n",
    "    def count_punctuation(text):\n",
    "        return sum(1 for char in str(text) if char in '.,;:!?')\n",
    "\n",
    "    # Yeni sütunlar ekleme\n",
    "    df['response_a_punctuation_count'] = df['response_a'].apply(count_punctuation)\n",
    "    df['response_b_punctuation_count'] = df['response_b'].apply(count_punctuation)\n",
    "    df['response_b_startswith_upper'] = df['response_b'].apply(lambda x: int(str(x)[0].isupper()))\n",
    "    df['response_a_length'] = df['response_a'].str.len()\n",
    "    df['response_b_length'] = df['response_b'].str.len()\n",
    "    df['response_length_difference'] = abs(df['response_a_length'] - df['response_b_length'])\n",
    "\n",
    "    # winner_encoded sütunu oluşturma\n",
    "    le = LabelEncoder()\n",
    "    df['winner_encoded'] = le.fit_transform(df['winner'])\n",
    "\n",
    "    # model_name sütunu oluşturma\n",
    "    df['model_name'] = np.where(df['winner_model_a'] == 1, df['model_a'], df['model_b'])\n",
    "\n",
    "    # Kategorik değişkenleri encode etme\n",
    "    categorical_columns = ['model_a', 'model_b', 'model_name']\n",
    "    for col in categorical_columns:\n",
    "        le = LabelEncoder()\n",
    "        df[f'{col}_encoded'] = le.fit_transform(df[col])\n",
    "\n",
    "    # Boolean değerleri 0 ve 1'e çevirme\n",
    "    df['model_a_win'] = df['winner'] == 'model_a'\n",
    "    df['model_b_win'] = df['winner'] == 'model_b'\n",
    "    df['winner_tie'] = df['winner'] == 'tie'\n",
    "    df['tie'] = df['winner'] == 'tie'\n",
    "\n",
    "    boolean_columns = ['response_b_startswith_upper', 'model_a_win', 'model_b_win', 'winner_tie', 'tie']\n",
    "    for col in boolean_columns:\n",
    "        df[col] = df[col].astype(int)\n",
    "\n",
    "    return df\n",
    "\n",
    "# Veri setini hazırlama\n",
    "prepared_df = prepare_data_for_ml(df)\n",
    "\n",
    "# Gerekli sütunları seçme ve eksik sütunları kontrol etme\n",
    "columns_to_keep = [\n",
    "    'id', 'model_a', 'model_b', 'prompt', 'response_a', 'response_b',\n",
    "    'winner', 'model_a_win', 'model_b_win', 'winner_tie',\n",
    "    'response_a_punctuation_count', 'response_b_punctuation_count',\n",
    "    'response_b_startswith_upper', 'response_a_length', 'response_b_length',\n",
    "    'response_length_difference', 'winner_encoded',\n",
    "    'model_name', 'tie', 'model_a_encoded', 'model_b_encoded', 'model_name_encoded'\n",
    "]\n",
    "\n",
    "prepared_df = prepared_df[columns_to_keep]"
   ]
  },
  {
   "cell_type": "code",
   "execution_count": null,
   "metadata": {
    "execution": {
     "iopub.execute_input": "2024-07-10T00:29:15.031576Z",
     "iopub.status.busy": "2024-07-10T00:29:15.030931Z",
     "iopub.status.idle": "2024-07-10T00:29:15.056618Z",
     "shell.execute_reply": "2024-07-10T00:29:15.055546Z",
     "shell.execute_reply.started": "2024-07-10T00:29:15.031543Z"
    }
   },
   "outputs": [],
   "source": [
    "prepared_df.head()"
   ]
  },
  {
   "cell_type": "code",
   "execution_count": null,
   "metadata": {
    "execution": {
     "iopub.execute_input": "2024-07-10T00:31:33.016684Z",
     "iopub.status.busy": "2024-07-10T00:31:33.016273Z",
     "iopub.status.idle": "2024-07-10T00:31:33.102926Z",
     "shell.execute_reply": "2024-07-10T00:31:33.101479Z",
     "shell.execute_reply.started": "2024-07-10T00:31:33.016652Z"
    }
   },
   "outputs": [],
   "source": [
    "# Veriyi hazırlama\n",
    "X = prepared_df[['response_a_punctuation_count', 'response_b_punctuation_count',\n",
    "        'response_a_startswith_upper', 'response_b_startswith_upper',\n",
    "        'response_a_length', 'response_b_length', 'response_length_difference']]\n",
    "y = prepared_df['winner_encoded']  # LabelEncoded kullanılarak kodlanmış hedef değişken\n",
    "\n",
    "# Veriyi train ve test setlerine bölelim\n",
    "X_train, X_test, y_train, y_test = train_test_split(X, y, test_size=0.3, random_state=42)\n",
    "\n",
    "# Veriyi standardize edelim\n",
    "scaler = StandardScaler()\n",
    "X_train_scaled = scaler.fit_transform(X_train)\n",
    "X_test_scaled = scaler.transform(X_test)\n",
    "\n",
    "# Modeli eğitme\n",
    "model = RandomForestClassifier(random_state=42)\n",
    "model.fit(X_train_scaled, y_train)\n",
    "\n",
    "# Model üzerinde tahmin yapma\n",
    "y_pred = model.predict(X_test_scaled)\n",
    "\n",
    "# Sonuçları değerlendirme\n",
    "print(\"Confusion Matrix:\\n\", confusion_matrix(y_test, y_pred))\n",
    "print(\"\\nClassification Report:\\n\", classification_report(y_test, y_pred, target_names=['model_a', 'model_b', 'tie']))"
   ]
  },
  {
   "cell_type": "code",
   "execution_count": null,
   "metadata": {
    "execution": {
     "iopub.execute_input": "2024-07-10T00:32:10.5434Z",
     "iopub.status.busy": "2024-07-10T00:32:10.542465Z",
     "iopub.status.idle": "2024-07-10T00:32:26.843601Z",
     "shell.execute_reply": "2024-07-10T00:32:26.842673Z",
     "shell.execute_reply.started": "2024-07-10T00:32:10.543366Z"
    }
   },
   "outputs": [],
   "source": [
    "import pandas as pd\n",
    "import numpy as np\n",
    "from sklearn.model_selection import train_test_split\n",
    "from sklearn.preprocessing import StandardScaler, LabelEncoder\n",
    "from sklearn.ensemble import RandomForestClassifier\n",
    "from sklearn.metrics import classification_report, confusion_matrix\n",
    "\n",
    "# Veri setini hazırlama fonksiyonu\n",
    "def prepare_data_for_ml(df):\n",
    "    # Punctuation count fonksiyonu\n",
    "    def count_punctuation(text):\n",
    "        return sum(1 for char in str(text) if char in '.,;:!?')\n",
    "\n",
    "    # Yeni sütunlar ekleme\n",
    "    df['response_a_punctuation_count'] = df['response_a'].apply(count_punctuation)\n",
    "    df['response_b_punctuation_count'] = df['response_b'].apply(count_punctuation)\n",
    "    df['response_b_startswith_upper'] = df['response_b'].apply(lambda x: int(str(x)[0].isupper()))\n",
    "    df['response_a_startswith_upper'] = df['response_a'].apply(lambda x: int(str(x)[0].isupper()))\n",
    "    df['response_a_length'] = df['response_a'].str.len()\n",
    "    df['response_b_length'] = df['response_b'].str.len()\n",
    "    df['response_length_difference'] = abs(df['response_a_length'] - df['response_b_length'])\n",
    "\n",
    "    # winner_encoded sütunu oluşturma\n",
    "    le = LabelEncoder()\n",
    "    df['winner_encoded'] = le.fit_transform(df['winner'])\n",
    "\n",
    "    # model_name sütunu oluşturma\n",
    "    df['model_name'] = np.where(df['winner_model_a'] == 1, df['model_a'], df['model_b'])\n",
    "\n",
    "    # Kategorik değişkenleri encode etme\n",
    "    categorical_columns = ['model_a', 'model_b', 'model_name']\n",
    "    for col in categorical_columns:\n",
    "        le = LabelEncoder()\n",
    "        df[f'{col}_encoded'] = le.fit_transform(df[col])\n",
    "\n",
    "    # Boolean değerleri 0 ve 1'e çevirme\n",
    "    df['model_a_win'] = df['winner'] == 'model_a'\n",
    "    df['model_b_win'] = df['winner'] == 'model_b'\n",
    "    df['winner_tie'] = df['winner'] == 'tie'\n",
    "    df['tie'] = df['winner'] == 'tie'\n",
    "\n",
    "    boolean_columns = ['response_b_startswith_upper', 'response_a_startswith_upper', 'model_a_win', 'model_b_win', 'winner_tie', 'tie']\n",
    "    for col in boolean_columns:\n",
    "        df[col] = df[col].astype(int)\n",
    "\n",
    "    return df\n",
    "\n",
    "# Veri setini hazırlama\n",
    "prepared_df = prepare_data_for_ml(df)\n",
    "\n",
    "# Gerekli sütunları seçme ve eksik sütunları kontrol etme\n",
    "columns_to_keep = [\n",
    "    'id', 'model_a', 'model_b', 'prompt', 'response_a', 'response_b',\n",
    "    'winner', 'model_a_win', 'model_b_win', 'winner_tie',\n",
    "    'response_a_punctuation_count', 'response_b_punctuation_count',\n",
    "    'response_b_startswith_upper', 'response_a_startswith_upper',  # response_a_startswith_upper eklendi\n",
    "    'response_a_length', 'response_b_length',\n",
    "    'response_length_difference', 'winner_encoded',\n",
    "    'model_name', 'tie', 'model_a_encoded', 'model_b_encoded', 'model_name_encoded'\n",
    "]\n",
    "\n",
    "prepared_df = prepared_df[columns_to_keep]\n",
    "\n",
    "# Veriyi hazırlama\n",
    "X = prepared_df[['response_a_punctuation_count', 'response_b_punctuation_count',\n",
    "        'response_a_startswith_upper', 'response_b_startswith_upper',\n",
    "        'response_a_length', 'response_b_length', 'response_length_difference']]\n",
    "y = prepared_df['winner_encoded']  # LabelEncoded kullanılarak kodlanmış hedef değişken\n",
    "\n",
    "# Veriyi train ve test setlerine bölelim\n",
    "X_train, X_test, y_train, y_test = train_test_split(X, y, test_size=0.3, random_state=42)\n",
    "\n",
    "# Veriyi standardize edelim\n",
    "scaler = StandardScaler()\n",
    "X_train_scaled = scaler.fit_transform(X_train)\n",
    "X_test_scaled = scaler.transform(X_test)\n",
    "\n",
    "# Modeli eğitme\n",
    "model = RandomForestClassifier(random_state=42)\n",
    "model.fit(X_train_scaled, y_train)\n",
    "\n",
    "# Model üzerinde tahmin yapma\n",
    "y_pred = model.predict(X_test_scaled)\n",
    "\n",
    "# Sonuçları değerlendirme\n",
    "print(\"Confusion Matrix:\\n\", confusion_matrix(y_test, y_pred))\n",
    "print(\"\\nClassification Report:\\n\", classification_report(y_test, y_pred, target_names=['model_a', 'model_b', 'tie']))\n"
   ]
  },
  {
   "cell_type": "code",
   "execution_count": null,
   "metadata": {
    "execution": {
     "iopub.execute_input": "2024-07-10T00:20:07.180153Z",
     "iopub.status.busy": "2024-07-10T00:20:07.179807Z",
     "iopub.status.idle": "2024-07-10T00:20:07.188696Z",
     "shell.execute_reply": "2024-07-10T00:20:07.187436Z",
     "shell.execute_reply.started": "2024-07-10T00:20:07.180125Z"
    }
   },
   "outputs": [],
   "source": [
    "df['winner']"
   ]
  },
  {
   "cell_type": "code",
   "execution_count": null,
   "metadata": {
    "execution": {
     "iopub.execute_input": "2024-07-10T00:14:59.564948Z",
     "iopub.status.busy": "2024-07-10T00:14:59.564206Z",
     "iopub.status.idle": "2024-07-10T00:14:59.571034Z",
     "shell.execute_reply": "2024-07-10T00:14:59.569796Z",
     "shell.execute_reply.started": "2024-07-10T00:14:59.564919Z"
    }
   },
   "outputs": [],
   "source": [
    "import pandas as pd\n",
    "import numpy as np\n",
    "import string\n",
    "from sklearn.preprocessing import LabelEncoder, StandardScaler\n",
    "from sklearn.model_selection import train_test_split\n",
    "from sklearn.pipeline import Pipeline\n",
    "from sklearn.compose import ColumnTransformer\n",
    "from sklearn.ensemble import RandomForestClassifier\n",
    "from sklearn.feature_extraction.text import TfidfVectorizer\n",
    "from sklearn.impute import SimpleImputer"
   ]
  },
  {
   "cell_type": "code",
   "execution_count": null,
   "metadata": {
    "execution": {
     "iopub.execute_input": "2024-07-10T00:14:34.575966Z",
     "iopub.status.busy": "2024-07-10T00:14:34.575552Z",
     "iopub.status.idle": "2024-07-10T00:14:35.259676Z",
     "shell.execute_reply": "2024-07-10T00:14:35.258058Z",
     "shell.execute_reply.started": "2024-07-10T00:14:34.575936Z"
    }
   },
   "outputs": [],
   "source": [
    "# Kazanan modeli encode etmek\n",
    "label_encoder = LabelEncoder()\n",
    "df['winner_encoded'] = label_encoder.fit_transform(df['winner'])\n",
    "\n",
    "# Numeric özellikler ve metinsel özellikler için kolonları ayırmak\n",
    "numeric_features = [\n",
    "    'response_a_punctuation_count', 'response_b_punctuation_count',\n",
    "    'response_a_unique_words', 'response_b_unique_words',\n",
    "    'response_a_stop_words_ratio', 'response_b_stop_words_ratio',\n",
    "    'response_a_length', 'response_b_length', 'response_length_difference'\n",
    "]\n",
    "\n",
    "text_features = ['prompt', 'response_a', 'response_b']\n",
    "\n",
    "# ColumnTransformer oluşturmak\n",
    "preprocessor = ColumnTransformer(\n",
    "    transformers=[\n",
    "        ('num', StandardScaler(), numeric_features),\n",
    "        ('text', 'passthrough', text_features)  # Metinsel özellikler passthrough olarak geçirilecek\n",
    "    ])\n",
    "\n",
    "# Verileri X (özellikler) ve y (hedef değişken) olarak ayırmak\n",
    "X = df[numeric_features + text_features]\n",
    "y = df['winner_encoded']\n",
    "\n",
    "# Train ve test veri setlerini oluşturmak\n",
    "X_train, X_test, y_train, y_test = train_test_split(X, y, test_size=0.2, random_state=42)\n",
    "\n",
    "# Pipeline oluşturmak\n",
    "pipeline = Pipeline(steps=[\n",
    "    ('preprocessor', preprocessor),\n",
    "    ('classifier', RandomForestClassifier(random_state=42))\n",
    "])\n",
    "\n",
    "# Modeli eğitmek\n",
    "pipeline.fit(X_train, y_train)\n",
    "\n",
    "# Test veri seti üzerinde modeli değerlendirmek\n",
    "accuracy = pipeline.score(X_test, y_test)\n",
    "print(f\"Model accuracy: {accuracy}\")\n"
   ]
  },
  {
   "cell_type": "code",
   "execution_count": null,
   "metadata": {
    "execution": {
     "iopub.execute_input": "2024-07-10T00:00:07.924371Z",
     "iopub.status.busy": "2024-07-10T00:00:07.923837Z",
     "iopub.status.idle": "2024-07-10T00:00:11.7266Z",
     "shell.execute_reply": "2024-07-10T00:00:11.725421Z",
     "shell.execute_reply.started": "2024-07-10T00:00:07.924332Z"
    }
   },
   "outputs": [],
   "source": [
    "import pandas as pd\n",
    "\n",
    "# CSV dosyalarını okuma\n",
    "train_df = pd.read_csv('/kaggle/input/lmsys-chatbot-arena/train.csv')\n",
    "test_df = pd.read_csv('/kaggle/input/lmsys-chatbot-arena/test.csv')\n",
    "\n",
    "# Birleştirme işlemi\n",
    "df = pd.concat([train_df, test_df], ignore_index=True)\n",
    "\n",
    "# Sonucu kontrol etme\n",
    "df.head()\n"
   ]
  },
  {
   "cell_type": "code",
   "execution_count": null,
   "metadata": {
    "execution": {
     "iopub.execute_input": "2024-07-09T23:32:11.547258Z",
     "iopub.status.busy": "2024-07-09T23:32:11.546942Z",
     "iopub.status.idle": "2024-07-09T23:32:11.553441Z",
     "shell.execute_reply": "2024-07-09T23:32:11.552405Z",
     "shell.execute_reply.started": "2024-07-09T23:32:11.547202Z"
    }
   },
   "outputs": [],
   "source": [
    "df.shape"
   ]
  },
  {
   "cell_type": "code",
   "execution_count": null,
   "metadata": {
    "execution": {
     "iopub.execute_input": "2024-07-09T23:32:11.555586Z",
     "iopub.status.busy": "2024-07-09T23:32:11.55469Z",
     "iopub.status.idle": "2024-07-09T23:32:11.563398Z",
     "shell.execute_reply": "2024-07-09T23:32:11.562392Z",
     "shell.execute_reply.started": "2024-07-09T23:32:11.555555Z"
    }
   },
   "outputs": [],
   "source": [
    "len(df.id)"
   ]
  },
  {
   "cell_type": "code",
   "execution_count": null,
   "metadata": {
    "execution": {
     "iopub.execute_input": "2024-07-09T23:32:11.565893Z",
     "iopub.status.busy": "2024-07-09T23:32:11.56559Z",
     "iopub.status.idle": "2024-07-09T23:32:11.608162Z",
     "shell.execute_reply": "2024-07-09T23:32:11.607378Z",
     "shell.execute_reply.started": "2024-07-09T23:32:11.565859Z"
    }
   },
   "outputs": [],
   "source": [
    "df.info()"
   ]
  },
  {
   "cell_type": "code",
   "execution_count": null,
   "metadata": {
    "execution": {
     "iopub.execute_input": "2024-07-09T23:32:11.609338Z",
     "iopub.status.busy": "2024-07-09T23:32:11.60907Z",
     "iopub.status.idle": "2024-07-09T23:32:11.619521Z",
     "shell.execute_reply": "2024-07-09T23:32:11.618544Z",
     "shell.execute_reply.started": "2024-07-09T23:32:11.609315Z"
    }
   },
   "outputs": [],
   "source": [
    "winner_counts = {\n",
    "    'model_a': df['winner_model_a'].value_counts(),\n",
    "    'model_b': df['winner_model_b'].value_counts(),\n",
    "    'tie': df['winner_tie'].sum()\n",
    "}\n",
    "\n",
    "print(winner_counts)"
   ]
  },
  {
   "cell_type": "code",
   "execution_count": null,
   "metadata": {
    "execution": {
     "iopub.execute_input": "2024-07-09T23:32:11.621194Z",
     "iopub.status.busy": "2024-07-09T23:32:11.620881Z",
     "iopub.status.idle": "2024-07-09T23:32:11.62802Z",
     "shell.execute_reply": "2024-07-09T23:32:11.627003Z",
     "shell.execute_reply.started": "2024-07-09T23:32:11.621163Z"
    }
   },
   "outputs": [],
   "source": [
    "# winner_model_a ve winner_model_b sütunları sıfır olan satırları filtreleme\n",
    "zero_winner_df = df[(df['winner_model_a'] == 1.0) & (df['winner_model_b'] == 1.0)].astype(\"float64\")"
   ]
  },
  {
   "cell_type": "code",
   "execution_count": null,
   "metadata": {
    "execution": {
     "iopub.execute_input": "2024-07-09T23:32:11.62959Z",
     "iopub.status.busy": "2024-07-09T23:32:11.62928Z",
     "iopub.status.idle": "2024-07-09T23:32:11.653628Z",
     "shell.execute_reply": "2024-07-09T23:32:11.652722Z",
     "shell.execute_reply.started": "2024-07-09T23:32:11.629559Z"
    }
   },
   "outputs": [],
   "source": [
    "# winner_model_a sütunu 1 olan satırları filtreleme\n",
    "model_a_winner_df = combined_df[combined_df['winner_model_a'] == 1.0]\n",
    "\n",
    "# winner_model_b sütunu 1 olan satırları filtreleme\n",
    "model_b_winner_df = combined_df[combined_df['winner_model_b'] == 1.0]\n",
    "\n",
    "# 1 olan satırlarda model_a ve model_b'nin en çok tekrar edileni bulma\n",
    "model_a_counts = model_a_winner_df['model_a'].value_counts()\n",
    "model_b_counts = model_b_winner_df['model_b'].value_counts()\n",
    "\n",
    "print(\"model_a en çok tekrar edenler (combined):\")\n",
    "print(model_a_counts.head())\n",
    "\n",
    "print(\"\\nmodel_b en çok tekrar edenler (combined):\")\n",
    "print(model_b_counts.head())"
   ]
  },
  {
   "cell_type": "code",
   "execution_count": null,
   "metadata": {
    "execution": {
     "iopub.execute_input": "2024-07-09T23:32:11.654896Z",
     "iopub.status.busy": "2024-07-09T23:32:11.654639Z",
     "iopub.status.idle": "2024-07-09T23:32:11.683132Z",
     "shell.execute_reply": "2024-07-09T23:32:11.68247Z",
     "shell.execute_reply.started": "2024-07-09T23:32:11.654874Z"
    }
   },
   "outputs": [],
   "source": [
    "# model_a sütununda en çok tekrar eden yanıtları bulma\n",
    "response_a_counts = model_a_winner_df['response_a'].value_counts()\n",
    "response_b_counts = model_b_winner_df['response_b'].value_counts()"
   ]
  },
  {
   "cell_type": "code",
   "execution_count": null,
   "metadata": {
    "execution": {
     "iopub.execute_input": "2024-07-09T23:32:11.684437Z",
     "iopub.status.busy": "2024-07-09T23:32:11.684157Z",
     "iopub.status.idle": "2024-07-09T23:32:11.788274Z",
     "shell.execute_reply": "2024-07-09T23:32:11.787409Z",
     "shell.execute_reply.started": "2024-07-09T23:32:11.684415Z"
    }
   },
   "outputs": [],
   "source": [
    "# response_a sütununda en çok tekrar eden yanıtları bulma ve kazanan modele göre gruplandırma\n",
    "response_a_counts_df = model_a_winner_df.groupby(['model_a', 'prompt']).size().reset_index(name='count')\n",
    "\n",
    "# response_b sütununda en çok tekrar eden yanıtları bulma ve kazanan modele göre gruplandırma\n",
    "response_b_counts_df = model_b_winner_df.groupby(['model_b', 'prompt']).size().reset_index(name='count')\n",
    "\n",
    "print(\"response_a en çok tekrar edenler (combined):\")\n",
    "print(response_a_counts_df.head())\n",
    "\n",
    "print(\"\\nresponse_b en çok tekrar edenler (combined):\")\n",
    "print(response_b_counts_df.head())"
   ]
  },
  {
   "cell_type": "code",
   "execution_count": null,
   "metadata": {
    "execution": {
     "iopub.execute_input": "2024-07-09T23:32:11.792514Z",
     "iopub.status.busy": "2024-07-09T23:32:11.792197Z",
     "iopub.status.idle": "2024-07-09T23:32:11.802455Z",
     "shell.execute_reply": "2024-07-09T23:32:11.801379Z",
     "shell.execute_reply.started": "2024-07-09T23:32:11.79249Z"
    }
   },
   "outputs": [],
   "source": [
    "response_a_counts_df"
   ]
  },
  {
   "cell_type": "code",
   "execution_count": null,
   "metadata": {
    "execution": {
     "iopub.execute_input": "2024-07-09T23:32:11.804291Z",
     "iopub.status.busy": "2024-07-09T23:32:11.803741Z",
     "iopub.status.idle": "2024-07-09T23:32:11.809703Z",
     "shell.execute_reply": "2024-07-09T23:32:11.808573Z",
     "shell.execute_reply.started": "2024-07-09T23:32:11.80426Z"
    }
   },
   "outputs": [],
   "source": [
    "top_models = ['gpt-4-1106-preview', 'gpt-4-0613', 'gpt-3.5-turbo-0613', 'gpt-4-0314']\n"
   ]
  },
  {
   "cell_type": "code",
   "execution_count": null,
   "metadata": {
    "execution": {
     "iopub.execute_input": "2024-07-09T23:32:11.811073Z",
     "iopub.status.busy": "2024-07-09T23:32:11.810729Z",
     "iopub.status.idle": "2024-07-09T23:32:11.865559Z",
     "shell.execute_reply": "2024-07-09T23:32:11.864715Z",
     "shell.execute_reply.started": "2024-07-09T23:32:11.811041Z"
    }
   },
   "outputs": [],
   "source": [
    "# Her model için en çok tekrar eden 10 yanıtı almak\n",
    "for model in top_models:\n",
    "    print(f\"\\nModel: {model} - En çok tekrar eden 10 yanıt (response_a):\")\n",
    "    top_responses_a = response_a_counts_df[response_a_counts_df['model_a'] == model].sort_values(by='count', ascending=False).head(10)\n",
    "    print(top_responses_a)\n",
    "\n",
    "    print(f\"\\nModel: {model} - En çok tekrar eden 10 yanıt (response_b):\")\n",
    "    top_responses_b = response_b_counts_df[response_b_counts_df['model_b'] == model].sort_values(by='count', ascending=False).head(10)\n",
    "    print(top_responses_b)"
   ]
  },
  {
   "cell_type": "code",
   "execution_count": null,
   "metadata": {
    "execution": {
     "iopub.execute_input": "2024-07-09T23:32:11.867529Z",
     "iopub.status.busy": "2024-07-09T23:32:11.866751Z",
     "iopub.status.idle": "2024-07-09T23:32:15.597461Z",
     "shell.execute_reply": "2024-07-09T23:32:15.596527Z",
     "shell.execute_reply.started": "2024-07-09T23:32:11.867498Z"
    }
   },
   "outputs": [],
   "source": [
    "# Kazanan modelin adını belirleyen ve yeni bir sütun oluşturan fonksiyon\n",
    "def determine_winner(row):\n",
    "    if row['winner_model_a'] == 1.0:\n",
    "        return row['model_a']\n",
    "    elif row['winner_model_b'] == 1.0:\n",
    "        return row['model_b']\n",
    "    else:\n",
    "        return 'tie'\n",
    "\n",
    "# Kazanan sütunu oluşturma\n",
    "df['winner'] = df.apply(determine_winner, axis=1)\n",
    "\n",
    "# Sadece prompt ve kazanan sütununu alarak gruplama işlemi\n",
    "grouped_df = df[['prompt', 'winner']].groupby('prompt')['winner'].apply(list).reset_index()\n",
    "\n",
    "# CSV olarak çıktı alma\n",
    "grouped_df.to_csv('prompt_winners.csv', index=False)\n",
    "\n",
    "print(\"CSV dosyası başarıyla oluşturuldu: 'prompt_winners.csv'\")"
   ]
  },
  {
   "cell_type": "code",
   "execution_count": null,
   "metadata": {
    "execution": {
     "iopub.execute_input": "2024-07-09T23:32:15.599136Z",
     "iopub.status.busy": "2024-07-09T23:32:15.598774Z",
     "iopub.status.idle": "2024-07-09T23:32:15.81651Z",
     "shell.execute_reply": "2024-07-09T23:32:15.815597Z",
     "shell.execute_reply.started": "2024-07-09T23:32:15.599101Z"
    }
   },
   "outputs": [],
   "source": [
    "prompt = pd.read_csv(\"/kaggle/working/prompt_winners.csv\")\n",
    "prompt.groupby(\"winner\").count().reset_index().head(20)"
   ]
  },
  {
   "cell_type": "code",
   "execution_count": null,
   "metadata": {
    "execution": {
     "iopub.execute_input": "2024-07-09T23:32:15.817928Z",
     "iopub.status.busy": "2024-07-09T23:32:15.817662Z",
     "iopub.status.idle": "2024-07-09T23:32:15.857518Z",
     "shell.execute_reply": "2024-07-09T23:32:15.856685Z",
     "shell.execute_reply.started": "2024-07-09T23:32:15.817904Z"
    }
   },
   "outputs": [],
   "source": [
    "# Promptları kazanan modele göre gruplayarak en çok tekrar edenleri bulma\n",
    "winner_counts = prompt_df.explode('winner').groupby('winner').size().reset_index(name='count')\n",
    "winner_counts = winner_counts.sort_values(by='count', ascending=False)\n",
    "\n",
    "# CSV olarak çıktı alma\n",
    "winner_counts.to_csv('prompt_top_winners.csv', index=False)\n",
    "\n",
    "print(\"CSV dosyası başarıyla oluşturuldu: 'prompt_top_winners.csv'\")"
   ]
  },
  {
   "cell_type": "code",
   "execution_count": null,
   "metadata": {
    "execution": {
     "iopub.execute_input": "2024-07-09T23:32:15.858765Z",
     "iopub.status.busy": "2024-07-09T23:32:15.85852Z",
     "iopub.status.idle": "2024-07-09T23:32:15.868386Z",
     "shell.execute_reply": "2024-07-09T23:32:15.867429Z",
     "shell.execute_reply.started": "2024-07-09T23:32:15.858744Z"
    }
   },
   "outputs": [],
   "source": [
    "winner_counts.head(20)"
   ]
  },
  {
   "cell_type": "code",
   "execution_count": null,
   "metadata": {
    "execution": {
     "iopub.execute_input": "2024-07-09T23:32:15.869833Z",
     "iopub.status.busy": "2024-07-09T23:32:15.86958Z",
     "iopub.status.idle": "2024-07-09T23:32:16.092112Z",
     "shell.execute_reply": "2024-07-09T23:32:16.091283Z",
     "shell.execute_reply.started": "2024-07-09T23:32:15.869811Z"
    }
   },
   "outputs": [],
   "source": [
    "# Prompt ve kazanan modeli gruplayarak çıktı alma\n",
    "prompt_winners = df.groupby(['winner', 'prompt']).sum().reset_index()\n",
    "\n",
    "prompt_winners"
   ]
  },
  {
   "cell_type": "code",
   "execution_count": null,
   "metadata": {
    "execution": {
     "iopub.execute_input": "2024-07-09T23:32:16.093797Z",
     "iopub.status.busy": "2024-07-09T23:32:16.09343Z",
     "iopub.status.idle": "2024-07-09T23:32:16.106242Z",
     "shell.execute_reply": "2024-07-09T23:32:16.105404Z",
     "shell.execute_reply.started": "2024-07-09T23:32:16.093763Z"
    }
   },
   "outputs": [],
   "source": [
    "top_prompt = pd.read_csv(\"/kaggle/working/prompt_top_winners.csv\")\n",
    "top_prompt.head(20)"
   ]
  },
  {
   "cell_type": "code",
   "execution_count": null,
   "metadata": {
    "execution": {
     "iopub.execute_input": "2024-07-09T23:32:16.108162Z",
     "iopub.status.busy": "2024-07-09T23:32:16.107454Z",
     "iopub.status.idle": "2024-07-09T23:32:16.298557Z",
     "shell.execute_reply": "2024-07-09T23:32:16.297585Z",
     "shell.execute_reply.started": "2024-07-09T23:32:16.108131Z"
    }
   },
   "outputs": [],
   "source": [
    "# 'tie' durumunda response_a ve response_b değerlerini gruplayarak çıktı alma\n",
    "tie_responses = df[df['winner'] == 'tie'].groupby(['response_a', 'response_b']).sum().reset_index()[['response_a', 'response_b',\"prompt\"]]\n",
    "\n",
    "tie_responses"
   ]
  },
  {
   "cell_type": "code",
   "execution_count": null,
   "metadata": {
    "execution": {
     "iopub.execute_input": "2024-07-09T23:32:16.300093Z",
     "iopub.status.busy": "2024-07-09T23:32:16.299816Z",
     "iopub.status.idle": "2024-07-09T23:32:30.889905Z",
     "shell.execute_reply": "2024-07-09T23:32:30.888921Z",
     "shell.execute_reply.started": "2024-07-09T23:32:16.300069Z"
    }
   },
   "outputs": [],
   "source": [
    "def determine_winner_and_loser(row):\n",
    "    if row['winner_model_a'] == 1.0:\n",
    "        winner = row['model_a']\n",
    "        loser = row['model_b']\n",
    "        winner_response = row['response_a']\n",
    "        loser_response = row['response_b']\n",
    "    elif row['winner_model_b'] == 1.0:\n",
    "        winner = row['model_b']\n",
    "        loser = row['model_a']\n",
    "        winner_response = row['response_b']\n",
    "        loser_response = row['response_a']\n",
    "    else:\n",
    "        winner = 'tie'\n",
    "        loser = 'tie'\n",
    "        winner_response = ''\n",
    "        loser_response = ''\n",
    "    \n",
    "    return pd.Series([winner, loser, len(winner_response), len(loser_response)], index=['winner', 'loser', 'winner_response_length', 'loser_response_length'])\n",
    "\n",
    "# Kazanan ve kaybeden sütunlarını oluşturma\n",
    "winner_loser_lengths = df.apply(determine_winner_and_loser, axis=1)\n",
    "\n",
    "# Önceki DataFrame'e kazanan ve kaybeden uzunluklarını ekleyerek yeni bir DataFrame oluşturma\n",
    "prompt_df = pd.concat([df[['prompt']], winner_loser_lengths], axis=1)\n",
    "\n",
    "prompt_df.head(20)"
   ]
  },
  {
   "cell_type": "code",
   "execution_count": null,
   "metadata": {
    "execution": {
     "iopub.execute_input": "2024-07-09T23:39:04.528755Z",
     "iopub.status.busy": "2024-07-09T23:39:04.527875Z",
     "iopub.status.idle": "2024-07-09T23:39:06.294763Z",
     "shell.execute_reply": "2024-07-09T23:39:06.293902Z",
     "shell.execute_reply.started": "2024-07-09T23:39:04.528721Z"
    }
   },
   "outputs": [],
   "source": [
    "# CSV dosyalarını okuma\n",
    "train_df = pd.read_csv('/kaggle/input/lmsys-chatbot-arena/train.csv')\n",
    "test_df = pd.read_csv('/kaggle/input/lmsys-chatbot-arena/test.csv')\n",
    "\n",
    "# Birleştirme işlemi\n",
    "df = pd.concat([train_df, test_df], ignore_index=True)"
   ]
  },
  {
   "cell_type": "code",
   "execution_count": null,
   "metadata": {
    "execution": {
     "iopub.execute_input": "2024-07-09T23:39:45.422758Z",
     "iopub.status.busy": "2024-07-09T23:39:45.422089Z",
     "iopub.status.idle": "2024-07-09T23:39:45.437105Z",
     "shell.execute_reply": "2024-07-09T23:39:45.436116Z",
     "shell.execute_reply.started": "2024-07-09T23:39:45.422725Z"
    }
   },
   "outputs": [],
   "source": [
    "train_df"
   ]
  },
  {
   "cell_type": "code",
   "execution_count": null,
   "metadata": {
    "execution": {
     "iopub.execute_input": "2024-07-09T23:39:08.332626Z",
     "iopub.status.busy": "2024-07-09T23:39:08.332247Z",
     "iopub.status.idle": "2024-07-09T23:39:08.35138Z",
     "shell.execute_reply": "2024-07-09T23:39:08.350518Z",
     "shell.execute_reply.started": "2024-07-09T23:39:08.332598Z"
    }
   },
   "outputs": [],
   "source": [
    "df"
   ]
  },
  {
   "cell_type": "code",
   "execution_count": null,
   "metadata": {
    "execution": {
     "iopub.execute_input": "2024-07-09T23:47:57.874638Z",
     "iopub.status.busy": "2024-07-09T23:47:57.874307Z",
     "iopub.status.idle": "2024-07-09T23:47:57.879044Z",
     "shell.execute_reply": "2024-07-09T23:47:57.878127Z",
     "shell.execute_reply.started": "2024-07-09T23:47:57.874615Z"
    }
   },
   "outputs": [],
   "source": [
    "# Polars DataFrame oluşturma\n",
    "import polars as pl\n",
    "from textblob import TextBlob\n",
    "import numpy as np"
   ]
  },
  {
   "cell_type": "code",
   "execution_count": null,
   "metadata": {
    "execution": {
     "iopub.execute_input": "2024-07-09T23:49:28.363129Z",
     "iopub.status.busy": "2024-07-09T23:49:28.36233Z",
     "iopub.status.idle": "2024-07-09T23:49:28.801753Z",
     "shell.execute_reply": "2024-07-09T23:49:28.80086Z",
     "shell.execute_reply.started": "2024-07-09T23:49:28.3631Z"
    }
   },
   "outputs": [],
   "source": [
    "import polars as pl\n",
    "import numpy as np\n",
    "from textblob import TextBlob\n",
    "\n",
    "# Polars DataFrame oluşturma\n",
    "df = pl.DataFrame(df)\n",
    "\n",
    "# Sentiment analizi ve error sayımı fonksiyonları\n",
    "def batch_analyze_sentiment(texts):\n",
    "    return np.array([TextBlob(text).sentiment.polarity for text in texts])\n",
    "\n",
    "def batch_count_errors(texts):\n",
    "    return np.array([text.lower().count('error') for text in texts])\n",
    "\n",
    "# Yeni sütunlar oluşturma\n",
    "df = df.with_columns([\n",
    "    pl.col('response_a').str.lengths().alias('response_a_length'),\n",
    "    pl.col('response_b').str.lengths().alias('response_b_length'),\n",
    "    (pl.col('response_a').str.lengths() - pl.col('response_b').str.lengths()).abs().alias('response_length_difference'),\n",
    "])\n",
    "\n",
    "# Sentiment analizi ve error sayımı için ilk 100 satırı işleme al\n",
    "if len(df) > 0:\n",
    "    n_rows = min(100, len(df))\n",
    "    \n",
    "    sentiment_a = batch_analyze_sentiment(df['response_a'].head(n_rows).to_numpy())\n",
    "    sentiment_b = batch_analyze_sentiment(df['response_b'].head(n_rows).to_numpy())\n",
    "    errors_a = batch_count_errors(df['response_a'].head(n_rows).to_numpy())\n",
    "    errors_b = batch_count_errors(df['response_b'].head(n_rows).to_numpy())\n",
    "\n",
    "    # Yeni sütunları ekleme\n",
    "    df = df.with_columns([\n",
    "        pl.Series('sentiment_a', sentiment_a).extend(pl.Series([None] * (len(df) - n_rows))),\n",
    "        pl.Series('sentiment_b', sentiment_b).extend(pl.Series([None] * (len(df) - n_rows))),\n",
    "        pl.Series('errors_a', errors_a).extend(pl.Series([None] * (len(df) - n_rows))),\n",
    "        pl.Series('errors_b', errors_b).extend(pl.Series([None] * (len(df) - n_rows))),\n",
    "    ])\n",
    "\n",
    "# Kazanan ve kaybeden sütunlarını oluşturma (eski sürümlerle uyumlu)\n",
    "df = df.with_columns([\n",
    "    pl.when(pl.col('sentiment_a') > pl.col('sentiment_b'))\n",
    "      .then(pl.col('response_a'))\n",
    "      .when(pl.col('sentiment_a') <= pl.col('sentiment_b'))\n",
    "      .then(pl.col('response_b'))\n",
    "      .alias('winner_sentiment'),\n",
    "    pl.when(pl.col('sentiment_a') < pl.col('sentiment_b'))\n",
    "      .then(pl.col('response_a'))\n",
    "      .when(pl.col('sentiment_a') >= pl.col('sentiment_b'))\n",
    "      .then(pl.col('response_b'))\n",
    "      .alias('loser_sentiment')\n",
    "])\n",
    "\n",
    "df"
   ]
  }
 ],
 "metadata": {
  "kaggle": {
   "accelerator": "nvidiaTeslaT4",
   "dataSources": [
    {
     "databundleVersionId": 8346466,
     "sourceId": 66631,
     "sourceType": "competition"
    }
   ],
   "dockerImageVersionId": 30732,
   "isGpuEnabled": true,
   "isInternetEnabled": true,
   "language": "python",
   "sourceType": "notebook"
  },
  "kernelspec": {
   "display_name": "Python 3",
   "language": "python",
   "name": "python3"
  },
  "language_info": {
   "codemirror_mode": {
    "name": "ipython",
    "version": 3
   },
   "file_extension": ".py",
   "mimetype": "text/x-python",
   "name": "python",
   "nbconvert_exporter": "python",
   "pygments_lexer": "ipython3",
   "version": "3.10.13"
  }
 },
 "nbformat": 4,
 "nbformat_minor": 4
}
