{
 "cells": [
  {
   "cell_type": "code",
   "execution_count": null,
   "metadata": {
    "_cell_guid": "b1076dfc-b9ad-4769-8c92-a6c4dae69d19",
    "_uuid": "8f2839f25d086af736a60e9eeb907d3b93b6e0e5",
    "execution": {
     "iopub.execute_input": "2024-07-26T20:34:21.925321Z",
     "iopub.status.busy": "2024-07-26T20:34:21.924398Z",
     "iopub.status.idle": "2024-07-26T20:34:21.964928Z",
     "shell.execute_reply": "2024-07-26T20:34:21.963724Z",
     "shell.execute_reply.started": "2024-07-26T20:34:21.925282Z"
    }
   },
   "outputs": [],
   "source": [
    "import numpy as np # linear algebra\n",
    "import pandas as pd # data processing, CSV file I/O (e.g. pd.read_csv)\n",
    "\n",
    "test = pd.read_csv('/kaggle/input/lmsys-chatbot-arena/test.csv')\n",
    "\n",
    "# Create a new DataFrame with the same 'id' column as 'test'\n",
    "sample_submission = pd.DataFrame({'id': test['id']})\n",
    "\n",
    "# Generate random floats for each column\n",
    "n_rows = len(test)\n",
    "random_values = np.random.rand(n_rows, 3)\n",
    "\n",
    "# Normalize the random values so they sum to 1 for each row\n",
    "normalized_values = random_values / random_values.sum(axis=1)[:, np.newaxis]\n",
    "\n",
    "# Add the normalized random values to the DataFrame\n",
    "sample_submission['winner_model_a'] = normalized_values[:, 0]\n",
    "sample_submission['winner_model_b'] = normalized_values[:, 1]\n",
    "sample_submission['winner_tie'] = normalized_values[:, 2]\n",
    "\n",
    "# Verify that the sum of winner columns is very close to 1 for each row\n",
    "# (using np.isclose due to potential floating-point precision issues)\n",
    "assert np.allclose(sample_submission[['winner_model_a', 'winner_model_b', 'winner_tie']].sum(axis=1), 1)\n",
    "\n",
    "# Display the first few rows of the new DataFrame\n",
    "print(sample_submission.head())"
   ]
  },
  {
   "cell_type": "code",
   "execution_count": null,
   "metadata": {
    "execution": {
     "iopub.execute_input": "2024-07-26T20:34:31.498544Z",
     "iopub.status.busy": "2024-07-26T20:34:31.49772Z",
     "iopub.status.idle": "2024-07-26T20:34:31.507677Z",
     "shell.execute_reply": "2024-07-26T20:34:31.506493Z",
     "shell.execute_reply.started": "2024-07-26T20:34:31.498508Z"
    }
   },
   "outputs": [],
   "source": [
    "sample_submission.to_csv('submission.csv', index=False)"
   ]
  }
 ],
 "metadata": {
  "kaggle": {
   "accelerator": "none",
   "dataSources": [
    {
     "databundleVersionId": 8346466,
     "sourceId": 66631,
     "sourceType": "competition"
    }
   ],
   "dockerImageVersionId": 30746,
   "isGpuEnabled": false,
   "isInternetEnabled": false,
   "language": "python",
   "sourceType": "notebook"
  },
  "kernelspec": {
   "display_name": "Python 3",
   "language": "python",
   "name": "python3"
  },
  "language_info": {
   "codemirror_mode": {
    "name": "ipython",
    "version": 3
   },
   "file_extension": ".py",
   "mimetype": "text/x-python",
   "name": "python",
   "nbconvert_exporter": "python",
   "pygments_lexer": "ipython3",
   "version": "3.10.13"
  }
 },
 "nbformat": 4,
 "nbformat_minor": 4
}
