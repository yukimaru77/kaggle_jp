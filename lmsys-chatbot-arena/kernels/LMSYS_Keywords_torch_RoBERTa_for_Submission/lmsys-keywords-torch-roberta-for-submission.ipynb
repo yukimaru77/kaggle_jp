{
 "cells": [
  {
   "cell_type": "markdown",
   "id": "1915030a",
   "metadata": {},
   "source": [
    "# LMSYS Keywords torch RoBERTa for Submission\n",
    "with internet-off condition\n",
    "\n",
    "\n",
    "- https://www.kaggle.com/code/stpeteishii/lmsys-prompt-response-words-keybert <br/>\n",
    "train data processing\n",
    "\n",
    "- https://www.kaggle.com/code/stpeteishii/lmsys-keywords-torch-roberta <br/>\n",
    "model training using processed train data\n",
    "\n",
    "- https://www.kaggle.com/code/stpeteishii/download-keybert <br/>\n",
    "download keybert\n",
    "\n",
    "- https://www.kaggle.com/code/stpeteishii/save-distilbert-base-nli-mean-tokens <br/>\n",
    "download distilbert-base-nli-mean-tokens\n",
    "\n",
    "- https://www.kaggle.com/code/stpeteishii/lmsys-keywords-torch-roberta-for-submission <br/>\n",
    "test data processing, inferance (this notebook)"
   ]
  },
  {
   "cell_type": "code",
   "execution_count": null,
   "metadata": {},
   "outputs": [],
   "source": [
    "!pip install keybert --no-index --find-links=file:///kaggle/input/download-keybert"
   ]
  },
  {
   "cell_type": "code",
   "execution_count": null,
   "metadata": {
    "_kg_hide-output": true,
    "execution": {
     "iopub.execute_input": "2024-07-28T14:16:28.599254Z",
     "iopub.status.busy": "2024-07-28T14:16:28.598364Z",
     "iopub.status.idle": "2024-07-28T14:16:46.349637Z",
     "shell.execute_reply": "2024-07-28T14:16:46.348879Z",
     "shell.execute_reply.started": "2024-07-28T14:16:28.599209Z"
    }
   },
   "outputs": [],
   "source": [
    "from keybert import KeyBERT"
   ]
  },
  {
   "cell_type": "code",
   "execution_count": null,
   "metadata": {
    "execution": {
     "iopub.execute_input": "2024-07-28T14:16:46.357455Z",
     "iopub.status.busy": "2024-07-28T14:16:46.35717Z",
     "iopub.status.idle": "2024-07-28T14:16:46.370646Z",
     "shell.execute_reply": "2024-07-28T14:16:46.3698Z",
     "shell.execute_reply.started": "2024-07-28T14:16:46.357422Z"
    },
    "papermill": {
     "duration": 6.118647,
     "end_time": "2023-06-28T07:17:46.877542",
     "exception": false,
     "start_time": "2023-06-28T07:17:40.758895",
     "status": "completed"
    },
    "tags": []
   },
   "outputs": [],
   "source": [
    "import numpy as np \n",
    "import pandas as pd \n",
    "import os\n",
    "from sklearn.metrics import mean_squared_error\n",
    "from sklearn.model_selection import StratifiedKFold\n",
    "import torch\n",
    "import torch.nn as nn\n",
    "from torch.utils.data import DataLoader, Dataset\n",
    "from tqdm import tqdm\n",
    "import matplotlib.pyplot as plt \n",
    "import transformers\n",
    "import random\n",
    "import warnings\n",
    "warnings.simplefilter('ignore')\n",
    "scaler = torch.cuda.amp.GradScaler() \n",
    "device = torch.device('cuda' if torch.cuda.is_available() else 'cpu')\n",
    "device"
   ]
  },
  {
   "cell_type": "code",
   "execution_count": null,
   "metadata": {
    "execution": {
     "iopub.execute_input": "2024-07-28T14:16:46.374186Z",
     "iopub.status.busy": "2024-07-28T14:16:46.373848Z",
     "iopub.status.idle": "2024-07-28T14:16:46.397994Z",
     "shell.execute_reply": "2024-07-28T14:16:46.397088Z",
     "shell.execute_reply.started": "2024-07-28T14:16:46.374157Z"
    },
    "papermill": {
     "duration": 0.026662,
     "end_time": "2023-06-28T07:17:46.916292",
     "exception": false,
     "start_time": "2023-06-28T07:17:46.88963",
     "status": "completed"
    },
    "tags": []
   },
   "outputs": [],
   "source": [
    "def random_seed(SEED):\n",
    "    \n",
    "    random.seed(SEED)\n",
    "    os.environ['PYTHONHASHSEED'] = str(SEED)\n",
    "    np.random.seed(SEED)\n",
    "    torch.manual_seed(SEED)\n",
    "    torch.cuda.manual_seed(SEED)\n",
    "    torch.cuda.manual_seed_all(SEED)\n",
    "    torch.backends.cudnn.deterministic = True\n",
    "    \n",
    "SEED = 508\n",
    "random_seed(SEED)"
   ]
  },
  {
   "cell_type": "markdown",
   "id": "eee27bf9",
   "metadata": {},
   "source": [
    "# Process Test Data"
   ]
  },
  {
   "cell_type": "code",
   "execution_count": null,
   "metadata": {
    "execution": {
     "iopub.execute_input": "2024-07-28T14:16:46.399361Z",
     "iopub.status.busy": "2024-07-28T14:16:46.399047Z",
     "iopub.status.idle": "2024-07-28T14:16:46.804949Z",
     "shell.execute_reply": "2024-07-28T14:16:46.803417Z",
     "shell.execute_reply.started": "2024-07-28T14:16:46.399338Z"
    }
   },
   "outputs": [],
   "source": [
    "from sentence_transformers import SentenceTransformer\n",
    "\n",
    "local_model = SentenceTransformer('/kaggle/input/save-distilbert-base-nli-mean-tokens')\n",
    "modelky = KeyBERT(model=local_model)"
   ]
  },
  {
   "cell_type": "code",
   "execution_count": null,
   "metadata": {
    "execution": {
     "iopub.status.busy": "2024-07-28T14:16:46.808066Z",
     "iopub.status.idle": "2024-07-28T14:16:46.809171Z",
     "shell.execute_reply": "2024-07-28T14:16:46.809005Z",
     "shell.execute_reply.started": "2024-07-28T14:16:46.808989Z"
    }
   },
   "outputs": [],
   "source": [
    "test = pd.read_csv('/kaggle/input/lmsys-chatbot-arena/test.csv')#, encoding='iso-8859-1')\n",
    "test['prompt_kw']='-'\n",
    "test['res_a_kw']='-'\n",
    "test['res_b_kw']='-'\n",
    "\n",
    "tkw0 = modelky.extract_keywords(test['prompt'],top_n=5)\n",
    "tkw1 = modelky.extract_keywords(test['response_a'],top_n=10)\n",
    "tkw2 = modelky.extract_keywords(test['response_b'],top_n=10)"
   ]
  },
  {
   "cell_type": "code",
   "execution_count": null,
   "metadata": {
    "execution": {
     "iopub.status.busy": "2024-07-28T14:16:46.81042Z",
     "iopub.status.idle": "2024-07-28T14:16:46.810784Z",
     "shell.execute_reply": "2024-07-28T14:16:46.810613Z",
     "shell.execute_reply.started": "2024-07-28T14:16:46.810599Z"
    }
   },
   "outputs": [],
   "source": [
    "for i,w in enumerate(tkw0): \n",
    "    ws=[]\n",
    "    for wi in w:\n",
    "        if '_' not in wi[0]:\n",
    "            ws+=[wi[0]]\n",
    "    test.loc[i,'prompt_kw']=' '.join(ws)\n",
    "    \n",
    "for i,w in enumerate(tkw1): \n",
    "    ws=[]\n",
    "    for wi in w:\n",
    "        if '_' not in wi[0]:\n",
    "            ws+=[wi[0]]\n",
    "    test.loc[i,'res_a_kw']=' '.join(ws)  \n",
    "    \n",
    "for i,w in enumerate(tkw2): \n",
    "    ws=[]\n",
    "    for wi in w:\n",
    "        if '_' not in wi[0]:\n",
    "            ws+=[wi[0]]\n",
    "    test.loc[i,'res_b_kw']=' '.join(ws)   \n",
    "\n",
    "test['res_a_kw']=test['res_a_kw']+' // '+test['prompt_kw']\n",
    "test['res_b_kw']=test['res_b_kw']+' // '+test['prompt_kw']\n",
    "test=test.iloc[:,4:]\n",
    "display(test)\n",
    "\n",
    "#test.to_csv('test_key.csv',index=False)"
   ]
  },
  {
   "cell_type": "code",
   "execution_count": null,
   "metadata": {
    "execution": {
     "iopub.status.busy": "2024-07-28T14:16:46.812298Z",
     "iopub.status.idle": "2024-07-28T14:16:46.812609Z",
     "shell.execute_reply": "2024-07-28T14:16:46.81247Z",
     "shell.execute_reply.started": "2024-07-28T14:16:46.812457Z"
    }
   },
   "outputs": [],
   "source": [
    "testA=test[['res_a_kw']]\n",
    "testA['label']=0\n",
    "testA.columns=['text','label']\n",
    "testB=test[['res_b_kw']]\n",
    "testB['label']=0\n",
    "testB.columns=['text','label']\n",
    "TEST=pd.concat([testA,testB],axis=0)"
   ]
  },
  {
   "cell_type": "code",
   "execution_count": null,
   "metadata": {
    "execution": {
     "iopub.status.busy": "2024-07-28T14:16:46.814034Z",
     "iopub.status.idle": "2024-07-28T14:16:46.814387Z",
     "shell.execute_reply": "2024-07-28T14:16:46.814207Z",
     "shell.execute_reply.started": "2024-07-28T14:16:46.814194Z"
    },
    "papermill": {
     "duration": 0.030376,
     "end_time": "2023-06-28T07:18:37.166117",
     "exception": false,
     "start_time": "2023-06-28T07:18:37.135741",
     "status": "completed"
    },
    "tags": []
   },
   "outputs": [],
   "source": [
    "max_sens = 8\n",
    "p_test=TEST.reset_index(drop=True)"
   ]
  },
  {
   "cell_type": "code",
   "execution_count": null,
   "metadata": {
    "execution": {
     "iopub.status.busy": "2024-07-28T14:16:46.815465Z",
     "iopub.status.idle": "2024-07-28T14:16:46.815804Z",
     "shell.execute_reply": "2024-07-28T14:16:46.81563Z",
     "shell.execute_reply.started": "2024-07-28T14:16:46.815618Z"
    },
    "papermill": {
     "duration": 0.023548,
     "end_time": "2023-06-28T07:18:37.228036",
     "exception": false,
     "start_time": "2023-06-28T07:18:37.204488",
     "status": "completed"
    },
    "tags": []
   },
   "outputs": [],
   "source": [
    "class BERTDataSet(Dataset):\n",
    "    \n",
    "    def __init__(self,sentences,targets):        \n",
    "        self.sentences = sentences\n",
    "        self.targets = targets\n",
    "        \n",
    "    def __len__(self):        \n",
    "        return len(self.sentences)\n",
    "    \n",
    "    def __getitem__(self,idx):        \n",
    "        sentence = self.sentences[idx]    \n",
    "        bert_sens = tokenizer.encode_plus(\n",
    "                                sentence,\n",
    "                                add_special_tokens = True, \n",
    "                                max_length = max_sens, \n",
    "                                pad_to_max_length = True, \n",
    "                                return_attention_mask = True)\n",
    "\n",
    "        ids = torch.tensor(bert_sens['input_ids'], dtype=torch.long)\n",
    "        mask = torch.tensor(bert_sens['attention_mask'], dtype=torch.long)\n",
    "\n",
    "        target = torch.tensor(self.targets[idx],dtype=torch.float)\n",
    "        \n",
    "        return {\n",
    "                'ids': ids,\n",
    "                'mask': mask,\n",
    "\n",
    "                'targets': target\n",
    "            }"
   ]
  },
  {
   "cell_type": "code",
   "execution_count": null,
   "metadata": {
    "execution": {
     "iopub.status.busy": "2024-07-28T14:16:46.817682Z",
     "iopub.status.idle": "2024-07-28T14:16:46.818074Z",
     "shell.execute_reply": "2024-07-28T14:16:46.817898Z",
     "shell.execute_reply.started": "2024-07-28T14:16:46.817883Z"
    },
    "papermill": {
     "duration": 0.023996,
     "end_time": "2023-06-28T07:18:37.264616",
     "exception": false,
     "start_time": "2023-06-28T07:18:37.24062",
     "status": "completed"
    },
    "tags": []
   },
   "outputs": [],
   "source": [
    "test_dataset = BERTDataSet(p_test[\"text\"],p_test[\"label\"])\n",
    "test_batch = 32\n",
    "test_dataloader = DataLoader(test_dataset,batch_size=test_batch,shuffle = False,num_workers=8,pin_memory=True)"
   ]
  },
  {
   "cell_type": "markdown",
   "id": "ad1bffa0",
   "metadata": {},
   "source": [
    "# def predicting\n",
    "use saved models"
   ]
  },
  {
   "cell_type": "code",
   "execution_count": null,
   "metadata": {
    "execution": {
     "iopub.status.busy": "2024-07-28T14:16:46.819091Z",
     "iopub.status.idle": "2024-07-28T14:16:46.819417Z",
     "shell.execute_reply": "2024-07-28T14:16:46.819271Z",
     "shell.execute_reply.started": "2024-07-28T14:16:46.819258Z"
    }
   },
   "outputs": [],
   "source": [
    "#model initialized\n",
    "tokenizer = transformers.RobertaTokenizer.from_pretrained(\"/kaggle/input/roberta-base\")\n",
    "model = transformers.RobertaForSequenceClassification.from_pretrained(\"/kaggle/input/roberta-base\",num_labels=1)\n",
    "pths = [os.path.join(\"/kaggle/input/lmsys-keywords-torch-roberta\",s) for s in os.listdir(\"/kaggle/input/lmsys-keywords-torch-roberta\") if \".pth\" in s]\n",
    "print(pths)"
   ]
  },
  {
   "cell_type": "code",
   "execution_count": null,
   "metadata": {
    "execution": {
     "iopub.status.busy": "2024-07-28T14:16:46.820922Z",
     "iopub.status.idle": "2024-07-28T14:16:46.821365Z",
     "shell.execute_reply": "2024-07-28T14:16:46.821156Z",
     "shell.execute_reply.started": "2024-07-28T14:16:46.821137Z"
    },
    "papermill": {
     "duration": 0.043725,
     "end_time": "2023-06-28T07:40:50.691507",
     "exception": false,
     "start_time": "2023-06-28T07:40:50.647782",
     "status": "completed"
    },
    "tags": []
   },
   "outputs": [],
   "source": [
    "def predicting(\n",
    "    test_dataloader,\n",
    "    model,\n",
    "    pths \n",
    "):\n",
    "    allpreds = []    \n",
    "    for pth in pths:  \n",
    "        state = torch.load(pth, map_location=torch.device('cpu'))      \n",
    "        model.load_state_dict(state[\"state_dict\"])\n",
    "        model.to(device)\n",
    "        model.eval()      \n",
    "        preds = []\n",
    "        allvalloss=0\n",
    "\n",
    "        with torch.no_grad():\n",
    "            for a in test_dataloader:\n",
    "                ids = a[\"ids\"].to(device)\n",
    "                mask = a[\"mask\"].to(device)\n",
    "                output = model(ids,mask)\n",
    "                output = output[\"logits\"].squeeze(-1)\n",
    "                preds.append(output.cpu().numpy())\n",
    "\n",
    "            preds = np.concatenate(preds)           \n",
    "            allpreds.append(preds)\n",
    "\n",
    "    return allpreds"
   ]
  },
  {
   "cell_type": "code",
   "execution_count": null,
   "metadata": {
    "_kg_hide-output": true,
    "execution": {
     "iopub.status.busy": "2024-07-28T14:16:46.822585Z",
     "iopub.status.idle": "2024-07-28T14:16:46.82305Z",
     "shell.execute_reply": "2024-07-28T14:16:46.822838Z",
     "shell.execute_reply.started": "2024-07-28T14:16:46.822812Z"
    },
    "papermill": {
     "duration": 71.891932,
     "end_time": "2023-06-28T07:42:05.088325",
     "exception": false,
     "start_time": "2023-06-28T07:40:53.196393",
     "status": "completed"
    },
    "tags": []
   },
   "outputs": [],
   "source": [
    "tpreds = predicting(test_dataloader,model,pths)"
   ]
  },
  {
   "cell_type": "markdown",
   "id": "7a0d6915",
   "metadata": {},
   "source": [
    "# Prediction Result"
   ]
  },
  {
   "cell_type": "code",
   "execution_count": null,
   "metadata": {
    "execution": {
     "iopub.status.busy": "2024-07-28T14:16:46.824294Z",
     "iopub.status.idle": "2024-07-28T14:16:46.824603Z",
     "shell.execute_reply": "2024-07-28T14:16:46.824465Z",
     "shell.execute_reply.started": "2024-07-28T14:16:46.824452Z"
    }
   },
   "outputs": [],
   "source": [
    "test_pred = []\n",
    "for p in tpreds[0]:\n",
    "    test_pred+=[p]"
   ]
  },
  {
   "cell_type": "code",
   "execution_count": null,
   "metadata": {
    "execution": {
     "iopub.status.busy": "2024-07-28T14:16:46.82561Z",
     "iopub.status.idle": "2024-07-28T14:16:46.825972Z",
     "shell.execute_reply": "2024-07-28T14:16:46.825811Z",
     "shell.execute_reply.started": "2024-07-28T14:16:46.825796Z"
    }
   },
   "outputs": [],
   "source": [
    "submit=pd.read_csv('/kaggle/input/lmsys-chatbot-arena/sample_submission.csv')\n",
    "submit['winner_model_a']=test_pred[0:len(test)]\n",
    "submit['winner_model_b']=test_pred[len(test):]\n",
    "pa=submit['winner_model_a']\n",
    "pb=submit['winner_model_b']\n",
    "submit['winner_tie']=np.clip((pa+pb),0,1)\n",
    "display(submit)\n",
    "submit.to_csv('submission.csv',index=False)"
   ]
  }
 ],
 "metadata": {
  "kaggle": {
   "accelerator": "none",
   "dataSources": [
    {
     "databundleVersionId": 8346466,
     "sourceId": 66631,
     "sourceType": "competition"
    },
    {
     "datasetId": 575905,
     "sourceId": 2795202,
     "sourceType": "datasetVersion"
    },
    {
     "sourceId": 190145759,
     "sourceType": "kernelVersion"
    },
    {
     "sourceId": 190167696,
     "sourceType": "kernelVersion"
    },
    {
     "sourceId": 190167861,
     "sourceType": "kernelVersion"
    },
    {
     "sourceId": 190173631,
     "sourceType": "kernelVersion"
    }
   ],
   "isGpuEnabled": false,
   "isInternetEnabled": false,
   "language": "python",
   "sourceType": "notebook"
  },
  "kernelspec": {
   "display_name": "Python 3",
   "language": "python",
   "name": "python3"
  },
  "language_info": {
   "codemirror_mode": {
    "name": "ipython",
    "version": 3
   },
   "file_extension": ".py",
   "mimetype": "text/x-python",
   "name": "python",
   "nbconvert_exporter": "python",
   "pygments_lexer": "ipython3",
   "version": "3.10.13"
  }
 },
 "nbformat": 4,
 "nbformat_minor": 4
}
