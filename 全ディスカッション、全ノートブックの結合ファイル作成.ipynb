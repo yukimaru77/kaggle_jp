{
 "cells": [
  {
   "cell_type": "code",
   "execution_count": 37,
   "metadata": {},
   "outputs": [],
   "source": [
    "import os\n",
    "file_dir = r\".\\llm-20-questions\"\n",
    "discuss_path = file_dir + r\"\\discuss.json\"\n",
    "kernels_path = file_dir + r\"\\kernels.json\"\n",
    "output_dir = file_dir + \"_jp\""
   ]
  },
  {
   "cell_type": "code",
   "execution_count": 38,
   "metadata": {},
   "outputs": [],
   "source": [
    "#jsonファイルを読み込む\n",
    "import json\n",
    "\n",
    "with open(discuss_path, \"r\", encoding=\"utf-8\") as f:\n",
    "    discuss_info = json.load(f)\n",
    "\n",
    "with open(kernels_path, \"r\", encoding=\"utf-8\") as f:\n",
    "    kernels_info = json.load(f)"
   ]
  },
  {
   "cell_type": "code",
   "execution_count": 39,
   "metadata": {},
   "outputs": [],
   "source": [
    "#discuss_infoを\"votes\"順に並び替え\n",
    "discuss_info_sort_by_vite = sorted(discuss_info, key=lambda x: x[\"votes\"], reverse=True)\n",
    "\n",
    "#discuss_infoを\"comments\"順に並び替え\n",
    "discuss_info_sort_by_comments = sorted(discuss_info, key=lambda x: x[\"comments\"], reverse=True)\n",
    "\n",
    "#kernel_infoを\"totalVotes  \"順に並び替え\n",
    "kernels_info_sort_by_totalVotes = sorted(kernels_info, key=lambda x: x[\"totalVotes  \"], reverse=True)"
   ]
  },
  {
   "cell_type": "code",
   "execution_count": 40,
   "metadata": {},
   "outputs": [],
   "source": [
    "import re\n",
    "#リンク一覧\n",
    "discuss_link_sort_by_vite = []\n",
    "discuss_link_sort_by_comments = []\n",
    "kernels_directory_sort_by_totalVotes = []\n",
    "\n",
    "for discuss in discuss_info_sort_by_vite:\n",
    "  file_name = discuss['title']\n",
    "  # エスケープシーケンスを削除\n",
    "  file_name = re.sub(r'\\\\x[0-9a-fA-F]{2}', '', file_name)\n",
    "\n",
    "  # 無効な文字を置換または除去\n",
    "  file_name = re.sub(r'[\\.=<>:\"/\\\\|?*]', '', file_name)\n",
    "  file_name = file_name.replace(\" \", \"_\")\n",
    "  if len(file_name) > 60:\n",
    "      file_name = file_name[:59]+\"…\"\n",
    "  file_name = file_name + \".md\"\n",
    "  link = \"./discuss/\" + file_name\n",
    "  discuss_link_sort_by_vite.append(link)\n",
    "\n",
    "for discuss in discuss_info_sort_by_comments:\n",
    "  file_name = discuss['title']\n",
    "  # エスケープシーケンスを削除\n",
    "  file_name = re.sub(r'\\\\x[0-9a-fA-F]{2}', '', file_name)\n",
    "\n",
    "  # 無効な文字を置換または除去\n",
    "  file_name = re.sub(r'[\\.=<>:\"/\\\\|?*]', '', file_name)\n",
    "  file_name = file_name.replace(\" \", \"_\")\n",
    "  if len(file_name) > 60:\n",
    "      file_name = file_name[:59]+\"…\"\n",
    "  file_name = file_name + \".md\"\n",
    "  link = \"./discuss/\" + file_name\n",
    "  discuss_link_sort_by_comments.append(link)\n",
    "\n",
    "for kernel in kernels_info_sort_by_totalVotes:\n",
    "  directory = kernel['title']\n",
    "  # エスケープシーケンスを削除\n",
    "  directory = re.sub(r'\\\\x[0-9a-fA-F]{2}', '', directory)\n",
    "\n",
    "  # 無効なファイル名の文字を定義\n",
    "  invalid_chars = r'<>:\"/\\|?*'\n",
    "\n",
    "  # 無効な文字を置換または除去\n",
    "  directory = re.sub(r'[\\.=<>:\"/\\\\|?*]', '', directory)\n",
    "  directory = directory.replace(\" \", \"_\")\n",
    "  if len(directory) > 60:\n",
    "      directory = directory[:59]+\"…\"\n",
    "\n",
    "  kernels_directory_sort_by_totalVotes.append(directory)"
   ]
  },
  {
   "cell_type": "code",
   "execution_count": 41,
   "metadata": {},
   "outputs": [],
   "source": [
    "#各kernels_directory_sort_by_totalVotesの中に一つipynbファイルがあるので、そのファイル名を取得\n",
    "\n",
    "import os\n",
    "kernels_ipynb_sort_by_totalVotes = []\n",
    "for directory in kernels_directory_sort_by_totalVotes:\n",
    "  for file in os.listdir(file_dir + r\"\\kernels\" + \"\\\\\" + directory):\n",
    "    if file.endswith(\".ipynb\"):\n",
    "      kernels_ipynb_sort_by_totalVotes.append(file)\n",
    "      break\n",
    "#kernels_directory_sort_by_totalVotesとkernels_ipynb_sort_by_totalVotesをzipして、リンクを作成\n",
    "kernels_link_sort_by_totalVotes = []\n",
    "for directory, ipynb in zip(kernels_directory_sort_by_totalVotes, kernels_ipynb_sort_by_totalVotes):\n",
    "  link = \"./kernels/\" + directory + \"/\" + ipynb\n",
    "  kernels_link_sort_by_totalVotes.append(link)"
   ]
  },
  {
   "cell_type": "code",
   "execution_count": 42,
   "metadata": {},
   "outputs": [],
   "source": [
    "#全てのディスカッションを結合した一つのマークダウンファイルを作成\n",
    "mdfile_discuss_all = \"\"\n",
    "mdfile_discuss_all_jp = \"\"\n",
    "for i,link in enumerate(discuss_link_sort_by_vite):\n",
    "  mdfile_discuss_all += f\"* --- discussion numver {i}, the number of votes :{discuss_info_sort_by_vite[i]['votes']} ---\\n\\n\"\n",
    "  mdfile_discuss_all_jp += f\"* --- discussion numver {i}, the number of votes :{discuss_info_sort_by_vite[i]['votes']} ---\\n\\n\"\n",
    "  #ファイルを読み込む\n",
    "  with open(file_dir + discuss_link_sort_by_vite[i][1:], \"r\", encoding=\"utf-8\") as f:\n",
    "    mdfile_discuss_all += f.read()\n",
    "  with open(output_dir + discuss_link_sort_by_vite[i][1:], \"r\", encoding=\"utf-8\") as f:\n",
    "    mdfile_discuss_all_jp += f.read()\n",
    "  mdfile_discuss_all += \"\\n\\n\"\n",
    "  mdfile_discuss_all_jp += \"\\n\\n\""
   ]
  },
  {
   "cell_type": "code",
   "execution_count": 43,
   "metadata": {},
   "outputs": [],
   "source": [
    "#ファイルを書き込む\n",
    "with open(file_dir + r\"\\discuss_all.md\", \"w\", encoding=\"utf-8\") as f:\n",
    "  f.write(mdfile_discuss_all)\n",
    "\n",
    "with open(output_dir + r\"\\discuss_all.md\", \"w\", encoding=\"utf-8\") as f:\n",
    "    f.write(mdfile_discuss_all_jp)"
   ]
  },
  {
   "cell_type": "code",
   "execution_count": 44,
   "metadata": {},
   "outputs": [
    {
     "data": {
      "text/plain": [
       "(383215, 241436)"
      ]
     },
     "execution_count": 44,
     "metadata": {},
     "output_type": "execute_result"
    }
   ],
   "source": [
    "len(mdfile_discuss_all), len(mdfile_discuss_all_jp)"
   ]
  },
  {
   "cell_type": "code",
   "execution_count": 45,
   "metadata": {},
   "outputs": [],
   "source": [
    "import nbformat\n",
    "\n",
    "#全てのディスカッションを結合した一つのマークダウンファイルを作成\n",
    "mdfile_kernels_all = \"\"\n",
    "mdfile_kernels_all_jp = \"\"\n",
    "for i,link in enumerate(kernels_link_sort_by_totalVotes):\n",
    "  mdfile_kernels_all += f\"** @@@ Jupyter Notebook numver {i}, the number of votes :{kernels_info_sort_by_totalVotes[i]['totalVotes  ']} @@@ **\\n\\n\"\n",
    "  mdfile_kernels_all_jp += f\"** @@@ Jupyter Notebook numver {i}, the number of votes :{kernels_info_sort_by_totalVotes[i]['totalVotes  ']} @@@ **\\n\\n\"\n",
    "  #ファイルを読み込む\n",
    "  with open(file_dir + kernels_link_sort_by_totalVotes[i][1:], \"r\", encoding=\"utf-8\") as f:\n",
    "    notebook = nbformat.read(f, as_version=4)\n",
    "    cells = [cell for cell in notebook.cells if cell.cell_type == \"markdown\" or cell.cell_type == \"code\"]\n",
    "    for j,cell in enumerate(cells):\n",
    "      if cell.cell_type == \"markdown\":\n",
    "        mdfile_kernels_all += f\"---The following area is a Markdown cell (cell numver is {j})---\\n```markdown\\n\"\n",
    "        mdfile_kernels_all += cell.source.strip() + \"\\n```\\n\\n\"\n",
    "      elif cell.cell_type == \"code\":\n",
    "        mdfile_kernels_all += f\"---The following area is a Code cell (cell numver is {j})---\\n```python\\n\"\n",
    "        mdfile_kernels_all += cell.source + \"\\n```\\n\\n\"\n",
    "  with open(output_dir + kernels_link_sort_by_totalVotes[i][1:], \"r\", encoding=\"utf-8\") as f:\n",
    "    notebook = nbformat.read(f, as_version=4)\n",
    "    cells = [cell for cell in notebook.cells if cell.cell_type == \"markdown\" or cell.cell_type == \"code\"]\n",
    "    #cellsのindex番号1を削除\n",
    "    cells.pop(1)\n",
    "    cells[0].source = cells[0].source.strip()\n",
    "    if cells[0].source.endswith('---'):\n",
    "      cells[0].source = cells[0].source[:-3]\n",
    "    for j,cell in enumerate(cells):\n",
    "      if cell.cell_type == \"markdown\":\n",
    "        mdfile_kernels_all_jp += f\"---The following area is a Markdown cell (cell numver is {j})---\\n```markdown\\n\"\n",
    "        mdfile_kernels_all_jp += cell.source.strip() + \"\\n```\\n\\n\"\n",
    "      elif cell.cell_type == \"code\":\n",
    "        mdfile_kernels_all_jp += f\"---The following area is a Code cell (cell numver is {j})---\\n```python\\n\"\n",
    "        mdfile_kernels_all_jp += cell.source + \"\\n```\\n\\n\""
   ]
  },
  {
   "cell_type": "code",
   "execution_count": 46,
   "metadata": {},
   "outputs": [],
   "source": [
    "#ファイルを書き込む\n",
    "with open(file_dir + r\"\\kernels_all.md\", \"w\", encoding=\"utf-8\") as f:\n",
    "  f.write(mdfile_kernels_all)\n",
    "\n",
    "with open(output_dir + r\"\\kernels_all.md\", \"w\", encoding=\"utf-8\") as f:\n",
    "  f.write(mdfile_kernels_all_jp)"
   ]
  },
  {
   "cell_type": "code",
   "execution_count": 47,
   "metadata": {},
   "outputs": [
    {
     "name": "stdout",
     "output_type": "stream",
     "text": [
      "853912 851886\n"
     ]
    }
   ],
   "source": [
    "print(len(mdfile_kernels_all), len(mdfile_kernels_all_jp))"
   ]
  },
  {
   "cell_type": "code",
   "execution_count": 48,
   "metadata": {},
   "outputs": [],
   "source": [
    "#全てのディスカッションと全てのJupyter Notebookを結合した一つのマークダウンファイルを作成\n",
    "mdfile_all_jp = \"# 全てのディスカッション\\n\\n\" + mdfile_discuss_all_jp + \"\\n\\n# 全てのJupyter Notebook\\n\\n\" + mdfile_kernels_all_jp\n",
    "\n",
    "mdfile_all = \"# All Discussions\\n\\n\" + mdfile_discuss_all + \"\\n\\n# All Jupyter Notebooks\\n\\n\" + mdfile_kernels_all\n",
    "\n",
    "#ファイルを書き込む\n",
    "with open(file_dir + r\"\\all.md\", \"w\", encoding=\"utf-8\") as f:\n",
    "  f.write(mdfile_all)\n",
    "\n",
    "with open(output_dir + r\"\\all.md\", \"w\", encoding=\"utf-8\") as f:\n",
    "  f.write(mdfile_all_jp)"
   ]
  }
 ],
 "metadata": {
  "kernelspec": {
   "display_name": "kaggle-scraper-new",
   "language": "python",
   "name": "python3"
  },
  "language_info": {
   "codemirror_mode": {
    "name": "ipython",
    "version": 3
   },
   "file_extension": ".py",
   "mimetype": "text/x-python",
   "name": "python",
   "nbconvert_exporter": "python",
   "pygments_lexer": "ipython3",
   "version": "3.9.19"
  }
 },
 "nbformat": 4,
 "nbformat_minor": 2
}
