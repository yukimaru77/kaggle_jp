{
 "cells": [
  {
   "cell_type": "markdown",
   "id": "3941de35",
   "metadata": {},
   "source": [
    "# 要約 \n",
    "このJupyterノートブックは、「LMSYS - Chatbot Arena 人間による好み予測チャレンジ」において、ユーザーの応答選好を予測するためのモデルを開発することを目的としています。特に、事前トレーニング済みのLLM（大規模言語モデル）をファインチューニングするために、LoRA（Low-Rank Adaptation）を用いた手法が採用されています。\n",
    "\n",
    "## 取り組んでいる問題\n",
    "このノートブックは、Chatbot Arenaのデータセットを利用して、ユーザーがどちらのチャットボットの応答を好むかを予測するモデルの構築に焦点を当てています。データセットには、さまざまなプロンプトに対応する複数の応答が含まれており、ユーザーの好みを学習し予測することが目的です。\n",
    "\n",
    "## 使用している手法\n",
    "主な手法として、以下の技術が使用されています：\n",
    "1. **LoRA**: モデルのファインチューニングのために用いられる低ランク適応手法。これにより、パラメータ数を削減しつつモデルの性能を維持し、効率的なトレーニングが可能になります。\n",
    "2. **量子化**: モデルを4ビットで読み込み、メモリ使用量を削減し、計算効率を向上させるために`BitsAndBytesConfig`を使用しています。\n",
    "3. **データ前処理**: ユーザープロンプトと応答を結合し、トークナイズ（テキストデータを数値に変換する処理）を行います。この処理にはHugging Faceの`transformers`ライブラリが利用されています。\n",
    "\n",
    "## 使用しているライブラリ\n",
    "- **Pandas**: データの操作と分析。\n",
    "- **PyTorch**: モデルのトレーニングとデータローディングに使用。\n",
    "- **Transformers**: 事前トレーニング済みモデルやトークナイザーの取得。\n",
    "- **PEFT (Parameter Efficient Fine-Tuning)**: LoRAを使用するための機能。\n",
    "- **Datasets**: データセットの管理と前処理を簡素化。\n",
    "- **TRL (Transformers Reinforcement Learning)**: モデルのトレーニングとフィードバックのためのフレームワーク。\n",
    "\n",
    "約1エポックでモデルをトレーニングし、エポックごとに評価を行いながら、最良のモデルを保存する仕組みが組まれています。\n",
    "\n",
    "このノートブックは、最終的には、ユーザーが好む応答を予測する効果的なモデルを構築することを目指しています。\n",
    "\n",
    "---\n"
   ]
  },
  {
   "cell_type": "markdown",
   "id": "88f984c9",
   "metadata": {},
   "source": [
    "# 用語概説 \n",
    "以下は、Jupyter Notebookの内容に基づき、機械学習・深層学習の初心者が特につまずきそうな専門用語やコンセプトについての簡単な解説です。\n",
    "\n",
    "1. **bitsandbytes**:\n",
    "   - **説明**: モデルのストレージや計算効率を向上させるためのライブラリで、主に量子化や低精度計算をサポートします。このノートブックでは、モデルサイズを小さく保ちながら高速計算を実現するために使用されています。\n",
    "\n",
    "2. **LoraConfig**:\n",
    "   - **説明**: LoRA（Low-Rank Adaptation）は、モデルを特定のタスクに少ないパラメータで適応させるための方法です。LoRAでは、特定の層の重みを低ランク行列で修正し、少ない計算資源で効率的な調整を行います。\n",
    "\n",
    "3. **量子化 (Quantization)**:\n",
    "   - **説明**: モデルの数値精度を落とし、演算に必要なビット数を減らす技術です。例えば、32ビットの浮動小数点数ではなく、4ビットや8ビットの整数を使用することでモデルサイズを縮小し、推論速度を向上させます。\n",
    "\n",
    "4. **バイアス (Bias)**:\n",
    "   - **説明**: 機械学習モデルにおいて、モデルが訓練データに対して持つ先入観や偏りを指します。いかにして学習の過程においてバイアスを設定するかが、モデル性能の向上に影響します。\n",
    "\n",
    "5. **パディング (Padding)**:\n",
    "   - **説明**: シーケンスデータを一定の長さに揃えるために、短いシーケンスの末尾に特別なトークン（パディングトークン）を追加するプロセスです。これによって、バッチ処理において形状を揃えることが可能になります。\n",
    "\n",
    "6. **EarlyStoppingCallback**:\n",
    "   - **説明**: モデルの訓練中に、一定の評価基準（たとえばバリデーション損失）が改善しなくなった場合に訓練を早期に停止するための機能です。過学習を防ぐために重要です。\n",
    "\n",
    "7. **デバイスマップ (Device Map)**:\n",
    "   - **説明**: モデルの各部分をどのハードウェア（CPUやGPU）で実行するかを自動的に設定する方法です。大規模モデルを効率的に訓練する、または推論するために利用されます。\n",
    "\n",
    "8. **タイポロジ (Topology)**:\n",
    "   - **説明**: モデルの構造や配置を表現します。特にプリトレーニングの文脈では、モデルがどのようなアーキテクチャを持つのかや、トレーニング手法がどのように設定されるかを示します。\n",
    "\n",
    "9. **データセット辞書 (DatasetDict)**:\n",
    "   - **説明**: 複数のデータセット（ここでは訓練用と検証用）を1つのオブジェクトで管理するための構造です。PyTorchやTransformersライブラリでデータを簡単に扱うのに便利です。\n",
    "\n",
    "これらは、特にJupyter Notebook内で使われる専門用語やコンセプトで、初心者が見逃しがちな部分かもしれません。\n",
    "\n",
    "---\n"
   ]
  },
  {
   "cell_type": "code",
   "execution_count": null,
   "metadata": {
    "_cell_guid": "b1076dfc-b9ad-4769-8c92-a6c4dae69d19",
    "_uuid": "8f2839f25d086af736a60e9eeb907d3b93b6e0e5",
    "execution": {
     "iopub.execute_input": "2024-07-06T03:55:51.379412Z",
     "iopub.status.busy": "2024-07-06T03:55:51.379039Z",
     "iopub.status.idle": "2024-07-06T03:57:45.456341Z",
     "shell.execute_reply": "2024-07-06T03:57:45.455303Z",
     "shell.execute_reply.started": "2024-07-06T03:55:51.379376Z"
    }
   },
   "outputs": [],
   "source": [
    "!pip install -q -U bitsandbytes\n",
    "!pip install -q -U transformers\n",
    "!pip install -q -U peft\n",
    "!pip install -q -U accelerate\n",
    "!pip install -q -U datasets\n",
    "!pip install -q -U trl"
   ]
  },
  {
   "cell_type": "code",
   "execution_count": null,
   "metadata": {
    "execution": {
     "iopub.execute_input": "2024-07-06T03:57:45.459419Z",
     "iopub.status.busy": "2024-07-06T03:57:45.458724Z",
     "iopub.status.idle": "2024-07-06T03:58:02.902179Z",
     "shell.execute_reply": "2024-07-06T03:58:02.901398Z",
     "shell.execute_reply.started": "2024-07-06T03:57:45.45938Z"
    }
   },
   "outputs": [],
   "source": [
    "import pandas as pd\n",
    "from torch.utils.data import Dataset\n",
    "from torch.utils.data import DataLoader\n",
    "import os\n",
    "import torch\n",
    "from time import time\n",
    "from datasets import load_dataset\n",
    "from peft import LoraConfig, PeftModel, prepare_model_for_kbit_training\n",
    "from transformers import (\n",
    "    AutoConfig,\n",
    "    AutoModelForCausalLM,\n",
    "    AutoTokenizer,\n",
    "    BitsAndBytesConfig,\n",
    "    AutoTokenizer,\n",
    "    TrainingArguments,\n",
    "    AutoModelForSequenceClassification,\n",
    "    Trainer,\n",
    "    EarlyStoppingCallback\n",
    ")\n",
    "from trl import SFTTrainer,setup_chat_format\n",
    "import numpy as np\n",
    "from transformers import BitsAndBytesConfig, AutoModelForSequenceClassification\n",
    "from peft import LoraConfig, prepare_model_for_kbit_training, get_peft_model\n",
    "from transformers import AutoTokenizer\n",
    "from datasets import DatasetDict, Dataset"
   ]
  },
  {
   "cell_type": "code",
   "execution_count": null,
   "metadata": {
    "execution": {
     "iopub.execute_input": "2024-07-06T03:58:02.90384Z",
     "iopub.status.busy": "2024-07-06T03:58:02.903286Z",
     "iopub.status.idle": "2024-07-06T03:58:02.909301Z",
     "shell.execute_reply": "2024-07-06T03:58:02.908303Z",
     "shell.execute_reply.started": "2024-07-06T03:58:02.903812Z"
    }
   },
   "outputs": [],
   "source": [
    "class CFG:\n",
    "    VER = 1\n",
    "    NUM_LABELS = 3\n",
    "    BATCH_SIZE = 4\n",
    "    EPOCHS = 1\n",
    "    \n",
    "    MODEL_NAME = '/kaggle/input/llama-3/transformers/8b-chat-hf/1'\n",
    "\n",
    "    \n",
    "    SEED = 2024 \n",
    "    MAX_LENGTH = 1024 \n",
    "    \n",
    "    OUTPUT_DIR = 'Llama 3 8b fine-tuned model'"
   ]
  },
  {
   "cell_type": "markdown",
   "id": "f5c04424",
   "metadata": {},
   "source": [
    "# データセットの準備\n"
   ]
  },
  {
   "cell_type": "code",
   "execution_count": null,
   "metadata": {
    "execution": {
     "iopub.execute_input": "2024-07-06T03:58:02.912449Z",
     "iopub.status.busy": "2024-07-06T03:58:02.912076Z",
     "iopub.status.idle": "2024-07-06T03:58:06.89136Z",
     "shell.execute_reply": "2024-07-06T03:58:06.890385Z",
     "shell.execute_reply.started": "2024-07-06T03:58:02.912415Z"
    }
   },
   "outputs": [],
   "source": [
    "train = pd.read_csv('/kaggle/input/lmsys-chatbot-arena/train.csv')\n",
    "train = train[:int(len(train)*0.01)]\n",
    "\n",
    "# 入力文字列を処理する関数\n",
    "def process(input_str):\n",
    "    stripped_str = input_str.strip('[]')  # 角括弧を取り除く\n",
    "    sentences = [s.strip('\"') for s in stripped_str.split('\",\"')]  # 文を取り出し、前後の空白を取り除く\n",
    "    return  ' '.join(sentences)  # 文を結合して返す\n",
    "\n",
    "# プロンプトと応答を処理\n",
    "train.loc[:, 'prompt'] = train['prompt'].apply(process)\n",
    "train.loc[:, 'response_a'] = train['response_a'].apply(process)\n",
    "train.loc[:, 'response_b'] = train['response_b'].apply(process)\n",
    "\n",
    "# 'Null'の応答を削除して訓練データを整形\n",
    "indexes = train[(train.response_a == 'null') & (train.response_b == 'null')].index\n",
    "train.drop(indexes, inplace=True)  # 'null'行を削除\n",
    "train.reset_index(inplace=True, drop=True)  # インデックスをリセット\n",
    "train.loc[:, 'label'] = np.argmax(train[['winner_model_a','winner_model_b','winner_tie']].values, axis=1)  # ラベルを設定\n",
    "\n",
    "print(f\"Total {len(indexes)} Null response rows dropped\")  # 削除された行数を表示\n",
    "print('Total train samples: ', len(train))  # 残りのサンプル数を表示\n",
    "\n",
    "# 入力と応答をテキスト形式に変換\n",
    "train['text'] = 'ユーザープロンプト: ' + train['prompt'] +  '\\n\\nモデルA :\\n' + train['response_a'] +'\\n\\n--------\\n\\nモデルB:\\n'  + train['response_b']\n",
    "print(train['text'][4])  # 5番目のテキストを表示"
   ]
  },
  {
   "cell_type": "code",
   "execution_count": null,
   "metadata": {},
   "outputs": [],
   "source": [
    "from sklearn.model_selection import train_test_split\n",
    "\n",
    "train_df, val_df = train_test_split(train, test_size=0.2, random_state=42)  # データを訓練データと検証データに分割\n",
    "\n",
    "dataset_train = Dataset.from_pandas(train_df)  # 訓練データセットの作成\n",
    "dataset_val = Dataset.from_pandas(val_df)  # 検証データセットの作成\n",
    "\n",
    "# データセットを1つのDatasetDictに結合\n",
    "dataset = DatasetDict({\n",
    "    'train': dataset_train,\n",
    "    'val': dataset_val,\n",
    "})"
   ]
  },
  {
   "cell_type": "markdown",
   "id": "599d06d1",
   "metadata": {},
   "source": [
    "# モデルの読み込み - 量子化\n"
   ]
  },
  {
   "cell_type": "code",
   "execution_count": null,
   "metadata": {
    "execution": {
     "iopub.execute_input": "2024-07-06T03:58:06.893045Z",
     "iopub.status.busy": "2024-07-06T03:58:06.892645Z",
     "iopub.status.idle": "2024-07-06T03:59:46.472597Z",
     "shell.execute_reply": "2024-07-06T03:59:46.471825Z",
     "shell.execute_reply.started": "2024-07-06T03:58:06.893005Z"
    }
   },
   "outputs": [],
   "source": [
    "quantization_config = BitsAndBytesConfig(\n",
    "    load_in_4bit = True,  # 4ビットでモデルを読み込む設定\n",
    "    bnb_4bit_quant_type = 'nf4',  # 量子化のタイプ\n",
    "    bnb_4bit_use_double_quant = True,  # ダブル量子化を使用するか\n",
    "    bnb_4bit_compute_dtype = torch.bfloat16  # 計算のデータ型\n",
    ")\n",
    "\n",
    "# 事前トレーニング済みモデルを読み込み\n",
    "model = AutoModelForSequenceClassification.from_pretrained(\n",
    "    CFG.MODEL_NAME,  # モデル名\n",
    "    quantization_config=quantization_config,  # 量子化設定を適用\n",
    "    num_labels=CFG.NUM_LABELS,  # ラベルの数\n",
    "    device_map='auto'  # 自動でデバイスを設定\n",
    ")"
   ]
  },
  {
   "cell_type": "markdown",
   "id": "651e11b6",
   "metadata": {},
   "source": [
    "# LoRAの設定\n"
   ]
  },
  {
   "cell_type": "code",
   "execution_count": null,
   "metadata": {
    "execution": {
     "iopub.execute_input": "2024-07-06T03:59:46.474051Z",
     "iopub.status.busy": "2024-07-06T03:59:46.473761Z",
     "iopub.status.idle": "2024-07-06T03:59:46.630998Z",
     "shell.execute_reply": "2024-07-06T03:59:46.630117Z",
     "shell.execute_reply.started": "2024-07-06T03:59:46.474026Z"
    }
   },
   "outputs": [],
   "source": [
    "lora_config = LoraConfig(\n",
    "    r = 16,  # LoRAのrパラメータ\n",
    "    lora_alpha = 8,  # 構成パラメータ\n",
    "    target_modules = ['q_proj', 'k_proj', 'v_proj', 'o_proj'],  # ターゲットモジュールの指定\n",
    "    lora_dropout = 0.05,  # ドロップアウト率\n",
    "    bias = 'none',  # バイアス設定\n",
    "    task_type = 'SEQ_CLS'  # タスクのタイプ\n",
    ")\n",
    "\n",
    "# モデルのkビットトレーニング用の準備\n",
    "model = prepare_model_for_kbit_training(model)\n",
    "model = get_peft_model(model, lora_config)  # LoRAモデルを取得"
   ]
  },
  {
   "cell_type": "code",
   "execution_count": null,
   "metadata": {
    "execution": {
     "iopub.execute_input": "2024-07-06T03:59:46.634472Z",
     "iopub.status.busy": "2024-07-06T03:59:46.634119Z",
     "iopub.status.idle": "2024-07-06T03:59:47.150667Z",
     "shell.execute_reply": "2024-07-06T03:59:47.149724Z",
     "shell.execute_reply.started": "2024-07-06T03:59:46.634439Z"
    }
   },
   "outputs": [],
   "source": [
    "tokenizer = AutoTokenizer.from_pretrained(CFG.MODEL_NAME, add_prefix_space=True)  # トークナイザーを読み込み\n",
    "\n",
    "# パディングトークンの設定\n",
    "tokenizer.pad_token_id = tokenizer.eos_token_id  # パディングトークンIDを設定\n",
    "tokenizer.pad_token = tokenizer.eos_token  # パディングトークンを設定\n",
    "tokenizer.padding_side = 'right'  # パディング側を右に設定\n",
    "tokenizer.add_eos_token = True  # EOSトークンを追加"
   ]
  },
  {
   "cell_type": "code",
   "execution_count": null,
   "metadata": {
    "execution": {
     "iopub.execute_input": "2024-07-06T03:59:47.152169Z",
     "iopub.status.busy": "2024-07-06T03:59:47.151868Z",
     "iopub.status.idle": "2024-07-06T03:59:47.156728Z",
     "shell.execute_reply": "2024-07-06T03:59:47.155858Z",
     "shell.execute_reply.started": "2024-07-06T03:59:47.152126Z"
    }
   },
   "outputs": [],
   "source": [
    "model.config.pad_token_id = tokenizer.pad_token_id  # モデルにパディングトークンIDを設定\n",
    "# model.config.use_cache = False  # キャッシュの使用を無効化する設定（コメントアウト）\n",
    "model.config.pretraining_tp = 1  # プリトレーニングのタイポロジを設定"
   ]
  },
  {
   "cell_type": "code",
   "execution_count": null,
   "metadata": {
    "execution": {
     "iopub.execute_input": "2024-07-06T03:59:47.158355Z",
     "iopub.status.busy": "2024-07-06T03:59:47.157945Z",
     "iopub.status.idle": "2024-07-06T04:00:20.951584Z",
     "shell.execute_reply": "2024-07-06T04:00:20.950741Z",
     "shell.execute_reply.started": "2024-07-06T03:59:47.158325Z"
    }
   },
   "outputs": [],
   "source": [
    "# データの前処理を行う関数\n",
    "def data_preprocesing(row):\n",
    "    return tokenizer(row['text'], padding='max_length', truncation=True, max_length=CFG.MAX_LENGTH, return_tensors='np')  # テキストをトークナイズ\n",
    "\n",
    "# トークナイズされたデータを生成\n",
    "tokenized_data = dataset.map(data_preprocesing, batched=True, remove_columns=['text'])  # データセットにマッピング\n",
    "tokenized_data.set_format(\"torch\")  # PyTorch形式に設定"
   ]
  },
  {
   "cell_type": "markdown",
   "id": "3ce0a8ee",
   "metadata": {},
   "source": [
    "# Llama 3のファインチューニング: モデルのトレーニング\n"
   ]
  },
  {
   "cell_type": "code",
   "execution_count": null,
   "metadata": {
    "execution": {
     "iopub.execute_input": "2024-07-06T04:00:20.973247Z",
     "iopub.status.busy": "2024-07-06T04:00:20.972973Z",
     "iopub.status.idle": "2024-07-06T04:00:20.984616Z",
     "shell.execute_reply": "2024-07-06T04:00:20.983756Z",
     "shell.execute_reply.started": "2024-07-06T04:00:20.973224Z"
    }
   },
   "outputs": [],
   "source": [
    "training_args = TrainingArguments(\n",
    "    per_device_train_batch_size=CFG.BATCH_SIZE,  # デバイスごとの訓練バッチサイズ\n",
    "    num_train_epochs=CFG.EPOCHS,  # 訓練エポック数\n",
    "    logging_dir = f'./logs_v{CFG.VER}',  # ロギングディレクトリ\n",
    "    output_dir = f'./output_v{CFG.VER}',  # 出力ディレクトリ\n",
    "    logging_steps=10,  # ロギングのステップ数\n",
    "    save_steps=10,  # モデルの保存のステップ数\n",
    "    logging_first_step=True,  # 最初のステップのロギングを有効にする\n",
    "    overwrite_output_dir=True,  # 出力ディレクトリの上書きを許可\n",
    "    warmup_ratio=0.0,  # ウォームアップ比率\n",
    "    learning_rate=5e-5,  # 学習率\n",
    "    lr_scheduler_type='constant',  # 学習率スケジューラのタイプ\n",
    "    weight_decay=0.01,  # 重みの減衰\n",
    "    eval_steps=10,  # 評価のステップ数\n",
    "    evaluation_strategy='steps',  # 評価戦略\n",
    "    save_total_limit=2,  # 保存するトータル数の制限\n",
    "    report_to='none',  # ロギングの報告先をなしに設定\n",
    "    load_best_model_at_end = True  # 最後に最良モデルを読み込む\n",
    ")"
   ]
  },
  {
   "cell_type": "code",
   "execution_count": null,
   "metadata": {
    "execution": {
     "iopub.execute_input": "2024-07-06T04:00:20.986076Z",
     "iopub.status.busy": "2024-07-06T04:00:20.985722Z",
     "iopub.status.idle": "2024-07-06T04:00:21.028074Z",
     "shell.execute_reply": "2024-07-06T04:00:21.027256Z",
     "shell.execute_reply.started": "2024-07-06T04:00:20.986044Z"
    }
   },
   "outputs": [],
   "source": [
    "trainer = Trainer(\n",
    "    model=model,  # 学習させるモデル\n",
    "    args=training_args,  # 訓練の引数\n",
    "    train_dataset=tokenized_data['train'],  # 訓練データセット\n",
    "    eval_dataset=tokenized_data['val'],  # 評価データセット\n",
    "    callbacks=[EarlyStoppingCallback(early_stopping_patience=10)]  # 早期終了のコールバック\n",
    ")\n",
    "\n",
    "train_result = trainer.train()  # モデルの学習を開始"
   ]
  }
 ],
 "metadata": {
  "kaggle": {
   "accelerator": "nvidiaTeslaT4",
   "dataSources": [
    {
     "databundleVersionId": 8346466,
     "sourceId": 66631,
     "sourceType": "competition"
    },
    {
     "isSourceIdPinned": true,
     "modelInstanceId": 28083,
     "sourceId": 33551,
     "sourceType": "modelInstanceVersion"
    }
   ],
   "dockerImageVersionId": 30733,
   "isGpuEnabled": true,
   "isInternetEnabled": true,
   "language": "python",
   "sourceType": "notebook"
  },
  "kernelspec": {
   "display_name": "Python 3",
   "language": "python",
   "name": "python3"
  },
  "language_info": {
   "codemirror_mode": {
    "name": "ipython",
    "version": 3
   },
   "file_extension": ".py",
   "mimetype": "text/x-python",
   "name": "python",
   "nbconvert_exporter": "python",
   "pygments_lexer": "ipython3",
   "version": "3.10.13"
  }
 },
 "nbformat": 4,
 "nbformat_minor": 4
}
