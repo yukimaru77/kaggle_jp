{
 "cells": [
  {
   "cell_type": "markdown",
   "id": "4d213ba8",
   "metadata": {},
   "source": [
    "# 要約 \n",
    "このJupyter Notebookは、LMSYS - Chatbot Arenaコンペティションにおける人間の好み予測に関連する問題に取り組んでいます。具体的には、ユーザーが2つのチャットボットからの応答のどちらを好むかを予測するための機械学習モデルを構築しています。このプロジェクトでは、以下の手法やライブラリが使用されています。\n",
    "\n",
    "1. **主要なライブラリ**:\n",
    "   - **Transformers**: 事前学習済みのGemmaモデルを使用するために必要です。また、トークナイザーやトレーニングの設定を行うための機能も提供します。\n",
    "   - **Datasets**: データセットの操作を行います。\n",
    "   - **PEFT**: パラメータ効率的なファインチューニングを行うためにLoRA（低ランクアダプター）を設定します。\n",
    "   - **Scikit-learn**: モデルの評価に使用されるメトリクスを計算するために利用されます。\n",
    "\n",
    "2. **問題解決のアプローチ**:\n",
    "   - ノートブックはまず、Gemmaモデルのインストールと必要なライブラリのインポートから始まります。そして、トレーニングや評価に必要な設定を一元管理するためのデータクラス`Config`を定義します。\n",
    "   - LoRAの設定が行われ、特定のモデルモジュールへの適用が定義されています。これにより、トレーニングの効率を高めることが可能になります。\n",
    "   - カスタムトークナイザーを用いて、データセットからの入力を適切に処理し、ユーザーの好みに基づいたラベルを生成します。\n",
    "   - モデルのトレーニングは、データセットを5つの分割にして、交差検証を通じて行われます。この過程で、評価メトリクスとしてロス（log-loss）や精度（accuracy）を計算し、モデルの性能を評価します。\n",
    "\n",
    "全体として、このノートブックは、深層学習を用いてチャットボットの応答に対するユーザーの好みを予測するためのフレームワークを構築することを目的としており、GemmaモデルのLoRAによるファインチューニング技術を活用しています。\n",
    "\n",
    "---\n"
   ]
  },
  {
   "cell_type": "markdown",
   "id": "906d48f7",
   "metadata": {},
   "source": [
    "# 用語概説 \n",
    "以下は、与えられたJupyter Notebookに登場する専門用語の簡単な解説です。初心者の方がつまずく可能性がある比較的マイナーな用語や、このノートブック特有の知識に焦点を当てています。\n",
    "\n",
    "1. **gemma-2**: 大規模言語モデルの一つで、特にシーケンス分類タスク向けに設計されています。ハイパフォーマンスのための特別なアーキテクチャが組み込まれています。\n",
    "\n",
    "2. **BitsAndBytesConfig**: メモリ効率を考慮した設定で、特に量子化技術を用いて、モデルのサイズを小さく保ちながらパフォーマンスを向上させるための設定です。\n",
    "\n",
    "3. **Gradients Accumulation**: バッチサイズを実質的に増やすために、小さいバッチで計算した勾配を複数回蓄積し、指定したステップ数後にモデルの重みを更新する技術です。\n",
    "\n",
    "4. **LoraConfig**: LoRA（Low-Rank Adaptation）に基づく設定構造で、効率的なファインチューニングを行うための様々なパラメータを含んでいます。LoRAは、モデルの特定機能を効率的に調整するために低ランクのパラメータを用います。\n",
    "\n",
    "5. **self-attention**: ニューラルネットワークの一種において、入力の異なる部分がどのように相互作用するかを学習する仕組みです。特に、トランスフォーマーモデルで重要な役割を果たします。\n",
    "\n",
    "6. **Data Collator**: データをバッチ単位に整形するためのツールで、パディングやフォーマットを統一するために用います。これにより、異なる長さのシーケンスでも一貫性感を持たせることができます。\n",
    "\n",
    "7. **TaskType**: タスクの種類を定義する列挙型で、ここではシーケンス分類(`SEQ_CLS`)を指定しています。モデルがどのようなタスクを実行するかを明示的に設定します。\n",
    "\n",
    "8. **Softmax**: 出力ベクトルを確率分布に変換するための関数で、主に多クラス分類問題に使用されます。各クラスに対するスコアを確率として解釈します。\n",
    "\n",
    "9. **log loss**: バイナリまたは多クラス分類タスクで用いられる損失関数の一つで、予測確率と実際のラベルとの不一致を測定します。モデルの性能を評価するのに使われる指標です。\n",
    "\n",
    "これらの用語を理解することで、Jupyter Notebook内のコードやコメントの意味がより明確になるでしょう。\n",
    "\n",
    "---\n"
   ]
  },
  {
   "cell_type": "code",
   "execution_count": null,
   "metadata": {
    "_kg_hide-output": true,
    "execution": {
     "iopub.execute_input": "2024-07-18T07:11:31.007153Z",
     "iopub.status.busy": "2024-07-18T07:11:31.006581Z"
    },
    "scrolled": true
   },
   "outputs": [],
   "source": [
    "# gemma-2は transformers>=4.42.3 から利用可能です\n",
    "!pip install -U \"transformers>=4.42.3\" bitsandbytes accelerate peft"
   ]
  },
  {
   "cell_type": "code",
   "execution_count": null,
   "metadata": {
    "_cell_guid": "b1076dfc-b9ad-4769-8c92-a6c4dae69d19",
    "_uuid": "8f2839f25d086af736a60e9eeb907d3b93b6e0e5"
   },
   "outputs": [],
   "source": [
    "import os\n",
    "import copy\n",
    "from dataclasses import dataclass\n",
    "\n",
    "import numpy as np\n",
    "import torch\n",
    "from datasets import Dataset\n",
    "from transformers import (\n",
    "    BitsAndBytesConfig,\n",
    "    Gemma2ForSequenceClassification,\n",
    "    GemmaTokenizerFast,\n",
    "    Gemma2Config,\n",
    "    PreTrainedTokenizerBase, \n",
    "    EvalPrediction,\n",
    "    Trainer,\n",
    "    TrainingArguments,\n",
    "    DataCollatorWithPadding,\n",
    ")\n",
    "from peft import LoraConfig, get_peft_model, prepare_model_for_kbit_training, TaskType\n",
    "from sklearn.metrics import log_loss, accuracy_score\n",
    "\n",
    "# 必要なライブラリをインポートします。\n",
    "# os, copy: ファイル操作やオブジェクトのコピーに使用されます。\n",
    "# dataclass: データクラスを作成するために使います。\n",
    "# numpy: 数値演算用のライブラリです。\n",
    "# torch: PyTorchライブラリで、深層学習モデルの構築に使用します。\n",
    "# datasets: データセットの操作に使用します。\n",
    "# transformers: 事前学習済みの変換器モデルを扱うための機能群です。\n",
    "# peft: パラメータ効率的ファインチューニングに関連する機能を提供します。\n",
    "# sklearn.metrics: メトリクスの計算に利用します。"
   ]
  },
  {
   "cell_type": "markdown",
   "id": "6a52376a",
   "metadata": {},
   "source": [
    "### 設定\n"
   ]
  },
  {
   "cell_type": "code",
   "execution_count": null,
   "metadata": {},
   "outputs": [],
   "source": [
    "@dataclass\n",
    "class Config:\n",
    "    output_dir: str = \"output\"\n",
    "    checkpoint: str = \"/kaggle/input/checkpoint-5200/checkpoint-5200\"  # 4ビット量子化されたgemma-2-9b-instruct\n",
    "    max_length: int = 1024\n",
    "    n_splits: int = 5\n",
    "    fold_idx: int = 0\n",
    "    optim_type: str = \"adamw_8bit\"\n",
    "    per_device_train_batch_size: int = 2\n",
    "    gradient_accumulation_steps: int = 2  # グローバルバッチサイズは8です\n",
    "    per_device_eval_batch_size: int = 8\n",
    "    n_epochs: int = 1\n",
    "    freeze_layers: int = 16  # 合計42層のうち、最初の16層にはアダプターを追加しません\n",
    "    lr: float = 2e-4\n",
    "    warmup_steps: int = 20\n",
    "    lora_r: int = 16\n",
    "    lora_alpha: float = lora_r * 2\n",
    "    lora_dropout: float = 0.05\n",
    "    lora_bias: str = \"none\"\n",
    "    \n",
    "config = Config()\n",
    "\n",
    "# 設定用のデータクラスConfigを定義します。\n",
    "# 各属性にデフォルト値を設定し、モデルのトレーニングや評価に使用します。"
   ]
  },
  {
   "cell_type": "markdown",
   "id": "3f4d9a67",
   "metadata": {},
   "source": [
    "#### トレーニング引数\n"
   ]
  },
  {
   "cell_type": "code",
   "execution_count": null,
   "metadata": {},
   "outputs": [],
   "source": [
    "training_args = TrainingArguments(\n",
    "    output_dir=\"output\",\n",
    "    overwrite_output_dir=True,\n",
    "    report_to=\"none\",\n",
    "    num_train_epochs=config.n_epochs,\n",
    "    per_device_train_batch_size=config.per_device_train_batch_size,\n",
    "    gradient_accumulation_steps=config.gradient_accumulation_steps,\n",
    "    per_device_eval_batch_size=config.per_device_eval_batch_size,\n",
    "    logging_steps=10,\n",
    "    eval_strategy=\"epoch\",\n",
    "    save_strategy=\"steps\",\n",
    "    save_steps=200,\n",
    "    optim=config.optim_type,\n",
    "    fp16=True,\n",
    "    learning_rate=config.lr,\n",
    "    warmup_steps=config.warmup_steps,\n",
    ")\n",
    "\n",
    "# トレーニング時の引数を設定するTrainingArgumentsを作成します。\n",
    "# 各パラメータはモデルのトレーニングにどのように影響を与えるかを指定します。"
   ]
  },
  {
   "cell_type": "markdown",
   "id": "62e6795d",
   "metadata": {},
   "source": [
    "#### LoRA設定\n"
   ]
  },
  {
   "cell_type": "code",
   "execution_count": null,
   "metadata": {},
   "outputs": [],
   "source": [
    "lora_config = LoraConfig(\n",
    "    r=config.lora_r,\n",
    "    lora_alpha=config.lora_alpha,\n",
    "    # 自己注意のみにターゲットを絞る\n",
    "    target_modules=[\"q_proj\", \"k_proj\", \"v_proj\"],\n",
    "    layers_to_transform=[i for i in range(42) if i >= config.freeze_layers],\n",
    "    lora_dropout=config.lora_dropout,\n",
    "    bias=config.lora_bias,\n",
    "    task_type=TaskType.SEQ_CLS,\n",
    ")\n",
    "\n",
    "# LoRA(低ランクアダプター)の設定を定義します。\n",
    "# モデルの特定のモジュールに適用し、トレーニングの効率を高めます。"
   ]
  },
  {
   "cell_type": "markdown",
   "id": "56b7bbb3",
   "metadata": {},
   "source": [
    "### トークナイザーとモデルのインスタンス化\n"
   ]
  },
  {
   "cell_type": "code",
   "execution_count": null,
   "metadata": {},
   "outputs": [],
   "source": [
    "tokenizer = GemmaTokenizerFast.from_pretrained(config.checkpoint)\n",
    "tokenizer.add_eos_token = True  # 終端記号<eos>を追加します\n",
    "tokenizer.padding_side = \"right\"\n",
    "\n",
    "# Gemmaトークナイザーを事前学習済みのチェックポイントからロードし、\n",
    "# 必要な設定を行います。"
   ]
  },
  {
   "cell_type": "code",
   "execution_count": null,
   "metadata": {
    "scrolled": true
   },
   "outputs": [],
   "source": [
    "model = Gemma2ForSequenceClassification.from_pretrained(\n",
    "    config.checkpoint,\n",
    "    num_labels=3,\n",
    "    torch_dtype=torch.float16,\n",
    "    device_map=\"auto\",\n",
    ")\n",
    "model.config.use_cache = False\n",
    "model = prepare_model_for_kbit_training(model)\n",
    "model = get_peft_model(model, lora_config)\n",
    "model\n",
    "\n",
    "# モデルを事前学習済みのチェックポイントからロードし、\n",
    "# シーケンス分類用に構成し、LoRAによるファインチューニングの準備をします。"
   ]
  },
  {
   "cell_type": "code",
   "execution_count": null,
   "metadata": {
    "scrolled": true
   },
   "outputs": [],
   "source": [
    "model.print_trainable_parameters()"
   ]
  },
  {
   "cell_type": "markdown",
   "id": "bb08f406",
   "metadata": {},
   "source": [
    "### データセットのインスタンス化\n"
   ]
  },
  {
   "cell_type": "code",
   "execution_count": null,
   "metadata": {},
   "outputs": [],
   "source": [
    "ds = Dataset.from_csv(\"/kaggle/input/lmsys-chatbot-arena/train.csv\")\n",
    "#ds = ds.select(torch.arange(100))  # デモ目的で最初の100件のみ使用します"
   ]
  },
  {
   "cell_type": "code",
   "execution_count": null,
   "metadata": {},
   "outputs": [],
   "source": [
    "ds"
   ]
  },
  {
   "cell_type": "code",
   "execution_count": null,
   "metadata": {},
   "outputs": [],
   "source": [
    "class CustomTokenizer:\n",
    "    def __init__(\n",
    "        self, \n",
    "        tokenizer: PreTrainedTokenizerBase, \n",
    "        max_length: int\n",
    "    ) -> None:\n",
    "        self.tokenizer = tokenizer\n",
    "        self.max_length = max_length\n",
    "        \n",
    "    def __call__(self, batch: dict) -> dict:\n",
    "        prompt = [\"<prompt>: \" + self.process_text(t) for t in batch[\"prompt\"]]\n",
    "        response_a = [\"\\n\\n<response_a>: \" + self.process_text(t) for t in batch[\"response_a\"]]\n",
    "        response_b = [\"\\n\\n<response_b>: \" + self.process_text(t) for t in batch[\"response_b\"]]\n",
    "        texts = [p + r_a + r_b for p, r_a, r_b in zip(prompt, response_a, response_b)]\n",
    "        tokenized = self.tokenizer(texts, max_length=self.max_length, truncation=True)\n",
    "        labels=[]\n",
    "        for a_win, b_win in zip(batch[\"winner_model_a\"], batch[\"winner_model_b\"]):\n",
    "            if a_win:\n",
    "                label = 0\n",
    "            elif b_win:\n",
    "                label = 1\n",
    "            else:\n",
    "                label = 2\n",
    "            labels.append(label)\n",
    "        return {**tokenized, \"labels\": labels}\n",
    "        \n",
    "    @staticmethod\n",
    "    def process_text(text: str) -> str:\n",
    "        return \" \".join(eval(text, {\"null\": \"\"}))\n",
    "\n",
    "# カスタムトークナイザーを定義します。\n",
    "# トークナイザーを使って入力データを処理し、ラベルを生成します。"
   ]
  },
  {
   "cell_type": "code",
   "execution_count": null,
   "metadata": {},
   "outputs": [],
   "source": [
    "encode = CustomTokenizer(tokenizer, max_length=config.max_length)\n",
    "ds = ds.map(encode, batched=True)"
   ]
  },
  {
   "cell_type": "markdown",
   "id": "bfe71c22",
   "metadata": {},
   "source": [
    "### メトリクスの計算\n",
    "\n",
    "LBで使用されるロス（log-loss）と補助的メトリクスとしての精度（accuracy）を計算します。\n"
   ]
  },
  {
   "cell_type": "code",
   "execution_count": null,
   "metadata": {},
   "outputs": [],
   "source": [
    "def compute_metrics(eval_preds: EvalPrediction) -> dict:\n",
    "    preds = eval_preds.predictions\n",
    "    labels = eval_preds.label_ids\n",
    "    probs = torch.from_numpy(preds).float().softmax(-1).numpy()\n",
    "    loss = log_loss(y_true=labels, y_pred=probs)\n",
    "    acc = accuracy_score(y_true=labels, y_pred=preds.argmax(-1))\n",
    "    return {\"acc\": acc, \"log_loss\": loss}\n",
    "\n",
    "# 評価予測からメトリクス（精度とロス）を計算します。\n",
    "# softmaxを使って確率を計算し、評価指標を返します。"
   ]
  },
  {
   "cell_type": "markdown",
   "id": "30a9e949",
   "metadata": {},
   "source": [
    "### 分割\n",
    "\n",
    "ここでは、trainとevalを`id % 5`に従って分割します。\n"
   ]
  },
  {
   "cell_type": "code",
   "execution_count": null,
   "metadata": {},
   "outputs": [],
   "source": [
    "folds = [\n",
    "    (\n",
    "        [i for i in range(len(ds)) if i % config.n_splits != fold_idx],\n",
    "        [i for i in range(len(ds)) if i % config.n_splits == fold_idx]\n",
    "    ) \n",
    "    for fold_idx in range(config.n_splits)\n",
    "]\n",
    "\n",
    "# データセットを5分割し、各分割にインデックスを割り当てます。\n",
    "# トレーニング用インデックスと評価用インデックスを生成します。"
   ]
  },
  {
   "cell_type": "code",
   "execution_count": null,
   "metadata": {},
   "outputs": [],
   "source": [
    "train_idx, eval_idx = folds[config.fold_idx]\n",
    "\n",
    "trainer = Trainer(\n",
    "    args=training_args, \n",
    "    model=model,\n",
    "    tokenizer=tokenizer,\n",
    "    train_dataset=ds.select(train_idx),\n",
    "    eval_dataset=ds.select(eval_idx),\n",
    "    compute_metrics=compute_metrics,\n",
    "    data_collator=DataCollatorWithPadding(tokenizer=tokenizer),\n",
    ")\n",
    "trainer.train(resume_from_checkpoint=\"/kaggle/input/checkpoint-5200/checkpoint-5200\")\n",
    "\n",
    "# Trainerをインスタンス化し、トレーニングを行います。\n",
    "# 前回のチェックポイントから再開することも可能です。"
   ]
  }
 ],
 "metadata": {
  "kaggle": {
   "accelerator": "nvidiaTeslaT4",
   "dataSources": [
    {
     "databundleVersionId": 8346466,
     "sourceId": 66631,
     "sourceType": "competition"
    },
    {
     "datasetId": 5406948,
     "sourceId": 8979404,
     "sourceType": "datasetVersion"
    },
    {
     "datasetId": 5412786,
     "sourceId": 8987440,
     "sourceType": "datasetVersion"
    }
   ],
   "dockerImageVersionId": 30733,
   "isGpuEnabled": true,
   "isInternetEnabled": true,
   "language": "python",
   "sourceType": "notebook"
  },
  "kernelspec": {
   "display_name": "Python 3",
   "language": "python",
   "name": "python3"
  },
  "language_info": {
   "codemirror_mode": {
    "name": "ipython",
    "version": 3
   },
   "file_extension": ".py",
   "mimetype": "text/x-python",
   "name": "python",
   "nbconvert_exporter": "python",
   "pygments_lexer": "ipython3",
   "version": "3.10.13"
  }
 },
 "nbformat": 4,
 "nbformat_minor": 4
}
