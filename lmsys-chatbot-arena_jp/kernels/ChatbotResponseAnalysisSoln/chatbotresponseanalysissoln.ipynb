{
 "cells": [
  {
   "cell_type": "markdown",
   "id": "852fcf9c",
   "metadata": {},
   "source": [
    "# 要約 \n",
    "このJupyter Notebookは、Kaggleの「LMSYS - Chatbot Arena 人間による好み予測チャレンジ」において、ユーザーが2つのチャットボットの応答からどちらを好むかを予測する問題に取り組んでいます。具体的には、与えられたプロンプトに対する2つの異なるモデル（モデルAおよびモデルB）の応答を評価し、どのモデルが選好されるか、または引き分けになるかを予測するための機械学習モデルを構築しています。\n",
    "\n",
    "### 主要な手法とライブラリ:\n",
    "1. **ライブラリの使用**:\n",
    "   - **Pandas**: データセットの読み込みや処理に使用。\n",
    "   - **NumPy**: 数値計算をサポート。\n",
    "   - **TensorFlow**: 深層学習モデルの構築とトレーニングに使用。\n",
    "   - **Transformers**: 自然言語処理のためのBERTモデルを利用するライブラリ。\n",
    "\n",
    "2. **データ処理**:\n",
    "   - データセットに含まれるプロンプトと2つの応答から特徴量を抽出し、モデルのトレーニングに必要な形式に変換します。\n",
    "   - 特徴量として、プロンプト、モデルAおよびモデルBの応答、そして勝者を示すラベルを使用します。\n",
    "\n",
    "3. **モデル構築**:\n",
    "   - BERTトークナイザーを用いて、テキストデータをトークン化します。\n",
    "   - BERTモデル自体を使用して、プロンプトおよび応答を埋め込み（embedding）として変換します。\n",
    "   - これらの埋め込みを結合し、その後に全結合層（Dense Layer）を通じて最終的な予測を行うモデルを構築します。\n",
    "\n",
    "4. **トレーニングと評価**:\n",
    "   - トレーニングデータとバリデーションデータに分割し、モデルのトレーニングを実施します。\n",
    "   - 最後に、テストデータに対して予測を行い、その結果をCSVファイルとして出力します。\n",
    "\n",
    "このNotebookは、自然言語処理における先進的な技術（BERTなど）を用いた深層学習の適用例を示しており、ユーザーの嗜好を具体的な数値に落とし込むためのプロセスを包括的に扱っています。最終的な出力は、各応答の勝者モデル（モデルA、モデルB、引き分け）の確率を示したCSVファイル「submission.csv」として保存されます。\n",
    "\n",
    "---\n"
   ]
  },
  {
   "cell_type": "markdown",
   "id": "92a41ef5",
   "metadata": {},
   "source": [
    "# 用語概説 \n",
    "以下に、初心者がつまずきそうな専門用語について簡単な解説を示します。このリストは、ノートブックの内容に特有の用語や、実務経験がないと馴染みが薄い可能性のあるものに焦点を当てています。\n",
    "\n",
    "1. **TPU（Tensor Processing Unit）**:\n",
    "   - Googleによって開発された専用のハードウェアアクセラレーターで、ディープラーニングモデルのトレーニングや推論を高速化するために使用されます。GPUよりも特定のタスクに特化しているため、高い性能が期待できます。\n",
    "\n",
    "2. **トークナイザー（Tokenizer）**:\n",
    "   - テキストをモデルに入力するための形式（トークン）に変換するツールです。トークナイザーは、単語や文字を特定の式にマッピングし、モデルが処理できるようにします。例えば、BERTの場合は、語彙に基づいてテキストをトークンに分割します。\n",
    "\n",
    "3. **アテンションマスク（Attention Mask）**:\n",
    "   - モデルがどのトークンに注目するかを制御するためのマスクです。特にパディングトークン（無意味なトークン）を無視するために使われ、効率的にトレーニングや推論を行うための重要な要素です。\n",
    "\n",
    "4. **埋め込み（Embedding）**:\n",
    "   - 単語や文のような離散的な情報を連続的なベクトルに変換する技術です。これにより、機械学習モデルは言語の意味的な関係をより良く理解することができます。BERTモデルで得られる埋め込みは、文脈に応じた特徴量を持ちます。\n",
    "\n",
    "5. **CLSトークン（[CLS] token）**:\n",
    "   - BERTモデルで特別に使用されるトークンで、文全体の情報を要約するために使用されます。BERTの出力の最初の部分に位置し、このトークンの埋め込みを使って分類タスクの結果を予測することが一般的です。\n",
    "\n",
    "6. **ドロップアウト（Dropout）**:\n",
    "   - モデルの過学習を防ぐための手法で、トレーニング中に一定の確率で神経元（ユニット）を無効にすることにより、モデルの汎化性能を向上させる技術です。ドロップアウト率は、無効にするユニットの割合を示します。\n",
    "\n",
    "7. **カテゴリカルラベル（Categorical Label）**:\n",
    "   - 複数のクラスに分類される出力に対して、その各クラスを1-hotエンコーディングの形式で表現したものです。この形式により、モデルがクラス間の関係を学習しやすくなります。\n",
    "\n",
    "8. **ステートフル（Stateful）**:\n",
    "   - モデルがトレーニング中に過去の状態を保持する特性を意味します。これにより、長いシーケンスデータの処理が可能になり、特にリカレントニューラルネットワーク（RNN）に関連しています。\n",
    "\n",
    "9. **バッチ（Batch）**:\n",
    "   - モデルが一度に処理するデータのサブセットを指します。大規模データセットのトレーニングでは、全データを一度に処理するのではなく、バッチ単位で処理することでメモリを効率的に使用し、モデルのパラメータを更新します。\n",
    "\n",
    "10. **エポック（Epoch）**:\n",
    "    - トレーニングプロセスにおいて、全トレーニングデータセットを1回通すことを指します。複数エポックでトレーニングすることにより、モデルのパラメータが更新され、性能が向上することが期待されます。\n",
    "\n",
    "これらの用語は、ノートブック内で広く使用されているため、理解しておくとタスクの実行やデバッグに役立つでしょう。\n",
    "\n",
    "---\n"
   ]
  },
  {
   "cell_type": "code",
   "execution_count": null,
   "metadata": {
    "_cell_guid": "b1076dfc-b9ad-4769-8c92-a6c4dae69d19",
    "_uuid": "8f2839f25d086af736a60e9eeb907d3b93b6e0e5",
    "execution": {
     "iopub.execute_input": "2024-07-18T15:36:00.627567Z",
     "iopub.status.busy": "2024-07-18T15:36:00.626869Z",
     "iopub.status.idle": "2024-07-18T15:36:01.029683Z",
     "shell.execute_reply": "2024-07-18T15:36:01.028708Z",
     "shell.execute_reply.started": "2024-07-18T15:36:00.627534Z"
    }
   },
   "outputs": [],
   "source": [
    "# このPython 3環境には、多くの便利な解析ライブラリがインストールされています\n",
    "# これはkaggle/pythonのDockerイメージによって定義されています: https://github.com/kaggle/docker-python\n",
    "# 例として、いくつかの便利なパッケージを読み込むことができます\n",
    "\n",
    "import numpy as np # 線形代数のためのライブラリ\n",
    "import pandas as pd # データ処理のためのライブラリ、CSVファイルの入出力 (例: pd.read_csv)\n",
    "\n",
    "# 入力データファイルは、読み取り専用の\"../input/\"ディレクトリにあります\n",
    "# 例えば、これを実行すると (クリックして実行したりShift+Enterを押すことで) 入力ディレクトリ内のすべてのファイルをリストします\n",
    "\n",
    "import os\n",
    "for dirname, _, filenames in os.walk('/kaggle/input'):\n",
    "    for filename in filenames:\n",
    "        print(os.path.join(dirname, filename)) # 各ファイルのパスを表示します\n",
    "\n",
    "# 現在のディレクトリ (/kaggle/working/) に最大20GBまで書き込むことができます\n",
    "# このディレクトリは「Save & Run All」を使用してバージョンを作成した際に出力として保存されます\n",
    "# 一時ファイルは/kaggle/temp/に書き込むこともできますが、現在のセッションの外では保存されません"
   ]
  },
  {
   "cell_type": "code",
   "execution_count": null,
   "metadata": {
    "execution": {
     "iopub.execute_input": "2024-07-18T15:36:04.538447Z",
     "iopub.status.busy": "2024-07-18T15:36:04.537978Z",
     "iopub.status.idle": "2024-07-18T15:36:07.960915Z",
     "shell.execute_reply": "2024-07-18T15:36:07.960028Z",
     "shell.execute_reply.started": "2024-07-18T15:36:04.538415Z"
    }
   },
   "outputs": [],
   "source": [
    "train=pd.read_csv('/kaggle/input/lmsys-chatbot-arena/train.csv') # トレーニングデータをCSVファイルから読み込みます\n",
    "test=pd.read_csv('/kaggle/input/lmsys-chatbot-arena/test.csv') # テストデータをCSVファイルから読み込みます"
   ]
  },
  {
   "cell_type": "code",
   "execution_count": null,
   "metadata": {
    "execution": {
     "iopub.execute_input": "2024-07-18T15:36:22.341626Z",
     "iopub.status.busy": "2024-07-18T15:36:22.341255Z",
     "iopub.status.idle": "2024-07-18T15:36:25.864079Z",
     "shell.execute_reply": "2024-07-18T15:36:25.86332Z",
     "shell.execute_reply.started": "2024-07-18T15:36:22.341593Z"
    }
   },
   "outputs": [],
   "source": [
    "import tensorflow as tf # TensorFlowライブラリをインポートします\n",
    "# TPUを検出して初期化します\n",
    "# TPU（Tensor Processing Unit）は、特にディープラーニングのトレーニングと推論に最適化されたハードウェアアクセラレーターです"
   ]
  },
  {
   "cell_type": "markdown",
   "id": "dda527f5",
   "metadata": {},
   "source": [
    "## ライブラリのインポート"
   ]
  },
  {
   "cell_type": "code",
   "execution_count": null,
   "metadata": {
    "execution": {
     "iopub.execute_input": "2024-07-18T15:36:32.53128Z",
     "iopub.status.busy": "2024-07-18T15:36:32.529963Z",
     "iopub.status.idle": "2024-07-18T15:36:35.3523Z",
     "shell.execute_reply": "2024-07-18T15:36:35.3513Z",
     "shell.execute_reply.started": "2024-07-18T15:36:32.531231Z"
    }
   },
   "outputs": [],
   "source": [
    "import pandas as pd # データ処理のためのライブラリをインポートします\n",
    "import tensorflow as tf # TensorFlowライブラリをインポートします\n",
    "import numpy as np # 数値計算のためのライブラリをインポートします\n",
    "import transformers # Transformersライブラリをインポートします。自然言語処理で使われるモデルのためのライブラリです\n",
    "from sklearn.model_selection import train_test_split # データをトレーニングセットとテストセットに分割するための関数をインポートします\n",
    "from transformers import BertTokenizer # BERTモデル用のトークナイザーをインポートします。テキストをトークンに変換する役割があります"
   ]
  },
  {
   "cell_type": "code",
   "execution_count": null,
   "metadata": {
    "execution": {
     "iopub.execute_input": "2024-07-18T15:37:46.271364Z",
     "iopub.status.busy": "2024-07-18T15:37:46.270334Z",
     "iopub.status.idle": "2024-07-18T15:37:46.347287Z",
     "shell.execute_reply": "2024-07-18T15:37:46.346335Z",
     "shell.execute_reply.started": "2024-07-18T15:37:46.271324Z"
    }
   },
   "outputs": [],
   "source": [
    "tokenizer = BertTokenizer.from_pretrained('/kaggle/input/bert-base-uncased') # 事前学習済みのBERTトークナイザーを指定されたパスからロードします\n",
    "# このトークナイザーは、テキストをBERTモデルの入力形式に変換するために使用されます\n",
    "# 'bert-base-uncased'は小文字のみのBERTモデルで、事前学習済みの重みを含んでいます"
   ]
  },
  {
   "cell_type": "code",
   "execution_count": null,
   "metadata": {
    "execution": {
     "iopub.execute_input": "2024-07-18T15:37:49.191476Z",
     "iopub.status.busy": "2024-07-18T15:37:49.1906Z",
     "iopub.status.idle": "2024-07-18T15:37:54.176855Z",
     "shell.execute_reply": "2024-07-18T15:37:54.17583Z",
     "shell.execute_reply.started": "2024-07-18T15:37:49.191438Z"
    }
   },
   "outputs": [],
   "source": [
    "from transformers import TFBertModel # TensorFlow用のBERTモデルをインポートします\n",
    "\n",
    "# BERTモデルをロードします\n",
    "bert_model = TFBertModel.from_pretrained('/kaggle/input/bert-base-uncased') # 指定されたパスから事前学習済みのBERTモデルをロードします\n",
    "# このモデルは、自然言語処理タスクにおいて特徴量抽出や埋め込みを生成するために使用されます"
   ]
  },
  {
   "cell_type": "code",
   "execution_count": null,
   "metadata": {
    "execution": {
     "iopub.execute_input": "2024-07-18T15:37:57.836924Z",
     "iopub.status.busy": "2024-07-18T15:37:57.83605Z",
     "iopub.status.idle": "2024-07-18T15:38:11.664979Z",
     "shell.execute_reply": "2024-07-18T15:38:11.664148Z",
     "shell.execute_reply.started": "2024-07-18T15:37:57.83689Z"
    }
   },
   "outputs": [],
   "source": [
    "for i in train.index: # トレーニングデータのすべてのインデックスに対してループします\n",
    "    if train.loc[i,'winner_model_a'] == 1: # モデルAが勝者である場合\n",
    "        train.loc[i,'winner'] = 0 # 勝者の列に0を設定します（モデルAが勝った場合）\n",
    "    elif train.loc[i,'winner_model_b'] == 1: # モデルBが勝者である場合\n",
    "        train.loc[i,'winner'] = 1 # 勝者の列に1を設定します（モデルBが勝った場合）\n",
    "    else:\n",
    "        train.loc[i,'winner'] = 2 # いずれのモデルも勝者でない場合は、勝者の列に2を設定します（引き分けと見なす）"
   ]
  },
  {
   "cell_type": "code",
   "execution_count": null,
   "metadata": {
    "execution": {
     "iopub.execute_input": "2024-07-18T15:40:16.063333Z",
     "iopub.status.busy": "2024-07-18T15:40:16.062404Z",
     "iopub.status.idle": "2024-07-18T15:40:16.067503Z",
     "shell.execute_reply": "2024-07-18T15:40:16.066597Z",
     "shell.execute_reply.started": "2024-07-18T15:40:16.063296Z"
    }
   },
   "outputs": [],
   "source": [
    "features = ['prompt', 'response_a', 'response_b', 'winner'] # 使用する特徴量のリストを定義します\n",
    "# 'prompt'はユーザーからの入力文、'response_a'はモデルAの応答、'response_b'はモデルBの応答、'winner'は勝者を示します"
   ]
  },
  {
   "cell_type": "code",
   "execution_count": null,
   "metadata": {
    "execution": {
     "iopub.execute_input": "2024-07-18T15:40:20.681929Z",
     "iopub.status.busy": "2024-07-18T15:40:20.681566Z",
     "iopub.status.idle": "2024-07-18T15:40:20.697557Z",
     "shell.execute_reply": "2024-07-18T15:40:20.696645Z",
     "shell.execute_reply.started": "2024-07-18T15:40:20.681899Z"
    }
   },
   "outputs": [],
   "source": [
    "train_data = train[features] # トレーニングデータから指定した特徴量のみを抽出して、新しいデータフレームtrain_dataを作成します\n",
    "# train_dataには'prompt', 'response_a', 'response_b', 'winner'の情報が含まれます"
   ]
  },
  {
   "cell_type": "code",
   "execution_count": null,
   "metadata": {
    "execution": {
     "iopub.execute_input": "2024-07-18T15:40:21.759047Z",
     "iopub.status.busy": "2024-07-18T15:40:21.758073Z",
     "iopub.status.idle": "2024-07-18T15:40:21.776955Z",
     "shell.execute_reply": "2024-07-18T15:40:21.775942Z",
     "shell.execute_reply.started": "2024-07-18T15:40:21.759009Z"
    }
   },
   "outputs": [],
   "source": [
    "X_train, X_val = train_test_split(train_data, test_size=0.2, random_state=42) # トレーニングデータをトレーニングセットとバリデーションセットに分割します\n",
    "# test_size=0.2は全体の20%をバリデーションセットとし、random_state=42は再現性のための乱数シードを設定します\n",
    "# X_trainにはトレーニングデータが、X_valにはバリデーションデータが含まれます"
   ]
  },
  {
   "cell_type": "code",
   "execution_count": null,
   "metadata": {
    "execution": {
     "iopub.execute_input": "2024-07-18T15:40:45.103893Z",
     "iopub.status.busy": "2024-07-18T15:40:45.103011Z",
     "iopub.status.idle": "2024-07-18T15:45:03.65788Z",
     "shell.execute_reply": "2024-07-18T15:45:03.655548Z",
     "shell.execute_reply.started": "2024-07-18T15:40:45.103857Z"
    }
   },
   "outputs": [],
   "source": [
    "# トークナイズ関数\n",
    "def tokenize_function(df): # 引数としてデータフレームを受け取るトークナイズ関数を定義します\n",
    "    prompt_encodings = tokenizer( # プロンプトのトークン化\n",
    "        df['prompt'].tolist(), # 'prompt'列の内容をリストに変換します\n",
    "        padding='max_length', # 最大長までパディングを行います\n",
    "        truncation=True, # 長すぎる入力を切り捨てます\n",
    "        max_length=128, # 最大長を128に設定します\n",
    "        return_tensors='tf' # TensorFlowテンソル形式で返します\n",
    "    )\n",
    "    response_a_encodings = tokenizer( # モデルAの応答のトークン化\n",
    "        df['response_a'].tolist(), \n",
    "        padding='max_length',\n",
    "        truncation=True,\n",
    "        max_length=128,\n",
    "        return_tensors='tf'\n",
    "    )\n",
    "    response_b_encodings = tokenizer( # モデルBの応答のトークン化\n",
    "        df['response_b'].tolist(),\n",
    "        padding='max_length',\n",
    "        truncation=True,\n",
    "        max_length=128,\n",
    "        return_tensors='tf'\n",
    "    )\n",
    "    return prompt_encodings, response_a_encodings, response_b_encodings # トークン化されたプロンプト、応答A、応答Bを返します\n",
    "\n",
    "# トークナイズを実行し、トレーニングデータとバリデーションデータを処理します\n",
    "train_prompt_encodings, train_response_a_encodings, train_response_b_encodings = tokenize_function(X_train)\n",
    "val_prompt_encodings, val_response_a_encodings, val_response_b_encodings = tokenize_function(X_val)"
   ]
  },
  {
   "cell_type": "code",
   "execution_count": null,
   "metadata": {},
   "outputs": [],
   "source": [
    "import tensorflow as tf # TensorFlowライブラリをインポートします\n",
    "from tensorflow.keras.utils import to_categorical # カテゴリカルラベルに変換するためのユーティリティをインポートします\n",
    "\n",
    "# 入力特徴量とラベルを準備します\n",
    "train_labels = to_categorical(X_train['winner'].tolist(), num_classes=3) # トレーニングラベルをカテゴリカル形式に変換します\n",
    "val_labels = to_categorical(X_val['winner'].tolist(), num_classes=3) # バリデーションラベルをカテゴリカル形式に変換します\n",
    "\n",
    "# TensorFlowデータセットを作成します\n",
    "train_dataset = tf.data.Dataset.from_tensor_slices(( # トレーニングデータセットをテンソルスライスから作成します\n",
    "    {\n",
    "        'input_ids_prompt': train_prompt_encodings['input_ids'], # プロンプトの入力ID\n",
    "        'attention_mask_prompt': train_prompt_encodings['attention_mask'], # プロンプトのアテンションマスク\n",
    "        'input_ids_response_a': train_response_a_encodings['input_ids'], # 応答Aの入力ID\n",
    "        'attention_mask_response_a': train_response_a_encodings['attention_mask'], # 応答Aのアテンションマスク\n",
    "        'input_ids_response_b': train_response_b_encodings['input_ids'], # 応答Bの入力ID\n",
    "        'attention_mask_response_b': train_response_b_encodings['attention_mask'], # 応答Bのアテンションマスク\n",
    "    },\n",
    "    train_labels # 対応するトレーニングラベル\n",
    ")).shuffle(1000).batch(1) # データをシャッフルし、バッチサイズ1で処理します\n",
    "\n",
    "val_dataset = tf.data.Dataset.from_tensor_slices(( # バリデーションデータセットも同様に作成します\n",
    "    {\n",
    "        'input_ids_prompt': val_prompt_encodings['input_ids'],\n",
    "        'attention_mask_prompt': val_prompt_encodings['attention_mask'],\n",
    "        'input_ids_response_a': val_response_a_encodings['input_ids'],\n",
    "        'attention_mask_response_a': val_response_a_encodings['attention_mask'],\n",
    "        'input_ids_response_b': val_response_b_encodings['input_ids'],\n",
    "        'attention_mask_response_b': val_response_b_encodings['attention_mask'],\n",
    "    },\n",
    "    val_labels # 対応するバリデーションラベル\n",
    ")).batch(1) # バッチサイズ1で処理します"
   ]
  },
  {
   "cell_type": "code",
   "execution_count": null,
   "metadata": {},
   "outputs": [],
   "source": [
    "# 入力を定義します\n",
    "input_ids_prompt = tf.keras.layers.Input(shape=(128,), dtype=tf.int32, name=\"input_ids_prompt\") # プロンプトの入力IDを受け取るための層を定義します\n",
    "attention_mask_prompt = tf.keras.layers.Input(shape=(128,), dtype=tf.int32, name=\"attention_mask_prompt\") # プロンプトのアテンションマスクを受け取るための層を定義します\n",
    "\n",
    "input_ids_response_a = tf.keras.layers.Input(shape=(128,), dtype=tf.int32, name=\"input_ids_response_a\") # 応答Aの入力IDを受け取るための層を定義します\n",
    "attention_mask_response_a = tf.keras.layers.Input(shape=(128,), dtype=tf.int32, name=\"attention_mask_response_a\") # 応答Aのアテンションマスクを受け取るための層を定義します\n",
    "\n",
    "input_ids_response_b = tf.keras.layers.Input(shape=(128,), dtype=tf.int32, name=\"input_ids_response_b\") # 応答Bの入力IDを受け取るための層を定義します\n",
    "attention_mask_response_b = tf.keras.layers.Input(shape=(128,), dtype=tf.int32, name=\"attention_mask_response_b\") # 応答Bのアテンションマスクを受け取るための層を定義します"
   ]
  },
  {
   "cell_type": "code",
   "execution_count": null,
   "metadata": {
    "execution": {
     "iopub.execute_input": "2024-07-18T15:45:20.906713Z",
     "iopub.status.busy": "2024-07-18T15:45:20.906328Z",
     "iopub.status.idle": "2024-07-18T15:45:20.932362Z",
     "shell.execute_reply": "2024-07-18T15:45:20.931598Z",
     "shell.execute_reply.started": "2024-07-18T15:45:20.90668Z"
    }
   },
   "outputs": [],
   "source": [
    "import tensorflow as tf # TensorFlowライブラリをインポートします\n",
    "from transformers import TFBertModel # TensorFlow用BERTモデルをインポートします\n",
    "\n",
    "class BertEmbeddingLayer(tf.keras.layers.Layer): # カスタムBERT埋め込み層の定義\n",
    "    def __init__(self, bert_model_name='bert-base-uncased', **kwargs): # コンストラクタ\n",
    "        super(BertEmbeddingLayer, self).__init__(**kwargs) # 親クラスのコンストラクタを呼び出します\n",
    "        self.bert = bert_model # BERTモデルを初期化します\n",
    "        \n",
    "    def call(self, inputs): # 層が呼び出されたときの処理を定義します\n",
    "        input_ids, attention_mask = inputs # 入力の分解\n",
    "        outputs = self.bert(input_ids=input_ids, attention_mask=attention_mask) # BERTモデルに入力を渡して出力を取得します\n",
    "        return outputs.last_hidden_state[:, 0, :]  # CLSトークンの埋め込みを返します（最初のトークンに対応）\n",
    "\n",
    "# カスタムBERT層を初期化します\n",
    "bert_layer = BertEmbeddingLayer()"
   ]
  },
  {
   "cell_type": "code",
   "execution_count": null,
   "metadata": {},
   "outputs": [],
   "source": [
    "prompt_embeddings = bert_layer([input_ids_prompt, attention_mask_prompt]) # プロンプトの埋め込みを取得します\n",
    "response_a_embeddings = bert_layer([input_ids_response_a, attention_mask_response_a]) # 応答Aの埋め込みを取得します\n",
    "response_b_embeddings = bert_layer([input_ids_response_b, attention_mask_response_b]) # 応答Bの埋め込みを取得します\n",
    "\n",
    "# 埋め込みを結合します\n",
    "combined_embeddings = tf.keras.layers.Concatenate()([prompt_embeddings, response_a_embeddings, response_b_embeddings]) # プロンプト、応答A、応答Bの埋め込みを結合します"
   ]
  },
  {
   "cell_type": "code",
   "execution_count": null,
   "metadata": {},
   "outputs": [],
   "source": [
    "dense_layer = tf.keras.layers.Dense(256, activation='relu')(combined_embeddings) # 結合された埋め込みを入力として、256ユニットの全結合層を定義します\n",
    "dropout_layer = tf.keras.layers.Dropout(0.2)(dense_layer) # ドロップアウト層を追加して過学習を防ぎます（ドロップアウト率は20%）\n",
    "output_layer = tf.keras.layers.Dense(3, activation='softmax')(dropout_layer) # 出力層を定義します。クラス数は3（勝者モデルA、モデルB、引き分け）\n",
    "\n",
    "# モデルを構築し、コンパイルします\n",
    "model = tf.keras.Model(inputs=[ # モデルの入力を指定します\n",
    "    input_ids_prompt, attention_mask_prompt,\n",
    "    input_ids_response_a, attention_mask_response_a,\n",
    "    input_ids_response_b, attention_mask_response_b\n",
    "], outputs=output_layer) # モデルの出力を指定します\n",
    "\n",
    "model.compile(optimizer=tf.keras.optimizers.Adam(learning_rate=2e-5), loss='categorical_crossentropy', metrics=['accuracy']) # モデルをコンパイルします。オプティマイザーはAdam、損失関数はカテゴリカルクロスエントロピー、評価指標は精度を使用します"
   ]
  },
  {
   "cell_type": "code",
   "execution_count": null,
   "metadata": {},
   "outputs": [],
   "source": [
    "history = model.fit( # モデルのトレーニングを開始します\n",
    "    train_dataset, # トレーニングデータセットを指定します\n",
    "    validation_data=val_dataset, # バリデーションデータセットを指定します\n",
    "    epochs=1 # エポック数は1に設定します（1回のトレーニングで全データを1周します）\n",
    ")"
   ]
  },
  {
   "cell_type": "code",
   "execution_count": null,
   "metadata": {},
   "outputs": [],
   "source": [
    "def encode_text(texts, max_length): # テキストをエンコードする関数を定義します\n",
    "    return tokenizer( # トークナイザーを使用してテキストをトークン化します\n",
    "        texts,\n",
    "        truncation=True, # 長すぎるテキストを切り捨てます\n",
    "        padding='max_length', # 最大長までパディングします\n",
    "        max_length=max_length, # 最大長を指定します\n",
    "        return_tensors='tf' # TensorFlowテンソル形式で返します\n",
    "    )"
   ]
  },
  {
   "cell_type": "code",
   "execution_count": null,
   "metadata": {},
   "outputs": [],
   "source": [
    "test # テストデータセットを表示します。これによりテストデータの内容を確認できます。"
   ]
  },
  {
   "cell_type": "code",
   "execution_count": null,
   "metadata": {},
   "outputs": [],
   "source": [
    "max_length = 128  # モデルの最大シーケンス長に応じて調整します\n",
    "input_ids_prompt = encode_text(test['prompt'].tolist(), max_length) # テストセットのプロンプトをエンコードします\n",
    "input_ids_response_a = encode_text(test['response_a'].tolist(), max_length) # テストセットの応答Aをエンコードします\n",
    "input_ids_response_b = encode_text(test['response_b'].tolist(), max_length) # テストセットの応答Bをエンコードします"
   ]
  },
  {
   "cell_type": "code",
   "execution_count": null,
   "metadata": {},
   "outputs": [],
   "source": [
    "predictions = model.predict({ # モデルを使って予測を行います\n",
    "    'input_ids_prompt': input_ids_prompt['input_ids'], # プロンプトの入力ID\n",
    "    'attention_mask_prompt': input_ids_prompt['attention_mask'], # プロンプトのアテンションマスク\n",
    "    'input_ids_response_a': input_ids_response_a['input_ids'], # 応答Aの入力ID\n",
    "    'attention_mask_response_a': input_ids_response_a['attention_mask'], # 応答Aのアテンションマスク\n",
    "    'input_ids_response_b': input_ids_response_b['input_ids'], # 応答Bの入力ID\n",
    "    'attention_mask_response_b': input_ids_response_b['attention_mask'] # 応答Bのアテンションマスク\n",
    "}) # これにより、テストデータに対してモデルが予測を行います"
   ]
  },
  {
   "cell_type": "code",
   "execution_count": null,
   "metadata": {},
   "outputs": [],
   "source": [
    "print(\"done till here\") # ここまでの処理が完了したことを表示します"
   ]
  },
  {
   "cell_type": "code",
   "execution_count": null,
   "metadata": {},
   "outputs": [],
   "source": [
    "results = pd.DataFrame({ # 予測結果をデータフレームにまとめます\n",
    "    'ID': test['id'], # テストセットのID列\n",
    "    'winner_model_a': predictions[0], # モデルAの勝者確率\n",
    "    'winner_model_b': predictions[1], # モデルBの勝者確率\n",
    "    'winner_tie': predictions[2], # 引き分けの確率\n",
    "})"
   ]
  },
  {
   "cell_type": "code",
   "execution_count": null,
   "metadata": {},
   "outputs": [],
   "source": [
    "results.to_csv('/kaggle/working/submission.csv', index=False) # 予測結果をCSVファイルとして保存します\n",
    "# ファイル名は'submission.csv'で、インデックスは保存しません"
   ]
  },
  {
   "cell_type": "code",
   "execution_count": null,
   "metadata": {},
   "outputs": [],
   "source": []
  },
  {
   "cell_type": "code",
   "execution_count": null,
   "metadata": {},
   "outputs": [],
   "source": []
  },
  {
   "cell_type": "code",
   "execution_count": null,
   "metadata": {},
   "outputs": [],
   "source": []
  },
  {
   "cell_type": "code",
   "execution_count": null,
   "metadata": {},
   "outputs": [],
   "source": []
  }
 ],
 "metadata": {
  "kaggle": {
   "accelerator": "nvidiaTeslaT4",
   "dataSources": [
    {
     "databundleVersionId": 8346466,
     "sourceId": 66631,
     "sourceType": "competition"
    },
    {
     "datasetId": 5410613,
     "sourceId": 8984365,
     "sourceType": "datasetVersion"
    }
   ],
   "dockerImageVersionId": 30734,
   "isGpuEnabled": true,
   "isInternetEnabled": false,
   "language": "python",
   "sourceType": "notebook"
  },
  "kernelspec": {
   "display_name": "Python 3",
   "language": "python",
   "name": "python3"
  },
  "language_info": {
   "codemirror_mode": {
    "name": "ipython",
    "version": 3
   },
   "file_extension": ".py",
   "mimetype": "text/x-python",
   "name": "python",
   "nbconvert_exporter": "python",
   "pygments_lexer": "ipython3",
   "version": "3.10.13"
  }
 },
 "nbformat": 4,
 "nbformat_minor": 4
}
