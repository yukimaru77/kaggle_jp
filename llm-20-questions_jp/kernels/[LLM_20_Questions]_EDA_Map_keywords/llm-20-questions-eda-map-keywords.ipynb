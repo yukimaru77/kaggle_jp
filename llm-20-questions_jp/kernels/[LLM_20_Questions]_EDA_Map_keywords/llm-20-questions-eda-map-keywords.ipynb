{
 "cells": [
  {
   "cell_type": "markdown",
   "id": "51133fd0",
   "metadata": {},
   "source": [
    "# 要約 \n",
    "このJupyter Notebookは、Kaggleの「LLM 20 Questions」コンペティションに関連するキーワードの可視化と地理解析を目的としています。具体的には、ノートブックは以下の問題に取り組んでいます：\n",
    "\n",
    "1. **キーワードデータの取得と解析**：外部ファイルからキーワードデータを読み込み、カテゴリごとのキーワードの数をカウントしています。\n",
    "2. **地理情報の取得**：地理コーディングAPIを利用して、キーワードに関連する地名の緯度と経度を取得し、それを基に地図上に表示しています。\n",
    "\n",
    "ノートブックで使用されている主な手法やライブラリは以下の通りです：\n",
    "\n",
    "- **JSON**：キーワードデータの読み込みと処理に使用されています。\n",
    "- **Requests**：HTTPリクエストを送信し、地理コーディングAPIから緯度および経度データを取得するために使用されています。\n",
    "- **Folium**：地図の作成と描画に使用され、各キーワードの位置を円で示しています。\n",
    "- **Kaggle Secrets**：APIキーを安全に管理するために利用されています。\n",
    "\n",
    "このノートブックは、信頼性のあるAPIと視覚化ツールを組み合わせることで、キーワード情報を地理的に表現する革新的なアプローチを提供しており、参加者のコメントからもその視覚的魅力が高く評価されています。\n",
    "\n",
    "---\n"
   ]
  },
  {
   "cell_type": "markdown",
   "id": "02afb521",
   "metadata": {},
   "source": [
    "# 用語概説 \n",
    "以下は、Jupyter Notebook において機械学習・深層学習の初心者がつまずきそうな専門用語の解説です。特にマイナーな用語や実務経験がないと馴染みがないもの、またこのノートブック特有の内容に焦点を当てました。\n",
    "\n",
    "1. **JSON (JavaScript Object Notation)**:\n",
    "   - 軽量なデータ交換フォーマットで、構造化データを記述するために使用されます。人間にも読みやすく、機械でも解析しやすいことから、API通信時によく利用されます。このノートブックでは、キーワードデータの管理に使用。\n",
    "\n",
    "2. **Geocoding API**:\n",
    "   - 地理的情報を扱うためのAPIで、住所や場所の名前を緯度・経度に変換するサービスです。逆に、緯度・経度から住所を取得することもできます。地理空間データを取り扱うアプリケーションにおいて重要。\n",
    "\n",
    "3. **Folium**:\n",
    "   - Pythonライブラリの一つで、地図を簡単に生成・カスタマイズするためのツールです。Leaflet.jsを利用してビジュアルな地図を描画し、地理データを可視化できます。このノートブックでは、地名とその位置を地図上に表示するために使用。\n",
    "\n",
    "4. **ポップアップ (popup)**:\n",
    "   - デジタルUIにおいて、ユーザーが特定の要素にマウスを合わせるなどした際に現れる小さなウィンドウのこと。地図上での情報表示に便利です。このノートブックでは地名に関する情報表示に利用。\n",
    "\n",
    "5. **ツールチップ (tooltip)**:\n",
    "   - ユーザーが特定の要素にマウスを移動させた際に現れる情報ボックスのこと。詳細な情報を提供するために使用されます。このノートブックでは、地名に関する詳細な情報を表示するために利用されている。\n",
    "\n",
    "6. **リクエスト (request)**:\n",
    "   - HTTP通信におけるクライアントからサーバーへのデータ要求のこと。APIを介してデータを取得する際に使用され、このノートブックでは地理情報をリクエストするために用いられています。\n",
    "\n",
    "7. **ステータスコード (status code)**:\n",
    "   - HTTPリクエストに対するサーバーの応答を示す三桁の数値です。「200」は成功を意味し、他にも「404」（ページ未発見）や「500」（サーバー内部エラー）などが存在します。このコードをチェックすることで、通信の成功・失敗を確認できます。\n",
    "\n",
    "8. **IndexError**:\n",
    "   - Pythonでリストや配列の範囲外のインデックスにアクセスしようとした際に発生するエラーです。このノートブックでは、APIからのレスポンスが空だった場合に発生する可能性があります。\n",
    "\n",
    "9. **APIキー (API key)**:\n",
    "   - 特定のAPIサービスにアクセスするために必要な識別情報で、アクセス制御や利用者を識別する目的で使用されます。このノートブックでは、地理コーディングサービスへのリクエスト時に必要です。\n",
    "\n",
    "10. **サークル (Circle)**:\n",
    "    - Foliumライブラリにおいて、円形のマーカーを指定した位置に描画するためのオブジェクトです。このノートブックでは、地名に関連付けられた位置を視覚的に示すために使用されます。\n",
    "\n",
    "これらの用語は、特にデータ処理や視覚化に特有のものであり、初心者にとっては初見の概念が多いため、理解を深める上で重要です。\n",
    "\n",
    "---\n"
   ]
  },
  {
   "cell_type": "code",
   "execution_count": null,
   "metadata": {
    "execution": {
     "iopub.execute_input": "2024-05-16T18:23:58.942308Z",
     "iopub.status.busy": "2024-05-16T18:23:58.94186Z",
     "iopub.status.idle": "2024-05-16T18:23:59.942114Z",
     "shell.execute_reply": "2024-05-16T18:23:59.940918Z",
     "shell.execute_reply.started": "2024-05-16T18:23:58.942274Z"
    }
   },
   "outputs": [],
   "source": [
    "# jsonモジュールをインポートします。JSONデータを扱うために使用します。\n",
    "import json  \n",
    "# requestsモジュールをインポートします。HTTPリクエストを送信するために使用します。\n",
    "import requests  \n",
    "# timeモジュールをインポートします。時間に関する処理を行うために使用します。\n",
    "import time  \n",
    "# foliumモジュールをインポートします。地図を作成するために使用します。\n",
    "import folium  \n",
    "# kaggle_secretsからUserSecretsClientをインポートします。Kaggleの秘密情報を管理するために使用します。\n",
    "from kaggle_secrets import UserSecretsClient"
   ]
  },
  {
   "cell_type": "code",
   "execution_count": null,
   "metadata": {
    "_kg_hide-output": true,
    "collapsed": true,
    "execution": {
     "iopub.execute_input": "2024-05-16T17:55:55.247302Z",
     "iopub.status.busy": "2024-05-16T17:55:55.246871Z",
     "iopub.status.idle": "2024-05-16T17:55:55.351092Z",
     "shell.execute_reply": "2024-05-16T17:55:55.3497Z",
     "shell.execute_reply.started": "2024-05-16T17:55:55.24727Z"
    },
    "jupyter": {
     "outputs_hidden": true
    }
   },
   "outputs": [],
   "source": [
    "# \"/kaggle/input/llm-20-questions/llm_20_questions/keywords.py\"というファイルを開いて、その内容を実行します。\n",
    "# このファイルには、キーワードに関する情報が含まれていると考えられます。\n",
    "exec(open(\"/kaggle/input/llm-20-questions/llm_20_questions/keywords.py\").read())  \n",
    "\n",
    "# KEYWORDS_JSONという変数に格納されたJSON形式の文字列をPythonの辞書に変換します。\n",
    "# この辞書には、キーワードのデータが含まれているはずです。\n",
    "KEYWORDS_JSON = json.loads(KEYWORDS_JSON)  \n",
    "\n",
    "# KEYWORDS_JSONの内容を表示します。これにより、キーワードのデータを確認できます。\n",
    "KEYWORDS_JSON"
   ]
  },
  {
   "cell_type": "code",
   "execution_count": null,
   "metadata": {
    "execution": {
     "iopub.execute_input": "2024-05-16T17:55:58.223396Z",
     "iopub.status.busy": "2024-05-16T17:55:58.222997Z",
     "iopub.status.idle": "2024-05-16T17:55:58.230541Z",
     "shell.execute_reply": "2024-05-16T17:55:58.229177Z",
     "shell.execute_reply.started": "2024-05-16T17:55:58.223363Z"
    }
   },
   "outputs": [],
   "source": [
    "# KEYWORDS_JSONの長さを表示します。これは、カテゴリの数を示します。\n",
    "print(len(KEYWORDS_JSON))  \n",
    "\n",
    "# KEYWORDS_JSON内の各カテゴリに対してループを実行します。\n",
    "for category in KEYWORDS_JSON:\n",
    "    # カテゴリ名とそのカテゴリに含まれる単語の数を表示します。\n",
    "    # category[\"category\"]はカテゴリ名、category[\"words\"]はそのカテゴリに属する単語のリストです。\n",
    "    print(category[\"category\"], len(category[\"words\"]))"
   ]
  },
  {
   "cell_type": "code",
   "execution_count": null,
   "metadata": {
    "execution": {
     "iopub.execute_input": "2024-05-16T17:55:59.50905Z",
     "iopub.status.busy": "2024-05-16T17:55:59.50854Z",
     "iopub.status.idle": "2024-05-16T17:55:59.619759Z",
     "shell.execute_reply": "2024-05-16T17:55:59.618557Z",
     "shell.execute_reply.started": "2024-05-16T17:55:59.509009Z"
    }
   },
   "outputs": [],
   "source": [
    "# UserSecretsClientのインスタンスを作成します。\n",
    "# これにより、Kaggleのユーザー秘密情報にアクセスできるようになります。\n",
    "user_secrets = UserSecretsClient()  \n",
    "\n",
    "# 'geocoding_api_key'という名前の秘密情報を取得します。\n",
    "# このAPIキーは、地理コーディングサービスを利用するために必要です。\n",
    "# APIキーは、Kaggleの「Add-ons」->「secret」で追加する必要があります。\n",
    "# 詳細については、Kaggleのフォーラムを参照してください。\n",
    "geocoding_api_key = user_secrets.get_secret(\"geocoding_api_key\")"
   ]
  },
  {
   "cell_type": "code",
   "execution_count": null,
   "metadata": {
    "execution": {
     "iopub.execute_input": "2024-05-16T17:58:35.644302Z",
     "iopub.status.busy": "2024-05-16T17:58:35.64388Z",
     "iopub.status.idle": "2024-05-16T17:58:36.472799Z",
     "shell.execute_reply": "2024-05-16T17:58:36.471635Z",
     "shell.execute_reply.started": "2024-05-16T17:58:35.644272Z"
    }
   },
   "outputs": [],
   "source": [
    "# geocoding APIのURLを定義します。\n",
    "# {address}と{api_key}は、後で値を挿入するプレースホルダーです。\n",
    "url_api = \"https://geocode.maps.co/search?q={address}&api_key={api_key}\"  \n",
    "\n",
    "# APIのテストを行います。\n",
    "# 'croatia'という住所を使って、先ほど取得したgeocoding_api_keyを用いてリクエストを送信します。\n",
    "r = requests.get(url_api.format(address=\"croatia\", api_key=geocoding_api_key))  \n",
    "\n",
    "# リクエストのステータスコードを表示します。\n",
    "# ステータスコードが200の場合、リクエストが成功したことを意味します。\n",
    "r.status_code"
   ]
  },
  {
   "cell_type": "code",
   "execution_count": null,
   "metadata": {
    "_kg_hide-input": false,
    "_kg_hide-output": true,
    "collapsed": true,
    "execution": {
     "iopub.execute_input": "2024-05-16T17:58:47.182179Z",
     "iopub.status.busy": "2024-05-16T17:58:47.181239Z",
     "iopub.status.idle": "2024-05-16T17:58:47.195768Z",
     "shell.execute_reply": "2024-05-16T17:58:47.194522Z",
     "shell.execute_reply.started": "2024-05-16T17:58:47.182135Z"
    },
    "jupyter": {
     "outputs_hidden": true
    }
   },
   "outputs": [],
   "source": [
    "# APIからのレスポンスをJSON形式で取得します。\n",
    "# この関数を実行すると、リクエストの結果が辞書型のデータとして返されます。\n",
    "r.json()"
   ]
  },
  {
   "cell_type": "code",
   "execution_count": null,
   "metadata": {
    "execution": {
     "iopub.execute_input": "2024-05-16T19:10:02.80108Z",
     "iopub.status.busy": "2024-05-16T19:10:02.799838Z",
     "iopub.status.idle": "2024-05-16T19:10:02.812877Z",
     "shell.execute_reply": "2024-05-16T19:10:02.811432Z",
     "shell.execute_reply.started": "2024-05-16T19:10:02.801036Z"
    }
   },
   "outputs": [],
   "source": [
    "# Foliumを使用して、初期位置が緯度0、経度0の地図を作成します。\n",
    "# titlesには\"Map\"が指定されていますが、これは地図のタイトルではなく、内部のラベルです。\n",
    "# zoom_startは地図の初期ズームレベルで、4は比較的広い範囲を表示します。\n",
    "worldmap = folium.Map([0, 0], titles='Map', zoom_start=4)"
   ]
  },
  {
   "cell_type": "code",
   "execution_count": null,
   "metadata": {
    "execution": {
     "iopub.execute_input": "2024-05-16T19:14:24.101496Z",
     "iopub.status.busy": "2024-05-16T19:14:24.101077Z",
     "iopub.status.idle": "2024-05-16T19:25:24.098997Z",
     "shell.execute_reply": "2024-05-16T19:25:24.097556Z",
     "shell.execute_reply.started": "2024-05-16T19:14:24.10145Z"
    }
   },
   "outputs": [],
   "source": [
    "# 各カテゴリに対応する色を定義します。\n",
    "# \"country\"は青、\"city\"は緑、\"landmark\"はオレンジです。\n",
    "colors = {\"country\": \"blue\", \"city\": \"green\", \"landmark\": \"orange\"}  \n",
    "\n",
    "# KEYWORDS_JSON内の各カテゴリとその名前を対応させてループを実行します。\n",
    "for category, name in zip(KEYWORDS_JSON, [\"country\", \"city\", \"landmark\"]):\n",
    "    # 各カテゴリ内の単語に対してループを実行します。\n",
    "    for location in category[\"words\"]:\n",
    "        # 地理コーディングAPIにリクエストを送信します。\n",
    "        # location[\"keyword\"]は地名を示します。\n",
    "        r = requests.get(url_api.format(address=location[\"keyword\"], api_key=geocoding_api_key))\n",
    "        \n",
    "        # ステータスコードが200でない場合、エラーを表示して次のループに進みます。\n",
    "        if r.status_code != 200:\n",
    "            print(f\"error {r.status_code = } {name} {location['keyword']}\")\n",
    "            continue\n",
    "        \n",
    "        try:\n",
    "            # APIからのレスポンスを取得します。\n",
    "            resp = r.json()[0]  \n",
    "            # foliumを使用して、指定された位置にサークルを描画します。\n",
    "            folium.Circle(location=[resp.get('lat'), resp.get('lon')],\n",
    "                          popup=f\"{name} {location['keyword']}\",  # ポップアップにカテゴリ名とキーワードを表示\n",
    "                          color=colors[name],  # カテゴリに対応する色を設定\n",
    "                          tooltip=f\"{name} {location['keyword']} {location['alts']}\",  # ツールチップに詳細情報を表示\n",
    "                          fill=False).add_to(worldmap)  # 描画したサークルを地図に追加します\n",
    "            \n",
    "        except IndexError:\n",
    "            # 空のレスポンスを受け取った場合にエラーを表示します。\n",
    "            print(\"error empty response\", name, location[\"keyword\"])\n",
    "        \n",
    "        # 無料プランの場合、1秒あたりのリクエスト回数を制限するために1秒待機します。\n",
    "        time.sleep(1)  \n",
    "\n",
    "# 最後に、作成した地図を表示します。\n",
    "worldmap"
   ]
  },
  {
   "cell_type": "markdown",
   "id": "23d34e89",
   "metadata": {},
   "source": [
    "---\n",
    "\n",
    "# コメント \n",
    "\n",
    "> ## Sakshi Satre\n",
    "> \n",
    "> \"視覚的に魅力的なノートブックを共有してくれてありがとう!\" [@waechter](https://www.kaggle.com/waechter) \n",
    "> \n",
    "> \n",
    "\n",
    "---\n",
    "\n",
    "> ## Matin Mahmoudi ✨\n",
    "> \n",
    "> あなたのノートブックは、LLM 20 Questionsのキーワードに関する洞察に満ちた探索的データ分析（EDA）を提供しており、地図もよく構成されています。 [@waechter](https://www.kaggle.com/waechter)。分析は明確で、視覚化も非常に効果的です。あなたの他の作品も確認し、すべてに投票しました。素晴らしい友人よ。\n",
    "> \n",
    "> \n",
    "\n",
    "---\n",
    "\n",
    "> ## Marília Prata\n",
    "> \n",
    "> 予想外のFolium地図とジオコーディングAPI。とてもクリエイティブで、その素晴らしいアプローチは思いつかなかったでしょう。素晴らしい地図です。\n",
    "> \n",
    "> \n",
    "> > ## waechterトピック作成者\n",
    "> > \n",
    "> > あなたの温かい言葉に感謝します！\n",
    "> > \n",
    "> > \n",
    "\n",
    "---\n",
    "\n",
    "> ## pathfinder.milan\n",
    "> \n",
    "> 素晴らしいノートブック\n",
    "> \n",
    "> \n",
    "> \n",
    "\n",
    "\n",
    "---"
   ]
  }
 ],
 "metadata": {
  "kaggle": {
   "accelerator": "none",
   "dataSources": [
    {
     "databundleVersionId": 8550470,
     "sourceId": 61247,
     "sourceType": "competition"
    }
   ],
   "dockerImageVersionId": 30698,
   "isGpuEnabled": false,
   "isInternetEnabled": true,
   "language": "python",
   "sourceType": "notebook"
  },
  "kernelspec": {
   "display_name": "Python 3",
   "language": "python",
   "name": "python3"
  },
  "language_info": {
   "codemirror_mode": {
    "name": "ipython",
    "version": 3
   },
   "file_extension": ".py",
   "mimetype": "text/x-python",
   "name": "python",
   "nbconvert_exporter": "python",
   "pygments_lexer": "ipython3",
   "version": "3.10.13"
  }
 },
 "nbformat": 4,
 "nbformat_minor": 4
}
