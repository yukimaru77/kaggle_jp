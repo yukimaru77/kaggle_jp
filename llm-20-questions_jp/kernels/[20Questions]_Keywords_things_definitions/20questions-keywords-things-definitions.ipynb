{
 "cells": [
  {
   "cell_type": "markdown",
   "id": "699e0143",
   "metadata": {},
   "source": [
    "# 要約 \n",
    "このJupyter Notebookは、Kaggleの「LLM 20 Questions」コンペティションにおいて新たに追加されたキーワードの定義を取得することを目的としています。具体的な目的は、取得した定義を用いて以下のことを行うことです：\n",
    "\n",
    "1. トレーニング目的のために、既知の回答を持つ良質な質問を生成する。\n",
    "2. `things`というキーワードに関する理解を深め、より多くの生成を促進する。\n",
    "3. `answerer`という役割を持つエージェントがより正確に応答できるように情報を提供する。\n",
    "\n",
    "ノートブックでは、`dictionaryapi`というAPIを使用して、キーワードの定義を取得しています。最終的な結果は`things_definitions.json`ファイルに保存されます。\n",
    "\n",
    "使用されている主なライブラリおよびツールは以下の通りです：\n",
    "\n",
    "- **Pandas**: データ解析のために利用され、キーワード情報をDataFrameとして管理しています。\n",
    "- **Requests**: HTTPリクエストを送信するために使用し、APIから定義を取得します。\n",
    "- **JSON**: JSONデータを扱うために使用し、APIからのレスポンスを処理します。\n",
    "- **jq**: JSONデータを操作するために使用され、特定のフィールド（例: \"meanings\"）を抽出するために利用されています。\n",
    "- **random, time**: タイミングやランダム性を制御するために使用されます。\n",
    "\n",
    "ノートブックの工程としては以下が含まれます：\n",
    "\n",
    "1. キーワードを含むCSVファイルを読み込み、PandasのDataFrameとして保存。\n",
    "2. APIからのテストリクエストにより、特定の単語の定義を取得。\n",
    "3. \"things\"カテゴリーのキーワードをフィルタリング。\n",
    "4. 各キーワードに対して、APIを利用し、意味を取得する関数を生成。\n",
    "5. 取得した定義をJSONファイルに保存。\n",
    "\n",
    "このようにして、定義を効果的に収集し、モデルのトレーニングやエージェントの精度向上を目指しています。\n",
    "\n",
    "---\n"
   ]
  },
  {
   "cell_type": "markdown",
   "id": "f25afdf0",
   "metadata": {},
   "source": [
    "# 用語概説 \n",
    "以下に、初心者がつまずきやすい専門用語の簡単な解説を示します。特にマイナーなものや、実務を経験していないと馴染みが薄い用語に焦点を当てています。\n",
    "\n",
    "1. **ドメイン知識**: 特定の分野や業界に関する深い知識のこと。このノートブックでは、「20の質問ゲーム」やその関連語の理解が求められます。\n",
    "\n",
    "2. **API（Application Programming Interface）**: ソフトウェア同士が相互にやり取りするためのルールやインターフェース。ここでは辞書APIを使用して単語の定義を取得しています。\n",
    "\n",
    "3. **HTTPリクエスト**: ウェブサーバーにデータを要求するためのメッセージ。`requests.get()`で行う操作がこれに該当します。\n",
    "\n",
    "4. **JSON（JavaScript Object Notation）**: データを構造化するための軽量フォーマット。データの交換に広く使われ、APIの応答形式としても一般的です。\n",
    "\n",
    "5. **jq**: JSONデータを操作するための軽量なコマンドラインツールおよびライブラリ。ここではAPIから取得したJSONデータをフィルタリングするために使われています。\n",
    "\n",
    "6. **curl**: データを送受信するためのコマンドラインツール。URLに対してHTTPリクエストを行うためのコマンドとして使用されています。\n",
    "\n",
    "7. **enumerate**: リストやイテラブルオブジェクトを順番に処理し、そのインデックスも同時に取得できるPythonの組み込み関数。ここではキーワードのリストを処理する際に使用されています。\n",
    "\n",
    "8. **meanings**: 辞書APIからのレスポンスの中で、単語の意味に関する情報を含むフィールド。特に複数の意味や定義が存在する単語の情報を管理します。\n",
    "\n",
    "9. **エラーハンドリング**: プログラムの実行中に発生する可能性のあるエラーを捕捉し、適切に対処する技術。ここでは、API呼び出しの結果のエラーチェックを行っています。\n",
    "\n",
    "10. **タイムアウト**: システムやプロセスが一定の時間内に応答をしない場合に、実行を中止すること。APIリクエストを行うときに、過剰な時間をかけないように制御します。\n",
    "\n",
    "11. **スリープ関数（time.sleep）**: プログラムの実行を一時停止させるための関数。ここでは、連続して行うAPIリクエストの間にランダムな待機時間を入れて、サーバーへの負担を軽減するために使用されています。\n",
    "\n",
    "12. **peek（プログラムでの使われ方）**: データに対する簡易的な参照や確認を行うこと。ここでは、取得したデータをすぐに表示する様子からその概念が伺えます。\n",
    "\n",
    "これらの用語についての理解が深まることで、ノートブックの内容がよりスムーズに理解できるようになるでしょう。\n",
    "\n",
    "---\n"
   ]
  },
  {
   "cell_type": "markdown",
   "id": "20be5299",
   "metadata": {},
   "source": [
    "このノートブックでは、`dictionaryapi`を使って、[コンペティション](https://www.kaggle.com/competitions/llm-20-questions)に新たに追加されたキーワードの定義を探します。  \n",
    "目標は、これらの定義を利用して以下のことを行うことです：\n",
    "1. トレーニング目的のために、既知の回答を持つ（良い）質問を生成すること\n",
    "1. キーワードである`things`についてより良く理解し、より多くの生成が可能になるようにすること\n",
    "1. `answerer`の役割を持つエージェントに、より正確に応答できるように情報を提供すること（RAG？）\n",
    "\n",
    "結果は`things_definitions.json`に保存されます。  \n",
    "注意：\n",
    "- 一部の単語には複数の定義があります（例：`Plate`には多くの定義があります）\n",
    "- 多くの二語以上の単語（例：`Air compressor`）は、dictionaryapiには定義がありません。一部の二語のキーワードには定義があります（例：`Contact lenses`）\n",
    "- ほとんどの一語のキーワードには少なくとも一つの定義があります（例外：RV、IVなど）"
   ]
  },
  {
   "cell_type": "code",
   "execution_count": null,
   "metadata": {
    "execution": {
     "iopub.execute_input": "2024-07-01T22:20:13.490717Z",
     "iopub.status.busy": "2024-07-01T22:20:13.490299Z",
     "iopub.status.idle": "2024-07-01T22:20:30.450772Z",
     "shell.execute_reply": "2024-07-01T22:20:30.449433Z",
     "shell.execute_reply.started": "2024-07-01T22:20:13.490682Z"
    }
   },
   "outputs": [],
   "source": [
    "%%capture\n",
    "# jqをインストールするためのコマンドです。\n",
    "# jqはJSONデータを操作するための軽量で柔軟なコマンドラインツールです。\n",
    "!pip install jq"
   ]
  },
  {
   "cell_type": "code",
   "execution_count": null,
   "metadata": {
    "_cell_guid": "b1076dfc-b9ad-4769-8c92-a6c4dae69d19",
    "_uuid": "8f2839f25d086af736a60e9eeb907d3b93b6e0e5",
    "execution": {
     "iopub.execute_input": "2024-07-01T22:20:30.453486Z",
     "iopub.status.busy": "2024-07-01T22:20:30.453106Z",
     "iopub.status.idle": "2024-07-01T22:20:30.466254Z",
     "shell.execute_reply": "2024-07-01T22:20:30.465105Z",
     "shell.execute_reply.started": "2024-07-01T22:20:30.453451Z"
    }
   },
   "outputs": [],
   "source": [
    "import pandas as pd  # データ解析を行うためのPandasライブラリをインポートします\n",
    "import requests  # HTTPリクエストを送信するためのRequestsライブラリをインポートします\n",
    "import json  # JSONデータを扱うためのjsonライブラリをインポートします\n",
    "import time  # 時間関連の処理を行うためのtimeライブラリをインポートします\n",
    "import jq  # JSONデータを操作するためのjqライブラリをインポートします\n",
    "import random  # ランダムな数値を生成するためのrandomライブラリをインポートします"
   ]
  },
  {
   "cell_type": "code",
   "execution_count": null,
   "metadata": {
    "execution": {
     "iopub.execute_input": "2024-07-01T22:20:30.468187Z",
     "iopub.status.busy": "2024-07-01T22:20:30.467745Z",
     "iopub.status.idle": "2024-07-01T22:20:30.517147Z",
     "shell.execute_reply": "2024-07-01T22:20:30.51598Z",
     "shell.execute_reply.started": "2024-07-01T22:20:30.468149Z"
    }
   },
   "outputs": [],
   "source": [
    "# keywords.csvファイルを読み込み、PandasのDataFrameとして保存します。\n",
    "# index_col=0を指定することで、CSVの最初の列をインデックスとして使用します。\n",
    "keywords = pd.read_csv(\"/kaggle/input/llm-20-questions-games-dataset/keywords.csv\", index_col=0)\n",
    "\n",
    "# 読み込んだキーワードのDataFrameを表示します。\n",
    "keywords"
   ]
  },
  {
   "cell_type": "code",
   "execution_count": null,
   "metadata": {
    "execution": {
     "iopub.execute_input": "2024-07-01T22:14:01.45234Z",
     "iopub.status.busy": "2024-07-01T22:14:01.45188Z",
     "iopub.status.idle": "2024-07-01T22:14:01.476063Z",
     "shell.execute_reply": "2024-07-01T22:14:01.474836Z",
     "shell.execute_reply.started": "2024-07-01T22:14:01.452295Z"
    }
   },
   "outputs": [],
   "source": [
    "# keywords.pyというスクリプトを実行します。\n",
    "# このスクリプト内で定義されている内容が必要です。\n",
    "%run /kaggle/input/llm-20-questions/llm_20_questions/keywords.py\n",
    "\n",
    "# KEYWORDS_JSONからキーワードを含む古いセットを作成します。\n",
    "# 各カテゴリーからキーワードを抽出し、セットとして保存します。\n",
    "keywords_old: set[str] = {details[\"keyword\"] for category in json.loads(KEYWORDS_JSON) for details in category[\"words\"]}\n",
    "\n",
    "# カテゴリーが\"place\"のキーワードを現在のDataFrameからセットとして取得します。\n",
    "keywords_place = set(keywords.loc[keywords.category == \"place\", \"keyword\"])\n",
    "\n",
    "# 現在の場所のキーワードの中で、以前のJSONに存在しないものを出力します。\n",
    "print(f\"Current place keyword not in the previous json: {keywords_place - keywords_old}\")\n",
    "\n",
    "# 古い場所のキーワードの中で、現在存在しないものを出力します。\n",
    "print(f\"Old place keyword not in current: {keywords_old - keywords_place}\")\n",
    "\n",
    "# 使用が終わったため、keywords_placeとkeywords_oldを削除します。\n",
    "del keywords_place, keywords_old"
   ]
  },
  {
   "cell_type": "markdown",
   "id": "1281e7a6",
   "metadata": {},
   "source": [
    "# 事物"
   ]
  },
  {
   "cell_type": "code",
   "execution_count": null,
   "metadata": {
    "execution": {
     "iopub.execute_input": "2024-07-01T22:14:01.477844Z",
     "iopub.status.busy": "2024-07-01T22:14:01.477453Z",
     "iopub.status.idle": "2024-07-01T22:14:01.493834Z",
     "shell.execute_reply": "2024-07-01T22:14:01.492718Z",
     "shell.execute_reply.started": "2024-07-01T22:14:01.477814Z"
    }
   },
   "outputs": [],
   "source": [
    "# \"things\"カテゴリーのキーワードをフィルタリングして表示します。\n",
    "# keywords DataFrameの中から、カテゴリーが\"things\"である行を取得します。\n",
    "keywords[keywords.category == \"things\"]"
   ]
  },
  {
   "cell_type": "code",
   "execution_count": null,
   "metadata": {
    "execution": {
     "iopub.execute_input": "2024-07-01T22:14:01.496124Z",
     "iopub.status.busy": "2024-07-01T22:14:01.495746Z",
     "iopub.status.idle": "2024-07-01T22:14:02.31608Z",
     "shell.execute_reply": "2024-07-01T22:14:02.314976Z",
     "shell.execute_reply.started": "2024-07-01T22:14:01.496093Z"
    }
   },
   "outputs": [],
   "source": [
    "# APIのURLを定義します。ここでは、特定の単語の定義を取得するためのURLを作成します。\n",
    "url_api = \"https://api.dictionaryapi.dev/api/v2/entries/en/{word}\"\n",
    "\n",
    "# APIをテストするために、\"Zinc\"という単語の定義を取得します。\n",
    "r = requests.get(url_api.format(word=\"Zinc\"))\n",
    "\n",
    "# リクエストのステータスコードを表示します。\n",
    "# ステータスコードが200の場合は成功、他のコードはエラーを示します。\n",
    "r.status_code"
   ]
  },
  {
   "cell_type": "code",
   "execution_count": null,
   "metadata": {
    "execution": {
     "iopub.execute_input": "2024-07-01T22:14:02.317672Z",
     "iopub.status.busy": "2024-07-01T22:14:02.317298Z",
     "iopub.status.idle": "2024-07-01T22:14:02.327065Z",
     "shell.execute_reply": "2024-07-01T22:14:02.325824Z",
     "shell.execute_reply.started": "2024-07-01T22:14:02.317641Z"
    }
   },
   "outputs": [],
   "source": [
    "# 取得したレスポンスのJSONデータを表示します。\n",
    "# これにより、\"Zinc\"という単語の定義やその他の情報を確認できます。\n",
    "r.json()"
   ]
  },
  {
   "cell_type": "code",
   "execution_count": null,
   "metadata": {
    "execution": {
     "iopub.execute_input": "2024-07-01T22:14:02.329063Z",
     "iopub.status.busy": "2024-07-01T22:14:02.328648Z",
     "iopub.status.idle": "2024-07-01T22:14:02.344954Z",
     "shell.execute_reply": "2024-07-01T22:14:02.34377Z",
     "shell.execute_reply.started": "2024-07-01T22:14:02.329001Z"
    }
   },
   "outputs": [],
   "source": [
    "# JSONデータをフィルタリングするための例としてjqを使用します。\n",
    "# \"meanings\"フィールドを持つ要素を選択し、その内容を取得します。\n",
    "# JSONの長さが0より大きい要素を選び、最初の\"meanings\"を抽出します。\n",
    "jq.compile('select(length > 0) [][\"meanings\"]').input_value(r.json()).first()"
   ]
  },
  {
   "cell_type": "markdown",
   "id": "7f1e7ae8",
   "metadata": {},
   "source": [
    "## Bashでの代替手段\n",
    "jqはコマンドラインで使用するJSONプロセッサです。"
   ]
  },
  {
   "cell_type": "code",
   "execution_count": null,
   "metadata": {
    "execution": {
     "iopub.execute_input": "2024-07-01T22:14:02.349644Z",
     "iopub.status.busy": "2024-07-01T22:14:02.349099Z",
     "iopub.status.idle": "2024-07-01T22:14:04.264836Z",
     "shell.execute_reply": "2024-07-01T22:14:04.263389Z",
     "shell.execute_reply.started": "2024-07-01T22:14:02.349598Z"
    }
   },
   "outputs": [],
   "source": [
    "# curlコマンドを使用して、\"Wristband\"という単語の定義をAPIから取得し、jqを使って出力をフィルタリングします。\n",
    "# ここでは、取得したJSONデータから\"meanings\"を抽出します。\n",
    "!curl \"https://api.dictionaryapi.dev/api/v2/entries/en/{Wristband}\" | jq '.[][\"meanings\"]'"
   ]
  },
  {
   "cell_type": "code",
   "execution_count": null,
   "metadata": {
    "_kg_hide-output": true,
    "execution": {
     "iopub.execute_input": "2024-07-01T22:14:04.26712Z",
     "iopub.status.busy": "2024-07-01T22:14:04.266698Z",
     "iopub.status.idle": "2024-07-01T22:14:06.266644Z",
     "shell.execute_reply": "2024-07-01T22:14:06.265049Z",
     "shell.execute_reply.started": "2024-07-01T22:14:04.267083Z"
    }
   },
   "outputs": [],
   "source": [
    "# curlコマンドを使用して、\"Plate\"という単語の定義をAPIから取得し、\n",
    "# 取得したJSONデータをそのまま表示します。\n",
    "!curl \"https://api.dictionaryapi.dev/api/v2/entries/en/{Plate}\" | jq '.[]'"
   ]
  },
  {
   "cell_type": "code",
   "execution_count": null,
   "metadata": {
    "execution": {
     "iopub.execute_input": "2024-07-01T22:14:06.268974Z",
     "iopub.status.busy": "2024-07-01T22:14:06.268523Z",
     "iopub.status.idle": "2024-07-01T22:14:06.28599Z",
     "shell.execute_reply": "2024-07-01T22:14:06.284631Z",
     "shell.execute_reply.started": "2024-07-01T22:14:06.268936Z"
    }
   },
   "outputs": [],
   "source": [
    "# \"things\"カテゴリーに属するキーワードの中で、一番長いキーワードの文字数を取得します。\n",
    "# keywords DataFrameから、カテゴリーが\"things\"のキーワードを選択し、それらの長さを計算して最大値を求めます。\n",
    "keywords.loc[keywords.category == \"things\", \"keyword\"].str.len().max()"
   ]
  },
  {
   "cell_type": "code",
   "execution_count": null,
   "metadata": {
    "execution": {
     "iopub.execute_input": "2024-07-01T22:14:06.287911Z",
     "iopub.status.busy": "2024-07-01T22:14:06.287496Z",
     "iopub.status.idle": "2024-07-01T22:14:06.320227Z",
     "shell.execute_reply": "2024-07-01T22:14:06.319079Z",
     "shell.execute_reply.started": "2024-07-01T22:14:06.28788Z"
    }
   },
   "outputs": [],
   "source": [
    "# 前のバージョンからの定義を読み込みます。\n",
    "# \"things_definitions.json\"ファイルを開き、内容をJSON形式で読み込みます。\n",
    "with open(\"/kaggle/input/20questions-keywords-things-definitions/things_definitions.json\", \"r\") as f:\n",
    "    keywords_definitions = json.load(f)\n",
    "\n",
    "# 全体の\"things\"キーワードの数を表示します。\n",
    "print(len(keywords_definitions), \"things keywords total\")\n",
    "\n",
    "# 定義が見つかったキーワードだけをフィルタリングします。\n",
    "keywords_definitions = {k: v for k, v in keywords_definitions.items() if len(v) > 0}\n",
    "\n",
    "# 定義が見つかったキーワードの数を表示します。\n",
    "print(len(keywords_definitions), \"with found definitions\")\n",
    "\n",
    "# 最初のキーワードとその定義を表示します。\n",
    "next(iter(keywords_definitions.items()))"
   ]
  },
  {
   "cell_type": "code",
   "execution_count": null,
   "metadata": {
    "_kg_hide-output": true,
    "execution": {
     "iopub.execute_input": "2024-07-01T22:14:06.322289Z",
     "iopub.status.busy": "2024-07-01T22:14:06.321857Z",
     "iopub.status.idle": "2024-07-01T22:18:44.798162Z",
     "shell.execute_reply": "2024-07-01T22:18:44.797026Z",
     "shell.execute_reply.started": "2024-07-01T22:14:06.32225Z"
    },
    "scrolled": true
   },
   "outputs": [],
   "source": [
    "%%time\n",
    "# 定義生成器関数を定義します。この関数はキーワードの定義を取得し、成功した場合はその結果を返します。\n",
    "def definition_generator():\n",
    "    fail = 0  # 失敗したリクエストのカウント\n",
    "    for num, keyword in enumerate(keywords.loc[keywords.category == \"things\", \"keyword\"]):\n",
    "        r = requests.get(url_api.format(word=keyword))  # APIからキーワードの定義を取得します。\n",
    "        if keyword in keywords_definitions:  # 既に定義がある場合\n",
    "            yield keyword, keywords_definitions[keyword]  # 定義を返します。\n",
    "            continue\n",
    "        if r.status_code != 200:  # リクエストが成功しない場合\n",
    "            print(f\"Error {r.status_code=} {keyword = :30} failrate:{fail/num:.2%}\")\n",
    "            yield keyword, []  # 空のリストを返します。\n",
    "            fail += 1  # 失敗カウントを増やします。\n",
    "            continue\n",
    "        try:\n",
    "            # 成功した場合、意味を抽出して返します。\n",
    "            yield keyword, jq.compile('select(length > 0) [][\"meanings\"]').input_value(r.json()).first()\n",
    "        except (ValueError, JSONDecodeError) as e:\n",
    "            # エラーが発生した場合、エラーメッセージを表示します。\n",
    "            print(f\"{type(e).__name__} {e} parsing response {keyword = } failrate:{fail/num:.2%})\")\n",
    "            print(e)\n",
    "            fail += 1  # 失敗カウントを増やします。\n",
    "            yield keyword, []  # 空のリストを返します。\n",
    "        time.sleep(1 + random.random() / 2)  # タイムアウトを避けるためにリクエストを遅くします。\n",
    "    print(f\"{fail=} ({fail/num:.2%})\")  # 失敗率の表示\n",
    "\n",
    "# キーワードとその定義を生成します。\n",
    "things_definitions = {keyword: definitions for keyword, definitions in definition_generator()}\n",
    "\n",
    "# 取得した定義の総数を表示します。\n",
    "len(things_definitions)"
   ]
  },
  {
   "cell_type": "markdown",
   "id": "15608f41",
   "metadata": {},
   "source": [
    "# 結果\n",
    "& 保存"
   ]
  },
  {
   "cell_type": "code",
   "execution_count": null,
   "metadata": {
    "_kg_hide-output": true,
    "execution": {
     "iopub.execute_input": "2024-07-01T22:18:44.800278Z",
     "iopub.status.busy": "2024-07-01T22:18:44.79985Z",
     "iopub.status.idle": "2024-07-01T22:18:45.02794Z",
     "shell.execute_reply": "2024-07-01T22:18:45.026185Z",
     "shell.execute_reply.started": "2024-07-01T22:18:44.800239Z"
    }
   },
   "outputs": [],
   "source": [
    "# 取得した定義を\"things_definitions.json\"ファイルに保存します。\n",
    "with open(\"things_definitions.json\", \"w\") as f:\n",
    "    json.dump(things_definitions, f)\n",
    "\n",
    "# 保存した定義を表示します。\n",
    "things_definitions"
   ]
  }
 ],
 "metadata": {
  "kaggle": {
   "accelerator": "none",
   "dataSources": [
    {
     "databundleVersionId": 8550470,
     "sourceId": 61247,
     "sourceType": "competition"
    },
    {
     "sourceId": 184625227,
     "sourceType": "kernelVersion"
    },
    {
     "sourceId": 184628678,
     "sourceType": "kernelVersion"
    }
   ],
   "dockerImageVersionId": 30732,
   "isGpuEnabled": false,
   "isInternetEnabled": true,
   "language": "python",
   "sourceType": "notebook"
  },
  "kernelspec": {
   "display_name": "Python 3",
   "language": "python",
   "name": "python3"
  },
  "language_info": {
   "codemirror_mode": {
    "name": "ipython",
    "version": 3
   },
   "file_extension": ".py",
   "mimetype": "text/x-python",
   "name": "python",
   "nbconvert_exporter": "python",
   "pygments_lexer": "ipython3",
   "version": "3.10.13"
  }
 },
 "nbformat": 4,
 "nbformat_minor": 4
}
