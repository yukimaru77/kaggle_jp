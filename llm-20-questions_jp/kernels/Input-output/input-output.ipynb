{
 "cells": [
  {
   "cell_type": "markdown",
   "id": "626a249f",
   "metadata": {},
   "source": [
    "# 要約 \n",
    "このJupyter Notebookは、Kaggleの「LLM 20 Questions」コンペティションにおけるエージェントの実装とテストを行っています。コンペティションでは、参加者が制作したエージェントが「20の質問」ゲームをプレイし、正しいターゲットワードを推測する能力を競います。\n",
    "\n",
    "## 主な問題\n",
    "ノートブックは、エージェントが質問を行い、ターゲットワードを推測するという問題に取り組んでいます。このプロセスでは、エージェントはターンの種類（質問、推測、回答）に応じて適切な行動を選択しなければなりません。\n",
    "\n",
    "## 手法とライブラリ\n",
    "主に以下の手法とライブラリが使用されています：\n",
    "\n",
    "1. **エージェントの定義**：\n",
    "   - `simple_agent1`、`simple_agent2`、`simple_agent3`、`simple_agent4`という4つのシンプルなエージェントが定義されています。各エージェントは、異なる動物（アヒル、鳥、豚、牛）に関する質問を行い、その推測と回答を提供します。\n",
    "\n",
    "2. **Kaggle Environmentsライブラリ**：\n",
    "   - `kaggle_environments`ライブラリが用いられ、エージェントが対戦する「20の質問」環境がセットアップされています。`make`関数を使用して環境を作成し、ゲームの実行を可能にしています。\n",
    "\n",
    "3. **ゲームの実行**：\n",
    "   - `env.run()`を用いて、定義したエージェントを伴ったゲームの実行を行い、その結果を取得します。\n",
    "\n",
    "4. **ゲームの可視化**：\n",
    "   - `env.render()`を用いて、ゲームの進行を表示し、プレイの状態を視覚的に確認できるようにしています。\n",
    "\n",
    "このノートブックは、シンプルな質問と推測機能を持つエージェントを用いて、20の質問ゲームの基礎的な実装を採用しており、今後の発展としてより複雑な戦略や大規模な言語モデル（LLM）を組み込むことが期待されます。\n",
    "\n",
    "---\n"
   ]
  },
  {
   "cell_type": "markdown",
   "id": "efee4b01",
   "metadata": {},
   "source": [
    "# 用語概説 \n",
    "以下は、ノートブック内で使用されている専門用語に関する簡単な解説です。初心者向けの明快な説明を心がけました。\n",
    "\n",
    "1. **エージェント**:\n",
    "   - エージェントとは、特定のタスクを実行するプログラムやロジックのことを指します。このノートブックでは、プレイヤーとして質問をするエージェントと、それに答えるエージェントがいます。\n",
    "\n",
    "2. **turnType**:\n",
    "   - `turnType`は、ゲームの現在の状態やエージェントの役割を示します。具体的には、「ask」（質問する）、 「guess」（推測する）、 「answer」（回答する）という種類があります。これにより、エージェントがどのアクションを取るべきかが決まります。\n",
    "\n",
    "3. **Kaggle環境**:\n",
    "   - Kaggle環境は、Kaggleで利用するために構築された特定のシミュレーション環境のことです。この環境には、特定のゲームやタスクを実行するためのルールや設定が含まれています。このノートブックでは、「20の質問」ゲームの環境が作成されています。\n",
    "\n",
    "4. **デバッグモード**:\n",
    "   - デバッグモードは、プログラムのテストやエラー検出を容易にするための設定です。このモードでは、エラーや状態の詳細が表示され、問題の特定がしやすくなります。\n",
    "\n",
    "5. **エピソード**:\n",
    "   - エピソードは、エージェントたちがゲーム内で相互作用する一連の進行です。ゲームが始まり、ターゲットワードを推測し、ゲームが終了するまでの流れを指します。\n",
    "\n",
    "6. **状態表示**:\n",
    "   - `print(obs)`のように、状態表示は、現在のゲームの進行状況やエージェントの情報を出力することです。この情報はデバッグやエージェントの振る舞いを確認するために役立ちます。\n",
    "\n",
    "7. **オブジェクト指向プログラミング (OOP)**:\n",
    "   - Pythonのクラスやオブジェクトは、状態（データ）と振る舞い（メソッド）をまとめて管理するための手法です。このノートブックでは、特にエージェントの実装でこの手法が見られます。\n",
    "\n",
    "これらの用語は、Kaggleの「20の質問」コンペティションやこのノートブックの文脈において専門的な意味を持ちますが、初心者にとってはあまり馴染みのない内容かもしれません。\n",
    "\n",
    "---\n"
   ]
  },
  {
   "cell_type": "code",
   "execution_count": null,
   "metadata": {
    "_cell_guid": "b1076dfc-b9ad-4769-8c92-a6c4dae69d19",
    "_uuid": "8f2839f25d086af736a60e9eeb907d3b93b6e0e5",
    "execution": {
     "iopub.execute_input": "2024-06-11T10:01:36.855351Z",
     "iopub.status.busy": "2024-06-11T10:01:36.854318Z",
     "iopub.status.idle": "2024-06-11T10:01:38.210483Z",
     "shell.execute_reply": "2024-06-11T10:01:38.209041Z",
     "shell.execute_reply.started": "2024-06-11T10:01:36.855304Z"
    }
   },
   "outputs": [],
   "source": [
    "# このPython 3環境には、多くの役立つ分析ライブラリがインストールされています\n",
    "# これはkaggle/python Dockerイメージによって定義されています: https://github.com/kaggle/docker-python\n",
    "# 例えば、以下は読み込むのに役立ついくつかのパッケージです\n",
    "\n",
    "import numpy as np # 線形代数を扱うライブラリ\n",
    "import pandas as pd # データ処理、CSVファイルの入出力用ライブラリ (例: pd.read_csv)\n",
    "\n",
    "# 入力データファイルは読み取り専用の\"../input/\"ディレクトリにあります\n",
    "# 例えば、これを実行すると（実行ボタンをクリックするか、Shift+Enterを押すことで）、入力ディレクトリ内のすべてのファイルがリスト表示されます\n",
    "\n",
    "import os\n",
    "for dirname, _, filenames in os.walk('/kaggle/input'):  # 指定されたディレクトリ内のファイルを走査\n",
    "    for filename in filenames:  # 各ファイルに対して\n",
    "        print(os.path.join(dirname, filename))  # ファイルのフルパスを表示\n",
    "\n",
    "# 現在のディレクトリ（/kaggle/working/）には最大20GBまで書き込むことができ、\"Save & Run All\"を使用してバージョンを作成すると出力として保存されます\n",
    "# 一時ファイルは/kaggle/temp/に書き込むこともできますが、それらは現在のセッションの外では保存されません"
   ]
  },
  {
   "cell_type": "code",
   "execution_count": null,
   "metadata": {
    "execution": {
     "iopub.execute_input": "2024-06-11T10:01:52.852586Z",
     "iopub.status.busy": "2024-06-11T10:01:52.852042Z",
     "iopub.status.idle": "2024-06-11T10:01:52.864651Z",
     "shell.execute_reply": "2024-06-11T10:01:52.863073Z",
     "shell.execute_reply.started": "2024-06-11T10:01:52.852551Z"
    }
   },
   "outputs": [],
   "source": [
    "def simple_agent1(obs, cfg):    \n",
    "    # エージェントが質問者の場合、turnTypeが\"ask\"のとき\n",
    "    if obs.turnType == \"ask\": response = \"Is it a duck?\"  # 「それはアヒルですか？」と質問\n",
    "    elif obs.turnType == \"guess\": response = \"duck\"  # 質問の答えとして「アヒル」と推測\n",
    "    elif obs.turnType == \"answer\": response = \"no\"  # 「いいえ」と回答\n",
    "    print(obs)  # 状態を表示\n",
    "    return response  # 反応を返す\n",
    "\n",
    "def simple_agent2(obs, cfg):\n",
    "    # エージェントが質問者の場合、turnTypeが\"ask\"のとき\n",
    "    if obs.turnType == \"ask\": response = \"Is it a bird?\"  # 「それは鳥ですか？」と質問\n",
    "    elif obs.turnType == \"guess\": response = \"bird\"  # 質問の答えとして「鳥」と推測\n",
    "    elif obs.turnType == \"answer\": response = \"no\"  # 「いいえ」と回答\n",
    "    print(obs)  # 状態を表示\n",
    "    return response  # 反応を返す\n",
    "\n",
    "def simple_agent3(obs, cfg):\n",
    "    # エージェントが質問者の場合、turnTypeが\"ask\"のとき\n",
    "    if obs.turnType == \"ask\": response = \"Is it a pig?\"  # 「それは豚ですか？」と質問\n",
    "    elif obs.turnType == \"guess\": response = \"pig\"  # 質問の答えとして「豚」と推測\n",
    "    elif obs.turnType == \"answer\": response = \"no\"  # 「いいえ」と回答\n",
    "    print(obs)  # 状態を表示\n",
    "    return response  # 反応を返す\n",
    "\n",
    "def simple_agent4(obs, cfg):\n",
    "    # エージェントが質問者の場合、turnTypeが\"ask\"のとき\n",
    "    if obs.turnType == \"ask\": response = \"Is it a cow?\"  # 「それは牛ですか？」と質問\n",
    "    elif obs.turnType == \"guess\": response = \"cow\"  # 質問の答えとして「牛」と推測\n",
    "    elif obs.turnType == \"answer\": response = \"no\"  # 「いいえ」と回答\n",
    "    print(obs)  # 状態を表示\n",
    "    return response  # 反応を返す"
   ]
  },
  {
   "cell_type": "code",
   "execution_count": null,
   "metadata": {
    "execution": {
     "iopub.execute_input": "2024-06-11T10:01:57.431146Z",
     "iopub.status.busy": "2024-06-11T10:01:57.430362Z",
     "iopub.status.idle": "2024-06-11T10:02:05.395446Z",
     "shell.execute_reply": "2024-06-11T10:02:05.394241Z",
     "shell.execute_reply.started": "2024-06-11T10:01:57.431108Z"
    }
   },
   "outputs": [],
   "source": [
    "from kaggle_environments import make  # Kaggle環境を作成するためのライブラリをインポート\n",
    "env = make(environment=\"llm_20_questions\", debug=True)  # 「20の質問」環境を作成し、デバッグモードを有効にする"
   ]
  },
  {
   "cell_type": "code",
   "execution_count": null,
   "metadata": {
    "execution": {
     "iopub.execute_input": "2024-06-11T10:02:21.423343Z",
     "iopub.status.busy": "2024-06-11T10:02:21.422683Z",
     "iopub.status.idle": "2024-06-11T10:02:21.942457Z",
     "shell.execute_reply": "2024-06-11T10:02:21.941242Z",
     "shell.execute_reply.started": "2024-06-11T10:02:21.423309Z"
    }
   },
   "outputs": [],
   "source": [
    "game_output = env.run(agents=[simple_agent1, simple_agent3, simple_agent2, simple_agent4])  # エージェントたち（simple_agent1、simple_agent3、simple_agent2、simple_agent4）を使用してゲームを実行し、その出力を取得する"
   ]
  },
  {
   "cell_type": "code",
   "execution_count": null,
   "metadata": {
    "execution": {
     "iopub.execute_input": "2024-06-11T10:02:24.742418Z",
     "iopub.status.busy": "2024-06-11T10:02:24.74158Z",
     "iopub.status.idle": "2024-06-11T10:02:24.835862Z",
     "shell.execute_reply": "2024-06-11T10:02:24.834681Z",
     "shell.execute_reply.started": "2024-06-11T10:02:24.742382Z"
    }
   },
   "outputs": [],
   "source": [
    "env.render(mode=\"ipython\", width=400, height=400)  # ゲームの進行状況をIPython形式で表示し、幅と高さを400ピクセルに設定する"
   ]
  },
  {
   "cell_type": "code",
   "execution_count": null,
   "metadata": {},
   "outputs": [],
   "source": [
    "# 何もコードが入力されていません。このセルには処理が必要な内容がありません。"
   ]
  }
 ],
 "metadata": {
  "kaggle": {
   "accelerator": "none",
   "dataSources": [
    {
     "databundleVersionId": 8550470,
     "sourceId": 61247,
     "sourceType": "competition"
    }
   ],
   "dockerImageVersionId": 30732,
   "isGpuEnabled": false,
   "isInternetEnabled": true,
   "language": "python",
   "sourceType": "notebook"
  },
  "kernelspec": {
   "display_name": "Python 3",
   "language": "python",
   "name": "python3"
  },
  "language_info": {
   "codemirror_mode": {
    "name": "ipython",
    "version": 3
   },
   "file_extension": ".py",
   "mimetype": "text/x-python",
   "name": "python",
   "nbconvert_exporter": "python",
   "pygments_lexer": "ipython3",
   "version": "3.10.13"
  }
 },
 "nbformat": 4,
 "nbformat_minor": 4
}
