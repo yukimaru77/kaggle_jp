{
 "cells": [
  {
   "cell_type": "markdown",
   "id": "1af5ebce",
   "metadata": {},
   "source": [
    "# 要約 \n",
    "このJupyter Notebookは、Kaggleの「LLM 20 Questions」コンペティションにおいて、ターゲットとなる単語を推測するためのシンプルなエージェントを実装することに焦点を当てています。具体的には、エージェントはゲーム内での異なる役割（質問者または回答者）を奪い合い、ターンごとに質問や推測を行います。\n",
    "\n",
    "### 問題の内容\n",
    "コンペティションは、言葉当てゲーム「20の質問」に基づいており、エージェントは限られた質問回数の中で答えを導き出すことが求められます。このNotebookでは、一連の質問を通じてターゲット単語を推測することを目的とした複数のエージェントが設計されています。\n",
    "\n",
    "### 使用されている手法とライブラリ\n",
    "- **Python 3環境**: Jupyter Notebookは、KaggleのPython 3環境で実行されており、多くの分析ライブラリが事前にインストールされています。\n",
    "- **ライブラリ**: `numpy`（線形代数）、`pandas`（データ処理、CSVファイルの入出力）などがインポートされています。これらのライブラリはデータ処理や分析に役立ちます。\n",
    "- **Kaggle Environments**: `kaggle_environments`ライブラリが使用されており、これにより「llm_20_questions」環境が作成され、エージェントの実行とデバッグが可能となります。\n",
    "\n",
    "### 実装の概要\n",
    "- **シンプルなエージェントの実装**: エージェントは、各ターンにおいて「ask」（質問）、および「guess」（推測）することを担当します。例えば、`simple_agent1`は「それはアヒルですか？」という質問をし、その後のターンで「アヒル」と推測します。\n",
    "- **ゲームの実行**: 最後に、実装されたエージェントを用いてゲームを実行し、ゲームの状態を表示するために`env.render`が呼び出されています。\n",
    "\n",
    "このNotebookは、シンプルな戦略を持つエージェントを使用して、20の質問形式のゲームにおける基本的な推測メカニズムを示し、環境でのエージェントの相互作用を検証するためのものです。\n",
    "\n",
    "---\n"
   ]
  },
  {
   "cell_type": "markdown",
   "id": "e07166fd",
   "metadata": {},
   "source": [
    "# 用語概説 \n",
    "以下は、ノートブック内のコードセルに含まれる専門用語の簡単な解説です。初心者がつまずきそうなマイナーなものや特有のドメイン知識に焦点を当てています。\n",
    "\n",
    "1. **エージェント**:\n",
    "    - ゲーム内で行動を行うプログラムやAIのことを指します。このコンペでは質問者や回答者として振る舞い、特定の戦略に基づいて質問や推測を行います。\n",
    "\n",
    "2. **ターンの種類 (`turnType`)**:\n",
    "    - ゲームが進行する中で、エージェントが実行できる動作のタイプを表します。具体的には、質問する (`ask`)、推測する (`guess`)、答える (`answer`) の3種類があります。\n",
    "\n",
    "3. **観察情報 (`obs`)**:\n",
    "    - エージェントがゲームの状態を理解するために持っている情報です。この情報には、現在のターンの種類や過去の質問・回答などが含まれます。\n",
    "\n",
    "4. **環境 (`environment`)**:\n",
    "    - エージェントが活動する背景や設定を指します。このコンペでは、「llm_20_questions」という特定のルールに基づく環境でプレイします。\n",
    "\n",
    "5. **デバッグモード (`debug=True`)**:\n",
    "    - エラーや問題を特定するための特別なモードで、通常よりも詳細な情報を出力してくれます。プログラムの不具合を見つけたり、動作の確認を行ったりするときに役立ちます。\n",
    "\n",
    "6. **`env.run`**:\n",
    "    - 環境内でエージェント同士がゲームを実行するための関数です。設定されたエージェントを使って対戦を開始します。\n",
    "\n",
    "7. **`env.render`**:\n",
    "    - ゲームの状態や進捗を視覚的に表示するための関数です。実行中のゲームのビジュアル表現を提供します。\n",
    "\n",
    "8. **Kaggle Environments**:\n",
    "    - Kaggleが提供する、AIや機械学習のアルゴリズムをテストするための環境やフレームワークのことを指します。このライブラリを使うことで、様々なゲームやシミュレーションを簡単に実行することができます。\n",
    "\n",
    "これらの用語を理解することで、ノートブック内のコードの意味や動作をより深く理解する手助けになるでしょう。\n",
    "\n",
    "---\n"
   ]
  },
  {
   "cell_type": "code",
   "execution_count": null,
   "metadata": {
    "_cell_guid": "b1076dfc-b9ad-4769-8c92-a6c4dae69d19",
    "_uuid": "8f2839f25d086af736a60e9eeb907d3b93b6e0e5",
    "execution": {
     "iopub.execute_input": "2024-06-11T10:01:36.855351Z",
     "iopub.status.busy": "2024-06-11T10:01:36.854318Z",
     "iopub.status.idle": "2024-06-11T10:01:38.210483Z",
     "shell.execute_reply": "2024-06-11T10:01:38.209041Z",
     "shell.execute_reply.started": "2024-06-11T10:01:36.855304Z"
    }
   },
   "outputs": [],
   "source": [
    "# このPython 3環境は、多くの便利な分析ライブラリがインストールされています\n",
    "# これはkaggle/python Dockerイメージによって定義されています: https://github.com/kaggle/docker-python\n",
    "# 例えば、いくつかの便利なパッケージをロードします\n",
    "\n",
    "import numpy as np # 線形代数\n",
    "import pandas as pd # データ処理、CSVファイルの入出力 (例: pd.read_csv)\n",
    "\n",
    "# 入力データファイルは、読み取り専用の\"../input/\"ディレクトリにあります\n",
    "# 例えば、これを実行すると (実行ボタンをクリックするかShift + Enterを押すことで)、入力ディレクトリ内のすべてのファイルがリストされます\n",
    "\n",
    "import os\n",
    "for dirname, _, filenames in os.walk('/kaggle/input'):\n",
    "    for filename in filenames:\n",
    "        print(os.path.join(dirname, filename))\n",
    "\n",
    "# 現在のディレクトリ(/kaggle/working/)に最大20GBまで書き込むことができ、\n",
    "# \"すべてを保存して実行\"を使用してバージョンを作成する際に出力として保存されます\n",
    "# 一時ファイルは/kaggle/temp/に書き込むこともできますが、\n",
    "# 現在のセッションの外では保存されません。"
   ]
  },
  {
   "cell_type": "code",
   "execution_count": null,
   "metadata": {
    "execution": {
     "iopub.execute_input": "2024-06-11T10:01:52.852586Z",
     "iopub.status.busy": "2024-06-11T10:01:52.852042Z",
     "iopub.status.idle": "2024-06-11T10:01:52.864651Z",
     "shell.execute_reply": "2024-06-11T10:01:52.863073Z",
     "shell.execute_reply.started": "2024-06-11T10:01:52.852551Z"
    }
   },
   "outputs": [],
   "source": [
    "def simple_agent1(obs, cfg):    \n",
    "    # エージェントが質問者であり、ターンの種類が\"ask\"の場合\n",
    "    if obs.turnType == \"ask\": response = \"それはアヒルですか？\"\n",
    "    elif obs.turnType == \"guess\": response = \"アヒル\"\n",
    "    elif obs.turnType == \"answer\": response = \"いいえ\"\n",
    "    print(obs) # 観察情報を表示\n",
    "    return response\n",
    "\n",
    "def simple_agent2(obs, cfg):\n",
    "    # エージェントが質問者であり、ターンの種類が\"ask\"の場合\n",
    "    if obs.turnType == \"ask\": response = \"それは鳥ですか？\"\n",
    "    elif obs.turnType == \"guess\": response = \"鳥\"\n",
    "    elif obs.turnType == \"answer\": response = \"いいえ\"\n",
    "    print(obs) # 観察情報を表示\n",
    "    return response\n",
    "\n",
    "def simple_agent3(obs, cfg):\n",
    "    # エージェントが質問者であり、ターンの種類が\"ask\"の場合\n",
    "    if obs.turnType == \"ask\": response = \"それは豚ですか？\"\n",
    "    elif obs.turnType == \"guess\": response = \"豚\"\n",
    "    elif obs.turnType == \"answer\": response = \"いいえ\"\n",
    "    print(obs) # 観察情報を表示\n",
    "    return response\n",
    "\n",
    "def simple_agent4(obs, cfg):\n",
    "    # エージェントが質問者であり、ターンの種類が\"ask\"の場合\n",
    "    if obs.turnType == \"ask\": response = \"それは牛ですか？\"\n",
    "    elif obs.turnType == \"guess\": response = \"牛\"\n",
    "    elif obs.turnType == \"answer\": response = \"いいえ\"\n",
    "    print(obs) # 観察情報を表示\n",
    "    return response"
   ]
  },
  {
   "cell_type": "code",
   "execution_count": null,
   "metadata": {
    "execution": {
     "iopub.execute_input": "2024-06-11T10:01:57.431146Z",
     "iopub.status.busy": "2024-06-11T10:01:57.430362Z",
     "iopub.status.idle": "2024-06-11T10:02:05.395446Z",
     "shell.execute_reply": "2024-06-11T10:02:05.394241Z",
     "shell.execute_reply.started": "2024-06-11T10:01:57.431108Z"
    }
   },
   "outputs": [],
   "source": [
    "from kaggle_environments import make\n",
    "env = make(environment=\"llm_20_questions\", debug=True) # \"llm_20_questions\"環境を作成し、デバッグモードを有効にします"
   ]
  },
  {
   "cell_type": "code",
   "execution_count": null,
   "metadata": {
    "execution": {
     "iopub.execute_input": "2024-06-11T10:02:21.423343Z",
     "iopub.status.busy": "2024-06-11T10:02:21.422683Z",
     "iopub.status.idle": "2024-06-11T10:02:21.942457Z",
     "shell.execute_reply": "2024-06-11T10:02:21.941242Z",
     "shell.execute_reply.started": "2024-06-11T10:02:21.423309Z"
    }
   },
   "outputs": [],
   "source": [
    "game_output = env.run(agents=[simple_agent1, simple_agent3, simple_agent2, simple_agent4]) # エージェントを使ってゲームを実行します"
   ]
  },
  {
   "cell_type": "code",
   "execution_count": null,
   "metadata": {
    "execution": {
     "iopub.execute_input": "2024-06-11T10:02:24.742418Z",
     "iopub.status.busy": "2024-06-11T10:02:24.74158Z",
     "iopub.status.idle": "2024-06-11T10:02:24.835862Z",
     "shell.execute_reply": "2024-06-11T10:02:24.834681Z",
     "shell.execute_reply.started": "2024-06-11T10:02:24.742382Z"
    }
   },
   "outputs": [],
   "source": [
    "env.render(mode=\"ipython\", width=400, height=400) # ゲームの状態を表示します"
   ]
  }
 ],
 "metadata": {
  "kaggle": {
   "accelerator": "none",
   "dataSources": [
    {
     "databundleVersionId": 8550470,
     "sourceId": 61247,
     "sourceType": "competition"
    }
   ],
   "dockerImageVersionId": 30732,
   "isGpuEnabled": false,
   "isInternetEnabled": true,
   "language": "python",
   "sourceType": "notebook"
  },
  "kernelspec": {
   "display_name": "Python 3",
   "language": "python",
   "name": "python3"
  },
  "language_info": {
   "codemirror_mode": {
    "name": "ipython",
    "version": 3
   },
   "file_extension": ".py",
   "mimetype": "text/x-python",
   "name": "python",
   "nbconvert_exporter": "python",
   "pygments_lexer": "ipython3",
   "version": "3.10.13"
  }
 },
 "nbformat": 4,
 "nbformat_minor": 4
}
