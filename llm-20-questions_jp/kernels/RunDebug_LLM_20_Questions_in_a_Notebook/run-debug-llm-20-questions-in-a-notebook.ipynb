{
 "cells": [
  {
   "cell_type": "markdown",
   "id": "b67ec755",
   "metadata": {},
   "source": [
    "# 要約 \n",
    "このJupyterノートブックは、Kaggleの「LLM 20 Questions」コンペティションにおけるエージェントの開発とテストを目的としています。ノートブックでは、シンプルなエージェントをPython関数として実装し、ゲーム環境を構築する方法について説明しています。\n",
    "\n",
    "### 取り組む問題\n",
    "主な問題は、エージェントが「20の質問」ゲームを効果的にプレイできるようにすることです。具体的には、エージェントが質問する（\"ask\"）、推測する（\"guess\"）、回答する（\"answer\"）という3つのターンタイプを理解し、それに応じた適切な応答を生成する必要があります。\n",
    "\n",
    "### 使用される手法とライブラリ\n",
    "- **Kaggle Environments:** Kaggleの特定の環境を構築するために`kaggle_environments`ライブラリを使用し、`make()`関数で環境を作成しています。このライブラリは、エージェントが競争するコンペティションのルールに従った実行を可能にします。\n",
    "- **エージェントの実装:** 4つのシンプルなエージェント（`simple_agent1`, `simple_agent2`, `simple_agent3`, `simple_agent4`）が定義されており、それぞれが異なる質問を設定して回答します。エージェントは、特定の質問について「はい」または「いいえ」形式の回答を返します。\n",
    "- **デバッグおよび提出準備:** コンペティション向けにエージェントを提出するためのファイル構成や、エージェントの動作を確認する際のデバッグ方法も示されています。例えば、`main.py`やサポートファイルを作成し、提出用に圧縮します。\n",
    "\n",
    "### ゲームの実行\n",
    "ノートブックでは、作成した環境でエージェントを使用してゲームを実行し、ゲームの結果を視覚的に表示する方法も解説しています。最終的に、デバッグ用の設定を用意して、エージェントの応答を詳細に観察することができるようになっています。\n",
    "\n",
    "全体として、このノートブックは、LLMを活用したエージェント開発の基礎を学び、実装する際の便利なリファレンスとなります。また、開発プロセスの中で発生する可能性のある問題に対しても、効果的な解決策を提供しています。\n",
    "\n",
    "---\n"
   ]
  },
  {
   "cell_type": "markdown",
   "id": "e54be46c",
   "metadata": {},
   "source": [
    "# 用語概説 \n",
    "以下は、ノートブックに関連する専門用語や概念であり、機械学習・深層学習の初心者がつまずきそうなものの簡単な解説です。\n",
    "\n",
    "1. **obs (observation)**:\n",
    "   - ゲームの状況やコンテキストを表すデータ構造。エージェントがゲームの状態に基づいて判断を行うための情報を含む。具体的には、ターンタイプ、質問の履歴、キーワードなどが含まれる。\n",
    "\n",
    "2. **cfg (configuration)**:\n",
    "   - 環境の設定や動作に関するパラメータを表す。具体的にはゲームのルール、設定値、デバッグオプションなどが含まれる。エージェントが自身の動作を調整するために使用される情報。\n",
    "\n",
    "3. **turnType**:\n",
    "   - エージェントの現在のターンの種類を示す指標。通常、\"ask\" (質問)、\"guess\" (推測)、\"answer\" (回答)の3つのタイプが存在し、エージェントの行動を決定する。\n",
    "\n",
    "4. **environment**:\n",
    "   - エージェントが模擬的にゲームを行うための設定されたシステム。Kaggle環境ライブラリを利用しているため、特定のルールセットや条件が定義された状態でゲームを実行できる。\n",
    "\n",
    "5. **agent_fn**:\n",
    "   - エージェントの主な関数。ゲーム内でエージェントの行動を定義するもので、\"ask\"、\"guess\"、\"answer\"に基づいてエージェントがどのように応答するかを決定する。\n",
    "\n",
    "6. **kaggle_environments**:\n",
    "   - Kaggleが提供する環境ライブラリ。これを使うことにより、様々なコンペティションのシミュレーションを実行できる。環境の作成やエージェントの実行に役立つモジュールが含まれる。\n",
    "\n",
    "7. **submission.tar.gz**:\n",
    "   - 提出ファイルのフォーマット。コンペティションに参加するためにエージェントのコードや必要なリソースを圧縮してこの形式で提出する。\n",
    "\n",
    "8. **env.run()**:\n",
    "   - 作成した環境内でエージェントを実行する関数。指定したエージェントのリストを受け取り、ゲームを開始しその出力を得る。\n",
    "\n",
    "9. **obs.questions**:\n",
    "   - エージェントがこれまでに行った質問のリスト。推測の際に過去の質問を基に判断するために使用される。\n",
    "\n",
    "10. **debug**:\n",
    "    - コードやエージェントの動作を詳しく確認するためのモード。通常、冗長な情報を出力したり、特別な設定で環境を実行したりすることによってサポートされる。\n",
    "\n",
    "11. **episode**:\n",
    "    - 環境内での一連のゲームプレイ。通常、特定の条件が満たされるまで続くサイクルを指し、エージェントがどのように動作したかを観察・評価するための単位。\n",
    "\n",
    "これらの用語や概念はノートブックの内容に固有ではないが、特にこの競技においては理解が必要な要素です。\n",
    "\n",
    "---\n"
   ]
  },
  {
   "cell_type": "markdown",
   "id": "25203a98",
   "metadata": {},
   "source": [
    "# 環境のヒント：ノートブックでLLM 20 Questionsを実行する\n",
    "\n",
    "![robots_playing_20qs_small.png](attachment:0869cff5-c499-4b2c-bccd-227e14e8aa90.png)\n",
    "\n",
    "LLM 20 QuestionsやKaggleの環境を利用した他のコンペティションでエージェントをテストおよびデバッグするためには、ノートブックで環境を実行できることが役立ちます。以下に、役立つかもしれないヒントや説明を示します。\n",
    "\n",
    "# シンプルなエージェントの作成\n",
    "\n",
    "実験を行いたいだけの場合、エージェントはPython関数として非常にシンプルにすることができます。あなたのエージェントは、obsとcfgの2つの入力を持つ関数であり、テキストの応答を出力します。\n",
    "\n",
    "エージェントは、3つのturnTypes（\"ask\"、\"guess\"、\"answer\"）を扱える必要があります。answerの応答は「yes」または「no」でなければなりません。\n",
    "\n",
    "以下は、4つのシンプルなエージェントの例です："
   ]
  },
  {
   "cell_type": "code",
   "execution_count": null,
   "metadata": {
    "execution": {
     "iopub.execute_input": "2024-06-10T04:34:18.466594Z",
     "iopub.status.busy": "2024-06-10T04:34:18.466043Z",
     "iopub.status.idle": "2024-06-10T04:34:18.477022Z",
     "shell.execute_reply": "2024-06-10T04:34:18.475723Z",
     "shell.execute_reply.started": "2024-06-10T04:34:18.466531Z"
    }
   },
   "outputs": [],
   "source": [
    "def simple_agent1(obs, cfg):\n",
    "    # エージェントが推測者で、turnTypeが\"ask\"の場合\n",
    "    if obs.turnType == \"ask\": \n",
    "        response = \"Is it a duck?\"  # 「それはアヒルですか？」と尋ねる\n",
    "    elif obs.turnType == \"guess\": \n",
    "        response = \"duck\"  # 推測として「アヒル」と回答する\n",
    "    elif obs.turnType == \"answer\": \n",
    "        response = \"no\"  # 答えは「いいえ」であると返す\n",
    "    return response\n",
    "\n",
    "def simple_agent2(obs, cfg):\n",
    "    # エージェントが推測者で、turnTypeが\"ask\"の場合\n",
    "    if obs.turnType == \"ask\": \n",
    "        response = \"Is it a bird?\"  # 「それは鳥ですか？」と尋ねる\n",
    "    elif obs.turnType == \"guess\": \n",
    "        response = \"bird\"  # 推測として「鳥」と回答する\n",
    "    elif obs.turnType == \"answer\": \n",
    "        response = \"no\"  # 答えは「いいえ」であると返す\n",
    "    return response\n",
    "\n",
    "def simple_agent3(obs, cfg):\n",
    "    # エージェントが推測者で、turnTypeが\"ask\"の場合\n",
    "    if obs.turnType == \"ask\": \n",
    "        response = \"Is it a pig?\"  # 「それは豚ですか？」と尋ねる\n",
    "    elif obs.turnType == \"guess\": \n",
    "        response = \"pig\"  # 推測として「豚」と回答する\n",
    "    elif obs.turnType == \"answer\": \n",
    "        response = \"no\"  # 答えは「いいえ」であると返す\n",
    "    return response\n",
    "\n",
    "def simple_agent4(obs, cfg):\n",
    "    # エージェントが推測者で、turnTypeが\"ask\"の場合\n",
    "    if obs.turnType == \"ask\": \n",
    "        response = \"Is it a cow?\"  # 「それは牛ですか？」と尋ねる\n",
    "    elif obs.turnType == \"guess\": \n",
    "        response = \"cow\"  # 推測として「牛」と回答する\n",
    "    elif obs.turnType == \"answer\": \n",
    "        response = \"no\"  # 答えは「いいえ」であると返す\n",
    "    return response"
   ]
  },
  {
   "cell_type": "markdown",
   "id": "8acab5e8",
   "metadata": {},
   "source": [
    "# ゲーム環境の作成と設定\n",
    "\n",
    "Kaggleの環境は、`make()`関数を使用して作成され、*環境*の名前（`\"llm_20_questions\"`）と、*設定*や*情報*といったいくつかのオプションのデフォルトを指定します。コンペティションと同様のゲームを実行したい場合は、デフォルトをそのまま使用することができます。"
   ]
  },
  {
   "cell_type": "code",
   "execution_count": null,
   "metadata": {
    "execution": {
     "iopub.execute_input": "2024-06-10T04:34:18.479149Z",
     "iopub.status.busy": "2024-06-10T04:34:18.478752Z",
     "iopub.status.idle": "2024-06-10T04:34:18.633428Z",
     "shell.execute_reply": "2024-06-10T04:34:18.632194Z",
     "shell.execute_reply.started": "2024-06-10T04:34:18.479111Z"
    }
   },
   "outputs": [],
   "source": [
    "import kaggle_environments  # Kaggle環境ライブラリをインポートします\n",
    "env = kaggle_environments.make(environment=\"llm_20_questions\")  # \"llm_20_questions\"という環境を作成します\n",
    "# （\"No pygame installed\"というエラーは無視しても構いません）"
   ]
  },
  {
   "cell_type": "markdown",
   "id": "3e4f6c8d",
   "metadata": {},
   "source": [
    "環境を初期化すると、推測すべきキーワードが設定されます。このキーワードは、`kaggle_environments.envs.llm_20_questions.llm_20_questions.keyword`で確認したり変更したりすることができます。"
   ]
  },
  {
   "cell_type": "code",
   "execution_count": null,
   "metadata": {
    "execution": {
     "iopub.execute_input": "2024-06-10T04:34:18.635484Z",
     "iopub.status.busy": "2024-06-10T04:34:18.635023Z",
     "iopub.status.idle": "2024-06-10T04:34:18.643245Z",
     "shell.execute_reply": "2024-06-10T04:34:18.641906Z",
     "shell.execute_reply.started": "2024-06-10T04:34:18.635436Z"
    }
   },
   "outputs": [],
   "source": [
    "print(\"このセッションのキーワードは次の通りです：\")\n",
    "print(kaggle_environments.envs.llm_20_questions.llm_20_questions.keyword)  # 現在のキーワードを表示します\n",
    "print(\" \")\n",
    "print(\"いくつかのキーワードには、受け入れられる別の推測（alts）のリストがあります。\")\n",
    "print(\"このセッションのaltsのリストは次の通りです：\")\n",
    "print(kaggle_environments.envs.llm_20_questions.llm_20_questions.alts)  # 受け入れられる別の推測のリストを表示します"
   ]
  },
  {
   "cell_type": "markdown",
   "id": "4bf3f9f6",
   "metadata": {},
   "source": [
    "# LLM 20 Questionsの実行（デフォルト）\n",
    "\n",
    "作成した環境（`env`）を使用して、この環境でゲームを実行します。ゲームを実行する際には、4つのエージェントのリストを提出する必要があります：\n",
    "* \"Agent1\"（チーム1の推測者）、 \n",
    "* \"Agent2\"（チーム1の回答者）、 \n",
    "* \"Agent3\"（チーム2の推測者）、 \n",
    "* \"Agent4\"（チーム2の回答者）。 \n",
    "\n",
    "コンペティションでは、あなたは無作為にチームメイトとペアになり、推測者または回答者の役割を果たします。\n",
    "\n",
    "（私がこのコンペティションを始めたとき、誤ってあなたのエージェントがチームの推測者と回答者の両方の役割を果たすと思っていました。しかし、実際には他の人とペアになります。あなたの能力によって、無作為なパートナーとの協力がうまくいくかどうかが決まります。）"
   ]
  },
  {
   "cell_type": "code",
   "execution_count": null,
   "metadata": {
    "execution": {
     "iopub.execute_input": "2024-06-10T04:34:25.876729Z",
     "iopub.status.busy": "2024-06-10T04:34:25.875785Z",
     "iopub.status.idle": "2024-06-10T04:34:26.391224Z",
     "shell.execute_reply": "2024-06-10T04:34:26.39002Z",
     "shell.execute_reply.started": "2024-06-10T04:34:25.876691Z"
    }
   },
   "outputs": [],
   "source": [
    "%%time  # このセルの実行時間を計測します\n",
    "game_output = env.run(agents=[simple_agent1, simple_agent2, simple_agent3, simple_agent4])  # エージェントを使ってゲームを実行し、その出力を取得します"
   ]
  },
  {
   "cell_type": "markdown",
   "id": "e30337ad",
   "metadata": {},
   "source": [
    "この例のゲームは、シンプルなエージェントが即座に応答するため、迅速に完了します。しかし、大きなLLMをエージェントとして使用した実際のゲームでは、各ステップごとに1分かかることがあり、ゲーム全体が1時間かかる可能性があります！\n",
    "\n",
    "ゲームの各ステップのデータは`game_output`で確認できます。\n",
    "\n",
    "ゲームを視覚的に観察したい場合は、描画することができます。"
   ]
  },
  {
   "cell_type": "code",
   "execution_count": null,
   "metadata": {
    "execution": {
     "iopub.execute_input": "2024-06-10T04:34:32.379146Z",
     "iopub.status.busy": "2024-06-10T04:34:32.37873Z",
     "iopub.status.idle": "2024-06-10T04:34:32.475882Z",
     "shell.execute_reply": "2024-06-10T04:34:32.474457Z",
     "shell.execute_reply.started": "2024-06-10T04:34:32.379113Z"
    }
   },
   "outputs": [],
   "source": [
    "env.render(mode=\"ipython\", width=600, height=500)  # ゲームを視覚的に表示するために、IPythonモードでレンダリングします。幅600、高さ500のサイズで表示します。"
   ]
  },
  {
   "cell_type": "markdown",
   "id": "7685256b",
   "metadata": {},
   "source": [
    "# 提出可能なエージェントの作成\n",
    "\n",
    "コンペティションにエージェントを提出するには、エージェントのPythonコードを`main.py`というファイルに記述し、それをサポートファイルと一緒に`submission.tar.gz`に圧縮する必要があります。\n",
    "\n",
    "以下にシンプルな例を示します。もちろん、実際のコンペティションでは、公式のスターターノートブック（https://www.kaggle.com/code/ryanholbrook/llm-20-questions-starter-notebook）でのように、実際のLLMを使用することを望むでしょう。ノートブックでLLMエージェントを実行するには、より多くの時間とメモリが必要となるため、プレイヤー1として自分のLLMエージェントをテストする際には、プレイヤー2としてシンプルなエージェントを使用することをお勧めします。\n",
    "\n",
    "* サポートファイルを配置するためのサブディレクトリ`lib`を持つ`/kaggle/working/submission`というディレクトリを作成します。"
   ]
  },
  {
   "cell_type": "code",
   "execution_count": null,
   "metadata": {
    "execution": {
     "iopub.execute_input": "2024-06-10T04:34:43.678455Z",
     "iopub.status.busy": "2024-06-10T04:34:43.678027Z",
     "iopub.status.idle": "2024-06-10T04:34:43.685333Z",
     "shell.execute_reply": "2024-06-10T04:34:43.684059Z",
     "shell.execute_reply.started": "2024-06-10T04:34:43.678424Z"
    }
   },
   "outputs": [],
   "source": [
    "import os  # osライブラリをインポートします\n",
    "submission_directory = \"/kaggle/working/submission\"  # 提出用ディレクトリのパスを指定します\n",
    "submission_subdirectory = \"lib\"  # サブディレクトリの名前を指定します\n",
    "# メインディレクトリが存在しない場合は作成します\n",
    "if not os.path.exists(submission_directory):  \n",
    "    os.mkdir(submission_directory)  # メインディレクトリを作成します\n",
    "    subdirectory_path = os.path.join(submission_directory, submission_subdirectory)  # サブディレクトリのパスを作成します\n",
    "    os.mkdir(subdirectory_path)  # サブディレクトリを作成します"
   ]
  },
  {
   "cell_type": "code",
   "execution_count": null,
   "metadata": {
    "execution": {
     "iopub.execute_input": "2024-06-10T04:34:44.370372Z",
     "iopub.status.busy": "2024-06-10T04:34:44.369943Z",
     "iopub.status.idle": "2024-06-10T04:34:44.377094Z",
     "shell.execute_reply": "2024-06-10T04:34:44.375962Z",
     "shell.execute_reply.started": "2024-06-10T04:34:44.37034Z"
    }
   },
   "outputs": [],
   "source": [
    "# libディレクトリに保存するための例ファイルを作成します\n",
    "import csv  # csvライブラリをインポートします\n",
    "with open(os.path.join(subdirectory_path, \"example.csv\"), mode='w') as file:  # サブディレクトリ内に\"example.csv\"というファイルを作成します\n",
    "    writer = csv.writer(file)  # CSVライターオブジェクトを作成します\n",
    "    writer.writerow([\"cow\", \"horse\"])  # \"cow\"と\"horse\"というヘッダー行を書き込みます"
   ]
  },
  {
   "cell_type": "markdown",
   "id": "265927aa",
   "metadata": {},
   "source": [
    "* あなたのエージェントのための`main.py`というPythonコードを書いてください。\n",
    "* 環境は`main.py`内の最後の関数をあなたのエージェントとして使用します。この場合は`agent_fun()`です。"
   ]
  },
  {
   "cell_type": "code",
   "execution_count": null,
   "metadata": {
    "execution": {
     "iopub.execute_input": "2024-06-10T04:34:45.788411Z",
     "iopub.status.busy": "2024-06-10T04:34:45.788002Z",
     "iopub.status.idle": "2024-06-10T04:34:45.797254Z",
     "shell.execute_reply": "2024-06-10T04:34:45.795819Z",
     "shell.execute_reply.started": "2024-06-10T04:34:45.788371Z"
    }
   },
   "outputs": [],
   "source": [
    "%%writefile /kaggle/working/submission/main.py\n",
    "\n",
    "import os\n",
    "import sys\n",
    "import csv\n",
    "import random\n",
    "\n",
    "# もしlibディレクトリに他のファイル（例えばモデルの重み）を置く場合、そのパスを設定する必要があります\n",
    "KAGGLE_COMPETITION_PATH = \"/kaggle_simulations/agent/\" # コンペティションのパス\n",
    "if os.path.exists(KAGGLE_COMPETITION_PATH):  # コンペティション内で実行されている場合\n",
    "    subdirectory_path = os.path.join(KAGGLE_COMPETITION_PATH, \"lib\")  \n",
    "else:  # ノートブック内で実行されている場合\n",
    "    subdirectory_path = os.path.join(\"/kaggle/working/submission/\", \"lib\")\n",
    "sys.path.insert(0, subdirectory_path)  # サブディレクトリのパスをシステムパスに追加します\n",
    "\n",
    "# 例ファイルの読み込み\n",
    "with open(os.path.join(subdirectory_path,\"example.csv\"), mode='r') as file:  # \"example.csv\"を読み込みます\n",
    "    reader = csv.reader(file)\n",
    "    guess_list = list(reader)  # CSVの内容をリストとして取得します\n",
    "    guess_list = guess_list[0]  # 一次元リストにします\n",
    "\n",
    "# 例ファイルからランダムに\"animal\"をグローバル変数として設定します\n",
    "animal = random.choice(guess_list)\n",
    "\n",
    "# main.pyの最後の関数がエージェント関数になります\n",
    "def agent_fn(obs, cfg):\n",
    "    \n",
    "    # エージェントが推測者で、turnTypeが\"ask\"の場合\n",
    "    if obs.turnType == \"ask\":\n",
    "        response = f'Does it look like a {animal}?'  # 「それは{animal}のように見えますか？」と尋ねる\n",
    "    # エージェントが推測者で、turnTypeが\"guess\"の場合\n",
    "    elif obs.turnType == \"guess\":\n",
    "        if obs.answers[-1]==\"yes\":  # 最後の応答が「はい」の場合\n",
    "            response = animal  # 推測としてanimalを返す\n",
    "        else:\n",
    "            response = \"penguin\"  # それ以外の場合は「ペンギン」と返す\n",
    "    # エージェントが回答者の場合\n",
    "    elif obs.turnType == \"answer\":\n",
    "        if obs.keyword in obs.questions[-1]:  # キーワードが最後の質問に含まれている場合\n",
    "            response = \"yes\"  # 「はい」と返す\n",
    "        else:\n",
    "            response = \"no\"  # それ以外の場合は「いいえ」と返す\n",
    "        \n",
    "    return response  # 応答を返す"
   ]
  },
  {
   "cell_type": "markdown",
   "id": "3ca0d8f8",
   "metadata": {},
   "source": [
    "この`main.py`ファイルにはエージェントが含まれており、`/lib/example.csv`のサポートファイルと一緒に提出する準備が整いました。"
   ]
  },
  {
   "cell_type": "code",
   "execution_count": null,
   "metadata": {
    "execution": {
     "iopub.execute_input": "2024-06-10T04:34:47.723136Z",
     "iopub.status.busy": "2024-06-10T04:34:47.722698Z",
     "iopub.status.idle": "2024-06-10T04:34:57.136564Z",
     "shell.execute_reply": "2024-06-10T04:34:57.134906Z",
     "shell.execute_reply.started": "2024-06-10T04:34:47.723102Z"
    }
   },
   "outputs": [],
   "source": [
    "!apt install pigz pv > /dev/null  # pigzとpvをインストールします（出力を抑制します）\n",
    "!tar --use-compress-program='pigz --fast --recursive | pv' -cf submission.tar.gz -C /kaggle/working/submission .  # 提出ファイルを圧縮してsubmission.tar.gzを作成します"
   ]
  },
  {
   "cell_type": "markdown",
   "id": "da4179b7",
   "metadata": {},
   "source": [
    "\n",
    "\n",
    "このJupyterノートブックから`main.py`のエージェントをチーム1の両プレイヤーとして実行できます。また、チーム2にはsimple_agent3とsimple_agent4を使用します。"
   ]
  },
  {
   "cell_type": "code",
   "execution_count": null,
   "metadata": {
    "execution": {
     "iopub.execute_input": "2024-06-10T04:35:25.42841Z",
     "iopub.status.busy": "2024-06-10T04:35:25.426862Z",
     "iopub.status.idle": "2024-06-10T04:35:26.014335Z",
     "shell.execute_reply": "2024-06-10T04:35:26.012802Z",
     "shell.execute_reply.started": "2024-06-10T04:35:25.428367Z"
    }
   },
   "outputs": [],
   "source": [
    "game_output = env.run(agents=[\"/kaggle/working/submission/main.py\", \"/kaggle/working/submission/main.py\", simple_agent3, simple_agent4])  # チーム1の2人のプレイヤーとしてmain.pyエージェントを実行し、チーム2にはsimple_agent3とsimple_agent4を使用します\n",
    "env.render(mode=\"ipython\", width=600, height=500)  # ゲームの結果を視覚的に表示します"
   ]
  },
  {
   "cell_type": "markdown",
   "id": "265434f1",
   "metadata": {},
   "source": [
    "# デバッグのヒント\n",
    "\n",
    "デザインやデバッグを行う際には、環境を作成する際にいくつかのオプション引数を変更したいことが通常です。これには以下が含まれます：\n",
    "\n",
    "`env = make(environment, configuration=None, info=None, steps=None, logs=None, debug=False, state=None)`\n",
    "\n",
    "`env.specification`で仕様を確認すると、環境内で定義されている`configuration`や他のオブジェクトについて学ぶことができます。その中には説明とデフォルト値が示されています。\n",
    "\n",
    "新しいエージェントに取り組む際には、構成を変更して少ないステップで短いエピソードを実行することをお勧めします。また、`debug=True`を設定することで、エージェントによって印刷される冗長な出力を確認できます。\n",
    "\n",
    "ここにデバッグに適した新しい環境があります。"
   ]
  },
  {
   "cell_type": "code",
   "execution_count": null,
   "metadata": {
    "execution": {
     "iopub.execute_input": "2024-06-10T04:35:52.124862Z",
     "iopub.status.busy": "2024-06-10T04:35:52.124311Z",
     "iopub.status.idle": "2024-06-10T04:35:52.277817Z",
     "shell.execute_reply": "2024-06-10T04:35:52.276254Z",
     "shell.execute_reply.started": "2024-06-10T04:35:52.124819Z"
    }
   },
   "outputs": [],
   "source": [
    "# デバッグ用に、2ラウンドだけでゲームをプレイします\n",
    "debug_config = {'episodeSteps': 7,     # 初期ステップに加えて、ラウンドごとに3ステップ（質問/回答/推測）\n",
    "                'actTimeout': 5,       # ラウンドごとのエージェントのタイムアウト（秒）；デフォルトは60\n",
    "                'runTimeout': 60,      # エピソードの最大実行時間（秒）；デフォルトは1200\n",
    "                'agentTimeout': 3600}  # 廃止されたフィールド；デフォルトは3600\n",
    "\n",
    "env = kaggle_environments.make(\"llm_20_questions\", configuration=debug_config, debug=True)  # デバッグ設定で環境を作成します"
   ]
  },
  {
   "cell_type": "markdown",
   "id": "4fc961fa",
   "metadata": {},
   "source": [
    "注意してください。このセッションでは、すでに推測すべきキーワードが設定されています。ですので、別のゲームを実行すると、同じキーワードを推測することになります！"
   ]
  },
  {
   "cell_type": "code",
   "execution_count": null,
   "metadata": {
    "execution": {
     "iopub.execute_input": "2024-06-10T04:36:52.894928Z",
     "iopub.status.busy": "2024-06-10T04:36:52.894491Z",
     "iopub.status.idle": "2024-06-10T04:36:52.901283Z",
     "shell.execute_reply": "2024-06-10T04:36:52.900033Z",
     "shell.execute_reply.started": "2024-06-10T04:36:52.894894Z"
    }
   },
   "outputs": [],
   "source": [
    "print(kaggle_environments.envs.llm_20_questions.llm_20_questions.keyword)  # 現在のキーワードを表示します"
   ]
  },
  {
   "cell_type": "markdown",
   "id": "7111ce2a",
   "metadata": {},
   "source": [
    "デバッグを行う際には、キーワードを手動で設定したり、キーワードリストからランダムに選択したりすることが望ましい場合があります。"
   ]
  },
  {
   "cell_type": "code",
   "execution_count": null,
   "metadata": {
    "execution": {
     "iopub.execute_input": "2024-06-10T04:37:15.519578Z",
     "iopub.status.busy": "2024-06-10T04:37:15.519136Z",
     "iopub.status.idle": "2024-06-10T04:37:15.525976Z",
     "shell.execute_reply": "2024-06-10T04:37:15.524776Z",
     "shell.execute_reply.started": "2024-06-10T04:37:15.519521Z"
    }
   },
   "outputs": [],
   "source": [
    "keyword = \"Duck\"  # キーワードを「Duck」に設定します\n",
    "alts = [\"The Duck\", \"A Duck\"]  # 受け入れられる別の推測のリストを設定します\n",
    "kaggle_environments.envs.llm_20_questions.llm_20_questions.category = \"Example\"  # カテゴリーを「Example」に設定します\n",
    "kaggle_environments.envs.llm_20_questions.llm_20_questions.keyword_obj = {'keyword': keyword, 'alts': alts}  # キーワードオブジェクトを設定します\n",
    "kaggle_environments.envs.llm_20_questions.llm_20_questions.keyword = keyword  # キーワードを設定します\n",
    "kaggle_environments.envs.llm_20_questions.llm_20_questions.alts = alts  # 受け入れられる推測のリストを設定します"
   ]
  },
  {
   "cell_type": "markdown",
   "id": "b5c789f3",
   "metadata": {},
   "source": [
    "エージェントがデバッグ用にいくつかの情報を印刷できるようにします。`obs`内で利用可能な情報を示すために、シンプルエージェント1に印刷文を追加しました。"
   ]
  },
  {
   "cell_type": "code",
   "execution_count": null,
   "metadata": {
    "execution": {
     "iopub.execute_input": "2024-06-10T04:37:17.014254Z",
     "iopub.status.busy": "2024-06-10T04:37:17.01382Z",
     "iopub.status.idle": "2024-06-10T04:37:17.021839Z",
     "shell.execute_reply": "2024-06-10T04:37:17.020624Z",
     "shell.execute_reply.started": "2024-06-10T04:37:17.014222Z"
    }
   },
   "outputs": [],
   "source": [
    "def simple_verbose_agent1(obs, cfg):\n",
    "    \n",
    "    # エージェントが推測者で、turnTypeが\"ask\"の場合\n",
    "    if obs.turnType == \"ask\":\n",
    "        response = \"Is it a duck?\"  # 「それはアヒルですか？」と尋ねる\n",
    "    # エージェントが推測者で、turnTypeが\"guess\"の場合\n",
    "    elif obs.turnType == \"guess\":\n",
    "        response = \"duck\"  # 推測として「アヒル」と回答する\n",
    "    # エージェントが回答者の場合\n",
    "    elif obs.turnType == \"answer\":\n",
    "        response = \"no\"  # 答えは「いいえ」であると返す\n",
    "    \n",
    "    # デバッグ情報を印刷します\n",
    "    print(\"====================\")\n",
    "    print(f\"step = {obs.step}\")  # 現在のステップを表示します\n",
    "    print(f\"turnType = {obs.turnType}\")  # 現在のターンタイプを表示します\n",
    "    print(\"obs =\")  # obsの内容を表示します\n",
    "    print(obs)  \n",
    "    print(\" \")\n",
    "    print(f'response = \"{response}\"')  # 応答を表示します\n",
    "    \n",
    "    return response  # 応答を返す"
   ]
  },
  {
   "cell_type": "markdown",
   "id": "7c654167",
   "metadata": {},
   "source": [
    "simple_verbose_agent1をチーム1の両プレイヤーとして配置することで、3つのターンタイプ（質問/推測/回答）それぞれを観察することができます。"
   ]
  },
  {
   "cell_type": "code",
   "execution_count": null,
   "metadata": {
    "execution": {
     "iopub.execute_input": "2024-06-10T04:37:18.855588Z",
     "iopub.status.busy": "2024-06-10T04:37:18.854684Z",
     "iopub.status.idle": "2024-06-10T04:37:19.019973Z",
     "shell.execute_reply": "2024-06-10T04:37:19.018703Z",
     "shell.execute_reply.started": "2024-06-10T04:37:18.855551Z"
    }
   },
   "outputs": [],
   "source": [
    "game_output = env.run(agents=[simple_verbose_agent1, simple_verbose_agent1, simple_agent3, \"/kaggle/working/submission/main.py\"])  # チーム1の両プレイヤーにsimple_verbose_agent1を使用し、チーム2にはsimple_agent3とmain.pyエージェントを使用してゲームを実行します。"
   ]
  },
  {
   "cell_type": "code",
   "execution_count": null,
   "metadata": {
    "execution": {
     "iopub.execute_input": "2024-06-10T04:37:36.703326Z",
     "iopub.status.busy": "2024-06-10T04:37:36.702575Z",
     "iopub.status.idle": "2024-06-10T04:37:36.719951Z",
     "shell.execute_reply": "2024-06-10T04:37:36.718563Z",
     "shell.execute_reply.started": "2024-06-10T04:37:36.703292Z"
    }
   },
   "outputs": [],
   "source": [
    "env.render(mode=\"ipython\", width=600, height=500)  # ゲームの結果を視覚的に表示します。"
   ]
  },
  {
   "cell_type": "markdown",
   "id": "3b88647d",
   "metadata": {},
   "source": [
    "---\n",
    "\n",
    "# コメント\n",
    "\n",
    "> ## bluekeroro\n",
    "> \n",
    "> [@rturley](https://www.kaggle.com/rturley) 共有してくれてありがとう！！ですが、llm_20_questions.pyとllm_20_questions.jsの2つの入力データファイルはどのように機能するのか、少し質問があります。\n",
    "> \n",
    "> \n",
    "> > ## RS TurleyTopic Author\n",
    "> > \n",
    "> > どういたしまして！\n",
    "> > \n",
    "> > それらはコンペティションに付属する標準のファイルです。上記の例のノートブックでは直接使用されていません。\n",
    "> > \n",
    "> > しかし、それらはkaggle_environmentsからこの特定の環境を実行するために必要なコンポーネントであるため、デバッグの際に参照するのに役立ちます。例えば、GitHubリポジトリで確認できます（[https://github.com/Kaggle/kaggle-environments/tree/master/kaggle_environments/envs/llm_20_questions](https://github.com/Kaggle/kaggle-environments/tree/master/kaggle_environments/envs/llm_20_questions)）。\n",
    "> > \n",
    "> > 特に：\n",
    "> > \n",
    "> > - llm_20_questions.pyにはゲームのメインコードが含まれており、大文字と小文字が重要かどうかなどの詳細を確認できます。\n",
    "> > \n",
    "> > - llm_20_questions.jsには過去のゲームをレンダリングするためのJavaScriptが含まれています。以前のKaggle環境コンペティションでは、エージェントの視覚的動作を観察する際に追加情報を表示するためにデフォルトのレンダリングを変更することが時々有用でしたが、今回はテキストを印刷することがより役立つと思います。\n",
    "> > \n",
    "> > \n",
    "> > > ## bluekeroro\n",
    "> > > \n",
    "> > > わかりました。親切で詳細な説明をありがとうございます。\n",
    "> > > \n",
    "> > > \n",
    "> > > \n",
    "\n",
    "---\n",
    "\n",
    "> ## Matin Mahmoudi ✨\n",
    "> \n",
    "> あなたのノートブックは魅力的なアプローチを提供していますね、[@rturley](https://www.kaggle.com/rturley)。インタラクティブな要素と明確な説明により、非常にユーザーフレンドリーです。素晴らしい友人！\n",
    "> \n",
    "> \n",
    "\n",
    "---\n",
    "\n",
    "> ## Payam Amanat\n",
    "> \n",
    "> 有益で非常に役立つノートブックですね、[@rturley](https://www.kaggle.com/rturley)。共有してくれてありがとうございます。\n",
    "> \n",
    "> あなたのノートブックについての意見を知ることができると素晴らしいです。\n",
    "> \n",
    "> \n",
    "\n",
    "---\n",
    "\n",
    "> ## Zeeshan Latif\n",
    "> \n",
    "> [@rturley](https://www.kaggle.com/rturley) あなたの詳細で明確なプレゼンテーションは非常に有益です。ありがとうございます！\n",
    "> \n",
    "> \n",
    "> > ## RS TurleyTopic Author\n",
    "> > \n",
    "> > 役に立てて嬉しいです！\n",
    "> > \n",
    "> > \n",
    "> \n"
   ]
  }
 ],
 "metadata": {
  "kaggle": {
   "accelerator": "none",
   "dataSources": [
    {
     "databundleVersionId": 8550470,
     "sourceId": 61247,
     "sourceType": "competition"
    }
   ],
   "dockerImageVersionId": 30699,
   "isGpuEnabled": false,
   "isInternetEnabled": true,
   "language": "python",
   "sourceType": "notebook"
  },
  "kernelspec": {
   "display_name": "Python 3",
   "language": "python",
   "name": "python3"
  },
  "language_info": {
   "codemirror_mode": {
    "name": "ipython",
    "version": 3
   },
   "file_extension": ".py",
   "mimetype": "text/x-python",
   "name": "python",
   "nbconvert_exporter": "python",
   "pygments_lexer": "ipython3",
   "version": "3.10.13"
  }
 },
 "nbformat": 4,
 "nbformat_minor": 4
}
