{
 "cells": [
  {
   "cell_type": "markdown",
   "id": "3e8057d0",
   "metadata": {},
   "source": [
    "# 要約 \n",
    "このJupyter Notebookは、Kaggleの「LLM 20 Questions」競技用エージェントの作成とテストに焦点を当てています。具体的には、LLM 20 Questionsゲームを実行するための簡単なエージェントを設計し、環境をセットアップする方法を説明しています。\n",
    "\n",
    "### 問題の概要\n",
    "「LLM 20 Questions」は、2対2のチーム戦における言葉当てゲームで、参加者は20の制限された質問を通じて正解を推測します。このノートブックでは、Kaggle環境でこのゲームをシミュレーションし、エージェントの動作や応答をテストするための方法を提供しています。\n",
    "\n",
    "### 解決手法\n",
    "ノートブックでは、以下の主要なステップでエージェントを作成し、それをテストしています。\n",
    "1. **シンプルなエージェントの構築**: Pythonの関数を使用して、観察（obs）と設定（cfg）を入力とし、ターンタイプに応じた応答を生成する4つのシンプルなエージェントを定義しています（例：simple_agent1, simple_agent2 など）。\n",
    "2. **環境の初期化**: Kaggleの環境を「llm_20_questions」を使用して作成し、キーワードや代替キーワードの設定を確認・変更する方法を示しています。\n",
    "3. **ゲームの実行**: 定義したエージェントを使用してゲームを実行し、実際のゲームプレイのアウトプットを取得します。\n",
    "4. **提出可能なエージェントの準備**: エージェントのPythonコードを「main.py」に書き込み、サポートファイルと一緒にアーカイブ化して提出する方法を説明しています。\n",
    "\n",
    "### 使用ライブラリ\n",
    "- **kaggle_environments**: このライブラリを用いて、Kaggle環境のセットアップ、エージェントの動作をシミュレーションし、ゲームを実行しています。\n",
    "\n",
    "### デバッグと設定\n",
    "また、デバッグのためのヒントも含まれており、エージェントがどのように動作しているのかを詳細にチェックする方法、ゲーム実行時の設定変更方法なども説明しています。各エージェントのステップや実行結果を視覚的に観察するためのレンダリング機能も提案されています。\n",
    "\n",
    "このノートブックは、初めてLLM 20 Questionsに取り組むユーザーに対して、エージェントの設計と環境の設定に関する実践的なガイドを提供するものです。\n",
    "\n",
    "---\n"
   ]
  },
  {
   "cell_type": "markdown",
   "id": "753f4d70",
   "metadata": {},
   "source": [
    "# 用語概説 \n",
    "以下は、提示されたJupyterノートブックの内容に基づいて、機械学習・深層学習の初心者がつまずきそうな専門用語の解説です。\n",
    "\n",
    "### 1. エージェント (Agent)\n",
    "エージェントとは、特定の環境内で行動をする自律的な存在です。このコンペティションでは、質問者エージェントと回答者エージェントがあり、前者は「質問をする」役割、後者はその質問に「はい」または「いいえ」で答える役割を担います。\n",
    "\n",
    "### 2. ターンタイプ (turnType)\n",
    "「ask」「guess」「answer」の３つの動作を定義するために用いる分類です。各エージェントは、現在のターンタイプに応じた行動（質問、推測、応答）をする必要があります。この概念は、ゲームの進行を管理する上で不可欠です。\n",
    "\n",
    "### 3. 環境 (Environment)\n",
    "ここではKaggleのコンペティションにおける設定を指します。エージェントが動作するためのルールや状態を定義したもので、`kaggle_environments`ライブラリを使用して生成されます。この環境が与えられることで、エージェントは相互作用を持つことができます。\n",
    "\n",
    "### 4. シャッフル (shuffle)\n",
    "通常、エージェントの行動をランダム化する技法ですが、この文脈では特にチームメイトとのペアリングを無作為に行うことを指す場合があります。この方法は、コンペティション全体に公平性をもたらすために重要です。\n",
    "\n",
    "### 5. デバッグ (Debug)\n",
    "プログラムのエラーを検出・修正するプロセスです。このノートブックでは、特にエージェントの出力を観察し、ゲームが期待通りに機能しているかを確認するために用いられます。`debug=True`オプションがその一環として指定されています。\n",
    "\n",
    "### 6. エピソード (Episode)\n",
    "エピソードは、エージェントの行動の1回の実行を指し、通常、ゲームのラウンド全体で構成されます。Kaggle環境では、エピソードが終了したときに結果やスコアを記録します。\n",
    "\n",
    "### 7. サポートファイル (Support Files)\n",
    "エージェント動作に必要な補助的なデータファイルです。このノートブックでは、`example.csv`のように、推測に使う動物のリストを含むファイルを指します。これにより、エージェントが柔軟に選択肢を持つことができます。\n",
    "\n",
    "### 8. コンフィギュレーション (Configuration)\n",
    "環境がどのように動作するかを設定するためのパラメータです。例えば、ラウンドの最大数やタイムアウトの制限を指定します。適切な設定により、エージェントのパフォーマンスを最適化できます。\n",
    "\n",
    "### 9. リダイレクト (Redirection)\n",
    "プログラム内でデータの出力先を変更することです。例えば、エージェントのデバッグ情報を表示する際に用いるprint文を使って、標準出力ではなく別の場所に表示させることができます。\n",
    "\n",
    "### 10. レンダリング (Rendering)\n",
    "エージェントやゲームの状態を視覚的に示すことです。このノートブックでは、エージェントの進行状況やゲーム結果をグラフィカルに表示し、ユーザーが理解しやすい形式で情報を得るために使います。\n",
    "\n",
    "これらの用語は、特に実務の経験が少ない初心者にとって、理解するのが難しいかもしれませんが、各用語の背景や文脈を理解することで、より深い理解が得られるでしょう。\n",
    "\n",
    "---\n"
   ]
  },
  {
   "cell_type": "markdown",
   "id": "e96cf3e1",
   "metadata": {},
   "source": [
    "# 環境のヒント：ノートブックでLLM 20 Questionsを実行する方法\n",
    "\n",
    "![robots_playing_20qs_small.png](attachment:0869cff5-c499-4b2c-bccd-227e14e8aa90.png)\n",
    "\n",
    "LLM 20 QuestionsやKaggle環境を使用した他のコンペティションでエージェントをテストしデバッグするためには、ノートブック上で環境を実行できることが便利です。ここでは、役立つかもしれないヒントと説明を示します。\n",
    "\n",
    "# 簡単なエージェントを作成する\n",
    "\n",
    "もし実験したいだけなら、エージェントはPythonの関数としてとてもシンプルに作ることができます。エージェントは、obs（観察）とcfg（設定）という2つの入力を持ち、テキストの応答を出力します。\n",
    "\n",
    "エージェントは、3つのturnTypes（\"ask\"、\"guess\"、\"answer\"）に対応できる必要があります。「answer」としての応答は「yes」または「no」でなければなりません。\n",
    "\n",
    "以下に4つの簡単なエージェントの例を示します。\n"
   ]
  },
  {
   "cell_type": "code",
   "execution_count": null,
   "metadata": {
    "execution": {
     "iopub.execute_input": "2024-06-10T04:34:18.466594Z",
     "iopub.status.busy": "2024-06-10T04:34:18.466043Z",
     "iopub.status.idle": "2024-06-10T04:34:18.477022Z",
     "shell.execute_reply": "2024-06-10T04:34:18.475723Z",
     "shell.execute_reply.started": "2024-06-10T04:34:18.466531Z"
    }
   },
   "outputs": [],
   "source": [
    "def simple_agent1(obs, cfg):\n",
    "    # エージェントが推測者で、turnTypeが\"ask\"の場合\n",
    "    if obs.turnType == \"ask\": response = \"それはアヒルですか？\"\n",
    "    elif obs.turnType == \"guess\": response = \"アヒル\"\n",
    "    elif obs.turnType == \"answer\": response = \"いいえ\"\n",
    "    return response\n",
    "\n",
    "def simple_agent2(obs, cfg):\n",
    "    # エージェントが推測者で、turnTypeが\"ask\"の場合\n",
    "    if obs.turnType == \"ask\": response = \"それは鳥ですか？\"\n",
    "    elif obs.turnType == \"guess\": response = \"鳥\"\n",
    "    elif obs.turnType == \"answer\": response = \"いいえ\"\n",
    "    return response\n",
    "\n",
    "def simple_agent3(obs, cfg):\n",
    "    # エージェントが推測者で、turnTypeが\"ask\"の場合\n",
    "    if obs.turnType == \"ask\": response = \"それは豚ですか？\"\n",
    "    elif obs.turnType == \"guess\": response = \"豚\"\n",
    "    elif obs.turnType == \"answer\": response = \"いいえ\"\n",
    "    return response\n",
    "\n",
    "def simple_agent4(obs, cfg):\n",
    "    # エージェントが推測者で、turnTypeが\"ask\"の場合\n",
    "    if obs.turnType == \"ask\": response = \"それは牛ですか？\"\n",
    "    elif obs.turnType == \"guess\": response = \"牛\"\n",
    "    elif obs.turnType == \"answer\": response = \"いいえ\"\n",
    "    return response"
   ]
  },
  {
   "cell_type": "markdown",
   "id": "cf4b5a15",
   "metadata": {},
   "source": [
    "# ゲーム環境を作成して設定する\n",
    "\n",
    "Kaggle環境は、`make()`関数を用いて、*環境*名（`\"llm_20_questions\"`）といくつかのオプション設定、例えば*configuration*や*info*で作成されます。競技と同じようにゲームを実行したい場合は、デフォルト設定を使用するだけで十分です。\n"
   ]
  },
  {
   "cell_type": "code",
   "execution_count": null,
   "metadata": {
    "execution": {
     "iopub.execute_input": "2024-06-10T04:34:18.479149Z",
     "iopub.status.busy": "2024-06-10T04:34:18.478752Z",
     "iopub.status.idle": "2024-06-10T04:34:18.633428Z",
     "shell.execute_reply": "2024-06-10T04:34:18.632194Z",
     "shell.execute_reply.started": "2024-06-10T04:34:18.479111Z"
    }
   },
   "outputs": [],
   "source": [
    "import kaggle_environments\n",
    "env = kaggle_environments.make(environment=\"llm_20_questions\")\n",
    "# （\"No pygame installed\"というエラーは無視できます）"
   ]
  },
  {
   "cell_type": "markdown",
   "id": "6d8d6e5e",
   "metadata": {},
   "source": [
    "環境を初期化すると、推測すべきキーワードが設定されます。これを`kaggle_environments.envs.llm_20_questions.llm_20_questions.keyword`で確認したり変更したりできます。\n"
   ]
  },
  {
   "cell_type": "code",
   "execution_count": null,
   "metadata": {
    "execution": {
     "iopub.execute_input": "2024-06-10T04:34:18.635484Z",
     "iopub.status.busy": "2024-06-10T04:34:18.635023Z",
     "iopub.status.idle": "2024-06-10T04:34:18.643245Z",
     "shell.execute_reply": "2024-06-10T04:34:18.641906Z",
     "shell.execute_reply.started": "2024-06-10T04:34:18.635436Z"
    }
   },
   "outputs": [],
   "source": [
    "print(\"このセッションのキーワードは: \")\n",
    "print(kaggle_environments.envs.llm_20_questions.llm_20_questions.keyword)\n",
    "print(\" \")\n",
    "print(\"一部のキーワードには、代替の推測（alts）のリストがある場合があります。\")\n",
    "print(\"このセッションの代替キーワードのリストは:\")\n",
    "print(kaggle_environments.envs.llm_20_questions.llm_20_questions.alts)"
   ]
  },
  {
   "cell_type": "markdown",
   "id": "e0f7a301",
   "metadata": {},
   "source": [
    "# LLM 20 Questionsを実行する（デフォルト）\n",
    "\n",
    "作成した環境（`env`）を使って、ゲームをこの環境で実行します。ゲームを実行する際には、4つのエージェントのリストを提出する必要があります：\n",
    "* \"Agent1\"（チーム1の推測者）、 \n",
    "* \"Agent2\"（チーム1の回答者）、 \n",
    "* \"Agent3\"（チーム2の推測者）、 \n",
    "* \"Agent4\"（チーム2の回答者）。 \n",
    "\n",
    "競技では、ランダムにチームメイトとペアになり、推測者または回答者のいずれかの役割を担当します。\n",
    "\n",
    "（最初にこのコンペティションを始めたとき、私はエージェントがチームのために推測者と回答者の両方の役割を果たすと思い込んでいました。しかし、競技では他の誰かとペアになります。協力する能力によって、良い結果や悪い結果が決まります。）\n"
   ]
  },
  {
   "cell_type": "code",
   "execution_count": null,
   "metadata": {
    "execution": {
     "iopub.execute_input": "2024-06-10T04:34:25.876729Z",
     "iopub.status.busy": "2024-06-10T04:34:25.875785Z",
     "iopub.status.idle": "2024-06-10T04:34:26.391224Z",
     "shell.execute_reply": "2024-06-10T04:34:26.39002Z",
     "shell.execute_reply.started": "2024-06-10T04:34:25.876691Z"
    }
   },
   "outputs": [],
   "source": [
    "%%time\n",
    "game_output = env.run(agents=[simple_agent1, simple_agent2, simple_agent3, simple_agent4])"
   ]
  },
  {
   "cell_type": "markdown",
   "id": "881f2d7e",
   "metadata": {},
   "source": [
    "この例では、ゲームがすぐに完了します。なぜなら、シンプルなエージェントは即座に応答するからです。実際のゲームでは、大規模なLLMをエージェントとして使用する場合、各ステップに1分かかることもあるため、総ゲーム時間が1時間かかることがあります！\n",
    "\n",
    "ゲームの各ステップからのデータは`game_output`で確認できます。\n",
    "\n",
    "ゲームを視覚的に観察したい場合は、レンダリングすることができます。\n"
   ]
  },
  {
   "cell_type": "code",
   "execution_count": null,
   "metadata": {
    "execution": {
     "iopub.execute_input": "2024-06-10T04:34:32.379146Z",
     "iopub.status.busy": "2024-06-10T04:34:32.37873Z",
     "iopub.status.idle": "2024-06-10T04:34:32.475882Z",
     "shell.execute_reply": "2024-06-10T04:34:32.474457Z",
     "shell.execute_reply.started": "2024-06-10T04:34:32.379113Z"
    }
   },
   "outputs": [],
   "source": [
    "env.render(mode=\"ipython\", width=600, height=500)"
   ]
  },
  {
   "cell_type": "markdown",
   "id": "0447a736",
   "metadata": {},
   "source": [
    "# 提出可能なエージェントを作成する\n",
    "\n",
    "コンペティションにエージェントを提出するには、エージェントのPythonコードを`main.py`というファイルに書き込み、このファイルとサポートファイルを`submission.tar.gz`にまとめる必要があります。\n",
    "\n",
    "以下は簡単な例です。もちろん、実際のコンペティションでは、公式スターターノートブックで使用されるような実際のLLMを使いたいでしょう（https://www.kaggle.com/code/ryanholbrook/llm-20-questions-starter-notebook）。ノートブックでLLMエージェントを実行すると、より多くの時間とメモリが必要になるため、プレイヤー1としてLLMエージェントをテストする場合は、プレイヤー2にシンプルなエージェントを配置することをお勧めします。\n",
    "\n",
    "* サポートファイルを配置するための`/kaggle/working/submission`ディレクトリを作成し、その中に`lib`というサブディレクトリを作成します。\n"
   ]
  },
  {
   "cell_type": "code",
   "execution_count": null,
   "metadata": {
    "execution": {
     "iopub.execute_input": "2024-06-10T04:34:43.678455Z",
     "iopub.status.busy": "2024-06-10T04:34:43.678027Z",
     "iopub.status.idle": "2024-06-10T04:34:43.685333Z",
     "shell.execute_reply": "2024-06-10T04:34:43.684059Z",
     "shell.execute_reply.started": "2024-06-10T04:34:43.678424Z"
    }
   },
   "outputs": [],
   "source": [
    "import os\n",
    "submission_directory = \"/kaggle/working/submission\"\n",
    "submission_subdirectory = \"lib\"\n",
    "# メインディレクトリが存在しない場合は作成します\n",
    "if not os.path.exists(submission_directory):\n",
    "    os.mkdir(submission_directory)\n",
    "    subdirectory_path = os.path.join(submission_directory, submission_subdirectory)\n",
    "    os.mkdir(subdirectory_path)"
   ]
  },
  {
   "cell_type": "code",
   "execution_count": null,
   "metadata": {
    "execution": {
     "iopub.execute_input": "2024-06-10T04:34:44.370372Z",
     "iopub.status.busy": "2024-06-10T04:34:44.369943Z",
     "iopub.status.idle": "2024-06-10T04:34:44.377094Z",
     "shell.execute_reply": "2024-06-10T04:34:44.375962Z",
     "shell.execute_reply.started": "2024-06-10T04:34:44.37034Z"
    }
   },
   "outputs": [],
   "source": [
    "# libディレクトリに保存するための例ファイルを作成します\n",
    "import csv\n",
    "with open(os.path.join(subdirectory_path, \"example.csv\"),mode='w') as file:\n",
    "    writer = csv.writer(file)\n",
    "    writer.writerow([\"牛\", \"馬\"])"
   ]
  },
  {
   "cell_type": "markdown",
   "id": "32c55d67",
   "metadata": {},
   "source": [
    "* エージェントのための`main.py`のPythonコードを書く\n",
    "* 環境は`main.py`の最後の関数をエージェントとして使用します。この例では`agent_fun()`です。\n"
   ]
  },
  {
   "cell_type": "code",
   "execution_count": null,
   "metadata": {
    "execution": {
     "iopub.execute_input": "2024-06-10T04:34:45.788411Z",
     "iopub.status.busy": "2024-06-10T04:34:45.788002Z",
     "iopub.status.idle": "2024-06-10T04:34:45.797254Z",
     "shell.execute_reply": "2024-06-10T04:34:45.795819Z",
     "shell.execute_reply.started": "2024-06-10T04:34:45.788371Z"
    }
   },
   "outputs": [],
   "source": [
    "%%writefile /kaggle/working/submission/main.py\n",
    "\n",
    "import os\n",
    "import sys\n",
    "import csv\n",
    "import random\n",
    "\n",
    "\n",
    "\n",
    "# サブミッション/libディレクトリに他のファイル（例：モデルの重み）を置いている場合は、パスを設定する必要があります\n",
    "KAGGLE_COMPETITION_PATH = \"/kaggle_simulations/agent/\" # コンペティションパス\n",
    "if os.path.exists(KAGGLE_COMPETITION_PATH):  # コンペティション内で実行している場合\n",
    "    subdirectory_path = os.path.join(KAGGLE_COMPETITION_PATH, \"lib\")\n",
    "else: # ノートブックで実行している場合\n",
    "    subdirectory_path = os.path.join(\"/kaggle/working/submission/\", \"lib\")\n",
    "sys.path.insert(0, subdirectory_path)\n",
    "\n",
    "\n",
    "# 例ファイルを読み込む\n",
    "with open(os.path.join(subdirectory_path,\"example.csv\"), mode='r') as file:\n",
    "    reader = csv.reader(file)\n",
    "    guess_list = list(reader)\n",
    "    guess_list = guess_list[0]\n",
    "\n",
    "# 例ファイルからランダムな\"動物\"をグローバル変数として設定する\n",
    "animal = random.choice(guess_list)\n",
    "    \n",
    "# main.pyの最後の関数がエージェント関数になります\n",
    "def agent_fn(obs, cfg):\n",
    "    \n",
    "    # エージェントが推測者で、turnTypeが\"ask\"の場合\n",
    "    if obs.turnType == \"ask\":\n",
    "        response = f'それは{animal}のように見えますか？'\n",
    "    # エージェントが推測者で、turnTypeが\"guess\"の場合\n",
    "    elif obs.turnType == \"guess\":\n",
    "        if obs.answers[-1]==\"yes\":\n",
    "            response = animal\n",
    "        else:\n",
    "            response = \"ペンギン\"\n",
    "    # エージェントが回答者の場合\n",
    "    elif obs.turnType == \"answer\":\n",
    "        if obs.keyword in obs.questions[-1]:\n",
    "            response = \"yes\"\n",
    "        else:\n",
    "            response = \"no\"\n",
    "        \n",
    "    return response"
   ]
  },
  {
   "cell_type": "markdown",
   "id": "4f7eeb6b",
   "metadata": {},
   "source": [
    "この`main.py`ファイルとエージェントは、`/lib/example.csv`サポートファイルと一緒に提出する準備が整っています。\n"
   ]
  },
  {
   "cell_type": "code",
   "execution_count": null,
   "metadata": {
    "execution": {
     "iopub.execute_input": "2024-06-10T04:34:47.723136Z",
     "iopub.status.busy": "2024-06-10T04:34:47.722698Z",
     "iopub.status.idle": "2024-06-10T04:34:57.136564Z",
     "shell.execute_reply": "2024-06-10T04:34:57.134906Z",
     "shell.execute_reply.started": "2024-06-10T04:34:47.723102Z"
    }
   },
   "outputs": [],
   "source": [
    "!apt install pigz pv > /dev/null\n",
    "!tar --use-compress-program='pigz --fast --recursive | pv' -cf submission.tar.gz -C /kaggle/working/submission ."
   ]
  },
  {
   "cell_type": "markdown",
   "id": "5af0b570",
   "metadata": {},
   "source": [
    "ノートブック内の`main.py`のエージェントをチーム1の両方のプレイヤーとして実行でき、チーム2にシンプルなエージェント3とシンプルなエージェント4を使います。\n"
   ]
  },
  {
   "cell_type": "code",
   "execution_count": null,
   "metadata": {
    "execution": {
     "iopub.execute_input": "2024-06-10T04:35:25.42841Z",
     "iopub.status.busy": "2024-06-10T04:35:25.426862Z",
     "iopub.status.idle": "2024-06-10T04:35:26.014335Z",
     "shell.execute_reply": "2024-06-10T04:35:26.012802Z",
     "shell.execute_reply.started": "2024-06-10T04:35:25.428367Z"
    }
   },
   "outputs": [],
   "source": [
    "game_output = env.run(agents=[\"/kaggle/working/submission/main.py\", \"/kaggle/working/submission/main.py\", simple_agent3, simple_agent4])\n",
    "env.render(mode=\"ipython\", width=600, height=500)"
   ]
  },
  {
   "cell_type": "markdown",
   "id": "3eb4a149",
   "metadata": {},
   "source": [
    "# デバッグのヒント\n",
    "\n",
    "設計やデバッグを行う際には、通常、環境を作成する際にオプション引数のいくつかを変更したいと思います。これには次のようなものがあります：\n",
    "\n",
    "`env = make(environment, configuration=None, info=None, steps=None, logs=None, debug=False, state=None)`\n",
    "\n",
    "`env.specification`で仕様を確認することで、`configuration`や環境内で定義された他のオブジェクトについて学ぶことができます。これには説明が含まれ、デフォルトの値が示されます。\n",
    "\n",
    "新しいエージェントに取り組む際には、短いエピソードを実行するように設定を変更し、`debug=True`を設定して、エージェントから出力される詳細な情報を確認することをお勧めします。\n",
    "\n",
    "デバッグに適した新しい環境があります。\n"
   ]
  },
  {
   "cell_type": "code",
   "execution_count": null,
   "metadata": {
    "execution": {
     "iopub.execute_input": "2024-06-10T04:35:52.124862Z",
     "iopub.status.busy": "2024-06-10T04:35:52.124311Z",
     "iopub.status.idle": "2024-06-10T04:35:52.277817Z",
     "shell.execute_reply": "2024-06-10T04:35:52.276254Z",
     "shell.execute_reply.started": "2024-06-10T04:35:52.124819Z"
    }
   },
   "outputs": [],
   "source": [
    "# デバッグ用に、2ラウンドのゲームを実行します\n",
    "debug_config = {'episodeSteps': 7,     # 初期ステップにラウンドごとの3ステップ（ask/answer/guess）を追加\n",
    "                'actTimeout': 5,       # ラウンドごとのエージェントの時間（秒）；デフォルトは60\n",
    "                'runTimeout': 60,      # エピソードの最大時間（秒）；デフォルトは1200\n",
    "                'agentTimeout': 3600}  # 使用されないフィールド；デフォルトは3600\n",
    "\n",
    "env = kaggle_environments.make(\"llm_20_questions\", configuration=debug_config, debug=True)"
   ]
  },
  {
   "cell_type": "markdown",
   "id": "5fbdd623",
   "metadata": {},
   "source": [
    "注意：セッションはすでに推測すべきキーワードを設定しています。したがって、別のゲームを実行すると、同じキーワードを推測することになります！\n"
   ]
  },
  {
   "cell_type": "code",
   "execution_count": null,
   "metadata": {
    "execution": {
     "iopub.execute_input": "2024-06-10T04:36:52.894928Z",
     "iopub.status.busy": "2024-06-10T04:36:52.894491Z",
     "iopub.status.idle": "2024-06-10T04:36:52.901283Z",
     "shell.execute_reply": "2024-06-10T04:36:52.900033Z",
     "shell.execute_reply.started": "2024-06-10T04:36:52.894894Z"
    }
   },
   "outputs": [],
   "source": [
    "print(kaggle_environments.envs.llm_20_questions.llm_20_questions.keyword)"
   ]
  },
  {
   "cell_type": "markdown",
   "id": "ba0d533b",
   "metadata": {},
   "source": [
    "デバッグ中に、キーワードを手動で設定したり、キーワードリストからランダムに選択したりすることができます。\n"
   ]
  },
  {
   "cell_type": "code",
   "execution_count": null,
   "metadata": {
    "execution": {
     "iopub.execute_input": "2024-06-10T04:37:15.519578Z",
     "iopub.status.busy": "2024-06-10T04:37:15.519136Z",
     "iopub.status.idle": "2024-06-10T04:37:15.525976Z",
     "shell.execute_reply": "2024-06-10T04:37:15.524776Z",
     "shell.execute_reply.started": "2024-06-10T04:37:15.519521Z"
    }
   },
   "outputs": [],
   "source": [
    "keyword = \"アヒル\"\n",
    "alts = [\"そのアヒル\",\"アヒル\"]\n",
    "kaggle_environments.envs.llm_20_questions.llm_20_questions.category = \"例\"\n",
    "kaggle_environments.envs.llm_20_questions.llm_20_questions.keyword_obj = {'keyword':keyword,'alts':alts}\n",
    "kaggle_environments.envs.llm_20_questions.llm_20_questions.keyword = keyword\n",
    "kaggle_environments.envs.llm_20_questions.llm_20_questions.alts = alts"
   ]
  },
  {
   "cell_type": "markdown",
   "id": "b091e93f",
   "metadata": {},
   "source": [
    "エージェントがデバッグのために情報を印刷できるようにしましょう。シンプルエージェント1に、`obs`内の情報を表示するprint文を追加しました。\n"
   ]
  },
  {
   "cell_type": "code",
   "execution_count": null,
   "metadata": {
    "execution": {
     "iopub.execute_input": "2024-06-10T04:37:17.014254Z",
     "iopub.status.busy": "2024-06-10T04:37:17.01382Z",
     "iopub.status.idle": "2024-06-10T04:37:17.021839Z",
     "shell.execute_reply": "2024-06-10T04:37:17.020624Z",
     "shell.execute_reply.started": "2024-06-10T04:37:17.014222Z"
    }
   },
   "outputs": [],
   "source": [
    "def simple_verbose_agent1(obs, cfg):\n",
    "    \n",
    "    # エージェントが推測者で、turnTypeが\"ask\"の場合\n",
    "    if obs.turnType == \"ask\":\n",
    "        response = \"それはアヒルですか？\"\n",
    "    # エージェントが推測者で、turnTypeが\"guess\"の場合\n",
    "    elif obs.turnType == \"guess\":\n",
    "        response = \"アヒル\"\n",
    "    # エージェントが回答者の場合\n",
    "    elif obs.turnType == \"answer\":\n",
    "        response = \"いいえ\"\n",
    "    \n",
    "    # デバッグ情報を印刷\n",
    "    print(\"====================\")\n",
    "    print(f\"ステップ = {obs.step}\")\n",
    "    print(f\"turnType = {obs.turnType}\")\n",
    "    print(\"obs =\")\n",
    "    print(obs)\n",
    "    print(\" \")\n",
    "    print(f'応答 = \"{response}\"')\n",
    "    \n",
    "    \n",
    "    return response"
   ]
  },
  {
   "cell_type": "markdown",
   "id": "f3628231",
   "metadata": {},
   "source": [
    "このsimple_verbose_agent1をチーム1の両方のプレイヤーとして使用すると、3つのturnタイプ（ask/guess/answer）を観察できます。 \n"
   ]
  },
  {
   "cell_type": "code",
   "execution_count": null,
   "metadata": {
    "execution": {
     "iopub.execute_input": "2024-06-10T04:37:18.855588Z",
     "iopub.status.busy": "2024-06-10T04:37:18.854684Z",
     "iopub.status.idle": "2024-06-10T04:37:19.019973Z",
     "shell.execute_reply": "2024-06-10T04:37:19.018703Z",
     "shell.execute_reply.started": "2024-06-10T04:37:18.855551Z"
    }
   },
   "outputs": [],
   "source": [
    "game_output = env.run(agents=[simple_verbose_agent1,simple_verbose_agent1, simple_agent3, \"/kaggle/working/submission/main.py\"])"
   ]
  },
  {
   "cell_type": "code",
   "execution_count": null,
   "metadata": {
    "execution": {
     "iopub.execute_input": "2024-06-10T04:37:36.703326Z",
     "iopub.status.busy": "2024-06-10T04:37:36.702575Z",
     "iopub.status.idle": "2024-06-10T04:37:36.719951Z",
     "shell.execute_reply": "2024-06-10T04:37:36.718563Z",
     "shell.execute_reply.started": "2024-06-10T04:37:36.703292Z"
    }
   },
   "outputs": [],
   "source": [
    "env.render(mode=\"ipython\", width=600, height=500)"
   ]
  },
  {
   "cell_type": "markdown",
   "id": "9fc5b8f3",
   "metadata": {},
   "source": [
    "---\n",
    "\n",
    "# コメント \n",
    "\n",
    "> ## bluekeroro\n",
    "> \n",
    "> [@rturley](https://www.kaggle.com/rturley) 共有してくれてありがとう！！でも、ちょっと質問があります。この2つの入力データファイルllm_20_questions.pyとllm_20_questions.jsはどのように機能しますか？\n",
    "> \n",
    "> \n",
    "> > ## RS Turleyトピック作成者\n",
    "> > \n",
    "> > どういたしまして！\n",
    "> > \n",
    "> > それらはコンペティションに付随する標準的なファイルです。上記の例ノートブックでは直接使用されていません。\n",
    "> > \n",
    "> > しかし、デバッグ時には参照するのに役立ちます。これらは、kaggle_environmentsからこの特定の環境を実行するために必要なコンポーネントです。詳細はGitHubリポジトリで確認できます（[https://github.com/Kaggle/kaggle-environments/tree/master/kaggle_environments/envs/llm_20_questions](https://github.com/Kaggle/kaggle-environments/tree/master/kaggle_environments/envs/llm_20_questions)）。\n",
    "> > \n",
    "> > 特に：\n",
    "> > \n",
    "> > - llm_20_questions.pyにはゲームのメインコードが含まれており、大文字と小文字の違いが重要かどうかなどの詳細を確認できます。\n",
    "> > \n",
    "> > - llm_20_questions.jsは過去のゲームをレンダリングするためのJavaScriptです。以前のKaggle環境コンペでは、エージェントの行動を視覚的に観察する際にデフォルトのレンダリングを変更するのが役立つことがありましたが、今回は単にテキストを印刷する方が役立つと思われます。\n",
    "> > \n",
    "> > \n",
    "> > > ## bluekeroro\n",
    "> > > \n",
    "> > > わかりました。詳しくて親切な回答をありがとう。\n",
    "> > > \n",
    "> > > \n",
    "> \n",
    "> \n",
    "\n",
    "---\n",
    "\n",
    "> ## Matin Mahmoudi ✨\n",
    "> \n",
    "> あなたのノートブックは魅力的なアプローチを提供しています、[@rturley](https://www.kaggle.com/rturley)。インタラクティブな要素と明確な説明により、非常にユーザーフレンドリーです。素晴らしい友人！\n",
    "> \n",
    "> \n",
    "\n",
    "---\n",
    "\n",
    "> ## Payam Amanat\n",
    "> \n",
    "> 有益で非常に役立つノートブックです、親愛なる[@rturley](https://www.kaggle.com/rturley) ありがとう。\n",
    "> \n",
    "> あなたのノートブックについての意見を知ることができれば素晴らしいです。\n",
    "> \n",
    "> \n",
    "\n",
    "---\n",
    "\n",
    "> ## Zeeshan Latif\n",
    "> \n",
    "> [@rturley](https://www.kaggle.com/rturley) あなたの体系的で明確なプレゼンテーションは非常に有益でした。ありがとう！\n",
    "> \n",
    "> \n",
    "> > ## RS Turleyトピック作成者\n",
    "> > \n",
    "> > 役立てば幸いです！\n",
    "> > \n",
    "> \n",
    "> \n"
   ]
  }
 ],
 "metadata": {
  "kaggle": {
   "accelerator": "none",
   "dataSources": [
    {
     "databundleVersionId": 8550470,
     "sourceId": 61247,
     "sourceType": "competition"
    }
   ],
   "dockerImageVersionId": 30699,
   "isGpuEnabled": false,
   "isInternetEnabled": true,
   "language": "python",
   "sourceType": "notebook"
  },
  "kernelspec": {
   "display_name": "Python 3",
   "language": "python",
   "name": "python3"
  },
  "language_info": {
   "codemirror_mode": {
    "name": "ipython",
    "version": 3
   },
   "file_extension": ".py",
   "mimetype": "text/x-python",
   "name": "python",
   "nbconvert_exporter": "python",
   "pygments_lexer": "ipython3",
   "version": "3.10.13"
  }
 },
 "nbformat": 4,
 "nbformat_minor": 4
}
