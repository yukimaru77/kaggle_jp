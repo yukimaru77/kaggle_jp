{
 "cells": [
  {
   "cell_type": "markdown",
   "id": "68b823c7",
   "metadata": {},
   "source": [
    "# 要約 \n",
    "このJupyterノートブックは、Kaggleの「20の質問」ゲームコンペティションに関するデータを収集、分析、更新することを目的としています。具体的には、Meta Kaggleデータセットを利用して、特定のコンペティションに関連するエピソードの情報やゲームの詳細を取得します。\n",
    "\n",
    "### 主要な処理フローと使用ライブラリ\n",
    "1. **ライブラリのインポート**:\n",
    "   - `requests`: HTTPリクエストを送信するために使用。\n",
    "   - `json`: JSONデータの処理に使用。\n",
    "   - `pandas`: データの操作や分析を簡単に行うための主要なライブラリ。\n",
    "   - `pathlib`: ファイルシステムのパス管理。\n",
    "\n",
    "2. **データの読み込み**:\n",
    "   - 既存のゲームデータ（CSV形式）をPandas DataFrameで読み込み、ゲームの詳細を理解します。\n",
    "\n",
    "3. **API経由でのデータ取得**:\n",
    "   - `download_game`関数を定義し、KaggleのAPIを通じてゲームの詳細をJSON形式で取得、各チームの質問や回答を整理します。\n",
    "\n",
    "4. **フィルタリングとデータの整理**:\n",
    "   - Meta Kaggleデータセットから特定のコンペティション（ID 61247）に関連するエピソードのみを抽出し、検証ゲームを除外します。\n",
    "   - ジェネレータ関数を使用して大規模なCSVファイルを効率的に処理・フィルタリングします。\n",
    "\n",
    "5. **データの結合と更新**:\n",
    "   - 新しいゲームデータを既存のものに追加し、カテゴリーごとの新しいゲームを抽出して整理します。\n",
    "   - 推測者と回答者のSubmissionIdを追加し、各エピソードIDごとの提出物のチェックを行います。\n",
    "\n",
    "6. **結果の保存**:\n",
    "   - 更新されたゲームデータとエージェントデータをCSVファイルとして保存し、後の分析に備えます。\n",
    "\n",
    "このノートブックは、特にデータの抽出、フィルタリング、整理、および更新に焦点を当てており、参加者がコンペティションのデータを効果的に使用できるように設計されています。このプロセスを通じて、参加者は質問ゲームのパフォーマンス解析や新しい戦略の開発に貢献することが期待されています。\n",
    "\n",
    "---\n"
   ]
  },
  {
   "cell_type": "markdown",
   "id": "ec903650",
   "metadata": {},
   "source": [
    "# 用語概説 \n",
    "以下は、Jupyter Notebookの内容に基づいて、機械学習・深層学習の初心者がつまずきそうな専門用語の解説です。特に、マイナーな用語や実務経験がないと馴染みが薄いと思われるものに焦点を当てています。\n",
    "\n",
    "1. **HTTPリクエスト**:\n",
    "   - ウェブサーバーにデータを要求するプロトコルの一つ。主に、GET（データ取得）やPOST（データ送信）を使ってウェブから情報を取得したり、データを送信したりします。\n",
    "\n",
    "2. **JSON（JavaScript Object Notation）**:\n",
    "   - データをテキスト形式で交換するための軽量なフォーマット。人間にも読みやすく、コンピュータでも簡単に解析できるため、APIレスポンスなどで広く使用されています。\n",
    "\n",
    "3. **データフレーム**:\n",
    "   - `pandas`ライブラリで使用されるデータ構造。異なる型のデータを列に持つ2次元の表形式で、行や列名を持ち、操作が容易です。\n",
    "\n",
    "4. **フィルタリング**:\n",
    "   - データセットから特定の条件を満たすデータを抽出する処理。例えば、特定の列の値に基づいて行を選択することを指します。\n",
    "\n",
    "5. **インデックス**:\n",
    "   - データ構造において、データの位置を識別するためのラベルや番号。特に、データフレームでは行または列のラベルとして使用されることが多いです。\n",
    "\n",
    "6. **ジェネレータ**:\n",
    "   - メモリ効率が良い方法で一度に大きなデータを処理するためのPythonの機能。データを少しずつ生成し、必要になった時にだけ計算できるため、大きなファイルを扱う際に便利です。\n",
    "\n",
    "7. **チャンク**:\n",
    "   - 大きなデータを小さな部分に分けて処理すること。一度にメモリに読み込むデータの量を抑えるために用いられます。\n",
    "\n",
    "8. **推測者チーム / 回答者チーム**:\n",
    "   - 「20の質問」ゲームにおける役割。推測者はターゲットワードを当てるための質問を行い、回答者は与えられた質問に「はい」または「いいえ」で答えます。\n",
    "\n",
    "9. **API**:\n",
    "   - アプリケーションプログラミングインターフェースの略で、ソフトウェアコンポーネント同士が対話するための規約のこと。ここでは、外部のデータを取得するために使用されています。\n",
    "\n",
    "10. **マジックコマンド**:\n",
    "    - Jupyter Notebook特有のコマンドで、特定の操作を実行するために使用されます。例えば、`%%time`コマンドを使うと、セルの実行時間を計測できます。\n",
    "\n",
    "11. **マージ**:\n",
    "    - データフレームを統合するプロセス。共通のキーを基に異なるデータフレームを結合することを指します。\n",
    "\n",
    "12. **SubmissionId**:\n",
    "    - コンペティションにおいて、参加者が提出したモデルや結果に対して付与される識別子。このIDを使用することで、異なる提出物を追跡・比較できます。\n",
    "\n",
    "これらの用語は、コンペティションやデータ処理に特有であり、初心者にとって理解が難しい可能性がありますので、丁寧に説明しました。\n",
    "\n",
    "---\n"
   ]
  },
  {
   "cell_type": "code",
   "execution_count": null,
   "metadata": {
    "execution": {
     "iopub.execute_input": "2024-06-18T16:45:17.108327Z",
     "iopub.status.busy": "2024-06-18T16:45:17.107635Z",
     "iopub.status.idle": "2024-06-18T16:45:18.280376Z",
     "shell.execute_reply": "2024-06-18T16:45:18.279214Z",
     "shell.execute_reply.started": "2024-06-18T16:45:17.108283Z"
    }
   },
   "outputs": [],
   "source": [
    "# requestsライブラリをインポートします。\n",
    "# HTTPリクエストを送信するための便利なツールです。\n",
    "import requests\n",
    "\n",
    "# jsonライブラリをインポートします。\n",
    "# JSON（JavaScript Object Notation）形式のデータを扱うためのライブラリです。\n",
    "import json\n",
    "\n",
    "# pandasライブラリをインポートします。\n",
    "# データの操作や分析を簡単にするためのライブラリです。\n",
    "import pandas as pd\n",
    "\n",
    "# pathlibからPathクラスをインポートします。\n",
    "# ファイルシステムのパスを扱うための便利な方法を提供します。\n",
    "from pathlib import Path"
   ]
  },
  {
   "cell_type": "markdown",
   "id": "1abb5734",
   "metadata": {},
   "source": [
    "[Meta kaggleデータセット](https://www.kaggle.com/datasets/kaggle/meta-kaggle)を使用して、コンペティション「https://www.kaggle.com/competitions/llm-20-questions」からepisodeIdを取得します。  \n",
    "（meta-kaggleが更新されると、ソースに`[Dataset no longer available]`と表示されることがありますが、それでも機能します）\n",
    "\n",
    "更新: 推測者と回答者からのsubmissionIdを追加しました。  \n",
    "次のステップを参照してください: https://www.kaggle.com/code/waechter/llm-20-questions-leaderbord-analyze-best-agents\n",
    "\n",
    "⚠️ *絶対にフォークして最初から実行しないでください。多くのリクエストが発生しますので、  \n",
    "代わりにデータセットやノートブックの出力を使用してください* ⚠️\n",
    "\n",
    "# 前回のゲームをロードする"
   ]
  },
  {
   "cell_type": "code",
   "execution_count": null,
   "metadata": {
    "execution": {
     "iopub.execute_input": "2024-06-18T16:45:18.282632Z",
     "iopub.status.busy": "2024-06-18T16:45:18.282122Z",
     "iopub.status.idle": "2024-06-18T16:45:22.461811Z",
     "shell.execute_reply": "2024-06-18T16:45:22.460732Z",
     "shell.execute_reply.started": "2024-06-18T16:45:18.282599Z"
    }
   },
   "outputs": [],
   "source": [
    "# pandasを使用してCSVファイルを読み込みます。\n",
    "# 指定されたパスからデータをDataFrameとして読み込みます。\n",
    "# 'index'列をインデックスとして使用します。\n",
    "df_games = pd.read_csv(\"/kaggle/input/llm-20-questions-games-dataset/LLM-20Questions-games.csv\", index_col='index')\n",
    "\n",
    "# 読み込んだデータフレームを表示します。\n",
    "# この時点で、ゲームに関するデータがどのようなものかを確認できます。\n",
    "df_games"
   ]
  },
  {
   "cell_type": "code",
   "execution_count": null,
   "metadata": {
    "_cell_guid": "133eef0f-9aa7-4b07-b5af-7df770367166",
    "_uuid": "da2b05fe-4018-42d7-acde-25b330fe40ca",
    "collapsed": false,
    "execution": {
     "iopub.execute_input": "2024-06-18T16:45:22.464124Z",
     "iopub.status.busy": "2024-06-18T16:45:22.463531Z",
     "iopub.status.idle": "2024-06-18T16:45:22.476629Z",
     "shell.execute_reply": "2024-06-18T16:45:22.474916Z",
     "shell.execute_reply.started": "2024-06-18T16:45:22.464081Z"
    },
    "jupyter": {
     "outputs_hidden": false
    }
   },
   "outputs": [],
   "source": [
    "# ゲームの情報をダウンロードする関数を定義します。\n",
    "# 引数にはゲーム番号(num)と作成時間(CreateTime)を使用します。\n",
    "# do_printがTrueの場合には、ダウンロードしたデータを印刷します。\n",
    "def download_game(num, CreateTime, do_print=False):\n",
    "    # APIのURLを設定します。\n",
    "    url_api = \"https://www.kaggleusercontent.com/episodes/{num_episode}.json\"\n",
    "    try:\n",
    "        # HTTP GETリクエストを送信してデータを取得します。\n",
    "        r = requests.get(url_api.format(num_episode=num))\n",
    "        \n",
    "        # ステータスコードが200（成功）でない場合はエラーメッセージを表示します。\n",
    "        if r.status_code != 200:\n",
    "            print(f\"Error http {r.status_code=} {num=}\")\n",
    "            return {}\n",
    "        \n",
    "        # 取得したレスポンスをJSON形式で解析します。\n",
    "        resp = r.json()\n",
    "        \n",
    "        # チーム名を取得します。最初の2つが推測者チーム、残りが回答者チームとなります。\n",
    "        teams = resp[\"info\"][\"TeamNames\"][0:2], resp[\"info\"][\"TeamNames\"][2:]  # <=> teams=(guesser_team1, answerer_team1), (guesser_team2, answerer_team2)\n",
    "        formated = {}  # フォーマットされたゲームデータを格納する辞書です。\n",
    "        \n",
    "        # 各チームの最後のステップのデータを取得します。\n",
    "        for (guesser, answerer), step in zip(teams, resp[\"steps\"][-1][1::2]):  # 各チームの最後のステップのみを確認します。\n",
    "            # キーワードとカテゴリを取得します。\n",
    "            keyword, category = step['observation']['keyword'], step['observation']['category']\n",
    "            # do_printがTrueの場合は詳細を表示します。\n",
    "            if do_print:\n",
    "                print(f\"###\\n{guesser=} {answerer=} step {len(step['observation']['answers'])}\")\n",
    "                print(f\"{keyword=} {category=}\")\n",
    "                # 各質問、回答、推測を表示します。\n",
    "                for answer, question, guess in zip(step['observation']['answers'], step['observation']['questions'], step['observation']['guesses']):\n",
    "                    print(f\"\\t{question=} {answer=} {guess=}\")\n",
    "            \n",
    "            # フォーマットされたデータを辞書に追加します。\n",
    "            game_index = f\"{num}__{guesser}__{answerer}\"\n",
    "            formated[game_index] = {key: step['observation'][key] for key in ['answers', 'questions', 'guesses', 'keyword', 'category']}\n",
    "            formated[game_index][\"guesser\"] = guesser\n",
    "            formated[game_index][\"answerer\"] = answerer\n",
    "            formated[game_index][\"nb_round\"] = len(step['observation']['answers'])  # ラウンド数を取得します。\n",
    "            formated[game_index][\"game_num\"] = num  # ゲーム番号を追加します。\n",
    "            formated[game_index][\"guessed\"] = keyword in step['observation']['guesses']  # 推測したかどうかを確認します。\n",
    "            formated[game_index][\"CreateTime\"] = CreateTime  # 作成時間を追加します。\n",
    "        \n",
    "        return formated  # フォーマットされたデータを返します。\n",
    "    except Exception as e:\n",
    "        print(\"Error parsing\", num)  # エラーが発生した場合、メッセージを表示します。\n",
    "        # print(e)  # エラーの詳細情報を表示します（必要に応じて）。\n",
    "        return {}  # 空の辞書を返します。"
   ]
  },
  {
   "cell_type": "markdown",
   "id": "f8e106ff",
   "metadata": {},
   "source": [
    "# meta kaggleデータセットからこのコンペティションの新しいエピソードを取得します。"
   ]
  },
  {
   "cell_type": "code",
   "execution_count": null,
   "metadata": {
    "execution": {
     "iopub.execute_input": "2024-06-18T16:45:22.479794Z",
     "iopub.status.busy": "2024-06-18T16:45:22.479429Z",
     "iopub.status.idle": "2024-06-18T16:46:40.617501Z",
     "shell.execute_reply": "2024-06-18T16:46:40.616391Z",
     "shell.execute_reply.started": "2024-06-18T16:45:22.479766Z"
    }
   },
   "outputs": [],
   "source": [
    "# %%timeは、セルの実行にかかる時間を計測するためのマジックコマンドです。\n",
    "# この後の処理がどれだけ時間がかかったかを表示します。\n",
    "%%time\n",
    "\n",
    "# meta_pathには、meta kaggleデータセットのパスを設定します。\n",
    "meta_path = Path(\"/kaggle/input/meta-kaggle\")\n",
    "\n",
    "# Episodes.csvファイルを読み込みます。\n",
    "# インデックスとして'Id'列を使用します。\n",
    "episodes_df = pd.read_csv(meta_path / \"Episodes.csv\", index_col=\"Id\")"
   ]
  },
  {
   "cell_type": "code",
   "execution_count": null,
   "metadata": {
    "execution": {
     "iopub.execute_input": "2024-06-18T16:46:40.61928Z",
     "iopub.status.busy": "2024-06-18T16:46:40.618875Z",
     "iopub.status.idle": "2024-06-18T16:46:41.888702Z",
     "shell.execute_reply": "2024-06-18T16:46:41.887538Z",
     "shell.execute_reply.started": "2024-06-18T16:46:40.619244Z"
    }
   },
   "outputs": [],
   "source": [
    "# episodes_dfから、CompetitionIdが61247の行のみをフィルタリングします。\n",
    "# これにより、特定のコンペティションのエピソードデータのみが残ります。\n",
    "episodes_df = episodes_df.loc[episodes_df.CompetitionId == 61247]\n",
    "\n",
    "# フィルタリング後のデータフレームを表示します。\n",
    "# これにより、指定したコンペティションに関連するエピソードの情報を確認できます。\n",
    "episodes_df"
   ]
  },
  {
   "cell_type": "markdown",
   "id": "437b52d8",
   "metadata": {},
   "source": [
    "* タイプ4は検証ゲームです（1チーム、両サイド同じエージェント）。\n",
    "* タイプ1は2チーム、4エージェントのゲームであり、これらのみを保持します。"
   ]
  },
  {
   "cell_type": "code",
   "execution_count": null,
   "metadata": {
    "execution": {
     "iopub.execute_input": "2024-06-18T16:46:41.890655Z",
     "iopub.status.busy": "2024-06-18T16:46:41.890236Z",
     "iopub.status.idle": "2024-06-18T16:46:41.899254Z",
     "shell.execute_reply": "2024-06-18T16:46:41.897952Z",
     "shell.execute_reply.started": "2024-06-18T16:46:41.890618Z"
    }
   },
   "outputs": [],
   "source": [
    "# 実際のゲームのみを保持し、検証ゲームをフィルタリングします。\n",
    "# Typeが1の行のみを選択し、\"CreateTime\"列だけを残します。\n",
    "episodes_df = episodes_df.loc[episodes_df.Type == 1, \"CreateTime\"]"
   ]
  },
  {
   "cell_type": "markdown",
   "id": "14b695e4",
   "metadata": {},
   "source": [
    "## ジェネレータを使用して大きなファイルを読み込み、フィルタリングします\n",
    "`EpisodeAgents.csv`ファイルは大きすぎて一度に読み込むことができません。"
   ]
  },
  {
   "cell_type": "code",
   "execution_count": null,
   "metadata": {
    "execution": {
     "iopub.execute_input": "2024-06-18T16:46:41.900855Z",
     "iopub.status.busy": "2024-06-18T16:46:41.900539Z",
     "iopub.status.idle": "2024-06-18T16:46:41.911006Z",
     "shell.execute_reply": "2024-06-18T16:46:41.909584Z",
     "shell.execute_reply.started": "2024-06-18T16:46:41.900829Z"
    }
   },
   "outputs": [],
   "source": [
    "# ジェネレータ関数を定義します。\n",
    "# この関数は大きなCSVファイルを分割して読み込み、特定のエピソードIDに基づいてフィルタリングします。\n",
    "def filter_gen(filepath=meta_path / \"EpisodeAgents.csv\", chunksize=10 ** 6):\n",
    "    # フィルタリング対象のエピソードIDを取得します。\n",
    "    episodes_ids = episodes_df.index\n",
    "    # pandasを使用してCSVファイルをチャンク単位で読み込みます。\n",
    "    with pd.read_csv(filepath, chunksize=chunksize, index_col=\"Id\") as reader:\n",
    "        for chunk in reader:\n",
    "            # 現在のチャンク内でEpisodeIdがエピソードIDのリストに含まれているかをマスクします。\n",
    "            mask = chunk.EpisodeId.isin(episodes_ids)\n",
    "            # マスクが真となる行があれば、そのチャンクを返します。\n",
    "            if mask.any():\n",
    "                yield chunk.loc[mask]  # フィルタリングされたデータをジェネレータとして返します。"
   ]
  },
  {
   "cell_type": "code",
   "execution_count": null,
   "metadata": {
    "execution": {
     "iopub.execute_input": "2024-06-18T16:46:41.912833Z",
     "iopub.status.busy": "2024-06-18T16:46:41.91219Z",
     "iopub.status.idle": "2024-06-18T16:50:44.125868Z",
     "shell.execute_reply": "2024-06-18T16:50:44.124293Z",
     "shell.execute_reply.started": "2024-06-18T16:46:41.912798Z"
    }
   },
   "outputs": [],
   "source": [
    "# %%timeは、セルの実行にかかる時間を計測するためのマジックコマンドです。\n",
    "# この後の処理がどれだけ時間がかかったかを表示します。\n",
    "%%time\n",
    "\n",
    "# filter_genジェネレータを使用してフィルタリングされたデータを取得し、\n",
    "# すべてのチャンクを一つのDataFrameに結合します。\n",
    "agents_df = pd.concat(filter_gen())\n",
    "\n",
    "# 結合されたDataFrameを表示します。\n",
    "# これにより、フィルタリングされたエージェントの情報を確認できます。\n",
    "agents_df"
   ]
  },
  {
   "cell_type": "markdown",
   "id": "c1701115",
   "metadata": {},
   "source": [
    "# 新しいゲームを追加します。"
   ]
  },
  {
   "cell_type": "code",
   "execution_count": null,
   "metadata": {
    "execution": {
     "iopub.execute_input": "2024-06-18T16:50:44.128182Z",
     "iopub.status.busy": "2024-06-18T16:50:44.12779Z",
     "iopub.status.idle": "2024-06-18T17:13:35.153991Z",
     "shell.execute_reply": "2024-06-18T17:13:35.152932Z",
     "shell.execute_reply.started": "2024-06-18T16:50:44.128136Z"
    }
   },
   "outputs": [],
   "source": [
    "# %%timeは、セルの実行にかかる時間を計測するためのマジックコマンドです。\n",
    "# この後の処理がどれだけ時間がかかったかを表示します。\n",
    "%%time\n",
    "\n",
    "# 既存のゲームデータの行数を表示します。\n",
    "print(f\"previous {len(df_games)=}\")\n",
    "\n",
    "# 新しいゲームデータをダウンロードし、既存のデータフレームに結合します。\n",
    "# episodes_dfの各エピソードについて、すでにdf_gamesに含まれていないものだけを追加します。\n",
    "df_games = pd.concat([df_games] + [pd.DataFrame(download_game(episode_id, date)).T for episode_id, date in episodes_df.items() if episode_id not in df_games.game_num.values])\n",
    "\n",
    "# 更新後のゲームデータの行数を表示します。\n",
    "print(f\"after update {len(df_games)=}\")\n",
    "\n",
    "# 更新されたデータフレームを表示します。\n",
    "df_games"
   ]
  },
  {
   "cell_type": "code",
   "execution_count": null,
   "metadata": {
    "execution": {
     "iopub.execute_input": "2024-06-18T17:30:22.642268Z",
     "iopub.status.busy": "2024-06-18T17:30:22.641845Z",
     "iopub.status.idle": "2024-06-18T17:30:22.697985Z",
     "shell.execute_reply": "2024-06-18T17:30:22.696244Z",
     "shell.execute_reply.started": "2024-06-18T17:30:22.642235Z"
    }
   },
   "outputs": [],
   "source": [
    "# データフレームから、カテゴリが'place'または'things'であるゲームをフィルタリングします。\n",
    "# これにより、新しいカテゴリのゲームデータのみが抽出されます。\n",
    "new_category_games = df_games.loc[(df_games.category == 'place') | (df_games.category == 'things')]\n",
    "\n",
    "# フィルタリングされた新しいカテゴリのゲームデータを表示します。\n",
    "new_category_games"
   ]
  },
  {
   "cell_type": "code",
   "execution_count": null,
   "metadata": {
    "execution": {
     "iopub.execute_input": "2024-06-18T17:50:32.368127Z",
     "iopub.status.busy": "2024-06-18T17:50:32.367733Z",
     "iopub.status.idle": "2024-06-18T17:50:32.406191Z",
     "shell.execute_reply": "2024-06-18T17:50:32.405022Z",
     "shell.execute_reply.started": "2024-06-18T17:50:32.368098Z"
    }
   },
   "outputs": [],
   "source": [
    "# 新しいカテゴリのゲームから、キーワードとカテゴリの組み合わせを集計し、\n",
    "# 各ユニークなキーワードを小文字に変換してDataFrameを作成します。\n",
    "keywords_category = pd.DataFrame({keyword.lower(): {\"keyword\": keyword, \"category\": category} for keyword, category in new_category_games[[\"keyword\", \"category\"]].value_counts().index}).T\n",
    "\n",
    "# インデックスでソートします。\n",
    "keywords_category = keywords_category.sort_index()\n",
    "\n",
    "# 結果を\"keywords.csv\"という名前でCSVファイルとして保存します。\n",
    "keywords_category.to_csv(\"keywords.csv\")"
   ]
  },
  {
   "cell_type": "markdown",
   "id": "1256aa46",
   "metadata": {},
   "source": [
    "## SubmissionIdを追加します。"
   ]
  },
  {
   "cell_type": "code",
   "execution_count": null,
   "metadata": {
    "_kg_hide-output": true,
    "execution": {
     "iopub.execute_input": "2024-06-18T17:13:35.157549Z",
     "iopub.status.busy": "2024-06-18T17:13:35.157178Z",
     "iopub.status.idle": "2024-06-18T17:14:02.503675Z",
     "shell.execute_reply": "2024-06-18T17:14:02.502465Z",
     "shell.execute_reply.started": "2024-06-18T17:13:35.157517Z"
    }
   },
   "outputs": [],
   "source": [
    "# %%timeは、セルの実行にかかる時間を計測するためのマジックコマンドです。\n",
    "# この後の処理がどれだけ時間がかかったかを表示します。\n",
    "%%time\n",
    "\n",
    "# df_gamesをゲーム番号でグループ化します。\n",
    "for name, group in df_games.groupby(by=\"game_num\"):\n",
    "    # すでにSubmissionIdが存在し、すべてのSubmissionIdが0より大きい場合はスキップします。\n",
    "    if \"guesser_SubmissionId\" in group.columns and \"answerer_SubmissionId\" in group.columns and (group.guesser_SubmissionId > 0).all() and (group.answerer_SubmissionId > 0).all():\n",
    "        continue  # すでに処理済み\n",
    "    \n",
    "    # agents_dfからエピソードIDがnameと一致するエージェントを取得し、インデックスでソートします。\n",
    "    agents_sub = agents_df[agents_df.EpisodeId == name].sort_values(\"Index\")\n",
    "    \n",
    "    # 賞金の提出物が4つない場合はスキップします。\n",
    "    if len(agents_sub) != 4:\n",
    "        print(f\"{name=} Not all submissions are available. skip\")\n",
    "        continue\n",
    "        \n",
    "    # EpisodeAgentsはエピソードIDごとに4行持ち、インデックスは0-3です。\n",
    "    # 出力ログのJSONと同じ順序（guesser_team1, answerer_team1, guesser_team2, answerer_team2）です。\n",
    "    for i, (index, row) in enumerate(group.iterrows()):\n",
    "        # 各チームごとに2行処理します。\n",
    "        df_games.loc[index, [\"guesser_SubmissionId\", \"answerer_SubmissionId\"]] = [\n",
    "            agents_sub.loc[agents_sub.Index == i * 2, \"SubmissionId\"].iloc[0], \n",
    "            agents_sub.loc[agents_sub.Index == 1 + i * 2, \"SubmissionId\"].iloc[0]\n",
    "        ]\n",
    "\n",
    "# SubmissionIdの欠損値を0で埋め、整数型に変換します。\n",
    "df_games[[\"guesser_SubmissionId\", \"answerer_SubmissionId\"]] = df_games[[\"guesser_SubmissionId\", \"answerer_SubmissionId\"]].fillna(0).astype(\"int\")\n",
    "\n",
    "# 更新されたデータフレームを表示します。\n",
    "df_games"
   ]
  },
  {
   "cell_type": "markdown",
   "id": "8f411978",
   "metadata": {},
   "source": [
    "### マージが正しく行われたか確認します。"
   ]
  },
  {
   "cell_type": "code",
   "execution_count": null,
   "metadata": {
    "execution": {
     "iopub.execute_input": "2024-06-18T17:14:02.505467Z",
     "iopub.status.busy": "2024-06-18T17:14:02.505041Z",
     "iopub.status.idle": "2024-06-18T17:14:02.647408Z",
     "shell.execute_reply": "2024-06-18T17:14:02.646223Z",
     "shell.execute_reply.started": "2024-06-18T17:14:02.505429Z"
    }
   },
   "outputs": [],
   "source": [
    "# 提出物のIDが、推測者と回答者で一致するか確認します。\n",
    "if set(df_games.answerer_SubmissionId) != set(df_games.guesser_SubmissionId):\n",
    "    # 推測者にしかない提出物があれば、それを表示します。\n",
    "    print(\"sub only in guesser\", set(df_games.guesser_SubmissionId) - set(df_games.answerer_SubmissionId))\n",
    "    # 回答者にしかない提出物があれば、それを表示します。\n",
    "    print(\"sub only answerer\", set(df_games.answerer_SubmissionId) - set(df_games.guesser_SubmissionId))\n",
    "\n",
    "# チームが推測者と回答者で一致するか確認します。\n",
    "if set(df_games.answerer) != set(df_games.guesser):\n",
    "    # 推測者にしかないチームがあれば、それを表示します。\n",
    "    print(\"team only in guesser\", set(df_games.guesser) - set(df_games.answerer))\n",
    "    # 回答者にしかないチームがあれば、それを表示します。\n",
    "    print(\"team only in answerer\", set(df_games.answerer) - set(df_games.guesser))"
   ]
  },
  {
   "cell_type": "code",
   "execution_count": null,
   "metadata": {
    "execution": {
     "iopub.execute_input": "2024-06-18T17:14:02.649207Z",
     "iopub.status.busy": "2024-06-18T17:14:02.648835Z",
     "iopub.status.idle": "2024-06-18T17:14:02.670803Z",
     "shell.execute_reply": "2024-06-18T17:14:02.669573Z",
     "shell.execute_reply.started": "2024-06-18T17:14:02.649169Z"
    }
   },
   "outputs": [],
   "source": [
    "# ユニークなチーム数と提出物の数を表示します。\n",
    "# answerer列に含まれるユニークなチームの数と、answerer_SubmissionId列に含まれるユニークな提出物の数を確認します。\n",
    "f\"Nb unique team: {len(df_games.answerer.unique())} submissions: {len(df_games.answerer_SubmissionId.unique())}\""
   ]
  },
  {
   "cell_type": "code",
   "execution_count": null,
   "metadata": {
    "_kg_hide-output": true,
    "execution": {
     "iopub.execute_input": "2024-06-18T17:14:02.672662Z",
     "iopub.status.busy": "2024-06-18T17:14:02.672316Z",
     "iopub.status.idle": "2024-06-18T17:14:02.677655Z",
     "shell.execute_reply": "2024-06-18T17:14:02.676551Z",
     "shell.execute_reply.started": "2024-06-18T17:14:02.672632Z"
    }
   },
   "outputs": [],
   "source": [
    "# コメントアウトされたコードは、回答者のSubmissionIdに対して、推測者と回答者のチーム名が一意でない場合をチェックします。\n",
    "# 各回答者のSubmissionIdについて、対応するチーム名を取得し、チーム名が複数ある場合は警告を表示します。\n",
    "\n",
    "# for submissionId in df_games.answerer_SubmissionId.unique():\n",
    "#     guesser = df_games.loc[df_games.guesser_SubmissionId == submissionId, \"guesser\"].unique()\n",
    "#     answerer = df_games.loc[df_games.answerer_SubmissionId == submissionId, \"answerer\"].unique()\n",
    "#     if len(answerer) > 1 or len(guesser) > 1:\n",
    "#         print(f\"{submissionId=} found multiple team name {guesser=}, {answerer=}\")"
   ]
  },
  {
   "cell_type": "markdown",
   "id": "5acecf0b",
   "metadata": {},
   "source": [
    "submissionId=0は見つからなかったものであり、次のデータ更新時に再度埋め込むことを試みます。  \n",
    "残りは、チームが名前を更新したものであると思われます。"
   ]
  },
  {
   "cell_type": "code",
   "execution_count": null,
   "metadata": {
    "execution": {
     "iopub.execute_input": "2024-06-18T17:14:02.679522Z",
     "iopub.status.busy": "2024-06-18T17:14:02.679141Z",
     "iopub.status.idle": "2024-06-18T17:14:02.721595Z",
     "shell.execute_reply": "2024-06-18T17:14:02.720332Z",
     "shell.execute_reply.started": "2024-06-18T17:14:02.679486Z"
    }
   },
   "outputs": [],
   "source": [
    "# 推測者のSubmissionIdとチーム名の組み合わせの出現回数をカウントします。\n",
    "# これにより、どのSubmissionIdがどのチーム名に関連付けられているかを確認できます。\n",
    "df_games[[\"guesser_SubmissionId\", \"guesser\"]].value_counts()"
   ]
  },
  {
   "cell_type": "code",
   "execution_count": null,
   "metadata": {
    "_kg_hide-output": true,
    "execution": {
     "iopub.execute_input": "2024-06-18T17:14:02.723264Z",
     "iopub.status.busy": "2024-06-18T17:14:02.722901Z",
     "iopub.status.idle": "2024-06-18T17:14:08.303206Z",
     "shell.execute_reply": "2024-06-18T17:14:08.301942Z",
     "shell.execute_reply.started": "2024-06-18T17:14:02.723232Z"
    }
   },
   "outputs": [],
   "source": [
    "# 各回答者チームについて、推測者と回答者のSubmissionIdの共通部分を取得し、その数を表示します。\n",
    "# これにより、各チームが持つ提出物の数を確認できます。\n",
    "for team in df_games.answerer.unique():\n",
    "    submissions_set = set(df_games.loc[df_games.guesser == team, \"guesser_SubmissionId\"]) & set(df_games.loc[df_games.answerer == team, \"answerer_SubmissionId\"])\n",
    "    print(f\"{team=}, {len(submissions_set)} submissions\")"
   ]
  },
  {
   "cell_type": "markdown",
   "id": "29055952",
   "metadata": {},
   "source": [
    "# 保存します。"
   ]
  },
  {
   "cell_type": "code",
   "execution_count": null,
   "metadata": {
    "execution": {
     "iopub.execute_input": "2024-06-18T17:14:08.304849Z",
     "iopub.status.busy": "2024-06-18T17:14:08.30451Z",
     "iopub.status.idle": "2024-06-18T17:14:15.045644Z",
     "shell.execute_reply": "2024-06-18T17:14:15.044281Z",
     "shell.execute_reply.started": "2024-06-18T17:14:08.304814Z"
    }
   },
   "outputs": [],
   "source": [
    "# ゲームデータを\"LLM-20Questions-games.csv\"という名前でCSVファイルとして保存します。\n",
    "# インデックスラベルには\"index\"を使用します。\n",
    "df_games.to_csv(\"LLM-20Questions-games.csv\", index_label=\"index\")\n",
    "\n",
    "# エージェントデータを\"EpisodeAgents.csv\"という名前でCSVファイルとして保存します。\n",
    "# インデックスラベルには\"Id\"を使用します。\n",
    "agents_df.to_csv(\"EpisodeAgents.csv\", index_label=\"Id\")"
   ]
  },
  {
   "cell_type": "markdown",
   "id": "76ddc664",
   "metadata": {},
   "source": [
    "https://www.kaggle.com/code/waechter/llm-20-questions-leaderbord-analyze-best-agentsで使用します。"
   ]
  },
  {
   "cell_type": "markdown",
   "id": "ab5c08f5",
   "metadata": {},
   "source": [
    "---\n",
    "\n",
    "# コメント\n",
    "\n",
    "> ## OminousDude\n",
    "> \n",
    "> とても役に立ちました。この素晴らしい作業のおかげで、自分のモデルのパフォーマンスを把握する手助けになりました。ありがとうございます！\n",
    "\n",
    "> ## Mario Caesar\n",
    "> \n",
    "> LLMデータセットに関する素晴らしい作業ですね。あなたの作業から多くの新しいことを学びました[@waechter](https://www.kaggle.com/waechter)。共有してくれてありがとう😎👊！アップボートしました!! これからも良い仕事を続けてください。\n",
    "\n",
    "> ## Zeeshan Latif\n",
    "> \n",
    "> [@waechter](https://www.kaggle.com/waechter) 素晴らしい仕事です！\n",
    "\n",
    "> ## JuHyeon_\n",
    "> \n",
    "> わあ、素晴らしい仕事です！情報豊富な作業を共有してくれてありがとう[@waechter](https://www.kaggle.com/waechter) \n",
    "> \n",
    "> LLM初心者にとって素晴らしい教材です :)\n",
    "> \n",
    "> アップボートしました😀 時間があれば私のノートブックにも訪れてくれると嬉しいです！\n",
    "\n",
    "> ## Sara Taghizadeh Milani\n",
    "> \n",
    "> これは多くの思考と努力が注がれたことが明らかです。徹底性と明瞭さに対してアップボートしました—あなたのさらなる作業を楽しみにしています！\n",
    "> \n",
    "> [@waechter](https://www.kaggle.com/waechter) \n",
    "\n",
    "> ## Marília Prata\n",
    "> \n",
    "> あなたのデータセット「LLM-20Questions-games」で素晴らしい仕事をしています、Waechter。\n",
    "\n",
    "---"
   ]
  }
 ],
 "metadata": {
  "kaggle": {
   "accelerator": "none",
   "dataSources": [
    {
     "databundleVersionId": 8550470,
     "sourceId": 61247,
     "sourceType": "competition"
    },
    {
     "datasetId": 5068883,
     "sourceId": 8626439,
     "sourceType": "datasetVersion"
    },
    {
     "datasetId": 9,
     "sourceId": 8720289,
     "sourceType": "datasetVersion"
    },
    {
     "sourceId": 184069237,
     "sourceType": "kernelVersion"
    }
   ],
   "dockerImageVersionId": 30698,
   "isGpuEnabled": false,
   "isInternetEnabled": true,
   "language": "python",
   "sourceType": "notebook"
  },
  "kernelspec": {
   "display_name": "Python 3",
   "language": "python",
   "name": "python3"
  },
  "language_info": {
   "codemirror_mode": {
    "name": "ipython",
    "version": 3
   },
   "file_extension": ".py",
   "mimetype": "text/x-python",
   "name": "python",
   "nbconvert_exporter": "python",
   "pygments_lexer": "ipython3",
   "version": "3.10.13"
  }
 },
 "nbformat": 4,
 "nbformat_minor": 4
}
