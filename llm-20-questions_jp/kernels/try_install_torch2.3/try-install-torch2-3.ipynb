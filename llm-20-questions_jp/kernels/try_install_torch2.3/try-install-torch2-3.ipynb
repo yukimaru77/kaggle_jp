{
 "cells": [
  {
   "cell_type": "markdown",
   "id": "6b337c68",
   "metadata": {},
   "source": [
    "# 要約 \n",
    "このJupyter Notebookは、Kaggleのコンペティション「LLM 20 Questions」でのエージェントの準備と提出プロセスに関連するタスクを実行しています。特に、以下の問題に取り組んでいます：\n",
    "\n",
    "1. **環境設定**：Notebookは、エージェントの動作に必要なライブラリ（特にPyTorch）のインストールと設定を行っています。\n",
    "2. **ファイル作成と圧縮**：提出物を準備するために、特定のファイルを作成し、最終的にはそれらを圧縮して提出できるパッケージを生成します。\n",
    "\n",
    "具体的には、以下の手法とライブラリを使用しています：\n",
    "\n",
    "- **osモジュール**と**subprocessモジュール**：これらを使用して、システムコマンドの実行やファイルの管理を行います。\n",
    "- **PyTorch（torch）**：指定されたバージョン（2.3.1）のPyTorchライブラリをインストールしています。インストール方法は、pipやcondaを利用することが考慮され、適切な環境に応じて選択されています。\n",
    "- **apt**：Linux環境のパッケージ管理を利用して、`pigz`（並列圧縮ツール）と`pv`（進捗状況を表示するツール）をインストールしています。\n",
    "- **tarコマンド**：ファイルをアーカイブして圧縮するために使用され、`pigz`を利用してデータを圧縮し、その進捗状況を`pv`で表示しながら`submission.tar.gz`という名前のファイルを作成します。\n",
    "\n",
    "このNotebookは、Kaggleのコンペティションにおいて必要な環境やファイルを揃えるための初期設定を自動化することを目的としています。\n",
    "\n",
    "---\n"
   ]
  },
  {
   "cell_type": "markdown",
   "id": "3f5a26ea",
   "metadata": {},
   "source": [
    "# 用語概説 \n",
    "以下は、Jupyter Notebookの内容に基づいて、機械学習・深層学習の初心者がつまずきそうな専門用語の簡単な解説です。一般的に知られている用語や初歩的な概念は含めていません。\n",
    "\n",
    "1. **KAGGLE_AGENT_PATH**:\n",
    "   Kaggleプラットフォーム内で動作するモデルやエージェントのための指定されたパス。Kaggleのシミュレーション環境における作業ディレクトリの位置を示します。\n",
    "\n",
    "2. **subprocess**:\n",
    "   Pythonのモジュールで、他の外部プログラムを実行するために使用されます。Pythonスクリプト内からシェルコマンドを呼び出す際に非常に役立ちます。\n",
    "\n",
    "3. **--no-index**:\n",
    "   pipコマンドのオプションで、PyPI（Python Package Index）からパッケージを検索しないように設定します。ローカルまたは指定されたリンクからのインストールに特化します。\n",
    "\n",
    "4. **--find-links**:\n",
    "   This pip option allows specifying the location to search for packages. This can be a local directory or a URL, enabling users to install packages that aren't available on the PyPI repository.\n",
    "\n",
    "5. **tar**:\n",
    "   Unix/Linux環境で広く使用されるアーカイブファイルを作成、展開するためのツール。ファイルをまとめて圧縮する際によく使用されます。\n",
    "\n",
    "6. **pigz**:\n",
    "   Parallel Implementation of GZipの略で、gzipの機能を持ったマルチスレッドで動作する圧縮プログラム。大規模なデータファイルを効率よく圧縮するために使用されます。\n",
    "\n",
    "7. **pv**:\n",
    "   Pipe Viewerの略で、データのパイプに流れる進捗状況を可視化するツール。長時間の処理を行う時に、その進捗を確認するために利用されます。\n",
    "\n",
    "8. **wheelファイル**:\n",
    "   Pythonで作成されたパッケージ配布フォーマットの一つ。バイナリパッケージとしてインストールが容易で、パッケージの依存関係を簡単に管理できます。\n",
    "\n",
    "9. **conda**:\n",
    "   パッケージ管理システムで、Pythonや他のプログラミング言語の依存関係を管理するために使われます。特に科学計算やデータ分析のためのライブラリを簡単にインストール・管理できます。\n",
    "\n",
    "これらの用語は、特にKaggleコンペティションやデータサイエンス、機械学習の文脈でよく使用されるものでありながら、初心者には馴染みが薄いかもしれません。\n",
    "\n",
    "---\n"
   ]
  },
  {
   "cell_type": "code",
   "execution_count": null,
   "metadata": {},
   "outputs": [],
   "source": [
    "# 新しいディレクトリを作成します。ここでは、'submission'という名前のディレクトリを作成します。\n",
    "!mkdir /kaggle/working/submission"
   ]
  },
  {
   "cell_type": "code",
   "execution_count": null,
   "metadata": {
    "_cell_guid": "b1076dfc-b9ad-4769-8c92-a6c4dae69d19",
    "_uuid": "8f2839f25d086af736a60e9eeb907d3b93b6e0e5"
   },
   "outputs": [],
   "source": [
    "# 'submission/main.py'というファイルを作成します。\n",
    "%%writefile submission/main.py\n",
    "\n",
    "# osモジュールとsubprocessモジュールをインポートします。\n",
    "import os\n",
    "import subprocess\n",
    "\n",
    "# KAGGLEのエージェントパスを設定します。\n",
    "KAGGLE_AGENT_PATH = \"/kaggle_simulations/agent/\"\n",
    "# KAGGLEのデータパスを設定します。\n",
    "KAGGLE_DATA_PATH = \"/kaggle_simulations/agent/\"\n",
    "# KAGGLE_AGENT_PATHが存在しない場合は、ワーキングディレクトリのパスに変更します。\n",
    "if not os.path.exists(KAGGLE_AGENT_PATH):\n",
    "    KAGGLE_AGENT_PATH = '/kaggle/working/'\n",
    "    KAGGLE_DATA_PATH = \"/kaggle/input/\"\n",
    "\n",
    "# 指定したtorchのバージョンをpipを使ってインストールします。\n",
    "subprocess.run(f'pip install --no-index --find-links {KAGGLE_DATA_PATH}torch_whl torch==2.3.1', shell=True, check=True, capture_output = True)\n",
    "# インストール完了のメッセージを表示します。\n",
    "print('ok torch')\n",
    "# torchライブラリをインポートします。\n",
    "import torch\n",
    "# インポートしたtorchのバージョンを表示します。\n",
    "print('torch', torch.__version__)"
   ]
  },
  {
   "cell_type": "code",
   "execution_count": null,
   "metadata": {},
   "outputs": [],
   "source": [
    "# pipを使って、特定のURLからtorchのバージョン2.3.1をインストールします。\n",
    "# --no-indexオプションはPyPIインデックスを無効にし、--find-linksオプションは指定したリンクからパッケージを探します。\n",
    "# ただし、この行はコメントアウトされているため、実行されません。\n",
    "# !pip install --no-index --find-links /kaggle/input/torch-2-3-whl/torch_whl torch==2.3.1"
   ]
  },
  {
   "cell_type": "code",
   "execution_count": null,
   "metadata": {},
   "outputs": [],
   "source": [
    "# condaを使って、指定したパスからtorchのバージョン2.3.1をインストールします。\n",
    "# ここでは、torchのwheelファイルが存在するパスを指定しています。\n",
    "!conda install /kaggle/input/torch-2-3-whl/torch_whl/torch-2.3.1-cp310-cp310-manylinux1_x86_64.whl"
   ]
  },
  {
   "cell_type": "code",
   "execution_count": null,
   "metadata": {},
   "outputs": [],
   "source": [
    "# aptを使って、pigzとpvというツールをインストールします。\n",
    "# これらのツールは、データの圧縮や可視化に役立ちます。\n",
    "# 実行時に出力を表示しないため、> /dev/nullを追加しています。\n",
    "!apt install pigz pv > /dev/null"
   ]
  },
  {
   "cell_type": "code",
   "execution_count": null,
   "metadata": {},
   "outputs": [],
   "source": [
    "# tarコマンドを使って、アーカイブファイルを作成します。\n",
    "# 'pigz'を使って圧縮を行い、'pv'を使って進捗状況を表示します。\n",
    "# submission.tar.gzという名前のtar.gzファイルを作成します。\n",
    "# -Cオプションを使って、アーカイブするファイルのパスを指定します。\n",
    "!tar --use-compress-program='pigz --fast --recursive | pv' -cf submission.tar.gz -C /kaggle/input/torch-2-3-whl . -C /kaggle/working/submission ."
   ]
  }
 ],
 "metadata": {
  "kaggle": {
   "accelerator": "nvidiaTeslaT4",
   "dataSources": [
    {
     "databundleVersionId": 8550470,
     "sourceId": 61247,
     "sourceType": "competition"
    },
    {
     "datasetId": 5389408,
     "sourceId": 8955179,
     "sourceType": "datasetVersion"
    }
   ],
   "dockerImageVersionId": 30747,
   "isGpuEnabled": true,
   "isInternetEnabled": true,
   "language": "python",
   "sourceType": "notebook"
  },
  "kernelspec": {
   "display_name": "Python 3",
   "language": "python",
   "name": "python3"
  },
  "language_info": {
   "codemirror_mode": {
    "name": "ipython",
    "version": 3
   },
   "file_extension": ".py",
   "mimetype": "text/x-python",
   "name": "python",
   "nbconvert_exporter": "python",
   "pygments_lexer": "ipython3",
   "version": "3.10.13"
  }
 },
 "nbformat": 4,
 "nbformat_minor": 4
}
