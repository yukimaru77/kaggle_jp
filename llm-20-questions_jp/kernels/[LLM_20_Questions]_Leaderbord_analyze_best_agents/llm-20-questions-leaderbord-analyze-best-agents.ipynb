{
 "cells": [
  {
   "cell_type": "markdown",
   "id": "2331c901",
   "metadata": {},
   "source": [
    "# 要約 \n",
    "このJupyter Notebookでは、Kaggleの「LLM 20 Questions」コンペティションにおけるゲームデータの分析が行われています。具体的な問題としては、推測者と回答者のパフォーマンスを評価し、勝率や勝利回数を計算することが挙げられます。さらに、質問のワードクラウドや頻出キーワードの可視化も行われています。\n",
    "\n",
    "### 問題に取り組む内容\n",
    "主な目的は、ゲームのデータを基に各チームの勝率を分析し、推測者と回答者のリーダーボードを作成することです。これにより、どのチームやエージェントが最も成功しているかを把握し、戦略の改善に役立てることができます。また、質問内容のトレンド分析を通じて、どのような質問がよく使用されるかを視覚化しています。\n",
    "\n",
    "### 使用されている手法とライブラリ\n",
    "- **データ操作**: `pandas`を使用してCSVデータを読み込み、データフレームを操作。\n",
    "- **自然言語処理**: `nltk`を利用して、ストップワードの管理やテキスト処理を行っています。\n",
    "- **ワードクラウド生成**: `wordcloud`ライブラリを使用し、質問内容の視覚化を行い、人気のある質問を表示。\n",
    "- **TF-IDF特徴量抽出**: `sklearn`の`TfidfVectorizer`を用いて、質問データの特徴量を分析することが可能です。\n",
    "- **データ可視化**: `matplotlib`を利用して、生成したワードクラウドや解析結果を視覚的に表示。\n",
    "\n",
    "このノートブックでは、データフレームの処理、ゲーム結果の集計、勝利回数の計算、リーダーボードの作成という一連のプロセスを通じて、参加エージェントのパフォーマンスを評価し、コンペティションの規模感や傾向を掴むことを目指しています。\n",
    "\n",
    "---\n"
   ]
  },
  {
   "cell_type": "markdown",
   "id": "b4574169",
   "metadata": {},
   "source": [
    "# 用語概説 \n",
    "以下に、初心者がつまずきそうな専門用語の簡単な解説を列挙します。特に、実務を経験していないと馴染みのないものや、このノートブック特有のドメイン知識に焦点を当てています。\n",
    "\n",
    "1. **リーダーボード (Leaderboard)**:\n",
    "   コンペティションにおいて、参加者が提出したモデルやエージェントの性能を評価し、ランキング形式で表示するシステム。様々な指標で評価され、順位が決まる。\n",
    "\n",
    "2. **ワードクラウド (Word Cloud)**:\n",
    "   テキストデータ中の単語の出現頻度を視覚化する手法。頻出する単語が大きく表示されるため、データの特徴を直感的に理解しやすくなる。\n",
    "\n",
    "3. **TF-IDF (Term Frequency-Inverse Document Frequency)**:\n",
    "   テキストデータにおける重要度を示す指標。特定の単語が文書内でどれだけ頻繁に出現するか（Term Frequency）と、その単語が他の文書にどれだけ出現するかを考慮して重み付けされる。\n",
    "\n",
    "4. **ストップワード (Stopwords)**:\n",
    "   自然言語処理において、意味が薄いとされる一般的な単語（例: \"the\", \"is\", \"in\" 等）。これらの単語は分析から除外されることが多い。\n",
    "\n",
    "5. **データフレーム (DataFrame)**:\n",
    "   Pandasライブラリのデータ構造の一つで、ラベル付きの2次元データ（表形式）を持つ。行と列があり、効率的にデータ操作や分析が可能。\n",
    "\n",
    "6. **リテラル評価 (Literal Evaluation)**:\n",
    "   Pythonのデータ型（リストや辞書など）の文字列を、適切なPythonオブジェクトに変換する処理。`ast.literal_eval`関数を使用して安全に評価する。\n",
    "\n",
    "7. **エピソード (Episode)**:\n",
    "   特定の試合またはプレイのセッションを指す。コンペティションにおいては、特定のゲームの一連のプレイのことを意味する。\n",
    "\n",
    "8. **正規化 (Normalization)**:\n",
    "   データを一定の基準に従って変換すること。例えば、文字列を小文字に変換したり、不必要な空白を削除したりすることが含まれる。\n",
    "\n",
    "9. **インターポレーション (Interpolation)**:\n",
    "   画像を表示する際の手法の一つ。画像のピクセルを拡大または縮小する際に、ピクセルの間を補完して滑らかな表示を実現する方法。\n",
    "\n",
    "10. **エージェント (Agent)**:\n",
    "    機械学習やAIの文脈で用いられる用語で、自律的に行動し、環境からの入力に基づいて意思決定を行うシステムやプログラムを指す。\n",
    "\n",
    "11. **カテゴリ (Category)**:\n",
    "    データを特定のグループに分類するためのタグやラベル。コンペティションのドメインにおいて、特定のタイプや特性を持つデータを表現する。\n",
    "\n",
    "12. **カウンター (Counter)**:\n",
    "    Pythonの`collections`モジュールで提供される便利なクラスで、要素の出現頻度をカウントすることができる。テキストデータの分析に役立つ。\n",
    "\n",
    "これらの用語について理解を深めることが、Jupyter Notebookの内容をよりスムーズに把握する手助けになるでしょう。\n",
    "\n",
    "---\n"
   ]
  },
  {
   "cell_type": "markdown",
   "id": "e73e5563",
   "metadata": {},
   "source": [
    "# 目次\n",
    "各カテゴリーの最高のゲームを表示します:\n",
    "* [推測者リーダーボード](#Guesser_leaderbord)\n",
    "* [回答者リーダーボード](#Answerer_leaderbord)\n",
    "* [推測者提出リーダーボード](#Guesser_submission_leaderbord)\n",
    "* [回答者提出リーダーボード](#Answerer_submission_leaderbord)\n",
    "* [質問ワードクラウド](#Questions_wordcould)"
   ]
  },
  {
   "cell_type": "code",
   "execution_count": null,
   "metadata": {
    "_cell_guid": "b1076dfc-b9ad-4769-8c92-a6c4dae69d19",
    "_uuid": "8f2839f25d086af736a60e9eeb907d3b93b6e0e5",
    "execution": {
     "iopub.execute_input": "2024-06-19T01:48:31.345536Z",
     "iopub.status.busy": "2024-06-19T01:48:31.345001Z",
     "iopub.status.idle": "2024-06-19T01:48:35.010003Z",
     "shell.execute_reply": "2024-06-19T01:48:35.008592Z",
     "shell.execute_reply.started": "2024-06-19T01:48:31.345475Z"
    }
   },
   "outputs": [],
   "source": [
    "import pandas as pd  # データ解析のためのライブラリをインポート\n",
    "from ast import literal_eval  # リテラルを評価するための関数をインポート\n",
    "from IPython.display import display, Markdown  # Jupyter Notebookで表示するためのモジュールをインポート\n",
    "import string  # 文字列操作のためのモジュールをインポート\n",
    "import json  # JSONデータを扱うためのモジュールをインポート\n",
    "\n",
    "import nltk  # 自然言語処理のためのライブラリをインポート\n",
    "from nltk.corpus import stopwords  # ストップワードを扱うためのモジュールをインポート\n",
    "from wordcloud import WordCloud, STOPWORDS, ImageColorGenerator  # ワードクラウドを生成するライブラリをインポート\n",
    "import matplotlib.pyplot as plt  # グラフ描画のためのライブラリをインポート\n",
    "from sklearn.feature_extraction.text import TfidfVectorizer  # テキストデータのTF-IDF特徴量を抽出するためのモジュールをインポート\n",
    "from collections import Counter  # 要素のカウントを行うためのモジュールをインポート\n",
    "\n",
    "# 各ライブラリの役割:\n",
    "# - pandas: データフレームを使ったデータ操作を容易にするライブラリ\n",
    "# - ast: Pythonのリテラルを安全にPythonオブジェクトに変換するためのモジュール\n",
    "# - IPython.display: Jupyter Notebook内でMarkdownやデータを表示するためのモジュール\n",
    "# - string: 文字列操作用のストップワードや文字列定数を提供するモジュール\n",
    "# - json: JSON形式のデータを操作するためのライブラリ\n",
    "# - nltk: 自然言語処理のためのツールキット\n",
    "# - wordcloud: ワードクラウドを作成するためのライブラリ\n",
    "# - matplotlib: グラフを描画するためのオープンソースライブラリ\n",
    "# - sklearn: 機械学習のためのライブラリ、テキストデータの特徴量抽出を含む\n",
    "# - collections: データ集計のための便利なデータ構造を提供するモジュール"
   ]
  },
  {
   "cell_type": "code",
   "execution_count": null,
   "metadata": {
    "execution": {
     "iopub.execute_input": "2024-06-19T01:48:35.01228Z",
     "iopub.status.busy": "2024-06-19T01:48:35.011662Z",
     "iopub.status.idle": "2024-06-19T01:48:54.120305Z",
     "shell.execute_reply": "2024-06-19T01:48:54.118928Z",
     "shell.execute_reply.started": "2024-06-19T01:48:35.012237Z"
    }
   },
   "outputs": [],
   "source": [
    "df = pd.read_csv(\"/kaggle/input/llm-20-questions-games-dataset/LLM-20Questions-games.csv\", converters={col_list:literal_eval for col_list in [\"answers\", \"questions\", \"guesses\"]})\n",
    "# CSVファイルを読み込みます。このファイルにはLLM 20 Questionsゲームのデータが含まれています。\n",
    "# 'answers', 'questions', 'guesses'の各列は、文字列として保存されたリストを適切なリスト形式に変換するために、literal_evalを使用します。\n",
    "# 変換後のデータフレームをdfという変数に格納します。\n",
    "df  # データフレームの内容を表示します。"
   ]
  },
  {
   "cell_type": "code",
   "execution_count": null,
   "metadata": {
    "execution": {
     "iopub.execute_input": "2024-06-19T01:48:54.123369Z",
     "iopub.status.busy": "2024-06-19T01:48:54.122991Z",
     "iopub.status.idle": "2024-06-19T01:48:54.131102Z",
     "shell.execute_reply": "2024-06-19T01:48:54.129596Z",
     "shell.execute_reply.started": "2024-06-19T01:48:54.123338Z"
    }
   },
   "outputs": [],
   "source": [
    "def keyword_guessed(guess: str, keyword:str, alts:list[str]) -> bool:\n",
    "    # 提出された推測がキーワードと一致するかどうかを判定する関数です。\n",
    "    # 引数:\n",
    "    # guess: ユーザーが推測した文字列\n",
    "    # keyword: 正しいキーワード\n",
    "    # alts: 代替のキーワードのリスト\n",
    "\n",
    "    def normalize(s: str) -> str:\n",
    "        # 文字列を正規化する内部関数です。\n",
    "        # punctuation（句読点）を削除し、小文字に変換し、「the」を削除し、空白も削除します。\n",
    "        t = str.maketrans(\"\", \"\", string.punctuation)  # 句読点を削除するための変換テーブルを作成\n",
    "        return s.lower().replace(\"the\", \"\").replace(\" \", \"\").translate(t)\n",
    "\n",
    "    # ユーザーの推測とキーワードを正規化した後、比較します。\n",
    "    if normalize(guess) == normalize(keyword):\n",
    "        return True  # 推測がキーワードと一致する場合はTrueを返す\n",
    "\n",
    "    # 代替キーワードのリストと比較します。\n",
    "    for s in alts:\n",
    "        if normalize(guess) == normalize(s):\n",
    "            return True  # 推測が代替キーワードのいずれかと一致する場合もTrueを返す\n",
    "\n",
    "    return False  # 推測がどれとも一致しない場合はFalseを返す"
   ]
  },
  {
   "cell_type": "code",
   "execution_count": null,
   "metadata": {
    "_kg_hide-output": true,
    "execution": {
     "iopub.execute_input": "2024-06-19T01:48:54.137911Z",
     "iopub.status.busy": "2024-06-19T01:48:54.137334Z",
     "iopub.status.idle": "2024-06-19T01:48:54.158548Z",
     "shell.execute_reply": "2024-06-19T01:48:54.156841Z",
     "shell.execute_reply.started": "2024-06-19T01:48:54.137878Z"
    }
   },
   "outputs": [],
   "source": [
    "exec(open(\"/kaggle/input/llm-20-questions/llm_20_questions/keywords.py\").read()) # KEYWORDS_JSONを作成するためのスクリプトを実行します。\n",
    "KEYWORDS_JSON = json.loads(KEYWORDS_JSON)  # 文字列形式のJSONデータをPythonの辞書型に変換します。\n",
    "\n",
    "# keyword_guessed関数を適用するために、キーワードとその代替案を関連付ける辞書を作成します。\n",
    "KEYWORD_TO_ALTS = {words[\"keyword\"]:words[\"alts\"] for category in KEYWORDS_JSON for words in category[\"words\"]}\n",
    "# KEYWORD_TO_ALTS辞書には、各キーワードに対してその代替キーワードのリストが格納されています。 \n",
    "# 具体的には、各カテゴリーのすべてのキーワードと対応する代替案を含んでいます。\n",
    "# KEYWORD_TO_ALTS  # このコメントアウトされた行を使うと、辞書の内容を表示できます。"
   ]
  },
  {
   "cell_type": "code",
   "execution_count": null,
   "metadata": {
    "execution": {
     "iopub.execute_input": "2024-06-19T01:49:25.338053Z",
     "iopub.status.busy": "2024-06-19T01:49:25.336254Z",
     "iopub.status.idle": "2024-06-19T01:49:29.749981Z",
     "shell.execute_reply": "2024-06-19T01:49:29.748592Z",
     "shell.execute_reply.started": "2024-06-19T01:49:25.337994Z"
    }
   },
   "outputs": [],
   "source": [
    "# `guessed`列を修正します。isinメソッドの代わりに競技用の関数を使用します。\n",
    "df[\"guessed\"] = df.apply(lambda row: keyword_guessed(row.guesses[-1] if len(row.guesses) > 0 else \"\", row.keyword, KEYWORD_TO_ALTS.get(row.keyword, [])), axis=1)\n",
    "# 各行に対して、最後の推測がキーワードと一致しているかどうかを確認し、結果を`guessed`列に格納します。\n",
    "# guessesが空でない場合は最後の推測を取得し、空の場合は空文字列を使用します。\n",
    "\n",
    "# チームごとのゲーム数をカウントし、正規化するための辞書を作成します。\n",
    "guesser_counts = {k: v for k, v in df.guesser.value_counts().items()}  # 推測者の名前とそのゲーム数の辞書\n",
    "answerer_counts = {k: v for k, v in df.answerer.value_counts().items()}  # 回答者の名前とそのゲーム数の辞書\n",
    "\n",
    "winner_df = df.loc[df.guessed]  # guessedがTrueの行を抽出し、勝者のデータフレームを作成します。\n",
    "winner_df  # 勝者のデータフレームの内容を表示します。"
   ]
  },
  {
   "cell_type": "code",
   "execution_count": null,
   "metadata": {
    "execution": {
     "iopub.execute_input": "2024-06-19T01:49:50.861952Z",
     "iopub.status.busy": "2024-06-19T01:49:50.860435Z",
     "iopub.status.idle": "2024-06-19T01:49:50.874572Z",
     "shell.execute_reply": "2024-06-19T01:49:50.873159Z",
     "shell.execute_reply.started": "2024-06-19T01:49:50.861903Z"
    }
   },
   "outputs": [],
   "source": [
    "winner_df.guesser.value_counts().head(10)  # 勝者のデータフレームから、推測者の名前ごとの勝利回数をカウントし、上位10人を表示します。"
   ]
  },
  {
   "cell_type": "code",
   "execution_count": null,
   "metadata": {
    "execution": {
     "iopub.execute_input": "2024-06-19T01:49:50.877375Z",
     "iopub.status.busy": "2024-06-19T01:49:50.876968Z",
     "iopub.status.idle": "2024-06-19T01:49:50.885921Z",
     "shell.execute_reply": "2024-06-19T01:49:50.884844Z",
     "shell.execute_reply.started": "2024-06-19T01:49:50.877344Z"
    }
   },
   "outputs": [],
   "source": [
    "def fmt_team_winrate(team, team_fmt = \"{:30} winrate: {:.3%} ({}/{})\") -> str:\n",
    "    # チームの勝率をフォーマットして返す関数です。\n",
    "    # 引数:\n",
    "    # team: チームの名前と勝利回数、総ゲーム数を含むタプル\n",
    "    # team_fmt: フォーマットの文字列（デフォルトは勝率を表示するためのテンプレート）\n",
    "    return team_fmt.format(team[0], team[1][0], team[1][1], team[1][2])\n",
    "    # フォーマットした結果を返します。\n",
    "\n",
    "def winrate(win_counts: dict, total_counts: dict) -> list:\n",
    "    # 勝率を計算する関数です。\n",
    "    # 引数:\n",
    "    # win_counts: 勝利回数を含む辞書\n",
    "    # total_counts: 各チームの総ゲーム数を含む辞書\n",
    "    ratio_win = {k: (v / total_counts.get(k, 1), v, total_counts.get(k)) for k, v in win_counts.items()}\n",
    "    # 各チームの勝率を計算し、勝利回数と総ゲーム数も取得して新しい辞書を作成します。\n",
    "    \n",
    "    return sorted(ratio_win.items(), key=lambda item: item[1][0], reverse=True)\n",
    "    # 勝率でソートされた結果をリストとして返します。"
   ]
  },
  {
   "cell_type": "code",
   "execution_count": null,
   "metadata": {
    "execution": {
     "iopub.execute_input": "2024-06-19T01:49:50.888471Z",
     "iopub.status.busy": "2024-06-19T01:49:50.888118Z",
     "iopub.status.idle": "2024-06-19T01:49:50.900725Z",
     "shell.execute_reply": "2024-06-19T01:49:50.899025Z",
     "shell.execute_reply.started": "2024-06-19T01:49:50.888442Z"
    }
   },
   "outputs": [],
   "source": [
    "def print_winrate(winner_df=winner_df, df=df):\n",
    "    # 勝率を表示する関数です。\n",
    "    # 引数:\n",
    "    # winner_df: 勝者データフレーム\n",
    "    # df: 全ゲームデータフレーム\n",
    "    nb_total_games = len(df)  # 全ゲーム数をカウントします。\n",
    "    nb_wins = len(winner_df)  # 勝者データフレームの行数をカウントし、勝利回数を取得します。\n",
    "    \n",
    "    # フォーマットされた勝率を表示します。\n",
    "    print(fmt_team_winrate((\"Winrate total\", (nb_wins / nb_total_games, nb_wins, nb_total_games))))\n",
    "\n",
    "print_winrate()  # 勝率を計算して表示する関数を実行します。"
   ]
  },
  {
   "cell_type": "markdown",
   "id": "b69822f9",
   "metadata": {},
   "source": [
    "# 推測者リーダーボード"
   ]
  },
  {
   "cell_type": "code",
   "execution_count": null,
   "metadata": {
    "execution": {
     "iopub.execute_input": "2024-06-19T01:49:50.903202Z",
     "iopub.status.busy": "2024-06-19T01:49:50.902731Z",
     "iopub.status.idle": "2024-06-19T01:49:50.915007Z",
     "shell.execute_reply": "2024-06-19T01:49:50.913529Z",
     "shell.execute_reply.started": "2024-06-19T01:49:50.903163Z"
    }
   },
   "outputs": [],
   "source": [
    "guesser_win = winrate(winner_df.guesser.value_counts().items(), guesser_counts)  # 推測者の勝率を計算します。\n",
    "for team in guesser_win[:10]:  # 上位10チームについて\n",
    "    print(fmt_team_winrate(team))  # フォーマットされた勝率を表示します。"
   ]
  },
  {
   "cell_type": "markdown",
   "id": "452f0cc1",
   "metadata": {},
   "source": [
    "# 回答者リーダーボード\n",
    "[目次](#Table_of_Contents)"
   ]
  },
  {
   "cell_type": "code",
   "execution_count": null,
   "metadata": {
    "execution": {
     "iopub.execute_input": "2024-06-19T01:49:50.91853Z",
     "iopub.status.busy": "2024-06-19T01:49:50.918134Z",
     "iopub.status.idle": "2024-06-19T01:49:50.928242Z",
     "shell.execute_reply": "2024-06-19T01:49:50.926858Z",
     "shell.execute_reply.started": "2024-06-19T01:49:50.918478Z"
    }
   },
   "outputs": [],
   "source": [
    "answerer_win = winrate(winner_df.answerer.value_counts().items(), answerer_counts)  # 回答者の勝率を計算します。\n",
    "for team in answerer_win[:10]:  # 上位10チームについて\n",
    "    print(fmt_team_winrate(team))  # フォーマットされた勝率を表示します。"
   ]
  },
  {
   "cell_type": "markdown",
   "id": "807d0840",
   "metadata": {},
   "source": [
    "## 最も推測されたキーワード:"
   ]
  },
  {
   "cell_type": "code",
   "execution_count": null,
   "metadata": {
    "execution": {
     "iopub.execute_input": "2024-06-19T01:49:50.930091Z",
     "iopub.status.busy": "2024-06-19T01:49:50.929737Z",
     "iopub.status.idle": "2024-06-19T01:49:50.944728Z",
     "shell.execute_reply": "2024-06-19T01:49:50.943137Z",
     "shell.execute_reply.started": "2024-06-19T01:49:50.930062Z"
    }
   },
   "outputs": [],
   "source": [
    "winner_df.keyword.value_counts()  # キーワードの出現回数をカウントします。フランスが上位にあるのは、おそらくベースラインの例に起因しています。"
   ]
  },
  {
   "cell_type": "code",
   "execution_count": null,
   "metadata": {
    "execution": {
     "iopub.execute_input": "2024-06-19T01:49:50.946628Z",
     "iopub.status.busy": "2024-06-19T01:49:50.946225Z",
     "iopub.status.idle": "2024-06-19T01:49:51.560972Z",
     "shell.execute_reply": "2024-06-19T01:49:51.559598Z",
     "shell.execute_reply.started": "2024-06-19T01:49:50.946572Z"
    }
   },
   "outputs": [],
   "source": [
    "episode_agents = pd.read_csv(\"/kaggle/input/llm-20-questions-games-dataset/EpisodeAgents.csv\")  # EpisodeAgents.csvファイルを読み込みます。\n",
    "episode_agents = episode_agents.groupby([\"EpisodeId\", \"SubmissionId\"]).first()  # EpisodeIdとSubmissionIdでグループ化し、最初の行を取得します。\n",
    "episode_agents  # グループ化されたデータの内容を表示します。"
   ]
  },
  {
   "cell_type": "code",
   "execution_count": null,
   "metadata": {
    "execution": {
     "iopub.execute_input": "2024-06-19T01:49:51.563138Z",
     "iopub.status.busy": "2024-06-19T01:49:51.562683Z",
     "iopub.status.idle": "2024-06-19T01:49:51.596959Z",
     "shell.execute_reply": "2024-06-19T01:49:51.595367Z",
     "shell.execute_reply.started": "2024-06-19T01:49:51.563095Z"
    }
   },
   "outputs": [],
   "source": [
    "def show_game(row: pd.Series):\n",
    "    # ゲームデータを表示する関数です。\n",
    "    # 引数:\n",
    "    # row: ゲームに関する情報を含むPandasのSeries\n",
    "\n",
    "    if row.empty:  # 行が空の場合は何もしません。\n",
    "        return \n",
    "    \n",
    "    table_format = \"| {question} | {answer} | {guess} |\"  # テーブルフォーマットを定義します。\n",
    "    \n",
    "    # ゲームの質問、回答、推測の履歴を作成します。\n",
    "    history = \"\\n\".join([table_format.format(question=\"question\", answer=\"answer\", guess=\"guess\"), \n",
    "                         table_format.format(question=\"---\", answer=\"---\", guess=\"---\")] + \n",
    "                        [table_format.format(question=question, answer=answer, guess=guess) \n",
    "                         for answer, question, guess in zip(row.answers, row.questions, row.guesses)])\n",
    "    \n",
    "    # 推測者のスコアを取得します。\n",
    "    guesser_score = episode_agents.loc[(row.game_num, row.guesser_SubmissionId)]\n",
    "    guesser_score = f\"{guesser_score.InitialScore:.2f}->{guesser_score.UpdatedScore:.2f} Confidence={guesser_score.UpdatedConfidence:.2f}\" if not guesser_score.empty else \"\"\n",
    "    \n",
    "    # 回答者のスコアを取得します。\n",
    "    answerer_score = episode_agents.loc[(row.game_num, row.answerer_SubmissionId)]\n",
    "    answerer_score = f\"{answerer_score.InitialScore:.2f}->{answerer_score.UpdatedScore:.2f} Confidence={answerer_score.UpdatedConfidence:.2f}\" if not answerer_score.empty else \"\"\n",
    "    \n",
    "    # ゲーム情報をMarkdown形式で表示します。\n",
    "    return display(Markdown(f\"\"\"\\\n",
    "* {row.game_num=}\n",
    "* Guesser:  **{row.guesser}** score: {guesser_score}\n",
    "* Answerer: **{row.answerer}** score: {answerer_score}\n",
    "* Keyword: **{row.keyword}** Category: {row.category} \n",
    "* Nb round: {row.nb_round} {row.CreateTime}\n",
    "\n",
    "{history}\n",
    "\"\"\"))\n",
    "    \n",
    "show_game(winner_df.iloc[0])  # 最初の勝者のゲームを表示します。この例では「答えはフランス」という推測がゲームに勝てなかったことを示します。正確なキーワードまたは代替キーワードが必要です。"
   ]
  },
  {
   "cell_type": "code",
   "execution_count": null,
   "metadata": {
    "_kg_hide-output": true,
    "execution": {
     "iopub.execute_input": "2024-06-19T01:49:51.599325Z",
     "iopub.status.busy": "2024-06-19T01:49:51.598884Z",
     "iopub.status.idle": "2024-06-19T01:49:51.627006Z",
     "shell.execute_reply": "2024-06-19T01:49:51.625583Z",
     "shell.execute_reply.started": "2024-06-19T01:49:51.599286Z"
    }
   },
   "outputs": [],
   "source": [
    "display(Markdown(f\"## 最優秀回答者 **{fmt_team_winrate(answerer_win[0])}**\"))  # 最も優れた回答者を表示します。\n",
    "for i, row in winner_df[winner_df.answerer == answerer_win[0][0]].iterrows():  # 最優秀回答者が勝利した全ゲームを繰り返し処理します。\n",
    "    show_game(row)  # 各ゲームの詳細を表示します。"
   ]
  },
  {
   "cell_type": "code",
   "execution_count": null,
   "metadata": {
    "_kg_hide-output": true,
    "execution": {
     "iopub.execute_input": "2024-06-19T01:49:51.631672Z",
     "iopub.status.busy": "2024-06-19T01:49:51.631172Z",
     "iopub.status.idle": "2024-06-19T01:49:51.933959Z",
     "shell.execute_reply": "2024-06-19T01:49:51.932862Z",
     "shell.execute_reply.started": "2024-06-19T01:49:51.631633Z"
    }
   },
   "outputs": [],
   "source": [
    "display(Markdown(f\"## 最優秀推測者 **{fmt_team_winrate(guesser_win[0])}**\"))  # 最も優れた推測者を表示します。\n",
    "for i, row in winner_df[winner_df.guesser == guesser_win[0][0]].iterrows():  # 最優秀推測者が勝利した全ゲームを繰り返し処理します。\n",
    "    show_game(row)  # 各ゲームの詳細を表示します。"
   ]
  },
  {
   "cell_type": "markdown",
   "id": "280696da",
   "metadata": {},
   "source": [
    "# 最優秀提出物\n",
    "同様に、推測者や回答者ではなく、SubmissionIdごとに表示します。  \n",
    "目的は、より正確なリーダーボードを持つことです。チームは異なる戦略や結果を持つ複数のエージェントを提出することができます。  \n",
    "SubmissionIdを使用することで、新しい提出物がうまく機能するかどうかを確認できます（チームが何回提出したかや、何ゲームプレイしたかに関係なく）。"
   ]
  },
  {
   "cell_type": "code",
   "execution_count": null,
   "metadata": {
    "execution": {
     "iopub.execute_input": "2024-06-19T01:49:51.935575Z",
     "iopub.status.busy": "2024-06-19T01:49:51.935222Z",
     "iopub.status.idle": "2024-06-19T01:49:51.965267Z",
     "shell.execute_reply": "2024-06-19T01:49:51.963945Z",
     "shell.execute_reply.started": "2024-06-19T01:49:51.935547Z"
    }
   },
   "outputs": [],
   "source": [
    "guesser_sub_counts = {k: v for k, v in df.guesser_SubmissionId.value_counts().items()}  # 推測者のSubmissionIdごとのゲーム数をカウントします。\n",
    "answerer_sub_counts = {k: v for k, v in df.answerer_SubmissionId.value_counts().items()}  # 回答者のSubmissionIdごとのゲーム数をカウントします。\n",
    "\n",
    "guesser_sub_win = winrate(winner_df.guesser_SubmissionId.value_counts().items(), guesser_sub_counts)  # 推測者のSubmissionIdごとの勝率を計算します。\n",
    "answerer_sub_win = winrate(winner_df.answerer_SubmissionId.value_counts().items(), answerer_sub_counts)  # 回答者のSubmissionIdごとの勝率を計算します。\n",
    "\n",
    "# SubmissionIdとそれに対応するチーム名の辞書を作成します。\n",
    "subId_to_team = {**winner_df.groupby(\"answerer_SubmissionId\").answerer.first(), \n",
    "                 **winner_df.groupby(\"guesser_SubmissionId\").guesser.first()}  # 回答者と推測者のSubmissionIdごとに最初のチームを取得します。"
   ]
  },
  {
   "cell_type": "markdown",
   "id": "f449711e",
   "metadata": {},
   "source": [
    "# 推測者提出リーダーボード\n",
    "[目次](#Table_of_Contents)"
   ]
  },
  {
   "cell_type": "code",
   "execution_count": null,
   "metadata": {
    "_kg_hide-output": true,
    "execution": {
     "iopub.execute_input": "2024-06-19T01:49:51.967764Z",
     "iopub.status.busy": "2024-06-19T01:49:51.967316Z",
     "iopub.status.idle": "2024-06-19T01:49:51.974057Z",
     "shell.execute_reply": "2024-06-19T01:49:51.972917Z",
     "shell.execute_reply.started": "2024-06-19T01:49:51.967722Z"
    }
   },
   "outputs": [],
   "source": [
    "for team in guesser_sub_win[:10]:  # 上位10チームについて\n",
    "    team = (f\"{subId_to_team[team[0]]} {team[0]}\", (team[1]))  # SubmissionIdとチーム名を組み合わせます。\n",
    "    print(fmt_team_winrate(team))  # フォーマットされた勝率を表示します。"
   ]
  },
  {
   "cell_type": "code",
   "execution_count": null,
   "metadata": {
    "_kg_hide-output": false,
    "execution": {
     "iopub.execute_input": "2024-06-19T01:49:51.976152Z",
     "iopub.status.busy": "2024-06-19T01:49:51.97573Z",
     "iopub.status.idle": "2024-06-19T01:49:51.991996Z",
     "shell.execute_reply": "2024-06-19T01:49:51.990978Z",
     "shell.execute_reply.started": "2024-06-19T01:49:51.976114Z"
    }
   },
   "outputs": [],
   "source": [
    "display(Markdown(f\"## 最優秀推測者エージェントのゲーム: SubmissionId={fmt_team_winrate(guesser_sub_win[0])}\"))  # 最も優れた推測者エージェントのゲームを表示します。\n",
    "for i, row in winner_df[winner_df.guesser_SubmissionId == guesser_sub_win[0][0]].iterrows():  # 最優秀推測者のSubmissionIdに基づいてゲームを繰り返し処理します。\n",
    "    show_game(row)  # 各ゲームの詳細を表示します。"
   ]
  },
  {
   "cell_type": "markdown",
   "id": "8e5209be",
   "metadata": {},
   "source": [
    "# 回答者提出リーダーボード\n",
    "[目次](#Table_of_Contents)"
   ]
  },
  {
   "cell_type": "code",
   "execution_count": null,
   "metadata": {
    "_kg_hide-output": true,
    "execution": {
     "iopub.execute_input": "2024-06-19T01:49:51.994194Z",
     "iopub.status.busy": "2024-06-19T01:49:51.993559Z",
     "iopub.status.idle": "2024-06-19T01:49:52.003176Z",
     "shell.execute_reply": "2024-06-19T01:49:52.002216Z",
     "shell.execute_reply.started": "2024-06-19T01:49:51.994156Z"
    }
   },
   "outputs": [],
   "source": [
    "for team in answerer_sub_win[:10]:  # 上位10チームについて\n",
    "    team = (f\"{subId_to_team[team[0]]} {team[0]}\", (team[1]))  # SubmissionIdとチーム名を組み合わせます。\n",
    "    print(fmt_team_winrate(team))  # フォーマットされた勝率を表示します。"
   ]
  },
  {
   "cell_type": "code",
   "execution_count": null,
   "metadata": {
    "_kg_hide-output": false,
    "execution": {
     "iopub.execute_input": "2024-06-19T01:49:52.005406Z",
     "iopub.status.busy": "2024-06-19T01:49:52.004773Z",
     "iopub.status.idle": "2024-06-19T01:49:52.038065Z",
     "shell.execute_reply": "2024-06-19T01:49:52.036767Z",
     "shell.execute_reply.started": "2024-06-19T01:49:52.00537Z"
    }
   },
   "outputs": [],
   "source": [
    "display(Markdown(f\"## 最優秀回答者エージェントのゲーム: {subId_to_team[answerer_sub_win[0][0]]} SubmissionId={fmt_team_winrate(answerer_sub_win[0])}\"))  # 最も優れた回答者エージェントのゲームを表示します。\n",
    "for i, row in winner_df[winner_df.answerer_SubmissionId == answerer_sub_win[0][0]].iterrows():  # 最優秀回答者のSubmissionIdに基づいてゲームを繰り返し処理します。\n",
    "    show_game(row)  # 各ゲームの詳細を表示します。"
   ]
  },
  {
   "cell_type": "code",
   "execution_count": null,
   "metadata": {
    "execution": {
     "iopub.execute_input": "2024-06-19T01:49:52.040746Z",
     "iopub.status.busy": "2024-06-19T01:49:52.040258Z",
     "iopub.status.idle": "2024-06-19T01:49:52.055875Z",
     "shell.execute_reply": "2024-06-19T01:49:52.053996Z",
     "shell.execute_reply.started": "2024-06-19T01:49:52.040707Z"
    }
   },
   "outputs": [],
   "source": [
    "display(Markdown(f\"## 2番目に優れた回答者エージェントのゲーム: {subId_to_team[answerer_sub_win[1][0]]} SubmissionId={fmt_team_winrate(answerer_sub_win[1])}\"))  # 2番目に優れた回答者エージェントのゲームを表示します。\n",
    "for i, row in winner_df[winner_df.answerer_SubmissionId == answerer_sub_win[1][0]].iterrows():  # 2番目に優れた回答者のSubmissionIdに基づいてゲームを繰り返し処理します。\n",
    "    show_game(row)  # 各ゲームの詳細を表示します。"
   ]
  },
  {
   "cell_type": "markdown",
   "id": "0ae02965",
   "metadata": {},
   "source": [
    "# 最良スコアを持つ提出物からのゲーム\n",
    "以前の提出物もカウントしますが、今のところあまり役に立ちません。"
   ]
  },
  {
   "cell_type": "code",
   "execution_count": null,
   "metadata": {
    "execution": {
     "iopub.execute_input": "2024-06-19T01:49:52.058784Z",
     "iopub.status.busy": "2024-06-19T01:49:52.058325Z",
     "iopub.status.idle": "2024-06-19T01:49:52.117108Z",
     "shell.execute_reply": "2024-06-19T01:49:52.115749Z",
     "shell.execute_reply.started": "2024-06-19T01:49:52.058743Z"
    }
   },
   "outputs": [],
   "source": [
    "_, best_subId = episode_agents.iloc[episode_agents.UpdatedScore.argmax()].name  # 最良スコアを持つSubmissionIdを取得します。\n",
    "display(Markdown(f\"## 最良スコアを持つ提出物: {subId_to_team[best_subId]} SubmissionId={best_subId}\"))  # 最良スコアを持つ提出物を表示します。\n",
    "for i, row in winner_df[winner_df.answerer_SubmissionId == best_subId].iterrows():  # 最良スコアを持つ回答者のゲームを繰り返し処理します。\n",
    "    show_game(row)  # 各ゲームの詳細を表示します。\n",
    "    \n",
    "for i, row in winner_df[winner_df.guesser_SubmissionId == best_subId].iterrows():  # 最良スコアを持つ推測者のゲームを繰り返し処理します。\n",
    "    show_game(row)  # 各ゲームの詳細を表示します。"
   ]
  },
  {
   "cell_type": "markdown",
   "id": "8237f667",
   "metadata": {},
   "source": [
    "# 質問ワードクラウド"
   ]
  },
  {
   "cell_type": "code",
   "execution_count": null,
   "metadata": {
    "execution": {
     "iopub.execute_input": "2024-06-19T01:49:52.119755Z",
     "iopub.status.busy": "2024-06-19T01:49:52.119272Z",
     "iopub.status.idle": "2024-06-19T01:49:52.989842Z",
     "shell.execute_reply": "2024-06-19T01:49:52.988408Z",
     "shell.execute_reply.started": "2024-06-19T01:49:52.119715Z"
    }
   },
   "outputs": [],
   "source": [
    "t = str.maketrans(\"\", \"\", string.punctuation)  # 句読点を削除するための変換テーブルを作成します。\n",
    "questions_flat = [question.lower() for questions in df.questions.values for question in questions]  # 質問を小文字に変換しフラット化します。\n",
    "print(\"ユニークな質問の数:\", len(set(questions_flat)))  # ユニークな質問の数を表示します。"
   ]
  },
  {
   "cell_type": "code",
   "execution_count": null,
   "metadata": {
    "execution": {
     "iopub.execute_input": "2024-06-19T01:49:52.992246Z",
     "iopub.status.busy": "2024-06-19T01:49:52.991796Z",
     "iopub.status.idle": "2024-06-19T01:49:53.630399Z",
     "shell.execute_reply": "2024-06-19T01:49:53.629021Z",
     "shell.execute_reply.started": "2024-06-19T01:49:52.992209Z"
    }
   },
   "outputs": [],
   "source": [
    "Counter(questions_flat).most_common(50)  # 最も一般的な50の質問をカウントし、表示します。"
   ]
  },
  {
   "cell_type": "code",
   "execution_count": null,
   "metadata": {
    "_kg_hide-output": true,
    "execution": {
     "iopub.execute_input": "2024-06-19T01:49:53.633213Z",
     "iopub.status.busy": "2024-06-19T01:49:53.632687Z",
     "iopub.status.idle": "2024-06-19T01:49:53.934105Z",
     "shell.execute_reply": "2024-06-19T01:49:53.932717Z",
     "shell.execute_reply.started": "2024-06-19T01:49:53.633172Z"
    }
   },
   "outputs": [],
   "source": [
    "nltk.download('stopwords')  # NLTKのストップワードデータセットをダウンロードします。\n",
    "stop_words = list(stopwords.words('english'))  # 英語のストップワードのリストを取得します。\n",
    "stop_words  # ストップワードのリストを表示します。"
   ]
  },
  {
   "cell_type": "code",
   "execution_count": null,
   "metadata": {
    "execution": {
     "iopub.execute_input": "2024-06-19T01:49:53.936515Z",
     "iopub.status.busy": "2024-06-19T01:49:53.93603Z",
     "iopub.status.idle": "2024-06-19T01:49:56.711153Z",
     "shell.execute_reply": "2024-06-19T01:49:56.709899Z",
     "shell.execute_reply.started": "2024-06-19T01:49:53.936455Z"
    }
   },
   "outputs": [],
   "source": [
    "%%time  # このセルの実行時間を計測します。\n",
    "top_q_str = \" \".join(question for question, count in Counter(questions_flat).most_common(200))  # 最も一般的な200の質問を結合して文字列を作成します。\n",
    "wordcloud = WordCloud(stopwords=stop_words, background_color=\"white\", width=800, height=400).generate(top_q_str)  # ワードクラウドを生成します。\n",
    "\n",
    "# 生成した画像を表示します。\n",
    "plt.figure(figsize=(30, 20))  # 図のサイズを設定します。\n",
    "plt.imshow(wordcloud, interpolation='bilinear')  # ワードクラウドを表示します。\n",
    "plt.axis(\"off\")  # 軸を非表示にします。\n",
    "plt.show()  # 図を表示します。"
   ]
  },
  {
   "cell_type": "code",
   "execution_count": null,
   "metadata": {
    "execution": {
     "iopub.execute_input": "2024-06-19T01:49:56.716595Z",
     "iopub.status.busy": "2024-06-19T01:49:56.715389Z",
     "iopub.status.idle": "2024-06-19T01:49:58.583441Z",
     "shell.execute_reply": "2024-06-19T01:49:58.58043Z",
     "shell.execute_reply.started": "2024-06-19T01:49:56.716557Z"
    }
   },
   "outputs": [],
   "source": [
    "%%time  # このセルの実行時間を計測します。\n",
    "stop_words += [\"keyword\", \"question\", \"questions\", \"sure\", \"please\", \"answer\", \"answerer\", \"answers\", \"yes\"]  # 追加のストップワードをリストに加えます。\n",
    "wordcloud_words = WordCloud(stopwords=stop_words, background_color=\"white\", width=800, height=400).generate(top_q_str)  # 新しいストップワードリストを使用してワードクラウドを生成します。\n",
    "\n",
    "# 生成した画像を表示します。\n",
    "plt.figure(figsize=(30, 20))  # 図のサイズを設定します。\n",
    "plt.imshow(wordcloud_words, interpolation='bilinear')  # ワードクラウドを表示します。\n",
    "plt.axis(\"off\")  # 軸を非表示にします。\n",
    "plt.show()  # 図を表示します。"
   ]
  },
  {
   "cell_type": "code",
   "execution_count": null,
   "metadata": {
    "execution": {
     "iopub.execute_input": "2024-06-19T01:49:58.585319Z",
     "iopub.status.busy": "2024-06-19T01:49:58.584971Z",
     "iopub.status.idle": "2024-06-19T01:49:58.590695Z",
     "shell.execute_reply": "2024-06-19T01:49:58.589326Z",
     "shell.execute_reply.started": "2024-06-19T01:49:58.585294Z"
    }
   },
   "outputs": [],
   "source": [
    "# tfidf = TfidfVectorizer(max_df=.98, min_df=.01, stop_words=stop_words, use_idf=True, norm=None)  # TF-IDFベクトライザーを設定します。文書の98%に出現する単語や1%未満の単語を除外します。\n",
    "# questions_tfidf = tfidf.fit_transform(questions_flat)  # 質問データをTF-IDF行列に変換します。\n",
    "# questions_tfidf  # TF-IDF行列を表示します。"
   ]
  },
  {
   "cell_type": "code",
   "execution_count": null,
   "metadata": {
    "execution": {
     "iopub.execute_input": "2024-06-19T01:49:58.592906Z",
     "iopub.status.busy": "2024-06-19T01:49:58.592431Z",
     "iopub.status.idle": "2024-06-19T01:49:58.60476Z",
     "shell.execute_reply": "2024-06-19T01:49:58.603403Z",
     "shell.execute_reply.started": "2024-06-19T01:49:58.59287Z"
    }
   },
   "outputs": [],
   "source": [
    "# tfidf.get_feature_names_out()  # TF-IDFベクトライザーによって得られる特徴（単語）の名前を出力します。"
   ]
  },
  {
   "cell_type": "code",
   "execution_count": null,
   "metadata": {
    "execution": {
     "iopub.execute_input": "2024-06-19T01:49:58.607418Z",
     "iopub.status.busy": "2024-06-19T01:49:58.606909Z",
     "iopub.status.idle": "2024-06-19T01:49:58.619257Z",
     "shell.execute_reply": "2024-06-19T01:49:58.617712Z",
     "shell.execute_reply.started": "2024-06-19T01:49:58.60738Z"
    }
   },
   "outputs": [],
   "source": [
    "# questions_tfidf = pd.DataFrame(questions_tfidf.todense(), columns=tfidf.get_feature_names_out())  # TF-IDF行列をDense形式のデータフレームに変換し、特徴名を列名として設定します。\n",
    "# questions_tfidf  # 作成したデータフレームを表示します。"
   ]
  },
  {
   "cell_type": "markdown",
   "id": "1aa9448f",
   "metadata": {},
   "source": [
    "# 勝利したゲームから最も多く尋ねられた質問"
   ]
  },
  {
   "cell_type": "code",
   "execution_count": null,
   "metadata": {
    "execution": {
     "iopub.execute_input": "2024-06-19T01:49:58.621698Z",
     "iopub.status.busy": "2024-06-19T01:49:58.621263Z",
     "iopub.status.idle": "2024-06-19T01:49:58.632102Z",
     "shell.execute_reply": "2024-06-19T01:49:58.630282Z",
     "shell.execute_reply.started": "2024-06-19T01:49:58.621664Z"
    }
   },
   "outputs": [],
   "source": [
    "# questions_win = {question for questions in winner_df.questions.values for question in questions}  # 勝利したゲームの質問をセットとして取得します。\n",
    "# print(len(questions_win))  # ユニークな勝利したゲームの質問の数を表示します。\n",
    "# questions_win  # 収集した質問のセットを表示します。"
   ]
  },
  {
   "cell_type": "code",
   "execution_count": null,
   "metadata": {
    "execution": {
     "iopub.execute_input": "2024-06-19T01:49:58.63476Z",
     "iopub.status.busy": "2024-06-19T01:49:58.634347Z",
     "iopub.status.idle": "2024-06-19T01:49:58.650183Z",
     "shell.execute_reply": "2024-06-19T01:49:58.648787Z",
     "shell.execute_reply.started": "2024-06-19T01:49:58.634714Z"
    }
   },
   "outputs": [],
   "source": [
    "all_questions_win = [question.lower() for questions in winner_df.questions.values for question in questions]  # 勝利したゲームの質問を小文字に変換してリストに全て取得します。\n",
    "len(all_questions_win)  # 勝利したゲームの質問の総数を表示します。"
   ]
  },
  {
   "cell_type": "code",
   "execution_count": null,
   "metadata": {
    "execution": {
     "iopub.execute_input": "2024-06-19T01:49:58.653033Z",
     "iopub.status.busy": "2024-06-19T01:49:58.652156Z",
     "iopub.status.idle": "2024-06-19T01:49:58.669233Z",
     "shell.execute_reply": "2024-06-19T01:49:58.667824Z",
     "shell.execute_reply.started": "2024-06-19T01:49:58.652989Z"
    }
   },
   "outputs": [],
   "source": [
    "Counter(all_questions_win).most_common(50)  # 勝利したゲームからの質問の中で最も一般的な50の質問をカウントし、表示します。"
   ]
  },
  {
   "cell_type": "code",
   "execution_count": null,
   "metadata": {
    "execution": {
     "iopub.execute_input": "2024-06-19T01:49:58.671319Z",
     "iopub.status.busy": "2024-06-19T01:49:58.670914Z",
     "iopub.status.idle": "2024-06-19T01:49:59.903938Z",
     "shell.execute_reply": "2024-06-19T01:49:59.902436Z",
     "shell.execute_reply.started": "2024-06-19T01:49:58.671286Z"
    }
   },
   "outputs": [],
   "source": [
    "%%time  # このセルの実行時間を計測します。\n",
    "stop_words += [\"keyword\", \"question\", \"questions\", \"sure\", \"please\", \"answer\", \"answerer\", \"answers\", \"yes\"]  # 追加のストップワードをリストに加えます。\n",
    "wordcloud_words = WordCloud(stopwords=stop_words, background_color=\"white\", width=800, height=400).generate(\" \".join(question for question, count in Counter(all_questions_win).most_common(50)))  # 最も一般的な50の質問を使ってワードクラウドを生成します。\n",
    "\n",
    "# 生成した画像を表示します。\n",
    "plt.figure(figsize=(30, 20))  # 図のサイズを設定します。\n",
    "plt.imshow(wordcloud_words, interpolation='bilinear')  # ワードクラウドを表示します。\n",
    "plt.axis(\"off\")  # 軸を非表示にします。\n",
    "plt.show()  # 図を表示します。"
   ]
  },
  {
   "cell_type": "markdown",
   "id": "5ee30e95",
   "metadata": {},
   "source": [
    "# キーワードの大文字が成功したエピソード"
   ]
  },
  {
   "cell_type": "code",
   "execution_count": null,
   "metadata": {
    "execution": {
     "iopub.execute_input": "2024-06-19T01:53:14.275928Z",
     "iopub.status.busy": "2024-06-19T01:53:14.274626Z",
     "iopub.status.idle": "2024-06-19T01:53:14.306313Z",
     "shell.execute_reply": "2024-06-19T01:53:14.304699Z",
     "shell.execute_reply.started": "2024-06-19T01:53:14.275889Z"
    }
   },
   "outputs": [],
   "source": [
    "winner_df_maj = winner_df.loc[winner_df.category.isin([\"place\", \"things\"])]  # カテゴリーが「place」と「things」の勝者データフレームを抽出します。\n",
    "winner_df_maj  # 抽出したデータフレームを表示します。"
   ]
  },
  {
   "cell_type": "code",
   "execution_count": null,
   "metadata": {
    "execution": {
     "iopub.execute_input": "2024-06-19T01:53:16.007103Z",
     "iopub.status.busy": "2024-06-19T01:53:16.006583Z",
     "iopub.status.idle": "2024-06-19T01:53:16.016911Z",
     "shell.execute_reply": "2024-06-19T01:53:16.01581Z",
     "shell.execute_reply.started": "2024-06-19T01:53:16.007061Z"
    }
   },
   "outputs": [],
   "source": [
    "winner_df_maj.answerer.value_counts()  # カテゴリーが「place」と「things」の勝者における回答者の勝利回数をカウントし、表示します。"
   ]
  },
  {
   "cell_type": "code",
   "execution_count": null,
   "metadata": {
    "execution": {
     "iopub.execute_input": "2024-06-19T01:53:26.702196Z",
     "iopub.status.busy": "2024-06-19T01:53:26.701753Z",
     "iopub.status.idle": "2024-06-19T01:53:26.713151Z",
     "shell.execute_reply": "2024-06-19T01:53:26.711868Z",
     "shell.execute_reply.started": "2024-06-19T01:53:26.702167Z"
    }
   },
   "outputs": [],
   "source": [
    "winner_df_maj.guesser.value_counts()  # カテゴリーが「place」と「things」の勝者における推測者の勝利回数をカウントし、表示します。"
   ]
  },
  {
   "cell_type": "markdown",
   "id": "5b8e58d8",
   "metadata": {},
   "source": [
    "# コメント\n",
    "\n",
    "> ## Divyanshu\n",
    "> \n",
    "> 素晴らしいノートブックです。票を入れました。\n",
    "> \n",
    "> 私の作業を確認してフィードバックをいただけますか？良ければ票を入れてください。\n",
    "> \n",
    "> \n",
    "\n",
    "---\n",
    "\n",
    "> ## OminousDude\n",
    "> \n",
    "> とても役に立ちます、あなたには票を入れる価値があります！\n",
    "> \n",
    "> \n",
    "\n",
    "---\n",
    "\n",
    "> ## Staratnyte\n",
    "> \n",
    "> 素晴らしい仕事です！とても役立つ作業です。\n",
    "> \n",
    "> \n",
    "\n",
    "---\n",
    "\n"
   ]
  }
 ],
 "metadata": {
  "kaggle": {
   "accelerator": "none",
   "dataSources": [
    {
     "databundleVersionId": 8550470,
     "sourceId": 61247,
     "sourceType": "competition"
    },
    {
     "datasetId": 5068883,
     "sourceId": 8626439,
     "sourceType": "datasetVersion"
    },
    {
     "sourceId": 184227696,
     "sourceType": "kernelVersion"
    }
   ],
   "dockerImageVersionId": 30698,
   "isGpuEnabled": false,
   "isInternetEnabled": true,
   "language": "python",
   "sourceType": "notebook"
  },
  "kernelspec": {
   "display_name": "Python 3",
   "language": "python",
   "name": "python3"
  },
  "language_info": {
   "codemirror_mode": {
    "name": "ipython",
    "version": 3
   },
   "file_extension": ".py",
   "mimetype": "text/x-python",
   "name": "python",
   "nbconvert_exporter": "python",
   "pygments_lexer": "ipython3",
   "version": "3.10.13"
  }
 },
 "nbformat": 4,
 "nbformat_minor": 4
}
