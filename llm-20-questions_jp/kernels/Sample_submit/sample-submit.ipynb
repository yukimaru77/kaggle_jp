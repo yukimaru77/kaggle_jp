{
 "cells": [
  {
   "cell_type": "markdown",
   "id": "3632eb65",
   "metadata": {},
   "source": [
    "# 要約 \n",
    "このJupyter Notebookでは、Kaggleの「20の質問」ゲームコンペティションにおけるエージェントの実装が行われています。具体的には、質問を行い、推測をするエージェント（質問者）と、それに応じて「はい」または「いいえ」と回答するエージェント（回答者）の機能が実装されています。\n",
    "\n",
    "ノートブックは以下の内容に取り組んでいます：\n",
    "\n",
    "1. **ライブラリのインポート**: NumPyとPandasを使用して基本的なデータ操作を行います。\n",
    "2. **ディレクトリ管理**: 提出物用のディレクトリを作成し、そこに必要なファイルを格納します。\n",
    "3. **CSVファイルの作成とデータ書き込み**: 動物のリストを含むCSVファイルを作成し、エージェントが推測に使用するデータを用意します。\n",
    "4. **エージェントのロジック実装**: Pythonで書かれたエージェントのメインロジックが定義されています。質問者は、ランダムに選択された動物についての質問を行い、回答者はそれに対して「はい」または「いいえ」で応答します。エージェントの動作は、ゲームのターンに応じて異なるレスポンスを生成します。\n",
    "5. **ファイルの圧縮と提出準備**: 最後に、作成した提出物をtar.gz形式で圧縮し、提出の準備を行っています。\n",
    "\n",
    "使用されている主なライブラリは、`numpy`、`pandas`、および`csv`で、これらはデータ操作とファイル入出力のために利用されています。全体として、このノートブックは、コンペティションルールに従ったエージェントの構築と、そのためのデータ管理を行っていることが特徴です。\n",
    "\n",
    "---\n"
   ]
  },
  {
   "cell_type": "markdown",
   "id": "cada2d8d",
   "metadata": {},
   "source": [
    "# 用語概説 \n",
    "以下に、Jupyter Notebook内で使われている専門用語のリストとその簡単な解説を示します。初心者がつまずきやすいマイナーな用語や特有のドメイン知識に焦点を当てています。\n",
    "\n",
    "1. **Kaggle**: 機械学習の競技やデータ分析のプラットフォームで、データセットを共有したり、コンペティションを通じてスキルを磨くことができる。\n",
    "\n",
    "2. **Dockerイメージ**: アプリケーションをコンテナとして実行するためのテンプレート。指定されたアプリケーションの環境を包括的に構成する。具体的には、アプリが動作するために必要なすべてのライブラリや設定が含まれています。\n",
    "\n",
    "3. **CSV (Comma-Separated Values)**: データをカンマで区切った形式で保存するファイルフォーマット。データフレームをファイルに保存したり、読み込みたりするのに非常に一般的です。\n",
    "\n",
    "4. **エージェント**: コンペティションにおける参加者やプログラムのこと。質問をする役割や回答をする役割を持つことがあります。\n",
    "\n",
    "5. **libディレクトリ**: 「ライブラリ」の略として使われることが多く、他のスクリプトやデータを格納するための専用のフォルダ。\n",
    "\n",
    "6. **sys.path**: Pythonのモジュール検索パスを格納したリスト。このリストにパスを追加することで、新しいモジュールをインポートできるようになる。\n",
    "\n",
    "7. **obs (observation)**: エージェントが環境から受け取る情報のこと。コンペティションでは、これが他のプレイヤーから得られる質問や回答などの情報を指します。\n",
    "\n",
    "8. **response**: エージェントが生成する応答のこと。質問者や回答者としての役割に応じて、異なる内容を返します。\n",
    "\n",
    "9. **turnType**: ゲーム内のエージェントの現在の役割や行動のタイプを示します。\"ask\"は質問をする、\"guess\"は推測をする、\"answer\"は回答することを意味します。\n",
    "\n",
    "10. **random.choice()**: Pythonのrandomモジュールの関数で、与えられたリストの中からランダムに1つの要素を選ぶために使用されます。ゲーム戦略においてランダム性を導入します。\n",
    "\n",
    "11. **tar**: Unix系のオペレーティングシステムで使用されるファイルアーカイブコマンド。複数のファイルを1つのアーカイブファイル（tarファイル）にまとめます。\n",
    "\n",
    "12. **pigz**: プロセス間で圧縮するための高速な圧縮ツールで、gzipよりも速く処理を行うことができます。\n",
    "\n",
    "13. **pv**: パイプの進捗状況を表示するためにツール。パイプライン処理の進行状況を監視するために使われます。\n",
    "\n",
    "これらの用語に関して知識を深めることで、Jupyter Notebookの内容や機械学習プロジェクトへの理解が一層深まるでしょう。\n",
    "\n",
    "---\n"
   ]
  },
  {
   "cell_type": "code",
   "execution_count": null,
   "metadata": {
    "_cell_guid": "b1076dfc-b9ad-4769-8c92-a6c4dae69d19",
    "_uuid": "8f2839f25d086af736a60e9eeb907d3b93b6e0e5",
    "execution": {
     "iopub.execute_input": "2024-06-07T09:20:03.275324Z",
     "iopub.status.busy": "2024-06-07T09:20:03.274946Z",
     "iopub.status.idle": "2024-06-07T09:20:04.299651Z",
     "shell.execute_reply": "2024-06-07T09:20:04.298528Z",
     "shell.execute_reply.started": "2024-06-07T09:20:03.275284Z"
    }
   },
   "outputs": [],
   "source": [
    "# このPython 3環境には、多くの便利な分析ライブラリがインストールされています\n",
    "# これはkaggle/python Dockerイメージによって定義されています: https://github.com/kaggle/docker-python\n",
    "# 例えば、以下は読み込むのに便利なパッケージのいくつかです\n",
    "\n",
    "import numpy as np # 線形代数のためのNumPyライブラリをインポートします\n",
    "import pandas as pd # データ処理、CSVファイル入出力のためのPandasライブラリをインポートします\n",
    "\n",
    "# 入力データファイルは読み取り専用の\"../input/\"ディレクトリ内にあります\n",
    "# 例えば、これを実行すると（クリックするか、Shift+Enterを押す）、入力ディレクトリ内のすべてのファイルがリストされます\n",
    "\n",
    "import os\n",
    "for dirname, _, filenames in os.walk('/kaggle/input'):\n",
    "    for filename in filenames:\n",
    "        print(os.path.join(dirname, filename)) # 各ファイルのフルパスを印刷します\n",
    "\n",
    "# 現在のディレクトリ（/kaggle/working/）には最大20GBまで書き込むことができ、このディレクトリに作成したバージョンを使用して\"Save & Run All\"で出力が保存されます\n",
    "# 一時ファイルは/kaggle/temp/に書き込むことができますが、そのファイルは現在のセッション外には保存されません"
   ]
  },
  {
   "cell_type": "code",
   "execution_count": null,
   "metadata": {
    "execution": {
     "iopub.execute_input": "2024-06-07T09:20:14.692473Z",
     "iopub.status.busy": "2024-06-07T09:20:14.691965Z",
     "iopub.status.idle": "2024-06-07T09:20:14.698313Z",
     "shell.execute_reply": "2024-06-07T09:20:14.697321Z",
     "shell.execute_reply.started": "2024-06-07T09:20:14.692431Z"
    }
   },
   "outputs": [],
   "source": [
    "import os\n",
    "submission_directory = \"/kaggle/working/submission\" # 提出物を保存するためのメインディレクトリのパスを設定\n",
    "submission_subdirectory = \"lib\" # サブディレクトリの名前を設定\n",
    "\n",
    "# メインディレクトリが存在しない場合は作成します\n",
    "if not os.path.exists(submission_directory):\n",
    "    os.mkdir(submission_directory) # メインディレクトリを作成\n",
    "    subdirectory_path = os.path.join(submission_directory, submission_subdirectory) # サブディレクトリのフルパスを生成\n",
    "    os.mkdir(subdirectory_path) # サブディレクトリを作成"
   ]
  },
  {
   "cell_type": "code",
   "execution_count": null,
   "metadata": {
    "execution": {
     "iopub.execute_input": "2024-06-07T09:20:41.795343Z",
     "iopub.status.busy": "2024-06-07T09:20:41.794942Z",
     "iopub.status.idle": "2024-06-07T09:20:41.801605Z",
     "shell.execute_reply": "2024-06-07T09:20:41.800423Z",
     "shell.execute_reply.started": "2024-06-07T09:20:41.795312Z"
    }
   },
   "outputs": [],
   "source": [
    "import csv\n",
    "# サブディレクトリ内に\"example.csv\"という名前のファイルを作成し、書き込みモードで開きます\n",
    "with open(os.path.join(subdirectory_path, \"example.csv\"), mode='w') as file:\n",
    "    writer = csv.writer(file) # CSVファイルに書き込むためのwriterオブジェクトを作成\n",
    "    writer.writerow([\"cow\", \"horse\"]) # CSVファイルの最初の行に\"cow\"と\"horse\"のデータを書き込みます"
   ]
  },
  {
   "cell_type": "code",
   "execution_count": null,
   "metadata": {
    "execution": {
     "iopub.execute_input": "2024-06-07T09:41:40.719471Z",
     "iopub.status.busy": "2024-06-07T09:41:40.718608Z",
     "iopub.status.idle": "2024-06-07T09:41:40.727272Z",
     "shell.execute_reply": "2024-06-07T09:41:40.726084Z",
     "shell.execute_reply.started": "2024-06-07T09:41:40.719433Z"
    }
   },
   "outputs": [],
   "source": [
    "%%writefile /kaggle/working/submission/main.py\n",
    "\n",
    "import os\n",
    "import sys\n",
    "import csv\n",
    "import random\n",
    "\n",
    "# 提出物/libディレクトリに他のファイル（例：モデルの重み）を置く場合、パスを設定する必要があります\n",
    "KAGGLE_COMPETITION_PATH = \"/kaggle_simulations/agent/\" # コンペティションパスを定義\n",
    "if os.path.exists(KAGGLE_COMPETITION_PATH):  # コンペティション内で実行している場合\n",
    "    subdirectory_path = os.path.join(KAGGLE_COMPETITION_PATH, \"lib\") # libフォルダへのパスを設定\n",
    "else: # ノートブックで実行している場合\n",
    "    subdirectory_path = os.path.join(\"/kaggle/working/submission/\", \"lib\") # libフォルダへのパスを設定\n",
    "sys.path.insert(0, subdirectory_path) # パスをシステムパスに追加します\n",
    "\n",
    "# \"example.csv\"ファイルを読み込みモードで開きます\n",
    "with open(os.path.join(subdirectory_path, \"example.csv\"), mode='r') as file:\n",
    "    reader = csv.reader(file) # CSVファイルを読み込むためのreaderオブジェクトを作成\n",
    "    guess_list = list(reader) # ファイルの全行をリストに変換します\n",
    "    guess_list = guess_list[0] # 1行目のリストを取得します\n",
    "\n",
    "animal = random.choice(guess_list) # guess_listからランダムに動物を選択します\n",
    "\n",
    "def agent_fn(obs, cfg):\n",
    "    \n",
    "    # エージェントが質問者で、turnTypeが\"ask\"の場合\n",
    "    if obs.turnType == \"ask\":\n",
    "        response = f'Does it look like a {animal}?' # 選ばれた動物について尋ねます\n",
    "    # エージェントが質問者で、turnTypeが\"guess\"の場合\n",
    "    elif obs.turnType == \"guess\":\n",
    "        if obs.answers[-1] == \"yes\": # 最後の回答が\"yes\"の場合\n",
    "            response = animal # 選択した動物を答えます\n",
    "        else:\n",
    "            response = \"penguin\" # 選択した動物が否定された場合の応答\n",
    "    # エージェントが回答者の場合\n",
    "    elif obs.turnType == \"answer\":\n",
    "        if obs.keyword in obs.questions[-1]: # 最後の質問にキーワードが含まれている場合\n",
    "            response = \"yes\" # \"yes\"と返答します\n",
    "        else:\n",
    "            response = \"no\" # \"no\"と返答します\n",
    "        \n",
    "    return response # 生成した応答を返します"
   ]
  },
  {
   "cell_type": "code",
   "execution_count": null,
   "metadata": {
    "execution": {
     "iopub.execute_input": "2024-06-07T09:41:44.572825Z",
     "iopub.status.busy": "2024-06-07T09:41:44.571964Z",
     "iopub.status.idle": "2024-06-07T09:41:48.854736Z",
     "shell.execute_reply": "2024-06-07T09:41:48.853072Z",
     "shell.execute_reply.started": "2024-06-07T09:41:44.572788Z"
    }
   },
   "outputs": [],
   "source": [
    "!apt install pigz pv > /dev/null # pigzとpvをインストールします。出力は表示しません\n",
    "!tar --use-compress-program='pigz --fast --recursive | pv' -cf submission.tar.gz -C /kaggle/working/submission . # submissionディレクトリを圧縮してsubmission.tar.gzを作成します"
   ]
  },
  {
   "cell_type": "code",
   "execution_count": null,
   "metadata": {},
   "outputs": [],
   "source": []
  }
 ],
 "metadata": {
  "kaggle": {
   "accelerator": "none",
   "dataSources": [
    {
     "databundleVersionId": 8550470,
     "sourceId": 61247,
     "sourceType": "competition"
    }
   ],
   "dockerImageVersionId": 30732,
   "isGpuEnabled": false,
   "isInternetEnabled": true,
   "language": "python",
   "sourceType": "notebook"
  },
  "kernelspec": {
   "display_name": "Python 3",
   "language": "python",
   "name": "python3"
  },
  "language_info": {
   "codemirror_mode": {
    "name": "ipython",
    "version": 3
   },
   "file_extension": ".py",
   "mimetype": "text/x-python",
   "name": "python",
   "nbconvert_exporter": "python",
   "pygments_lexer": "ipython3",
   "version": "3.10.13"
  }
 },
 "nbformat": 4,
 "nbformat_minor": 4
}
