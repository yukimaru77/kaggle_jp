{
 "cells": [
  {
   "cell_type": "markdown",
   "id": "dfd08188",
   "metadata": {},
   "source": [
    "# 要約 \n",
    "このJupyter Notebookは、Kaggleの「LLM 20 Questions」コンペティションに関連しており、スキル評価システムの公正性を評価するために作成されたものです。Notebookでは、競技の評価システムの一部としてTrueSkillを使用しており、特にボットのスキルをシミュレートし、ランキングシステムがパフォーマンスをどのように評価するかを実験しています。\n",
    "\n",
    "### 取り組んでいる問題\n",
    "このNotebookは、Kaggleのコンペティションのランキングシステムが公平であるか疑問を持ち、それを評価するためにデータを操作して分析しています。特に、TrueSkillを用いたスキル評価が実際の競技でどのように機能するかを調査しています。また、新しいボットの提出や、競技内での勝敗によってスキル評価が変化するという要素に注目しています。\n",
    "\n",
    "### 使用している手法やライブラリ\n",
    "1. **TrueSkillライブラリ**: このNotebookの主な方法論としてTrueSkillを使用し、ボットのスキルやレーティングを管理します。これを活用して、勝敗に基づいてレーティングを更新します。\n",
    "   \n",
    "2. **データ操作ライブラリ**: `pandas`を使って、ゲームデータの読み込み、操作、分析を行っています。\n",
    "\n",
    "3. **シミュレーション**: Notebook内でシミュレーションを行い、ボットのスキル分布や引き分けの確率を分析します。また、シミュレーションされたデータに基づいてプレイヤーのパフォーマンスを視覚化しています。\n",
    "\n",
    "4. **マルチプロット作成**: `matplotlib`を用いて、プレイヤーのスキルやTrueSkillのμ値の変化を視覚化し、シミュレーションの結果と実際のリーダーボードデータを比較しています。\n",
    "\n",
    "5. **ゲームプレイのシミュレーション**: チームマッチをシミュレートするための関数を定義しており、異なるスキル分布やシードを用いて多数のゲームを実行し、その結果を考察しています。\n",
    "\n",
    "### 結論\n",
    "Notebookは、Kaggleの「LLM 20 Questions」コンペティションにおける評価システムとその公平性を理解するための重要な実験を行っています。試行錯誤を通じて得た知見は、ボット間の評価や実際の競技におけるスキルの表現に影響を与え、コンペティションのランキングシステムがパフォーマンスよりも偶然性に大きく依存していることを示唆しています。\n",
    "\n",
    "---\n"
   ]
  },
  {
   "cell_type": "markdown",
   "id": "ea249811",
   "metadata": {},
   "source": [
    "# 用語概説 \n",
    "以下は、ノートブックの内容に基づき、機械学習・深層学習の初心者がつまずきそうな専門用語とその簡単な解説です。\n",
    "\n",
    "1. **ガウス分布 (Gaussian distribution)**:\n",
    "   中心が平均値で左右対称のベルカーブの形を持つ確率分布。データが平均値の周りに集中し、標準偏差によって散らばり具合が決まる統計的性質を持つ。\n",
    "\n",
    "2. **レーティング (Rating)**:\n",
    "   競技やゲームの中でプレイヤーのスキルを数値で評価したもので、特定のスキル評価システム（例: TrueSkill, Glicko）に基づいている。これによりプレイヤー間の比較が可能になる。\n",
    "\n",
    "3. **不確実性 (Uncertainty)**:\n",
    "   特定の推定がどれだけの誤差を含むかを示す指標。例えば、スキル評価の不確実性は、プレイヤーの実力が非常に変動する可能性を示す。\n",
    "\n",
    "4. **エピソード (Episode)**:\n",
    "   競技やシミュレーション内での一連の活动のこと。通常、ゲームまたはラウンドの単位で進行し、特定の条件（例えば、勝利、敗北）を評価する。\n",
    "\n",
    "5. **σ (sigma)**:\n",
    "   正規分布の標準偏差を示し、データの広がりを表す。特にTrueSkillの文脈では、レーティングの不確実性を表すパラメータとして機能。\n",
    "\n",
    "6. **引き分け確率 (Draw probability)**:\n",
    "   ゲームにおいて両チームまたはプレイヤーが同じ結果で終わる確率。特にTrueSkillでは、評価戦略に影響を与える重要な要素。\n",
    "\n",
    "7. **β (beta)**:\n",
    "   TrueSkillのパラメータの一つで、勝利確率を保証する距離を示す。競技の中でプレイヤーのレーティング更新に使用される。\n",
    "\n",
    "8. **τ (tau)**:\n",
    "   レーティングの変化を制限する動的要因を示すTrueSkillのパラメータ。これにより、評価の安定性が保たれる。\n",
    "\n",
    "9. **ダミーボット (Dummy bot)**:\n",
    "   知識や戦略がほとんどないか、全く持っていないプレイヤーのこと。リアルな競争環境の中で、他のボットのテストやスコアリング時に使われることが多い。\n",
    "\n",
    "10. **TrueSkill**:\n",
    "    Microsoftが開発したレーティングシステムで、プレイヤーのスキルを推定するためにガウス分布を基にしている。特にチーム戦において効果的で、プレイヤー間の相対的スキルを比較するのに役立つ。\n",
    "\n",
    "これらの用語は、ノートブック内のコンセプトを理解するために重要であり、初心者が実務経験なしに出遭うことの少ない特有の用語です。\n",
    "\n",
    "---\n"
   ]
  },
  {
   "cell_type": "markdown",
   "id": "436814be",
   "metadata": {},
   "source": [
    "[LLM 20 Questions コンペティション](https://www.kaggle.com/competitions/llm-20-questions/overview) のランキングシステムの公平性は、いくつかの議論で何度も疑問視されているため、それを評価するために小さな遊びのノートブックを書くことにしました。数学を評価するのではなく、データを操作して遊んでみましょう。\n",
    "\n",
    "# ランキングシステムの公式説明\n",
    "\n",
    "執筆時点（7月17日）で、コンペティションの概要には次のように示されています：\n",
    "> ### 評価\n",
    ">\n",
    "> 毎日、あなたのチームは最大5つのエージェント（ボット）をコンペティションに提出することができます。各提出物は、リーダーボード上の他のボットと対戦を行いますが、これらのボットは同様のスキル評価を持っています。時間が経つにつれて、勝利すればスキル評価が上がり、敗北すれば評価が下がり、引き分けの場合はお互いの評価が均一化されます。\n",
    ">\n",
    "> このコンペティションは、協力的な2対2の形式で行われます。あなたのボットは、同程度のスキルを持つ他のボットとランダムにペアになり、別のランダムなペアと対戦します。各ペアでは、一方のボットが質問者、もう一方が回答者にランダムに割り当てられます。ペアとして勝敗が決まるため、協力し合うことが奨励されます！\n",
    ">\n",
    "> 提出されたすべてのボットはコンペティション終了時までプレイし続け、新しいボットはより頻繁に選択されるようになっています。3つのアクティブな提出物があると、古いものが非アクティブ化されます。リーダーボード上には最高のスコアを持つボットだけが表示されますが、すべての提出物の進捗はあなたの提出ページで確認可能です。\n",
    ">\n",
    "> 各提出物には、ガウス分布N(μ,σ2)でモデル化された推定スキル評価があり、μは推定スキル、σはその推定の不確実性を表し、時間の経過とともに減少します。\n",
    ">\n",
    "> 提出物をアップロードすると、まずその提出物が自身のコピーと対戦する検証エピソードをプレイし、正常に動作することを確認します。エピソードが失敗した場合、その提出物はエラーとしてマークされ、原因を特定するためにエージェントのログをダウンロードできます。そうでない場合は、μ0=600で初期化され、継続的な評価のためのプールに参加します。また、この時、アクティブなエージェントの総数が3つを超える場合は古いエージェントが非アクティブ化されます。\n",
    ">\n",
    "> ### ランキングシステム\n",
    "> \n",
    "> エピソードが終了すると、そのエピソードに参加したすべてのボットの評価推定値が更新されます。一方のボットペアが勝利した場合、そのペアのμは増加し、対戦相手のμは減少します。結果が引き分けの場合は、μ値はそれぞれの平均値に近づきます。更新の大きさは、以前のμ値に基づく予想結果からの偏差および各ボットの不確実性σに比例します。また、結果から得られた情報量に基づいてσ項も減少します。エピソードでの勝利または敗北によって得られるスコアは、スキル評価の更新には影響しません。\n",
    "> \n",
    "> ### 最終評価\n",
    "> \n",
    "> 2024年8月13日の提出締め切り時点で、提出物はロックされます。2024年8月13日から8月27日まで、未公開の新しい単語セットに対してエピソードを実行し続けます。この期間中、あなたの3つのアクティブな提出物のみがリーダーボードの対象となります。この期間の終了時に、リーダーボードは確定します。\n",
    "\n",
    "# TrueSkill\n",
    "\n",
    "私は評価システムについてあまり詳しくありません。簡単な検索によると、$\\mu$ **および** $\\sigma$ パラメータを持つシステムの候補として [Glicko評価システム](https://en.wikipedia.org/wiki/Glicko_rating_system) が考えられます。この結論に至った経緯は覚えていませんが（チームプレイに関係していたのかもしれません）、より可能性のある候補は [TrueSkill](https://en.wikipedia.org/wiki/TrueSkill) です。詳細には触れませんので、興味のある方はウィキペディアのリンクを参照してください。ビデオゲームの世界では非常に人気があるようです。 [TrueSkill 2](https://www.microsoft.com/en-us/research/uploads/prod/2018/03/trueskill2.pdf) もありますが、第一印象ではその改善が私たちのコンペティションには関連しているようには見えません。\n",
    "\n",
    "## インストール\n",
    "\n",
    "幸いなことに、[Pypi](https://pypi.org/project/trueskill/) に [TrueSkillのPythonライブラリ](https://github.com/sublee/trueskill) があるので、インストールしてみましょう。"
   ]
  },
  {
   "cell_type": "code",
   "execution_count": null,
   "metadata": {
    "execution": {
     "iopub.execute_input": "2024-07-20T13:33:40.937504Z",
     "iopub.status.busy": "2024-07-20T13:33:40.937077Z",
     "iopub.status.idle": "2024-07-20T13:33:53.25384Z",
     "shell.execute_reply": "2024-07-20T13:33:53.252406Z",
     "shell.execute_reply.started": "2024-07-20T13:33:40.937471Z"
    }
   },
   "outputs": [],
   "source": [
    "!pip install trueskill  # TrueSkillライブラリをインストールします。これは、ボットのスキル評価を行うために使います。"
   ]
  },
  {
   "cell_type": "markdown",
   "id": "67f333cb",
   "metadata": {},
   "source": [
    "プレイヤーのレーティングは `Rating` クラスで表され、ゲームは `rate()` メソッドを使って実行されます。"
   ]
  },
  {
   "cell_type": "code",
   "execution_count": null,
   "metadata": {
    "execution": {
     "iopub.execute_input": "2024-07-20T13:33:53.257394Z",
     "iopub.status.busy": "2024-07-20T13:33:53.25688Z",
     "iopub.status.idle": "2024-07-20T13:33:53.264373Z",
     "shell.execute_reply": "2024-07-20T13:33:53.262782Z",
     "shell.execute_reply.started": "2024-07-20T13:33:53.257352Z"
    }
   },
   "outputs": [],
   "source": [
    "from trueskill import Rating, rate  # TrueSkillからRatingクラスとrate関数をインポートします。\n",
    "# Ratingクラスはプレイヤーのスキルを表すために使用され、rate関数はゲームの結果に基づいてプレイヤーのレーティングを更新するために使われます。"
   ]
  },
  {
   "cell_type": "markdown",
   "id": "86d74b2f",
   "metadata": {},
   "source": [
    "## ゲームを始めましょう\n",
    "\n",
    "4人のプレイヤーを $\\mu=600$ で定義しましょう："
   ]
  },
  {
   "cell_type": "code",
   "execution_count": null,
   "metadata": {
    "execution": {
     "iopub.execute_input": "2024-07-20T13:33:53.26666Z",
     "iopub.status.busy": "2024-07-20T13:33:53.26616Z",
     "iopub.status.idle": "2024-07-20T13:33:53.280295Z",
     "shell.execute_reply": "2024-07-20T13:33:53.278956Z",
     "shell.execute_reply.started": "2024-07-20T13:33:53.266618Z"
    }
   },
   "outputs": [],
   "source": [
    "player1 = Rating(mu=600)  # プレイヤー1のレーティングを初期化します（μ=600）。\n",
    "player2 = Rating(mu=600)  # プレイヤー2のレーティングを初期化します（μ=600）。\n",
    "player3 = Rating(mu=600)  # プレイヤー3のレーティングを初期化します（μ=600）。\n",
    "player4 = Rating(mu=600)  # プレイヤー4のレーティングを初期化します（μ=600）。\n",
    "\n",
    "teamA = [ player1, player2 ]  # チームAをプレイヤー1とプレイヤー2で構成します。\n",
    "teamB = [ player3, player4 ]  # チームBをプレイヤー3とプレイヤー4で構成します。"
   ]
  },
  {
   "cell_type": "markdown",
   "id": "b6fb6b7e",
   "metadata": {},
   "source": [
    "さて、彼らにゲームをプレイさせましょう："
   ]
  },
  {
   "cell_type": "code",
   "execution_count": null,
   "metadata": {
    "execution": {
     "iopub.execute_input": "2024-07-20T13:33:53.282315Z",
     "iopub.status.busy": "2024-07-20T13:33:53.281865Z",
     "iopub.status.idle": "2024-07-20T13:33:53.299601Z",
     "shell.execute_reply": "2024-07-20T13:33:53.29792Z",
     "shell.execute_reply.started": "2024-07-20T13:33:53.282277Z"
    }
   },
   "outputs": [],
   "source": [
    "rate(\n",
    "    [ teamA, teamB ],  # チームAとチームBのレーティングを更新します。\n",
    "    [ 0, 1 ]  # teamAはteamBよりもランクが低いため、teamAが勝利したことを示します。\n",
    ")"
   ]
  },
  {
   "cell_type": "markdown",
   "id": "c71580db",
   "metadata": {},
   "source": [
    "`rate()` 関数は、各プレイヤーの新しいレーティングをチームごとに返します。\n",
    "\n",
    "## シンプルな表示関数\n",
    "\n",
    "ゲームの結果を読みやすくするための関数を定義すると便利です："
   ]
  },
  {
   "cell_type": "code",
   "execution_count": null,
   "metadata": {
    "execution": {
     "iopub.execute_input": "2024-07-20T13:33:53.303163Z",
     "iopub.status.busy": "2024-07-20T13:33:53.302772Z",
     "iopub.status.idle": "2024-07-20T13:33:53.319621Z",
     "shell.execute_reply": "2024-07-20T13:33:53.318188Z",
     "shell.execute_reply.started": "2024-07-20T13:33:53.303131Z"
    }
   },
   "outputs": [],
   "source": [
    "from typing import Tuple  # Tuple型をインポートします。これは、プレイヤーのペアを表すために使います。\n",
    "\n",
    "def play_game(\n",
    "    teamA: Tuple[Rating, Rating],  # チームAのプレイヤーのタプル。\n",
    "    teamB: Tuple[Rating, Rating],  # チームBのプレイヤーのタプル。\n",
    "    outcome: Tuple[int, int]  # ゲームの結果を示すタプル（0: 1位、1: 2位）。\n",
    "):\n",
    "    \"\"\"\n",
    "    2つのチーム間でゲームをプレイし、プレイヤーのレーティングへの影響を表示します。\n",
    "    \n",
    "    パラメータ\n",
    "    ---------\n",
    "        teamA: Tuple[Rating, Rating]\n",
    "            2人のプレイヤーからなるチーム。\n",
    "        teamB: Tuple[Rating, Rating]\n",
    "            2人のプレイヤーからなるチーム。\n",
    "        outcome: Tuple[int, int]\n",
    "            ゲーム内のプレイヤーのランク付け（0: 最初、1: 次）。\n",
    "    \"\"\"\n",
    "    new_ratings = rate(\n",
    "        [ teamA, teamB ],  # チームAとチームBのレーティングを更新します。\n",
    "        outcome  # ゲームの結果を引数として渡します。\n",
    "    )\n",
    "    for old,new in zip(teamA, new_ratings[0]):  # チームAの古いレーティングと新しいレーティングを取得します。\n",
    "        delta = int(new.mu - old.mu)  # レーティングの変化量を計算します。\n",
    "        print(f\"{old.mu:.0f} -> {new.mu:.0f} ({'+' if delta >=0 else ''}{delta})\")  # レーティングの変化を表示します。\n",
    "    print(\"vs\")  # 対戦していることを示します。\n",
    "    for old,new in zip(teamB, new_ratings[1]):  # チームBの古いレーティングと新しいレーティングを取得します。\n",
    "        delta = int(new.mu - old.mu)  # レーティングの変化量を計算します。\n",
    "        print(f\"{old.mu:.0f} -> {new.mu:.0f} ({'+' if delta >=0 else ''}{delta})\")  # レーティングの変化を表示します。"
   ]
  },
  {
   "cell_type": "markdown",
   "id": "765102b5",
   "metadata": {},
   "source": [
    "前回のプレイヤーに対してこれを適用してみましょう："
   ]
  },
  {
   "cell_type": "code",
   "execution_count": null,
   "metadata": {
    "execution": {
     "iopub.execute_input": "2024-07-20T13:33:53.322078Z",
     "iopub.status.busy": "2024-07-20T13:33:53.321593Z",
     "iopub.status.idle": "2024-07-20T13:33:53.334908Z",
     "shell.execute_reply": "2024-07-20T13:33:53.333636Z",
     "shell.execute_reply.started": "2024-07-20T13:33:53.322038Z"
    }
   },
   "outputs": [],
   "source": [
    "play_game(teamA, teamB, [0, 1])  # チームAが勝利した結果を表示します。ここでは、チームAが1位、チームBが2位という結果を示しています。"
   ]
  },
  {
   "cell_type": "markdown",
   "id": "21536b3a",
   "metadata": {},
   "source": [
    "## シグマの特定\n",
    "\n",
    "現在、競技はデフォルト値の $\\sigma$ を使用していないことが明らかになってきました。TrueSkillの推奨では、$\\sigma = \\frac{\\mu}{3}$ を設定することになっていますが、これらのパラメータで少し遊んでみた結果、この競技においてはむしろ $\\sigma = \\frac{\\mu}{2} = 300$ に設定されていると考えています。\n",
    "\n",
    "実際のエピソードの結果を再現してみましょう。こちらは私の最初の提出物の最初の勝利の結果です：\n",
    "\n",
    "> [1位] gguillard 600 (+123) vs [1位] JavaZero 570 (+34) vs\n",
    ">\n",
    "> [3位] atom1231 577 (-72) vs [3位] KKY 464 (-44)\n",
    "\n",
    "少しの試行錯誤を行い、私の $\\sigma$ が初期値の300からそれほど遠くないと仮定すると、一致するパラメータの組み合わせを見つけるのは簡単です："
   ]
  },
  {
   "cell_type": "code",
   "execution_count": null,
   "metadata": {
    "execution": {
     "iopub.execute_input": "2024-07-20T13:33:53.33718Z",
     "iopub.status.busy": "2024-07-20T13:33:53.336766Z",
     "iopub.status.idle": "2024-07-20T13:33:53.354564Z",
     "shell.execute_reply": "2024-07-20T13:33:53.35308Z",
     "shell.execute_reply.started": "2024-07-20T13:33:53.337142Z"
    }
   },
   "outputs": [],
   "source": [
    "play_game(\n",
    "    [\n",
    "        Rating(mu=600, sigma=295),  # プレイヤー1のレーティング（μ=600、σ=295）。\n",
    "        Rating(mu=570, sigma=156)    # プレイヤー2のレーティング（μ=570、σ=156）。\n",
    "    ],\n",
    "    [\n",
    "        Rating(mu=577, sigma=225),  # プレイヤー3のレーティング（μ=577、σ=225）。\n",
    "        Rating(mu=464, sigma=176)    # プレイヤー4のレーティング（μ=464、σ=176）。\n",
    "    ],\n",
    "    [ 0, 1 ]  # 最初のチームが勝利したことを示します。\n",
    ")"
   ]
  },
  {
   "cell_type": "markdown",
   "id": "a7251948",
   "metadata": {},
   "source": [
    "## 引き分けの確率\n",
    "\n",
    "それでは、得点システムはTrueSkillで $\\mu=600$ と $\\sigma=300$ なのでしょうか？　実際にはそうではありません。これらの設定は引き分けの場合にうまく機能せず、変動が競技で観察されるものよりもはるかに大きくなります（通常は0から±数単位程度）："
   ]
  },
  {
   "cell_type": "code",
   "execution_count": null,
   "metadata": {
    "execution": {
     "iopub.execute_input": "2024-07-20T13:33:53.356954Z",
     "iopub.status.busy": "2024-07-20T13:33:53.356537Z",
     "iopub.status.idle": "2024-07-20T13:33:53.370446Z",
     "shell.execute_reply": "2024-07-20T13:33:53.368912Z",
     "shell.execute_reply.started": "2024-07-20T13:33:53.356917Z"
    }
   },
   "outputs": [],
   "source": [
    "play_game(\n",
    "    [\n",
    "        Rating(mu=600, sigma=295),  # プレイヤー1のレーティング（μ=600、σ=295）。\n",
    "        Rating(mu=570, sigma=156)    # プレイヤー2のレーティング（μ=570、σ=156）。\n",
    "    ],\n",
    "    [\n",
    "        Rating(mu=577, sigma=225),  # プレイヤー3のレーティング（μ=577、σ=225）。\n",
    "        Rating(mu=464, sigma=176)    # プレイヤー4のレーティング（μ=464、σ=176）。\n",
    "    ],\n",
    "    [ 1, 1 ]  # 勝者なし（引き分け）の結果を示します。\n",
    ")"
   ]
  },
  {
   "cell_type": "markdown",
   "id": "1a8e4252",
   "metadata": {},
   "source": [
    "ルールを再度読み返すと、重要なポイントは次の通りです：\n",
    "\n",
    "> 結果によって得られた情報量に基づいて、σ項も減少します。\n",
    "\n",
    "最初は、引き分けの場合にσが100倍の係数で手動で減少すると思い、うまく機能しているように見えました。その後、`help(trueskill)`を読んでみると、TrueSkill内で既に考慮されている可能性があることに気付きました。なぜなら、μとσの更新を担当するV関数とW関数には、それぞれ「勝ち」**と**「引き分け」のバージョンがあるからです。\n",
    "\n",
    "実際、いくつかの追加パラメータを持つTrueSkill環境を定義することができ、その中には`draw_probability`も含まれています。これは興味深いことです。なぜなら、私たちはこのコンペティションにおけるゲームの引き分け確率が… *かなり高い*ことを知っているからです。\n",
    "\n",
    "これを計算しましょう。シミュレーションに必要になります。私たちは、@waechterの[LLM 20 Questions - Games dataset](https://www.kaggle.com/code/waechter/llm-20-questions-games-dataset)を使用します。"
   ]
  },
  {
   "cell_type": "code",
   "execution_count": null,
   "metadata": {
    "execution": {
     "iopub.execute_input": "2024-07-20T13:33:53.372436Z",
     "iopub.status.busy": "2024-07-20T13:33:53.37207Z",
     "iopub.status.idle": "2024-07-20T13:34:54.361897Z",
     "shell.execute_reply": "2024-07-20T13:34:54.360753Z",
     "shell.execute_reply.started": "2024-07-20T13:33:53.372408Z"
    }
   },
   "outputs": [],
   "source": [
    "import pandas as pd  # pandasライブラリをインポートします。データ操作に便利です。\n",
    "from ast import literal_eval  # literal_evalをインポートします。文字列をリストや辞書に変換するために使用します。\n",
    "\n",
    "# ゲームデータセットをCSVファイルから読み込みます。\n",
    "games_df = pd.read_csv(\n",
    "    \"/kaggle/input/llm-20-questions-games-dataset/LLM-20Questions-games.csv\",\n",
    "    converters = {\n",
    "        col_list: literal_eval  # 指定した列をリストや辞書に変換します。\n",
    "        for col_list in [\"answers\", \"questions\", \"guesses\"]\n",
    "    }\n",
    ")\n",
    "\n",
    "# guesser_SubmissionIdが0でない行のみを取得します。これは、当日の提出物がまだラベル付けされていないようです。\n",
    "games_df = games_df[games_df[\"guesser_SubmissionId\"]!=0]  \n",
    "# CreateTime列を日付時刻形式に変換します。\n",
    "games_df[\"CreateTime\"] = pd.to_datetime(games_df[\"CreateTime\"], format=\"%m/%d/%Y %H:%M:%S\")  # 日付のフォーマットを指定して変換します。"
   ]
  },
  {
   "cell_type": "markdown",
   "id": "e1090132",
   "metadata": {},
   "source": [
    "このデータフレームには、各ゲームに対して2行が含まれています。各チームに1行ずつで、ブール値の「guessed」列があります。引き分けの場合、「guessed」は両チームで同じになります（ただし、両チームが同じラウンドで勝った3ゲームは無視しても問題ありませんが…）。"
   ]
  },
  {
   "cell_type": "code",
   "execution_count": null,
   "metadata": {
    "execution": {
     "iopub.execute_input": "2024-07-20T13:34:54.363788Z",
     "iopub.status.busy": "2024-07-20T13:34:54.363362Z",
     "iopub.status.idle": "2024-07-20T13:34:54.414383Z",
     "shell.execute_reply": "2024-07-20T13:34:54.4131Z",
     "shell.execute_reply.started": "2024-07-20T13:34:54.363749Z"
    }
   },
   "outputs": [],
   "source": [
    "games_df.groupby(\"game_num\")[\"guessed\"].sum().value_counts()  # ゲーム番号でグループ化し、各ゲームの\"guessed\"の合計を計算し、その値のカウントを求めます。これにより、各ゲームでの引き分けの確率を調べることができます。"
   ]
  },
  {
   "cell_type": "code",
   "execution_count": null,
   "metadata": {
    "execution": {
     "iopub.execute_input": "2024-07-20T13:34:54.416008Z",
     "iopub.status.busy": "2024-07-20T13:34:54.415666Z",
     "iopub.status.idle": "2024-07-20T13:34:54.423592Z",
     "shell.execute_reply": "2024-07-20T13:34:54.422411Z",
     "shell.execute_reply.started": "2024-07-20T13:34:54.41598Z"
    }
   },
   "outputs": [],
   "source": [
    "(144607 + 3) / (144607 + 1208 + 3)  # 引き分けの確率を計算します。これにより、勝敗の結果をもとに引き分けの確率を求めています。"
   ]
  },
  {
   "cell_type": "markdown",
   "id": "6992c85f",
   "metadata": {},
   "source": [
    "したがって、引き分けの確率は $p \\simeq 0.9917$ です。確かにかなり高いですね…。より正確なデータで後で更新します（ネタバレ：結果はさらに悪化するだけです）。\n",
    "\n",
    "## ベータとタウ\n",
    "\n",
    "ドキュメントには、他に興味深いかもしれない二つのパラメータが言及されています：\n",
    "\n",
    ">  :param beta: 約76%の勝利確率を保証する距離。\n",
    ">               推奨値は ``sigma`` の半分。\n",
    ">\n",
    ">  :param tau: レーティングの固定を制限する動的要因。\n",
    ">              推奨値は ``sigma`` パーセント。\n",
    "\n",
    "推奨値を使用しましょう。すなわち、$\\beta = \\frac{\\sigma}{2} = 150$ と $\\tau = \\frac{\\sigma}{100} = 3$ です。\n",
    "\n",
    "さて、新しいTrueSkill環境を定義しましょう："
   ]
  },
  {
   "cell_type": "code",
   "execution_count": null,
   "metadata": {
    "execution": {
     "iopub.execute_input": "2024-07-20T13:34:54.426179Z",
     "iopub.status.busy": "2024-07-20T13:34:54.425846Z",
     "iopub.status.idle": "2024-07-20T13:34:54.439415Z",
     "shell.execute_reply": "2024-07-20T13:34:54.43828Z",
     "shell.execute_reply.started": "2024-07-20T13:34:54.426154Z"
    }
   },
   "outputs": [],
   "source": [
    "from trueskill import setup  # TrueSkillのsetup関数をインポートします。これにより、TrueSkill環境を設定します。\n",
    "\n",
    "# 新しいTrueSkill環境を設定します。\n",
    "setup(\n",
    "    mu = 600,  # 初期スキルレーティング。\n",
    "    sigma = 300,  # 初期の不確実性。\n",
    "    beta = 150,  # 勝利確率を保証する距離。\n",
    "    tau = 3,  # レーティングの固定を制限する動的要因。\n",
    "    draw_probability = 0.9917  # 引き分けの確率。\n",
    ")"
   ]
  },
  {
   "cell_type": "markdown",
   "id": "2b4d3c99",
   "metadata": {},
   "source": [
    "再度、正しい $\\sigma$ を得るために少し調整が必要です："
   ]
  },
  {
   "cell_type": "code",
   "execution_count": null,
   "metadata": {
    "execution": {
     "iopub.execute_input": "2024-07-20T13:34:54.44138Z",
     "iopub.status.busy": "2024-07-20T13:34:54.440906Z",
     "iopub.status.idle": "2024-07-20T13:34:54.453125Z",
     "shell.execute_reply": "2024-07-20T13:34:54.451802Z",
     "shell.execute_reply.started": "2024-07-20T13:34:54.441337Z"
    }
   },
   "outputs": [],
   "source": [
    "play_game(\n",
    "    [\n",
    "        Rating(mu=600, sigma=144),  # プレイヤー1のレーティング（μ=600、σ=144）。\n",
    "        Rating(mu=570, sigma=76)    # プレイヤー2のレーティング（μ=570、σ=76）。\n",
    "    ],\n",
    "    [\n",
    "        Rating(mu=577, sigma=109),  # プレイヤー3のレーティング（μ=577、σ=109）。\n",
    "        Rating(mu=464, sigma=85)    # プレイヤー4のレーティング（μ=464、σ=85）。\n",
    "    ],\n",
    "    [ 0, 1 ]  # 最初のチームが勝利したことを示します。\n",
    ")"
   ]
  },
  {
   "cell_type": "markdown",
   "id": "f316d86a",
   "metadata": {},
   "source": [
    "しかし、引き分け後のレーティング更新は、実際にコンペティションで観察されるものと much より整合しています："
   ]
  },
  {
   "cell_type": "code",
   "execution_count": null,
   "metadata": {
    "execution": {
     "iopub.execute_input": "2024-07-20T13:34:54.460725Z",
     "iopub.status.busy": "2024-07-20T13:34:54.459243Z",
     "iopub.status.idle": "2024-07-20T13:34:54.46884Z",
     "shell.execute_reply": "2024-07-20T13:34:54.467572Z",
     "shell.execute_reply.started": "2024-07-20T13:34:54.460676Z"
    }
   },
   "outputs": [],
   "source": [
    "play_game(\n",
    "    [\n",
    "        Rating(mu=600, sigma=144),  # プレイヤー1のレーティング（μ=600、σ=144）。\n",
    "        Rating(mu=570, sigma=76)    # プレイヤー2のレーティング（μ=570、σ=76）。\n",
    "    ],\n",
    "    [\n",
    "        Rating(mu=577, sigma=109),  # プレイヤー3のレーティング（μ=577、σ=109）。\n",
    "        Rating(mu=464, sigma=85)    # プレイヤー4のレーティング（μ=464、σ=85）。\n",
    "    ],\n",
    "    [ 1, 1 ]  # 勝者なし（引き分け）の結果を示します。\n",
    ")"
   ]
  },
  {
   "cell_type": "markdown",
   "id": "2f93dc0b",
   "metadata": {},
   "source": [
    "私たちは、LLM 20 Questionsコンペティションで使用されているスコアリングシステムと非常に似たものを構築できたように思います。パラメータが*正確に*同じものである可能性は低く、いずれにせよ引き分けの確率は一定数のゲームが行われるまで推測できなかった可能性があります（おそらく継続的に更新されているのでしょうか？ – ちなみに関数を受け入れることもできます）が、これらの設定がゲームの結果を再現する能力が偶然であったとは思えません。\n",
    "\n",
    "# コンペティションのモデリング\n",
    "\n",
    "## 勝利確率\n",
    "\n",
    "では、どうやって全てのプレイヤーのボードを生成し、ランダムにチームを組んでプレイさせるのでしょうか？ :D\n",
    "\n",
    "まずは、現実的な勝利確率を抽出しましょう。再度*LLM 20 Questions - Gamesデータセット*を使用して、各提出物の`nb_guessed / nb_played`比率を計算します。\n",
    "\n",
    "しかし、現実的なスキル分布を得るために、まずは少ないゲームプレイ数（たとえば10回）の提出物をフィルタリングする必要があります："
   ]
  },
  {
   "cell_type": "code",
   "execution_count": null,
   "metadata": {
    "execution": {
     "iopub.execute_input": "2024-07-20T13:34:54.470566Z",
     "iopub.status.busy": "2024-07-20T13:34:54.470167Z",
     "iopub.status.idle": "2024-07-20T13:34:54.490357Z",
     "shell.execute_reply": "2024-07-20T13:34:54.489151Z",
     "shell.execute_reply.started": "2024-07-20T13:34:54.470535Z"
    }
   },
   "outputs": [],
   "source": [
    "nb_games_played = games_df.groupby(\"guesser_SubmissionId\").size()  # 各提出物のゲームプレイ数をカウントします。\n",
    "nb_games_played = nb_games_played[nb_games_played>=10]  # ゲームプレイ数が10回以上の提出物のみを残します。"
   ]
  },
  {
   "cell_type": "code",
   "execution_count": null,
   "metadata": {
    "execution": {
     "iopub.execute_input": "2024-07-20T13:34:54.492146Z",
     "iopub.status.busy": "2024-07-20T13:34:54.491807Z",
     "iopub.status.idle": "2024-07-20T13:34:54.590065Z",
     "shell.execute_reply": "2024-07-20T13:34:54.589034Z",
     "shell.execute_reply.started": "2024-07-20T13:34:54.492118Z"
    }
   },
   "outputs": [],
   "source": [
    "games_df = games_df[games_df[\"guesser_SubmissionId\"].isin(nb_games_played.index)]  # ゲームプレイ数が10回以上の提出物にフィルタリングされたデータフレームを作成します。これにより、対象となる提出物のみが残ります。"
   ]
  },
  {
   "cell_type": "markdown",
   "id": "6cbead2e",
   "metadata": {},
   "source": [
    "競技は1競技者あたり最大3つの提出物のみを許可しているため、最後の3つを除いてすべてのボットを削除する必要があります。中には100以上の提出物を持っている人もいます！"
   ]
  },
  {
   "cell_type": "code",
   "execution_count": null,
   "metadata": {
    "execution": {
     "iopub.execute_input": "2024-07-20T13:34:54.592534Z",
     "iopub.status.busy": "2024-07-20T13:34:54.591788Z",
     "iopub.status.idle": "2024-07-20T13:34:54.638829Z",
     "shell.execute_reply": "2024-07-20T13:34:54.63772Z",
     "shell.execute_reply.started": "2024-07-20T13:34:54.592495Z"
    }
   },
   "outputs": [],
   "source": [
    "games_df.groupby(\"guesser\")[\"guesser_SubmissionId\"].nunique().sort_values(ascending=False).head()  # 各予想者についてユニークな提出物の数をカウントし、降順でソートして上位の結果を表示します。これにより、最も多くの提出物を持つ予想者を特定できます。"
   ]
  },
  {
   "cell_type": "code",
   "execution_count": null,
   "metadata": {
    "execution": {
     "iopub.execute_input": "2024-07-20T13:34:54.640503Z",
     "iopub.status.busy": "2024-07-20T13:34:54.640135Z",
     "iopub.status.idle": "2024-07-20T13:34:54.748272Z",
     "shell.execute_reply": "2024-07-20T13:34:54.747023Z",
     "shell.execute_reply.started": "2024-07-20T13:34:54.640473Z"
    }
   },
   "outputs": [],
   "source": [
    "last_bots = games_df.sort_values(\n",
    "    by = \"CreateTime\"  # 提出物の作成時間でソートします。「guesser」でソートしないのは、いくつかの提出物が複数の名前を持っているためです。\n",
    ").drop_duplicates(\n",
    "    subset = \"guesser_SubmissionId\",\n",
    "    keep = \"last\"  # 最後の提出物を保持します。\n",
    ").groupby(\n",
    "    [ \"guesser\" ]\n",
    ")[[\n",
    "    \"guesser\",\n",
    "    \"guesser_SubmissionId\",\n",
    "    \"CreateTime\"\n",
    "]].tail(3).sort_values(\n",
    "    by = \"guesser\"\n",
    ")[\"guesser_SubmissionId\"].values  # 各予想者につき最後の3つの提出物を取得し、その提出物のIDを取得します。"
   ]
  },
  {
   "cell_type": "code",
   "execution_count": null,
   "metadata": {
    "execution": {
     "iopub.execute_input": "2024-07-20T13:34:54.750282Z",
     "iopub.status.busy": "2024-07-20T13:34:54.749833Z",
     "iopub.status.idle": "2024-07-20T13:34:54.797709Z",
     "shell.execute_reply": "2024-07-20T13:34:54.796632Z",
     "shell.execute_reply.started": "2024-07-20T13:34:54.750241Z"
    }
   },
   "outputs": [],
   "source": [
    "last_games_df = games_df[games_df[\"guesser_SubmissionId\"].isin(last_bots)]  # 最後のボットに対応するゲームデータをフィルタリングして取得します。これにより、最新の提出物に関連するデータフレームを作成します。"
   ]
  },
  {
   "cell_type": "markdown",
   "id": "0b23ff60",
   "metadata": {},
   "source": [
    "引き分けの確率を更新する時間です："
   ]
  },
  {
   "cell_type": "code",
   "execution_count": null,
   "metadata": {
    "execution": {
     "iopub.execute_input": "2024-07-20T13:34:54.799555Z",
     "iopub.status.busy": "2024-07-20T13:34:54.79912Z",
     "iopub.status.idle": "2024-07-20T13:34:54.830249Z",
     "shell.execute_reply": "2024-07-20T13:34:54.829136Z",
     "shell.execute_reply.started": "2024-07-20T13:34:54.799517Z"
    }
   },
   "outputs": [],
   "source": [
    "last_games_df.groupby(\"game_num\")[\"guessed\"].sum().value_counts()  # ゲーム番号でグループ化し、各ゲームの\"guessed\"の合計を計算し、その値のカウントを求めます。これにより、引き分けの確率を更新するためのデータを得ることができます。"
   ]
  },
  {
   "cell_type": "code",
   "execution_count": null,
   "metadata": {
    "execution": {
     "iopub.execute_input": "2024-07-20T13:34:54.831778Z",
     "iopub.status.busy": "2024-07-20T13:34:54.831459Z",
     "iopub.status.idle": "2024-07-20T13:34:54.839422Z",
     "shell.execute_reply": "2024-07-20T13:34:54.838194Z",
     "shell.execute_reply.started": "2024-07-20T13:34:54.831752Z"
    }
   },
   "outputs": [],
   "source": [
    "(123874 + 1) / (123874 + 546 + 1)  # 引き分けの確率を計算します。これにより、勝利と引き分けの結果をもとに引き分けの確率を求めています。"
   ]
  },
  {
   "cell_type": "markdown",
   "id": "6c9ee306",
   "metadata": {},
   "source": [
    "先に述べたように、引き分けの確率は以前よりもさらに悪化し、$p \\simeq 0.9956$ となっています…。\n",
    "\n",
    "実際のスキル分布を計算するために、「良いボット」と「ダミーボット」を区別する必要があります。"
   ]
  },
  {
   "cell_type": "code",
   "execution_count": null,
   "metadata": {
    "execution": {
     "iopub.execute_input": "2024-07-20T13:34:54.841505Z",
     "iopub.status.busy": "2024-07-20T13:34:54.841065Z",
     "iopub.status.idle": "2024-07-20T13:34:54.874546Z",
     "shell.execute_reply": "2024-07-20T13:34:54.873313Z",
     "shell.execute_reply.started": "2024-07-20T13:34:54.841469Z"
    }
   },
   "outputs": [],
   "source": [
    "goodbots = set(\n",
    "    last_games_df[\n",
    "        last_games_df.groupby(\"guesser_SubmissionId\")[\"guessed\"].transform(\"any\")  # 「guessed」がTrue（予想が成功）であるボットを識別します。\n",
    "    ][\"guesser_SubmissionId\"].unique()  # ユニークなボットのIDを取得します。\n",
    ")  # 成功した予想を行ったボットの集合を作成します。"
   ]
  },
  {
   "cell_type": "code",
   "execution_count": null,
   "metadata": {
    "execution": {
     "iopub.execute_input": "2024-07-20T13:34:54.876144Z",
     "iopub.status.busy": "2024-07-20T13:34:54.875823Z",
     "iopub.status.idle": "2024-07-20T13:34:54.883658Z",
     "shell.execute_reply": "2024-07-20T13:34:54.882398Z",
     "shell.execute_reply.started": "2024-07-20T13:34:54.87612Z"
    }
   },
   "outputs": [],
   "source": [
    "badbots = set(last_games_df[\"guesser_SubmissionId\"].unique()) - goodbots  # ユニークなボットのIDから「良いボット」を取り除き、「ダミーボット」の集合を作成します。"
   ]
  },
  {
   "cell_type": "code",
   "execution_count": null,
   "metadata": {
    "execution": {
     "iopub.execute_input": "2024-07-20T13:34:54.886244Z",
     "iopub.status.busy": "2024-07-20T13:34:54.885051Z",
     "iopub.status.idle": "2024-07-20T13:34:54.897491Z",
     "shell.execute_reply": "2024-07-20T13:34:54.896387Z",
     "shell.execute_reply.started": "2024-07-20T13:34:54.886127Z"
    }
   },
   "outputs": [],
   "source": [
    "len(goodbots), len(badbots)  # 「良いボット」と「ダミーボット」のそれぞれの数を取得して表示します。これにより、両者の比較が可能になります。"
   ]
  },
  {
   "cell_type": "markdown",
   "id": "1577a4a8",
   "metadata": {},
   "source": [
    "今度は、良いボットのチームをすべて考慮しましょう。相手がダムであることは気にしません。なぜなら、信頼できるチームメイトがいればキーワードを見つけることができるからです。また、他のチームが先にキーワードを見つけてしまったために、チームが見つける時間がなかったセッションは無視します。これは私たちのシミュレーションにバイアスをかけるだけです。一方で、チームメイトがダミーボットカテゴリに属するにも関わらずキーワードが推測された場合はそのインスタンスを保持します。なぜなら、たまたまそのチームメイトにはまだ勝つチャンスがなかっただけかもしれないからです。偶然の話ですが、これらのケースを削除すると統計が大幅に減少します。"
   ]
  },
  {
   "cell_type": "code",
   "execution_count": null,
   "metadata": {
    "execution": {
     "iopub.execute_input": "2024-07-20T13:34:54.899865Z",
     "iopub.status.busy": "2024-07-20T13:34:54.899416Z",
     "iopub.status.idle": "2024-07-20T13:34:54.927197Z",
     "shell.execute_reply": "2024-07-20T13:34:54.925925Z",
     "shell.execute_reply.started": "2024-07-20T13:34:54.899826Z"
    }
   },
   "outputs": [],
   "source": [
    "fair_games = last_games_df[\"guesser_SubmissionId\"].isin(goodbots) * (  # 良いボットのいずれかが「guesser」にいるゲームを特定します。\n",
    "    last_games_df[\"answerer_SubmissionId\"].isin(goodbots) + last_games_df[\"guessed\"]  # 良いボットが「answerer」にいるか、推測が成功したかどうかを確認します。\n",
    ")\n",
    "fair_games_df = last_games_df.loc[fair_games]  # 条件を満たすゲームデータを抽出します。\n",
    "fair_games_df = fair_games_df[(fair_games_df[\"guessed\"]) | (fair_games_df[\"nb_round\"]==20)]  # 推測が成功したか、ラウンド数が20であるものを保持します。"
   ]
  },
  {
   "cell_type": "code",
   "execution_count": null,
   "metadata": {
    "execution": {
     "iopub.execute_input": "2024-07-20T13:34:54.928963Z",
     "iopub.status.busy": "2024-07-20T13:34:54.928626Z",
     "iopub.status.idle": "2024-07-20T13:34:54.955558Z",
     "shell.execute_reply": "2024-07-20T13:34:54.954386Z",
     "shell.execute_reply.started": "2024-07-20T13:34:54.928934Z"
    }
   },
   "outputs": [],
   "source": [
    "skills_df = fair_games_df.groupby(\"guesser_SubmissionId\").agg(\n",
    "    guessed = (\"guessed\", \"sum\"),  # 各「guesser_SubmissionId」ごとに推測の合計を計算します。\n",
    "    played = (\"guessed\", \"size\")   # 各「guesser_SubmissionId」ごとにプレイされたゲームの数を計算します。\n",
    ").sort_index()\n",
    "\n",
    "skills_df[\"skill\"] = skills_df[\"guessed\"] / skills_df[\"played\"]  # スキルを推測数とプレイ数の比率として計算します。\n",
    "skills_df.sort_values(by = \"skill\", ascending = False, inplace = True)  # スキルが高い順にデータフレームをソートします。\n",
    "skills_df.head()  # スキルの高い上位のボットの情報を表示します。"
   ]
  },
  {
   "cell_type": "markdown",
   "id": "bc458a61",
   "metadata": {},
   "source": [
    "不自然な確率を避けるために、$N = 10$ 回未満のフェアゲームを持つボットを削除しましょう（すべてのゲームに対してはすでにこれを行いましたが、フェアゲームは別の話です）："
   ]
  },
  {
   "cell_type": "code",
   "execution_count": null,
   "metadata": {
    "execution": {
     "iopub.execute_input": "2024-07-20T13:34:54.957187Z",
     "iopub.status.busy": "2024-07-20T13:34:54.956863Z",
     "iopub.status.idle": "2024-07-20T13:34:54.969262Z",
     "shell.execute_reply": "2024-07-20T13:34:54.968259Z",
     "shell.execute_reply.started": "2024-07-20T13:34:54.957159Z"
    }
   },
   "outputs": [],
   "source": [
    "skills_df = skills_df[skills_df[\"played\"]>=10]  # プレイ数が10回以上のボットのみを残します。\n",
    "skills_df.head()  # 条件を満たすボットの情報を表示します。"
   ]
  },
  {
   "cell_type": "markdown",
   "id": "9bae8dc7",
   "metadata": {},
   "source": [
    "最後に、最良の推測者がキーワードを見つける確率を98%のスーパープッシャーにすることで、スキルの動的範囲を広げましょう。これは非常に楽観的です！しかし、これはまた、競技の終わりに近づくにつれてより良いボットへと進化することを反映したものともなります。"
   ]
  },
  {
   "cell_type": "code",
   "execution_count": null,
   "metadata": {
    "execution": {
     "iopub.execute_input": "2024-07-20T13:34:54.971278Z",
     "iopub.status.busy": "2024-07-20T13:34:54.970946Z",
     "iopub.status.idle": "2024-07-20T13:34:54.981237Z",
     "shell.execute_reply": "2024-07-20T13:34:54.980089Z",
     "shell.execute_reply.started": "2024-07-20T13:34:54.97125Z"
    }
   },
   "outputs": [],
   "source": [
    "BEST_SKILL = .98  # 最良のスキルを98%に設定します。\n",
    "skills_df[\"skill\"] *= BEST_SKILL / skills_df[\"skill\"].iloc[0]  # スキルの値を更新し、最良のスキルと比較して調整します。"
   ]
  },
  {
   "cell_type": "markdown",
   "id": "0973bfdb",
   "metadata": {},
   "source": [
    "これで、現在の（正規の）ボットのグローバルなスキル分布をある程度リアルに表現できました。これを見てみましょう："
   ]
  },
  {
   "cell_type": "code",
   "execution_count": null,
   "metadata": {
    "execution": {
     "iopub.execute_input": "2024-07-20T13:34:54.982895Z",
     "iopub.status.busy": "2024-07-20T13:34:54.982566Z",
     "iopub.status.idle": "2024-07-20T13:34:54.994731Z",
     "shell.execute_reply": "2024-07-20T13:34:54.993518Z",
     "shell.execute_reply.started": "2024-07-20T13:34:54.982868Z"
    }
   },
   "outputs": [],
   "source": [
    "import matplotlib.pyplot as plt  # データの可視化のためにmatplotlib.pyplotをインポートします。これを使用してスキル分布をプロットします。"
   ]
  },
  {
   "cell_type": "code",
   "execution_count": null,
   "metadata": {
    "execution": {
     "iopub.execute_input": "2024-07-20T13:34:54.996483Z",
     "iopub.status.busy": "2024-07-20T13:34:54.996104Z",
     "iopub.status.idle": "2024-07-20T13:34:55.336454Z",
     "shell.execute_reply": "2024-07-20T13:34:55.335017Z",
     "shell.execute_reply.started": "2024-07-20T13:34:54.996445Z"
    }
   },
   "outputs": [],
   "source": [
    "plt.figure(figsize=(12,6))  # プロットのサイズを設定します。\n",
    "_ = plt.hist(skills_df[\"skill\"], bins=15)  # スキル分布のヒストグラムを作成します。\n",
    "_ = plt.xlabel(\"フェアなチームメイトに対してキーワードを見つける確率\")  # x軸のラベルを設定します。\n",
    "_ = plt.ylabel(\"ボットの数\")  # y軸のラベルを設定します。\n",
    "_ = plt.title(\"良いボットのスキル分布\")  # プロットのタイトルを設定します。"
   ]
  },
  {
   "cell_type": "markdown",
   "id": "0b29dea7",
   "metadata": {},
   "source": [
    "これにより、明確なリーダーボードが得られるはずです！\n",
    "\n",
    "## プレイヤークラス\n",
    "\n",
    "それでは、レーティング履歴を追跡するためのPlayerクラスを作成しましょう："
   ]
  },
  {
   "cell_type": "code",
   "execution_count": null,
   "metadata": {
    "execution": {
     "iopub.execute_input": "2024-07-20T13:34:55.338487Z",
     "iopub.status.busy": "2024-07-20T13:34:55.338001Z",
     "iopub.status.idle": "2024-07-20T13:34:55.346266Z",
     "shell.execute_reply": "2024-07-20T13:34:55.344973Z",
     "shell.execute_reply.started": "2024-07-20T13:34:55.338444Z"
    }
   },
   "outputs": [],
   "source": [
    "from typing import Optional  # Optionalをインポートします。これは、引数がNoneである可能性を示すために使用します。\n",
    "from trueskill import TrueSkill  # TrueSkillをインポートします。これはレーティングシステムの一部です。\n",
    "\n",
    "class Player:\n",
    "    def __init__(\n",
    "        self,\n",
    "        skill: float,  # プレイヤーのスキルを初期化します。\n",
    "        env: Optional[TrueSkill] = None  # 今は無視しますが、後で役立ちます。\n",
    "    ):\n",
    "        self.skill = skill  # スキルを設定します。\n",
    "        self.rating = Rating() if env is None else env.Rating()  # 環境のデフォルト値（600,300）で開始します。\n",
    "        self.history = []  # レーティング履歴を保持するリストを初期化します。\n",
    "        \n",
    "    def update(self, new_rating):  # 新しいレーティングで更新するメソッドを定義します。\n",
    "        self.history.append(self.rating)  # 現在のレーティングを履歴に追加します。\n",
    "        self.rating = new_rating  # 新しいレーティングを設定します。"
   ]
  },
  {
   "cell_type": "markdown",
   "id": "ce43dbd3",
   "metadata": {},
   "source": [
    "## プレイヤープール\n",
    "\n",
    "次に、リアルなスキルの範囲を持つプレイヤーのプールを構築し、ダミーボットの数も加えます。良いボットのスキル評価に考慮される数が大幅に減少したため、ダミーボットの数にも同じ減少比率を適用するのが公平に思えますが、シミュレーションの結果にはあまり影響しないはずです（実際、悪化するかもしれません…）。興味があれば、遊んでみてください。"
   ]
  },
  {
   "cell_type": "code",
   "execution_count": null,
   "metadata": {
    "execution": {
     "iopub.execute_input": "2024-07-20T13:34:55.348153Z",
     "iopub.status.busy": "2024-07-20T13:34:55.347775Z",
     "iopub.status.idle": "2024-07-20T13:34:55.368358Z",
     "shell.execute_reply": "2024-07-20T13:34:55.367266Z",
     "shell.execute_reply.started": "2024-07-20T13:34:55.348122Z"
    }
   },
   "outputs": [],
   "source": [
    "reduction_ratio = len(skills_df) / len(goodbots)  # 良いボットに対するスキル評価の減少比率を計算します。\n",
    "\n",
    "players = { ii: Player(s) for ii,s in enumerate(skills_df[\"skill\"].values) }  # スキルに基づいてプレイヤーのプールを作成します。\n",
    "players.update({ len(players)+ii: Player(0) for ii in range(int(len(badbots)*reduction_ratio)) })  # ダミーボットを追加します。\n",
    "\n",
    "len(players)  # プレイヤーの総数を表示します。"
   ]
  },
  {
   "cell_type": "markdown",
   "id": "d44609da",
   "metadata": {},
   "source": [
    "実際のリーダーボードにいるプレイヤーよりもまだ多くのプレイヤーがいますが、これはボットの数であることを忘れないでください。リーダーボードの各競技者は最大3つのアクティブな提出物を持つことができます。\n",
    "\n",
    "## ゲーム関数\n",
    "\n",
    "最後に、勝利確率を考慮したゲーム関数を定義する必要があります。"
   ]
  },
  {
   "cell_type": "code",
   "execution_count": null,
   "metadata": {
    "execution": {
     "iopub.execute_input": "2024-07-20T13:34:55.369869Z",
     "iopub.status.busy": "2024-07-20T13:34:55.369569Z",
     "iopub.status.idle": "2024-07-20T13:34:55.38036Z",
     "shell.execute_reply": "2024-07-20T13:34:55.378824Z",
     "shell.execute_reply.started": "2024-07-20T13:34:55.369844Z"
    }
   },
   "outputs": [],
   "source": [
    "import random  # ランダムな数値を生成するためのrandomライブラリをインポートします。これを使用してゲーム内の動的な要素を作成します。"
   ]
  },
  {
   "cell_type": "code",
   "execution_count": null,
   "metadata": {
    "execution": {
     "iopub.execute_input": "2024-07-20T13:34:55.383034Z",
     "iopub.status.busy": "2024-07-20T13:34:55.382581Z",
     "iopub.status.idle": "2024-07-20T13:34:55.394885Z",
     "shell.execute_reply": "2024-07-20T13:34:55.393905Z",
     "shell.execute_reply.started": "2024-07-20T13:34:55.382994Z"
    }
   },
   "outputs": [],
   "source": [
    "def play_match(\n",
    "    teamA: Tuple[Player, Player],  # チームAのプレイヤーを定義します。\n",
    "    teamB: Tuple[Player, Player],  # チームBのプレイヤーを定義します。\n",
    "    env: Optional[TrueSkill] = None,  # 環境をオプションで設定します。\n",
    "    debug: bool = False  # デバッグ用のフラグを設定します。\n",
    "):\n",
    "    \"\"\"\n",
    "    2つのチーム間でマッチをプレイします。\n",
    "    \n",
    "    パラメータ\n",
    "    ---------\n",
    "        teamA: Tuple[Player, Player]\n",
    "            2人のプレイヤーからなるチームA。\n",
    "        teamB: Tuple[Player, Player]\n",
    "            2人のプレイヤーからなるチームB。\n",
    "        debug: boolean\n",
    "            デバッグ用のフラグ。\n",
    "    \"\"\"\n",
    "    if debug:\n",
    "        print(\"プレイヤーのスキル :\", [p.skill for p in teamA+teamB])  # プレイヤーのスキルを表示します。\n",
    "        print(\"プレイヤーのレーティング :\", [tuple(p.rating for p in teamA), tuple(p.rating for p in teamB)])  # プレイヤーのレーティングを表示します。\n",
    "    \n",
    "    # 各チームのプレイヤーがダミーボットであれば、そのチームはキーワードを見つけられない\n",
    "    # さもなくば、チームは推測者のスキルがランダムな数値よりも高ければキーワードを見つける\n",
    "    # （コード内の逆のロジックに注意）\n",
    "    ranks = [\n",
    "        1 if teamA[0].skill * teamA[1].skill == 0 or random.random() > teamA[0].skill else 0,\n",
    "        1 if teamB[0].skill * teamB[1].skill == 0 or random.random() > teamB[0].skill else 0\n",
    "    ]\n",
    "    \n",
    "    # 新しいレーティングはゲームの結果です\n",
    "    rating_function = rate if env is None else env.rate  # 環境に応じたレーティング関数を設定します。\n",
    "    new_ratings = rating_function(\n",
    "        [\n",
    "            [ p.rating for p in teamA ],  # チームAのプレイヤーのレーティングを取得します。\n",
    "            [ p.rating for p in teamB ]   # チームBのプレイヤーのレーティングを取得します。\n",
    "        ],\n",
    "        ranks  # 勝率を引数にします。\n",
    "    )\n",
    "    \n",
    "    # 全てのプレイヤーのレーティングを更新します\n",
    "    for p,r in zip(teamA, new_ratings[0]):\n",
    "        p.update(r)  # チームAの各プレイヤーのレーティングを更新します。\n",
    "    for p,r in zip(teamB, new_ratings[1]):\n",
    "        p.update(r)  # チームBの各プレイヤーのレーティングを更新します。\n",
    "        \n",
    "    if debug:\n",
    "        print(\"ゲーム結果 :\", ranks)  # ゲームの結果を表示します。\n",
    "        print(\"新しいレーティング :\", new_ratings)  # 新しいレーティングを表示します。\n",
    "    \n",
    "    return  # 終了します。"
   ]
  },
  {
   "cell_type": "markdown",
   "id": "2d01de1f",
   "metadata": {},
   "source": [
    "そして、出来上がりです！  競技をシミュレーションするために必要なものはすべて揃いました。こちらが最初のゲームです："
   ]
  },
  {
   "cell_type": "code",
   "execution_count": null,
   "metadata": {
    "execution": {
     "iopub.execute_input": "2024-07-20T13:34:55.396542Z",
     "iopub.status.busy": "2024-07-20T13:34:55.396091Z",
     "iopub.status.idle": "2024-07-20T13:34:55.414912Z",
     "shell.execute_reply": "2024-07-20T13:34:55.413579Z",
     "shell.execute_reply.started": "2024-07-20T13:34:55.396513Z"
    }
   },
   "outputs": [],
   "source": [
    "play_match(\n",
    "    [players[0], players[1]],  # プレイヤー0とプレイヤー1のチームA\n",
    "    [players[2], players[3]],  # プレイヤー2とプレイヤー3のチームB\n",
    "    debug = True  # デバッグ情報を表示します。\n",
    ")"
   ]
  },
  {
   "cell_type": "markdown",
   "id": "f2af308d",
   "metadata": {},
   "source": [
    "# 自分自身の競技シミュレーションを作成\n",
    "\n",
    "便利さと異なる設定を簡単にテストするために、プレイヤーの数やスキル、ゲームの数、TrueSkillの設定をパラメータ化できる競技クラスを定義し、レーティングの履歴を含むデータフレームを提供します。"
   ]
  },
  {
   "cell_type": "code",
   "execution_count": null,
   "metadata": {
    "execution": {
     "iopub.execute_input": "2024-07-20T13:34:55.416911Z",
     "iopub.status.busy": "2024-07-20T13:34:55.416425Z",
     "iopub.status.idle": "2024-07-20T13:34:55.429916Z",
     "shell.execute_reply": "2024-07-20T13:34:55.428701Z",
     "shell.execute_reply.started": "2024-07-20T13:34:55.416872Z"
    }
   },
   "outputs": [],
   "source": [
    "from typing import List  # List型をインポートします。リストの型注釈に使用します。\n",
    "from tqdm import tqdm  # tqdmをインポートします。進行状況バーを簡単に表示できます。"
   ]
  },
  {
   "cell_type": "code",
   "execution_count": null,
   "metadata": {
    "execution": {
     "iopub.execute_input": "2024-07-20T13:34:55.43225Z",
     "iopub.status.busy": "2024-07-20T13:34:55.431818Z",
     "iopub.status.idle": "2024-07-20T13:34:55.446402Z",
     "shell.execute_reply": "2024-07-20T13:34:55.445037Z",
     "shell.execute_reply.started": "2024-07-20T13:34:55.432152Z"
    }
   },
   "outputs": [],
   "source": [
    "class Competition:\n",
    "    \"\"\"\n",
    "    設定可能なTrueSkill競技環境。\n",
    "    \"\"\"\n",
    "    \n",
    "    def __init__(\n",
    "        self,\n",
    "        skill_dist: List[float],  # 各「良い」提出物に対するキーワードを見つける確率。\n",
    "        nb_dummy: int,  # ダミーボットの数。\n",
    "        mu: float = 600,  # TrueSkillのμパラメータ。\n",
    "        sigma: float = 300,  # TrueSkillのσパラメータ。\n",
    "        beta: float = 150,  # TrueSkillのβパラメータ。\n",
    "        tau: float = 3,  # TrueSkillのτパラメータ。\n",
    "        draw_probability: float = 0.9956,  # TrueSkillの引き分け確率パラメータ。\n",
    "        seed: float = 42  # ランダムシード。\n",
    "    ):\n",
    "        \"\"\"\n",
    "        コンストラクタ。\n",
    "        \n",
    "        パラメータ\n",
    "        ---------\n",
    "            skill_dist: List[float]\n",
    "                各「良い」提出物に対するキーワードを見つける確率。\n",
    "            nb_dummy: int\n",
    "                ダミーボットの数。\n",
    "            mu: float\n",
    "                TrueSkillのμパラメータ。\n",
    "            sigma: float\n",
    "                TrueSkillのσパラメータ。\n",
    "            beta: float\n",
    "                TrueSkillのβパラメータ。\n",
    "            tau: float\n",
    "                TrueSkillのτパラメータ。\n",
    "            draw_probability: float\n",
    "                TrueSkillの引き分け確率パラメータ。\n",
    "            seed: float\n",
    "                ランダムシード。\n",
    "        \"\"\"\n",
    "        # 競技環境の設定\n",
    "        self._trueskill = TrueSkill(\n",
    "            mu = mu,\n",
    "            sigma = sigma,\n",
    "            beta = beta,\n",
    "            tau = tau,\n",
    "            draw_probability = draw_probability\n",
    "        )\n",
    "        \n",
    "        # プレイヤープールの作成 — これがPlayerコンストラクタに「env」パラメータが必要だった理由です\n",
    "        self.players = { ii: Player(s, self._trueskill) for ii,s in enumerate(skill_dist) }\n",
    "        self.players.update({ len(self.players)+ii: Player(0, self._trueskill) for ii in range(nb_dummy) })  # ダミーボットを追加します。\n",
    "        \n",
    "        # ランダムシードの設定\n",
    "        self._seed = seed\n",
    "        random.seed(seed)\n",
    "        \n",
    "    def play_games(self, nb_games: int = 10000):\n",
    "        \"\"\"\n",
    "        ゲームをシミュレートし、プレイヤーの履歴を更新します。\n",
    "        \n",
    "        パラメータ\n",
    "        ---------\n",
    "            nb_games: int\n",
    "                プレイするゲームの数。\n",
    "        \"\"\"\n",
    "        \n",
    "        for i in tqdm(range(nb_games)):  # 指定された数のゲームをシミュレートします。\n",
    "            player_ids = random.sample(range(len(self.players)), 4)  # ランダムに4人のプレイヤーを選びます。\n",
    "            try:\n",
    "                play_match(\n",
    "                    [\n",
    "                        self.players[player_ids[0]],  # チームAの最初のプレイヤー。\n",
    "                        self.players[player_ids[1]]   # チームAの二番目のプレイヤー。\n",
    "                    ],\n",
    "                    [\n",
    "                        self.players[player_ids[2]],  # チームBの最初のプレイヤー。\n",
    "                        self.players[player_ids[3]]   # チームBの二番目のプレイヤー。\n",
    "                    ],\n",
    "                    env = self._trueskill  # 先ほど設定した環境を使用します。\n",
    "                )\n",
    "            except:\n",
    "                continue  # エラーが発生した場合は次の反復に進みます。"
   ]
  },
  {
   "cell_type": "markdown",
   "id": "333a5939",
   "metadata": {},
   "source": [
    "以前に使用したスキル分布を回復しましょう。"
   ]
  },
  {
   "cell_type": "code",
   "execution_count": null,
   "metadata": {
    "execution": {
     "iopub.execute_input": "2024-07-20T13:34:55.448291Z",
     "iopub.status.busy": "2024-07-20T13:34:55.447811Z",
     "iopub.status.idle": "2024-07-20T13:34:55.467925Z",
     "shell.execute_reply": "2024-07-20T13:34:55.466582Z",
     "shell.execute_reply.started": "2024-07-20T13:34:55.448256Z"
    }
   },
   "outputs": [],
   "source": [
    "skill_dist = skills_df[\"skill\"].values  # 以前に計算したスキル分布を取得します。\n",
    "nb_dummy = len(players) - len(skill_dist)  # プレイヤーの総数から良いボットの数を引いてダミーボットの数を計算します。"
   ]
  },
  {
   "cell_type": "code",
   "execution_count": null,
   "metadata": {
    "execution": {
     "iopub.execute_input": "2024-07-20T11:00:12.375277Z",
     "iopub.status.busy": "2024-07-20T11:00:12.374543Z",
     "iopub.status.idle": "2024-07-20T11:00:12.383547Z",
     "shell.execute_reply": "2024-07-20T11:00:12.382319Z",
     "shell.execute_reply.started": "2024-07-20T11:00:12.37524Z"
    }
   },
   "outputs": [],
   "source": [
    "# LLM20の推測の設定に従いますが、比較するためにいくつかの競技を定義することもできます。\n",
    "LLM20 = Competition(skill_dist, nb_dummy)  # LLM20コンペティションをインスタンス化します。"
   ]
  },
  {
   "cell_type": "code",
   "execution_count": null,
   "metadata": {
    "execution": {
     "iopub.execute_input": "2024-07-20T11:00:12.634531Z",
     "iopub.status.busy": "2024-07-20T11:00:12.634111Z",
     "iopub.status.idle": "2024-07-20T11:01:02.358646Z",
     "shell.execute_reply": "2024-07-20T11:01:02.357216Z",
     "shell.execute_reply.started": "2024-07-20T11:00:12.634496Z"
    }
   },
   "outputs": [],
   "source": [
    "# Kaggleのシステムでは、1秒あたり約1700ゲームを期待しています。\n",
    "# 履歴がリセットされないことに注意してください。ゲームは以前のものに追加されます。\n",
    "LLM20.play_games(100000)  # 100000ゲームをシミュレートします。"
   ]
  },
  {
   "cell_type": "markdown",
   "id": "35195405",
   "metadata": {},
   "source": [
    "# プロット\n",
    "\n",
    "このシミュレーションの結果に入る前に、実際の競技において、各提出物がプレイしたゲームの数の分布を念頭に置いておきましょう。これは競技開始から2ヶ月経過した後のものです："
   ]
  },
  {
   "cell_type": "code",
   "execution_count": null,
   "metadata": {
    "execution": {
     "iopub.execute_input": "2024-07-20T11:01:02.360863Z",
     "iopub.status.busy": "2024-07-20T11:01:02.360503Z",
     "iopub.status.idle": "2024-07-20T11:01:02.735353Z",
     "shell.execute_reply": "2024-07-20T11:01:02.734131Z",
     "shell.execute_reply.started": "2024-07-20T11:01:02.360832Z"
    }
   },
   "outputs": [],
   "source": [
    "plt.figure(figsize=(12,6))  # プロットのサイズを設定します。\n",
    "last_games_df.groupby(\"guesser_SubmissionId\").size().hist(bins=15)  # 各提出物のゲーム数の分布をヒストグラムで表示します。\n",
    "_ = plt.title(\"実際のプレイされたゲームの分布\")  # プロットのタイトルを設定します。\n",
    "_ = plt.xlabel(\"プレイされたゲームの数\")  # x軸のラベルを設定します。\n",
    "_ = plt.ylabel(\"ボットの数\")  # y軸のラベルを設定します。"
   ]
  },
  {
   "cell_type": "code",
   "execution_count": null,
   "metadata": {
    "execution": {
     "iopub.execute_input": "2024-07-20T11:01:02.737202Z",
     "iopub.status.busy": "2024-07-20T11:01:02.736784Z",
     "iopub.status.idle": "2024-07-20T11:01:02.753105Z",
     "shell.execute_reply": "2024-07-20T11:01:02.751637Z",
     "shell.execute_reply.started": "2024-07-20T11:01:02.737169Z"
    }
   },
   "outputs": [],
   "source": [
    "last_games_df[\"guesser_SubmissionId\"].nunique(), (last_games_df.groupby(\"guesser_SubmissionId\").size()>100).sum()  # ユニークな「guesser_SubmissionId」の数と、100回を超えてプレイされた提出物の数を計算して表示します。"
   ]
  },
  {
   "cell_type": "markdown",
   "id": "0c92bac4",
   "metadata": {},
   "source": [
    "一部のボットは他のボットよりも多くのゲームをプレイしていますが、それは彼らがはるかに古いからです。実際、約半数のボットは100回未満のゲームをプレイしており、一部のボットは500回以上プレイしています！これは重要な点ですが、この後は無視することにしますが、実際の競技と比較する際には頭に入れておくと良いでしょう。\n",
    "\n",
    "さて、シミュレーションのプロットを作成して、このランキングシステムが長期的にどのように機能するかを見てみましょう。"
   ]
  },
  {
   "cell_type": "code",
   "execution_count": null,
   "metadata": {
    "execution": {
     "iopub.execute_input": "2024-07-20T10:26:16.930027Z",
     "iopub.status.busy": "2024-07-20T10:26:16.929703Z",
     "iopub.status.idle": "2024-07-20T10:26:19.294599Z",
     "shell.execute_reply": "2024-07-20T10:26:19.29345Z",
     "shell.execute_reply.started": "2024-07-20T10:26:16.929999Z"
    }
   },
   "outputs": [],
   "source": [
    "fig = plt.figure(figsize=(16,8))  # プロットのサイズを設定します。\n",
    "cmap = plt.get_cmap('viridis')  # カラーマップを取得します。\n",
    "\n",
    "for i in range(len(LLM20.players))[::-1]:  # スキルが増加する順にプレイヤーをソートし、最良のものを上に置きます。\n",
    "    pskill = LLM20.players[i].skill  # プレイヤーのスキルを取得します。\n",
    "    plt.plot(\n",
    "        [r.mu for r in LLM20.players[i].history],  # プレイヤーのレーティング履歴に対してプロットします。\n",
    "        c = cmap(pskill) if pskill > 0 else [.6]*4  # スキルが0より大きい場合はカラーマップを使用し、ダミーボットは灰色で表示します。\n",
    "    )\n",
    "_ = plt.title(\"Muの進化\")  # プロットのタイトルを設定します。\n",
    "_ = plt.xlabel(\"プレイされたゲームの数\")  # x軸のラベルを設定します。\n",
    "_ = plt.ylabel(\"TrueSkillのμ値\")  # y軸のラベルを設定します。"
   ]
  },
  {
   "cell_type": "markdown",
   "id": "a9f96f5e",
   "metadata": {},
   "source": [
    "上のプロットは、*傾向がある*ものの、システムがプレイヤーのスキルに応じて区別することができないことを示しています。これは大量のゲームをプレイした後でもそうです。灰色の線はダミーボットに対応しています。\n",
    "\n",
    "では、シミュレーションされた上位10人のプレイヤーの挙動を詳しく見てみましょう："
   ]
  },
  {
   "cell_type": "code",
   "execution_count": null,
   "metadata": {
    "execution": {
     "iopub.execute_input": "2024-07-20T11:01:40.674394Z",
     "iopub.status.busy": "2024-07-20T11:01:40.673982Z",
     "iopub.status.idle": "2024-07-20T11:01:41.190297Z",
     "shell.execute_reply": "2024-07-20T11:01:41.189228Z",
     "shell.execute_reply.started": "2024-07-20T11:01:40.674364Z"
    }
   },
   "outputs": [],
   "source": [
    "NFIRSTS = 10  # 上位10人のプレイヤーを設定します。\n",
    "fig = plt.figure(figsize=(16,8))  # プロットのサイズを設定します。\n",
    "cmap = plt.get_cmap('tab10')  # タブカラーマップを取得します。\n",
    "\n",
    "for i in range(NFIRSTS):\n",
    "    pskill = LLM20.players[i].skill  # プレイヤーのスキルを取得します。\n",
    "    plt.plot(\n",
    "        [r.mu for r in LLM20.players[i].history],  # プレイヤーのレーティング履歴に対してプロットします。\n",
    "        c = cmap(i),  # 各プレイヤーに異なる色を割り当てます。\n",
    "        label = f\"skill = {pskill:.2f}\"  # レジェンド用のラベルを設定します。\n",
    "    )\n",
    "_ = plt.legend()  # レジェンドを表示します。\n",
    "_ = plt.title(\"上位10人（シミュレートされた）プレイヤーのMuの進化\")  # プロットのタイトルを設定します。\n",
    "_ = plt.xlabel(\"プレイされたゲームの数\")  # x軸のラベルを設定します。\n",
    "_ = plt.ylabel(\"TrueSkillのμ値\")  # y軸のラベルを設定します。"
   ]
  },
  {
   "cell_type": "markdown",
   "id": "6f948c60",
   "metadata": {},
   "source": [
    "最良のプレイヤーたちは、スキルの低いプレイヤーと同等に競うのに苦労しています…\n",
    "\n",
    "同じスキルを持つプレイヤーの進化を比較するのは興味深いかもしれません。特定の競技環境を設定してテストすることもできますが、私は最も現実的なシナリオを維持することに興味があるので、現在のプレイヤープールの中で確認してみましょう："
   ]
  },
  {
   "cell_type": "code",
   "execution_count": null,
   "metadata": {
    "execution": {
     "iopub.execute_input": "2024-07-20T11:01:55.170965Z",
     "iopub.status.busy": "2024-07-20T11:01:55.170558Z",
     "iopub.status.idle": "2024-07-20T11:01:55.176009Z",
     "shell.execute_reply": "2024-07-20T11:01:55.17492Z",
     "shell.execute_reply.started": "2024-07-20T11:01:55.170931Z"
    }
   },
   "outputs": [],
   "source": [
    "from collections import Counter  # 集合のカウントを簡単に行うためのCounterをインポートします。"
   ]
  },
  {
   "cell_type": "code",
   "execution_count": null,
   "metadata": {
    "execution": {
     "iopub.execute_input": "2024-07-20T11:01:55.360164Z",
     "iopub.status.busy": "2024-07-20T11:01:55.359355Z",
     "iopub.status.idle": "2024-07-20T11:01:55.367155Z",
     "shell.execute_reply": "2024-07-20T11:01:55.365919Z",
     "shell.execute_reply.started": "2024-07-20T11:01:55.360118Z"
    }
   },
   "outputs": [],
   "source": [
    "duplicated_skills = Counter(skill_dist[:15]).most_common(2)  # スキル分布の上位15個をカウントし、最も一般的な2つを取得します。\n",
    "duplicated_skills  # 重複したスキルのリストを表示します。"
   ]
  },
  {
   "cell_type": "markdown",
   "id": "0356c82e",
   "metadata": {},
   "source": [
    "15人の最良プレイヤーの中に、興味深い候補が2組います。それらのパフォーマンスの推移を確認してみましょう。"
   ]
  },
  {
   "cell_type": "code",
   "execution_count": null,
   "metadata": {
    "execution": {
     "iopub.execute_input": "2024-07-20T11:01:55.729569Z",
     "iopub.status.busy": "2024-07-20T11:01:55.729165Z",
     "iopub.status.idle": "2024-07-20T11:01:56.143681Z",
     "shell.execute_reply": "2024-07-20T11:01:56.142498Z",
     "shell.execute_reply.started": "2024-07-20T11:01:55.729538Z"
    }
   },
   "outputs": [],
   "source": [
    "SHOW_ALL = True  # すべてのプレイヤーを表示するかどうかのフラグを設定します。\n",
    "fig = plt.figure(figsize=(16,8))  # プロットのサイズを設定します。\n",
    "cmap = plt.get_cmap('tab10')  # タブカラーマップを取得します。\n",
    "gray = [.05] * 4  # ダミーボット用の灰色を設定します。\n",
    "\n",
    "if SHOW_ALL:\n",
    "    for i in range(len(LLM20.players)):\n",
    "        plt.plot(\n",
    "            [r.mu for r in LLM20.players[i].history],  # 各プレイヤーのレーティング履歴をプロットします。\n",
    "            c = gray  # ダミーボットは灰色で表示します。\n",
    "        )\n",
    "for i in range(20):  # 上位20人のプレイヤーに対してループします。\n",
    "    pskill = LLM20.players[i].skill  # プレイヤーのスキルを取得します。\n",
    "    if pskill == duplicated_skills[0][0]:  # 最初の重複したスキルと一致する場合。\n",
    "        color = cmap(0)  # カラーマップから色を取得します。\n",
    "    elif pskill == duplicated_skills[1][0]:  # 二つ目の重複したスキルと一致する場合。\n",
    "        color = cmap(1)  # カラーマップから別の色を取得します。\n",
    "    else:\n",
    "        continue  # 他はスキップします。\n",
    "    \n",
    "    plt.plot(\n",
    "        [r.mu for r in LLM20.players[i].history],  # プレイヤーのレーティング履歴をプロットします。\n",
    "        c = color,  # 適切な色で表示します。\n",
    "        label = f\"skill = {pskill:.2f}\"  # レジェンド用のラベルを設定します。\n",
    "    )\n",
    "_ = plt.legend()  # レジェンドを表示します。\n",
    "_ = plt.title(\"同一スキルを持つプレイヤーのMuの進化\")  # プロットのタイトルを設定します。\n",
    "_ = plt.xlabel(\"プレイされたゲームの数\")  # x軸のラベルを設定します。\n",
    "_ = plt.ylabel(\"TrueSkillのμ値\")  # y軸のラベルを設定します。"
   ]
  },
  {
   "cell_type": "markdown",
   "id": "e2f1bf23",
   "metadata": {},
   "source": [
    "スキルの高い競技者や低い競技者の間にはいくつかの変動がありますが、[@c-number](https://www.kaggle.com/competitions/llm-20-questions/discussion/520928)が報告したところでは、現在実際のリーダーボードで1位を獲得している彼は、3つの同一提出物が60の位置に分散していると言い、そのスコアは$\\mu=1143$から…$\\mu=767$まで変動していると述べています。この事実を考えると、そこまで悪くはありません！\n",
    "\n",
    "# リーダーボードとの比較\n",
    "\n",
    "シミュレーションされたリーダーボードが実際のものとどのように比較されるかを確認してみましょう："
   ]
  },
  {
   "cell_type": "code",
   "execution_count": null,
   "metadata": {
    "execution": {
     "iopub.execute_input": "2024-07-20T11:01:02.756138Z",
     "iopub.status.busy": "2024-07-20T11:01:02.75566Z",
     "iopub.status.idle": "2024-07-20T11:01:02.781335Z",
     "shell.execute_reply": "2024-07-20T11:01:02.780094Z",
     "shell.execute_reply.started": "2024-07-20T11:01:02.756092Z"
    }
   },
   "outputs": [],
   "source": [
    "lb = pd.read_csv(\"/kaggle/input/llm-20-lb-2024-07-14/llm-20-questions-publicleaderboard-2024-07-14.csv\")  # 実際のリーダーボードデータをCSVファイルから読み込みます。"
   ]
  },
  {
   "cell_type": "code",
   "execution_count": null,
   "metadata": {
    "execution": {
     "iopub.execute_input": "2024-07-20T11:17:08.830993Z",
     "iopub.status.busy": "2024-07-20T11:17:08.830619Z",
     "iopub.status.idle": "2024-07-20T11:17:09.887207Z",
     "shell.execute_reply": "2024-07-20T11:17:09.886084Z",
     "shell.execute_reply.started": "2024-07-20T11:17:08.830964Z"
    }
   },
   "outputs": [],
   "source": [
    "plt.figure(figsize=(12,6))  # プロットのサイズを設定します。\n",
    "_ = plt.hist(\n",
    "    lb.Score,\n",
    "    bins = 100,  # 100のビンでヒストグラムを作成します。\n",
    "    range = (300, 1200),  # スコアの範囲を300から1200に設定します。\n",
    "    log = True,  # ログスケールで表示します。\n",
    "    label = \"リーダーボード\"  # ヒストグラムのラベルを設定します。\n",
    ")\n",
    "_ = plt.hist(\n",
    "    [ p.history[-1].mu for p in LLM20.players.values() ],  # シミュレーションされたプレイヤーの最終μ値を取得します。\n",
    "    bins = 100,  # 100のビンでヒストグラムを作成します。\n",
    "    range = (300, 1200),  # スコアの範囲を300から1200に設定します。\n",
    "    alpha = .5,  # 透明度を設定します。\n",
    "    log = True,  # ログスケールで表示します。\n",
    "    label = \"シミュレーション\"  # ヒストグラムのラベルを設定します。\n",
    ")\n",
    "_ = plt.title(\"プレイされたゲームによる修正されたリーダーボード分布\")  # プロットのタイトルを設定します。\n",
    "_ = plt.xlabel(\"TrueSkill μ\")  # x軸のラベルを設定します。\n",
    "_ = plt.ylabel(\"ボットの数\")  # y軸のラベルを設定します。\n",
    "_ = plt.legend()  # レジェンドを表示します。"
   ]
  },
  {
   "cell_type": "markdown",
   "id": "811bf9ce",
   "metadata": {},
   "source": [
    "完璧とは言えませんが、そこまで悪くもありません。違いの一部はプレイされたゲームの数によって説明できますが、それだけでは十分ではありません。修正された比較を見てみましょう："
   ]
  },
  {
   "cell_type": "code",
   "execution_count": null,
   "metadata": {
    "execution": {
     "iopub.execute_input": "2024-07-20T11:17:17.975148Z",
     "iopub.status.busy": "2024-07-20T11:17:17.974713Z",
     "iopub.status.idle": "2024-07-20T11:17:19.036353Z",
     "shell.execute_reply": "2024-07-20T11:17:19.035282Z",
     "shell.execute_reply.started": "2024-07-20T11:17:17.975114Z"
    }
   },
   "outputs": [],
   "source": [
    "plt.figure(figsize=(12,6))  # プロットのサイズを設定します。\n",
    "played_dist = last_games_df.groupby(\"guesser_SubmissionId\").size().values  # ゲームプレイ数を取得します。\n",
    "_ = plt.hist(\n",
    "    lb.Score,\n",
    "    bins = 100,  # 100のビンでヒストグラムを作成します。\n",
    "    range = (300, 1200),  # スコアの範囲を300から1200に設定します。\n",
    "    log = True,  # ログスケールで表示します。\n",
    "    label = \"リーダーボード\"  # ヒストグラムのラベルを設定します。\n",
    ")\n",
    "_ = plt.hist(\n",
    "    [\n",
    "        p.history[min(len(p.history)-1, random.choice(played_dist))].mu  # プレイされたゲームの分布から「最後のゲーム」の番号を選びます。\n",
    "        for p in LLM20.players.values()\n",
    "    ],\n",
    "    bins = 100,  # 100のビンでヒストグラムを作成します。\n",
    "    range = (300, 1200),  # スコアの範囲を300から1200に設定します。\n",
    "    alpha = .5,  # 透明度を設定します。\n",
    "    log = True,  # ログスケールで表示します。\n",
    "    label = \"シミュレーション\"  # ヒストグラムのラベルを設定します。\n",
    ")\n",
    "_ = plt.title(\"プレイされたゲームによる修正されたリーダーボード分布\")  # プロットのタイトルを設定します。\n",
    "_ = plt.xlabel(\"TrueSkill μ\")  # x軸のラベルを設定します。\n",
    "_ = plt.ylabel(\"ボットの数\")  # y軸のラベルを設定します。\n",
    "_ =  plt.legend()  # レジェンドを表示します。"
   ]
  },
  {
   "cell_type": "markdown",
   "id": "080015a3",
   "metadata": {},
   "source": [
    "もう一つのポイントは、スキル分布が高い値にシフトしていることですが、再度、それだけでは差を説明するには不十分です。したがって、$\\beta$や$\\tau$の値がどこか間違っている可能性があると思います。また、競技中にパラメータが調整された可能性もあります。\n",
    "\n",
    "いずれにせよ、私のテストから判断すると、このシミュレーションの結果が変わるとは強く疑っています。\n",
    "\n",
    "# 上位10のゲーム履歴と比較\n",
    "\n",
    "私は手動でリーダーボードの上位10位のゲーム履歴をスクレイピングし、データを辞書形式で処理しました。このデータは、[LLM-20-top10-LB-matches](https://www.kaggle.com/datasets/gguillard/llm-20-top10-lb-matches) データセット内のピクル形式で見つけることができます。"
   ]
  },
  {
   "cell_type": "code",
   "execution_count": null,
   "metadata": {
    "execution": {
     "iopub.execute_input": "2024-07-20T11:39:56.944864Z",
     "iopub.status.busy": "2024-07-20T11:39:56.943904Z",
     "iopub.status.idle": "2024-07-20T11:39:56.956323Z",
     "shell.execute_reply": "2024-07-20T11:39:56.955114Z",
     "shell.execute_reply.started": "2024-07-20T11:39:56.944823Z"
    }
   },
   "outputs": [],
   "source": [
    "import pickle  # ピクルをインポートします。オブジェクトのシリアライズに使用します。\n",
    "with open(\"/kaggle/input/llm-20-top10-lb-matches/matches.pickle\", \"rb\") as f:  # ピクルファイルを開きます。\n",
    "    top10_games_dict = pickle.load(f)  # ピクルファイルからデータをロードします。"
   ]
  },
  {
   "cell_type": "markdown",
   "id": "71d83b7e",
   "metadata": {},
   "source": [
    "彼らの進化は私たちのシミュレーションとどのように比較されるでしょうか？"
   ]
  },
  {
   "cell_type": "code",
   "execution_count": null,
   "metadata": {
    "execution": {
     "iopub.execute_input": "2024-07-20T11:43:42.024192Z",
     "iopub.status.busy": "2024-07-20T11:43:42.023771Z",
     "iopub.status.idle": "2024-07-20T11:43:46.760287Z",
     "shell.execute_reply": "2024-07-20T11:43:46.759072Z",
     "shell.execute_reply.started": "2024-07-20T11:43:42.02416Z"
    }
   },
   "outputs": [],
   "source": [
    "plt.figure(figsize=(12,6))  # プロットのサイズを設定します。\n",
    "gray = [.05] * 4  # ダミーボット用の灰色を設定します。\n",
    "if SHOW_ALL:\n",
    "    for i in range(len(LLM20.players)):\n",
    "        plt.plot(\n",
    "            [r.mu for r in LLM20.players[i].history[:200]],  # 各プレイヤーの最初の200ゲームのレーティング履歴をプロットします。\n",
    "            c = gray  # ダミーボットは灰色で表示します。\n",
    "        )\n",
    "for kaggler, df in top10_games_dict.items():  # リーダーボードの上位10位のすべてのプレイヤーに対してループします。\n",
    "    _ = plt.plot(df[kaggler], label = kaggler)  # 各プレイヤーのレーティング履歴をプロットします。\n",
    "_ = plt.title(\"上位10のリーダーボードのμの進化（背景 = シミュレーション）\")  # プロットのタイトルを設定します。\n",
    "_ = plt.xlabel(\"プレイされたゲームの数\")  # x軸のラベルを設定します。\n",
    "_ = plt.ylabel(\"TrueSkillのμ値\")  # y軸のラベルを設定します。\n",
    "_ = plt.legend()  # レジェンドを表示します。"
   ]
  },
  {
   "cell_type": "markdown",
   "id": "96205ee8",
   "metadata": {},
   "source": [
    "このプロットの目的は、リーダーボードの動きが私たちのシミュレーションと一致していることを示すことです。特に、SpiralTipの印象的な復活に注目してください…\n",
    "\n",
    "# チームマッチング\n",
    "\n",
    "このプロセスで考慮しなかった重要なポイントがあります。競技の概要より引用します：\n",
    "\n",
    "> 各提出物は、リーダーボード上の同様のスキル評価を持つ他のボットと対戦するエピソード（ゲーム）をプレイします。\n",
    "\n",
    "私の知る限り、TrueSkillライブラリにはプレイヤーをスキル評価に応じて引き出す便利な関数は提供されていません。このポイントを気にする価値はあるのでしょうか？ 上位10人のプレイヤーのゲーム履歴があるので、彼らが$\\mu$の進化に沿ってどのようにペアリングされていたかを確認できます："
   ]
  },
  {
   "cell_type": "code",
   "execution_count": null,
   "metadata": {
    "execution": {
     "iopub.execute_input": "2024-07-20T11:52:33.744718Z",
     "iopub.status.busy": "2024-07-20T11:52:33.744306Z",
     "iopub.status.idle": "2024-07-20T11:52:34.72913Z",
     "shell.execute_reply": "2024-07-20T11:52:34.727955Z",
     "shell.execute_reply.started": "2024-07-20T11:52:33.744682Z"
    }
   },
   "outputs": [],
   "source": [
    "plt.figure(figsize=(12,6))  # プロットのサイズを設定します。\n",
    "for kaggler, df in top10_games_dict.items():  # 上位10人のプレイヤーに対してループします。\n",
    "    _ = plt.scatter(df[kaggler], df[\"Op1\"], s = 1, label = kaggler)  # プレイヤーのμとオポーネント1のμをプロットします。\n",
    "    _ = plt.scatter(df[kaggler], df[\"Op2\"], s = 1)  # オポーネント2のμをプロットします。\n",
    "    _ = plt.scatter(df[kaggler], df[\"Op3\"], s = 1)  # オポーネント3のμをプロットします。\n",
    "_ = plt.legend()  # レジェンドを表示します。"
   ]
  },
  {
   "cell_type": "markdown",
   "id": "1528eedb",
   "metadata": {},
   "source": [
    "いくつかの傾向は見られますが、そこからシミュレーション関数を推測するのは明らかではありません。さらに、高得点のボットがダミーボットとペアリングされる可能性があるため、彼らのレーティングは劣化する可能性があります（とはいえ、彼らの小さな $\\sigma$ によってある程度は軽減されています）。\n",
    "\n",
    "しかし、最も重要なことは、これは「[愚かさの穴](https://www.kaggle.com/competitions/llm-20-questions/discussion/514628#2889458)」の問題を解決するものではなく、むしろそれを助長することです。@loh-maaが非常に的確に名付けた問題です。\n",
    "\n",
    "# 結論\n",
    "\n",
    "このシミュレーションで恐らく不足している点が多くあります。特に、時間とともに新しい提出物があること、各プレイヤーのゲーム頻度が時間とともに減少すること（もしかしたら$\\sigma$に関連しているかもしれません）、あるいはある程度までプレイヤーが同じランクのプレイヤーとマッチングされるという事実です。しかし、これらの「特徴」が私の結論を変えるとは思えません。現状では、LLM 20 Questionsコンペティションのランキングシステムは、パフォーマンスよりも偶然の要素を多く含んでいることは明らかです。\n",
    "\n",
    "# プレイグラウンド\n",
    "\n",
    "上記のすべてを(再)読み返すことなく、TrueSkill環境をシミュレーションしたいという方のために、必要な情報をすべてここにまとめました。"
   ]
  },
  {
   "cell_type": "code",
   "execution_count": null,
   "metadata": {
    "execution": {
     "iopub.execute_input": "2024-07-20T12:07:21.162116Z",
     "iopub.status.busy": "2024-07-20T12:07:21.161724Z",
     "iopub.status.idle": "2024-07-20T12:07:38.260507Z",
     "shell.execute_reply": "2024-07-20T12:07:38.259054Z",
     "shell.execute_reply.started": "2024-07-20T12:07:21.162083Z"
    }
   },
   "outputs": [],
   "source": [
    "!pip install trueskill  # TrueSkillライブラリをインストールします。これは、ボットのスキル評価を行うために必要です。"
   ]
  },
  {
   "cell_type": "code",
   "execution_count": null,
   "metadata": {
    "execution": {
     "iopub.execute_input": "2024-07-20T12:14:02.066241Z",
     "iopub.status.busy": "2024-07-20T12:14:02.065836Z",
     "iopub.status.idle": "2024-07-20T12:14:02.071945Z",
     "shell.execute_reply": "2024-07-20T12:14:02.070471Z",
     "shell.execute_reply.started": "2024-07-20T12:14:02.066209Z"
    }
   },
   "outputs": [],
   "source": [
    "import random  # ランダムな数値を生成するためのライブラリをインポートします。\n",
    "from typing import List, Optional, Tuple  # 型注釈を提供するために必要な型をインポートします。\n",
    "import warnings  # 警告を表示するためのライブラリをインポートします。\n",
    "\n",
    "from tqdm import tqdm  # 進行状況バーを表示するためのライブラリをインポートします。\n",
    "from trueskill import TrueSkill  # TrueSkillライブラリをインポートします。これは、レーティングシステムの一部です。"
   ]
  },
  {
   "cell_type": "code",
   "execution_count": null,
   "metadata": {
    "execution": {
     "iopub.execute_input": "2024-07-20T12:08:22.91245Z",
     "iopub.status.busy": "2024-07-20T12:08:22.912031Z",
     "iopub.status.idle": "2024-07-20T12:08:22.919896Z",
     "shell.execute_reply": "2024-07-20T12:08:22.918457Z",
     "shell.execute_reply.started": "2024-07-20T12:08:22.912417Z"
    }
   },
   "outputs": [],
   "source": [
    "class Player:\n",
    "    def __init__(\n",
    "        self,\n",
    "        skill: float,  # プレイヤーのスキルを初期化します。\n",
    "        env: Optional[TrueSkill] = None  # 今は無視しますが、後で役立ちます。\n",
    "    ):\n",
    "        self.skill = skill  # スキルを設定します。\n",
    "        self.rating = Rating() if env is None else env.Rating()  # 環境のデフォルト値（600,300）で開始します。\n",
    "        self.history = []  # レーティング履歴を保持するリストを初期化します。\n",
    "        \n",
    "    def update(self, new_rating):  # 新しいレーティングで更新するメソッドを定義します。\n",
    "        self.history.append(self.rating)  # 現在のレーティングを履歴に追加します。\n",
    "        self.rating = new_rating  # 新しいレーティングを設定します。"
   ]
  },
  {
   "cell_type": "code",
   "execution_count": null,
   "metadata": {
    "execution": {
     "iopub.execute_input": "2024-07-20T12:15:42.456648Z",
     "iopub.status.busy": "2024-07-20T12:15:42.456207Z",
     "iopub.status.idle": "2024-07-20T12:15:42.467776Z",
     "shell.execute_reply": "2024-07-20T12:15:42.466419Z",
     "shell.execute_reply.started": "2024-07-20T12:15:42.456615Z"
    }
   },
   "outputs": [],
   "source": [
    "def play_match(\n",
    "    teamA: Tuple[Player, Player],  # チームAのプレイヤーを定義します。\n",
    "    teamB: Tuple[Player, Player],  # チームBのプレイヤーを定義します。\n",
    "    env: Optional[TrueSkill],  # 環境をオプションで設定します。\n",
    "    debug: bool = False  # デバッグ用のフラグを設定します。\n",
    "):\n",
    "    \"\"\"\n",
    "    2つのチーム間でマッチをプレイします。\n",
    "    \n",
    "    パラメータ\n",
    "    ---------\n",
    "        teamA: Tuple[Player, Player]\n",
    "            2人のプレイヤーからなるチームA。\n",
    "        teamB: Tuple[Player, Player]\n",
    "            2人のプレイヤーからなるチームB。\n",
    "        debug: boolean\n",
    "            デバッグ用のフラグ。\n",
    "    \"\"\"\n",
    "    if debug:\n",
    "        print(\"プレイヤーのスキル :\", [p.skill for p in teamA+teamB])  # プレイヤーのスキルを表示します。\n",
    "        print(\"プレイヤーのレーティング :\", [tuple(p.rating for p in teamA), tuple(p.rating for p in teamB)])  # プレイヤーのレーティングを表示します。\n",
    "    \n",
    "    # 各チームのプレイヤーがダミーボットであれば、そのチームはキーワードを見つけられない\n",
    "    # さもなくば、チームは推測者のスキルがランダムな数値よりも高ければキーワードを見つける\n",
    "    # （コード内の逆のロジックに注意）\n",
    "    ranks = [\n",
    "        1 if teamA[0].skill * teamA[1].skill == 0 or random.random() > teamA[0].skill else 0,\n",
    "        1 if teamB[0].skill * teamB[1].skill == 0 or random.random() > teamB[0].skill else 0\n",
    "    ]\n",
    "    \n",
    "    # 新しいレーティングはゲームの結果です\n",
    "    new_ratings = env.rate(\n",
    "        [\n",
    "            [ p.rating for p in teamA ],  # チームAのプレイヤーのレーティングを取得します。\n",
    "            [ p.rating for p in teamB ]   # チームBのプレイヤーのレーティングを取得します。\n",
    "        ],\n",
    "        ranks  # 勝率を引数にします。\n",
    "    )\n",
    "    \n",
    "    # 全てのプレイヤーのレーティングを更新します\n",
    "    for p,r in zip(teamA, new_ratings[0]):\n",
    "        p.update(r)  # チームAの各プレイヤーのレーティングを更新します。\n",
    "    for p,r in zip(teamB, new_ratings[1]):\n",
    "        p.update(r)  # チームBの各プレイヤーのレーティングを更新します。\n",
    "        \n",
    "    if debug:\n",
    "        print(\"ゲーム結果 :\", ranks)  # ゲームの結果を表示します。\n",
    "        print(\"新しいレーティング :\", new_ratings)  # 新しいレーティングを表示します。\n",
    "    \n",
    "    return  # 終了します。"
   ]
  },
  {
   "cell_type": "code",
   "execution_count": null,
   "metadata": {
    "execution": {
     "iopub.execute_input": "2024-07-20T12:16:34.352375Z",
     "iopub.status.busy": "2024-07-20T12:16:34.351231Z",
     "iopub.status.idle": "2024-07-20T12:16:34.364019Z",
     "shell.execute_reply": "2024-07-20T12:16:34.362645Z",
     "shell.execute_reply.started": "2024-07-20T12:16:34.352308Z"
    }
   },
   "outputs": [],
   "source": [
    "class Competition:\n",
    "    \"\"\"\n",
    "    設定可能なTrueSkill競技環境。\n",
    "    \"\"\"\n",
    "    \n",
    "    def __init__(\n",
    "        self,\n",
    "        skill_dist: List[float],  # 各「良い」提出物に対するキーワードを見つける確率。\n",
    "        nb_dummy: int,  # ダミーボットの数。\n",
    "        mu: float = 600,  # TrueSkillのμパラメータ。\n",
    "        sigma: float = 300,  # TrueSkillのσパラメータ。\n",
    "        beta: float = 150,  # TrueSkillのβパラメータ。\n",
    "        tau: float = 3,  # TrueSkillのτパラメータ。\n",
    "        draw_probability: float = 0.9956,  # TrueSkillの引き分け確率パラメータ。\n",
    "        seed: float = 42,  # ランダムシード。\n",
    "        debug: bool = False  # デバッグフラグ。\n",
    "    ):\n",
    "        \"\"\"\n",
    "        コンストラクタ。\n",
    "        \n",
    "        パラメータ\n",
    "        ---------\n",
    "            skill_dist: List[float]\n",
    "                各「良い」提出物に対するキーワードを見つける確率。\n",
    "            nb_dummy: int\n",
    "                ダミーボットの数。\n",
    "            mu: float\n",
    "                TrueSkillのμパラメータ。\n",
    "            sigma: float\n",
    "                TrueSkillのσパラメータ。\n",
    "            beta: float\n",
    "                TrueSkillのβパラメータ。\n",
    "            tau: float\n",
    "                TrueSkillのτパラメータ。\n",
    "            draw_probability: float\n",
    "                TrueSkillの引き分け確率パラメータ。\n",
    "            seed: float\n",
    "                ランダムシード。\n",
    "            debug: bool\n",
    "                デバッグ用のフラグ。\n",
    "        \"\"\"\n",
    "        # 競技環境の設定\n",
    "        self._trueskill = TrueSkill(\n",
    "            mu = mu,\n",
    "            sigma = sigma,\n",
    "            beta = beta,\n",
    "            tau = tau,\n",
    "            draw_probability = draw_probability\n",
    "        )\n",
    "        \n",
    "        # プレイヤープールの作成 — これがPlayerコンストラクタに「env」パラメータが必要だった理由です\n",
    "        self.players = { ii: Player(s, self._trueskill) for ii,s in enumerate(skill_dist) }\n",
    "        self.players.update({ len(self.players)+ii: Player(0, self._trueskill) for ii in range(nb_dummy) })  # ダミーボットを追加します。\n",
    "        \n",
    "        # ランダムシードの設定\n",
    "        self._seed = seed\n",
    "        random.seed(seed)\n",
    "        \n",
    "        self.debug = debug  # デバッグフラグを設定します。\n",
    "        \n",
    "    def play_games(self, nb_games: int = 10000):\n",
    "        \"\"\"\n",
    "        ゲームをシミュレートし、プレイヤーの履歴を更新します。\n",
    "        \n",
    "        パラメータ\n",
    "        ---------\n",
    "            nb_games: int\n",
    "                プレイするゲームの数。\n",
    "        \"\"\"\n",
    "        for i in tqdm(range(nb_games)):  # 指定された数のゲームをシミュレートします。\n",
    "            player_ids = random.sample(range(len(self.players)), 4)  # ランダムに4人のプレイヤーを選びます。\n",
    "            try:\n",
    "                play_match(\n",
    "                    [\n",
    "                        self.players[player_ids[0]],  # チームAの最初のプレイヤー。\n",
    "                        self.players[player_ids[1]]   # チームAの二番目のプレイヤー。\n",
    "                    ],\n",
    "                    [\n",
    "                        self.players[player_ids[2]],  # チームBの最初のプレイヤー。\n",
    "                        self.players[player_ids[3]]   # チームBの二番目のプレイヤー。\n",
    "                    ],\n",
    "                    env = self._trueskill,  # 環境を使用します。\n",
    "                    debug = self.debug  # デバッグフラグを渡します。\n",
    "                )\n",
    "            except Exception as e:  # エラーが発生した場合\n",
    "                warnings.warn(f\"Caught exception {e}\")  # 警告を表示します。\n",
    "                continue  # 次の反復に進みます。"
   ]
  },
  {
   "cell_type": "code",
   "execution_count": null,
   "metadata": {
    "execution": {
     "iopub.execute_input": "2024-07-20T12:16:36.62176Z",
     "iopub.status.busy": "2024-07-20T12:16:36.62138Z",
     "iopub.status.idle": "2024-07-20T12:16:36.627307Z",
     "shell.execute_reply": "2024-07-20T12:16:36.626122Z",
     "shell.execute_reply.started": "2024-07-20T12:16:36.621731Z"
    }
   },
   "outputs": [],
   "source": [
    "nb_players = 10  # 実際のプレイヤーの数\n",
    "nb_dummy_players = 10  # ダミーボット（「悪い」ボット）の数\n",
    "skill_distribution = [ random.random() for i in range(nb_players)]  # スキル分布をランダムに生成します。"
   ]
  },
  {
   "cell_type": "code",
   "execution_count": null,
   "metadata": {
    "execution": {
     "iopub.execute_input": "2024-07-20T12:16:37.677152Z",
     "iopub.status.busy": "2024-07-20T12:16:37.676795Z",
     "iopub.status.idle": "2024-07-20T12:16:37.683028Z",
     "shell.execute_reply": "2024-07-20T12:16:37.68168Z",
     "shell.execute_reply.started": "2024-07-20T12:16:37.677126Z"
    }
   },
   "outputs": [],
   "source": [
    "# いくつかの競技を定義して比較することができます。\n",
    "C1 = Competition(skill_distribution, nb_dummy_players)  # デフォルト設定のコンペティションを作成します。\n",
    "C2 = Competition(skill_distribution, nb_dummy_players, mu = 500, sigma = 100, beta = 200, tau = 10, draw_probability = .8, seed = 123)  # 異なるパラメータ設定のコンペティションを作成します。"
   ]
  },
  {
   "cell_type": "code",
   "execution_count": null,
   "metadata": {
    "execution": {
     "iopub.execute_input": "2024-07-20T12:16:40.16207Z",
     "iopub.status.busy": "2024-07-20T12:16:40.161637Z",
     "iopub.status.idle": "2024-07-20T12:16:49.676808Z",
     "shell.execute_reply": "2024-07-20T12:16:49.675525Z",
     "shell.execute_reply.started": "2024-07-20T12:16:40.162037Z"
    }
   },
   "outputs": [],
   "source": [
    "# Kaggleのシステムでは、1秒あたり約1700ゲームを期待しています。\n",
    "# 履歴がリセットされないことに注意してください。ゲームは以前のものに追加されます。\n",
    "C1.play_games(10000)  # C1のコンペティションで10000ゲームをシミュレートします。\n",
    "C2.play_games(10000)  # C2のコンペティションで10000ゲームをシミュレートします。"
   ]
  },
  {
   "cell_type": "code",
   "execution_count": null,
   "metadata": {
    "execution": {
     "iopub.execute_input": "2024-07-20T12:17:59.132609Z",
     "iopub.status.busy": "2024-07-20T12:17:59.132182Z",
     "iopub.status.idle": "2024-07-20T12:17:59.138016Z",
     "shell.execute_reply": "2024-07-20T12:17:59.136685Z",
     "shell.execute_reply.started": "2024-07-20T12:17:59.132576Z"
    }
   },
   "outputs": [],
   "source": [
    "import matplotlib.pyplot as plt  # データの可視化のためにmatplotlib.pyplotをインポートします。これを使用してシミュレーションの結果をプロットします。"
   ]
  },
  {
   "cell_type": "code",
   "execution_count": null,
   "metadata": {
    "execution": {
     "iopub.execute_input": "2024-07-20T12:17:59.246061Z",
     "iopub.status.busy": "2024-07-20T12:17:59.24568Z",
     "iopub.status.idle": "2024-07-20T12:17:59.548567Z",
     "shell.execute_reply": "2024-07-20T12:17:59.547442Z",
     "shell.execute_reply.started": "2024-07-20T12:17:59.246033Z"
    }
   },
   "outputs": [],
   "source": [
    "plt.plot([ r.mu for r in C1.players[0].history])  # C1の最初のプレイヤーのレーティング履歴（μ値）をプロットします。"
   ]
  },
  {
   "cell_type": "code",
   "execution_count": null,
   "metadata": {},
   "outputs": [],
   "source": [
    "# (No input provided. Please provide a new instruction or input to process.)"
   ]
  },
  {
   "cell_type": "markdown",
   "id": "5e9df671",
   "metadata": {},
   "source": [
    "# シードによる変動性"
   ]
  },
  {
   "cell_type": "code",
   "execution_count": null,
   "metadata": {
    "execution": {
     "iopub.execute_input": "2024-07-20T13:35:24.052666Z",
     "iopub.status.busy": "2024-07-20T13:35:24.052141Z",
     "iopub.status.idle": "2024-07-20T13:35:24.081765Z",
     "shell.execute_reply": "2024-07-20T13:35:24.080103Z",
     "shell.execute_reply.started": "2024-07-20T13:35:24.052626Z"
    }
   },
   "outputs": [],
   "source": [
    "C = [Competition(skill_dist, nb_dummy, seed=i) for i in range(4)]  # 異なるシードを使用して4つの競技インスタンスを作成します。"
   ]
  },
  {
   "cell_type": "code",
   "execution_count": null,
   "metadata": {
    "execution": {
     "iopub.execute_input": "2024-07-20T13:45:54.361811Z",
     "iopub.status.busy": "2024-07-20T13:45:54.361392Z",
     "iopub.status.idle": "2024-07-20T13:47:11.105403Z",
     "shell.execute_reply": "2024-07-20T13:47:11.10421Z",
     "shell.execute_reply.started": "2024-07-20T13:45:54.361781Z"
    }
   },
   "outputs": [],
   "source": [
    "for comp in C:\n",
    "    comp.play_games(50000)  # 各コンペティションインスタンスで50000ゲームをシミュレートします。"
   ]
  },
  {
   "cell_type": "code",
   "execution_count": null,
   "metadata": {
    "execution": {
     "iopub.execute_input": "2024-07-20T13:50:04.336765Z",
     "iopub.status.busy": "2024-07-20T13:50:04.33635Z",
     "iopub.status.idle": "2024-07-20T13:50:04.347264Z",
     "shell.execute_reply": "2024-07-20T13:50:04.345891Z",
     "shell.execute_reply.started": "2024-07-20T13:50:04.336735Z"
    }
   },
   "outputs": [],
   "source": [
    "def plot_first_n(comp, nfirsts, a):\n",
    "    #fig = plt.figure(figsize=(16,8))  # プロットのサイズを設定します（コメントアウトされています）。\n",
    "    cmap = plt.get_cmap('tab10')  # タブカラーマップを取得します。\n",
    "    for i in range(nfirsts):\n",
    "        pskill = comp.players[i].skill  # プレイヤーのスキルを取得します。\n",
    "        a.plot(\n",
    "            [r.mu for r in comp.players[i].history],  # プレイヤーのレーティング履歴をプロットします。\n",
    "            c = cmap(i),  # 各プレイヤーに異なる色を割り当てます。\n",
    "            label = f\"skill = {pskill:.2f}\"  # レジェンド用のラベルを設定します。\n",
    "        )\n",
    "    _ = a.legend()  # レジェンドを表示します。\n",
    "    _ = a.set_title(\"上位10プレイヤーのMuの進化（シミュレーション）\")  # プロットのタイトルを設定します。\n",
    "    _ = a.set_xlabel(\"プレイされたゲームの数\")  # x軸のラベルを設定します。\n",
    "    _ = a.set_ylabel(\"TrueSkillのμ値\")  # y軸のラベルを設定します。"
   ]
  },
  {
   "cell_type": "code",
   "execution_count": null,
   "metadata": {
    "execution": {
     "iopub.execute_input": "2024-07-20T13:50:17.266956Z",
     "iopub.status.busy": "2024-07-20T13:50:17.266568Z",
     "iopub.status.idle": "2024-07-20T13:50:19.507685Z",
     "shell.execute_reply": "2024-07-20T13:50:19.506404Z",
     "shell.execute_reply.started": "2024-07-20T13:50:17.266928Z"
    }
   },
   "outputs": [],
   "source": [
    "fig, ax = plt.subplots(nrows=4, ncols=1, figsize=(16,16), constrained_layout=True)  # 4つの行と1つの列を持つサブプロットを作成します。\n",
    "for i, comp in enumerate(C):\n",
    "    #plt.axes(ax[i])  # 現在の軸を設定します（コメントアウトされています）。\n",
    "    plot_first_n(comp, 5, ax[i])  # 各コンペティションの上位5人のプレイヤーのMuの進化をプロットします。"
   ]
  },
  {
   "cell_type": "code",
   "execution_count": null,
   "metadata": {
    "execution": {
     "iopub.execute_input": "2024-07-20T14:05:05.14683Z",
     "iopub.status.busy": "2024-07-20T14:05:05.1464Z",
     "iopub.status.idle": "2024-07-20T14:05:05.159688Z",
     "shell.execute_reply": "2024-07-20T14:05:05.158535Z",
     "shell.execute_reply.started": "2024-07-20T14:05:05.146797Z"
    }
   },
   "outputs": [],
   "source": [
    "for comp in C:\n",
    "    scores = {p: v.rating.mu for p,v in comp.players.items()}  # 各プレイヤーのμ値を取得します。\n",
    "    leaderboard = {k:v for k,v in sorted(scores.items(), key=lambda item: item[1], reverse = True)}  # スコアに基づいてリーダーボードをソートします。\n",
    "    print(\"Leaderboard\")  # リーダーボードの見出しを印刷します。\n",
    "    print(\"rank\\tplayer\\tskill\\tmu\")  # 列名を印刷します。\n",
    "    for i in range(5):  # 上位5名のプレイヤーをループします。\n",
    "        pnum = list(leaderboard.keys())[i]  # プレイヤーの番号を取得します。\n",
    "        print(f\"{i+1}\\t{pnum}\\t{comp.players[pnum].skill:.2f}\\t{leaderboard[pnum]:.0f}\")  # ランク、プレイヤー、スキル、μを印刷します。\n",
    "    print(\"-------------\")  # 区切りを印刷します。"
   ]
  }
 ],
 "metadata": {
  "kaggle": {
   "accelerator": "none",
   "dataSources": [
    {
     "databundleVersionId": 8550470,
     "sourceId": 61247,
     "sourceType": "competition"
    },
    {
     "datasetId": 5400047,
     "sourceId": 8969887,
     "sourceType": "datasetVersion"
    },
    {
     "datasetId": 5394349,
     "sourceId": 8997086,
     "sourceType": "datasetVersion"
    },
    {
     "sourceId": 188996916,
     "sourceType": "kernelVersion"
    }
   ],
   "dockerImageVersionId": 30746,
   "isGpuEnabled": false,
   "isInternetEnabled": true,
   "language": "python",
   "sourceType": "notebook"
  },
  "kernelspec": {
   "display_name": "Python 3",
   "language": "python",
   "name": "python3"
  },
  "language_info": {
   "codemirror_mode": {
    "name": "ipython",
    "version": 3
   },
   "file_extension": ".py",
   "mimetype": "text/x-python",
   "name": "python",
   "nbconvert_exporter": "python",
   "pygments_lexer": "ipython3",
   "version": "3.10.13"
  }
 },
 "nbformat": 4,
 "nbformat_minor": 4
}
