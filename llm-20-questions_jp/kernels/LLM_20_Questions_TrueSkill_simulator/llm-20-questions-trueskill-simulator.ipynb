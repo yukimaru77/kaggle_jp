{
 "cells": [
  {
   "cell_type": "markdown",
   "id": "826fba00",
   "metadata": {},
   "source": [
    "# 要約 \n",
    "このJupyter Notebookは、Kaggleの「LLM 20 Questions」コンペティションにおけるランキングシステムの公平性について検討することを目的としています。競技の公式説明に基づき、評価方法や現在のシステムの設定を理解し、特にTrueSkillレーティングシステムを用いたスコアリングの仕組みを探求します。\n",
    "\n",
    "### 問題の取り組み\n",
    "Notebookでは、次の問題に取り組んでいます：\n",
    "- LLM 20 Questionsコンペティションにおけるレーティングシステムの構造とその公平性についての評価\n",
    "- 競技が実際にどのように行われ、どのようにレーティングが決まるかを復元するモデルの構築\n",
    "- 提出物の勝率や引き分けの確率に影響を与える因子の分析\n",
    "\n",
    "### 解決手法とライブラリ\n",
    "この問題に対して、以下の手法とライブラリが用いられています：\n",
    "\n",
    "1. **TrueSkillライブラリ**:\n",
    "   - TrueSkillを用いて対戦をシミュレーション。具体的には、`trueskill`というPythonライブラリをインストールし、各プレイヤーのスキルを`Rating`クラスで表現します。レーティングを更新するための`rate()`関数を使用。\n",
    "\n",
    "2. **データ処理と分析**:\n",
    "   - Pandasを利用して、ゲームデータを収集し、ゲーム結果の解析を行います。引き分けの確率や、プレイヤーの成功率を計算するためのデータフレームを生成します。\n",
    "\n",
    "3. **シミュレーションクラス**:\n",
    "   - `Competition`クラスを作成し、プレイヤーのスキルを基に試合を行う環境を構築。このクラスにおいて、複数の競技をシミュレーションし、結果を視覚化します。\n",
    "\n",
    "4. **可視化**:\n",
    "   - Matplotlibを使用して、シミュレーションから得た結果やプレイヤーのパフォーマンスをプロットし、視覚的に分析を行います。\n",
    "\n",
    "### 結論\n",
    "Notebookでは、LLM 20 Questionsコンペティションのレーティングシステムは、偶然が多く含まれる可能性があるとの結果が示されています。具体的には、スキルに基づくマッチングが正しく機能していないことが指摘され、何らかの形で公平性を損なう要因が存在することが示唆されています。\n",
    "\n",
    "---\n"
   ]
  },
  {
   "cell_type": "markdown",
   "id": "d6428f86",
   "metadata": {},
   "source": [
    "# 用語概説 \n",
    "以下に、初心者がつまずきやすい専門用語について簡単な解説を示します。\n",
    "\n",
    "1. **レーティングシステム (Rating System)**:\n",
    "   - ゲームや競技において、プレイヤーの能力やスキルを数値化して相対的に順位付けする仕組み。TrueSkillやGlickoなどの異なるレーティングシステムが存在する。\n",
    "\n",
    "2. **TrueSkill**:\n",
    "   - Microsoftが開発したレーティングシステムで、特に二人対二人の対戦で使用される。プレイヤーのスキルを分布としてモデル化し（ガウス分布）、勝敗に応じてその分布を更新する。\n",
    "\n",
    "3. **β (ベータ)**:\n",
    "   - TrueSkillのパラメータで、勝利の確率を調整するための距離を表す。一般的に、これはプレイヤーのスキルの変動に関する不確実性を示す。\n",
    "\n",
    "4. **τ (タウ)**:\n",
    "   - TrueSkillのパラメータで、レーティングが安定するための動的要因を制限する。これにより、スキルの変化が急激にならないよう制御される。\n",
    "\n",
    "5. **σ (シグマ)**:\n",
    "   - TrueSkillにおけるスキルの不確実性を示すパラメータ。高い値はプレイヤーのスキルが変動するリスクが高いことを示す。\n",
    "\n",
    "6. **引き分けの確率 (Draw Probability)**:\n",
    "   - ゲームの結果が引き分けである確率。TrueSkillではこの確率が設定され、ペアリングの公平さを保つために考慮される。\n",
    "\n",
    "7. **バリデーションエピソード (Validation Episode)**:\n",
    "   - 新しいボットが正常に動作するか確認するために、自分自身のコピーと対戦して評価するプロセス。\n",
    "\n",
    "8. **ダミーボット (Dummy Bot)**:\n",
    "   - 実力が極端に低いボットで、実際の競技には参加していないものである場合もある。通常、他のボットと組み合わせて互いに対戦させる際に使用する。\n",
    "\n",
    "9. **レーティングの履歴 (Rating History)**:\n",
    "   - プレイヤーやボットのレーティングの変遷を記録したデータ。これにより時間経過に伴うパフォーマンスの変化を追跡できる。\n",
    "\n",
    "10. **ランダムサンプリング (Random Sampling)**:\n",
    "    - 一定の範囲から無作為に選ばれたデータの集まり。ゲームのプレイヤーを選ぶ際、真の能力を反映できるように利用される。\n",
    "\n",
    "11. **数理モデル (Mathematical Model)**:\n",
    "    - 現実のシステムや現象を数式や数学的な方程式を用いて表現したもの。ここでは、プレイヤーのスキルをモデル化するために使用されている。\n",
    "\n",
    "これらの用語は、コンペティションで利用されるシステムやアルゴリズムを理解する上で特に重要であり、初心者がつまずく可能性のある部分です。\n",
    "\n",
    "---\n"
   ]
  },
  {
   "cell_type": "markdown",
   "id": "0a8f7392",
   "metadata": {},
   "source": [
    "[LLM 20 Questionsコンペティション](https://www.kaggle.com/competitions/llm-20-questions/overview)のランキングシステムの公平性については、討論の中で何度も疑問が呈されています。そこで、私はその評価を行うための簡単なノートを作成することにしました。数学の評価は行わず、データを扱ってみます。\n",
    "\n",
    "# ランキングシステムの公式説明\n",
    "\n",
    "執筆時点（7月17日）で、コンペティションの概要は次のようになっています：\n",
    "> ### 評価\n",
    ">\n",
    "> 各チームは毎日、最大5つのエージェント（ボット）をコンペティションに提出できます。各提出は、リーダーボード上の同等のスキルレーティングを持つ他のボットと対戦するエピソード（ゲーム）をプレイします。時間が経つにつれて、勝利によってスキルレーティングは上昇し、敗北によって低下し、引き分けによって均一化されます。\n",
    "> \n",
    "> このコンペティションは協力的な2対2の形式で運営されます。あなたのボットは、同等のスキルを持つボットとランダムにペアになり、別のランダムなペアと対戦します。各ペアでは、一方のボットが質問者として、もう一方が回答者としてランダムに割り当てられます。ペアとして勝ったり負けたりするため、協力することが奨励されます！\n",
    "> \n",
    "> 提出されたすべてのボットは、コンペティション終了までエピソードをプレイし続け、新しいボットはより頻繁に選ばれます。3つのアクティブな提出に達すると、古いボットは非アクティブになります。リーダーボードには最高得点のボットのみが表示されますが、すべての提出の進行状況は「提出」ページで追跡できます。\n",
    "> \n",
    "> 各提出物には、ガウス分布N(μ,σ2)でモデル化された推定スキルレーティングがあります。μは推定スキルを、σはその推定の不確実性を表し、時間と共に減少します。\n",
    "> \n",
    "> 提出物をアップロードすると、まずその提出物が正常に機能するか確認するためのバリデーションエピソードが行われます。このエピソードが失敗した場合、提出物はエラーとしてマークされ、原因を特定するためにエージェントログをダウンロードできます。そうでない場合は、μ0=600で提出物を初期化し、継続的な評価のためにプールに追加されます。この時点で、アクティブなエージェントの総数が3を超える場合、古いエージェントは非アクティブ化されます。\n",
    "> \n",
    "> ### ランキングシステム\n",
    "> \n",
    "> エピソードが終了すると、そのエピソードに参加したすべてのボットのレーティング推定値が更新されます。あるボットペアが勝利した場合、そのペアのμは増加し、対戦相手のμは減少します。引き分けの場合は、μの値が平均値に近づくように調整されます。更新の大きさは、以前のμ値に基づく予想結果からの偏差及び各ボットの不確実性σに比例します。また、結果によって得られた情報量に応じてσの項も減少させます。エピソードでの勝利または敗北によるボットのスコアは、スキルレーティングの更新には影響しません。\n",
    "> \n",
    "> ### 最終評価\n",
    "> \n",
    "> 提出締切である2024年8月13日の時点で、提出物はロックされます。2024年8月13日から2024年8月27日までは、公開されていない新しい単語のセットに対してエピソードを実行し続けます。この期間中は、アクティブな3つの提出物のみがリーダーボードの対象となります。この期間の終わりに、リーダーボードが確定します。\n",
    "\n",
    "# TrueSkill\n",
    "\n",
    "私はレーティングシステムについてあまり知識がありません。簡単な検索によれば、$\\mu$ **と** $\\sigma$ パラメータを持つシステムの候補としては、[Glickoレーティングシステム](https://en.wikipedia.org/wiki/Glicko_rating_system) が考えられます。この結論に至った理由は思い出せませんが（おそらくチームプレイに関連していたのでしょうか？）、もう一つの候補は[TrueSkill](https://en.wikipedia.org/wiki/TrueSkill)です。詳細には触れませんが、興味があればWikipediaのリンクを参照してください。これは、ビデオゲームの世界で非常に人気のあるシステムです。新バージョンの[TrueSkill 2](https://www.microsoft.com/en-us/research/uploads/prod/2018/03/trueskill2.pdf)もありますが、最初の印象では、その改善点は私たちのコンペティションのような場合には重要ではなさそうです。\n",
    "\n",
    "## インストール\n",
    "\n",
    "幸いにも、TrueSkillを利用できる[Pythonライブラリ](https://github.com/sublee/trueskill)が[Pypi](https://pypi.org/project/trueskill/)に存在しますので、インストールしましょう。 \n"
   ]
  },
  {
   "cell_type": "code",
   "execution_count": null,
   "metadata": {
    "execution": {
     "iopub.execute_input": "2024-07-20T13:33:40.937504Z",
     "iopub.status.busy": "2024-07-20T13:33:40.937077Z",
     "iopub.status.idle": "2024-07-20T13:33:53.25384Z",
     "shell.execute_reply": "2024-07-20T13:33:53.252406Z",
     "shell.execute_reply.started": "2024-07-20T13:33:40.937471Z"
    }
   },
   "outputs": [],
   "source": [
    "!pip install trueskill"
   ]
  },
  {
   "cell_type": "markdown",
   "id": "bc543f42",
   "metadata": {},
   "source": [
    "プレイヤーのレーティングは`Rating`クラスで表され、ゲームは`rate()`によって行われます。\n"
   ]
  },
  {
   "cell_type": "code",
   "execution_count": null,
   "metadata": {
    "execution": {
     "iopub.execute_input": "2024-07-20T13:33:53.257394Z",
     "iopub.status.busy": "2024-07-20T13:33:53.25688Z",
     "iopub.status.idle": "2024-07-20T13:33:53.264373Z",
     "shell.execute_reply": "2024-07-20T13:33:53.262782Z",
     "shell.execute_reply.started": "2024-07-20T13:33:53.257352Z"
    }
   },
   "outputs": [],
   "source": [
    "from trueskill import Rating, rate"
   ]
  },
  {
   "cell_type": "markdown",
   "id": "15033f9e",
   "metadata": {},
   "source": [
    "## ゲームをプレイしよう\n",
    "\n",
    "まず、$\\mu=600$ の4人のプレイヤーを定義します：\n"
   ]
  },
  {
   "cell_type": "code",
   "execution_count": null,
   "metadata": {
    "execution": {
     "iopub.execute_input": "2024-07-20T13:33:53.26666Z",
     "iopub.status.busy": "2024-07-20T13:33:53.26616Z",
     "iopub.status.idle": "2024-07-20T13:33:53.280295Z",
     "shell.execute_reply": "2024-07-20T13:33:53.278956Z",
     "shell.execute_reply.started": "2024-07-20T13:33:53.266618Z"
    }
   },
   "outputs": [],
   "source": [
    "player1 = Rating(mu=600)\n",
    "player2 = Rating(mu=600)\n",
    "player3 = Rating(mu=600)\n",
    "player4 = Rating(mu=600)\n",
    "\n",
    "teamA = [ player1, player2 ]\n",
    "teamB = [ player3, player4 ]"
   ]
  },
  {
   "cell_type": "markdown",
   "id": "f5eba4cf",
   "metadata": {},
   "source": [
    "さて、彼らにゲームをプレイさせてみましょう：\n"
   ]
  },
  {
   "cell_type": "code",
   "execution_count": null,
   "metadata": {
    "execution": {
     "iopub.execute_input": "2024-07-20T13:33:53.282315Z",
     "iopub.status.busy": "2024-07-20T13:33:53.281865Z",
     "iopub.status.idle": "2024-07-20T13:33:53.299601Z",
     "shell.execute_reply": "2024-07-20T13:33:53.29792Z",
     "shell.execute_reply.started": "2024-07-20T13:33:53.282277Z"
    }
   },
   "outputs": [],
   "source": [
    "rate(\n",
    "    [ teamA, teamB ],\n",
    "    [ 0, 1 ]  # teamAはteamBよりもレーティングが低いため、teamAが勝利\n",
    ")"
   ]
  },
  {
   "cell_type": "markdown",
   "id": "5cf915a6",
   "metadata": {},
   "source": [
    "`rate()`関数は、チームごとのプレイヤーの新しいレーティングを返します。\n",
    "\n",
    "## 簡易表示関数\n",
    "\n",
    "ゲームの結果を読み取りやすくするための関数を定義しておくと便利です：\n"
   ]
  },
  {
   "cell_type": "code",
   "execution_count": null,
   "metadata": {
    "execution": {
     "iopub.execute_input": "2024-07-20T13:33:53.303163Z",
     "iopub.status.busy": "2024-07-20T13:33:53.302772Z",
     "iopub.status.idle": "2024-07-20T13:33:53.319621Z",
     "shell.execute_reply": "2024-07-20T13:33:53.318188Z",
     "shell.execute_reply.started": "2024-07-20T13:33:53.303131Z"
    }
   },
   "outputs": [],
   "source": [
    "from typing import Tuple\n",
    "\n",
    "def play_game(\n",
    "    teamA: Tuple[Rating, Rating],\n",
    "    teamB: Tuple[Rating, Rating],\n",
    "    outcome: Tuple[int, int]\n",
    "):\n",
    "    \"\"\"\n",
    "    2つのチームの間でゲームをプレイし、プレイヤーのレーティングの変化を表示します。\n",
    "    \n",
    "    パラメータ\n",
    "    --------\n",
    "        teamA: Tuple[Rating, Rating]\n",
    "            2人のプレイヤーからなるチーム。\n",
    "        teamB: Tuple[Rating, Rating]\n",
    "            2人のプレイヤーからなるチーム。\n",
    "        outcome: Tuple[int, int]\n",
    "            ゲーム内のプレイヤーのランキング（0: 最初, 1: 2番目）\n",
    "    \"\"\"\n",
    "    new_ratings = rate(\n",
    "        [ teamA, teamB ],\n",
    "        outcome\n",
    "    )\n",
    "    for old,new in zip(teamA, new_ratings[0]):\n",
    "        delta = int(new.mu - old.mu)\n",
    "        print(f\"{old.mu:.0f} -> {new.mu:.0f} ({'+' if delta >=0 else ''}{delta})\")\n",
    "    print(\"vs\")\n",
    "    for old,new in zip(teamB, new_ratings[1]):\n",
    "        delta = int(new.mu - old.mu)\n",
    "        print(f\"{old.mu:.0f} -> {new.mu:.0f} ({'+' if delta >=0 else ''}{delta})\")"
   ]
  },
  {
   "cell_type": "markdown",
   "id": "a93c7529",
   "metadata": {},
   "source": [
    "それを以前のプレイヤーに適用してみましょう：\n"
   ]
  },
  {
   "cell_type": "code",
   "execution_count": null,
   "metadata": {
    "execution": {
     "iopub.execute_input": "2024-07-20T13:33:53.322078Z",
     "iopub.status.busy": "2024-07-20T13:33:53.321593Z",
     "iopub.status.idle": "2024-07-20T13:33:53.334908Z",
     "shell.execute_reply": "2024-07-20T13:33:53.333636Z",
     "shell.execute_reply.started": "2024-07-20T13:33:53.322038Z"
    }
   },
   "outputs": [],
   "source": [
    "play_game(teamA, teamB, [0, 1])"
   ]
  },
  {
   "cell_type": "markdown",
   "id": "75d41ada",
   "metadata": {},
   "source": [
    "## シグマを見つける\n",
    "\n",
    "ここで、コンぺティションがデフォルトの$\\sigma$値を使用していないことは明らかとなります。TrueSkillの推奨値は$\\sigma = \\frac{\\mu}{3}$ですが、これらのパラメータを少し試した結果、コンペティションの$\\sigma$はむしろ$\\sigma = \\frac{\\mu}{2} = 300$に設定されているようです。\n",
    "\n",
    "実際に、実際のエピソードの結果を再現しようとすると、私の最初の提出の最初の勝利は次のようになります：\n",
    "\n",
    "> [1位] gguillard 600 (+123) vs [1位] JavaZero 570 (+34) vs\n",
    ">\n",
    "> [3位] atom1231 577 (-72) vs [3位] KKY 464 (-44)\n",
    "\n",
    "少し試行錯誤しながら、私の$\\sigma$が300の初期値から大きく外れていないだろうと仮定すると、一致するパラメータの組み合わせを見つけるのはすぐに簡単でした：\n"
   ]
  },
  {
   "cell_type": "code",
   "execution_count": null,
   "metadata": {
    "execution": {
     "iopub.execute_input": "2024-07-20T13:33:53.33718Z",
     "iopub.status.busy": "2024-07-20T13:33:53.336766Z",
     "iopub.status.idle": "2024-07-20T13:33:53.354564Z",
     "shell.execute_reply": "2024-07-20T13:33:53.35308Z",
     "shell.execute_reply.started": "2024-07-20T13:33:53.337142Z"
    }
   },
   "outputs": [],
   "source": [
    "play_game(\n",
    "    [\n",
    "        Rating(mu=600, sigma=295),\n",
    "        Rating(mu=570, sigma=156)\n",
    "    ],\n",
    "    [\n",
    "        Rating(mu=577, sigma=225),\n",
    "        Rating(mu=464, sigma=176)\n",
    "    ],\n",
    "    [ 0, 1 ]  # 1番目のチームが勝利\n",
    ")"
   ]
  },
  {
   "cell_type": "markdown",
   "id": "fa2cde7a",
   "metadata": {},
   "source": [
    "## 引き分けの確率\n",
    "\n",
    "スコアリングシステムはTrueSkillの$\\mu=600$と$\\sigma=300$ですか？ さて、実際にはそうではありません。これらの設定は引き分けの場合にはあまりうまく機能せず、変動はコンペティションで観察されるよりも大きく（典型的には0から±数ユニット）なります：\n"
   ]
  },
  {
   "cell_type": "code",
   "execution_count": null,
   "metadata": {
    "execution": {
     "iopub.execute_input": "2024-07-20T13:33:53.356954Z",
     "iopub.status.busy": "2024-07-20T13:33:53.356537Z",
     "iopub.status.idle": "2024-07-20T13:33:53.370446Z",
     "shell.execute_reply": "2024-07-20T13:33:53.368912Z",
     "shell.execute_reply.started": "2024-07-20T13:33:53.356917Z"
    }
   },
   "outputs": [],
   "source": [
    "play_game(\n",
    "    [\n",
    "        Rating(mu=600, sigma=295),\n",
    "        Rating(mu=570, sigma=156)\n",
    "    ],\n",
    "    [\n",
    "        Rating(mu=577, sigma=225),\n",
    "        Rating(mu=464, sigma=176)\n",
    "    ],\n",
    "    [ 1, 1 ]  # 勝者なし\n",
    ")"
   ]
  },
  {
   "cell_type": "markdown",
   "id": "407a4db3",
   "metadata": {},
   "source": [
    "ルールを再度読み返すと、ここが重要なポイントです：\n",
    "\n",
    "> 私たちは、結果によって得られた情報量に応じて、σの項も減少させます。\n",
    "\n",
    "最初はパラメータをいじっていて、引き分けの場合にσが100の係数で手動で減少されると思っていましたが、これはかなりうまく機能するようです。その後、`help(trueskill)`を読むと、これはすでにTrueSkill内で考慮されている可能性があり、μとσの更新を担当するVとW関数には「勝利」**および**「引き分け」バージョンがあります。\n",
    "\n",
    "実際には、`draw_probability`を含むいくつかの追加パラメータを使ってTrueSkill環境を定義できます。これは興味深い点であり、このコンペティションでのゲームの引き分けの確率は… *かなり高い* ことを私たち全員が知っています。\n",
    "\n",
    "これを計算してみましょう、そのためには@waechterの[LLM 20 Questions - Games dataset](https://www.kaggle.com/code/waechter/llm-20-questions-games-dataset)を使用します。\n"
   ]
  },
  {
   "cell_type": "code",
   "execution_count": null,
   "metadata": {
    "execution": {
     "iopub.execute_input": "2024-07-20T13:33:53.372436Z",
     "iopub.status.busy": "2024-07-20T13:33:53.37207Z",
     "iopub.status.idle": "2024-07-20T13:34:54.361897Z",
     "shell.execute_reply": "2024-07-20T13:34:54.360753Z",
     "shell.execute_reply.started": "2024-07-20T13:33:53.372408Z"
    }
   },
   "outputs": [],
   "source": [
    "import pandas as pd\n",
    "from ast import literal_eval\n",
    "\n",
    "games_df = pd.read_csv(\n",
    "    \"/kaggle/input/llm-20-questions-games-dataset/LLM-20Questions-games.csv\",\n",
    "    converters = {\n",
    "        col_list: literal_eval\n",
    "        for col_list in [\"answers\", \"questions\", \"guesses\"]\n",
    "    }\n",
    ")\n",
    "games_df = games_df[games_df[\"guesser_SubmissionId\"]!=0]  # その日の提出物がまだラベル付けされていないようです\n",
    "games_df[\"CreateTime\"] = pd.to_datetime(games_df[\"CreateTime\"], format=\"%m/%d/%Y %H:%M:%S\")"
   ]
  },
  {
   "cell_type": "markdown",
   "id": "10892898",
   "metadata": {},
   "source": [
    "このデータフレームには各ゲームについて2行が含まれています。一つはそれぞれのチームの行であり、`guessed`というブール値の列を持っています。引き分けの場合、 `guessed` は両チーム同じです（ただし、両チームが同じラウンドで勝った3ゲームは無視しても問題ありません）。 \n"
   ]
  },
  {
   "cell_type": "code",
   "execution_count": null,
   "metadata": {
    "execution": {
     "iopub.execute_input": "2024-07-20T13:34:54.363788Z",
     "iopub.status.busy": "2024-07-20T13:34:54.363362Z",
     "iopub.status.idle": "2024-07-20T13:34:54.414383Z",
     "shell.execute_reply": "2024-07-20T13:34:54.4131Z",
     "shell.execute_reply.started": "2024-07-20T13:34:54.363749Z"
    }
   },
   "outputs": [],
   "source": [
    "games_df.groupby(\"game_num\")[\"guessed\"].sum().value_counts()"
   ]
  },
  {
   "cell_type": "code",
   "execution_count": null,
   "metadata": {
    "execution": {
     "iopub.execute_input": "2024-07-20T13:34:54.416008Z",
     "iopub.status.busy": "2024-07-20T13:34:54.415666Z",
     "iopub.status.idle": "2024-07-20T13:34:54.423592Z",
     "shell.execute_reply": "2024-07-20T13:34:54.422411Z",
     "shell.execute_reply.started": "2024-07-20T13:34:54.41598Z"
    }
   },
   "outputs": [],
   "source": [
    "(144607 + 3) / (144607 + 1208 + 3)"
   ]
  },
  {
   "cell_type": "markdown",
   "id": "aca45cd4",
   "metadata": {},
   "source": [
    "したがって、引き分けの確率は $p \\simeq 0.9917$ です。確かにかなり高いです…。後で、より正確なデータで更新する必要があります（ネタバレ：悪化するだけです）。\n",
    "\n",
    "## ベータとタウ\n",
    "\n",
    "ドキュメンテーションには、興味深い他の2つのパラメーターも言及されています：\n",
    "\n",
    ">  :param beta: 勝利の約76％の確率を保証する距離。\n",
    ">               推奨値は`sigma`の半分です。\n",
    ">\n",
    ">  :param tau: レーティングの固定化を制限するダイナミックファクター。\n",
    ">              推奨値は`sigma`パーセントです。\n",
    "\n",
    "推奨値である$\\beta = \\frac{\\sigma}{2} = 150$および$\\tau = \\frac{\\sigma}{100} = 3$を使用しましょう。\n",
    "\n",
    "さて、新しいTrueSkill環境を定義しましょう：\n"
   ]
  },
  {
   "cell_type": "code",
   "execution_count": null,
   "metadata": {
    "execution": {
     "iopub.execute_input": "2024-07-20T13:34:54.426179Z",
     "iopub.status.busy": "2024-07-20T13:34:54.425846Z",
     "iopub.status.idle": "2024-07-20T13:34:54.439415Z",
     "shell.execute_reply": "2024-07-20T13:34:54.43828Z",
     "shell.execute_reply.started": "2024-07-20T13:34:54.426154Z"
    }
   },
   "outputs": [],
   "source": [
    "from trueskill import setup\n",
    "\n",
    "setup(\n",
    "    mu = 600,\n",
    "    sigma = 300,\n",
    "    beta = 150,\n",
    "    tau = 3,\n",
    "    draw_probability = 0.9917\n",
    ")"
   ]
  },
  {
   "cell_type": "markdown",
   "id": "7b4fa000",
   "metadata": {},
   "source": [
    "再度、適切な$\\sigma$を見つけるための調整が必要です：\n"
   ]
  },
  {
   "cell_type": "code",
   "execution_count": null,
   "metadata": {
    "execution": {
     "iopub.execute_input": "2024-07-20T13:34:54.44138Z",
     "iopub.status.busy": "2024-07-20T13:34:54.440906Z",
     "iopub.status.idle": "2024-07-20T13:34:54.453125Z",
     "shell.execute_reply": "2024-07-20T13:34:54.451802Z",
     "shell.execute_reply.started": "2024-07-20T13:34:54.441337Z"
    }
   },
   "outputs": [],
   "source": [
    "play_game(\n",
    "    [\n",
    "        Rating(mu=600, sigma=144),\n",
    "        Rating(mu=570, sigma=76)\n",
    "    ],\n",
    "    [\n",
    "        Rating(mu=577, sigma=109),\n",
    "        Rating(mu=464, sigma=85)\n",
    "    ],\n",
    "    [ 0, 1 ]  # 最初のチームが勝利\n",
    ")"
   ]
  },
  {
   "cell_type": "markdown",
   "id": "d9c774a9",
   "metadata": {},
   "source": [
    "しかし、引き分けの後のレーティングの更新は、実際にコンペティションで観察されるものと一致します：\n"
   ]
  },
  {
   "cell_type": "code",
   "execution_count": null,
   "metadata": {
    "execution": {
     "iopub.execute_input": "2024-07-20T13:34:54.460725Z",
     "iopub.status.busy": "2024-07-20T13:34:54.459243Z",
     "iopub.status.idle": "2024-07-20T13:34:54.46884Z",
     "shell.execute_reply": "2024-07-20T13:34:54.467572Z",
     "shell.execute_reply.started": "2024-07-20T13:34:54.460676Z"
    }
   },
   "outputs": [],
   "source": [
    "play_game(\n",
    "    [\n",
    "        Rating(mu=600, sigma=144),\n",
    "        Rating(mu=570, sigma=76)\n",
    "    ],\n",
    "    [\n",
    "        Rating(mu=577, sigma=109),\n",
    "        Rating(mu=464, sigma=85)\n",
    "    ],\n",
    "    [ 1, 1 ]  # 勝者なし\n",
    ")"
   ]
  },
  {
   "cell_type": "markdown",
   "id": "23dee7c7",
   "metadata": {},
   "source": [
    "これで、私たちはLLM 20 Questionsコンペティションで使用されているスコアリングシステムに非常に似たものを構築できたようです。おそらく、パラメーターは正確にその値ではないかもしれませんし、引き分けの確率も数回のゲーム後にしか導き出せません（おそらく継続的に更新されているのかもしれませんが、関数も受け付けますので）、しかし、これらの設定がゲームの結果を再現する能力は偶然とは思えません。\n",
    "\n",
    "# コンペティションのモデル化\n",
    "\n",
    "## 勝利の確率\n",
    "\n",
    "それでは、プレイヤーの全テーブルをランダムに組んでゲームをプレイしてみるのはどうでしょうか？ :D\n",
    "\n",
    "初めに、*LLM 20 Questions - Games dataset*を使用して、各提出物について「nb_guessed / nb_played」比率を計算して実際的な勝利確率を取得しましょう。\n",
    "\n",
    "ただし、まずは少ないゲーム数をプレイしている提出物（例えば10以下）をフィルタリングする必要があります：\n"
   ]
  },
  {
   "cell_type": "code",
   "execution_count": null,
   "metadata": {
    "execution": {
     "iopub.execute_input": "2024-07-20T13:34:54.470566Z",
     "iopub.status.busy": "2024-07-20T13:34:54.470167Z",
     "iopub.status.idle": "2024-07-20T13:34:54.490357Z",
     "shell.execute_reply": "2024-07-20T13:34:54.489151Z",
     "shell.execute_reply.started": "2024-07-20T13:34:54.470535Z"
    }
   },
   "outputs": [],
   "source": [
    "nb_games_played = games_df.groupby(\"guesser_SubmissionId\").size()\n",
    "nb_games_played = nb_games_played[nb_games_played>=10]"
   ]
  },
  {
   "cell_type": "code",
   "execution_count": null,
   "metadata": {
    "execution": {
     "iopub.execute_input": "2024-07-20T13:34:54.492146Z",
     "iopub.status.busy": "2024-07-20T13:34:54.491807Z",
     "iopub.status.idle": "2024-07-20T13:34:54.590065Z",
     "shell.execute_reply": "2024-07-20T13:34:54.589034Z",
     "shell.execute_reply.started": "2024-07-20T13:34:54.492118Z"
    }
   },
   "outputs": [],
   "source": [
    "games_df = games_df[games_df[\"guesser_SubmissionId\"].isin(nb_games_played.index)]"
   ]
  },
  {
   "cell_type": "markdown",
   "id": "542e41b7",
   "metadata": {},
   "source": [
    "コンペティションでは1人あたり最大3の提出しか許可されないため、最後の3つを残して他のボットをすべて削除する必要があります。　一部の人は100以上の提出物を持っている場合があります！\n"
   ]
  },
  {
   "cell_type": "code",
   "execution_count": null,
   "metadata": {
    "execution": {
     "iopub.execute_input": "2024-07-20T13:34:54.592534Z",
     "iopub.status.busy": "2024-07-20T13:34:54.591788Z",
     "iopub.status.idle": "2024-07-20T13:34:54.638829Z",
     "shell.execute_reply": "2024-07-20T13:34:54.63772Z",
     "shell.execute_reply.started": "2024-07-20T13:34:54.592495Z"
    }
   },
   "outputs": [],
   "source": [
    "games_df.groupby(\"guesser\")[\"guesser_SubmissionId\"].nunique().sort_values(ascending=False).head()"
   ]
  },
  {
   "cell_type": "code",
   "execution_count": null,
   "metadata": {
    "execution": {
     "iopub.execute_input": "2024-07-20T13:34:54.640503Z",
     "iopub.status.busy": "2024-07-20T13:34:54.640135Z",
     "iopub.status.idle": "2024-07-20T13:34:54.748272Z",
     "shell.execute_reply": "2024-07-20T13:34:54.747023Z",
     "shell.execute_reply.started": "2024-07-20T13:34:54.640473Z"
    }
   },
   "outputs": [],
   "source": [
    "last_bots = games_df.sort_values(\n",
    "    by = \"CreateTime\"  # 「guesser」でソートすると、一部の提出物に複数の名前が付いているためここではソートしません\n",
    ").drop_duplicates(\n",
    "    subset = \"guesser_SubmissionId\",\n",
    "    keep = \"last\"\n",
    ").groupby(\n",
    "    [ \"guesser\" ]\n",
    ")[[\n",
    "    \"guesser\",\n",
    "    \"guesser_SubmissionId\",\n",
    "    \"CreateTime\"\n",
    "]].tail(3).sort_values(\n",
    "    by = \"guesser\"\n",
    ")[\"guesser_SubmissionId\"].values"
   ]
  },
  {
   "cell_type": "code",
   "execution_count": null,
   "metadata": {
    "execution": {
     "iopub.execute_input": "2024-07-20T13:34:54.750282Z",
     "iopub.status.busy": "2024-07-20T13:34:54.749833Z",
     "iopub.status.idle": "2024-07-20T13:34:54.797709Z",
     "shell.execute_reply": "2024-07-20T13:34:54.796632Z",
     "shell.execute_reply.started": "2024-07-20T13:34:54.750241Z"
    }
   },
   "outputs": [],
   "source": [
    "last_games_df = games_df[games_df[\"guesser_SubmissionId\"].isin(last_bots)]"
   ]
  },
  {
   "cell_type": "markdown",
   "id": "d471dcd5",
   "metadata": {},
   "source": [
    "引き分けの確率を更新する時が来ました：\n"
   ]
  },
  {
   "cell_type": "code",
   "execution_count": null,
   "metadata": {
    "execution": {
     "iopub.execute_input": "2024-07-20T13:34:54.799555Z",
     "iopub.status.busy": "2024-07-20T13:34:54.79912Z",
     "iopub.status.idle": "2024-07-20T13:34:54.830249Z",
     "shell.execute_reply": "2024-07-20T13:34:54.829136Z",
     "shell.execute_reply.started": "2024-07-20T13:34:54.799517Z"
    }
   },
   "outputs": [],
   "source": [
    "last_games_df.groupby(\"game_num\")[\"guessed\"].sum().value_counts()"
   ]
  },
  {
   "cell_type": "code",
   "execution_count": null,
   "metadata": {
    "execution": {
     "iopub.execute_input": "2024-07-20T13:34:54.831778Z",
     "iopub.status.busy": "2024-07-20T13:34:54.831459Z",
     "iopub.status.idle": "2024-07-20T13:34:54.839422Z",
     "shell.execute_reply": "2024-07-20T13:34:54.838194Z",
     "shell.execute_reply.started": "2024-07-20T13:34:54.831752Z"
    }
   },
   "outputs": [],
   "source": [
    "(123874 + 1) / (123874 + 546 + 1)"
   ]
  },
  {
   "cell_type": "markdown",
   "id": "cf571f28",
   "metadata": {},
   "source": [
    "先ほど述べたように、引き分けの確率は $p \\simeq 0.9956$ とさらに悪化しました…\n",
    "\n",
    "実際のスキル分布を計算するためには、「良いボット」と「ダミーボット」を区別する必要があります。\n"
   ]
  },
  {
   "cell_type": "code",
   "execution_count": null,
   "metadata": {
    "execution": {
     "iopub.execute_input": "2024-07-20T13:34:54.841505Z",
     "iopub.status.busy": "2024-07-20T13:34:54.841065Z",
     "iopub.status.idle": "2024-07-20T13:34:54.874546Z",
     "shell.execute_reply": "2024-07-20T13:34:54.873313Z",
     "shell.execute_reply.started": "2024-07-20T13:34:54.841469Z"
    }
   },
   "outputs": [],
   "source": [
    "goodbots = set(\n",
    "    last_games_df[\n",
    "        last_games_df.groupby(\"guesser_SubmissionId\")[\"guessed\"].transform(\"any\")\n",
    "    ][\"guesser_SubmissionId\"].unique()\n",
    ")"
   ]
  },
  {
   "cell_type": "code",
   "execution_count": null,
   "metadata": {
    "execution": {
     "iopub.execute_input": "2024-07-20T13:34:54.876144Z",
     "iopub.status.busy": "2024-07-20T13:34:54.875823Z",
     "iopub.status.idle": "2024-07-20T13:34:54.883658Z",
     "shell.execute_reply": "2024-07-20T13:34:54.882398Z",
     "shell.execute_reply.started": "2024-07-20T13:34:54.87612Z"
    }
   },
   "outputs": [],
   "source": [
    "badbots = set(last_games_df[\"guesser_SubmissionId\"].unique()) - goodbots"
   ]
  },
  {
   "cell_type": "code",
   "execution_count": null,
   "metadata": {
    "execution": {
     "iopub.execute_input": "2024-07-20T13:34:54.886244Z",
     "iopub.status.busy": "2024-07-20T13:34:54.885051Z",
     "iopub.status.idle": "2024-07-20T13:34:54.897491Z",
     "shell.execute_reply": "2024-07-20T13:34:54.896387Z",
     "shell.execute_reply.started": "2024-07-20T13:34:54.886127Z"
    }
   },
   "outputs": [],
   "source": [
    "len(goodbots), len(badbots)"
   ]
  },
  {
   "cell_type": "markdown",
   "id": "2551fbdb",
   "metadata": {},
   "source": [
    "次に、すべての良いボットのチームを考えてみましょう。相手がダミーの場合は問題ありません。なぜなら、信頼できるチームメイトが単語を見つけてくれるからです。また、相手が見つける前にチームが単語を見つける時間がなかったため、そのセッションを無視することはありません。逆に、チームメイトが勝つ機会がなかった可能性があるため、良いボットと悪いボットのチームでも、キーワードを当てた場合は記録に残します。ちなみに、これらを削除すると、統計が大幅に減少します。\n"
   ]
  },
  {
   "cell_type": "code",
   "execution_count": null,
   "metadata": {
    "execution": {
     "iopub.execute_input": "2024-07-20T13:34:54.899865Z",
     "iopub.status.busy": "2024-07-20T13:34:54.899416Z",
     "iopub.status.idle": "2024-07-20T13:34:54.927197Z",
     "shell.execute_reply": "2024-07-20T13:34:54.925925Z",
     "shell.execute_reply.started": "2024-07-20T13:34:54.899826Z"
    }
   },
   "outputs": [],
   "source": [
    "fair_games = last_games_df[\"guesser_SubmissionId\"].isin(goodbots) * (\n",
    "    last_games_df[\"answerer_SubmissionId\"].isin(goodbots) + last_games_df[\"guessed\"]\n",
    ")\n",
    "fair_games_df = last_games_df.loc[fair_games]\n",
    "fair_games_df = fair_games_df[(fair_games_df[\"guessed\"]) | (fair_games_df[\"nb_round\"]==20)]"
   ]
  },
  {
   "cell_type": "code",
   "execution_count": null,
   "metadata": {
    "execution": {
     "iopub.execute_input": "2024-07-20T13:34:54.928963Z",
     "iopub.status.busy": "2024-07-20T13:34:54.928626Z",
     "iopub.status.idle": "2024-07-20T13:34:54.955558Z",
     "shell.execute_reply": "2024-07-20T13:34:54.954386Z",
     "shell.execute_reply.started": "2024-07-20T13:34:54.928934Z"
    }
   },
   "outputs": [],
   "source": [
    "skills_df = fair_games_df.groupby(\"guesser_SubmissionId\").agg(\n",
    "    guessed = (\"guessed\", \"sum\"),\n",
    "    played = (\"guessed\", \"size\")\n",
    ").sort_index()\n",
    "skills_df[\"skill\"] = skills_df[\"guessed\"] / skills_df[\"played\"]\n",
    "skills_df.sort_values(by = \"skill\", ascending = False, inplace = True)\n",
    "skills_df.head()"
   ]
  },
  {
   "cell_type": "markdown",
   "id": "b3840fbf",
   "metadata": {},
   "source": [
    "不正確な確率を避けるために、$N = 10$ の公正ゲームを持たないボットを削除しましょう。すでに全ゲームに対して行いましたが、公正ゲームに対しても行う必要があります。\n"
   ]
  },
  {
   "cell_type": "code",
   "execution_count": null,
   "metadata": {
    "execution": {
     "iopub.execute_input": "2024-07-20T13:34:54.957187Z",
     "iopub.status.busy": "2024-07-20T13:34:54.956863Z",
     "iopub.status.idle": "2024-07-20T13:34:54.969262Z",
     "shell.execute_reply": "2024-07-20T13:34:54.968259Z",
     "shell.execute_reply.started": "2024-07-20T13:34:54.957159Z"
    }
   },
   "outputs": [],
   "source": [
    "skills_df = skills_df[skills_df[\"played\"]>=10]\n",
    "skills_df.head()"
   ]
  },
  {
   "cell_type": "markdown",
   "id": "6c51cea4",
   "metadata": {},
   "source": [
    "最後に、キーワードを見つける確率が98%のスーパーチューザーを設定することによって、スキルのダイナミックレンジを拡大しましょう。これは非常に楽観的ですが、コンペティションの終わりに向けて、より優れたボットが進化する様子を示すとも言えます。\n"
   ]
  },
  {
   "cell_type": "code",
   "execution_count": null,
   "metadata": {
    "execution": {
     "iopub.execute_input": "2024-07-20T13:34:54.971278Z",
     "iopub.status.busy": "2024-07-20T13:34:54.970946Z",
     "iopub.status.idle": "2024-07-20T13:34:54.981237Z",
     "shell.execute_reply": "2024-07-20T13:34:54.980089Z",
     "shell.execute_reply.started": "2024-07-20T13:34:54.97125Z"
    }
   },
   "outputs": [],
   "source": [
    "BEST_SKILL = .98\n",
    "skills_df[\"skill\"] *= BEST_SKILL / skills_df[\"skill\"].iloc[0]"
   ]
  },
  {
   "cell_type": "markdown",
   "id": "a37df13c",
   "metadata": {},
   "source": [
    "これで、現在の（正当な）ボットのグローバルなスキル分布のある程度現実的な表現が得られました。これを見てみましょう：\n"
   ]
  },
  {
   "cell_type": "code",
   "execution_count": null,
   "metadata": {
    "execution": {
     "iopub.execute_input": "2024-07-20T13:34:54.982895Z",
     "iopub.status.busy": "2024-07-20T13:34:54.982566Z",
     "iopub.status.idle": "2024-07-20T13:34:54.994731Z",
     "shell.execute_reply": "2024-07-20T13:34:54.993518Z",
     "shell.execute_reply.started": "2024-07-20T13:34:54.982868Z"
    }
   },
   "outputs": [],
   "source": [
    "import matplotlib.pyplot as plt"
   ]
  },
  {
   "cell_type": "code",
   "execution_count": null,
   "metadata": {
    "execution": {
     "iopub.execute_input": "2024-07-20T13:34:54.996483Z",
     "iopub.status.busy": "2024-07-20T13:34:54.996104Z",
     "iopub.status.idle": "2024-07-20T13:34:55.336454Z",
     "shell.execute_reply": "2024-07-20T13:34:55.335017Z",
     "shell.execute_reply.started": "2024-07-20T13:34:54.996445Z"
    }
   },
   "outputs": [],
   "source": [
    "plt.figure(figsize=(12,6))\n",
    "_ = plt.hist(skills_df[\"skill\"], bins=15)\n",
    "_ = plt.xlabel(\"公正なチームメイトに対するキーワード発見の確率\")\n",
    "_ = plt.ylabel(\"ボットの数\")\n",
    "_ = plt.title(\"良いボットのスキル分布\")"
   ]
  },
  {
   "cell_type": "markdown",
   "id": "a7d7e03f",
   "metadata": {},
   "source": [
    "これにより、明確なリーダーボードが得られるはずです！\n",
    "\n",
    "## プレイヤークラス\n",
    "\n",
    "次に、レーティング履歴を追跡できるPlayerクラスを作成しましょう：\n"
   ]
  },
  {
   "cell_type": "code",
   "execution_count": null,
   "metadata": {
    "execution": {
     "iopub.execute_input": "2024-07-20T13:34:55.338487Z",
     "iopub.status.busy": "2024-07-20T13:34:55.338001Z",
     "iopub.status.idle": "2024-07-20T13:34:55.346266Z",
     "shell.execute_reply": "2024-07-20T13:34:55.344973Z",
     "shell.execute_reply.started": "2024-07-20T13:34:55.338444Z"
    }
   },
   "outputs": [],
   "source": [
    "from typing import Optional\n",
    "from trueskill import TrueSkill\n",
    "\n",
    "class Player:\n",
    "    def __init__(\n",
    "        self,\n",
    "        skill: float,\n",
    "        env: Optional[TrueSkill] = None  # 今は無視しますが、後で使えるようにするためです\n",
    "    ):\n",
    "        self.skill = skill\n",
    "        self.rating = Rating() if env is None else env.Rating()  # 環境のデフォルト値（つまり600,300）で開始\n",
    "        self.history = []\n",
    "        \n",
    "    def update(self, new_rating):\n",
    "        self.history.append(self.rating)\n",
    "        self.rating = new_rating"
   ]
  },
  {
   "cell_type": "markdown",
   "id": "0abacb43",
   "metadata": {},
   "source": [
    "## プレイヤーのプール\n",
    "\n",
    "次に、現実的なスキルの範囲を持つプレイヤーのプールを構築し、ダミーボットの数を追加します。スキル評価のために考慮される良いボットの数が大幅に削減されたため、数の減少比を悪いボットにも適用するのが妥当でしょう。しかし、これはシミュレーションの結果にそれほど影響を与えないはずです（実際には悪化させる可能性があります）。遊んでみてください。\n"
   ]
  },
  {
   "cell_type": "code",
   "execution_count": null,
   "metadata": {
    "execution": {
     "iopub.execute_input": "2024-07-20T13:34:55.348153Z",
     "iopub.status.busy": "2024-07-20T13:34:55.347775Z",
     "iopub.status.idle": "2024-07-20T13:34:55.368358Z",
     "shell.execute_reply": "2024-07-20T13:34:55.367266Z",
     "shell.execute_reply.started": "2024-07-20T13:34:55.348122Z"
    }
   },
   "outputs": [],
   "source": [
    "reduction_ratio = len(skills_df) / len(goodbots)\n",
    "\n",
    "players = { ii: Player(s) for ii,s in enumerate(skills_df[\"skill\"].values) }\n",
    "players.update({ len(players)+ii: Player(0) for ii in range(int(len(badbots)*reduction_ratio)) })\n",
    "\n",
    "len(players)"
   ]
  },
  {
   "cell_type": "markdown",
   "id": "865f2a79",
   "metadata": {},
   "source": [
    "実際のリーダーボードにいるプレイヤーよりもまだ多くのプレイヤーがいますが、これはボットの数です。リーダーボードの競技者は最大3つのアクティブな提出物を持つことができます。\n",
    "\n",
    "## ゲーム関数\n",
    "\n",
    "最後に、勝利の確率を考慮したゲーム関数を定義する必要があります。\n"
   ]
  },
  {
   "cell_type": "code",
   "execution_count": null,
   "metadata": {
    "execution": {
     "iopub.execute_input": "2024-07-20T13:34:55.369869Z",
     "iopub.status.busy": "2024-07-20T13:34:55.369569Z",
     "iopub.status.idle": "2024-07-20T13:34:55.38036Z",
     "shell.execute_reply": "2024-07-20T13:34:55.378824Z",
     "shell.execute_reply.started": "2024-07-20T13:34:55.369844Z"
    }
   },
   "outputs": [],
   "source": [
    "import random"
   ]
  },
  {
   "cell_type": "code",
   "execution_count": null,
   "metadata": {
    "execution": {
     "iopub.execute_input": "2024-07-20T13:34:55.383034Z",
     "iopub.status.busy": "2024-07-20T13:34:55.382581Z",
     "iopub.status.idle": "2024-07-20T13:34:55.394885Z",
     "shell.execute_reply": "2024-07-20T13:34:55.393905Z",
     "shell.execute_reply.started": "2024-07-20T13:34:55.382994Z"
    }
   },
   "outputs": [],
   "source": [
    "def play_match(\n",
    "    teamA: Tuple[Player, Player],\n",
    "    teamB: Tuple[Player, Player],\n",
    "    env: Optional[TrueSkill] = None,\n",
    "    debug: bool = False\n",
    "):\n",
    "    \"\"\"\n",
    "    2チーム間の試合を行います。\n",
    "    \n",
    "    パラメータ\n",
    "    ------\n",
    "        teamA: Tuple[Player, Player]\n",
    "            2人のプレイヤーからなるチーム。\n",
    "        teamB: Tuple[Player, Player]\n",
    "            もう一つの2人のプレイヤーからなるチーム。\n",
    "        debug: boolean\n",
    "            デバッグ用フラグ。\n",
    "    \"\"\"\n",
    "    if debug:\n",
    "        print(\"プレイヤーのスキル　:\", [p.skill for p in teamA+teamB])\n",
    "        print(\"プレイヤーのレーティング　:\", [tuple(p.rating for p in teamA), tuple(p.rating for p in teamB)])\n",
    "    # 各チームについて、どのプレイヤーがダミーボットかを判定し、ボットがキーワードを見つけられなければ失敗\n",
    "    # それ以外の場合、チームの目標スキルがランダムな数よりも高ければキーワードを見つけられる\n",
    "    # （影に逆の論理があることに注意）\n",
    "    ranks = [\n",
    "        1 if teamA[0].skill * teamA[1].skill == 0 or random.random() > teamA[0].skill else 0,\n",
    "        1 if teamB[0].skill * teamB[1].skill == 0 or random.random() > teamB[0].skill else 0\n",
    "    ]\n",
    "    \n",
    "    # 新しいレーティングはゲームの結果\n",
    "    rating_function = rate if env is None else env.rate\n",
    "    new_ratings = rating_function(\n",
    "        [\n",
    "            [ p.rating for p in teamA ],\n",
    "            [ p.rating for p in teamB ]\n",
    "        ],\n",
    "        ranks\n",
    "    )\n",
    "    \n",
    "    # すべてのプレイヤーのレーティングを更新\n",
    "    for p,r in zip(teamA, new_ratings[0]):\n",
    "        p.update(r)\n",
    "    for p,r in zip(teamB, new_ratings[1]):\n",
    "        p.update(r)\n",
    "        \n",
    "    if debug:\n",
    "        print(\"ゲームの結果　:\", ranks)\n",
    "        print(\"新しいレーティング　:\", new_ratings)\n",
    "    \n",
    "    return"
   ]
  },
  {
   "cell_type": "markdown",
   "id": "a67650e0",
   "metadata": {},
   "source": [
    "これで、シミュレーションを開始するのに必要なすべてが揃いました。最初のゲームはこちらです：\n"
   ]
  },
  {
   "cell_type": "code",
   "execution_count": null,
   "metadata": {
    "execution": {
     "iopub.execute_input": "2024-07-20T13:34:55.396542Z",
     "iopub.status.busy": "2024-07-20T13:34:55.396091Z",
     "iopub.status.idle": "2024-07-20T13:34:55.414912Z",
     "shell.execute_reply": "2024-07-20T13:34:55.413579Z",
     "shell.execute_reply.started": "2024-07-20T13:34:55.396513Z"
    }
   },
   "outputs": [],
   "source": [
    "play_match(\n",
    "    [players[0], players[1]],\n",
    "    [players[2], players[3]],\n",
    "    debug = True\n",
    ")"
   ]
  },
  {
   "cell_type": "markdown",
   "id": "e38e68fe",
   "metadata": {},
   "source": [
    "# 独自のコンペティションシミュレーションを行おう\n",
    "\n",
    "便利さと異なる設定を簡単にテストできるように、プレイヤーの数やスキル、ゲーム数、TrueSkillの設定にパラメータを設定できるコンペティションクラスを定義します。レーティングの履歴を持つデータフレームを提供します。\n"
   ]
  },
  {
   "cell_type": "code",
   "execution_count": null,
   "metadata": {
    "execution": {
     "iopub.execute_input": "2024-07-20T13:34:55.416911Z",
     "iopub.status.busy": "2024-07-20T13:34:55.416425Z",
     "iopub.status.idle": "2024-07-20T13:34:55.429916Z",
     "shell.execute_reply": "2024-07-20T13:34:55.428701Z",
     "shell.execute_reply.started": "2024-07-20T13:34:55.416872Z"
    }
   },
   "outputs": [],
   "source": [
    "from typing import List\n",
    "from tqdm import tqdm"
   ]
  },
  {
   "cell_type": "code",
   "execution_count": null,
   "metadata": {
    "execution": {
     "iopub.execute_input": "2024-07-20T13:34:55.43225Z",
     "iopub.status.busy": "2024-07-20T13:34:55.431818Z",
     "iopub.status.idle": "2024-07-20T13:34:55.446402Z",
     "shell.execute_reply": "2024-07-20T13:34:55.445037Z",
     "shell.execute_reply.started": "2024-07-20T13:34:55.432152Z"
    }
   },
   "outputs": [],
   "source": [
    "class Competition:\n",
    "    \"\"\"\n",
    "    TrueSkillのコンペティション環境を設定できます。\n",
    "    \"\"\"\n",
    "    \n",
    "    def __init__(\n",
    "        self,\n",
    "        skill_dist: List[float],\n",
    "        nb_dummy: int,\n",
    "        mu: float = 600,\n",
    "        sigma: float = 300,\n",
    "        beta: float = 150,\n",
    "        tau: float = 3,\n",
    "        draw_probability: float = 0.9956,\n",
    "        seed: float = 42\n",
    "    ):\n",
    "        \"\"\"\n",
    "        コンストラクター。\n",
    "        \n",
    "        パラメータ\n",
    "        ------\n",
    "            skill_dist: List[float]\n",
    "                各「良い」提出のキーワード発見の確率。\n",
    "            nb_dummy: int\n",
    "                ダミーボットの数。\n",
    "            mu: float\n",
    "                TrueSkillのmuパラメータ。\n",
    "            sigma: float\n",
    "                TrueSkillのsigmaパラメータ。\n",
    "            beta: float\n",
    "                TrueSkillのbetaパラメータ。\n",
    "            tau: float\n",
    "                TrueSkillのtauパラメータ。\n",
    "            draw_probability: float\n",
    "                TrueSkillのdraw_probabilityパラメータ。\n",
    "            seed: float\n",
    "                ランダムシード。\n",
    "        \"\"\"\n",
    "        # 私たちの競技環境\n",
    "        self._trueskill = TrueSkill(\n",
    "            mu = mu,\n",
    "            sigma = sigma,\n",
    "            beta = beta,\n",
    "            tau = tau,\n",
    "            draw_probability = draw_probability\n",
    "        )\n",
    "        \n",
    "        # プレイヤーのプール — それがPlayerコンストラクタに環境を追加する理由\n",
    "        self.players = { ii: Player(s, self._trueskill) for ii,s in enumerate(skill_dist) }\n",
    "        self.players.update({ len(self.players)+ii: Player(0, self._trueskill) for ii in range(nb_dummy) })\n",
    "        \n",
    "        # ランダムシード\n",
    "        self._seed = seed\n",
    "        random.seed(seed)\n",
    "        \n",
    "        \n",
    "    def play_games(self, nb_games: int = 10000):\n",
    "        \"\"\"\n",
    "        ゲームをシミュレーションし、プレイヤーの履歴を更新します。\n",
    "        \n",
    "        パラメータ\n",
    "        ------\n",
    "            nb_games: int\n",
    "                プレイするゲームの数。\n",
    "        \"\"\"\n",
    "        \n",
    "        for i in tqdm(range(nb_games)):\n",
    "            player_ids = random.sample(range(len(self.players)), 4)  # ランダムに4人のプレイヤーを選びます\n",
    "            try:\n",
    "                play_match(\n",
    "                    [\n",
    "                        self.players[player_ids[0]],\n",
    "                        self.players[player_ids[1]]\n",
    "                    ],\n",
    "                    [\n",
    "                        self.players[player_ids[2]],\n",
    "                        self.players[player_ids[3]]\n",
    "                    ],\n",
    "                    env = self._trueskill\n",
    "                )\n",
    "            except:\n",
    "                continue"
   ]
  },
  {
   "cell_type": "markdown",
   "id": "a6f3d37b",
   "metadata": {},
   "source": [
    "すでに使用したスキル分布を取得します。\n"
   ]
  },
  {
   "cell_type": "code",
   "execution_count": null,
   "metadata": {
    "execution": {
     "iopub.execute_input": "2024-07-20T13:34:55.448291Z",
     "iopub.status.busy": "2024-07-20T13:34:55.447811Z",
     "iopub.status.idle": "2024-07-20T13:34:55.467925Z",
     "shell.execute_reply": "2024-07-20T13:34:55.466582Z",
     "shell.execute_reply.started": "2024-07-20T13:34:55.448256Z"
    }
   },
   "outputs": [],
   "source": [
    "skill_dist = skills_df[\"skill\"].values\n",
    "nb_dummy = len(players) - len(skill_dist)"
   ]
  },
  {
   "cell_type": "code",
   "execution_count": null,
   "metadata": {
    "execution": {
     "iopub.execute_input": "2024-07-20T11:00:12.375277Z",
     "iopub.status.busy": "2024-07-20T11:00:12.374543Z",
     "iopub.status.idle": "2024-07-20T11:00:12.383547Z",
     "shell.execute_reply": "2024-07-20T11:00:12.382319Z",
     "shell.execute_reply.started": "2024-07-20T11:00:12.37524Z"
    }
   },
   "outputs": [],
   "source": [
    "# LLM20のキーワード設定に従いますが、比較のためにいくつかのコンペティションを定義することができます\n",
    "LLM20 = Competition(skill_dist, nb_dummy)"
   ]
  },
  {
   "cell_type": "code",
   "execution_count": null,
   "metadata": {
    "execution": {
     "iopub.execute_input": "2024-07-20T11:00:12.634531Z",
     "iopub.status.busy": "2024-07-20T11:00:12.634111Z",
     "iopub.status.idle": "2024-07-20T11:01:02.358646Z",
     "shell.execute_reply": "2024-07-20T11:01:02.357216Z",
     "shell.execute_reply.started": "2024-07-20T11:00:12.634496Z"
    }
   },
   "outputs": [],
   "source": [
    "# Kaggleのシステムで約1700ゲーム／秒を期待してください\n",
    "# 履歴はリセットされず、ゲームは以前のものに加算されます\n",
    "LLM20.play_games(100000)"
   ]
  },
  {
   "cell_type": "markdown",
   "id": "230fbca2",
   "metadata": {},
   "source": [
    "# プロット\n",
    "\n",
    "シミュレーションの結果に入る前に、実際の数ヶ月間の競技における各提出物のゲームの数の分布を見ておきましょう：\n"
   ]
  },
  {
   "cell_type": "code",
   "execution_count": null,
   "metadata": {
    "execution": {
     "iopub.execute_input": "2024-07-20T11:01:02.360863Z",
     "iopub.status.busy": "2024-07-20T11:01:02.360503Z",
     "iopub.status.idle": "2024-07-20T11:01:02.735353Z",
     "shell.execute_reply": "2024-07-20T11:01:02.734131Z",
     "shell.execute_reply.started": "2024-07-20T11:01:02.360832Z"
    }
   },
   "outputs": [],
   "source": [
    "plt.figure(figsize=(12,6))\n",
    "last_games_df.groupby(\"guesser_SubmissionId\").size().hist(bins=15)\n",
    "_ = plt.title(\"実際のプレイされたゲームの分布\")\n",
    "_ = plt.xlabel(\"プレイされたゲームの数\")\n",
    "_ = plt.ylabel(\"ボットの数\")"
   ]
  },
  {
   "cell_type": "code",
   "execution_count": null,
   "metadata": {
    "execution": {
     "iopub.execute_input": "2024-07-20T11:01:02.737202Z",
     "iopub.status.busy": "2024-07-20T11:01:02.736784Z",
     "iopub.status.idle": "2024-07-20T11:01:02.753105Z",
     "shell.execute_reply": "2024-07-20T11:01:02.751637Z",
     "shell.execute_reply.started": "2024-07-20T11:01:02.737169Z"
    }
   },
   "outputs": [],
   "source": [
    "last_games_df[\"guesser_SubmissionId\"].nunique(), (last_games_df.groupby(\"guesser_SubmissionId\").size()>100).sum()"
   ]
  },
  {
   "cell_type": "markdown",
   "id": "6c335029",
   "metadata": {},
   "source": [
    "一部のボットは他のボットよりも多くのゲームを行っていますが、実際に大幅に多く、特に古いボットの中にそういったものが存在します。実際、約半数のボットは100ゲーム以下しかプレイしていませんが、一部は500ゲーム以上プレイしています！ これは重要なポイントであり、今後比較する際に無視するつもりですが、これを考慮に入れておくのは良いことです。\n",
    "\n",
    "これで、シミュレーションの結果をより詳細に確認しましょう。\n"
   ]
  },
  {
   "cell_type": "code",
   "execution_count": null,
   "metadata": {
    "execution": {
     "iopub.execute_input": "2024-07-20T10:26:16.930027Z",
     "iopub.status.busy": "2024-07-20T10:26:16.929703Z",
     "iopub.status.idle": "2024-07-20T10:26:19.294599Z",
     "shell.execute_reply": "2024-07-20T10:26:19.29345Z",
     "shell.execute_reply.started": "2024-07-20T10:26:16.929999Z"
    }
   },
   "outputs": [],
   "source": [
    "fig = plt.figure(figsize=(16,8))\n",
    "cmap = plt.get_cmap('viridis')\n",
    "for i in range(len(LLM20.players))[::-1]:  # スキルの増加に従ってプレイヤーをソートし、最上位を保つ\n",
    "    pskill = LLM20.players[i].skill\n",
    "    plt.plot(\n",
    "        [r.mu for r in LLM20.players[i].history],\n",
    "        c = cmap(pskill) if pskill>0 else [.6]*4  # 悪いボットは灰色で表示\n",
    "    )\n",
    "_ = plt.title(\"Muの進化\")\n",
    "_ = plt.xlabel(\"プレイされたゲームの数\")\n",
    "_ = plt.ylabel(\"TrueSkillのmu値\")"
   ]
  },
  {
   "cell_type": "markdown",
   "id": "e0c13f8d",
   "metadata": {},
   "source": [
    "上記のプロットは、*傾向*はあるものの、システムがプレイヤーをスキルに応じて識別することに失敗していることを示しています。灰色の線はダミーボットに対応しています。\n",
    "\n",
    "シミュレーションされた上位10人のプレイヤーの挙動にさらに注目しましょう：\n"
   ]
  },
  {
   "cell_type": "code",
   "execution_count": null,
   "metadata": {
    "execution": {
     "iopub.execute_input": "2024-07-20T11:01:40.674394Z",
     "iopub.status.busy": "2024-07-20T11:01:40.673982Z",
     "iopub.status.idle": "2024-07-20T11:01:41.190297Z",
     "shell.execute_reply": "2024-07-20T11:01:41.189228Z",
     "shell.execute_reply.started": "2024-07-20T11:01:40.674364Z"
    }
   },
   "outputs": [],
   "source": [
    "NFIRSTS = 10\n",
    "fig = plt.figure(figsize=(16,8))\n",
    "cmap = plt.get_cmap('tab10')\n",
    "for i in range(NFIRSTS):\n",
    "    pskill = LLM20.players[i].skill\n",
    "    plt.plot(\n",
    "        [r.mu for r in LLM20.players[i].history],\n",
    "        c = cmap(i),\n",
    "        label = f\"スキル = {pskill:.2f}\"\n",
    "    )\n",
    "_ = plt.legend()\n",
    "_ = plt.title(\"上位10人（シミュレーションされた）プレイヤーのMuの進化\")\n",
    "_ = plt.xlabel(\"プレイされたゲームの数\")\n",
    "_ = plt.ylabel(\"TrueSkillのmu値\")"
   ]
  },
  {
   "cell_type": "markdown",
   "id": "c4eef300",
   "metadata": {},
   "source": [
    "最高のプレイヤーたちは、実際には下位のボットと競争しているようです…\n",
    "\n",
    "同じスキルを持つプレイヤーの進化を比較することも興味深いかもしれません。特定の競技環境を設定してそれをテストすることもできますが、私は現実的なシナリオを保ちたいので、現在のプレイヤープールの中から見てみましょう：\n"
   ]
  },
  {
   "cell_type": "code",
   "execution_count": null,
   "metadata": {
    "execution": {
     "iopub.execute_input": "2024-07-20T11:01:55.170965Z",
     "iopub.status.busy": "2024-07-20T11:01:55.170558Z",
     "iopub.status.idle": "2024-07-20T11:01:55.176009Z",
     "shell.execute_reply": "2024-07-20T11:01:55.17492Z",
     "shell.execute_reply.started": "2024-07-20T11:01:55.170931Z"
    }
   },
   "outputs": [],
   "source": [
    "from collections import Counter"
   ]
  },
  {
   "cell_type": "code",
   "execution_count": null,
   "metadata": {
    "execution": {
     "iopub.execute_input": "2024-07-20T11:01:55.360164Z",
     "iopub.status.busy": "2024-07-20T11:01:55.359355Z",
     "iopub.status.idle": "2024-07-20T11:01:55.367155Z",
     "shell.execute_reply": "2024-07-20T11:01:55.365919Z",
     "shell.execute_reply.started": "2024-07-20T11:01:55.360118Z"
    }
   },
   "outputs": [],
   "source": [
    "duplicated_skills = Counter(skill_dist[:15]).most_common(2)\n",
    "duplicated_skills"
   ]
  },
  {
   "cell_type": "markdown",
   "id": "231b9000",
   "metadata": {},
   "source": [
    "上位15人のプレイヤーの中に、興味深い候補が2組存在します。それらのパフォーマンスを時系列で確認してみましょう。\n"
   ]
  },
  {
   "cell_type": "code",
   "execution_count": null,
   "metadata": {
    "execution": {
     "iopub.execute_input": "2024-07-20T11:01:55.729569Z",
     "iopub.status.busy": "2024-07-20T11:01:55.729165Z",
     "iopub.status.idle": "2024-07-20T11:01:56.143681Z",
     "shell.execute_reply": "2024-07-20T11:01:56.142498Z",
     "shell.execute_reply.started": "2024-07-20T11:01:55.729538Z"
    }
   },
   "outputs": [],
   "source": [
    "SHOW_ALL = True\n",
    "fig = plt.figure(figsize=(16,8))\n",
    "cmap = plt.get_cmap('tab10')\n",
    "gray = [.05] * 4\n",
    "if SHOW_ALL:\n",
    "    for i in range(len(LLM20.players)):\n",
    "        plt.plot(\n",
    "            [r.mu for r in LLM20.players[i].history],\n",
    "            c = gray\n",
    "        )\n",
    "for i in range(20):\n",
    "    pskill = LLM20.players[i].skill\n",
    "    if pskill == duplicated_skills[0][0]:\n",
    "        color = cmap(0)\n",
    "    elif pskill == duplicated_skills[1][0]:\n",
    "        color = cmap(1)\n",
    "    else:\n",
    "        continue\n",
    "    plt.plot(\n",
    "        [r.mu for r in LLM20.players[i].history],\n",
    "        c = color,\n",
    "        label = f\"スキル = {pskill:.2f}\"\n",
    "    )\n",
    "_ = plt.legend()\n",
    "_ = plt.title(\"同一スキルを持つプレイヤーのMuの進化\")\n",
    "_ = plt.xlabel(\"プレイされたゲームの数\")\n",
    "_ = plt.ylabel(\"TrueSkillのmu値\")"
   ]
  },
  {
   "cell_type": "markdown",
   "id": "9a68b1d6",
   "metadata": {},
   "source": [
    "同じスキルを持つ競技者の中に少し上下の差が見られますが、@c-numberが実際のリーダーボードで1位を占めていることを考慮すると、同じ提出物が60位置で分散して、スコアは$\\mu=1143$から… $\\mu=767$にまで変動すると報告されましたから！\n",
    "\n",
    "# リーダーボードとの比較\n",
    "\n",
    "シミュレーションされたリーダーボードが実際のリーダーボードとどのように比較されるかを確認しましょう：\n"
   ]
  },
  {
   "cell_type": "code",
   "execution_count": null,
   "metadata": {
    "execution": {
     "iopub.execute_input": "2024-07-20T11:01:02.756138Z",
     "iopub.status.busy": "2024-07-20T11:01:02.75566Z",
     "iopub.status.idle": "2024-07-20T11:01:02.781335Z",
     "shell.execute_reply": "2024-07-20T11:01:02.780094Z",
     "shell.execute_reply.started": "2024-07-20T11:01:02.756092Z"
    }
   },
   "outputs": [],
   "source": [
    "lb = pd.read_csv(\"/kaggle/input/llm-20-lb-2024-07-14/llm-20-questions-publicleaderboard-2024-07-14.csv\")"
   ]
  },
  {
   "cell_type": "code",
   "execution_count": null,
   "metadata": {
    "execution": {
     "iopub.execute_input": "2024-07-20T11:17:08.830993Z",
     "iopub.status.busy": "2024-07-20T11:17:08.830619Z",
     "iopub.status.idle": "2024-07-20T11:17:09.887207Z",
     "shell.execute_reply": "2024-07-20T11:17:09.886084Z",
     "shell.execute_reply.started": "2024-07-20T11:17:08.830964Z"
    }
   },
   "outputs": [],
   "source": [
    "plt.figure(figsize=(12,6))\n",
    "_ = plt.hist(\n",
    "    lb.Score,\n",
    "    bins = 100,\n",
    "    range = (300, 1200),\n",
    "    log = True,\n",
    "    label = \"リーダーボード\"\n",
    ")\n",
    "_ = plt.hist(\n",
    "    [ p.history[-1].mu for p in LLM20.players.values() ],\n",
    "    bins = 100,\n",
    "    range = (300, 1200),\n",
    "    alpha = .5,\n",
    "    log = True,\n",
    "    label = \"シミュレーション\"\n",
    ")\n",
    "_ = plt.title(\"プレイゲームによって修正されたリーダーボード分布\")\n",
    "_ = plt.xlabel(\"TrueSkill mu\")\n",
    "_ = plt.ylabel(\"ボットの数\")\n",
    "_ = plt.legend()"
   ]
  },
  {
   "cell_type": "markdown",
   "id": "b65381eb",
   "metadata": {},
   "source": [
    "完璧とは言えませんが、そこそこ良い結果です。差異の一部は、ゲームの数の違いによって説明可以險が、繊細には不十分です。修正された比較を見てみましょう："
   ]
  },
  {
   "cell_type": "code",
   "execution_count": null,
   "metadata": {
    "execution": {
     "iopub.execute_input": "2024-07-20T11:17:17.975148Z",
     "iopub.status.busy": "2024-07-20T11:17:17.974713Z",
     "iopub.status.idle": "2024-07-20T11:17:19.036353Z",
     "shell.execute_reply": "2024-07-20T11:17:19.035282Z",
     "shell.execute_reply.started": "2024-07-20T11:17:17.975114Z"
    }
   },
   "outputs": [],
   "source": [
    "plt.figure(figsize=(12,6))\n",
    "played_dist = last_games_df.groupby(\"guesser_SubmissionId\").size().values\n",
    "_ = plt.hist(\n",
    "    lb.Score,\n",
    "    bins = 100,\n",
    "    range = (300, 1200),\n",
    "    log = True,\n",
    "    label = \"リーダーボード\"\n",
    ")\n",
    "_ = plt.hist(\n",
    "    [\n",
    "        p.history[min(len(p.history)-1, random.choice(played_dist))].mu  # プレイされたゲームの分布から「最後のゲーム」数を選びます\n",
    "        for p in LLM20.players.values()\n",
    "    ],\n",
    "    bins = 100,\n",
    "    range = (300, 1200),\n",
    "    alpha = .5,\n",
    "    log = True,\n",
    "    label = \"シミュレーション\"\n",
    ")\n",
    "_ = plt.title(\"プレイゲームによって修正されたリーダーボード分布\")\n",
    "_ = plt.xlabel(\"TrueSkill mu\")\n",
    "_ = plt.ylabel(\"ボットの数\")\n",
    "_ =  plt.legend()"
   ]
  },
  {
   "cell_type": "markdown",
   "id": "2fe043df",
   "metadata": {},
   "source": [
    "もう一つの点は、スキル分布が高い値にシフトしていることですが、やはりそれだけでは違いを説明するには不十分です。したがって、$\\beta$や$\\tau$の値が何らかの形でずれている可能性があると思います。また、競技を通じてパラメータが調整された可能性もあります。\n",
    "\n",
    "いずれにせよ、私のテストからはこのシミュレーションの結果が変わるとは思えません。\n",
    "\n",
    "# 上位10ゲームの履歴との比較\n",
    "\n",
    "私は手動でリーダーボードの上位10位のゲーム履歴をスクレイピングし、そのデータを辞書に処理しました。この辞書は、[LLM-20-top10-LB-matches](https://www.kaggle.com/datasets/gguillard/llm-20-top10-lb-matches)データセットのピクル形式で見つけることができます。\n"
   ]
  },
  {
   "cell_type": "code",
   "execution_count": null,
   "metadata": {
    "execution": {
     "iopub.execute_input": "2024-07-20T11:39:56.944864Z",
     "iopub.status.busy": "2024-07-20T11:39:56.943904Z",
     "iopub.status.idle": "2024-07-20T11:39:56.956323Z",
     "shell.execute_reply": "2024-07-20T11:39:56.955114Z",
     "shell.execute_reply.started": "2024-07-20T11:39:56.944823Z"
    }
   },
   "outputs": [],
   "source": [
    "import pickle\n",
    "with open(\"/kaggle/input/llm-20-top10-lb-matches/matches.pickle\", \"rb\") as f:\n",
    "    top10_games_dict = pickle.load(f)"
   ]
  },
  {
   "cell_type": "markdown",
   "id": "4108f41b",
   "metadata": {},
   "source": [
    "彼らの進化は私たちのシミュレーションとどのように比較されるのでしょうか？\n"
   ]
  },
  {
   "cell_type": "code",
   "execution_count": null,
   "metadata": {
    "execution": {
     "iopub.execute_input": "2024-07-20T11:43:42.024192Z",
     "iopub.status.busy": "2024-07-20T11:43:42.023771Z",
     "iopub.status.idle": "2024-07-20T11:43:46.760287Z",
     "shell.execute_reply": "2024-07-20T11:43:46.759072Z",
     "shell.execute_reply.started": "2024-07-20T11:43:42.02416Z"
    }
   },
   "outputs": [],
   "source": [
    "plt.figure(figsize=(12,6))\n",
    "gray = [.05] * 4\n",
    "if SHOW_ALL:\n",
    "    for i in range(len(LLM20.players)):\n",
    "        plt.plot(\n",
    "            [r.mu for r in LLM20.players[i].history[:200]],\n",
    "            c = gray\n",
    "        )\n",
    "for kaggler, df in top10_games_dict.items():\n",
    "    _ = plt.plot(df[kaggler], label = kaggler)\n",
    "_ = plt.title(\"上位10名のリーダーボードのmuの進化（背景 = シミュレーション）\")\n",
    "_ = plt.xlabel(\"プレイしたゲームの数\")\n",
    "_ = plt.ylabel(\"TrueSkillのmu値\")\n",
    "_ = plt.legend()"
   ]
  },
  {
   "cell_type": "markdown",
   "id": "8f43bba9",
   "metadata": {},
   "source": [
    "このプロットの目的は、リーダーボードの挙動が私たちのシミュレーションと一致していることを示すことです。SpiralTipの印象的な復活にも注目してください…\n",
    "\n",
    "# チームのマッチング\n",
    "\n",
    "このプロセスで考慮しなかった重要な点があります。競技の概要を引用します：\n",
    "\n",
    "> 各提出物は、同等のスキルレーティングを持つ他のボットとエピソード（ゲーム）をプレイします。\n",
    "\n",
    "私の見解では、TrueSkillライブラリにはスキルレーティングに従ってプレイヤーを引き出す便利な関数が提供されていません。この点についてこだわる価値はあるのでしょうか？ 上位10プレイヤーのゲーム履歴があるので、彼らが$\\mu$の進化に沿ってどのようにペアリングされたかを確認できます：\n"
   ]
  },
  {
   "cell_type": "code",
   "execution_count": null,
   "metadata": {
    "execution": {
     "iopub.execute_input": "2024-07-20T11:52:33.744718Z",
     "iopub.status.busy": "2024-07-20T11:52:33.744306Z",
     "iopub.status.idle": "2024-07-20T11:52:34.72913Z",
     "shell.execute_reply": "2024-07-20T11:52:34.727955Z",
     "shell.execute_reply.started": "2024-07-20T11:52:33.744682Z"
    }
   },
   "outputs": [],
   "source": [
    "plt.figure(figsize=(12,6))\n",
    "for kaggler, df in top10_games_dict.items():\n",
    "    _ = plt.scatter(df[kaggler], df[\"Op1\"], s = 1, label = kaggler)\n",
    "    _ = plt.scatter(df[kaggler], df[\"Op2\"], s = 1)\n",
    "    _ = plt.scatter(df[kaggler], df[\"Op3\"], s = 1)\n",
    "_ = plt.legend()"
   ]
  },
  {
   "cell_type": "markdown",
   "id": "85ea1280",
   "metadata": {},
   "source": [
    "トレンドは見られますが、そこからシミュレーション関数を推測するのは明確ではありません。さらに、高得点のボットがダミーボットとペアにされる可能性があるため、そのレーティングが低下する可能性があります（ただし、それは彼らの小さな$\\sigma$によってある程度緩和されています）。\n",
    "\n",
    "しかし、何よりも、この点は（逆に「愚かさの落とし穴」問題を助長し）解決されていません。@loh-maaが非常に的確に名付けた問題です。\n",
    "\n",
    "# 結論\n",
    "\n",
    "このシミュレーションにはおそらく多くの欠陥があるでしょう。特に、新しい提出物が時間とともに増えること、各プレイヤーのゲームの頻度が時間とともに減少すること（おそらくσに関連しているかもしれません）、プレイヤーが同様のランキングのプレイヤーと対戦することがある程度あるという事実です。しかし、これらの「特徴」が私の結論を変えることはないと思います。現状のままでは、LLM 20 Questionsコンペティションのランキングシステムは、パフォーマンスよりも偶然の要素を多く含んでいることは明らかです。\n",
    "\n",
    "# プレイグラウンド\n",
    "\n",
    "もし、上記の内容を（再）読まなくてもTrueSkill環境をシミュレートしたい場合は、必要なすべてのコードがあります。\n"
   ]
  },
  {
   "cell_type": "code",
   "execution_count": null,
   "metadata": {
    "execution": {
     "iopub.execute_input": "2024-07-20T12:07:21.162116Z",
     "iopub.status.busy": "2024-07-20T12:07:21.161724Z",
     "iopub.status.idle": "2024-07-20T12:07:38.260507Z",
     "shell.execute_reply": "2024-07-20T12:07:38.259054Z",
     "shell.execute_reply.started": "2024-07-20T12:07:21.162083Z"
    }
   },
   "outputs": [],
   "source": [
    "!pip install trueskill"
   ]
  },
  {
   "cell_type": "code",
   "execution_count": null,
   "metadata": {
    "execution": {
     "iopub.execute_input": "2024-07-20T12:14:02.066241Z",
     "iopub.status.busy": "2024-07-20T12:14:02.065836Z",
     "iopub.status.idle": "2024-07-20T12:14:02.071945Z",
     "shell.execute_reply": "2024-07-20T12:14:02.070471Z",
     "shell.execute_reply.started": "2024-07-20T12:14:02.066209Z"
    }
   },
   "outputs": [],
   "source": [
    "import random\n",
    "from typing import List, Optional, Tuple\n",
    "import warnings\n",
    "\n",
    "from tqdm import tqdm\n",
    "from trueskill import TrueSkill"
   ]
  },
  {
   "cell_type": "code",
   "execution_count": null,
   "metadata": {
    "execution": {
     "iopub.execute_input": "2024-07-20T12:08:22.91245Z",
     "iopub.status.busy": "2024-07-20T12:08:22.912031Z",
     "iopub.status.idle": "2024-07-20T12:08:22.919896Z",
     "shell.execute_reply": "2024-07-20T12:08:22.918457Z",
     "shell.execute_reply.started": "2024-07-20T12:08:22.912417Z"
    }
   },
   "outputs": [],
   "source": [
    "class Player:\n",
    "    def __init__(\n",
    "        self,\n",
    "        skill: float,\n",
    "        env: Optional[TrueSkill] = None  # 今は無視しますが、後で使えるようにするためです\n",
    "    ):\n",
    "        self.skill = skill\n",
    "        self.rating = Rating() if env is None else env.Rating()  # 環境のデフォルト値（つまり600,300）で開始\n",
    "        self.history = []\n",
    "        \n",
    "    def update(self, new_rating):\n",
    "        self.history.append(self.rating)\n",
    "        self.rating = new_rating"
   ]
  },
  {
   "cell_type": "code",
   "execution_count": null,
   "metadata": {
    "execution": {
     "iopub.execute_input": "2024-07-20T12:15:42.456648Z",
     "iopub.status.busy": "2024-07-20T12:15:42.456207Z",
     "iopub.status.idle": "2024-07-20T12:15:42.467776Z",
     "shell.execute_reply": "2024-07-20T12:15:42.466419Z",
     "shell.execute_reply.started": "2024-07-20T12:15:42.456615Z"
    }
   },
   "outputs": [],
   "source": [
    "def play_match(\n",
    "    teamA: Tuple[Player, Player],\n",
    "    teamB: Tuple[Player, Player],\n",
    "    env: Optional[TrueSkill],\n",
    "    debug: bool = False\n",
    "):\n",
    "    \"\"\"\n",
    "    2チーム間の試合を行います。\n",
    "    \n",
    "    パラメータ\n",
    "    ------\n",
    "        teamA: Tuple[Player, Player]\n",
    "            2人のプレイヤーからなるチーム。\n",
    "        teamB: Tuple[Player, Player]\n",
    "            もう一つの2人のプレイヤーからなるチーム。\n",
    "        debug: boolean\n",
    "            デバッグ用フラグ。\n",
    "    \"\"\"\n",
    "    if debug:\n",
    "        print(\"プレイヤーのスキル　:\", [p.skill for p in teamA+teamB])\n",
    "        print(\"プレイヤーのレーティング　:\", [tuple(p.rating for p in teamA), tuple(p.rating for p in teamB)])\n",
    "    # 各チームについて、どのプレイヤーがダミーボットかを判定し、ボットがキーワードを見つけられなければ失敗\n",
    "    # それ以外の場合、チームの目標スキルがランダムな数よりも高ければキーワードを見つけられる\n",
    "    # （影に逆の論理があることに注意）\n",
    "    ranks = [\n",
    "        1 if teamA[0].skill * teamA[1].skill == 0 or random.random() > teamA[0].skill else 0,\n",
    "        1 if teamB[0].skill * teamB[1].skill == 0 or random.random() > teamB[0].skill else 0\n",
    "    ]\n",
    "    \n",
    "    # 新しいレーティングはゲームの結果\n",
    "    new_ratings = env.rate(\n",
    "        [\n",
    "            [ p.rating for p in teamA ],\n",
    "            [ p.rating for p in teamB ]\n",
    "        ],\n",
    "        ranks\n",
    "    )\n",
    "    \n",
    "    # すべてのプレイヤーのレーティングを更新\n",
    "    for p,r in zip(teamA, new_ratings[0]):\n",
    "        p.update(r)\n",
    "    for p,r in zip(teamB, new_ratings[1]):\n",
    "        p.update(r)\n",
    "        \n",
    "    if debug:\n",
    "        print(\"ゲームの結果　:\", ranks)\n",
    "        print(\"新しいレーティング　:\", new_ratings)\n",
    "    \n",
    "    return"
   ]
  },
  {
   "cell_type": "code",
   "execution_count": null,
   "metadata": {
    "execution": {
     "iopub.execute_input": "2024-07-20T12:16:34.352375Z",
     "iopub.status.busy": "2024-07-20T12:16:34.351231Z",
     "iopub.status.idle": "2024-07-20T12:16:34.364019Z",
     "shell.execute_reply": "2024-07-20T12:16:34.362645Z",
     "shell.execute_reply.started": "2024-07-20T12:16:34.352308Z"
    }
   },
   "outputs": [],
   "source": [
    "class Competition:\n",
    "    \"\"\"\n",
    "    TrueSkillのコンペティション環境を設定できます。\n",
    "    \"\"\"\n",
    "    \n",
    "    def __init__(\n",
    "        self,\n",
    "        skill_dist: List[float],\n",
    "        nb_dummy: int,\n",
    "        mu: float = 600,\n",
    "        sigma: float = 300,\n",
    "        beta: float = 150,\n",
    "        tau: float = 3,\n",
    "        draw_probability: float = 0.9956,\n",
    "        seed: float = 42,\n",
    "        debug: bool = False\n",
    "    ):\n",
    "        \"\"\"\n",
    "        コンストラクター。\n",
    "        \n",
    "        パラメータ\n",
    "        ------\n",
    "            skill_dist: List[float]\n",
    "                各「良い」提出のキーワード発見の確率。\n",
    "            nb_dummy: int\n",
    "                ダミーボットの数。\n",
    "            mu: float\n",
    "                TrueSkillのmuパラメータ。\n",
    "            sigma: float\n",
    "                TrueSkillのsigmaパラメータ。\n",
    "            beta: float\n",
    "                TrueSkillのbetaパラメータ。\n",
    "            tau: float\n",
    "                TrueSkillのtauパラメータ。\n",
    "            draw_probability: float\n",
    "                TrueSkillのdraw_probabilityパラメータ。\n",
    "            seed: float\n",
    "                ランダムシード。\n",
    "            debug: bool\n",
    "                デバッグ用フラグ。\n",
    "        \"\"\"\n",
    "        # 私たちの競技環境\n",
    "        self._trueskill = TrueSkill(\n",
    "            mu = mu,\n",
    "            sigma = sigma,\n",
    "            beta = beta,\n",
    "            tau = tau,\n",
    "            draw_probability = draw_probability\n",
    "        )\n",
    "        \n",
    "        # プレイヤーのプール — それがPlayerコンストラクタに環境を追加する理由\n",
    "        self.players = { ii: Player(s, self._trueskill) for ii,s in enumerate(skill_dist) }\n",
    "        self.players.update({ len(self.players)+ii: Player(0, self._trueskill) for ii in range(nb_dummy) })\n",
    "        \n",
    "        # ランダムシード\n",
    "        self._seed = seed\n",
    "        random.seed(seed)\n",
    "        \n",
    "        self.debug = debug\n",
    "        \n",
    "        \n",
    "    def play_games(self, nb_games: int = 10000):\n",
    "        \"\"\"\n",
    "        ゲームをシミュレーションし、プレイヤーの履歴を更新します。\n",
    "        \n",
    "        パラメータ\n",
    "        ------\n",
    "            nb_games: int\n",
    "                プレイするゲームの数。\n",
    "        \"\"\"\n",
    "        \n",
    "        for i in tqdm(range(nb_games)):\n",
    "            player_ids = random.sample(range(len(self.players)), 4)  # ランダムに4人のプレイヤーを選びます\n",
    "            try:\n",
    "                play_match(\n",
    "                    [\n",
    "                        self.players[player_ids[0]],\n",
    "                        self.players[player_ids[1]]\n",
    "                    ],\n",
    "                    [\n",
    "                        self.players[player_ids[2]],\n",
    "                        self.players[player_ids[3]]\n",
    "                    ],\n",
    "                    env = self._trueskill,\n",
    "                    debug = self.debug\n",
    "                )\n",
    "            except Exception as e:\n",
    "                warnings.warn(f\"例外が発生しました: {e}\")\n",
    "                continue"
   ]
  },
  {
   "cell_type": "code",
   "execution_count": null,
   "metadata": {
    "execution": {
     "iopub.execute_input": "2024-07-20T12:16:36.62176Z",
     "iopub.status.busy": "2024-07-20T12:16:36.62138Z",
     "iopub.status.idle": "2024-07-20T12:16:36.627307Z",
     "shell.execute_reply": "2024-07-20T12:16:36.626122Z",
     "shell.execute_reply.started": "2024-07-20T12:16:36.621731Z"
    }
   },
   "outputs": [],
   "source": [
    "nb_players = 10  # 実際のプレイヤー数\n",
    "nb_dummy_players = 10  # ダミー（「悪い」）ボットの数\n",
    "skill_distribution = [ random.random() for i in range(nb_players)]  # スキル分布"
   ]
  },
  {
   "cell_type": "code",
   "execution_count": null,
   "metadata": {
    "execution": {
     "iopub.execute_input": "2024-07-20T12:16:37.677152Z",
     "iopub.status.busy": "2024-07-20T12:16:37.676795Z",
     "iopub.status.idle": "2024-07-20T12:16:37.683028Z",
     "shell.execute_reply": "2024-07-20T12:16:37.68168Z",
     "shell.execute_reply.started": "2024-07-20T12:16:37.677126Z"
    }
   },
   "outputs": [],
   "source": [
    "# さまざまなコンペティションを定義して比較することができます\n",
    "C1 = Competition(skill_distribution, nb_dummy_players)\n",
    "C2 = Competition(skill_distribution, nb_dummy_players, mu = 500, sigma = 100, beta = 200, tau = 10, draw_probability = .8, seed = 123)"
   ]
  },
  {
   "cell_type": "code",
   "execution_count": null,
   "metadata": {
    "execution": {
     "iopub.execute_input": "2024-07-20T12:16:40.16207Z",
     "iopub.status.busy": "2024-07-20T12:16:40.161637Z",
     "iopub.status.idle": "2024-07-20T12:16:49.676808Z",
     "shell.execute_reply": "2024-07-20T12:16:49.675525Z",
     "shell.execute_reply.started": "2024-07-20T12:16:40.162037Z"
    }
   },
   "outputs": [],
   "source": [
    "# Kaggleのシステムで約1700ゲーム／秒を期待してください\n",
    "# 履歴はリセットされず、ゲームは以前のものに加算されます\n",
    "C1.play_games(10000)\n",
    "C2.play_games(10000)"
   ]
  },
  {
   "cell_type": "code",
   "execution_count": null,
   "metadata": {
    "execution": {
     "iopub.execute_input": "2024-07-20T12:17:59.132609Z",
     "iopub.status.busy": "2024-07-20T12:17:59.132182Z",
     "iopub.status.idle": "2024-07-20T12:17:59.138016Z",
     "shell.execute_reply": "2024-07-20T12:17:59.136685Z",
     "shell.execute_reply.started": "2024-07-20T12:17:59.132576Z"
    }
   },
   "outputs": [],
   "source": [
    "import matplotlib.pyplot as plt"
   ]
  },
  {
   "cell_type": "code",
   "execution_count": null,
   "metadata": {
    "execution": {
     "iopub.execute_input": "2024-07-20T12:17:59.246061Z",
     "iopub.status.busy": "2024-07-20T12:17:59.24568Z",
     "iopub.status.idle": "2024-07-20T12:17:59.548567Z",
     "shell.execute_reply": "2024-07-20T12:17:59.547442Z",
     "shell.execute_reply.started": "2024-07-20T12:17:59.246033Z"
    }
   },
   "outputs": [],
   "source": [
    "plt.plot([ r.mu for r in C1.players[0].history])"
   ]
  },
  {
   "cell_type": "markdown",
   "id": "57de2dd2",
   "metadata": {},
   "source": [
    "# シードによる変動\n"
   ]
  },
  {
   "cell_type": "code",
   "execution_count": null,
   "metadata": {
    "execution": {
     "iopub.execute_input": "2024-07-20T13:35:24.052666Z",
     "iopub.status.busy": "2024-07-20T13:35:24.052141Z",
     "iopub.status.idle": "2024-07-20T13:35:24.081765Z",
     "shell.execute_reply": "2024-07-20T13:35:24.080103Z",
     "shell.execute_reply.started": "2024-07-20T13:35:24.052626Z"
    }
   },
   "outputs": [],
   "source": [
    "C = [Competition(skill_dist, nb_dummy, seed=i) for i in range(4)]"
   ]
  },
  {
   "cell_type": "code",
   "execution_count": null,
   "metadata": {
    "execution": {
     "iopub.execute_input": "2024-07-20T13:45:54.361811Z",
     "iopub.status.busy": "2024-07-20T13:45:54.361392Z",
     "iopub.status.idle": "2024-07-20T13:47:11.105403Z",
     "shell.execute_reply": "2024-07-20T13:47:11.10421Z",
     "shell.execute_reply.started": "2024-07-20T13:45:54.361781Z"
    }
   },
   "outputs": [],
   "source": [
    "for comp in C:\n",
    "    comp.play_games(50000)"
   ]
  },
  {
   "cell_type": "code",
   "execution_count": null,
   "metadata": {
    "execution": {
     "iopub.execute_input": "2024-07-20T13:50:04.336765Z",
     "iopub.status.busy": "2024-07-20T13:50:04.33635Z",
     "iopub.status.idle": "2024-07-20T13:50:04.347264Z",
     "shell.execute_reply": "2024-07-20T13:50:04.345891Z",
     "shell.execute_reply.started": "2024-07-20T13:50:04.336735Z"
    }
   },
   "outputs": [],
   "source": [
    "def plot_first_n(comp, nfirsts, a):\n",
    "    #fig = plt.figure(figsize=(16,8))\n",
    "    cmap = plt.get_cmap('tab10')\n",
    "    for i in range(nfirsts):\n",
    "        pskill = comp.players[i].skill\n",
    "        a.plot(\n",
    "            [r.mu for r in comp.players[i].history],\n",
    "            c = cmap(i),\n",
    "            label = f\"スキル = {pskill:.2f}\"\n",
    "        )\n",
    "    _ = a.legend()\n",
    "    _ = a.set_title(\"上位10人（シミュレーションされた）プレイヤーのMuの進化\")\n",
    "    _ = a.set_xlabel(\"プレイされたゲームの数\")\n",
    "    _ = a.set_ylabel(\"TrueSkillのmu値\")"
   ]
  },
  {
   "cell_type": "code",
   "execution_count": null,
   "metadata": {
    "execution": {
     "iopub.execute_input": "2024-07-20T13:50:17.266956Z",
     "iopub.status.busy": "2024-07-20T13:50:17.266568Z",
     "iopub.status.idle": "2024-07-20T13:50:19.507685Z",
     "shell.execute_reply": "2024-07-20T13:50:19.506404Z",
     "shell.execute_reply.started": "2024-07-20T13:50:17.266928Z"
    }
   },
   "outputs": [],
   "source": [
    "fig, ax = plt.subplots(nrows=4, ncols=1, figsize=(16,16), constrained_layout=True)\n",
    "for i,comp in enumerate(C):\n",
    "    #plt.axes(ax[i])\n",
    "    plot_first_n(comp, 5, ax[i])"
   ]
  },
  {
   "cell_type": "code",
   "execution_count": null,
   "metadata": {
    "execution": {
     "iopub.execute_input": "2024-07-20T14:05:05.14683Z",
     "iopub.status.busy": "2024-07-20T14:05:05.1464Z",
     "iopub.status.idle": "2024-07-20T14:05:05.159688Z",
     "shell.execute_reply": "2024-07-20T14:05:05.158535Z",
     "shell.execute_reply.started": "2024-07-20T14:05:05.146797Z"
    }
   },
   "outputs": [],
   "source": [
    "for comp in C:\n",
    "    scores = {p: v.rating.mu for p,v in comp.players.items()}\n",
    "    leaderboard = {k:v for k,v in sorted(scores.items(), key=lambda item: item[1], reverse = True)}\n",
    "    print(\"リーダーボード\")\n",
    "    print(\"rank\\tplayer\\tskill\\tmu\")\n",
    "    for i in range(5):\n",
    "        pnum = list(leaderboard.keys())[i]\n",
    "        print(f\"{i+1}\\t{pnum}\\t{comp.players[pnum].skill:.2f}\\t{leaderboard[i]:.0f}\")\n",
    "    print(\"-------------\")"
   ]
  }
 ],
 "metadata": {
  "kaggle": {
   "accelerator": "none",
   "dataSources": [
    {
     "databundleVersionId": 8550470,
     "sourceId": 61247,
     "sourceType": "competition"
    },
    {
     "datasetId": 5400047,
     "sourceId": 8969887,
     "sourceType": "datasetVersion"
    },
    {
     "datasetId": 5394349,
     "sourceId": 8997086,
     "sourceType": "datasetVersion"
    },
    {
     "sourceId": 188996916,
     "sourceType": "kernelVersion"
    }
   ],
   "dockerImageVersionId": 30746,
   "isGpuEnabled": false,
   "isInternetEnabled": true,
   "language": "python",
   "sourceType": "notebook"
  },
  "kernelspec": {
   "display_name": "Python 3",
   "language": "python",
   "name": "python3"
  },
  "language_info": {
   "codemirror_mode": {
    "name": "ipython",
    "version": 3
   },
   "file_extension": ".py",
   "mimetype": "text/x-python",
   "name": "python",
   "nbconvert_exporter": "python",
   "pygments_lexer": "ipython3",
   "version": "3.10.13"
  }
 },
 "nbformat": 4,
 "nbformat_minor": 4
}
