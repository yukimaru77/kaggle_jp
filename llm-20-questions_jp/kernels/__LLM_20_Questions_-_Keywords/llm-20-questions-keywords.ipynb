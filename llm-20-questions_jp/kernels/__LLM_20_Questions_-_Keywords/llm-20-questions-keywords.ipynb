{
 "cells": [
  {
   "cell_type": "markdown",
   "id": "8f119935",
   "metadata": {},
   "source": [
    "# 要約 \n",
    "このJupyter Notebookは、Kaggleのコンペティション「LLM 20 Questions」に関連し、「20の質問」ゲームにおけるキーワードの抽出と分析を行うことを目的としています。具体的には、コンペティションで使用される情報をJSON形式で取得し、国、都市、ランドマークに関するデータを整理してデータフレームに変換しています。\n",
    "\n",
    "### 主な手法とライブラリ\n",
    "1. **ライブラリの利用**:\n",
    "    - `numpy`: 数値計算のために使用。\n",
    "    - `pandas`: データ解析やデータフレームの操作のために利用。\n",
    "    - `json`: JSON形式のデータを操作するため。\n",
    "    - `os`や`sys`: ファイルシステムとのインタフェースを提供し、他のモジュールのインポートに使用しています。\n",
    "\n",
    "2. **データ処理手順**:\n",
    "    - `os.walk`を使って指定されたディレクトリ内の全ファイルを表示。\n",
    "    - `sys.path`を使用して`keywords.py`モジュールのパスを追加し、後にインポート。\n",
    "    - JSONデータを`json.loads`で辞書形式に変換し、国、都市、ランドマークごとの情報を抽出。\n",
    "    - `pd.json_normalize`を用いて各要素をデータフレームに変換し、結果を表示。\n",
    "\n",
    "このノートブックは、キーワードの抽出に成功し、モデルの挙動についての洞察を提供することを目指しています。マークダウンセルでは、他のKaggleユーザーからのフィードバックが含まれており、コードの学習や改善点についてのコメントが寄せられています。\n",
    "\n",
    "---\n"
   ]
  },
  {
   "cell_type": "markdown",
   "id": "9d4f40b7",
   "metadata": {},
   "source": [
    "# 用語概説 \n",
    "以下は、ノートブックの内容に関連する専門用語の簡単な解説です。初心者がつまずきそうなマイナーなものや特有のドメイン知識に焦点を当てています。 \n",
    "\n",
    "### 専門用語の解説\n",
    "\n",
    "1. **JSON (JavaScript Object Notation)**:\n",
    "   - データを構造化した形式で表現するためのテキストベースのフォーマット。データの交換や保存に広く使われており、リストや辞書といったデータ構造を簡潔に表現できる。\n",
    "\n",
    "2. **pd.json_normalize**:\n",
    "   - `pandas`ライブラリの関数で、ネストされたJSONオブジェクトをフラットなデータフレームに変換することができる。特に分析や処理のために、階層化されたデータを扱いやすくする際に有効。\n",
    "\n",
    "3. **words（キーワード）**:\n",
    "   - このノートブックに特有のコンテキストから考えると、20の質問ゲームに関連する単語のリストやそれに関するデータが含まれている部分。これらのキーワードは、ゲーム中に質問するために使用される情報の一部となる。\n",
    "\n",
    "4. **エピソード**:\n",
    "   - ゲームや競技が進行する中での1回のラウンドやセッションを指す。LLM 20 Questionsでは、各エピソードが特定の質問と回答のやり取りを通じて行われ、結果が評価される。\n",
    "\n",
    "5. **KEYWORDS_JSON**:\n",
    "   - このノートブックで参照される特定のJSONデータ。この変数はキーワードに関連する情報を保持しており、他の部分で使用されるために事前に定義されている必要がある。\n",
    "\n",
    "この説明が初心者にとって役立つことを願っています。疑問点があればさらに詳しくお答えします。\n",
    "\n",
    "---\n"
   ]
  },
  {
   "cell_type": "code",
   "execution_count": null,
   "metadata": {
    "_cell_guid": "b1076dfc-b9ad-4769-8c92-a6c4dae69d19",
    "_uuid": "8f2839f25d086af736a60e9eeb907d3b93b6e0e5",
    "execution": {
     "iopub.execute_input": "2024-05-17T11:43:18.421832Z",
     "iopub.status.busy": "2024-05-17T11:43:18.421434Z",
     "iopub.status.idle": "2024-05-17T11:43:18.431628Z",
     "shell.execute_reply": "2024-05-17T11:43:18.430254Z",
     "shell.execute_reply.started": "2024-05-17T11:43:18.421801Z"
    }
   },
   "outputs": [],
   "source": [
    "import numpy as np  # 数値計算を行うためのライブラリをインポートします\n",
    "import pandas as pd  # データ解析のためのライブラリをインポートします\n",
    "import json  # JSON形式のデータを扱うためのライブラリをインポートします\n",
    "import os  # オペレーティングシステムとのインタフェースを提供するライブラリをインポートします\n",
    "import sys  # Pythonインタプリタと対話するためのライブラリをインポートします\n",
    "\n",
    "# ファイルを表示するためのループ\n",
    "for dirname, _, filenames in os.walk('/kaggle/input'):  # '/kaggle/input'ディレクトリ内の全ファイルを再帰的に探索します\n",
    "    for filename in filenames:  # 各ファイル名に対して\n",
    "        print(os.path.join(dirname, filename))  # ファイルのフルパスを表示します"
   ]
  },
  {
   "cell_type": "code",
   "execution_count": null,
   "metadata": {
    "execution": {
     "iopub.execute_input": "2024-05-17T11:43:18.435719Z",
     "iopub.status.busy": "2024-05-17T11:43:18.434356Z",
     "iopub.status.idle": "2024-05-17T11:43:18.442836Z",
     "shell.execute_reply": "2024-05-17T11:43:18.441475Z",
     "shell.execute_reply.started": "2024-05-17T11:43:18.435679Z"
    }
   },
   "outputs": [],
   "source": [
    "# keywords.pyというモジュールをインポートするために、パスを追加します\n",
    "sys.path.append('../input/llm-20-questions/llm_20_questions/')  # モジュールの場所を指定します\n",
    "\n",
    "import keywords  # keywords.pyモジュールをインポートします"
   ]
  },
  {
   "cell_type": "code",
   "execution_count": null,
   "metadata": {
    "execution": {
     "iopub.execute_input": "2024-05-17T11:43:18.445262Z",
     "iopub.status.busy": "2024-05-17T11:43:18.444074Z",
     "iopub.status.idle": "2024-05-17T11:43:18.457286Z",
     "shell.execute_reply": "2024-05-17T11:43:18.456259Z",
     "shell.execute_reply.started": "2024-05-17T11:43:18.445222Z"
    }
   },
   "outputs": [],
   "source": [
    "# 設定の変更\n",
    "pd.set_option('display.max_rows', None)  # データフレームの全行を表示する設定です\n",
    "pd.set_option('display.max_colwidth', None)  # 長いテキストも完全に表示するための設定です"
   ]
  },
  {
   "cell_type": "code",
   "execution_count": null,
   "metadata": {
    "execution": {
     "iopub.execute_input": "2024-05-17T11:43:18.459023Z",
     "iopub.status.busy": "2024-05-17T11:43:18.458654Z",
     "iopub.status.idle": "2024-05-17T11:43:18.470573Z",
     "shell.execute_reply": "2024-05-17T11:43:18.469236Z",
     "shell.execute_reply.started": "2024-05-17T11:43:18.458975Z"
    }
   },
   "outputs": [],
   "source": [
    "# JSON形式に変換します\n",
    "my_json = json.loads(keywords.KEYWORDS_JSON)  # keywordsモジュールから取得したJSON文字列を辞書型に変換します"
   ]
  },
  {
   "cell_type": "code",
   "execution_count": null,
   "metadata": {
    "execution": {
     "iopub.execute_input": "2024-05-17T11:43:18.473367Z",
     "iopub.status.busy": "2024-05-17T11:43:18.472927Z",
     "iopub.status.idle": "2024-05-17T11:43:18.483921Z",
     "shell.execute_reply": "2024-05-17T11:43:18.482468Z",
     "shell.execute_reply.started": "2024-05-17T11:43:18.473334Z"
    }
   },
   "outputs": [],
   "source": [
    "# コンポーネントを抽出します\n",
    "json_country = my_json[0]  # JSONデータから国に関する情報を抽出します\n",
    "json_city = my_json[1]     # JSONデータから都市に関する情報を抽出します\n",
    "json_landmark = my_json[2] # JSONデータからランドマークに関する情報を抽出します"
   ]
  },
  {
   "cell_type": "code",
   "execution_count": null,
   "metadata": {
    "execution": {
     "iopub.execute_input": "2024-05-17T11:43:18.485425Z",
     "iopub.status.busy": "2024-05-17T11:43:18.485032Z",
     "iopub.status.idle": "2024-05-17T11:43:18.608517Z",
     "shell.execute_reply": "2024-05-17T11:43:18.606993Z",
     "shell.execute_reply.started": "2024-05-17T11:43:18.485393Z"
    }
   },
   "outputs": [],
   "source": [
    "# 国に関するデータをデータフレームに変換します\n",
    "df_country = pd.json_normalize(json_country['words'])  # JSONデータの'words'部分を正規化し、データフレームに変換します\n",
    "df_country  # 国に関するデータフレームを表示します"
   ]
  },
  {
   "cell_type": "code",
   "execution_count": null,
   "metadata": {
    "execution": {
     "iopub.execute_input": "2024-05-17T11:43:18.611241Z",
     "iopub.status.busy": "2024-05-17T11:43:18.61057Z",
     "iopub.status.idle": "2024-05-17T11:43:18.787466Z",
     "shell.execute_reply": "2024-05-17T11:43:18.786214Z",
     "shell.execute_reply.started": "2024-05-17T11:43:18.611188Z"
    }
   },
   "outputs": [],
   "source": [
    "# 都市に関するデータをデータフレームに変換します\n",
    "df_city = pd.json_normalize(json_city['words'])  # JSONデータの'words'部分を正規化し、データフレームに変換します\n",
    "df_city  # 都市に関するデータフレームを表示します"
   ]
  },
  {
   "cell_type": "code",
   "execution_count": null,
   "metadata": {
    "execution": {
     "iopub.execute_input": "2024-05-17T11:43:18.790227Z",
     "iopub.status.busy": "2024-05-17T11:43:18.789205Z",
     "iopub.status.idle": "2024-05-17T11:43:18.824603Z",
     "shell.execute_reply": "2024-05-17T11:43:18.823465Z",
     "shell.execute_reply.started": "2024-05-17T11:43:18.790189Z"
    }
   },
   "outputs": [],
   "source": [
    "# ランドマークに関するデータをデータフレームに変換します\n",
    "df_landmark = pd.json_normalize(json_landmark['words'])  # JSONデータの'words'部分を正規化し、データフレームに変換します\n",
    "df_landmark  # ランドマークに関するデータフレームを表示します"
   ]
  },
  {
   "cell_type": "code",
   "execution_count": null,
   "metadata": {
    "execution": {
     "iopub.execute_input": "2024-05-17T11:43:18.826707Z",
     "iopub.status.busy": "2024-05-17T11:43:18.826365Z",
     "iopub.status.idle": "2024-05-17T11:43:18.833858Z",
     "shell.execute_reply": "2024-05-17T11:43:18.832626Z",
     "shell.execute_reply.started": "2024-05-17T11:43:18.826677Z"
    }
   },
   "outputs": [],
   "source": [
    "len(my_json)  # JSONデータ内の要素の数を取得して表示します"
   ]
  },
  {
   "cell_type": "markdown",
   "id": "df9123a6",
   "metadata": {},
   "source": [
    "---\n",
    "\n",
    "# コメント\n",
    "\n",
    "> ## Marília Prata\n",
    "> \n",
    "> あなたのコードからいつも学んでいます。今は「import keywords」とのことですが、Kaggleで読むのは初めてです。\n",
    "> \n",
    "> 最後に、これは20の質問ゲームなので、\n",
    "> \n",
    "> 「それはキーワードですか？」と尋ねることができますね😉  素晴らしい仕事です、Docxian！\n",
    "> \n",
    "> \n",
    "\n",
    "---\n",
    "\n",
    "> ## Matin Mahmoudi ✨\n",
    "> \n",
    "> [@docxian](https://www.kaggle.com/docxian) あなたのLLM 20 Questionsノートブックは非常に参考になります！キーワードの抽出と分析が特にうまくいっており、モデルの挙動に対する明確な洞察を提供しています。あなたの作品のほとんどを確認しましたが、どれも素晴らしいです。私はあなたの作品にアップボートしました！\n",
    "> \n",
    "> \n",
    "\n",
    "---\n",
    "\n",
    "> ## NBCLASS007\n",
    "> \n",
    "> なぜ私のダウンロードしたキーワードにはKEYWORDS_JSONがないのでしょうか？\n",
    "> \n",
    "> \n",
    "\n",
    "---"
   ]
  }
 ],
 "metadata": {
  "kaggle": {
   "accelerator": "none",
   "dataSources": [
    {
     "databundleVersionId": 8550470,
     "sourceId": 61247,
     "sourceType": "competition"
    }
   ],
   "dockerImageVersionId": 30698,
   "isGpuEnabled": false,
   "isInternetEnabled": true,
   "language": "python",
   "sourceType": "notebook"
  },
  "kernelspec": {
   "display_name": "Python 3",
   "language": "python",
   "name": "python3"
  },
  "language_info": {
   "codemirror_mode": {
    "name": "ipython",
    "version": 3
   },
   "file_extension": ".py",
   "mimetype": "text/x-python",
   "name": "python",
   "nbconvert_exporter": "python",
   "pygments_lexer": "ipython3",
   "version": "3.10.13"
  }
 },
 "nbformat": 4,
 "nbformat_minor": 4
}
