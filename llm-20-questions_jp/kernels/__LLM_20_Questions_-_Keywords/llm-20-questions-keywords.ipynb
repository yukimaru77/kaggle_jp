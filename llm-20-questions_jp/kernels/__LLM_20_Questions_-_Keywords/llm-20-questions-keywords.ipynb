{
 "cells": [
  {
   "cell_type": "markdown",
   "id": "d1223472",
   "metadata": {},
   "source": [
    "# 要約 \n",
    "このJupyter Notebookは、「20の質問」ゲームに関連するデータ分析に取り組んでいます。具体的には、キーワードに関する情報をJSON形式から抽出し、処理することを目指しています。\n",
    "\n",
    "### 取り組んでいる問題\n",
    "- ジェネレーティブAIを用いた「20の質問」ゲームにおいて、ゲームのプレイヤー（質問者や回答者）が効果的に質問を行うためのキーワードデータを扱っています。\n",
    "- JSON形式のデータから国、都市、ランドマークのキーワードを抽出し、それらをデータフレームとして整理するプロセスを実施しています。\n",
    "\n",
    "### 使用している手法とライブラリ\n",
    "- **ライブラリ**: `numpy`, `pandas`, `json`, `os`, `sys`などの一般的なPythonライブラリを使用しています。\n",
    "- **データ処理**:\n",
    "  - `json.loads`を用いて、特定のJSON構造（KEYWORDS_JSON）を解析し、Pythonのデータ構造（辞書）に変換しています。\n",
    "  - `pd.json_normalize`を使用して、抽出した国、都市、ランドマークの情報をデータフレームに変換しています。これにより、データの可視化と分析が可能となります。\n",
    "\n",
    "### 全体の流れ\n",
    "1. 必要なライブラリのインポートとファイルの表示。\n",
    "2. キーワードデータを含むモジュールのインポート。\n",
    "3. JSON形式のキーワードデータを解析し、国、都市、ランドマークの情報をそれぞれのデータフレームに正規化。\n",
    "4. それぞれのデータフレームを利用して分析を進めるための準備を行います。\n",
    "\n",
    "### コメントセクション\n",
    "他のKaggleユーザーからのフィードバックがあり、ノートブックの内容が評価されています。特にキーワード抽出の有効性と、モデルの挙動に関する洞察が称賛されています。また、一部ユーザーからの質問も寄せられていますが、全体としては好意的な反応が目立ちます。\n",
    "\n",
    "このノートブックは、提案されたゲームのキーワードを効率的に取り扱うための重要なステップを示しており、将来的な分析やモデルのトレーニングに向けた基盤を提供しています。\n",
    "\n",
    "---\n"
   ]
  },
  {
   "cell_type": "markdown",
   "id": "b2ef596c",
   "metadata": {},
   "source": [
    "# 用語概説 \n",
    "以下は、Jupyter Notebookの内容に関連する初心者がつまずきそうな専門用語の簡単な解説です。\n",
    "\n",
    "1. **JSON (JavaScript Object Notation)**:\n",
    "   - データを構造化するための軽量なフォーマット。人間が読み書きしやすく、プログラムが解析しやすい。主にデータの転送やAPIレスポンスとして使われる。\n",
    "\n",
    "2. **pd.json_normalize()**:\n",
    "   - Pandasライブラリの関数で、ネストされたJSONデータをフラットなデータフレームに変換する。データの可視化や分析を容易にする。\n",
    "\n",
    "3. **データフレーム**:\n",
    "   - Pandasで使用されるデータ構造で、行と列からなる2次元ラベル付きデータ。スプレッドシートのようにデータを扱うことができる。\n",
    "\n",
    "4. **os.walk()**:\n",
    "   - Pythonのosモジュールの関数で、指定したディレクトリ内のファイルやサブディレクトリを再帰的に探索し、各ディレクトリのパスを取得する。\n",
    "\n",
    "5. **sys.path.append()**:\n",
    "   - Pythonのsysモジュールを利用して、モジュールをインポートするためのパスを追加する処理。特定のフォルダにあるモジュール（この場合はkeywords.py）をインポート可能にする。\n",
    "\n",
    "6. **KEYWORDS_JSON**:\n",
    "   - Jupyter Notebook特有の構成要素で、プレデファインされたキーワードリストが含まれているJSON形式の変数。具体的な内容は不明だが、ゲームのプレイや解析に使用される。\n",
    "\n",
    "7. **正規化**:\n",
    "   - データの整形や変換を行い、分析しやすい形式に整えること。JSONデータをデータフレームに変換する場合、データの構造をフラットにすることを指す。\n",
    "\n",
    "これらの解説は、ノートブックの内容や流れに関連する用語であり、初心者が実務での用語理解やプログラムの流れを把握するのに役立つでしょう。\n",
    "\n",
    "---\n"
   ]
  },
  {
   "cell_type": "code",
   "execution_count": null,
   "metadata": {
    "_cell_guid": "b1076dfc-b9ad-4769-8c92-a6c4dae69d19",
    "_uuid": "8f2839f25d086af736a60e9eeb907d3b93b6e0e5",
    "execution": {
     "iopub.execute_input": "2024-05-17T11:43:18.421832Z",
     "iopub.status.busy": "2024-05-17T11:43:18.421434Z",
     "iopub.status.idle": "2024-05-17T11:43:18.431628Z",
     "shell.execute_reply": "2024-05-17T11:43:18.430254Z",
     "shell.execute_reply.started": "2024-05-17T11:43:18.421801Z"
    }
   },
   "outputs": [],
   "source": [
    "import numpy as np\n",
    "import pandas as pd\n",
    "import json\n",
    "import os\n",
    "import sys\n",
    "\n",
    "# ファイルを表示する\n",
    "for dirname, _, filenames in os.walk('/kaggle/input'):\n",
    "    for filename in filenames:\n",
    "        print(os.path.join(dirname, filename))"
   ]
  },
  {
   "cell_type": "code",
   "execution_count": null,
   "metadata": {
    "execution": {
     "iopub.execute_input": "2024-05-17T11:43:18.435719Z",
     "iopub.status.busy": "2024-05-17T11:43:18.434356Z",
     "iopub.status.idle": "2024-05-17T11:43:18.442836Z",
     "shell.execute_reply": "2024-05-17T11:43:18.441475Z",
     "shell.execute_reply.started": "2024-05-17T11:43:18.435679Z"
    }
   },
   "outputs": [],
   "source": [
    "# keywords.pyをインポートする\n",
    "sys.path.append('../input/llm-20-questions/llm_20_questions/')\n",
    "import keywords"
   ]
  },
  {
   "cell_type": "code",
   "execution_count": null,
   "metadata": {
    "execution": {
     "iopub.execute_input": "2024-05-17T11:43:18.445262Z",
     "iopub.status.busy": "2024-05-17T11:43:18.444074Z",
     "iopub.status.idle": "2024-05-17T11:43:18.457286Z",
     "shell.execute_reply": "2024-05-17T11:43:18.456259Z",
     "shell.execute_reply.started": "2024-05-17T11:43:18.445222Z"
    }
   },
   "outputs": [],
   "source": [
    "# 設定\n",
    "pd.set_option('display.max_rows', None) # データフレームのすべての行を表示する\n",
    "pd.set_option('display.max_colwidth', None) # より長いテキストも完全に表示するため"
   ]
  },
  {
   "cell_type": "code",
   "execution_count": null,
   "metadata": {
    "execution": {
     "iopub.execute_input": "2024-05-17T11:43:18.459023Z",
     "iopub.status.busy": "2024-05-17T11:43:18.458654Z",
     "iopub.status.idle": "2024-05-17T11:43:18.470573Z",
     "shell.execute_reply": "2024-05-17T11:43:18.469236Z",
     "shell.execute_reply.started": "2024-05-17T11:43:18.458975Z"
    }
   },
   "outputs": [],
   "source": [
    "# JSONに変換する\n",
    "my_json = json.loads(keywords.KEYWORDS_JSON) # KEYWORDS_JSONを解析してJSONに変換する"
   ]
  },
  {
   "cell_type": "code",
   "execution_count": null,
   "metadata": {
    "execution": {
     "iopub.execute_input": "2024-05-17T11:43:18.473367Z",
     "iopub.status.busy": "2024-05-17T11:43:18.472927Z",
     "iopub.status.idle": "2024-05-17T11:43:18.483921Z",
     "shell.execute_reply": "2024-05-17T11:43:18.482468Z",
     "shell.execute_reply.started": "2024-05-17T11:43:18.473334Z"
    }
   },
   "outputs": [],
   "source": [
    "# コンポーネントを抽出する\n",
    "json_country = my_json[0] # JSONから国データを抽出する\n",
    "json_city = my_json[1]    # JSONから都市データを抽出する\n",
    "json_landmark = my_json[2] # JSONからランドマークデータを抽出する"
   ]
  },
  {
   "cell_type": "code",
   "execution_count": null,
   "metadata": {
    "execution": {
     "iopub.execute_input": "2024-05-17T11:43:18.485425Z",
     "iopub.status.busy": "2024-05-17T11:43:18.485032Z",
     "iopub.status.idle": "2024-05-17T11:43:18.608517Z",
     "shell.execute_reply": "2024-05-17T11:43:18.606993Z",
     "shell.execute_reply.started": "2024-05-17T11:43:18.485393Z"
    }
   },
   "outputs": [],
   "source": [
    "# 国\n",
    "df_country = pd.json_normalize(json_country['words']) # 国の単語を正規化してデータフレームに変換する\n",
    "df_country"
   ]
  },
  {
   "cell_type": "code",
   "execution_count": null,
   "metadata": {
    "execution": {
     "iopub.execute_input": "2024-05-17T11:43:18.611241Z",
     "iopub.status.busy": "2024-05-17T11:43:18.61057Z",
     "iopub.status.idle": "2024-05-17T11:43:18.787466Z",
     "shell.execute_reply": "2024-05-17T11:43:18.786214Z",
     "shell.execute_reply.started": "2024-05-17T11:43:18.611188Z"
    }
   },
   "outputs": [],
   "source": [
    "# 都市\n",
    "df_city = pd.json_normalize(json_city['words']) # 都市の単語を正規化してデータフレームに変換する\n",
    "df_city"
   ]
  },
  {
   "cell_type": "code",
   "execution_count": null,
   "metadata": {
    "execution": {
     "iopub.execute_input": "2024-05-17T11:43:18.790227Z",
     "iopub.status.busy": "2024-05-17T11:43:18.789205Z",
     "iopub.status.idle": "2024-05-17T11:43:18.824603Z",
     "shell.execute_reply": "2024-05-17T11:43:18.823465Z",
     "shell.execute_reply.started": "2024-05-17T11:43:18.790189Z"
    }
   },
   "outputs": [],
   "source": [
    "# ランドマーク\n",
    "df_landmark = pd.json_normalize(json_landmark['words']) # ランドマークの単語を正規化してデータフレームに変換する\n",
    "df_landmark"
   ]
  },
  {
   "cell_type": "code",
   "execution_count": null,
   "metadata": {
    "execution": {
     "iopub.execute_input": "2024-05-17T11:43:18.826707Z",
     "iopub.status.busy": "2024-05-17T11:43:18.826365Z",
     "iopub.status.idle": "2024-05-17T11:43:18.833858Z",
     "shell.execute_reply": "2024-05-17T11:43:18.832626Z",
     "shell.execute_reply.started": "2024-05-17T11:43:18.826677Z"
    }
   },
   "outputs": [],
   "source": [
    "len(my_json) # my_jsonの要素数を取得する"
   ]
  },
  {
   "cell_type": "markdown",
   "id": "00a18f4c",
   "metadata": {},
   "source": [
    "---\n",
    "\n",
    "# コメント\n",
    "\n",
    "> ## Marília Prata\n",
    "> \n",
    "> あなたのコードからいつも学んでいます。今回は「import keywords」ですね（Kaggleで読むのは初めてです）。\n",
    "> \n",
    "> 最後に、これは20の質問ゲームなので、\n",
    "> \n",
    "> 我々はこう尋ねることができます：「それはキーワードですか？😉  素晴らしい仕事です、Docxian！\n",
    "> \n",
    "> \n",
    "\n",
    "---\n",
    "\n",
    "> ## Matin Mahmoudi ✨\n",
    "> \n",
    "> [@docxian](https://www.kaggle.com/docxian) あなたの LLM 20 Questions ノートブックは非常に情報量が豊富です！キーワードの抽出と分析は特に優れており、モデルの挙動に関する明確な洞察を提供しています。あなたの作業のほとんどを確認しましたが、すべて素晴らしいです。あなたの作品に投票しました！\n",
    "> \n",
    "> \n",
    "\n",
    "---\n",
    "\n",
    "> ## NBCLASS007\n",
    "> \n",
    "> なぜ私のダウンロードしたキーワードにKEYWORDS_JSONがないのですか？\n",
    "> \n",
    "> \n",
    "\n",
    "---"
   ]
  }
 ],
 "metadata": {
  "kaggle": {
   "accelerator": "none",
   "dataSources": [
    {
     "databundleVersionId": 8550470,
     "sourceId": 61247,
     "sourceType": "competition"
    }
   ],
   "dockerImageVersionId": 30698,
   "isGpuEnabled": false,
   "isInternetEnabled": true,
   "language": "python",
   "sourceType": "notebook"
  },
  "kernelspec": {
   "display_name": "Python 3",
   "language": "python",
   "name": "python3"
  },
  "language_info": {
   "codemirror_mode": {
    "name": "ipython",
    "version": 3
   },
   "file_extension": ".py",
   "mimetype": "text/x-python",
   "name": "python",
   "nbconvert_exporter": "python",
   "pygments_lexer": "ipython3",
   "version": "3.10.13"
  }
 },
 "nbformat": 4,
 "nbformat_minor": 4
}
