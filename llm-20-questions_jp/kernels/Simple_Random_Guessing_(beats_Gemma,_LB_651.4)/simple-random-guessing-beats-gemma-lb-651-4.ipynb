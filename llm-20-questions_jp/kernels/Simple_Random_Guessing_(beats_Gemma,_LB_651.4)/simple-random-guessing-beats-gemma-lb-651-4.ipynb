{
 "cells": [
  {
   "cell_type": "markdown",
   "id": "55320de1",
   "metadata": {},
   "source": [
    "# 要約 \n",
    "このJupyter Notebookは、Kaggleの「LLM 20 Questions」コンペティションに参加するためのボットを作成する内容です。このボットは、質問者として動作し、以下の簡単な戦略を用いてターゲットワードを推測します。\n",
    "\n",
    "### 問題の内容\n",
    "コンペティションのルールに従い、ボットが対象物を推測するために「はい」と「いいえ」で回答する質問を行うゲーム形式のアプローチを取っています。今回のボットは、基本的な質問フォーマットやランダムな単語の推測方法を使用しています。\n",
    "\n",
    "### 手法とライブラリ\n",
    "1. **基本的なアプローチ**:\n",
    "   - ボットは常に「それは物ですか、それとも場所ですか？」という質問から始めます。\n",
    "   - ターゲットワードの推測は、`keywords.py`に含まれるランダムな単語を選ぶことで行います。\n",
    "   - 回答者には、常に「いいえ」と返答させるよう設計されています。\n",
    "\n",
    "2. **使用するライブラリ**:\n",
    "   - **os, sys, glob, random, json**: これらのライブラリを用いて、ファイル操作やランダムな選択、JSON形式のデータ処理を行っています。\n",
    "   - **numpy、pandas**: 最終的にはファイルパスの表示や管理に使われています。\n",
    "\n",
    "3. **コードの主な構成**:\n",
    "   - ファイル管理: `submission` ディレクトリを作成し、必要なファイルをコピー。\n",
    "   - ボットの応答ロジックを含む `main.py` を作成し、ディレクトリ内のファイルを圧縮化して提出用のファイルにしています。\n",
    "\n",
    "### まとめ\n",
    "このNotebookは、シンプルかつ基本的な戦略で作られたボットを提案しており、初学者でも理解しやすい構成としています。シンプルな設問と固定的な回答を用いて、コンペティションにおけるボットの作成手法を示しています。コメントセクションには、他の参加者からの感謝の意が寄せられ、初心者にとっての有益さが強調されています。\n",
    "\n",
    "---\n"
   ]
  },
  {
   "cell_type": "markdown",
   "id": "80a7cc9d",
   "metadata": {},
   "source": [
    "# 用語概説 \n",
    "以下は、初心者がノートブックの内容でつまずく可能性のある、マイナーな専門用語に関する簡単な解説です。\n",
    "\n",
    "1. **LB（Leaderboard）**: コンペティションにおけるボットのパフォーマンスを示すスコア。各ボットは他のボットと対戦して得た結果に基づいてランキングされ、LBはその順位に関連する数値を指します。\n",
    "\n",
    "2. **Kaggle**: データサイエンスのコンペティションを提供するプラットフォーム。参加者が様々なデータセットを用いてアルゴリズムを開発し、評価します。\n",
    "\n",
    "3. **ボット**: 特定のタスクを自動で実行するプログラム。ここでは「20の質問」ゲームに挑戦するために設計されたエージェントを指します。\n",
    "\n",
    "4. **ランダムな単語**: ボットが質問や推測をする際に、予測や回答の選択肢として無作為に選ばれる単語。ゲームの戦略を評価するために使われます。\n",
    "\n",
    "5. **KEYWORDS_JSON**: `keywords.py`からのデータ構造。ここには、ゲームで使う単語のリストが含まれており、ボットが推測に利用します。\n",
    "\n",
    "6. **エージェントの関数**: ボットが具体的な動作を行うために定義された関数。例えば、質問をする、推測する、回答するなどの処理が行われます。\n",
    "\n",
    "7. **obs（観察オブジェクト）**: ボットが現在のゲームの状態を表すオブジェクト。ゲームの進捗に応じて、次の動作を決定するために利用されます。\n",
    "\n",
    "8. **cfg（設定オブジェクト）**: エージェントの動作に関する設定情報を含むオブジェクト。具体的には、ゲームのルールや制限などが設定されていることが多いです。\n",
    "\n",
    "9. **パース（parse）**: データの構文を解析して、意味のある構造に変換すること。ここでは、JSON形式のデータをPythonで扱うために用いられます。\n",
    "\n",
    "10. **圧縮ファイル**: 複数のファイルを一つにまとめ、サイズを小さくするための形式。コンペティションに提出する際に必要なファイルを整理しやすくするために使用されます。\n",
    "\n",
    "これらの用語は、初心者がノートブックの内容を理解するために役立つ基礎的な知識を補完するものです。\n",
    "\n",
    "---\n"
   ]
  },
  {
   "cell_type": "markdown",
   "id": "2f84c37d",
   "metadata": {},
   "source": [
    "# 最も簡単な提出物（LB: ~651.4）\n",
    "`/kaggle/working/submission.tar.gz` にボットを書き込みます。このボットは以下を行います：\n",
    "- いつも**場所か物か**を尋ねる\n",
    "- `keywords.py` からランダムな単語を**推測**する\n",
    "- いつも**いいえ**と答える\n",
    "\n",
    "Gemmaモデルは現在、安定性に欠けるようで、LBは約635.5を推移しています。"
   ]
  },
  {
   "cell_type": "code",
   "execution_count": null,
   "metadata": {
    "execution": {
     "iopub.execute_input": "2024-06-20T14:14:54.153975Z",
     "iopub.status.busy": "2024-06-20T14:14:54.153555Z",
     "iopub.status.idle": "2024-06-20T14:14:56.157517Z",
     "shell.execute_reply": "2024-06-20T14:14:56.156315Z",
     "shell.execute_reply.started": "2024-06-20T14:14:54.153937Z"
    }
   },
   "outputs": [],
   "source": [
    "# 作業ディレクトリに移動します\n",
    "!cd /kaggle/working\n",
    "# 'submission'という名前の新しいディレクトリを作成します\n",
    "!mkdir submission\n",
    "# 現在のディレクトリ内のすべてのファイルの完全なパスを表示します\n",
    "!readlink -f *"
   ]
  },
  {
   "cell_type": "code",
   "execution_count": null,
   "metadata": {
    "execution": {
     "iopub.execute_input": "2024-06-20T14:16:00.230247Z",
     "iopub.status.busy": "2024-06-20T14:16:00.22988Z",
     "iopub.status.idle": "2024-06-20T14:16:01.267318Z",
     "shell.execute_reply": "2024-06-20T14:16:01.265569Z",
     "shell.execute_reply.started": "2024-06-20T14:16:00.23022Z"
    }
   },
   "outputs": [],
   "source": [
    "# 'keywords.py'というファイルをコピーします\n",
    "# /kaggle/input/llm-20-questions/llm_20_questions/ から 'submission' ディレクトリにコピーします\n",
    "!cp /kaggle/input/llm-20-questions/llm_20_questions/keywords.py submission/keywords.py"
   ]
  },
  {
   "cell_type": "code",
   "execution_count": null,
   "metadata": {
    "execution": {
     "iopub.execute_input": "2024-06-20T14:20:41.1612Z",
     "iopub.status.busy": "2024-06-20T14:20:41.160827Z",
     "iopub.status.idle": "2024-06-20T14:20:41.16889Z",
     "shell.execute_reply": "2024-06-20T14:20:41.167748Z",
     "shell.execute_reply.started": "2024-06-20T14:20:41.161161Z"
    }
   },
   "outputs": [],
   "source": [
    "%%writefile submission/main.py\n",
    "\n",
    "# 必要なライブラリをインポートします\n",
    "import os, sys, glob, random, json\n",
    "\n",
    "# keywords.py から KEYWORDS_JSON をインポートします\n",
    "from keywords import KEYWORDS_JSON\n",
    "# KEYWORDS_JSON をパースして、最初の要素を取得します\n",
    "kws = json.loads(KEYWORDS_JSON)[0]\n",
    "\n",
    "# エージェントの関数を定義します\n",
    "def agent_fn(obs, cfg):\n",
    "    # 基本的な質問をする場合の応答\n",
    "    if obs.turnType == \"ask\": \n",
    "        response = 'それは物ですか、それとも場所ですか？'\n",
    "    # 推測する場合の応答\n",
    "    elif obs.turnType == \"guess\": \n",
    "        response = random.choice(kws['words'])['keyword']  # keywordsからランダムに単語を選びます\n",
    "    # 回答する場合の応答\n",
    "    elif obs.turnType == \"answer\": \n",
    "        response = 'いいえ'\n",
    "    return response  # 応答を返します"
   ]
  },
  {
   "cell_type": "code",
   "execution_count": null,
   "metadata": {
    "execution": {
     "iopub.execute_input": "2024-06-20T14:20:42.943096Z",
     "iopub.status.busy": "2024-06-20T14:20:42.942706Z",
     "iopub.status.idle": "2024-06-20T14:20:43.959433Z",
     "shell.execute_reply": "2024-06-20T14:20:43.957754Z",
     "shell.execute_reply.started": "2024-06-20T14:20:42.943064Z"
    }
   },
   "outputs": [],
   "source": [
    "# 作成した 'submission' ディレクトリ内のすべてのファイルを圧縮します\n",
    "# submission.tar.gz という名前で圧縮ファイルを作成します\n",
    "!tar czf submission.tar.gz -C /kaggle/working/submission ."
   ]
  },
  {
   "cell_type": "code",
   "execution_count": null,
   "metadata": {
    "execution": {
     "iopub.execute_input": "2024-06-20T14:20:58.832395Z",
     "iopub.status.busy": "2024-06-20T14:20:58.831975Z",
     "iopub.status.idle": "2024-06-20T14:21:00.869993Z",
     "shell.execute_reply": "2024-06-20T14:21:00.868598Z",
     "shell.execute_reply.started": "2024-06-20T14:20:58.832358Z"
    }
   },
   "outputs": [],
   "source": [
    "# 現在のディレクトリ内のファイルとフォルダをリスト表示します\n",
    "!ls\n",
    "# 'submission' ディレクトリ内のファイルとフォルダをリスト表示します\n",
    "!ls submission"
   ]
  },
  {
   "cell_type": "code",
   "execution_count": null,
   "metadata": {
    "execution": {
     "iopub.execute_input": "2024-06-20T14:21:06.146315Z",
     "iopub.status.busy": "2024-06-20T14:21:06.145899Z",
     "iopub.status.idle": "2024-06-20T14:21:06.156823Z",
     "shell.execute_reply": "2024-06-20T14:21:06.155763Z",
     "shell.execute_reply.started": "2024-06-20T14:21:06.146279Z"
    }
   },
   "outputs": [],
   "source": [
    "# numpy と pandas をインポートします\n",
    "import numpy as np\n",
    "import pandas as pd\n",
    "import os\n",
    "\n",
    "# /kaggle ディレクトリ内のすべてのファイルパスを表示するために os.walk を使用します\n",
    "for dirname, _, filenames in os.walk('/kaggle'):\n",
    "    for filename in filenames:\n",
    "        # 各ファイルのフルパスを印刷します\n",
    "        print(os.path.join(dirname, filename))"
   ]
  },
  {
   "cell_type": "code",
   "execution_count": null,
   "metadata": {
    "execution": {
     "iopub.execute_input": "2024-06-20T14:21:07.776765Z",
     "iopub.status.busy": "2024-06-20T14:21:07.776081Z",
     "iopub.status.idle": "2024-06-20T14:21:11.822756Z",
     "shell.execute_reply": "2024-06-20T14:21:11.821359Z",
     "shell.execute_reply.started": "2024-06-20T14:21:07.776725Z"
    }
   },
   "outputs": [],
   "source": [
    "# 現在のディレクトリ内のファイルとフォルダをリスト表示します\n",
    "!ls\n",
    "# submission.tar.gz を展開します\n",
    "!tar -xzvf submission.tar.gz \n",
    "# main.py の内容を表示します\n",
    "!cat main.py\n",
    "# 展開後の現在のディレクトリ内のファイルとフォルダを再度リスト表示します\n",
    "!ls"
   ]
  },
  {
   "cell_type": "code",
   "execution_count": null,
   "metadata": {},
   "outputs": [],
   "source": []
  },
  {
   "cell_type": "code",
   "execution_count": null,
   "metadata": {},
   "outputs": [],
   "source": []
  },
  {
   "cell_type": "markdown",
   "id": "b2c270f5",
   "metadata": {},
   "source": [
    "---\n",
    "\n",
    "# コメント \n",
    "\n",
    "> ## Yangtze Hao\n",
    "> \n",
    "> 私のような初心者にはとても役立ちます。ありがとうございます。\n",
    "> \n",
    "> \n",
    "\n",
    "---\n",
    "\n",
    "> ## Jonathan Harker\n",
    "> \n",
    "> ありがとう。この情報で、競技会のエントリーポイントと出力の期待されるフォーマットを理解するのに役立ちました。非常に便利です！\n",
    "> \n",
    "> \n",
    "\n",
    "---"
   ]
  }
 ],
 "metadata": {
  "kaggle": {
   "accelerator": "none",
   "dataSources": [
    {
     "databundleVersionId": 8550470,
     "sourceId": 61247,
     "sourceType": "competition"
    }
   ],
   "dockerImageVersionId": 30732,
   "isGpuEnabled": false,
   "isInternetEnabled": false,
   "language": "python",
   "sourceType": "notebook"
  },
  "kernelspec": {
   "display_name": "Python 3",
   "language": "python",
   "name": "python3"
  },
  "language_info": {
   "codemirror_mode": {
    "name": "ipython",
    "version": 3
   },
   "file_extension": ".py",
   "mimetype": "text/x-python",
   "name": "python",
   "nbconvert_exporter": "python",
   "pygments_lexer": "ipython3",
   "version": "3.10.13"
  }
 },
 "nbformat": 4,
 "nbformat_minor": 4
}
