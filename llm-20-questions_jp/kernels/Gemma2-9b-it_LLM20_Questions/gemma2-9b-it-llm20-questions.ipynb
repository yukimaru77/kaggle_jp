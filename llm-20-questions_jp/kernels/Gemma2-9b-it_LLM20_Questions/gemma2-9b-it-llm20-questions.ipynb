{
 "cells": [
  {
   "cell_type": "markdown",
   "id": "3fe7176c",
   "metadata": {},
   "source": [
    "# 要約 \n",
    "このJupyter Notebookは、Kaggleの「20の質問」ゲームに参加するためのAIエージェントを構築することを目的としています。このノートブックでは、特に大規模言語モデル（LLM）を扱うために、モジュールのインストールやモデルのダウンロード、エージェントのロジックを実装する方法に焦点を当てています。\n",
    "\n",
    "### 問題\n",
    "ノートブックは、「20の質問」ゲームで使用される質問者と回答者のAIエージェントを設計し、特にジオメトリックな推論が求められる環境での効率的な質問生成と推測を支援することを目指しています。最終的には、これらのエージェントが対戦を通じて他のチームに勝利することが求められています。\n",
    "\n",
    "### 解決手法\n",
    "このノートブックでは以下のような手法を用いて問題を解決しています：\n",
    "\n",
    "1. **ライブラリのインポートとモデルの取得**:\n",
    "    - `transformers`および`bitsandbytes`ライブラリをインストールし、大規模言語モデルを使用するための環境を構築しています。\n",
    "    - Hugging Face Hubから、Gemma 2という特定のモデルをダウンロードし、ローカル環境で使用できるようにデバイスマッピングと量子化設定を行っています。\n",
    "\n",
    "2. **モデルの設定**:\n",
    "    - モデルの各層をGPUに分散させるためのデバイスマッピングを定義し、メモリ効率を向上させるための設定を行います。\n",
    "    - 使用するトークナイザーをモデルからロードし、生成された出力に対して後処理を行う関数が定義されています。\n",
    "\n",
    "3. **エージェントのロジックの実装**:\n",
    "    - ゲームのロジックを処理する`Robot`クラスが定義され、質問生成 (`asker`)、推測 (`guessing`)、および回答 (`answering`) のためのメソッドが実装されています。\n",
    "    - 各メソッドは、AIエージェントが与えられたメッセージ履歴に基づいて適切な出力を生成します。\n",
    "\n",
    "4. **ゲームシミュレーション**:\n",
    "    - 独自の`Observation`クラスを使用して、ゲームの進行状況を追跡し、質問、回答、推測の履歴を管理します。\n",
    "    - 20ラウンドの間、エージェントが与えられたキーワードに対して質問や推測を行い、どのようにエージェントがゲームを進めるかを示しています。\n",
    "\n",
    "5. **提出の試み**:\n",
    "    - 最後に、出力ディレクトリの容量に関する問題で提出ができなかったことが言及されています。\n",
    "\n",
    "### 使用されたライブラリ\n",
    "- **Transformers**: 自然言語処理のための強力なライブラリで、大規模言語モデルのロードやトークナイザーの生成に使用。\n",
    "- **BitsAndBytes**: モデルの量子化に利用され、計算資源の効率的な使用を促進します。\n",
    "\n",
    "このノートブックは、AIエージェントが「20の質問」ゲームでどのように機能するか、その背景にある技術や手法を深く探るものとなっています。\n",
    "\n",
    "---\n"
   ]
  },
  {
   "cell_type": "markdown",
   "id": "102f1d21",
   "metadata": {},
   "source": [
    "# 用語概説 \n",
    "以下は、与えられたJupyter Notebookの内容に関連した、機械学習・深層学習の初心者がつまずきそうな専門用語の解説です。\n",
    "\n",
    "### 専門用語の解説\n",
    "\n",
    "1. **bitsandbytes**:\n",
    "   - 主にメモリ効率の良いディープラーニングモデルを扱うためのライブラリ。主に、量子化やモデルの圧縮を行い、GPUメモリの使用量を削減するために利用される。\n",
    "\n",
    "2. **Hugging Face**:\n",
    "   - 自然言語処理に特化した機械学習モデルやデータセットが集約されたプラットフォーム。特に、トランスフォーマーアーキテクチャに基づくモデルのリポジトリが豊富で、モデルの簡単な利用が可能。\n",
    "\n",
    "3. **device_map**:\n",
    "   - モデルの異なる層を異なるデバイス（CPUやGPUなど）に割り当てる際に使用される設定。メモリと計算資源を最適に利用するために役立つ。\n",
    "\n",
    "4. **torch.backends.cuda.enable_mem_efficient_sdp**:\n",
    "   - PyTorchにおいて、メモリ効率の良いShared Data Parallel（SDP）を有効または無効にするための関数。この設定によって、異なるデバイス上でのメモリ使用の効率を調整できる。\n",
    "\n",
    "5. **quantization**:\n",
    "   - モデルのパラメータを浮動小数点から整数に変換することで、モデルサイズを縮小し、推論速度を向上させる技術。通常は、計算資源の制約がある環境での運用を考慮して使用される。\n",
    "\n",
    "6. **gradient_checkpointing**:\n",
    "   - 大規模なディープラーニングモデルのトレーニング時に、メモリ使用量を削減する手法。バックプロパゲーションの過程で全ての中間勾配を保存せず、必要な時に再計算することで、メモリの負担を減らす。\n",
    "\n",
    "7. **tokenization**:\n",
    "   - テキストをモデルが理解できる形式に変換するプロセス。自然言語処理において、単語やフレーズを「トークン」と呼ばれる単位に分割し、それを数値にマッピングする。\n",
    "\n",
    "8. **<eos>トークン**:\n",
    "   - \"End of Sentence\"の略称で、文章の終了を示す特別なトークン。モデルが生成したテキストの中でこのトークンが現れると、生成プロセスが終了する。\n",
    "\n",
    "9. **Kaggle Dreams**:\n",
    "   - Kaggle上でのシミュレーションやプレイ環境を提供するフレームワーク。ただし、特定の言語や専門的な環境設定が必要な場合があるので、事前の理解が求められます。\n",
    "\n",
    "10. **エージェント**:\n",
    "    - タスクを遂行する AI システムやプログラム。競技環境やゲームにおいて、プレーヤーとして振る舞うものを指す。\n",
    "\n",
    "11. **モノレポ**:\n",
    "    - 複数のプロジェクトを一つのリポジトリ（レポジトリ）内で管理するアプローチ。複雑なプロジェクトのバージョン管理や依存関係の管理を容易にします。\n",
    "\n",
    "以上の用語は、特に事前に知識がないと悪戦苦闘する可能性がある分野のものです。理論や基本を理解していても、実務での経験がないと見逃しがちなので、十分な理解を深めることをお勧めします。\n",
    "\n",
    "---\n"
   ]
  },
  {
   "cell_type": "code",
   "execution_count": null,
   "metadata": {
    "_cell_guid": "b1076dfc-b9ad-4769-8c92-a6c4dae69d19",
    "_uuid": "8f2839f25d086af736a60e9eeb907d3b93b6e0e5",
    "collapsed": true,
    "execution": {
     "iopub.execute_input": "2024-07-10T15:39:11.56763Z",
     "iopub.status.busy": "2024-07-10T15:39:11.56738Z",
     "iopub.status.idle": "2024-07-10T15:39:56.873551Z",
     "shell.execute_reply": "2024-07-10T15:39:56.872658Z",
     "shell.execute_reply.started": "2024-07-10T15:39:11.567607Z"
    },
    "jupyter": {
     "outputs_hidden": true
    }
   },
   "outputs": [],
   "source": [
    "%%bash\n",
    "mkdir -p /kaggle/working/submission\n",
    "pip install bitsandbytes accelerate\n",
    "pip install -U transformers"
   ]
  },
  {
   "cell_type": "markdown",
   "id": "fb93209c",
   "metadata": {},
   "source": [
    "**秘密を保持する:** アドオン>シークレット\n"
   ]
  },
  {
   "cell_type": "code",
   "execution_count": null,
   "metadata": {
    "execution": {
     "iopub.execute_input": "2024-07-10T15:39:56.875485Z",
     "iopub.status.busy": "2024-07-10T15:39:56.875218Z",
     "iopub.status.idle": "2024-07-10T15:39:57.049016Z",
     "shell.execute_reply": "2024-07-10T15:39:57.048069Z",
     "shell.execute_reply.started": "2024-07-10T15:39:56.875462Z"
    }
   },
   "outputs": [],
   "source": [
    "from kaggle_secrets import UserSecretsClient\n",
    "secrets = UserSecretsClient()\n",
    "\n",
    "HF_TOKEN: str | None  = None\n",
    "\n",
    "try:\n",
    "    HF_TOKEN = secrets.get_secret(\"hf_token\")\n",
    "except:\n",
    "    pass"
   ]
  },
  {
   "cell_type": "markdown",
   "id": "9ffd7b48",
   "metadata": {},
   "source": [
    "**LLMをローカルにダウンロードする。** gemma2は入力から呼び出して実行できなかったので、ローカルにダウンロードしました。\n"
   ]
  },
  {
   "cell_type": "code",
   "execution_count": null,
   "metadata": {
    "execution": {
     "iopub.execute_input": "2024-07-10T15:39:57.050416Z",
     "iopub.status.busy": "2024-07-10T15:39:57.050137Z",
     "iopub.status.idle": "2024-07-10T15:40:57.561902Z",
     "shell.execute_reply": "2024-07-10T15:40:57.560938Z",
     "shell.execute_reply.started": "2024-07-10T15:39:57.050392Z"
    }
   },
   "outputs": [],
   "source": [
    "from huggingface_hub import snapshot_download\n",
    "from pathlib import Path\n",
    "import shutil\n",
    "\n",
    "g_model_path = Path(\"/kaggle/working/submission/model\")\n",
    "if g_model_path.exists():\n",
    "    shutil.rmtree(g_model_path)  # 既存のモデルパスがあれば削除\n",
    "g_model_path.mkdir(parents=True)  # 新規ディレクトリを作成\n",
    "\n",
    "# Hugging Face Hubからモデルのスナップショットをダウンロード\n",
    "snapshot_download(\n",
    "    repo_id=\"google/gemma-2-9b-it\",\n",
    "    ignore_patterns=\"original*\",\n",
    "    local_dir=g_model_path,\n",
    "    local_dir_use_symlinks=False,\n",
    "    token=globals().get(\"HF_TOKEN\", None)  # グローバルに定義されたトークンを取得\n",
    ")"
   ]
  },
  {
   "cell_type": "code",
   "execution_count": null,
   "metadata": {
    "execution": {
     "iopub.execute_input": "2024-07-10T15:40:57.564206Z",
     "iopub.status.busy": "2024-07-10T15:40:57.563925Z",
     "iopub.status.idle": "2024-07-10T15:40:58.593106Z",
     "shell.execute_reply": "2024-07-10T15:40:58.592201Z",
     "shell.execute_reply.started": "2024-07-10T15:40:57.564182Z"
    }
   },
   "outputs": [],
   "source": [
    "!ls -l /kaggle/working/submission/model  # モデルディレクトリの内容をリスト表示"
   ]
  },
  {
   "cell_type": "markdown",
   "id": "05f2be42",
   "metadata": {},
   "source": [
    "**モデル層のデバイスマッピング**\n",
    "大規模モデルを扱う際に、複数のデバイスに層を分散させることで、メモリと計算リソースをより効率的に管理するのに役立ちます。device_maps変数は、モデルのどの層がどのデバイスに割り当てられているかを指定するために使用されます。\n",
    "\n",
    "torch.backends.cuda.enable_mem_efficient_sdp(False)を使用すると、PyTorchのメモリ効率の良いSDPを無効にすることができ、特定のモデルやデバッグの目的で必要になる場合があります。この設定により、異なるハードウェアセットアップ間でのパフォーマンスや一貫性を向上させることができます。\n",
    "\n",
    "[Gemma 2のプロンプト方法](https://huggingface.co/blog/gemma2#how-to-prompt-gemma-2)\n"
   ]
  },
  {
   "cell_type": "code",
   "execution_count": null,
   "metadata": {
    "execution": {
     "iopub.execute_input": "2024-07-10T15:40:58.595334Z",
     "iopub.status.busy": "2024-07-10T15:40:58.595041Z",
     "iopub.status.idle": "2024-07-10T15:40:58.797631Z",
     "shell.execute_reply": "2024-07-10T15:40:58.796439Z",
     "shell.execute_reply.started": "2024-07-10T15:40:58.595309Z"
    }
   },
   "outputs": [],
   "source": [
    "%%writefile -a submission/main.py\n",
    "\n",
    "import os\n",
    "import torch\n",
    "import re\n",
    "from transformers import AutoTokenizer, AutoModelForCausalLM, BitsAndBytesConfig, AutoConfig\n",
    "\n",
    "torch.backends.cuda.enable_mem_efficient_sdp(False)  # メモリ効率の良いSDPを無効にする\n",
    "\n",
    "KAGGLE_AGENT_PATH = \"/kaggle_simulations/agent/\"\n",
    "if os.path.exists(KAGGLE_AGENT_PATH):\n",
    "    model_id = os.path.join(KAGGLE_AGENT_PATH, \"model\")  # Kaggleのエージェントパスにモデルがあるか確認\n",
    "else:\n",
    "    model_id = \"/kaggle/working/submission/model\"  # ローカルモデルパス\n",
    "\n",
    "# モデル層のデバイスマッピング\n",
    "device_maps = [('model.layers.0', 0),\n",
    " ('model.layers.1', 0),\n",
    " ('model.layers.2', 0),\n",
    " ('model.layers.3', 0),\n",
    " ('model.layers.4', 0),\n",
    " ('model.layers.5', 0),\n",
    " ('model.layers.6', 0),\n",
    " ('model.layers.7', 0),\n",
    " ('model.layers.8', 0),\n",
    " ('model.layers.9', 0),\n",
    " ('model.layers.10', 0),\n",
    " ('model.layers.11', 0),\n",
    " ('model.layers.12', 0),\n",
    " ('model.layers.13', 0),\n",
    " ('model.layers.14', 0),\n",
    " ('model.layers.15', 0),\n",
    " ('model.layers.16', 0),\n",
    " ('model.layers.17', 0),\n",
    " ('model.layers.18', 0),\n",
    " ('model.layers.19', 1),\n",
    " ('model.layers.20', 1),\n",
    " ('model.layers.21', 1),\n",
    " ('model.layers.22', 1),\n",
    " ('model.layers.23', 1),\n",
    " ('model.layers.24', 1),\n",
    " ('model.layers.25', 1),\n",
    " ('model.layers.26', 1),\n",
    " ('model.layers.27', 1),\n",
    " ('model.layers.28', 1),\n",
    " ('model.layers.29', 1),\n",
    " ('model.layers.30', 1),\n",
    " ('model.layers.31', 1),\n",
    " ('model.layers.32', 1),\n",
    " ('model.layers.33', 1),\n",
    " ('model.layers.34', 1),\n",
    " ('model.layers.35', 1),\n",
    " ('model.layers.36', 1),\n",
    " ('model.layers.37', 1),\n",
    " ('model.layers.38', 1),\n",
    " ('model.layers.39', 1),\n",
    " ('model.layers.40', 1),\n",
    " ('model.layers.41', 1),\n",
    " ('model.embed_tokens', 1),\n",
    " ('model.layers', 1)]\n",
    "\n",
    "# 量子化設定\n",
    "quantization_config = BitsAndBytesConfig(load_in_8bit=True)\n",
    "tokenizer = AutoTokenizer.from_pretrained(model_id)  # トークナイザーをモデルIDから取得\n",
    "id_eot = tokenizer.convert_tokens_to_ids([\"<eos>\"])[0]  # <eos>トークンのIDを取得\n",
    "\n",
    "# 各層のデバイスを設定\n",
    "device = {layer:gpu_mem for (layer,gpu_mem) in device_maps}\n",
    "config = AutoConfig.from_pretrained(model_id)  # モデル設定を取得\n",
    "config.gradient_checkpointing = True  # 勾配チェックポイントを有効にする\n",
    "model = AutoModelForCausalLM.from_pretrained(model_id, torch_dtype=\"auto\", quantization_config=quantization_config,\n",
    "                                             device_map=\"auto\", trust_remote_code=True, config=config)\n",
    "\n",
    "# 回答を生成する関数\n",
    "def generate_answer(template):\n",
    "    input_ids = tokenizer(template, return_tensors=\"pt\").to(\"cuda\")  # テンプレートをトークン化してGPUに転送\n",
    "    output_ids = model.generate(**input_ids, max_new_tokens=15).squeeze()  # モデルから出力を生成\n",
    "    start_gen = input_ids.input_ids.shape[1]  # 入力の長さを取得\n",
    "    output_ids = output_ids[start_gen:]  # 出力を切り出す\n",
    "    if id_eot in output_ids:\n",
    "        stop = output_ids.tolist().index(id_eot)  # <eos>の位置を取得\n",
    "        output = tokenizer.decode(output_ids[:stop])  # またトークンをデコード\n",
    "    else:\n",
    "        output = tokenizer.decode(output_ids)  # トークンをデコード\n",
    "    output = re.sub('\\n', '', output)  # 改行を削除\n",
    "    output = re.sub(' <end_of_turn>', '', output)  # 不要なトークンを削除\n",
    "    output = re.sub('<end_of_turn>', '', output)  # 不要なトークンを削除\n",
    "    return output\n",
    "\n",
    "class Robot:\n",
    "    def __init__(self):\n",
    "        pass\n",
    "    \n",
    "    def on(self, mode, obs):\n",
    "        assert mode in [\"asking\", \"guessing\", \"answering\"], \"mode can only take one of these values: asking, answering, guessing\"\n",
    "        if mode == \"asking\":\n",
    "            output = self.asker(obs)  # 質問者のロジックを呼び出す\n",
    "        if mode == \"answering\":\n",
    "            output = self.answerer(obs)  # 回答者のロジックを呼び出す\n",
    "            if \"yes\" in output.lower() or \"Yes\" in output.lower():\n",
    "                output = \"yes\"  # 否定形を整形\n",
    "            elif \"no\" in output.lower() or \"No\" in output.lower():\n",
    "                output = \"no\"  # 否定形を整形\n",
    "            else:\n",
    "                output = \"yes\"  # デフォルトでは「yes」にする\n",
    "        if mode == \"guessing\":\n",
    "            output = self.asker(obs)  # 推測者のロジックを呼び出す\n",
    "        return output\n",
    "\n",
    "    def asker(self, obs):\n",
    "        sys_prompt = \"\"\"\n",
    "        あなたは20の質問ゲームをプレイするために設計されたAIアシスタントです。\n",
    "        このゲームでは、回答者がキーワードを考え、質問者がそれに対してはい・いいえの質問をします。\n",
    "        キーワードは特定の「もの」や「場所」です。\n",
    "        \"\"\"\n",
    "        if obs.turnType ==\"ask\":\n",
    "            ask_prompt = sys_prompt + \"\"\"\n",
    "            20の質問をプレイします。あなたは質問者の役割を果たします。\n",
    "            はい・いいえで答えられる質問をしてください。\n",
    "            キーワードがモロッコであると仮定した場合の例をご覧ください：\n",
    "            例：\n",
    "            <あなた: それは国ですか？\n",
    "            ユーザー: はい\n",
    "            あなた: それはヨーロッパにありますか？\n",
    "            ユーザー: いいえ\n",
    "            あなた: それはアフリカにありますか？\n",
    "            ユーザー: はい\n",
    "            あなた: そこに住むほとんどの人は肌の色が暗いですか？\n",
    "            ユーザー: いいえ\n",
    "            あなた: それは「m」で始まる国名ですか？\n",
    "            ユーザー: はい\n",
    "            あなた: モロッコですか？\n",
    "            ユーザー: はい。>\n",
    "            ユーザーが単語を選びました。最初の質問をしてください！\n",
    "            短く、冗長にならないように、一つの質問だけをして下さい！\n",
    "            \"\"\"\n",
    "        \n",
    "            chat_template = f\"\"\"<start_of_turn>system\\n{ask_prompt}<end_of_turn>\\n\"\"\"\n",
    "            chat_template += \"<start_of_turn>model\\n\"\n",
    "\n",
    "            if len(obs.questions)>=1:\n",
    "                    for q, a in zip(obs.questions, obs.answers):\n",
    "                        chat_template += f\"{q}<end_of_turn>\\n<start_of_turn>user\\n\"\n",
    "                        chat_template += f\"{a}<end_of_turn>\\n<start_of_turn>model\\n\"\n",
    "                    \n",
    "        elif obs.turnType == \"guess\":\n",
    "            conv = \"\"\n",
    "            for q, a in zip(obs.questions, obs.answers):\n",
    "                conv += f\"\"\"質問: {q}\\n回答: {a}\\n\"\"\"  # 質問と回答の履歴を記録\n",
    "            guess_prompt =  sys_prompt + f\"\"\"\n",
    "            現在のゲームの状況は以下の通りです:\\n{conv}\n",
    "            この会話に基づいて、単語を推測してください。また、推測には1つの単語だけを答えて、冗長にならないように。\n",
    "            \"\"\"\n",
    "            chat_template = f\"\"\"<start_of_turn>system\\n{guess_prompt}<end_of_turn>\\n\"\"\"\n",
    "            chat_template += \"<start_of_turn>model\\n\"\n",
    "\n",
    "        output = generate_answer(chat_template)        \n",
    "        return output\n",
    "    \n",
    "    def answerer(self, obs):\n",
    "        ask_prompt = f\"\"\"\n",
    "        あなたは20の質問ゲームをプレイするために設計されたAIアシスタントです。 \n",
    "        このゲームでは、回答者がキーワードを考え、質問者がそれに対してはい・いいえの質問をします。\n",
    "        キーワードは特定の場所や物です。\n",
    "        今、ユーザーが推測すべき単語は\"{obs.keyword}\"で、カテゴリーは\"{obs.category}\"です。\n",
    "        ユーザーがキーワードを推測する際には、以下の手順を参考にしてください。\n",
    "        例：\n",
    "        <ユーザー: それは場所ですか？\n",
    "        あなた: はい\n",
    "        ユーザー: それはヨーロッパにありますか？\n",
    "        あなた: いいえ\n",
    "        ユーザー: それはアフリカにありますか？\n",
    "        あなた: はい\n",
    "        ユーザー: そこに住むほとんどの人は肌の色が暗いですか？\n",
    "        あなた: いいえ\n",
    "        ユーザー: それは「m」で始まる国名ですか？\n",
    "        あなた: はい\n",
    "        ユーザー: モロッコですか？\n",
    "        あなた: はい。>\n",
    "        \"\"\"\n",
    "        chat_template = f\"\"\"<start_of_turn>system\\n{ask_prompt}<end_of_turn>\\n\"\"\"\n",
    "        chat_template += \"<start_of_turn>user\\n\"\n",
    "        chat_template += f\"{obs.questions[0]}\"\n",
    "        chat_template += \"<start_of_turn>model\\n\"\n",
    "        if len(obs.answers)>=1:\n",
    "            for q, a in zip(obs.questions[1:], obs.answers):\n",
    "                chat_template += f\"{q}<end_of_turn>\\n<start_of_turn>user\\n\"\n",
    "                chat_template += f\"{a}<end_of_turn>\\n<start_of_turn>model\\n\"\n",
    "        output = generate_answer(chat_template)\n",
    "        return output\n",
    "\n",
    "robot = Robot()\n",
    "\n",
    "# エージェントのメイン関数\n",
    "def agent(obs, cfg):\n",
    "    \n",
    "    if obs.turnType ==\"ask\":\n",
    "        response = robot.on(mode = \"asking\", obs = obs)  # 質問の処理\n",
    "        \n",
    "    elif obs.turnType ==\"guess\":\n",
    "        response = robot.on(mode = \"guessing\", obs = obs)  # 推測の処理\n",
    "        \n",
    "    elif obs.turnType ==\"answer\":\n",
    "        response = robot.on(mode = \"answering\", obs = obs)  # 回答の処理\n",
    "        \n",
    "    if response == None or len(response)<=1:\n",
    "        response = \"yes\"  # デフォルトの応答を設定\n",
    "        \n",
    "    return response"
   ]
  },
  {
   "cell_type": "code",
   "execution_count": null,
   "metadata": {
    "execution": {
     "iopub.execute_input": "2024-07-10T15:40:58.799087Z",
     "iopub.status.busy": "2024-07-10T15:40:58.798823Z",
     "iopub.status.idle": "2024-07-10T15:41:00.206372Z",
     "shell.execute_reply": "2024-07-10T15:41:00.205574Z",
     "shell.execute_reply.started": "2024-07-10T15:40:58.799064Z"
    }
   },
   "outputs": [],
   "source": [
    "# def simple_agent1(obs, cfg):\n",
    "#     # エージェントが推測者で、turnTypeが「ask」の場合\n",
    "#     if obs.turnType == \"ask\":\n",
    "#         response_list = [\n",
    "#             'それはアフリカにありますか？',\n",
    "#             'それはアメリカにありますか？',\n",
    "#             'それはアジアにありますか？',\n",
    "#             'それはオセアニアにありますか？',\n",
    "#             'それは東ヨーロッパにありますか？',\n",
    "#             'それは北ヨーロッパにありますか？',\n",
    "#             'それは南ヨーロッパにありますか？',\n",
    "#             'それは西ヨーロッパにありますか？',\n",
    "#             'それは日本ですか？'\n",
    "#         ]\n",
    "# #         response = response_list[len(obs.questions)]\n",
    "#         response = random.choice(response_list)  # ランダムに質問を選択\n",
    "#     elif obs.turnType == \"guess\":\n",
    "#         response = \"duck\"  # デフォルトの推測\n",
    "#     elif obs.turnType == \"answer\":\n",
    "#         response = random.choices([\"はい\", \"いいえ\"])[0]  # ランダムに回答\n",
    "#     return response"
   ]
  },
  {
   "cell_type": "code",
   "execution_count": null,
   "metadata": {
    "execution": {
     "iopub.execute_input": "2024-07-10T15:41:00.208008Z",
     "iopub.status.busy": "2024-07-10T15:41:00.207714Z",
     "iopub.status.idle": "2024-07-10T15:41:01.705608Z",
     "shell.execute_reply": "2024-07-10T15:41:01.704802Z",
     "shell.execute_reply.started": "2024-07-10T15:41:00.207986Z"
    }
   },
   "outputs": [],
   "source": [
    "# %%time\n",
    "\n",
    "# import random\n",
    "# from kaggle_environments import make\n",
    "# agent = \"/kaggle/working/submission/main.py\"\n",
    "# env = make(\"llm_20_questions\", debug=True)\n",
    "# game_output = env.run(agents=[agent, simple_agent1, simple_agent1, simple_agent1])"
   ]
  },
  {
   "cell_type": "code",
   "execution_count": null,
   "metadata": {
    "execution": {
     "iopub.execute_input": "2024-07-10T15:41:01.707399Z",
     "iopub.status.busy": "2024-07-10T15:41:01.707041Z",
     "iopub.status.idle": "2024-07-10T15:41:02.480554Z",
     "shell.execute_reply": "2024-07-10T15:41:02.479157Z",
     "shell.execute_reply.started": "2024-07-10T15:41:01.707365Z"
    }
   },
   "outputs": [],
   "source": [
    "# env.render(mode=\"ipython\", width=600, height=500)  # 環境を描画"
   ]
  },
  {
   "cell_type": "code",
   "execution_count": null,
   "metadata": {
    "execution": {
     "iopub.execute_input": "2024-07-10T15:41:02.482477Z",
     "iopub.status.busy": "2024-07-10T15:41:02.482077Z",
     "iopub.status.idle": "2024-07-10T15:41:05.287786Z",
     "shell.execute_reply": "2024-07-10T15:41:05.2869Z",
     "shell.execute_reply.started": "2024-07-10T15:41:02.482443Z"
    }
   },
   "outputs": [],
   "source": [
    "!wget -O keywords_local.py https://raw.githubusercontent.com/Kaggle/kaggle-environments/master/kaggle_environments/envs/llm_20_questions/keywords.py  # キーワードリストをダウンロード"
   ]
  },
  {
   "cell_type": "code",
   "execution_count": null,
   "metadata": {
    "execution": {
     "iopub.execute_input": "2024-07-10T15:41:05.291607Z",
     "iopub.status.busy": "2024-07-10T15:41:05.291296Z",
     "iopub.status.idle": "2024-07-10T15:42:07.62528Z",
     "shell.execute_reply": "2024-07-10T15:42:07.624291Z",
     "shell.execute_reply.started": "2024-07-10T15:41:05.291581Z"
    }
   },
   "outputs": [],
   "source": [
    "import json\n",
    "import pandas as pd\n",
    "from submission.main import agent\n",
    "from keywords_local import KEYWORDS_JSON\n",
    "\n",
    "class Observation:\n",
    "    def __init__(self):\n",
    "        self.step = 0\n",
    "        self.role = \"guesser\"  # デフォルトの役割は推測者\n",
    "        self.turnType = \"ask\"  # デフォルトのターンタイプは質問\n",
    "        self.keyword = \"Japan\"  # デフォルトのキーワード\n",
    "        self.category = \"country\"  # デフォルトのカテゴリー\n",
    "        self.questions = []  # 質問リスト\n",
    "        self.answers = []  # 回答リスト\n",
    "        self.guesses = []  # 推測リスト\n",
    "        \n",
    "# キーワードリストをデータフレームに変換する関数\n",
    "def create_keyword_df(KEYWORDS_JSON):\n",
    "    json_data = json.loads(KEYWORDS_JSON)  # JSONを読み込む\n",
    "\n",
    "    keyword_list = []\n",
    "    category_list = []\n",
    "    alts_list = []\n",
    "\n",
    "    for i in range(len(json_data)):\n",
    "        for j in range(len(json_data[i]['words'])):\n",
    "            keyword = json_data[i]['words'][j]['keyword']\n",
    "            keyword_list.append(keyword)  # キーワードをリストに追加\n",
    "            category_list.append(json_data[i]['category'])  # カテゴリーをリストに追加\n",
    "            alts_list.append(json_data[i]['words'][j]['alts'])  # 代替ワードをリストに追加\n",
    "\n",
    "    data_pd = pd.DataFrame(columns=['keyword', 'category', 'alts'])  # データフレームを作成\n",
    "    data_pd['keyword'] = keyword_list\n",
    "    data_pd['category'] = category_list\n",
    "    data_pd['alts'] = alts_list\n",
    "    \n",
    "    return data_pd\n",
    "    \n",
    "keywords_df = create_keyword_df(KEYWORDS_JSON)  # キーワードデータフレームを作成"
   ]
  },
  {
   "cell_type": "code",
   "execution_count": null,
   "metadata": {
    "execution": {
     "iopub.execute_input": "2024-07-10T15:42:07.627207Z",
     "iopub.status.busy": "2024-07-10T15:42:07.626631Z",
     "iopub.status.idle": "2024-07-10T15:46:53.496045Z",
     "shell.execute_reply": "2024-07-10T15:46:53.49507Z",
     "shell.execute_reply.started": "2024-07-10T15:42:07.627171Z"
    }
   },
   "outputs": [],
   "source": [
    "obs = Observation()\n",
    "cfg = \"_\"\n",
    "\n",
    "sample_df = keywords_df.sample()  # サンプルを取得\n",
    "obs.keyword = sample_df[\"keyword\"].values[0]  # サンプルのキーワードを設定\n",
    "obs.category = sample_df[\"category\"].values[0]  # サンプルのカテゴリーを設定\n",
    "alts_list = sample_df[\"alts\"].values[0]  # サンプルの代替ワードを設定\n",
    "alts_list.append(obs.keyword)  # サンプルのキーワードを代替ワードリストに追加\n",
    "\n",
    "print(f\"キーワード:{obs.keyword}\")  # キーワードを表示\n",
    "\n",
    "for round in range(20):\n",
    "    obs.step = round+1  # 現在のラウンドをインクリメント\n",
    "    \n",
    "    obs.role = \"guesser\"  # 役割を推測者に設定\n",
    "    obs.turnType = \"ask\"  # ターンタイプを質問に設定\n",
    "    question = agent(obs, cfg)  # 質問を生成\n",
    "    obs.questions.append(question)  # 質問リストに追加\n",
    "    \n",
    "    obs.role = \"answerer\"  # 役割を回答者に設定\n",
    "    obs.turnType = \"answer\"  # ターンタイプを回答に設定\n",
    "    answer = agent(obs, cfg)  # 回答を生成\n",
    "    obs.answers.append(answer)  # 回答リストに追加\n",
    "    \n",
    "    obs.role = \"guesser\"  # 役割を推測者に設定\n",
    "    obs.turnType = \"guess\"  # ターンタイプを推測に設定\n",
    "    guess = agent(obs, cfg)  # 推測を生成\n",
    "    obs.guesses.append(guess)  # 推測リストに追加\n",
    "    \n",
    "    print(f\"ラウンド: {round+1}\")  # 現在のラウンドを表示\n",
    "    print(f\"質問: {question}\")  # 質問を表示\n",
    "    print(f\"回答: {answer}\")  # 回答を表示\n",
    "    print(f\"推測: {guess}\")  # 推測を表示\n",
    "    \n",
    "    if guess in alts_list:  # 推測が代替ワードリストに含まれているか確認\n",
    "        print(\"勝ちました！！\")  # 勝利メッセージを表示\n",
    "        break"
   ]
  },
  {
   "cell_type": "markdown",
   "id": "e6a2d31c",
   "metadata": {},
   "source": [
    "**提出できませんでした...** 出力ディレクトリが容量を超えたため、tarファイルを作成できませんでした。\n"
   ]
  },
  {
   "cell_type": "code",
   "execution_count": null,
   "metadata": {
    "execution": {
     "iopub.execute_input": "2024-07-10T15:46:53.49879Z",
     "iopub.status.busy": "2024-07-10T15:46:53.497553Z",
     "iopub.status.idle": "2024-07-10T15:46:53.504268Z",
     "shell.execute_reply": "2024-07-10T15:46:53.503391Z",
     "shell.execute_reply.started": "2024-07-10T15:46:53.498731Z"
    }
   },
   "outputs": [],
   "source": [
    "# !apt install pigz pv > /dev/null"
   ]
  },
  {
   "cell_type": "code",
   "execution_count": null,
   "metadata": {
    "execution": {
     "iopub.execute_input": "2024-07-10T15:46:53.505787Z",
     "iopub.status.busy": "2024-07-10T15:46:53.505413Z",
     "iopub.status.idle": "2024-07-10T15:46:53.515746Z",
     "shell.execute_reply": "2024-07-10T15:46:53.515003Z",
     "shell.execute_reply.started": "2024-07-10T15:46:53.505737Z"
    }
   },
   "outputs": [],
   "source": [
    "# !tar --use-compress-program='pigz --fast --recursive | pv' -cf submission.tar.gz -C /kaggle/working/submission ."
   ]
  },
  {
   "cell_type": "code",
   "execution_count": null,
   "metadata": {
    "execution": {
     "iopub.execute_input": "2024-07-10T15:46:53.517652Z",
     "iopub.status.busy": "2024-07-10T15:46:53.516865Z",
     "iopub.status.idle": "2024-07-10T15:46:53.531178Z",
     "shell.execute_reply": "2024-07-10T15:46:53.530504Z",
     "shell.execute_reply.started": "2024-07-10T15:46:53.517622Z"
    }
   },
   "outputs": [],
   "source": [
    "# # tar.gzファイルの中身を確認するために\n",
    "\n",
    "# import tarfile\n",
    "# tar = tarfile.open(\"/kaggle/working/submission.tar.gz\")\n",
    "# for file in tar.getmembers():\n",
    "#     print(file.name)  # tarファイル内の全てのファイルを表示"
   ]
  },
  {
   "cell_type": "markdown",
   "id": "4fe2f976",
   "metadata": {},
   "source": [
    "---\n",
    "\n",
    "# コメント \n",
    "\n",
    "> ## Yuang Wu\n",
    "> \n",
    "> どのようにして推測時に1つの単語を出力するのですか？…私はgemma 7b-it 3を使用しましたが、エージェントは推測時に2つ以上の単語を生成し、質問も奇妙になります。 \n",
    "> \n",
    "> \n",
    "> \n",
    "> > ## Valentin Baltazar\n",
    "> > \n",
    "> > 同様です…知りたいです。gemma2はそれほど優れているのでしょうか？\n",
    "> > \n",
    "> > \n",
    "> > > ## KasaharaTopic 作者\n",
    "> > > \n",
    "> > > gemma7b-itを使用しているとき、同じ問題が発生しました。少し改善されたようですが、私の実験ではllama3が正しい長さの単語を出力できる最高のモデルだと思います。\n",
    "> > > \n",
    "> > > \n",
    "> > > > ## Yuang Wu\n",
    "> > > > \n",
    "> > > > gemma 2 9bに変更したところ、状況が改善しました。\n",
    "> > > > \n",
    "> > > > \n",
    "\n",
    "---\n",
    "\n",
    "> ## ravi tanwar\n",
    "> \n",
    "> このコンペティションに提出することに成功しましたか？\n",
    "> \n",
    "> > ## KasaharaTopic 作者\n",
    "> > \n",
    "> > submission.tarファイルを作成できなかったため、出力ディレクトリが容量を超えました。だから、提出できませんでした。\n",
    "> > \n",
    "> > 提出できたとしても、このプロンプトには改善の余地があると思います。質問をうまく生成しませんから。\n",
    "> > \n",
    "> > "
   ]
  }
 ],
 "metadata": {
  "kaggle": {
   "accelerator": "nvidiaTeslaT4",
   "dataSources": [
    {
     "databundleVersionId": 8550470,
     "sourceId": 61247,
     "sourceType": "competition"
    }
   ],
   "dockerImageVersionId": 30733,
   "isGpuEnabled": true,
   "isInternetEnabled": true,
   "language": "python",
   "sourceType": "notebook"
  },
  "kernelspec": {
   "display_name": "Python 3",
   "language": "python",
   "name": "python3"
  },
  "language_info": {
   "codemirror_mode": {
    "name": "ipython",
    "version": 3
   },
   "file_extension": ".py",
   "mimetype": "text/x-python",
   "name": "python",
   "nbconvert_exporter": "python",
   "pygments_lexer": "ipython3",
   "version": "3.10.13"
  }
 },
 "nbformat": 4,
 "nbformat_minor": 4
}
