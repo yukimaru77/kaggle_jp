{
 "cells": [
  {
   "cell_type": "markdown",
   "id": "878d3efa",
   "metadata": {},
   "source": [
    "# 要約 \n",
    "このJupyter Notebookは、Kaggleの「LLM 20 Questions」コンペティションに関連するキーワードの簡単な調査（EDA）を行うことを目的としています。主な問題点は、大量のキーワードのデータを分析し、整理して理解しやすくすることです。Notebookでは、キーワードをカテゴリごとに分析し、欠損値や重複データの検出、さらには代替名に関する詳細な調査を行っています。\n",
    "\n",
    "### 使用された手法とライブラリ\n",
    "1. **ライブラリ**:\n",
    "   - `numpy`: 数値計算用のライブラリ。\n",
    "   - `pandas`: データ操作やデータフレームの管理に使用。\n",
    "   - `json`: JSONデータの処理に使用。\n",
    "\n",
    "2. **データの読み込み**:\n",
    "   - 検索したデータをPython用のスクリプトファイルから読み込み、JSON形式にデコードしてデータフレームに変換。\n",
    "\n",
    "3. **データ解析**:\n",
    "   - 表示するキーワードの一覧作成や、カテゴリごとのキーワードの数を把握。\n",
    "   - 欠損データや重複データを確認し、必要に応じて処理。\n",
    "\n",
    "4. **代替名分析**:\n",
    "   - 各都市、国、および名所に関連する代替名の数を分析し、分布を視覚化。\n",
    "\n",
    "5. **地理的分析**:\n",
    "   - 大陸別に国や都市の表現を視覚化し、国のリストを取得するために外部データソースを利用。\n",
    "\n",
    "最終的に、Notebookはキーワードデータセットの理解を深め、分析結果を円グラフなどで視覚的に表現し、データがどのように分布しているかを示しています。また、視覚化を通して、都市や国の表現を確認し、都市の代替名の数や各大陸における国の表現に関する洞察を得ることを目指しています。\n",
    "\n",
    "---\n"
   ]
  },
  {
   "cell_type": "markdown",
   "id": "9c3f70da",
   "metadata": {},
   "source": [
    "# 用語概説 \n",
    "以下は、Jupyter Notebookの内容に関連するが、機械学習・深層学習初心者がつまずきそうな専門用語の簡単な解説です。\n",
    "\n",
    "1. **EDA (Exploratory Data Analysis)**:\n",
    "   データの特性や構造を理解するための手法で、データの分布、相関関係、欠損値などを視覚的に確認するプロセスを指します。可視化や統計的手法が用いられます。\n",
    "\n",
    "2. **JSON (JavaScript Object Notation)**:\n",
    "   データの交換フォーマットで、軽量で人間にも読みやすい形式です。データをキーと値のペアで表現するため、プログラム間で簡単にデータを送受信することができます。\n",
    "\n",
    "3. **Pandas**:\n",
    "   Pythonのデータ分析ライブラリで、データの操作や分析を効率的に行うためのデータ構造（特にデータフレーム）を提供します。CSVやExcelなど、さまざまなデータ形式を扱えます。\n",
    "\n",
    "4. **データフレーム**:\n",
    "   Pandasで使用される表形式のデータ構造で、行と列から構成されます。異なるデータ型を持つ列を持つことができ、データの選択、フィルタリング、集計が簡単に行えます。\n",
    "\n",
    "5. **concat**:\n",
    "   Pandasにおいて、複数のデータフレームを縦または横に結合するための関数です。分析やデータ処理において、データを一つにまとめる際に便利です。\n",
    "\n",
    "6. **左外部結合 (Left Join)**:\n",
    "   2つのデータフレームを結合する際、左側のデータフレームのすべての行を保持し、右側のデータフレームに該当する行があれば、それを追加します。右側に該当行がない場合、NaN（欠損値）になります。\n",
    "\n",
    "7. **strip()**:\n",
    "   文字列の前後から指定した文字を削除するメソッドです。通常は空白を削除することに使用されますが、データのクリーンアップに役立ちます。\n",
    "\n",
    "8. **duplicated()**:\n",
    "   Pandasのメソッドで、データフレーム内の重複した行を特定し、重複しているかどうかをブール値（True/False）で返します。重複データの削除や分析に活用されます。\n",
    "\n",
    "9. **プロット (Plot)**:\n",
    "   データを視覚的に表示する手法で、グラフやチャートを作成することを指します。分析結果を理解しやすくするため、重要なスキルです。\n",
    "\n",
    "10. **分布 (Distribution)**:\n",
    "    データのばらつきや傾向を示す概念で、特定の値がどの程度出現するかを示します。データ分析において、正規分布や一様分布など、さまざまな分布が考慮されることがあります。\n",
    "\n",
    "これらの用語は、あまり専門的でないものから比較的共通のものであり、もしかしたら初心者には馴染みが薄いかもしれません。しかし、実務や深層学習の実践にはおいて、重要かつ理解しておくべき用語です。\n",
    "\n",
    "---\n"
   ]
  },
  {
   "cell_type": "markdown",
   "id": "8a4f07af",
   "metadata": {},
   "source": [
    "<a href=\"https://colab.research.google.com/github/mzaoualim/Kaggle_LLM_20_Questions/blob/main/Quick_EDA.ipynb\" target=\"_parent\"><img src=\"https://colab.research.google.com/assets/colab-badge.svg\" alt=\"Colabで開く\"/></a>\n",
    "\n",
    "# はじめに\n",
    "これはKaggleの[LLM 20 Questions](https://www.kaggle.com/competitions/llm-20-questions)コンペティションで提供されているキーワードについての簡単な調査です。\n",
    "\n",
    "# データとライブラリ"
   ]
  },
  {
   "cell_type": "code",
   "execution_count": null,
   "metadata": {
    "_cell_guid": "b1076dfc-b9ad-4769-8c92-a6c4dae69d19",
    "_uuid": "8f2839f25d086af736a60e9eeb907d3b93b6e0e5",
    "execution": {
     "iopub.execute_input": "2024-06-02T23:09:13.994925Z",
     "iopub.status.busy": "2024-06-02T23:09:13.994428Z",
     "iopub.status.idle": "2024-06-02T23:09:14.506238Z",
     "shell.execute_reply": "2024-06-02T23:09:14.504806Z",
     "shell.execute_reply.started": "2024-06-02T23:09:13.994889Z"
    },
    "id": "Vyb-qHKjHQf7",
    "outputId": "2bd8f1d4-9b47-46a4-8410-d5dfb0e6a96f"
   },
   "outputs": [],
   "source": [
    "# このPython 3環境には、多くの便利な分析ライブラリがインストールされています\n",
    "# これはkaggle/python Dockerイメージによって定義されています: https://github.com/kaggle/docker-python\n",
    "# 例えば、以下は読み込むためのいくつかの便利なパッケージです\n",
    "\n",
    "import numpy as np # 線形代数ライブラリ\n",
    "import pandas as pd # データ処理、CSVファイルの入出力（例: pd.read_csv）\n",
    "\n",
    "# 入力データファイルは読み取り専用の\"../input/\"ディレクトリで利用可能です\n",
    "# 例えば、これを実行すると（実行をクリックするかShift + Enterを押すことで）、入力ディレクトリ内のすべてのファイルがリストされます\n",
    "\n",
    "import os\n",
    "for dirname, _, filenames in os.walk('/kaggle/input'):  # '/kaggle/input'ディレクトリのすべてのファイルを探索\n",
    "    for filename in filenames:\n",
    "        print(os.path.join(dirname, filename))  # 各ファイルのフルパスを表示\n",
    "\n",
    "# 現在のディレクトリ（/kaggle/working/）には最大20GBまで書き込むことができ、\"Save & Run All\"を使用してバージョンを作成すると出力として保存されます\n",
    "# 一時ファイルは、/kaggle/temp/に書き込むこともできますが、その場合、現在のセッションを超えては保存されません"
   ]
  },
  {
   "cell_type": "markdown",
   "id": "4d79a159",
   "metadata": {},
   "source": [
    "# キーワード分析\n",
    "\n",
    "## キーワードの読み込み"
   ]
  },
  {
   "cell_type": "code",
   "execution_count": null,
   "metadata": {
    "execution": {
     "iopub.execute_input": "2024-06-02T23:09:14.509011Z",
     "iopub.status.busy": "2024-06-02T23:09:14.508493Z",
     "iopub.status.idle": "2024-06-02T23:09:14.521459Z",
     "shell.execute_reply": "2024-06-02T23:09:14.520302Z",
     "shell.execute_reply.started": "2024-06-02T23:09:14.508977Z"
    },
    "id": "YV9yzcv8IpNg",
    "outputId": "8233704d-4402-4caf-d12f-767b8c089b31"
   },
   "outputs": [],
   "source": [
    "# Pythonの組み込み関数を使用してテキストファイルを読み込みます\n",
    "f = open(\"/kaggle/input/llm-20-questions/llm_20_questions/keywords.py\", \"r\")  # 指定したパスのテキストファイルを読み込みモードで開く\n",
    "print(f.read())  # ファイルの内容を読み込んで表示します\n",
    "f.close()  # ファイルを閉じてリソースを解放します"
   ]
  },
  {
   "cell_type": "code",
   "execution_count": null,
   "metadata": {
    "execution": {
     "iopub.execute_input": "2024-06-02T23:09:14.523518Z",
     "iopub.status.busy": "2024-06-02T23:09:14.523097Z",
     "iopub.status.idle": "2024-06-02T23:09:14.598687Z",
     "shell.execute_reply": "2024-06-02T23:09:14.597508Z",
     "shell.execute_reply.started": "2024-06-02T23:09:14.523486Z"
    },
    "id": "9bZo6_mZIxPI",
    "outputId": "b954e42e-91b1-46d0-d003-d60c3b2d117f"
   },
   "outputs": [],
   "source": [
    "# より詳細なjsonライブラリを使って読み込みます\n",
    "import json  # JSON操作用のライブラリをインポート\n",
    "\n",
    "exec(open(\"/kaggle/input/llm-20-questions/llm_20_questions/keywords.py\").read())  # 指定したパスのPythonファイルを実行し、KEYWORDS_JSONという変数を定義します\n",
    "KEYWORDS_JSON = json.loads(KEYWORDS_JSON)  # KEYWORDS_JSON文字列をJSON形式にデコードします\n",
    "KEYWORDS_JSON  # デコードされたKEYWORDS_JSONを表示します"
   ]
  },
  {
   "cell_type": "code",
   "execution_count": null,
   "metadata": {
    "execution": {
     "iopub.execute_input": "2024-06-02T23:09:14.602614Z",
     "iopub.status.busy": "2024-06-02T23:09:14.602152Z",
     "iopub.status.idle": "2024-06-02T23:09:14.609418Z",
     "shell.execute_reply": "2024-06-02T23:09:14.608111Z",
     "shell.execute_reply.started": "2024-06-02T23:09:14.602571Z"
    },
    "id": "0JZNVFHyNMzF",
    "outputId": "a3eccdbc-42fa-46a1-aa3e-455e749267d4"
   },
   "outputs": [],
   "source": [
    "# カテゴリごとのキーワードの合計を表示します\n",
    "\n",
    "print(len(KEYWORDS_JSON))  # KEYWORDS_JSON内のカテゴリの数を表示します\n",
    "for category in KEYWORDS_JSON:  # 各カテゴリに対してループを実行します\n",
    "    print(category[\"category\"], len(category[\"words\"]))  # カテゴリ名と、そのカテゴリに関連するキーワードの数を表示します"
   ]
  },
  {
   "cell_type": "markdown",
   "id": "1cea7edf",
   "metadata": {},
   "source": [
    "## JSONキーワードの処理"
   ]
  },
  {
   "cell_type": "code",
   "execution_count": null,
   "metadata": {
    "execution": {
     "iopub.execute_input": "2024-06-02T23:09:14.61228Z",
     "iopub.status.busy": "2024-06-02T23:09:14.611252Z",
     "iopub.status.idle": "2024-06-02T23:09:14.631154Z",
     "shell.execute_reply": "2024-06-02T23:09:14.629939Z",
     "shell.execute_reply.started": "2024-06-02T23:09:14.612241Z"
    },
    "id": "k9lahYeeNb9L"
   },
   "outputs": [],
   "source": [
    "# JSONデータをデータフレームに変換します\n",
    "\n",
    "# 最初のカテゴリ（例: 国）のキーワードをデータフレームに変換します\n",
    "country = pd.json_normalize(KEYWORDS_JSON[0]['words'])  \n",
    "# 二番目のカテゴリ（例: 都市）のキーワードをデータフレームに変換します\n",
    "city = pd.json_normalize(KEYWORDS_JSON[1]['words'])  \n",
    "# 三番目のカテゴリ（例: 名所）のキーワードをデータフレームに変換します\n",
    "landmark = pd.json_normalize(KEYWORDS_JSON[2]['words'])"
   ]
  },
  {
   "cell_type": "code",
   "execution_count": null,
   "metadata": {
    "execution": {
     "iopub.execute_input": "2024-06-02T23:09:14.632853Z",
     "iopub.status.busy": "2024-06-02T23:09:14.632526Z",
     "iopub.status.idle": "2024-06-02T23:09:14.671217Z",
     "shell.execute_reply": "2024-06-02T23:09:14.67012Z",
     "shell.execute_reply.started": "2024-06-02T23:09:14.632825Z"
    },
    "id": "qYcsGRyq0bxw",
    "outputId": "58f23891-2ade-49f2-d3d0-37beef26b1f4"
   },
   "outputs": [],
   "source": [
    "country  # 国に関するキーワードを格納したデータフレームを表示します"
   ]
  },
  {
   "cell_type": "code",
   "execution_count": null,
   "metadata": {
    "execution": {
     "iopub.execute_input": "2024-06-02T23:09:14.672629Z",
     "iopub.status.busy": "2024-06-02T23:09:14.672315Z",
     "iopub.status.idle": "2024-06-02T23:09:14.690816Z",
     "shell.execute_reply": "2024-06-02T23:09:14.689187Z",
     "shell.execute_reply.started": "2024-06-02T23:09:14.672602Z"
    },
    "id": "kyIcW9xljQje",
    "outputId": "c621db71-3345-45ac-d6bf-670e95acb123"
   },
   "outputs": [],
   "source": [
    "city  # 都市に関するキーワードを格納したデータフレームを表示します"
   ]
  },
  {
   "cell_type": "code",
   "execution_count": null,
   "metadata": {
    "execution": {
     "iopub.execute_input": "2024-06-02T23:09:14.693449Z",
     "iopub.status.busy": "2024-06-02T23:09:14.693057Z",
     "iopub.status.idle": "2024-06-02T23:09:14.735243Z",
     "shell.execute_reply": "2024-06-02T23:09:14.733957Z",
     "shell.execute_reply.started": "2024-06-02T23:09:14.693419Z"
    },
    "id": "mCegnaeWjToc",
    "outputId": "0e03b24a-5520-4610-8d06-631c4a8fb6c5"
   },
   "outputs": [],
   "source": [
    "landmark  # 名所に関するキーワードを格納したデータフレームを表示します"
   ]
  },
  {
   "cell_type": "code",
   "execution_count": null,
   "metadata": {
    "execution": {
     "iopub.execute_input": "2024-06-02T23:09:14.73717Z",
     "iopub.status.busy": "2024-06-02T23:09:14.736819Z",
     "iopub.status.idle": "2024-06-02T23:09:14.753052Z",
     "shell.execute_reply": "2024-06-02T23:09:14.751783Z",
     "shell.execute_reply.started": "2024-06-02T23:09:14.73714Z"
    },
    "id": "V_-m9XGGjwFf",
    "outputId": "9f122c64-fe40-426d-f921-09c7f090672b"
   },
   "outputs": [],
   "source": [
    "# 欠損しているキーワードと重複しているキーワードを確認します\n",
    "print('欠損データの合計:\\n',\n",
    "      '国: ',country['keyword'].isna().sum(), '\\n',  # 国のデータフレーム内の欠損値の合計を表示\n",
    "      '都市: ',city['keyword'].isna().sum(), '\\n',  # 都市のデータフレーム内の欠損値の合計を表示\n",
    "      '名所: ',landmark['keyword'].isna().sum(), '\\n'  # 名所のデータフレーム内の欠損値の合計を表示\n",
    "      )\n",
    "\n",
    "print('重複データの合計:\\n',\n",
    "      '国: ',country['keyword'].duplicated().sum(), '\\n',  # 国のデータフレーム内の重複値の合計を表示\n",
    "      '都市: ',city['keyword'].duplicated().sum(), '\\n',  # 都市のデータフレーム内の重複値の合計を表示\n",
    "      '名所: ',landmark['keyword'].duplicated().sum(), '\\n'  # 名所のデータフレーム内の重複値の合計を表示\n",
    "      )"
   ]
  },
  {
   "cell_type": "code",
   "execution_count": null,
   "metadata": {
    "execution": {
     "iopub.execute_input": "2024-06-02T23:09:14.761275Z",
     "iopub.status.busy": "2024-06-02T23:09:14.760221Z",
     "iopub.status.idle": "2024-06-02T23:09:14.776665Z",
     "shell.execute_reply": "2024-06-02T23:09:14.775417Z",
     "shell.execute_reply.started": "2024-06-02T23:09:14.761229Z"
    },
    "id": "MwBeBMIb0kL9",
    "outputId": "fdf042fb-b7a6-434d-9607-84dae48bbd0d"
   },
   "outputs": [],
   "source": [
    "# 重複データを調査します\n",
    "## 名所データセット\n",
    "landmark['keyword'].value_counts()  # 名所データフレーム内の各キーワードの出現回数をカウントし、表示します"
   ]
  },
  {
   "cell_type": "code",
   "execution_count": null,
   "metadata": {
    "execution": {
     "iopub.execute_input": "2024-06-02T23:09:14.778838Z",
     "iopub.status.busy": "2024-06-02T23:09:14.778284Z",
     "iopub.status.idle": "2024-06-02T23:09:14.794161Z",
     "shell.execute_reply": "2024-06-02T23:09:14.792838Z",
     "shell.execute_reply.started": "2024-06-02T23:09:14.778798Z"
    },
    "id": "Lul9kB-mnOCz",
    "outputId": "06128e68-71e2-410c-9b3d-c091af2005b2"
   },
   "outputs": [],
   "source": [
    "landmark[landmark['keyword'] == 'mount saint helens']  # キーワードが「mount saint helens」の名所に関するデータをフィルタリングして表示します"
   ]
  },
  {
   "cell_type": "code",
   "execution_count": null,
   "metadata": {
    "execution": {
     "iopub.execute_input": "2024-06-02T23:09:14.796082Z",
     "iopub.status.busy": "2024-06-02T23:09:14.795601Z",
     "iopub.status.idle": "2024-06-02T23:09:14.809506Z",
     "shell.execute_reply": "2024-06-02T23:09:14.808235Z",
     "shell.execute_reply.started": "2024-06-02T23:09:14.79604Z"
    },
    "id": "O6GbfGgznP6J",
    "outputId": "9976b223-1391-41bf-cf3e-82c66f26ad9c"
   },
   "outputs": [],
   "source": [
    "# 重複した行を排除します\n",
    "\n",
    "## 名所データセット\n",
    "landmark.drop_duplicates(subset='keyword', keep=\"last\", inplace=True)  # 'keyword'列の重複を排除し、最後の出現を保持します\n",
    "landmark['keyword'].duplicated().sum()  # 名所データフレーム内の重複値の合計を表示します"
   ]
  },
  {
   "cell_type": "code",
   "execution_count": null,
   "metadata": {
    "execution": {
     "iopub.execute_input": "2024-06-02T23:09:14.811149Z",
     "iopub.status.busy": "2024-06-02T23:09:14.81078Z",
     "iopub.status.idle": "2024-06-02T23:09:14.824189Z",
     "shell.execute_reply": "2024-06-02T23:09:14.822963Z",
     "shell.execute_reply.started": "2024-06-02T23:09:14.811116Z"
    },
    "id": "5z0BylAM0pkw",
    "outputId": "043022c2-526c-448b-cc7a-d8bbfecdde42"
   },
   "outputs": [],
   "source": [
    "# 重複データを排除します\n",
    "## 都市データセット\n",
    "\n",
    "city['keyword'].duplicated().sum()  # 都市データフレーム内の重複値の合計を表示します\n",
    "city.drop_duplicates(subset='keyword', keep=\"last\", inplace=True)  # 'keyword'列の重複を排除し、最後の出現を保持します\n",
    "city['keyword'].duplicated().sum()  # 都市データフレーム内の重複値の合計を再度表示します"
   ]
  },
  {
   "cell_type": "markdown",
   "id": "1918922c",
   "metadata": {},
   "source": [
    "## ALTS分析"
   ]
  },
  {
   "cell_type": "code",
   "execution_count": null,
   "metadata": {
    "execution": {
     "iopub.execute_input": "2024-06-02T23:09:14.826096Z",
     "iopub.status.busy": "2024-06-02T23:09:14.825579Z",
     "iopub.status.idle": "2024-06-02T23:09:14.834263Z",
     "shell.execute_reply": "2024-06-02T23:09:14.833164Z",
     "shell.execute_reply.started": "2024-06-02T23:09:14.826023Z"
    },
    "id": "lrwj6uJR7cYG"
   },
   "outputs": [],
   "source": [
    "# ALTS分析\n",
    "## 複数の代替名を持つ国、都市、名所の分析"
   ]
  },
  {
   "cell_type": "markdown",
   "id": "e378419b",
   "metadata": {},
   "source": [
    "### 都市"
   ]
  },
  {
   "cell_type": "code",
   "execution_count": null,
   "metadata": {
    "execution": {
     "iopub.execute_input": "2024-06-02T23:09:14.835916Z",
     "iopub.status.busy": "2024-06-02T23:09:14.835537Z",
     "iopub.status.idle": "2024-06-02T23:09:14.857904Z",
     "shell.execute_reply": "2024-06-02T23:09:14.856615Z",
     "shell.execute_reply.started": "2024-06-02T23:09:14.835876Z"
    },
    "id": "yZUyzp3Ira2r",
    "outputId": "d8600d3e-32b3-4cae-81c6-345235c62e2d"
   },
   "outputs": [],
   "source": [
    "# 代替名が最も多い都市\n",
    "city  # 都市データフレームを表示します（代替名が含まれています）"
   ]
  },
  {
   "cell_type": "code",
   "execution_count": null,
   "metadata": {
    "execution": {
     "iopub.execute_input": "2024-06-02T23:09:14.860035Z",
     "iopub.status.busy": "2024-06-02T23:09:14.859571Z",
     "iopub.status.idle": "2024-06-02T23:09:14.893867Z",
     "shell.execute_reply": "2024-06-02T23:09:14.892296Z",
     "shell.execute_reply.started": "2024-06-02T23:09:14.859994Z"
    },
    "id": "VqEpkjfHrqTD"
   },
   "outputs": [],
   "source": [
    "# 各都市の代替名の長さを持つ辞書を生成します {都市: 代替名の数}\n",
    "city_alts_dict = dict()  # 空の辞書を初期化\n",
    "for i in range(len(city)):  # 都市データフレームをループします\n",
    "  city_alts_dict[city.iloc[i, 0]] = len(str(city.iloc[i, 1]).strip('[]').split(','))  # 都市名をキーとして、代替名の数をカウントして辞書に追加します"
   ]
  },
  {
   "cell_type": "code",
   "execution_count": null,
   "metadata": {
    "execution": {
     "iopub.execute_input": "2024-06-02T23:09:14.896095Z",
     "iopub.status.busy": "2024-06-02T23:09:14.895644Z",
     "iopub.status.idle": "2024-06-02T23:09:14.920617Z",
     "shell.execute_reply": "2024-06-02T23:09:14.919287Z",
     "shell.execute_reply.started": "2024-06-02T23:09:14.896055Z"
    },
    "id": "8hJ8UEC95RWL",
    "outputId": "fef62e0f-cb4f-4c69-b3b6-5bc788cecbc0"
   },
   "outputs": [],
   "source": [
    "city_alts_dict  # 各都市とその代替名の数を持つ辞書を表示します"
   ]
  },
  {
   "cell_type": "code",
   "execution_count": null,
   "metadata": {
    "execution": {
     "iopub.execute_input": "2024-06-02T23:09:14.922514Z",
     "iopub.status.busy": "2024-06-02T23:09:14.922157Z",
     "iopub.status.idle": "2024-06-02T23:09:14.933519Z",
     "shell.execute_reply": "2024-06-02T23:09:14.932184Z",
     "shell.execute_reply.started": "2024-06-02T23:09:14.922485Z"
    },
    "id": "ZZw3sGwCsxMb"
   },
   "outputs": [],
   "source": [
    "# 辞書をPandasデータフレームに変換します\n",
    "city_alts_df = pd.DataFrame.from_dict(city_alts_dict, orient='index', columns=['len_alts'])  # 辞書をデータフレームに変換し、代替名の長さを列として追加します\n",
    "city_alts_df.reset_index(inplace=True)  # インデックスをリセットして、元の辞書のキーを新しい列にします"
   ]
  },
  {
   "cell_type": "code",
   "execution_count": null,
   "metadata": {
    "execution": {
     "iopub.execute_input": "2024-06-02T23:09:14.935428Z",
     "iopub.status.busy": "2024-06-02T23:09:14.935Z",
     "iopub.status.idle": "2024-06-02T23:09:14.948792Z",
     "shell.execute_reply": "2024-06-02T23:09:14.947546Z",
     "shell.execute_reply.started": "2024-06-02T23:09:14.935386Z"
    },
    "id": "LiX9nDCs_X-g"
   },
   "outputs": [],
   "source": [
    "city_alts_df.rename(columns={'index':'city_labels'}, inplace=True)  # インデックス列の名前を 'city_labels' に変更します"
   ]
  },
  {
   "cell_type": "code",
   "execution_count": null,
   "metadata": {
    "execution": {
     "iopub.execute_input": "2024-06-02T23:09:14.950703Z",
     "iopub.status.busy": "2024-06-02T23:09:14.950295Z",
     "iopub.status.idle": "2024-06-02T23:09:14.974781Z",
     "shell.execute_reply": "2024-06-02T23:09:14.973255Z",
     "shell.execute_reply.started": "2024-06-02T23:09:14.95064Z"
    },
    "id": "ehFueE-gCe_h",
    "outputId": "164d6560-f4c1-4149-c606-585705784191"
   },
   "outputs": [],
   "source": [
    "city_alts_df  # 都市の代替名の数を持つデータフレームを表示します"
   ]
  },
  {
   "cell_type": "code",
   "execution_count": null,
   "metadata": {
    "execution": {
     "iopub.execute_input": "2024-06-02T23:09:14.97712Z",
     "iopub.status.busy": "2024-06-02T23:09:14.97664Z",
     "iopub.status.idle": "2024-06-02T23:09:14.995405Z",
     "shell.execute_reply": "2024-06-02T23:09:14.993694Z",
     "shell.execute_reply.started": "2024-06-02T23:09:14.977077Z"
    },
    "id": "_kzhghSh65WX",
    "outputId": "b0fee196-7546-4682-b1fc-2679c2dd3296"
   },
   "outputs": [],
   "source": [
    "# ラベルの数で都市をグループ化します\n",
    "grouped_city_alts_df = city_alts_df.groupby('len_alts').count()  # 'len_alts'でグループ化し、各グループのカウントを取得します\n",
    "grouped_city_alts_df  # グループ化されたデータフレームを表示します"
   ]
  },
  {
   "cell_type": "code",
   "execution_count": null,
   "metadata": {
    "execution": {
     "iopub.execute_input": "2024-06-02T23:09:14.998416Z",
     "iopub.status.busy": "2024-06-02T23:09:14.997543Z",
     "iopub.status.idle": "2024-06-02T23:09:15.265935Z",
     "shell.execute_reply": "2024-06-02T23:09:15.264093Z",
     "shell.execute_reply.started": "2024-06-02T23:09:14.99837Z"
    },
    "id": "iT_b6-Zw6hyW",
    "outputId": "1fd72304-9cac-46c9-caf0-26911fc6b172"
   },
   "outputs": [],
   "source": [
    "# 代替名の数による都市の分布をプロットします\n",
    "grouped_city_alts_df.plot(\n",
    "    kind='pie',  # 円グラフを描画します\n",
    "    title='代替名が単一か複数の都市',  # グラフのタイトル\n",
    "    ylabel='',  # Y軸のラベルを空に設定\n",
    "    legend=False,  # 凡例を表示しない\n",
    "    subplots=True,  # 各サブプロットを個別に表示\n",
    "    autopct='%1.1f%%'  # パーセンテージを小数点以下1桁で表示\n",
    ")"
   ]
  },
  {
   "cell_type": "markdown",
   "id": "909a4092",
   "metadata": {},
   "source": [
    "リストされた都市の88%以上（278都市）がユニークなラベルを持ち、1つの都市（ロサンゼルス）は7つの代替ラベルで表されています。\n",
    "\n",
    "### 国"
   ]
  },
  {
   "cell_type": "code",
   "execution_count": null,
   "metadata": {
    "execution": {
     "iopub.execute_input": "2024-06-02T23:09:15.269149Z",
     "iopub.status.busy": "2024-06-02T23:09:15.268356Z",
     "iopub.status.idle": "2024-06-02T23:09:15.299061Z",
     "shell.execute_reply": "2024-06-02T23:09:15.297591Z",
     "shell.execute_reply.started": "2024-06-02T23:09:15.26909Z"
    },
    "id": "QqSI13SRMCv5",
    "outputId": "558f063a-d8ea-4c24-a4be-8bc08b454c3d"
   },
   "outputs": [],
   "source": [
    "# 代替名が最も多い国\n",
    "country  # 国データフレームを表示します（代替名が含まれています）"
   ]
  },
  {
   "cell_type": "code",
   "execution_count": null,
   "metadata": {
    "execution": {
     "iopub.execute_input": "2024-06-02T23:09:15.303179Z",
     "iopub.status.busy": "2024-06-02T23:09:15.301898Z",
     "iopub.status.idle": "2024-06-02T23:09:15.335981Z",
     "shell.execute_reply": "2024-06-02T23:09:15.334745Z",
     "shell.execute_reply.started": "2024-06-02T23:09:15.303127Z"
    },
    "id": "ZJFS_gu7MpXM",
    "outputId": "1335cc48-90c8-4468-f308-138539c991a1"
   },
   "outputs": [],
   "source": [
    "# 各国の代替名の長さを持つ辞書を生成します {国: 代替名の数}\n",
    "country_alts_dict = dict()  # 空の辞書を初期化\n",
    "for i in range(len(country)):  # 国データフレームをループします\n",
    "  country_alts_dict[country.iloc[i, 0]] = len(str(country.iloc[i, 1]).strip('[]').split(','))  # 国名をキーとして、代替名の数をカウントして辞書に追加します\n",
    "\n",
    "country_alts_dict  # 生成した辞書を表示します"
   ]
  },
  {
   "cell_type": "code",
   "execution_count": null,
   "metadata": {
    "execution": {
     "iopub.execute_input": "2024-06-02T23:09:15.338515Z",
     "iopub.status.busy": "2024-06-02T23:09:15.338034Z",
     "iopub.status.idle": "2024-06-02T23:09:15.353326Z",
     "shell.execute_reply": "2024-06-02T23:09:15.35219Z",
     "shell.execute_reply.started": "2024-06-02T23:09:15.338463Z"
    },
    "id": "Sh_sAumpNGoo",
    "outputId": "49c00f01-8703-4b97-b19a-cd48b111d72d"
   },
   "outputs": [],
   "source": [
    "max(country_alts_dict.values())  # 国の代替名の数の中で最大の値を表示します"
   ]
  },
  {
   "cell_type": "code",
   "execution_count": null,
   "metadata": {
    "execution": {
     "iopub.execute_input": "2024-06-02T23:09:15.35562Z",
     "iopub.status.busy": "2024-06-02T23:09:15.355227Z",
     "iopub.status.idle": "2024-06-02T23:09:15.366948Z",
     "shell.execute_reply": "2024-06-02T23:09:15.365775Z",
     "shell.execute_reply.started": "2024-06-02T23:09:15.355588Z"
    },
    "id": "JEjz_cUYMpUS"
   },
   "outputs": [],
   "source": [
    "# 辞書をPandasデータフレームに変換します\n",
    "country_alts_df = pd.DataFrame.from_dict(country_alts_dict, orient='index', columns=['len_alts'])  # 辞書をデータフレームに変換し、代替名の長さを列として追加します\n",
    "country_alts_df.reset_index(inplace=True)  # インデックスをリセットして、元の辞書のキーを新しい列にします\n",
    "country_alts_df.rename(columns={'index':'country_labels'}, inplace=True)  # インデックス列の名前を 'country_labels' に変更します"
   ]
  },
  {
   "cell_type": "code",
   "execution_count": null,
   "metadata": {
    "execution": {
     "iopub.execute_input": "2024-06-02T23:09:15.368583Z",
     "iopub.status.busy": "2024-06-02T23:09:15.368176Z",
     "iopub.status.idle": "2024-06-02T23:09:15.386294Z",
     "shell.execute_reply": "2024-06-02T23:09:15.384802Z",
     "shell.execute_reply.started": "2024-06-02T23:09:15.368552Z"
    },
    "id": "VQZsm9ZxMpRA",
    "outputId": "02fe5a1f-96f8-43b1-8e3e-e66d0e8ce70a"
   },
   "outputs": [],
   "source": [
    "# ラベルの数で国をグループ化します\n",
    "grouped_country_alts_df = country_alts_df.groupby('len_alts').count()  # 'len_alts'でグループ化し、各グループのカウントを取得します\n",
    "grouped_country_alts_df  # グループ化されたデータフレームを表示します"
   ]
  },
  {
   "cell_type": "code",
   "execution_count": null,
   "metadata": {
    "execution": {
     "iopub.execute_input": "2024-06-02T23:09:15.395405Z",
     "iopub.status.busy": "2024-06-02T23:09:15.395Z",
     "iopub.status.idle": "2024-06-02T23:09:15.575413Z",
     "shell.execute_reply": "2024-06-02T23:09:15.574041Z",
     "shell.execute_reply.started": "2024-06-02T23:09:15.395373Z"
    },
    "id": "BBZqNuhjM2w4",
    "outputId": "1b0d7623-e418-422a-95af-d04e614afa5e"
   },
   "outputs": [],
   "source": [
    "# 代替名の数による国の分布をプロットします\n",
    "grouped_country_alts_df.plot(\n",
    "    kind='pie',  # 円グラフを描画します\n",
    "    title='代替名が単一か複数の国',  # グラフのタイトル\n",
    "    ylabel='',  # Y軸のラベルを空に設定\n",
    "    legend=False,  # 凡例を表示しない\n",
    "    subplots=True,  # 各サブプロットを個別に表示\n",
    "    autopct='%1.1f%%'  # パーセンテージを小数点以下1桁で表示\n",
    ")"
   ]
  },
  {
   "cell_type": "markdown",
   "id": "849e6e50",
   "metadata": {},
   "source": [
    "また、国の97%（195国）がユニークなラベルで表されており、3国が2つのラベル、2国が3つのラベルで表されています。\n",
    "\n",
    "### 名所"
   ]
  },
  {
   "cell_type": "code",
   "execution_count": null,
   "metadata": {
    "execution": {
     "iopub.execute_input": "2024-06-02T23:09:15.578245Z",
     "iopub.status.busy": "2024-06-02T23:09:15.577804Z",
     "iopub.status.idle": "2024-06-02T23:09:15.639913Z",
     "shell.execute_reply": "2024-06-02T23:09:15.638548Z",
     "shell.execute_reply.started": "2024-06-02T23:09:15.5782Z"
    },
    "id": "D-BfkqvZN_hf",
    "outputId": "4adb6e67-ef4e-4768-e8fe-b7cdb40b0ace"
   },
   "outputs": [],
   "source": [
    "# 代替名が最も多い名所\n",
    "landmark  # 名所データフレームを表示します（代替名が含まれています）"
   ]
  },
  {
   "cell_type": "code",
   "execution_count": null,
   "metadata": {
    "execution": {
     "iopub.execute_input": "2024-06-02T23:09:15.641509Z",
     "iopub.status.busy": "2024-06-02T23:09:15.641161Z",
     "iopub.status.idle": "2024-06-02T23:09:15.6573Z",
     "shell.execute_reply": "2024-06-02T23:09:15.655961Z",
     "shell.execute_reply.started": "2024-06-02T23:09:15.641476Z"
    },
    "id": "BKV7soysOKw_",
    "outputId": "c7131783-e6ad-4542-e48a-f6a360ddfa36"
   },
   "outputs": [],
   "source": [
    "# 各名所の代替名の長さを持つ辞書を生成します {名所: 代替名の数}\n",
    "landmark_alts_dict = dict()  # 空の辞書を初期化\n",
    "for i in range(len(landmark)):  # 名所データフレームをループします\n",
    "  landmark_alts_dict[landmark.iloc[i, 0]] = len(str(landmark.iloc[i, 1]).strip('[]').split(','))  # 名所名をキーとして、代替名の数をカウントして辞書に追加します\n",
    "\n",
    "landmark_alts_dict  # 生成した辞書を表示します"
   ]
  },
  {
   "cell_type": "code",
   "execution_count": null,
   "metadata": {
    "execution": {
     "iopub.execute_input": "2024-06-02T23:09:15.659311Z",
     "iopub.status.busy": "2024-06-02T23:09:15.658881Z",
     "iopub.status.idle": "2024-06-02T23:09:15.671598Z",
     "shell.execute_reply": "2024-06-02T23:09:15.670045Z",
     "shell.execute_reply.started": "2024-06-02T23:09:15.659273Z"
    },
    "id": "M7zvgEVpOv1F",
    "outputId": "949c0dd4-eaf3-4e68-8028-4212a2ccac53"
   },
   "outputs": [],
   "source": [
    "max(landmark_alts_dict.values())  # 名所の代替名の数の中で最大の値を表示します"
   ]
  },
  {
   "cell_type": "code",
   "execution_count": null,
   "metadata": {
    "execution": {
     "iopub.execute_input": "2024-06-02T23:09:15.674294Z",
     "iopub.status.busy": "2024-06-02T23:09:15.673829Z",
     "iopub.status.idle": "2024-06-02T23:09:15.685107Z",
     "shell.execute_reply": "2024-06-02T23:09:15.684009Z",
     "shell.execute_reply.started": "2024-06-02T23:09:15.674249Z"
    },
    "id": "K7CxaJNMO3EG"
   },
   "outputs": [],
   "source": [
    "# 辞書をPandasデータフレームに変換します\n",
    "landmark_alts_df = pd.DataFrame.from_dict(landmark_alts_dict, orient='index', columns=['len_alts'])  # 辞書をデータフレームに変換し、代替名の長さを列として追加します\n",
    "landmark_alts_df.reset_index(inplace=True)  # インデックスをリセットして、元の辞書のキーを新しい列にします\n",
    "landmark_alts_df.rename(columns={'index':'landmark_labels'}, inplace=True)  # インデックス列の名前を 'landmark_labels' に変更します"
   ]
  },
  {
   "cell_type": "code",
   "execution_count": null,
   "metadata": {
    "execution": {
     "iopub.execute_input": "2024-06-02T23:09:15.6872Z",
     "iopub.status.busy": "2024-06-02T23:09:15.686754Z",
     "iopub.status.idle": "2024-06-02T23:09:15.707682Z",
     "shell.execute_reply": "2024-06-02T23:09:15.705978Z",
     "shell.execute_reply.started": "2024-06-02T23:09:15.687159Z"
    },
    "id": "urHoSfKfPC5A",
    "outputId": "da227812-e53d-405c-df36-be60fa673074"
   },
   "outputs": [],
   "source": [
    "# ラベルの数で名所をグループ化します\n",
    "grouped_landmark_alts_df = landmark_alts_df.groupby('len_alts').count()  # 'len_alts'でグループ化し、各グループのカウントを取得します\n",
    "grouped_landmark_alts_df  # グループ化されたデータフレームを表示します"
   ]
  },
  {
   "cell_type": "code",
   "execution_count": null,
   "metadata": {
    "execution": {
     "iopub.execute_input": "2024-06-02T23:09:15.710081Z",
     "iopub.status.busy": "2024-06-02T23:09:15.70953Z",
     "iopub.status.idle": "2024-06-02T23:09:15.847789Z",
     "shell.execute_reply": "2024-06-02T23:09:15.846405Z",
     "shell.execute_reply.started": "2024-06-02T23:09:15.710036Z"
    },
    "id": "KVTT6HEqPF11",
    "outputId": "12dbbf1f-0985-4b8a-9d92-8e9d236c9b4b"
   },
   "outputs": [],
   "source": [
    "# 代替名の数による名所の分布をプロットします\n",
    "grouped_landmark_alts_df.plot(\n",
    "    kind='pie',  # 円グラフを描画します\n",
    "    title='代替名が単一か複数の名所',  # グラフのタイトル\n",
    "    ylabel='',  # Y軸のラベルを空に設定\n",
    "    legend=False,  # 凡例を表示しない\n",
    "    subplots=True,  # 各サブプロットを個別に表示\n",
    "    autopct='%1.1f%%'  # パーセンテージを小数点以下1桁で表示\n",
    ")"
   ]
  },
  {
   "cell_type": "markdown",
   "id": "f40aa5ee",
   "metadata": {},
   "source": [
    "再び、名所の大部分（83%または40）はユニークなラベルで表されており、16%（8）は2つの追加ラベルを持っています。\n",
    "\n",
    "## 地理的分析"
   ]
  },
  {
   "cell_type": "code",
   "execution_count": null,
   "metadata": {
    "execution": {
     "iopub.execute_input": "2024-06-02T23:09:15.851065Z",
     "iopub.status.busy": "2024-06-02T23:09:15.85019Z",
     "iopub.status.idle": "2024-06-02T23:09:15.857726Z",
     "shell.execute_reply": "2024-06-02T23:09:15.855913Z",
     "shell.execute_reply.started": "2024-06-02T23:09:15.851001Z"
    },
    "id": "JNP4EDn193J2"
   },
   "outputs": [],
   "source": [
    "# 地理的分析\n",
    "## 大陸の表現\n",
    "## 複数の都市を持つ国"
   ]
  },
  {
   "cell_type": "markdown",
   "id": "225dd099",
   "metadata": {},
   "source": [
    "### 大陸別の国の表現"
   ]
  },
  {
   "cell_type": "code",
   "execution_count": null,
   "metadata": {
    "execution": {
     "iopub.execute_input": "2024-06-02T23:09:15.862092Z",
     "iopub.status.busy": "2024-06-02T23:09:15.860137Z",
     "iopub.status.idle": "2024-06-02T23:09:16.137917Z",
     "shell.execute_reply": "2024-06-02T23:09:16.136639Z",
     "shell.execute_reply.started": "2024-06-02T23:09:15.862027Z"
    },
    "id": "EE8WqvCAQlih"
   },
   "outputs": [],
   "source": [
    "# 国のリストを読み込みます\n",
    "country_by_continent = pd.read_html('https://worldpopulationreview.com/country-rankings/list-of-countries-by-continent')[4].copy()  # 指定したURLから国のリストを取得し、データフレームとしてコピーします"
   ]
  },
  {
   "cell_type": "code",
   "execution_count": null,
   "metadata": {
    "execution": {
     "iopub.execute_input": "2024-06-02T23:09:16.140149Z",
     "iopub.status.busy": "2024-06-02T23:09:16.139505Z",
     "iopub.status.idle": "2024-06-02T23:09:16.148648Z",
     "shell.execute_reply": "2024-06-02T23:09:16.147299Z",
     "shell.execute_reply.started": "2024-06-02T23:09:16.140105Z"
    },
    "id": "M4KI3c-DRsn4"
   },
   "outputs": [],
   "source": [
    "country_by_continent = country_by_continent[['Country', 'Continent']]  # 'Country'と'Continent'の列のみを選択し、データフレームを更新します"
   ]
  },
  {
   "cell_type": "code",
   "execution_count": null,
   "metadata": {
    "execution": {
     "iopub.execute_input": "2024-06-02T23:09:16.150874Z",
     "iopub.status.busy": "2024-06-02T23:09:16.150385Z",
     "iopub.status.idle": "2024-06-02T23:09:16.402146Z",
     "shell.execute_reply": "2024-06-02T23:09:16.400561Z",
     "shell.execute_reply.started": "2024-06-02T23:09:16.150828Z"
    },
    "id": "SPUDhIebWL61",
    "outputId": "5a13a59e-77e3-4ce0-91e9-3d0ed27f9822"
   },
   "outputs": [],
   "source": [
    "# 大陸別の国\n",
    "country_by_continent.Continent.value_counts().plot(\n",
    "    kind='pie',  # 円グラフを描画します\n",
    "    ylabel='',  # Y軸のラベルを空に設定\n",
    "    xlabel='',  # X軸のラベルを空に設定\n",
    "    title='世界の国々の大陸別分布',  # グラフのタイトル\n",
    "    autopct='%1.1f%%'  # パーセンテージを小数点以下1桁で表示\n",
    ")"
   ]
  },
  {
   "cell_type": "code",
   "execution_count": null,
   "metadata": {
    "execution": {
     "iopub.execute_input": "2024-06-02T23:09:16.405362Z",
     "iopub.status.busy": "2024-06-02T23:09:16.404192Z",
     "iopub.status.idle": "2024-06-02T23:09:16.413134Z",
     "shell.execute_reply": "2024-06-02T23:09:16.411894Z",
     "shell.execute_reply.started": "2024-06-02T23:09:16.405319Z"
    },
    "id": "VMxAOwvVTepz"
   },
   "outputs": [],
   "source": [
    "country_by_continent['Country'] = country_by_continent.Country.str.lower()  # 国名を小文字に変換し、データフレームを更新します"
   ]
  },
  {
   "cell_type": "code",
   "execution_count": null,
   "metadata": {
    "execution": {
     "iopub.execute_input": "2024-06-02T23:09:16.41544Z",
     "iopub.status.busy": "2024-06-02T23:09:16.414968Z",
     "iopub.status.idle": "2024-06-02T23:09:16.435469Z",
     "shell.execute_reply": "2024-06-02T23:09:16.43381Z",
     "shell.execute_reply.started": "2024-06-02T23:09:16.415394Z"
    },
    "id": "tljpZ072Tlnn",
    "outputId": "0bf185b5-8c5b-446f-cbbd-15c150b72bb1"
   },
   "outputs": [],
   "source": [
    "country_by_continent  # 大陸別の国のデータフレームを表示します"
   ]
  },
  {
   "cell_type": "code",
   "execution_count": null,
   "metadata": {
    "execution": {
     "iopub.execute_input": "2024-06-02T23:09:16.438032Z",
     "iopub.status.busy": "2024-06-02T23:09:16.437384Z",
     "iopub.status.idle": "2024-06-02T23:09:16.455056Z",
     "shell.execute_reply": "2024-06-02T23:09:16.453744Z",
     "shell.execute_reply.started": "2024-06-02T23:09:16.43797Z"
    },
    "id": "rpuplK6fSG8g",
    "outputId": "19be669c-9939-4b07-f308-2871ba63becf"
   },
   "outputs": [],
   "source": [
    "# 大陸別の国の分布\n",
    "country_by_continent.Continent.value_counts(normalize=True)  # 大陸別の国の分布を正規化して表示します（割合を計算）"
   ]
  },
  {
   "cell_type": "code",
   "execution_count": null,
   "metadata": {
    "execution": {
     "iopub.execute_input": "2024-06-02T23:09:16.457419Z",
     "iopub.status.busy": "2024-06-02T23:09:16.456945Z",
     "iopub.status.idle": "2024-06-02T23:09:16.47443Z",
     "shell.execute_reply": "2024-06-02T23:09:16.472821Z",
     "shell.execute_reply.started": "2024-06-02T23:09:16.457364Z"
    },
    "id": "TYzkoVs6SNZl",
    "outputId": "9ff35732-e6e6-415c-c478-39ed546424d6"
   },
   "outputs": [],
   "source": [
    "# 重複した国はあるか？\n",
    "country_by_continent.Country.duplicated().sum()  # データフレーム内の重複した国の数を表示します"
   ]
  },
  {
   "cell_type": "code",
   "execution_count": null,
   "metadata": {
    "execution": {
     "iopub.execute_input": "2024-06-02T23:09:16.476778Z",
     "iopub.status.busy": "2024-06-02T23:09:16.476269Z",
     "iopub.status.idle": "2024-06-02T23:09:16.494456Z",
     "shell.execute_reply": "2024-06-02T23:09:16.493144Z",
     "shell.execute_reply.started": "2024-06-02T23:09:16.476735Z"
    },
    "id": "RDrlZ_5L-BB4",
    "outputId": "40098eef-1d1c-4013-b816-31e310ac15c7"
   },
   "outputs": [],
   "source": [
    "# 欠損値の確認\n",
    "country_by_continent.Country.isna().sum()  # 'Country'列内の欠損値の合計を表示します"
   ]
  },
  {
   "cell_type": "code",
   "execution_count": null,
   "metadata": {
    "execution": {
     "iopub.execute_input": "2024-06-02T23:09:16.497452Z",
     "iopub.status.busy": "2024-06-02T23:09:16.496995Z",
     "iopub.status.idle": "2024-06-02T23:09:16.522091Z",
     "shell.execute_reply": "2024-06-02T23:09:16.520829Z",
     "shell.execute_reply.started": "2024-06-02T23:09:16.49741Z"
    },
    "id": "WOdgtTiSUZ4e",
    "outputId": "c6b7e389-ca13-4168-b10b-e386f7b7ec38"
   },
   "outputs": [],
   "source": [
    "# キーワードデータセットにおける大陸の表現\n",
    "country.merge(\n",
    "    country_by_continent,  # 'country_by_continent'データフレームと結合\n",
    "    how='left',  # 左外部結合を行う\n",
    "    left_on='keyword',  # 'keyword'列を基に結合\n",
    "    right_on='Country'  # 'Country'列で結合\n",
    ")['Continent'].value_counts()  # 結合後の'Continent'列の値のカウントを表示する\n",
    "# .plot(kind='pie')  # （プロット結果を確認したい場合はコメントアウトを解除）"
   ]
  },
  {
   "cell_type": "code",
   "execution_count": null,
   "metadata": {
    "execution": {
     "iopub.execute_input": "2024-06-02T23:09:16.524086Z",
     "iopub.status.busy": "2024-06-02T23:09:16.52364Z",
     "iopub.status.idle": "2024-06-02T23:09:16.724467Z",
     "shell.execute_reply": "2024-06-02T23:09:16.723213Z",
     "shell.execute_reply.started": "2024-06-02T23:09:16.524053Z"
    },
    "id": "cBPy8T25XfeK",
    "outputId": "e5c7b674-f2bf-4828-a6ca-8fcd6a6a1612"
   },
   "outputs": [],
   "source": [
    "# キーワードデータセットにおける大陸の表現をプロットします\n",
    "\n",
    "country.merge(\n",
    "    country_by_continent,  # 'country_by_continent'データフレームと結合\n",
    "    how='left',  # 左外部結合を行う\n",
    "    left_on='keyword',  # 'keyword'列を基に結合\n",
    "    right_on='Country'  # 'Country'列で結合\n",
    ")['Continent'].value_counts().plot(kind='pie',  # 円グラフを描画\n",
    "                                     title='国々の大陸別分布',  # グラフのタイトル\n",
    "                                     xlabel='',  # X軸のラベルを空に設定\n",
    "                                     ylabel='',  # Y軸のラベルを空に設定\n",
    "                                     autopct='%1.1f%%')  # パーセンテージを小数点以下1桁で表示"
   ]
  },
  {
   "cell_type": "markdown",
   "id": "7e321a01",
   "metadata": {},
   "source": [
    "キーワードデータセットには、各大陸の公平な表現があります。\n",
    "\n",
    "### 大陸別の都市の表現"
   ]
  },
  {
   "cell_type": "code",
   "execution_count": null,
   "metadata": {
    "execution": {
     "iopub.execute_input": "2024-06-02T23:09:16.727568Z",
     "iopub.status.busy": "2024-06-02T23:09:16.726081Z",
     "iopub.status.idle": "2024-06-02T23:18:16.631576Z",
     "shell.execute_reply": "2024-06-02T23:18:16.630305Z",
     "shell.execute_reply.started": "2024-06-02T23:09:16.727503Z"
    },
    "id": "QAhJgTgEc7Bn"
   },
   "outputs": [],
   "source": [
    "# 世界の都市を収集します\n",
    "data = pd.DataFrame(columns=['Name', 'Country'])  # 'Name'と'Country'の列を持つ空のデータフレームを作成\n",
    "for i in range(1, 563):  # 1から562までの範囲でループ\n",
    "  data = pd.concat([data, pd.read_html(f'https://geokeo.com/database/city/{i}/')[0][['Name', 'Country']]])  # 各ページから都市名と国名を取得し、データフレームに追加します"
   ]
  },
  {
   "cell_type": "code",
   "execution_count": null,
   "metadata": {
    "execution": {
     "iopub.execute_input": "2024-06-02T23:18:16.633239Z",
     "iopub.status.busy": "2024-06-02T23:18:16.632925Z",
     "iopub.status.idle": "2024-06-02T23:18:16.647423Z",
     "shell.execute_reply": "2024-06-02T23:18:16.646045Z",
     "shell.execute_reply.started": "2024-06-02T23:18:16.633212Z"
    },
    "id": "UV60tUSie7CA",
    "outputId": "ed382a5f-637e-4b0b-acd4-7161d36662be"
   },
   "outputs": [],
   "source": [
    "data  # 収集した世界の都市のデータフレームを表示します"
   ]
  },
  {
   "cell_type": "code",
   "execution_count": null,
   "metadata": {
    "execution": {
     "iopub.execute_input": "2024-06-02T23:18:16.650362Z",
     "iopub.status.busy": "2024-06-02T23:18:16.649219Z",
     "iopub.status.idle": "2024-06-02T23:18:16.689901Z",
     "shell.execute_reply": "2024-06-02T23:18:16.688776Z",
     "shell.execute_reply.started": "2024-06-02T23:18:16.650317Z"
    },
    "id": "SiXPCePhp8uk"
   },
   "outputs": [],
   "source": [
    "# データを保存します\n",
    "data.to_csv('world_cities.csv')  # 収集したデータを'world_cities.csv'という名前でCSVファイルとして保存します"
   ]
  },
  {
   "cell_type": "code",
   "execution_count": null,
   "metadata": {
    "execution": {
     "iopub.execute_input": "2024-06-02T23:18:16.691648Z",
     "iopub.status.busy": "2024-06-02T23:18:16.691333Z",
     "iopub.status.idle": "2024-06-02T23:18:16.712648Z",
     "shell.execute_reply": "2024-06-02T23:18:16.711237Z",
     "shell.execute_reply.started": "2024-06-02T23:18:16.691622Z"
    },
    "id": "kWAldxTkrSyg",
    "outputId": "6cafc46c-823f-4252-fdcd-5ca8f8770ac3"
   },
   "outputs": [],
   "source": [
    "# 前処理を行います\n",
    "data['Name'] = data.Name.str.lower()  # 'Name'列の都市名を小文字に変換し、データフレームを更新します\n",
    "data  # 前処理後のデータフレームを表示します"
   ]
  },
  {
   "cell_type": "code",
   "execution_count": null,
   "metadata": {
    "execution": {
     "iopub.execute_input": "2024-06-02T23:18:16.714484Z",
     "iopub.status.busy": "2024-06-02T23:18:16.714148Z",
     "iopub.status.idle": "2024-06-02T23:18:16.741255Z",
     "shell.execute_reply": "2024-06-02T23:18:16.739479Z",
     "shell.execute_reply.started": "2024-06-02T23:18:16.714456Z"
    },
    "id": "EGyyjgPHyI0_",
    "outputId": "8f0ad533-e6d8-4da7-f886-a5c2c51eb9ea"
   },
   "outputs": [],
   "source": [
    "data['Country'] = data.Country.str.lower()  # 'Country'列の国名を小文字に変換し、データフレームを更新します\n",
    "data  # 更新後のデータフレームを表示します"
   ]
  },
  {
   "cell_type": "code",
   "execution_count": null,
   "metadata": {
    "execution": {
     "iopub.execute_input": "2024-06-02T23:18:16.743223Z",
     "iopub.status.busy": "2024-06-02T23:18:16.742854Z",
     "iopub.status.idle": "2024-06-02T23:18:16.767177Z",
     "shell.execute_reply": "2024-06-02T23:18:16.76575Z",
     "shell.execute_reply.started": "2024-06-02T23:18:16.743193Z"
    },
    "id": "eS_F6-1wrf5q",
    "outputId": "ea036b07-b565-4da8-fe21-862b29a1d5e0"
   },
   "outputs": [],
   "source": [
    "city  # 都市に関するデータフレームを表示します"
   ]
  },
  {
   "cell_type": "code",
   "execution_count": null,
   "metadata": {
    "execution": {
     "iopub.execute_input": "2024-06-02T23:18:16.769232Z",
     "iopub.status.busy": "2024-06-02T23:18:16.768776Z",
     "iopub.status.idle": "2024-06-02T23:18:16.782915Z",
     "shell.execute_reply": "2024-06-02T23:18:16.780983Z",
     "shell.execute_reply.started": "2024-06-02T23:18:16.769189Z"
    },
    "id": "WD1UicRVrnS3"
   },
   "outputs": [],
   "source": [
    "cities = city.copy()  # 都市データフレームをコピーして'cities'という新しいデータフレームを作成します"
   ]
  },
  {
   "cell_type": "code",
   "execution_count": null,
   "metadata": {
    "execution": {
     "iopub.execute_input": "2024-06-02T23:18:16.785149Z",
     "iopub.status.busy": "2024-06-02T23:18:16.784667Z",
     "iopub.status.idle": "2024-06-02T23:18:16.812327Z",
     "shell.execute_reply": "2024-06-02T23:18:16.810793Z",
     "shell.execute_reply.started": "2024-06-02T23:18:16.785106Z"
    },
    "id": "eqe69P-7tDw1",
    "outputId": "d13bfe48-382f-490f-b00b-85bbbc2cc2d7"
   },
   "outputs": [],
   "source": [
    "cities  # 'cities'データフレームを表示します"
   ]
  },
  {
   "cell_type": "code",
   "execution_count": null,
   "metadata": {
    "execution": {
     "iopub.execute_input": "2024-06-02T23:18:16.814385Z",
     "iopub.status.busy": "2024-06-02T23:18:16.814024Z",
     "iopub.status.idle": "2024-06-02T23:18:16.92822Z",
     "shell.execute_reply": "2024-06-02T23:18:16.926948Z",
     "shell.execute_reply.started": "2024-06-02T23:18:16.814355Z"
    },
    "id": "4mGkHjjvt7FX",
    "outputId": "4b71ffeb-f9e0-4791-d039-6d249409199b"
   },
   "outputs": [],
   "source": [
    "# キーワードから国名を抽出します\n",
    "for i in cities.index:  # 'cities'データフレームの各インデックスに対してループします\n",
    "  cities.loc[i, 'city'] = cities.loc[i, 'keyword'].split(' ')[0]  # 'keyword'列から最初の単語を取り出して'city'列に設定します\n",
    "cities  # 更新されたデータフレームを表示します"
   ]
  },
  {
   "cell_type": "code",
   "execution_count": null,
   "metadata": {
    "execution": {
     "iopub.execute_input": "2024-06-02T23:18:16.930321Z",
     "iopub.status.busy": "2024-06-02T23:18:16.929899Z",
     "iopub.status.idle": "2024-06-02T23:18:16.95182Z",
     "shell.execute_reply": "2024-06-02T23:18:16.950497Z",
     "shell.execute_reply.started": "2024-06-02T23:18:16.930281Z"
    },
    "id": "v7hB6ehmvEjp",
    "outputId": "02ecd777-0da3-4761-e507-761b328bec5e"
   },
   "outputs": [],
   "source": [
    "# 都市の国を抽出します\n",
    "cities.merge(\n",
    "    data,  # 'data'データフレームと結合\n",
    "    how='left',  # 左外部結合を行う\n",
    "    left_on='city',  # 'city'列を基に結合\n",
    "    right_on='Name'  # 'Name'列で結合\n",
    ")['Country'].value_counts()  # 結合後の'Country'列の値のカウントを表示します"
   ]
  },
  {
   "cell_type": "code",
   "execution_count": null,
   "metadata": {
    "execution": {
     "iopub.execute_input": "2024-06-02T23:18:16.953319Z",
     "iopub.status.busy": "2024-06-02T23:18:16.952958Z"
    },
    "id": "PWKrs1oLueFG",
    "outputId": "1041d6b4-e0bd-4982-cd12-f1df580c071e"
   },
   "outputs": [],
   "source": [
    "# 国別の都市をプロットします\n",
    "cities.merge(\n",
    "    data,  # 'data'データフレームと結合\n",
    "    how='left',  # 左外部結合を行う\n",
    "    left_on='city',  # 'city'列を基に結合\n",
    "    right_on='Name'  # 'Name'列で結合\n",
    ")['Country'].value_counts().plot(kind='pie',  # 円グラフを描画\n",
    "                                     title='国別の都市',  # グラフのタイトル\n",
    "                                     xlabel='',  # X軸のラベルを空に設定\n",
    "                                     ylabel='',  # Y軸のラベルを空に設定\n",
    "                                     autopct='%1.1f%%')  # パーセンテージを小数点以下1桁で表示"
   ]
  },
  {
   "cell_type": "markdown",
   "id": "e44b6e2f",
   "metadata": {},
   "source": [
    "少し混乱していますが、北アメリカの都市（米国・カナダ・メキシコ）がどのように支配的であるかを示しています（リストされた都市の約1/4）。"
   ]
  },
  {
   "cell_type": "code",
   "execution_count": null,
   "metadata": {
    "execution": {
     "iopub.execute_input": "2024-06-02T23:18:18.279223Z",
     "iopub.status.busy": "2024-06-02T23:18:18.278849Z",
     "iopub.status.idle": "2024-06-02T23:18:18.295185Z",
     "shell.execute_reply": "2024-06-02T23:18:18.293778Z",
     "shell.execute_reply.started": "2024-06-02T23:18:18.279192Z"
    },
    "id": "hf7e_3FpxpOP",
    "outputId": "fff94d6a-e447-4722-b4e5-9c201486213b"
   },
   "outputs": [],
   "source": [
    "country_by_continent  # 大陸別の国のデータフレームを表示します"
   ]
  },
  {
   "cell_type": "code",
   "execution_count": null,
   "metadata": {
    "execution": {
     "iopub.execute_input": "2024-06-02T23:18:18.297458Z",
     "iopub.status.busy": "2024-06-02T23:18:18.29711Z",
     "iopub.status.idle": "2024-06-02T23:18:18.33892Z",
     "shell.execute_reply": "2024-06-02T23:18:18.337087Z",
     "shell.execute_reply.started": "2024-06-02T23:18:18.297428Z"
    },
    "id": "eyLb9VPRvfAy",
    "outputId": "537bd7eb-bd14-4570-eb85-56b27350f162"
   },
   "outputs": [],
   "source": [
    "# 都市名に基づいて大陸を抽出します\n",
    "cities_countries = cities.merge(\n",
    "                      data,  # 'data'データフレームと結合\n",
    "                      how='left',  # 左外部結合を行う\n",
    "                      left_on='city',  # 'city'列を基に結合\n",
    "                      right_on='Name'  # 'Name'列で結合\n",
    "                      )\n",
    "\n",
    "cities_countries['countries'] = cities_countries.Country.str.lower()  # 'Country'列を小文字に変換して'countries'列に保存\n",
    "cities_countries.drop(columns='Country', inplace=True)  # 'Country'列を削除\n",
    "\n",
    "cities_countries.merge(\n",
    "                    country_by_continent,  # 'country_by_continent'データフレームと結合\n",
    "                    how='left',  # 左外部結合を行う\n",
    "                    left_on='countries',  # 'countries'列を基に結合\n",
    "                    right_on='Country'  # 'Country'列で結合\n",
    "                    )  # 結合結果を表示（表示部分がないので暗黙的）は後の手順で確認可能です"
   ]
  },
  {
   "cell_type": "code",
   "execution_count": null,
   "metadata": {
    "execution": {
     "iopub.execute_input": "2024-06-02T23:18:18.341039Z",
     "iopub.status.busy": "2024-06-02T23:18:18.340396Z",
     "iopub.status.idle": "2024-06-02T23:18:18.5454Z",
     "shell.execute_reply": "2024-06-02T23:18:18.544109Z",
     "shell.execute_reply.started": "2024-06-02T23:18:18.341002Z"
    },
    "id": "gE22GhWow327",
    "outputId": "e9d95849-6ccc-4c02-985a-fc3c242d1b7d"
   },
   "outputs": [],
   "source": [
    "# 都市に基づいた大陸の表現を示します\n",
    "cities_countries.merge(\n",
    "                    country_by_continent,  # 'country_by_continent'データフレームと結合\n",
    "                    how='left',  # 左外部結合を行う\n",
    "                    left_on='countries',  # 'countries'列を基に結合\n",
    "                    right_on='Country'  # 'Country'列で結合\n",
    "                    )['Continent'].value_counts().plot(kind='pie',  # 円グラフを描画\n",
    "                                                      title='都市に基づいた大陸の表現',  # グラフのタイトル\n",
    "                                                      xlabel='',  # X軸のラベルを空に設定\n",
    "                                                      ylabel='',  # Y軸のラベルを空に設定\n",
    "                                                      autopct='%1.1f%%')  # パーセンテージを小数点以下1桁で表示"
   ]
  },
  {
   "cell_type": "markdown",
   "id": "6b8ced52",
   "metadata": {},
   "source": [
    "都市の三分の二はヨーロッパとアジアからのもので、他の大陸は十分に表現されていません。\n",
    "\n",
    "# リソース\n",
    "\n",
    "[LLM 20 Questions - キーワード](https://www.kaggle.com/code/docxian/llm-20-questions-keywords/notebook)\n",
    "\n",
    "[[LLM 20 Questions] EDAマップキーワード](https://www.kaggle.com/code/waechter/llm-20-questions-eda-map-keywords)"
   ]
  },
  {
   "cell_type": "code",
   "execution_count": null,
   "metadata": {
    "id": "nyNdinZ5Tdc6"
   },
   "outputs": [],
   "source": []
  },
  {
   "cell_type": "markdown",
   "id": "c4fe493e",
   "metadata": {},
   "source": [
    "---\n",
    "\n",
    "# コメント \n",
    "\n",
    "> ## OminousDude\n",
    "> \n",
    "> 非常に役立ちました！ 私のモデルに助けになりました！\n",
    "> \n",
    "> \n",
    "> \n",
    "\n",
    "\n",
    "---\n",
    "\n",
    "> ## waechter\n",
    "> \n",
    "> 共有ありがとうございます！ \n",
    "> \n",
    "> 大陸別の国の追加や[https://worldpopulationreview.com/country-rankings/list-of-countries-by-continent](https://worldpopulationreview.com/country-rankings/list-of-countries-by-continent)、都市の情報を追加したことが気に入りました。[https://geokeo.com/database/city](https://geokeo.com/database/city) \n",
    "> \n",
    "> \n",
    "> \n",
    "\n",
    "\n",
    "---\n",
    "\n",
    "> ## Payam Amanat\n",
    "> \n",
    "> データセットに関する素晴らしい視覚化とEDA [@mzaoualim](https://www.kaggle.com/mzaoualim) 賛成票を投じました\n",
    "> \n",
    "> \n",
    "> \n",
    "> > ## Mohamed MZAOUALITopic Author\n",
    "> > \n",
    "> > ありがとう！\n",
    "> > \n",
    "> > \n",
    "> > \n",
    "\n",
    "\n",
    "---\n",
    "\n"
   ]
  }
 ],
 "metadata": {
  "colab": {
   "include_colab_link": true,
   "name": "notebook289a4cfa26",
   "provenance": [],
   "toc_visible": true
  },
  "kaggle": {
   "accelerator": "none",
   "dataSources": [
    {
     "databundleVersionId": 8550470,
     "sourceId": 61247,
     "sourceType": "competition"
    }
   ],
   "dockerImageVersionId": 30715,
   "isGpuEnabled": false,
   "isInternetEnabled": true,
   "language": "python",
   "sourceType": "notebook"
  },
  "kernelspec": {
   "display_name": "Python 3",
   "language": "python",
   "name": "python3"
  },
  "language_info": {
   "codemirror_mode": {
    "name": "ipython",
    "version": 3
   },
   "file_extension": ".py",
   "mimetype": "text/x-python",
   "name": "python",
   "nbconvert_exporter": "python",
   "pygments_lexer": "ipython3",
   "version": "3.10.13"
  }
 },
 "nbformat": 4,
 "nbformat_minor": 4
}
