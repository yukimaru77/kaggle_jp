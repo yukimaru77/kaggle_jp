{
 "cells": [
  {
   "cell_type": "markdown",
   "id": "36d51bb3",
   "metadata": {},
   "source": [
    "# 要約 \n",
    "このJupyterノートブックは、Kaggleの「LLM 20 Questions」コンペティションにおけるエージェントの作成、テスト、およびデバッグに焦点を当てています。特に、シンプルな推測エージェントをPythonで定義し、Kaggleの環境を用いてゲームを実行する方法を示しています。\n",
    "\n",
    "### 取り組んでいる問題\n",
    "ノートブックでは、言語モデルを用いた「20の質問」ゲームにおけるエージェントの設計と実行に関する問題に取り組んでいます。具体的には、エージェントが限られた質問の中で正しい単語を推測するスキルを持つことが重要です。エージェントは「ask」「guess」「answer」の3つのターンタイプに対応する必要があります。\n",
    "\n",
    "### 使用している手法\n",
    "1. **シンプルなエージェントの作成**:\n",
    "    - 4つのシンプルなエージェント（`simple_agent1`, `simple_agent2`, `simple_agent3`, `simple_agent4`）が定義され、各エージェントは固定の質問を行い、推測を行います。\n",
    "\n",
    "2. **環境の構築**:\n",
    "    - `kaggle_environments`ライブラリを使用して、「llm_20_questions」の環境を作成し、推測に必要なキーワードやオプションを初期化します。\n",
    "\n",
    "3. **ゲームの実行**:\n",
    "    - `env.run()`メソッドを使用して、作成したエージェントを用いてゲームを実行します。\n",
    "    - 各エージェントのレスポンスやゲームの結果を収集するための構造が用意されている。\n",
    "\n",
    "4. **デバッグ機能**:\n",
    "    - エージェントの動作を確認するためのデバッグ手法が導入されており、ターンごとにエージェントの状態や反応を詳細に観察できる機能が含まれています。\n",
    "\n",
    "5. **提出用エージェントの準備**:\n",
    "    - エージェントのロジックを`main.py`として保存し、その周辺に必要な情報を持ったサポートファイルをまとめて提出する手順が説明されています。\n",
    "\n",
    "### ライブラリ\n",
    "- `kaggle_environments`: Kaggleの競技環境を作成し、エージェントをテストするためのライブラリです。\n",
    "- `csv`, `os`, `sys`: Pythonの標準ライブラリを利用してファイルやディレクトリの扱いを行います。\n",
    "\n",
    "このノートブックは、エージェントを試作し、ゲームを通じたインタラクションを理解するためのステップバイステップガイドとして機能します。\n",
    "\n",
    "---\n"
   ]
  },
  {
   "cell_type": "markdown",
   "id": "0b411754",
   "metadata": {},
   "source": [
    "# 用語概説 \n",
    "以下は、ノートブック内で取り上げられている機械学習・深層学習関連の用語に関する簡単な解説です。特に初心者がつまずきがちな点や、実務経験が少ないと馴染みのない専門用語に焦点を当てています。\n",
    "\n",
    "1. **エージェント (Agent)**:\n",
    "   - 環境内で行動をとるプログラムやモデルを指します。このノートブックでは、20 Questionsゲームに参加するための質問者や回答者として機能するPython関数のことを指しています。\n",
    "\n",
    "2. **環境 (Environment)**:\n",
    "   - エージェントが相互作用する外部システムやフレームワークのことです。この場合、Kaggle上の「llm_20_questions」ゲームを実行するためのプラットフォームを指します。\n",
    "\n",
    "3. **ターンタイプ (turnType)**:\n",
    "   - ゲーム内でエージェントがどの役割を担っているかを示す状態です。「ask」（質問をする）、 「guess」（単語を推測する）、 「answer」（はい/いいえで回答する）などがあります。\n",
    "\n",
    "4. **キーワード (Keyword)**:\n",
    "   - ゲームで当てるべき単語のことです。エージェントはこれを推測することが目的となるため、具体的な言葉を指します。\n",
    "\n",
    "5. **構成 (Configuration)**:\n",
    "   - 環境やエージェントを初期化するためのオプション設定です。このノートブックでは、エピソードのステップ数やタイムアウト時間などを調整するために使われます。\n",
    "\n",
    "6. **デバッグ (Debug)**:\n",
    "   - プログラムやモデルの動作を確認し、エラーを修正する過程です。特に、エージェントの行動や環境の設定に関する問題を見つけるために用いられます。\n",
    "\n",
    "7. **エピソード (Episode)**:\n",
    "   - ゲームの一回の実行を指し、エージェントが行動をとる一連の過程を表します。この文脈では、エンドツーエンドでエージェントが活動するゲームの進行を意味します。\n",
    "\n",
    "8. **サポートファイル (Support Files)**:\n",
    "   - エージェントが利用する追加のデータやリソースを含むファイルのことです。例としては、モデルの重みや、エージェントが利用する情報を含んだCSVファイルなどがあります。\n",
    "\n",
    "9. **オプション引数 (Optional Arguments)**:\n",
    "   - 関数やメソッドを呼び出す際に指定できる追加的なパラメータ。指定しなければデフォルトの値が使用される場合が多いです。\n",
    "\n",
    "10. **モード (Mode)**:\n",
    "   - データを表示する形式や状況を指定します。このノートブックでは、環境のレンダリングを行う際の設定（`mode=\"ipython\"`など）を指します。\n",
    "\n",
    "これらの用語は、特にこのコンペティションに特有の情報や専用のフレームワークに関連しているため、初心者にはなじみが薄く、理解するのが難しいかもしれません。それぞれの用語の意味や役割を理解することで、ノートブックやコンペティションの内容を効果的に把握できるようになります。\n",
    "\n",
    "---\n"
   ]
  },
  {
   "cell_type": "markdown",
   "id": "464640fb",
   "metadata": {},
   "source": [
    "# 環境のヒント: NotebookでLLM 20 Questionsを実行する方法\n",
    "\n",
    "Kaggleの環境を使用してLLM 20 Questionsやその他のコンペティションでエージェントをテストやデバッグする際は、ノートブックで環境を実行できると便利です。以下に、役立つヒントや説明を示します。\n",
    "\n",
    "# シンプルなエージェントを作成する\n",
    "\n",
    "実験だけしたい場合、エージェントはPython関数として非常にシンプルにすることができます。エージェントは二つの入力（obsとcfg）を持つ関数で、テキストレスポンスを出力します。\n",
    "\n",
    "エージェントは、三つのturnTypes（「ask」、「guess」、「answer」）を処理できる必要があります。「answer」のレスポンスは「yes」または「no」でなければなりません。\n",
    "\n",
    "以下に四つのシンプルなエージェントを示します。\n"
   ]
  },
  {
   "cell_type": "code",
   "execution_count": null,
   "metadata": {
    "execution": {
     "iopub.execute_input": "2024-08-04T11:44:38.614112Z",
     "iopub.status.busy": "2024-08-04T11:44:38.613368Z",
     "iopub.status.idle": "2024-08-04T11:44:38.622701Z",
     "shell.execute_reply": "2024-08-04T11:44:38.621666Z",
     "shell.execute_reply.started": "2024-08-04T11:44:38.614067Z"
    }
   },
   "outputs": [],
   "source": [
    "def simple_agent1(obs, cfg):\n",
    "    # エージェントが推測者でturnTypeが\"ask\"の場合\n",
    "    if obs.turnType == \"ask\": response = \"それはアヒルですか？\"\n",
    "    elif obs.turnType == \"guess\": response = \"アヒル\"\n",
    "    elif obs.turnType == \"answer\": response = \"いいえ\"\n",
    "    return response\n",
    "\n",
    "def simple_agent2(obs, cfg):\n",
    "    # エージェントが推測者でturnTypeが\"ask\"の場合\n",
    "    if obs.turnType == \"ask\": response = \"それは鳥ですか？\"\n",
    "    elif obs.turnType == \"guess\": response = \"鳥\"\n",
    "    elif obs.turnType == \"answer\": response = \"いいえ\"\n",
    "    return response\n",
    "\n",
    "def simple_agent3(obs, cfg):\n",
    "    # エージェントが推測者でturnTypeが\"ask\"の場合\n",
    "    if obs.turnType == \"ask\": response = \"それは豚ですか？\"\n",
    "    elif obs.turnType == \"guess\": response = \"豚\"\n",
    "    elif obs.turnType == \"answer\": response = \"いいえ\"\n",
    "    return response\n",
    "\n",
    "def simple_agent4(obs, cfg):\n",
    "    # エージェントが推測者でturnTypeが\"ask\"の場合\n",
    "    if obs.turnType == \"ask\": response = \"それは牛ですか？\"\n",
    "    elif obs.turnType == \"guess\": response = \"牛\"\n",
    "    elif obs.turnType == \"answer\": response = \"いいえ\"\n",
    "    return response"
   ]
  },
  {
   "cell_type": "markdown",
   "id": "75ae17da",
   "metadata": {},
   "source": [
    "# ゲーム環境の作成と構成\n",
    "\n",
    "Kaggleの環境は、`make()`関数を使用して*環境*名（`\"llm_20_questions\"`）といくつかのオプションのデフォルト（*configuration*や*info*など）を指定して作成されます。コンペティションと同じようにゲームを実行したい場合は、デフォルトをそのまま使用できます。\n"
   ]
  },
  {
   "cell_type": "code",
   "execution_count": null,
   "metadata": {
    "execution": {
     "iopub.execute_input": "2024-08-04T11:44:38.624485Z",
     "iopub.status.busy": "2024-08-04T11:44:38.624117Z",
     "iopub.status.idle": "2024-08-04T11:44:38.749991Z",
     "shell.execute_reply": "2024-08-04T11:44:38.749198Z",
     "shell.execute_reply.started": "2024-08-04T11:44:38.624461Z"
    }
   },
   "outputs": [],
   "source": [
    "import kaggle_environments\n",
    "env = kaggle_environments.make(environment=\"llm_20_questions\")\n",
    "# （\"No pygame installed\"というエラーは無視できます）"
   ]
  },
  {
   "cell_type": "markdown",
   "id": "ccf8a146",
   "metadata": {},
   "source": [
    "環境を初期化すると、当てるべきキーワードが設定されます。これを`kaggle_environments.envs.llm_20_questions.llm_20_questions.keyword`で確認したり変更したりすることができます。\n"
   ]
  },
  {
   "cell_type": "code",
   "execution_count": null,
   "metadata": {
    "execution": {
     "iopub.execute_input": "2024-08-04T11:44:38.751847Z",
     "iopub.status.busy": "2024-08-04T11:44:38.75156Z",
     "iopub.status.idle": "2024-08-04T11:44:38.757664Z",
     "shell.execute_reply": "2024-08-04T11:44:38.756676Z",
     "shell.execute_reply.started": "2024-08-04T11:44:38.751823Z"
    }
   },
   "outputs": [],
   "source": [
    "print(\"このセッションのキーワードは: \")\n",
    "print(kaggle_environments.envs.llm_20_questions.llm_20_questions.keyword)\n",
    "print(\" \")\n",
    "print(\"一部のキーワードには、受け入れられる代替推測（alts）のリストがあります。\")\n",
    "print(\"このセッションでは、altsのリストは:\")\n",
    "print(kaggle_environments.envs.llm_20_questions.llm_20_questions.alts)"
   ]
  },
  {
   "cell_type": "markdown",
   "id": "420a075f",
   "metadata": {},
   "source": [
    "# LLM 20 Questionsを実行する（デフォルト）\n",
    "\n",
    "作成した環境（`env`）でゲームを実行します。ゲームを実行する際は、4つのエージェントのリストを提出する必要があります：\n",
    "* \"Agent1\"（チーム1の推測者）、 \n",
    "* \"Agent2\"（チーム1の回答者）、 \n",
    "* \"Agent3\"（チーム2の推測者）、 \n",
    "* \"Agent4\"（チーム2の回答者）。 \n",
    "\n",
    "コンペティションでは、ランダムにチームメイトとペアになり、推測者または回答者の役割を果たします。\n",
    "\n",
    "（このコンペティションを始めた当初、私はエージェントがチームのために推測者と回答者の両方の役割を果たすと思い込んでいました。しかし、コンペティションでは他の誰かとペアになります。成功するか失敗するかは、ランダムなパートナーとの協力にかかっています。）\n"
   ]
  },
  {
   "cell_type": "code",
   "execution_count": null,
   "metadata": {
    "execution": {
     "iopub.execute_input": "2024-08-04T11:44:38.758939Z",
     "iopub.status.busy": "2024-08-04T11:44:38.758684Z",
     "iopub.status.idle": "2024-08-04T11:44:39.185557Z",
     "shell.execute_reply": "2024-08-04T11:44:39.184598Z",
     "shell.execute_reply.started": "2024-08-04T11:44:38.758917Z"
    }
   },
   "outputs": [],
   "source": [
    "%%time\n",
    "game_output = env.run(agents=[simple_agent1, simple_agent2, simple_agent3, simple_agent4])"
   ]
  },
  {
   "cell_type": "markdown",
   "id": "1371a277",
   "metadata": {},
   "source": [
    "この例では、シンプルなエージェントが即座に応答するため、ゲームはすぐに終了します。大規模なLLMをエージェントとして使用した実際のゲームでは、各ステップに1分かかることもあるので、総ゲーム時間は1時間に達する可能性があります。\n",
    "\n",
    "各ステップのデータは`game_output`で確認できます。\n",
    "\n",
    "ゲームを視覚的に観察したい場合は、レンダリングできます。\n"
   ]
  },
  {
   "cell_type": "code",
   "execution_count": null,
   "metadata": {
    "execution": {
     "iopub.execute_input": "2024-08-04T11:44:39.188108Z",
     "iopub.status.busy": "2024-08-04T11:44:39.187797Z",
     "iopub.status.idle": "2024-08-04T11:44:39.25925Z",
     "shell.execute_reply": "2024-08-04T11:44:39.258232Z",
     "shell.execute_reply.started": "2024-08-04T11:44:39.18807Z"
    }
   },
   "outputs": [],
   "source": [
    "env.render(mode=\"ipython\", width=600, height=500)"
   ]
  },
  {
   "cell_type": "markdown",
   "id": "9c0bfba3",
   "metadata": {},
   "source": [
    "# 提出するエージェントの作成\n",
    "\n",
    "コンペティションにエージェントを提出するには、エージェントのPythonコードを`main.py`というファイルに書き、それをサポートファイルと一緒に`submission.tar.gz`にまとめる必要があります。\n",
    "\n",
    "以下はシンプルな例です。もちろん、実際のコンペティションでは、公式スターターノートブック（https://www.kaggle.com/code/muhammadehsan000/llm-20-questions-starter）で使用されるようなリアルなLLMを利用することになるでしょう。ノートブックでLLMエージェントを実行するにはより多くの時間とメモリが必要ですので、プレイヤー1としてLLMエージェントをテストする場合、プレイヤー2にはシンプルなエージェントを置くことを検討してください。\n",
    "\n",
    "* `/kaggle/working/submission`というディレクトリを作成し、その中にサポートファイルを置くための`lib`というサブディレクトリを作成します。\n"
   ]
  },
  {
   "cell_type": "code",
   "execution_count": null,
   "metadata": {
    "execution": {
     "iopub.execute_input": "2024-08-04T11:44:39.260591Z",
     "iopub.status.busy": "2024-08-04T11:44:39.260314Z",
     "iopub.status.idle": "2024-08-04T11:44:39.266042Z",
     "shell.execute_reply": "2024-08-04T11:44:39.265141Z",
     "shell.execute_reply.started": "2024-08-04T11:44:39.260567Z"
    }
   },
   "outputs": [],
   "source": [
    "import os\n",
    "submission_directory = \"/kaggle/working/submission\"\n",
    "submission_subdirectory = \"lib\"\n",
    "\n",
    "# メインディレクトリが存在しない場合は作成\n",
    "if not os.path.exists(submission_directory):\n",
    "    os.mkdir(submission_directory)\n",
    "    subdirectory_path = os.path.join(submission_directory, submission_subdirectory)\n",
    "    os.mkdir(subdirectory_path)"
   ]
  },
  {
   "cell_type": "code",
   "execution_count": null,
   "metadata": {
    "execution": {
     "iopub.execute_input": "2024-08-04T11:44:39.267309Z",
     "iopub.status.busy": "2024-08-04T11:44:39.26701Z",
     "iopub.status.idle": "2024-08-04T11:44:39.275727Z",
     "shell.execute_reply": "2024-08-04T11:44:39.274693Z",
     "shell.execute_reply.started": "2024-08-04T11:44:39.267285Z"
    }
   },
   "outputs": [],
   "source": [
    "# libディレクトリに保存する例のファイルを作成\n",
    "import csv\n",
    "with open(os.path.join(subdirectory_path, \"example.csv\"), mode='w') as file:\n",
    "    writer = csv.writer(file)\n",
    "    writer.writerow([\"牛\", \"馬\"])"
   ]
  },
  {
   "cell_type": "markdown",
   "id": "1e95b68b",
   "metadata": {},
   "source": [
    "* エージェントのためのmain.pyのPythonコードを書く\n",
    "* 環境はmain.pyの最後の関数をエージェントとして使用します。この場合は`agent_fun()`です。\n"
   ]
  },
  {
   "cell_type": "code",
   "execution_count": null,
   "metadata": {
    "execution": {
     "iopub.execute_input": "2024-08-04T11:44:39.277407Z",
     "iopub.status.busy": "2024-08-04T11:44:39.277012Z",
     "iopub.status.idle": "2024-08-04T11:44:39.290427Z",
     "shell.execute_reply": "2024-08-04T11:44:39.289563Z",
     "shell.execute_reply.started": "2024-08-04T11:44:39.277376Z"
    }
   },
   "outputs": [],
   "source": [
    "%%writefile /kaggle/working/submission/main.py\n",
    "\n",
    "import os\n",
    "import sys\n",
    "import csv\n",
    "import random\n",
    "\n",
    "\n",
    "# 提出/libディレクトリに他のファイル（例：モデルの重み）を置く場合は、パスを設定する必要があります\n",
    "KAGGLE_COMPETITION_PATH = \"/kaggle_simulations/agent/\" # コンペティション用パス\n",
    "if os.path.exists(KAGGLE_COMPETITION_PATH):  # コンペティション内で実行している場合\n",
    "    subdirectory_path = os.path.join(KAGGLE_COMPETITION_PATH, \"lib\")\n",
    "else: # ノートブック内で実行している場合\n",
    "    subdirectory_path = os.path.join(\"/kaggle/working/submission/\", \"lib\")\n",
    "sys.path.insert(0, subdirectory_path)\n",
    "\n",
    "\n",
    "# 例のファイルをロードする\n",
    "with open(os.path.join(subdirectory_path, \"example.csv\"), mode='r') as file:\n",
    "    reader = csv.reader(file)\n",
    "    guess_list = list(reader)\n",
    "    guess_list = guess_list[0]\n",
    "\n",
    "# 例のファイルからランダムな「動物」をグローバル変数として設定\n",
    "animal = random.choice(guess_list)\n",
    "    \n",
    "# main.py内の最後の関数がエージェント関数となります\n",
    "def agent_fn(obs, cfg):\n",
    "    \n",
    "    # エージェントが推測者でturnTypeが\"ask\"の場合\n",
    "    if obs.turnType == \"ask\":\n",
    "        response = f'それは{animal}のようですか？'\n",
    "    # エージェントが推測者でturnTypeが\"guess\"の場合\n",
    "    elif obs.turnType == \"guess\":\n",
    "        if obs.answers[-1] == \"yes\":\n",
    "            response = animal\n",
    "        else:\n",
    "            response = \"ペンギン\"\n",
    "    # エージェントが回答者の場合\n",
    "    elif obs.turnType == \"answer\":\n",
    "        if obs.keyword in obs.questions[-1]:\n",
    "            response = \"yes\"\n",
    "        else:\n",
    "            response = \"no\"\n",
    "        \n",
    "    return response"
   ]
  },
  {
   "cell_type": "markdown",
   "id": "2d8a678a",
   "metadata": {},
   "source": [
    "この`main.py`ファイルとエージェントは、`/lib/example.csv`のサポートファイルと一緒に提出する準備が整いました。\n"
   ]
  },
  {
   "cell_type": "code",
   "execution_count": null,
   "metadata": {
    "execution": {
     "iopub.execute_input": "2024-08-04T11:44:39.292181Z",
     "iopub.status.busy": "2024-08-04T11:44:39.291728Z",
     "iopub.status.idle": "2024-08-04T11:44:46.946371Z",
     "shell.execute_reply": "2024-08-04T11:44:46.945156Z",
     "shell.execute_reply.started": "2024-08-04T11:44:39.29215Z"
    }
   },
   "outputs": [],
   "source": [
    "!apt install pigz pv > /dev/null\n",
    "!tar --use-compress-program='pigz --fast --recursive | pv' -cf submission.tar.gz -C /kaggle/working/submission ."
   ]
  },
  {
   "cell_type": "markdown",
   "id": "085cebcd",
   "metadata": {},
   "source": [
    "このJupyterノートブックから、Team 1の両方のプレイヤーとして`main.py`内のエージェントを実行することができ、Team 2にはsimple_agent3とsimple_agent4を使用します。\n"
   ]
  },
  {
   "cell_type": "code",
   "execution_count": null,
   "metadata": {
    "execution": {
     "iopub.execute_input": "2024-08-04T11:44:46.948394Z",
     "iopub.status.busy": "2024-08-04T11:44:46.948026Z",
     "iopub.status.idle": "2024-08-04T11:44:47.421039Z",
     "shell.execute_reply": "2024-08-04T11:44:47.420117Z",
     "shell.execute_reply.started": "2024-08-04T11:44:46.948366Z"
    }
   },
   "outputs": [],
   "source": [
    "game_output = env.run(agents=[\"/kaggle/working/submission/main.py\", \"/kaggle/working/submission/main.py\", simple_agent3, simple_agent4])\n",
    "env.render(mode=\"ipython\", width=600, height=500)"
   ]
  },
  {
   "cell_type": "markdown",
   "id": "10b25868",
   "metadata": {},
   "source": [
    "# デバッグのヒント\n",
    "\n",
    "設計やデバッグを行うときは、通常、環境を作成する際にいくつかのオプションの引数を変更したいと思います。これらには以下が含まれます：\n",
    "\n",
    "`env = make(environment, configuration=None, info=None, steps=None, logs=None, debug=False, state=None)`\n",
    "\n",
    "`env.specification`で仕様を確認して、環境内で定義された`configuration`や他のオブジェクトについて知ることができます。説明やデフォルト値も表示されます。\n",
    "\n",
    "新しいエージェントで作業する際は、短いエピソードを実行するために構成を変更し、`debug=True`に設定して、エージェントによって出力される詳細な情報を確認することをお勧めします。\n",
    "\n",
    "デバッグに適した新しい環境を以下に示します。\n"
   ]
  },
  {
   "cell_type": "code",
   "execution_count": null,
   "metadata": {
    "execution": {
     "iopub.execute_input": "2024-08-04T11:44:47.42522Z",
     "iopub.status.busy": "2024-08-04T11:44:47.424544Z",
     "iopub.status.idle": "2024-08-04T11:44:47.54417Z",
     "shell.execute_reply": "2024-08-04T11:44:47.543462Z",
     "shell.execute_reply.started": "2024-08-04T11:44:47.425186Z"
    }
   },
   "outputs": [],
   "source": [
    "# デバッグ用に、2ラウンドのみのゲームをプレイします\n",
    "debug_config = {'episodeSteps': 7,     # 初期ステップに加えて各ラウンドの3ステップ（ask/answer/guess）\n",
    "                'actTimeout': 5,       # 各ラウンドのエージェントの時間（デフォルトは60秒）\n",
    "                'runTimeout': 60,      # エピソードの最大時間（デフォルトは1200秒）\n",
    "                'agentTimeout': 3600}  # 廃止されたフィールド（デフォルトは3600）\n",
    "\n",
    "env = kaggle_environments.make(\"llm_20_questions\", configuration=debug_config, debug=True)"
   ]
  },
  {
   "cell_type": "markdown",
   "id": "f2e1353f",
   "metadata": {},
   "source": [
    "注意してください、セッションですでに当てるべきキーワードが設定されています。したがって別のゲームを実行すると、同じキーワードを当てることになります！\n"
   ]
  },
  {
   "cell_type": "code",
   "execution_count": null,
   "metadata": {
    "execution": {
     "iopub.execute_input": "2024-08-04T11:44:47.545562Z",
     "iopub.status.busy": "2024-08-04T11:44:47.54521Z",
     "iopub.status.idle": "2024-08-04T11:44:47.550129Z",
     "shell.execute_reply": "2024-08-04T11:44:47.549275Z",
     "shell.execute_reply.started": "2024-08-04T11:44:47.54553Z"
    }
   },
   "outputs": [],
   "source": [
    "print(kaggle_environments.envs.llm_20_questions.llm_20_questions.keyword)"
   ]
  },
  {
   "cell_type": "markdown",
   "id": "2184e668",
   "metadata": {},
   "source": [
    "デバッグ中にキーワードを手動で設定したり、キーワードリストからランダムに選択したりすることもできます。\n"
   ]
  },
  {
   "cell_type": "code",
   "execution_count": null,
   "metadata": {
    "execution": {
     "iopub.execute_input": "2024-08-04T11:44:47.551592Z",
     "iopub.status.busy": "2024-08-04T11:44:47.551287Z",
     "iopub.status.idle": "2024-08-04T11:44:47.559525Z",
     "shell.execute_reply": "2024-08-04T11:44:47.558731Z",
     "shell.execute_reply.started": "2024-08-04T11:44:47.551558Z"
    }
   },
   "outputs": [],
   "source": [
    "keyword = \"アヒル\"\n",
    "alts = [\"そのアヒル\",\"アヒル\"]\n",
    "kaggle_environments.envs.llm_20_questions.llm_20_questions.category = \"例\"\n",
    "kaggle_environments.envs.llm_20_questions.llm_20_questions.keyword_obj = {'keyword': keyword, 'alts': alts}\n",
    "kaggle_environments.envs.llm_20_questions.llm_20_questions.keyword = keyword\n",
    "kaggle_environments.envs.llm_20_questions.llm_20_questions.alts = alts"
   ]
  },
  {
   "cell_type": "markdown",
   "id": "51830a13",
   "metadata": {},
   "source": [
    "エージェントにデバッグ用の情報を印刷させることもできます。simple agent 1に`obs`の情報を表示するprint文を追加しました。\n"
   ]
  },
  {
   "cell_type": "code",
   "execution_count": null,
   "metadata": {
    "execution": {
     "iopub.execute_input": "2024-08-04T11:44:47.560853Z",
     "iopub.status.busy": "2024-08-04T11:44:47.560596Z",
     "iopub.status.idle": "2024-08-04T11:44:47.57073Z",
     "shell.execute_reply": "2024-08-04T11:44:47.569893Z",
     "shell.execute_reply.started": "2024-08-04T11:44:47.560831Z"
    }
   },
   "outputs": [],
   "source": [
    "def simple_verbose_agent1(obs, cfg):\n",
    "    \n",
    "    # エージェントが推測者でturnTypeが\"ask\"の場合\n",
    "    if obs.turnType == \"ask\":\n",
    "        response = \"それはアヒルですか？\"\n",
    "    # エージェントが推測者でturnTypeが\"guess\"の場合\n",
    "    elif obs.turnType == \"guess\":\n",
    "        response = \"アヒル\"\n",
    "    # エージェントが回答者の場合\n",
    "    elif obs.turnType == \"answer\":\n",
    "        response = \"いいえ\"\n",
    "    \n",
    "    # デバッグ情報を印刷\n",
    "    print(\"====================\")\n",
    "    print(f\"step = {obs.step}\")\n",
    "    print(f\"turnType = {obs.turnType}\")\n",
    "    print(\"obs =\")\n",
    "    print(obs)\n",
    "    print(\" \")\n",
    "    print(f'response = \"{response}\"')\n",
    "    \n",
    "    \n",
    "    return response"
   ]
  },
  {
   "cell_type": "markdown",
   "id": "28ffd415",
   "metadata": {},
   "source": [
    "このsimple_verbose_agent1をTeam 1の両方のプレイヤーとして使用すると、3つのターンタイプ（ask/guess/answer）の情報を観察できます。\n"
   ]
  },
  {
   "cell_type": "code",
   "execution_count": null,
   "metadata": {
    "execution": {
     "iopub.execute_input": "2024-08-04T11:44:47.571981Z",
     "iopub.status.busy": "2024-08-04T11:44:47.571748Z",
     "iopub.status.idle": "2024-08-04T11:44:47.691997Z",
     "shell.execute_reply": "2024-08-04T11:44:47.691127Z",
     "shell.execute_reply.started": "2024-08-04T11:44:47.571962Z"
    }
   },
   "outputs": [],
   "source": [
    "game_output = env.run(agents=[simple_verbose_agent1, simple_verbose_agent1, simple_agent3, \"/kaggle/working/submission/main.py\"])"
   ]
  },
  {
   "cell_type": "code",
   "execution_count": null,
   "metadata": {
    "execution": {
     "iopub.execute_input": "2024-08-04T11:44:47.693257Z",
     "iopub.status.busy": "2024-08-04T11:44:47.69298Z",
     "iopub.status.idle": "2024-08-04T11:44:47.703361Z",
     "shell.execute_reply": "2024-08-04T11:44:47.702405Z",
     "shell.execute_reply.started": "2024-08-04T11:44:47.693234Z"
    }
   },
   "outputs": [],
   "source": [
    "env.render(mode=\"ipython\", width=600, height=500)"
   ]
  }
 ],
 "metadata": {
  "kaggle": {
   "accelerator": "none",
   "dataSources": [
    {
     "databundleVersionId": 8550470,
     "sourceId": 61247,
     "sourceType": "competition"
    }
   ],
   "dockerImageVersionId": 30747,
   "isGpuEnabled": false,
   "isInternetEnabled": true,
   "language": "python",
   "sourceType": "notebook"
  },
  "kernelspec": {
   "display_name": "Python 3",
   "language": "python",
   "name": "python3"
  },
  "language_info": {
   "codemirror_mode": {
    "name": "ipython",
    "version": 3
   },
   "file_extension": ".py",
   "mimetype": "text/x-python",
   "name": "python",
   "nbconvert_exporter": "python",
   "pygments_lexer": "ipython3",
   "version": "3.10.13"
  }
 },
 "nbformat": 4,
 "nbformat_minor": 4
}
