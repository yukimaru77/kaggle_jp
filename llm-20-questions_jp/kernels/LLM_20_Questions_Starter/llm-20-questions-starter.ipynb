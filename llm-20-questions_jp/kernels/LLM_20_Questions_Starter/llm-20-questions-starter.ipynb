{
 "cells": [
  {
   "cell_type": "markdown",
   "id": "eae7623a",
   "metadata": {},
   "source": [
    "# 要約 \n",
    "このJupyter Notebookは、Kaggleの「LLM 20 Questions」コンペティションにおけるエージェントの作成と実行に関するものです。エージェントは、質問を通じてターゲットワードを推測するための戦略を持っています。\n",
    "\n",
    "### 取り組んでいる問題\n",
    "このノートブックは、「20の質問」ゲームを模倣した環境で、エージェントがターゲットワードを推測するプロセスをシミュレートすることを目的としています。シンプルなエージェントを複数作成し、それぞれが異なるカテゴリ（電子機器、食べ物、乗り物、国）についての質問を行うことを担います。\n",
    "\n",
    "### 使用している手法とライブラリ\n",
    "- **ライブラリ**: \n",
    "  - `numpy`: 数値計算に使用\n",
    "  - `pandas`: データ処理やファイル入出力に使用\n",
    "  - `kaggle_environments`: Kaggleの環境を作成し、シミュレーションを行うために使用\n",
    "\n",
    "- **エージェントの構造**:\n",
    "  - 各エージェントは、質問のターン、推測のターン、および回答のターンに対応する動作を持っています。これにより、ターゲットワードに関連する質問を無作為に選び、関連性に基づいて回答を生成します。\n",
    "\n",
    "- **動作**: \n",
    "  - `simple_agent1`, `simple_agent2`, `simple_agent3`, `simple_agent4`: それぞれ異なるカテゴリに基づいた質問を行い、関連性をチェックすることで、「はい」または「いいえ」で回答します。\n",
    "  - `is_related`関数を用いて、キーワードが特定のカテゴリに関連しているかどうかを確認します。\n",
    "\n",
    "- **ゲームの実行**: \n",
    "  - `kaggle_environments.make`を使ってゲーム環境を作成し、`env.run`によってエージェントを競わせるシミュレーションを行います。また、最終的にエージェントを提出するために必要なファイル構成を整える手順も含まれています。\n",
    "\n",
    "このノートブックは、エージェントの開発のための基本的なフレームワークを提供し、シンプルな戦略を用いて「20の質問」ゲームをプレイし、実施結果を確認することができます。\n",
    "\n",
    "---\n"
   ]
  },
  {
   "cell_type": "markdown",
   "id": "99c39533",
   "metadata": {},
   "source": [
    "# 用語概説 \n",
    "以下は、提供されたJupyter Notebookの内容に基づいて、初心者がつまずきそうな専門用語の解説です。\n",
    "\n",
    "1. **エージェント (Agent)**:\n",
    "   - ゲームやシミュレーションの中で行動をとる主体のこと。ここでは、質問をするエージェント（推測者）と回答するエージェント（回答者）を指します。このノートブックでは、複数のエージェントが競い合う形式で実装されています。\n",
    "\n",
    "2. **環境 (Environment)**:\n",
    "   - エージェントが相互作用するシステムのこと。ゲームのルールや条件が定義され、エージェントが入力を行い、出力を受け取ります。ここでは、Kaggleが提供する「llm_20_questions」という名のゲーム環境が使用されています。\n",
    "\n",
    "3. **obs (Observation)**:\n",
    "   - エージェントが現在の状態や状況を表すオブジェクト。このオブジェクトには、ターンの種類、過去の質問、過去の回答、推測されたキーワードなどの情報が含まれます。エージェントはこの情報を利用して次に取る行動を決定します。\n",
    "\n",
    "4. **cfg (Configuration)**:\n",
    "   - 環境やエージェントの設定情報を含むオブジェクト。具体的には、ゲームの進行に必要な設定やパラメータが格納されていますが、実際のノートブックでは詳細な使用は見られません。\n",
    "\n",
    "5. **ターン (Turn)**:\n",
    "   - ゲームの進行状況の単位で、エージェントが質問をしたり、推測をしたりする際の操作。ターンのタイプ（ask, guess, answer）によって、エージェントがどのような行動を取るべきかが決まります。\n",
    "\n",
    "6. **質問リスト (Questions List)**:\n",
    "   - エージェントが行う質問の選択肢が含まれたリスト。各エージェントは、自身の役割に合わせた質問をランダムに選択することで、ターゲットを特定しようとします。\n",
    "\n",
    "7. **代替推測 (Alternative Guesses)**:\n",
    "   - 提示されたキーワードに対して他の可能性のある候補を提示するリスト。これにより、エージェントは多様な推測を行い、ターゲットの特定を助けます。\n",
    "\n",
    "8. **Kaggle環境 (Kaggle Environment)**:\n",
    "   - Kaggle上で動作する競技用のプログラム環境。この特定のノートブックでは、KaggleのAPIを使用して、20の質問を扱うゲームが実装されています。\n",
    "\n",
    "9. **CSVファイル (CSV file)**:\n",
    "   - データをカンマ区切り形式で保存したファイル。ここでは、エージェントが候補を保持するために使用され、一般的にデータの入出力に利用されます。\n",
    "\n",
    "10. **サポートファイル (Support Files)**:\n",
    "    - 提出に必要な追加ファイルで、例えば、エージェントの動作に必要なデータや構成情報を含むファイルです。このノートブックでは、主にCSVファイルがサポートファイルとして利用されています。\n",
    "\n",
    "初心者の方がこれらの用語を理解すると、ノートブックの全体像や、エージェントの動作に対する理解が深まるでしょう。\n",
    "\n",
    "---\n"
   ]
  },
  {
   "cell_type": "code",
   "execution_count": null,
   "metadata": {
    "_cell_guid": "b1076dfc-b9ad-4769-8c92-a6c4dae69d19",
    "_uuid": "8f2839f25d086af736a60e9eeb907d3b93b6e0e5",
    "execution": {
     "iopub.execute_input": "2024-06-30T11:10:37.007149Z",
     "iopub.status.busy": "2024-06-30T11:10:37.006737Z",
     "iopub.status.idle": "2024-06-30T11:10:38.1373Z",
     "shell.execute_reply": "2024-06-30T11:10:38.135812Z",
     "shell.execute_reply.started": "2024-06-30T11:10:37.007119Z"
    }
   },
   "outputs": [],
   "source": [
    "# このPython 3環境には多くの便利な分析ライブラリがインストールされています\n",
    "# これはkaggle/python Dockerイメージによって定義されています: https://github.com/kaggle/docker-python\n",
    "# 例えば、ここではいくつかの便利なパッケージを読み込むことができます\n",
    "\n",
    "import numpy as np # 線形代数用のライブラリ\n",
    "import pandas as pd # データ処理用のライブラリ, CSVファイルの入出力（例えば、pd.read_csv）\n",
    "\n",
    "# 入力データファイルは読み取り専用の\"../input/\"ディレクトリにあります\n",
    "# 例えば、これを実行すると（実行ボタンをクリックするかShift+Enterを押すことで）、入力ディレクトリ内のすべてのファイルがリスト表示されます\n",
    "\n",
    "import os\n",
    "for dirname, _, filenames in os.walk('/kaggle/input'):\n",
    "    for filename in filenames:\n",
    "        print(os.path.join(dirname, filename)) # 各ファイルのフルパスを表示します\n",
    "\n",
    "# 現在のディレクトリ（/kaggle/working/）には最大20GBまで書き込むことができ、これは「すべて保存して実行」することで出力として保存されます\n",
    "# 一時ファイルは/kaggle/temp/に書き込むこともできますが、現在のセッション外では保存されません"
   ]
  },
  {
   "cell_type": "code",
   "execution_count": null,
   "metadata": {
    "execution": {
     "iopub.execute_input": "2024-06-30T12:02:23.166113Z",
     "iopub.status.busy": "2024-06-30T12:02:23.165581Z",
     "iopub.status.idle": "2024-06-30T12:02:23.183858Z",
     "shell.execute_reply": "2024-06-30T12:02:23.182617Z",
     "shell.execute_reply.started": "2024-06-30T12:02:23.166082Z"
    }
   },
   "outputs": [],
   "source": [
    "import random\n",
    "\n",
    "# キーワードがカテゴリーに関連しているかを確認するヘルパー関数\n",
    "def is_related(keyword, category_keywords):\n",
    "    return keyword.lower() in category_keywords # キーワードを小文字に変換して、カテゴリーキーワードに含まれているかを確認\n",
    "\n",
    "# カテゴリーキーワード\n",
    "electronics_keywords = {\"smartphone\", \"laptop\", \"tablet\", \"television\"} # 電子機器関連のキーワード\n",
    "food_keywords = {\"pizza\", \"burger\", \"sushi\", \"pasta\"} # 食べ物関連のキーワード\n",
    "vehicles_keywords = {\"car\", \"bike\", \"plane\", \"boat\"} # 乗り物関連のキーワード\n",
    "countries_keywords = {\"japan\", \"france\", \"brazil\", \"canada\"} # 国関連のキーワード\n",
    "\n",
    "def simple_agent1(obs, cfg):\n",
    "    electronics_questions = [ # 電子機器についての質問リスト\n",
    "        \"Is it a smartphone?\", \"Is it a laptop?\", \n",
    "        \"Is it a tablet?\", \"Is it a television?\"\n",
    "    ]\n",
    "    \n",
    "    if obs.turnType == \"ask\": \n",
    "        response = random.choice(electronics_questions) # 質問のターンの時には、ランダムに質問を選択\n",
    "    elif obs.turnType == \"guess\": \n",
    "        response = \"smartphone\"  # 推測のターンでは、現在はスマートフォンを推測\n",
    "    elif obs.turnType == \"answer\":\n",
    "        response = \"**yes**\" if is_related(obs.keyword, electronics_keywords) else \"**no**\" # 関連性を確認し、回答する\n",
    "    return response\n",
    "\n",
    "def simple_agent2(obs, cfg):\n",
    "    food_questions = [ # 食べ物についての質問リスト\n",
    "        \"Is it a pizza?\", \"Is it a burger?\", \n",
    "        \"Is it sushi?\", \"Is it pasta?\"\n",
    "    ]\n",
    "    \n",
    "    if obs.turnType == \"ask\": \n",
    "        response = random.choice(food_questions) # 質問のターンの時には、ランダムに質問を選択\n",
    "    elif obs.turnType == \"guess\": \n",
    "        response = \"pizza\"  # 推測のターンでは、現在はピザを推測\n",
    "    elif obs.turnType == \"answer\":\n",
    "        response = \"**yes**\" if is_related(obs.keyword, food_keywords) else \"**no**\" # 関連性を確認し、回答する\n",
    "    return response\n",
    "\n",
    "def simple_agent3(obs, cfg):\n",
    "    vehicle_questions = [ # 乗り物についての質問リスト\n",
    "        \"Is it a car?\", \"Is it a bike?\", \n",
    "        \"Is it a plane?\", \"Is it a boat?\"\n",
    "    ]\n",
    "    \n",
    "    if obs.turnType == \"ask\": \n",
    "        response = random.choice(vehicle_questions) # 質問のターンの時には、ランダムに質問を選択\n",
    "    elif obs.turnType == \"guess\": \n",
    "        response = \"car\"  # 推測のターンでは、現在は車を推測\n",
    "    elif obs.turnType == \"answer\":\n",
    "        response = \"**yes**\" if is_related(obs.keyword, vehicles_keywords) else \"**no**\" # 関連性を確認し、回答する\n",
    "    return response\n",
    "\n",
    "def simple_agent4(obs, cfg):\n",
    "    country_questions = [ # 国に関する質問リスト\n",
    "        \"Is it Japan?\", \"Is it France?\", \n",
    "        \"Is it Brazil?\", \"Is it Canada?\"\n",
    "    ]\n",
    "    \n",
    "    if obs.turnType == \"ask\": \n",
    "        response = random.choice(country_questions) # 質問のターンの時には、ランダムに質問を選択\n",
    "    elif obs.turnType == \"guess\": \n",
    "        response = \"Japan\"  # 推測のターンでは、現在は日本を推測\n",
    "    elif obs.turnType == \"answer\":\n",
    "        response = \"**yes**\" if is_related(obs.keyword, countries_keywords) else \"**no**\" # 関連性を確認し、回答する\n",
    "    return response"
   ]
  },
  {
   "cell_type": "code",
   "execution_count": null,
   "metadata": {},
   "outputs": [],
   "source": [
    "# このセルは空のコードセルです。必要に応じてコードを追加してください。"
   ]
  },
  {
   "cell_type": "markdown",
   "id": "468ab94b",
   "metadata": {},
   "source": [
    "# ゲーム環境の作成と構成\n",
    "\n",
    "Kaggle環境は、`make()`関数を使用して作成されます。このとき、*環境*の名前（`\"llm_20_questions\"`）と、*構成*や*情報*などのいくつかのオプションのデフォルトを指定します。コンペティションと同じようにゲームを実行したい場合は、デフォルトをそのまま使用すれば問題ありません。"
   ]
  },
  {
   "cell_type": "code",
   "execution_count": null,
   "metadata": {
    "execution": {
     "iopub.execute_input": "2024-06-30T12:00:57.041028Z",
     "iopub.status.busy": "2024-06-30T12:00:57.040585Z",
     "iopub.status.idle": "2024-06-30T12:00:57.187884Z",
     "shell.execute_reply": "2024-06-30T12:00:57.186401Z",
     "shell.execute_reply.started": "2024-06-30T12:00:57.040996Z"
    }
   },
   "outputs": [],
   "source": [
    "import kaggle_environments\n",
    "\n",
    "# Kaggle環境を作成するための関数を呼び出します\n",
    "env = kaggle_environments.make(environment=\"llm_20_questions\")\n",
    "# 「No pygame installed」というエラーは無視してもかまいません"
   ]
  },
  {
   "cell_type": "code",
   "execution_count": null,
   "metadata": {
    "execution": {
     "iopub.execute_input": "2024-06-30T12:03:58.125579Z",
     "iopub.status.busy": "2024-06-30T12:03:58.125025Z",
     "iopub.status.idle": "2024-06-30T12:03:58.133924Z",
     "shell.execute_reply": "2024-06-30T12:03:58.132183Z",
     "shell.execute_reply.started": "2024-06-30T12:03:58.125545Z"
    }
   },
   "outputs": [],
   "source": [
    "print(\"このセッションのキーワードは: \")\n",
    "print(kaggle_environments.envs.llm_20_questions.llm_20_questions.keyword) # セッションで使用されるキーワードを表示します\n",
    "print(\" \")\n",
    "print(\"一部のキーワードには、代替の推測（alts）のリストもあり、これも受け入れられます。\")\n",
    "print(\"このセッションの代替のリストは:\")\n",
    "print(kaggle_environments.envs.llm_20_questions.llm_20_questions.alts) # 代替の推測を表示します"
   ]
  },
  {
   "cell_type": "markdown",
   "id": "f4f57c7b",
   "metadata": {},
   "source": [
    "# LLM 20 Questionsの実行（デフォルト）\n",
    "\n",
    "作成した環境（`env`）を使用して、この環境でゲームを実行します。ゲームを実行する際には、4つのエージェントのリストを提出する必要があります：\n",
    "* \"Agent1\"（チーム1の推測者）、 \n",
    "* \"Agent2\"（チーム1の回答者）、 \n",
    "* \"Agent3\"（チーム2の推測者）、 \n",
    "* \"Agent4\"（チーム2の回答者）。 \n",
    "\n",
    "コンペティションでは、推測者か回答者のいずれかを担当するために、無作為にチームメイトとペアになります。"
   ]
  },
  {
   "cell_type": "code",
   "execution_count": null,
   "metadata": {
    "execution": {
     "iopub.execute_input": "2024-06-30T12:04:01.605235Z",
     "iopub.status.busy": "2024-06-30T12:04:01.60481Z",
     "iopub.status.idle": "2024-06-30T12:04:02.12006Z",
     "shell.execute_reply": "2024-06-30T12:04:02.118693Z",
     "shell.execute_reply.started": "2024-06-30T12:04:01.605203Z"
    }
   },
   "outputs": [],
   "source": [
    "%%time\n",
    "# ゲームを実行し、その結果をgame_outputに保存します\n",
    "# エージェントとして、simple_agent1, simple_agent2, simple_agent3, simple_agent4を使用します\n",
    "game_output = env.run(agents=[simple_agent1, simple_agent2, simple_agent3, simple_agent4])"
   ]
  },
  {
   "cell_type": "code",
   "execution_count": null,
   "metadata": {
    "execution": {
     "iopub.execute_input": "2024-06-30T12:04:05.322763Z",
     "iopub.status.busy": "2024-06-30T12:04:05.322363Z",
     "iopub.status.idle": "2024-06-30T12:04:05.397734Z",
     "shell.execute_reply": "2024-06-30T12:04:05.396281Z",
     "shell.execute_reply.started": "2024-06-30T12:04:05.322734Z"
    }
   },
   "outputs": [],
   "source": [
    "# 環境のレンダリングを行い、ゲームの進行状況を表示します\n",
    "# 表示モードは\"ipython\"、幅は600ピクセル、高さは500ピクセルに設定します\n",
    "env.render(mode=\"ipython\", width=600, height=500)"
   ]
  },
  {
   "cell_type": "markdown",
   "id": "ad341fdf",
   "metadata": {},
   "source": [
    "# 提出可能なエージェントの作成\n",
    "コンペティションにエージェントを提出するには、エージェントのPythonコードをmain.pyというファイルに書き、サポートファイルと一緒にsubmission.tar.gzにまとめる必要があります。\n",
    "\n",
    "以下は簡単な例です。もちろん、実際のコンペティションでは、公式のスターターノートブック（https://www.kaggle.com/code/ryanholbrook/llm-20-questions-starter-notebook）にあるような実際のLLMを使用することが望ましいです。ノートブックでLLMエージェントを実行すると、より多くの時間とメモリを要するため、プレイヤー1としてLLMエージェントをテストする場合、プレイヤー2にはシンプルなエージェントを使用することをお勧めします。"
   ]
  },
  {
   "cell_type": "code",
   "execution_count": null,
   "metadata": {
    "execution": {
     "iopub.execute_input": "2024-06-30T12:05:13.186819Z",
     "iopub.status.busy": "2024-06-30T12:05:13.186374Z",
     "iopub.status.idle": "2024-06-30T12:05:13.193505Z",
     "shell.execute_reply": "2024-06-30T12:05:13.192363Z",
     "shell.execute_reply.started": "2024-06-30T12:05:13.18679Z"
    }
   },
   "outputs": [],
   "source": [
    "import os\n",
    "\n",
    "# 提出用の主ディレクトリを指定\n",
    "submission_directory = \"/kaggle/working/submission\"\n",
    "submission_subdirectory = \"lib\"\n",
    "\n",
    "# 主ディレクトリが存在しない場合は作成します\n",
    "if not os.path.exists(submission_directory):\n",
    "    os.mkdir(submission_directory) # 主ディレクトリを作成\n",
    "    subdirectory_path = os.path.join(submission_directory, submission_subdirectory) # サブディレクトリのパスを設定\n",
    "    os.mkdir(subdirectory_path) # サブディレクトリを作成"
   ]
  },
  {
   "cell_type": "code",
   "execution_count": null,
   "metadata": {
    "execution": {
     "iopub.execute_input": "2024-06-30T12:06:27.039111Z",
     "iopub.status.busy": "2024-06-30T12:06:27.038579Z",
     "iopub.status.idle": "2024-06-30T12:06:27.049513Z",
     "shell.execute_reply": "2024-06-30T12:06:27.048207Z",
     "shell.execute_reply.started": "2024-06-30T12:06:27.039076Z"
    }
   },
   "outputs": [],
   "source": [
    "import os\n",
    "import csv\n",
    "\n",
    "# 主ディレクトリとサブディレクトリを定義します\n",
    "submission_directory = \"/kaggle/working/submission\"\n",
    "submission_subdirectory = \"lib\"\n",
    "\n",
    "# 主ディレクトリが存在しない場合は作成します\n",
    "if not os.path.exists(submission_directory):\n",
    "    os.mkdir(submission_directory)\n",
    "\n",
    "# サブディレクトリのフルパスを定義します\n",
    "subdirectory_path = os.path.join(submission_directory, submission_subdirectory)\n",
    "\n",
    "# サブディレクトリが存在しない場合は作成します\n",
    "if not os.path.exists(subdirectory_path):\n",
    "    os.mkdir(subdirectory_path)\n",
    "\n",
    "# libディレクトリに例のCSVファイルを作成します\n",
    "with open(os.path.join(subdirectory_path, \"example.csv\"), mode='w') as file:\n",
    "    writer = csv.writer(file)\n",
    "    writer.writerow([\"cow\", \"horse\"]) # CSVファイルに行を書き込みます"
   ]
  },
  {
   "cell_type": "code",
   "execution_count": null,
   "metadata": {},
   "outputs": [],
   "source": [
    "# このセルは空のコードセルです。必要に応じてコードを追加してください。"
   ]
  },
  {
   "cell_type": "markdown",
   "id": "58486835",
   "metadata": {},
   "source": [
    "* エージェントのためのmain.py Pythonコードを記述します\n",
    "* 環境はmain.pyの最後の関数をエージェントとして使用します。この場合は`agent_fun()`になります。"
   ]
  },
  {
   "cell_type": "code",
   "execution_count": null,
   "metadata": {
    "execution": {
     "iopub.execute_input": "2024-06-30T12:07:24.809724Z",
     "iopub.status.busy": "2024-06-30T12:07:24.809209Z",
     "iopub.status.idle": "2024-06-30T12:07:24.82231Z",
     "shell.execute_reply": "2024-06-30T12:07:24.820737Z",
     "shell.execute_reply.started": "2024-06-30T12:07:24.809689Z"
    }
   },
   "outputs": [],
   "source": [
    "%%writefile /kaggle/working/submission/main.py\n",
    "\n",
    "import os\n",
    "import sys\n",
    "import csv\n",
    "import random\n",
    "\n",
    "# 他のファイル（例えば、モデルの重み）を提出/libディレクトリに置く場合は、パスを設定する必要があります\n",
    "KAGGLE_COMPETITION_PATH = \"/kaggle_simulations/agent/\" # コンペティションパス\n",
    "if os.path.exists(KAGGLE_COMPETITION_PATH):  # コンペティション内で実行中の場合\n",
    "    subdirectory_path = os.path.join(KAGGLE_COMPETITION_PATH, \"lib\")\n",
    "else: # ノートブック内で実行中の場合\n",
    "    subdirectory_path = os.path.join(\"/kaggle/working/submission/\", \"lib\")\n",
    "sys.path.insert(0, subdirectory_path) # サブディレクトリのパスをシステムパスに追加\n",
    "\n",
    "# 例のファイルを読み込む\n",
    "with open(os.path.join(subdirectory_path,\"example.csv\"), mode='r') as file:\n",
    "    reader = csv.reader(file)\n",
    "    guess_list = list(reader) # CSVファイルの内容をリストに変換\n",
    "    guess_list = guess_list[0] # 最初の行を取得\n",
    "\n",
    "# 例のファイルからランダムに「動物」を選んでグローバル変数として設定\n",
    "animal = random.choice(guess_list)\n",
    "    \n",
    "# main.py内の最後の関数がエージェント関数となります\n",
    "def agent_fn(obs, cfg):\n",
    "    \n",
    "    # エージェントが推測者で、turnTypeが\"ask\"の場合\n",
    "    if obs.turnType == \"ask\":\n",
    "        response = f'それは{animal}のように見えますか？' # 質問を作成\n",
    "    # エージェントが推測者で、turnTypeが\"guess\"の場合\n",
    "    elif obs.turnType == \"guess\":\n",
    "        if obs.answers[-1] == \"yes\": # 直前の回答が\"yes\"の場合\n",
    "            response = animal # 以前に選んだ動物を推測\n",
    "        else:\n",
    "            response = \"penguin\" # 他の動物として\"penguin\"を推測\n",
    "    # エージェントが回答者の場合\n",
    "    elif obs.turnType == \"answer\":\n",
    "        if obs.keyword in obs.questions[-1]: # 直前の質問にキーワードが含まれているか確認\n",
    "            response = \"yes\" # 含まれていれば\"yes\"を返す\n",
    "        else:\n",
    "            response = \"no\" # 含まれていなければ\"no\"を返す\n",
    "        \n",
    "    return response # 最終的な応答を返す"
   ]
  },
  {
   "cell_type": "code",
   "execution_count": null,
   "metadata": {},
   "outputs": [],
   "source": [
    "# このセルは空のコードセルです。必要に応じてコードを追加してください。"
   ]
  },
  {
   "cell_type": "markdown",
   "id": "072e06cb",
   "metadata": {},
   "source": [
    "この`main.py`ファイルとエージェントは、`/lib/example.csv`サポートファイルと一緒に提出する準備が整いました。"
   ]
  },
  {
   "cell_type": "code",
   "execution_count": null,
   "metadata": {
    "execution": {
     "iopub.execute_input": "2024-06-30T12:07:49.775128Z",
     "iopub.status.busy": "2024-06-30T12:07:49.774204Z",
     "iopub.status.idle": "2024-06-30T12:07:54.400238Z",
     "shell.execute_reply": "2024-06-30T12:07:54.398813Z",
     "shell.execute_reply.started": "2024-06-30T12:07:49.775092Z"
    }
   },
   "outputs": [],
   "source": [
    "!apt install pigz pv > /dev/null # pigzとpvをインストールします\n",
    "!tar --use-compress-program='pigz --fast --recursive | pv' -cf submission.tar.gz -C /kaggle/working/submission . # submissionディレクトリを圧縮してsubmission.tar.gzを作成します"
   ]
  },
  {
   "cell_type": "code",
   "execution_count": null,
   "metadata": {
    "execution": {
     "iopub.execute_input": "2024-06-30T12:08:00.503074Z",
     "iopub.status.busy": "2024-06-30T12:08:00.502607Z",
     "iopub.status.idle": "2024-06-30T12:08:01.09092Z",
     "shell.execute_reply": "2024-06-30T12:08:01.089708Z",
     "shell.execute_reply.started": "2024-06-30T12:08:00.503039Z"
    }
   },
   "outputs": [],
   "source": [
    "# 提出したエージェントを使用してゲームを実行し、その結果をgame_outputに保存します\n",
    "# 同じmain.pyを使用してエージェントを2つ起動します\n",
    "game_output = env.run(agents=[\"/kaggle/working/submission/main.py\", \"/kaggle/working/submission/main.py\", simple_agent3, simple_agent4])\n",
    "# ゲームの進行状況を表示します\n",
    "env.render(mode=\"ipython\", width=600, height=500)"
   ]
  },
  {
   "cell_type": "code",
   "execution_count": null,
   "metadata": {},
   "outputs": [],
   "source": [
    "# このセルは空のコードセルです。必要に応じてコードを追加してください。"
   ]
  }
 ],
 "metadata": {
  "kaggle": {
   "accelerator": "none",
   "dataSources": [
    {
     "databundleVersionId": 8550470,
     "sourceId": 61247,
     "sourceType": "competition"
    }
   ],
   "dockerImageVersionId": 30732,
   "isGpuEnabled": false,
   "isInternetEnabled": true,
   "language": "python",
   "sourceType": "notebook"
  },
  "kernelspec": {
   "display_name": "Python 3",
   "language": "python",
   "name": "python3"
  },
  "language_info": {
   "codemirror_mode": {
    "name": "ipython",
    "version": 3
   },
   "file_extension": ".py",
   "mimetype": "text/x-python",
   "name": "python",
   "nbconvert_exporter": "python",
   "pygments_lexer": "ipython3",
   "version": "3.10.13"
  }
 },
 "nbformat": 4,
 "nbformat_minor": 4
}
