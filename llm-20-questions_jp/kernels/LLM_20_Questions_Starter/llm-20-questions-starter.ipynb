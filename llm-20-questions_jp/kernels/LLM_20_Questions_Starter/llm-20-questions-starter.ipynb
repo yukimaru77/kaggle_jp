{
 "cells": [
  {
   "cell_type": "markdown",
   "id": "c09f2c8f",
   "metadata": {},
   "source": [
    "# 要約 \n",
    "このJupyter Notebookでは、Kaggleの「20の質問」ゲームにおけるエージェントの開発と実行を目的としています。特に、4つの異なるエージェントを定義し、それらが様々なカテゴリ（電子機器、食品、乗り物、国）に関連する質問をランダムに生成し、ターゲットとなる単語を推測するプロセスに取り組んでいます。\n",
    "\n",
    "### 主な問題\n",
    "ノートブックは「20の質問」ゲームを模倣したエージェントの設計に関連しており、エージェントがどのようにしてターゲット単語を特定するために質問を行うか、またその回答によって次の質問を決定するかを扱っています。\n",
    "\n",
    "### 使用手法\n",
    "- **エージェントの実装**: 各エージェントは、特定のカテゴリーに対する質問を持ち、その質問に基づいてターゲットを絞り込むロジックを持っています。エージェントは「質問をする」、「推測する」、「回答する」というターンに応じて異なる行動を取ります。\n",
    "- **ヘルパー関数**: カテゴリのキーワードに対して関連付けを判断するための関数`is_related`が定義されています。これは、キーワードが特定のカテゴリーに関連しているかを評価するために使用されます。\n",
    "\n",
    "### 使用ライブラリ\n",
    "- **NumPy**: 数値計算に使用。\n",
    "- **Pandas**: データ処理とCSVファイルの操作に使用。\n",
    "- **Kaggle Environments**: ゲーム環境を作成し、エージェントを実行するために使用され、エージェントの推測や対戦の結果が収集されます。\n",
    "\n",
    "### 実行と提出準備\n",
    "ゲームの環境を作成し、定義されたエージェントを使用してゲームを実行し、その結果を可視化します。また、エージェントの実装コードを`main.py`ファイルに書き込み、提出用のアーカイブファイルを作成する準備を整えています。\n",
    "\n",
    "全体として、このノートブックは20の質問ゲームにおけるAIエージェントの設計と実行の流れを示しており、特に戦略的な質問と答えの生成に焦点を当てています。\n",
    "\n",
    "---\n"
   ]
  },
  {
   "cell_type": "markdown",
   "id": "ce9a9e80",
   "metadata": {},
   "source": [
    "# 用語概説 \n",
    "以下は、Jupyter Notebookからの内容を基に、機械学習・深層学習の初心者がつまずきそうな専門用語の解説リストです。比較的一般的な内容は含まず、特に実務経験が少ない人が理解しにくい用語に焦点を当てています。\n",
    "\n",
    "1. **エージェント (Agent)**:\n",
    "   - ゲームやシミュレーション環境内で決定を下すプログラムやモデルを指します。この場合、エージェントは質問を行ったり、回答を提供するためのロジックを持った関数です。\n",
    "\n",
    "2. **観測 (Observation)**:\n",
    "   - エージェントが環境から受け取る情報のこと。ゲームの進行や状態に応じて、現在のラウンドの情報を含みます。\n",
    "\n",
    "3. **ターン (Turn)**:\n",
    "   - ゲーム内での行動の単位で、エージェントが質問をしたり、回答をしたりする各ステップを指します。ターンの種類に応じて、エージェントの動作が変わります。\n",
    "\n",
    "4. **カテゴリキーワード (Category Keywords)**:\n",
    "   - 特定のテーマに関連した単語のリスト。例えば、電子機器カテゴリのキーワードには「スマートフォン」や「ラップトップ」があります。\n",
    "\n",
    "5. **環境 (Environment)**:\n",
    "   - エージェントが相互作用する領域やシステム。その動作やルールを定義し、エージェントが行動するための条件を提供します。この場合、ゲーム「20の質問」のルールを含みます。\n",
    "\n",
    "6. **デフォルト (Default)**:\n",
    "   - 何かを設定する際の初期状態や選択肢を指します。例えば、`make()`関数のデフォルトオプションを使用することで、簡略化された設定が可能です。\n",
    "\n",
    "7. **代替 (Alternates)**:\n",
    "   - 特定のキーワードに対する代替の推測候補を示すもの。例えば、あるキーワードに対し、複数の可能性を提示することで、エージェントがより効果的に推測できるようにします。\n",
    "\n",
    "8. **推測 (Guess)**:\n",
    "   - エージェントがターゲットとなる単語を特定するための推定を行う行為。正しい単語を当てるために仮説を立て、最終的な回答を行います。\n",
    "\n",
    "9. **ヘルパー関数 (Helper Function)**:\n",
    "   - メインのロジックを支援するために作成された関数。特定のタスクを簡素化し、再利用可能なコードを提供します。\n",
    "\n",
    "10. **ロジック (Logic)**:\n",
    "    - エージェントが質問を組み立てたり、推測を行ったりするための一連の判断基準や規則のこと。状態に応じて異なるアクションを取るための条件分岐を含むことが多いです。\n",
    "\n",
    "これらの解説は、特に初心者がつまずきやすい点をカバーしており、競技プログラミングや機械学習における用語の理解を助けるための参考になるでしょう。\n",
    "\n",
    "---\n"
   ]
  },
  {
   "cell_type": "code",
   "execution_count": null,
   "metadata": {
    "_cell_guid": "b1076dfc-b9ad-4769-8c92-a6c4dae69d19",
    "_uuid": "8f2839f25d086af736a60e9eeb907d3b93b6e0e5",
    "execution": {
     "iopub.execute_input": "2024-06-30T11:10:37.007149Z",
     "iopub.status.busy": "2024-06-30T11:10:37.006737Z",
     "iopub.status.idle": "2024-06-30T11:10:38.1373Z",
     "shell.execute_reply": "2024-06-30T11:10:38.135812Z",
     "shell.execute_reply.started": "2024-06-30T11:10:37.007119Z"
    }
   },
   "outputs": [],
   "source": [
    "# このPython 3環境には、多くの便利な解析ライブラリがインストールされています\n",
    "# これは、kaggle/python Dockerイメージによって定義されています: https://github.com/kaggle/docker-python\n",
    "# 例えば、ここではいくつかの便利なパッケージを読み込みます\n",
    "\n",
    "import numpy as np # 線形代数\n",
    "import pandas as pd # データ処理、CSVファイルの入出力 (例: pd.read_csv)\n",
    "\n",
    "# 入力データファイルは、読み取り専用の \"../input/\" ディレクトリにあります\n",
    "# 例えば、これを実行すると (実行するにはクリックするか Shift+Enter を押します)、入力ディレクトリ内のすべてのファイルをリストします\n",
    "\n",
    "import os\n",
    "for dirname, _, filenames in os.walk('/kaggle/input'):\n",
    "    for filename in filenames:\n",
    "        print(os.path.join(dirname, filename))\n",
    "\n",
    "# 現在のディレクトリ (/kaggle/working/) に最大20GBまで書き込むことができ、\"Save & Run All\" を使用してバージョンを作成すると出力として保存されます \n",
    "# 一時ファイルは /kaggle/temp/ に書き込むこともできますが、そのセッション外では保存されません"
   ]
  },
  {
   "cell_type": "code",
   "execution_count": null,
   "metadata": {
    "execution": {
     "iopub.execute_input": "2024-06-30T12:02:23.166113Z",
     "iopub.status.busy": "2024-06-30T12:02:23.165581Z",
     "iopub.status.idle": "2024-06-30T12:02:23.183858Z",
     "shell.execute_reply": "2024-06-30T12:02:23.182617Z",
     "shell.execute_reply.started": "2024-06-30T12:02:23.166082Z"
    }
   },
   "outputs": [],
   "source": [
    "import random\n",
    "\n",
    "# キーワードがカテゴリに関連しているかをチェックするヘルパー関数\n",
    "def is_related(keyword, category_keywords):\n",
    "    return keyword.lower() in category_keywords\n",
    "\n",
    "# カテゴリキーワード\n",
    "electronics_keywords = {\"スマートフォン\", \"ラップトップ\", \"タブレット\", \"テレビ\"}\n",
    "food_keywords = {\"ピザ\", \"バーガー\", \"寿司\", \"パスタ\"}\n",
    "vehicles_keywords = {\"車\", \"バイク\", \"飛行機\", \"ボート\"}\n",
    "countries_keywords = {\"日本\", \"フランス\", \"ブラジル\", \"カナダ\"}\n",
    "\n",
    "def simple_agent1(obs, cfg):\n",
    "    electronics_questions = [\n",
    "        \"それはスマートフォンですか?\", \"それはラップトップですか?\", \n",
    "        \"それはタブレットですか?\", \"それはテレビですか?\"\n",
    "    ]\n",
    "    \n",
    "    if obs.turnType == \"ask\": \n",
    "        response = random.choice(electronics_questions)\n",
    "    elif obs.turnType == \"guess\": \n",
    "        response = \"スマートフォン\"  # ここに改善されたロジックを追加できます\n",
    "    elif obs.turnType == \"answer\":\n",
    "        response = \"**はい**\" if is_related(obs.keyword, electronics_keywords) else \"**いいえ**\"\n",
    "    return response\n",
    "\n",
    "def simple_agent2(obs, cfg):\n",
    "    food_questions = [\n",
    "        \"それはピザですか?\", \"それはバーガーですか?\", \n",
    "        \"それは寿司ですか?\", \"それはパスタですか?\"\n",
    "    ]\n",
    "    \n",
    "    if obs.turnType == \"ask\": \n",
    "        response = random.choice(food_questions)\n",
    "    elif obs.turnType == \"guess\": \n",
    "        response = \"ピザ\"  # ここに改善されたロジックを追加できます\n",
    "    elif obs.turnType == \"answer\":\n",
    "        response = \"**はい**\" if is_related(obs.keyword, food_keywords) else \"**いいえ**\"\n",
    "    return response\n",
    "\n",
    "def simple_agent3(obs, cfg):\n",
    "    vehicle_questions = [\n",
    "        \"それは車ですか?\", \"それはバイクですか?\", \n",
    "        \"それは飛行機ですか?\", \"それはボートですか?\"\n",
    "    ]\n",
    "    \n",
    "    if obs.turnType == \"ask\": \n",
    "        response = random.choice(vehicle_questions)\n",
    "    elif obs.turnType == \"guess\": \n",
    "        response = \"車\"  # ここに改善されたロジックを追加できます\n",
    "    elif obs.turnType == \"answer\":\n",
    "        response = \"**はい**\" if is_related(obs.keyword, vehicles_keywords) else \"**いいえ**\"\n",
    "    return response\n",
    "\n",
    "def simple_agent4(obs, cfg):\n",
    "    country_questions = [\n",
    "        \"それは日本ですか?\", \"それはフランスですか?\", \n",
    "        \"それはブラジルですか?\", \"それはカナダですか?\"\n",
    "    ]\n",
    "    \n",
    "    if obs.turnType == \"ask\": \n",
    "        response = random.choice(country_questions)\n",
    "    elif obs.turnType == \"guess\": \n",
    "        response = \"日本\"  # ここに改善されたロジックを追加できます\n",
    "    elif obs.turnType == \"answer\":\n",
    "        response = \"**はい**\" if is_related(obs.keyword, countries_keywords) else \"**いいえ**\"\n",
    "    return response"
   ]
  },
  {
   "cell_type": "markdown",
   "id": "a7c08901",
   "metadata": {},
   "source": [
    "# ゲーム環境の作成と設定\n",
    "\n",
    "Kaggleの環境は、`make()`関数を使用して作成されます。ここでは、*環境*名 (`\"llm_20_questions\"`) と、いくつかのオプションのデフォルト（*構成*や*情報*など）を指定します。コンペティションと同じようにゲームを実行したい場合は、デフォルトをそのまま使用できます。\n"
   ]
  },
  {
   "cell_type": "code",
   "execution_count": null,
   "metadata": {
    "execution": {
     "iopub.execute_input": "2024-06-30T12:00:57.041028Z",
     "iopub.status.busy": "2024-06-30T12:00:57.040585Z",
     "iopub.status.idle": "2024-06-30T12:00:57.187884Z",
     "shell.execute_reply": "2024-06-30T12:00:57.186401Z",
     "shell.execute_reply.started": "2024-06-30T12:00:57.040996Z"
    }
   },
   "outputs": [],
   "source": [
    "import kaggle_environments\n",
    "env = kaggle_environments.make(environment=\"llm_20_questions\")\n",
    "# （「No pygame installed」というエラーは無視しても構いません）"
   ]
  },
  {
   "cell_type": "code",
   "execution_count": null,
   "metadata": {
    "execution": {
     "iopub.execute_input": "2024-06-30T12:03:58.125579Z",
     "iopub.status.busy": "2024-06-30T12:03:58.125025Z",
     "iopub.status.idle": "2024-06-30T12:03:58.133924Z",
     "shell.execute_reply": "2024-06-30T12:03:58.132183Z",
     "shell.execute_reply.started": "2024-06-30T12:03:58.125545Z"
    }
   },
   "outputs": [],
   "source": [
    "print(\"このセッションのキーワードは: \")\n",
    "print(kaggle_environments.envs.llm_20_questions.llm_20_questions.keyword)\n",
    "print(\" \")\n",
    "print(\"いくつかのキーワードには、代替の推測（alts）のリストもあります。\")\n",
    "print(\"このセッションの代替リストは:\")\n",
    "print(kaggle_environments.envs.llm_20_questions.llm_20_questions.alts)"
   ]
  },
  {
   "cell_type": "markdown",
   "id": "3a8691ee",
   "metadata": {},
   "source": [
    "# LLM 20 Questions の実行（デフォルト）\n",
    "\n",
    "作成した環境 (`env`) でゲームを実行します。ゲームを実行する際は、4つのエージェントのリストを提出する必要があります: \n",
    "* \"エージェント1\" （チーム1の推測者）、 \n",
    "* \"エージェント2\" （チーム1の回答者）、 \n",
    "* \"エージェント3\" （チーム2の推測者）、 \n",
    "* \"エージェント4\" （チーム2の回答者）。 \n",
    "\n",
    "コンペティションでは、ランダムに選ばれたチームメイトと対戦し、推測者または回答者のどちらかになります。\n"
   ]
  },
  {
   "cell_type": "code",
   "execution_count": null,
   "metadata": {
    "execution": {
     "iopub.execute_input": "2024-06-30T12:04:01.605235Z",
     "iopub.status.busy": "2024-06-30T12:04:01.60481Z",
     "iopub.status.idle": "2024-06-30T12:04:02.12006Z",
     "shell.execute_reply": "2024-06-30T12:04:02.118693Z",
     "shell.execute_reply.started": "2024-06-30T12:04:01.605203Z"
    }
   },
   "outputs": [],
   "source": [
    "%%time\n",
    "game_output = env.run(agents=[simple_agent1, simple_agent2, simple_agent3, simple_agent4])"
   ]
  },
  {
   "cell_type": "code",
   "execution_count": null,
   "metadata": {
    "execution": {
     "iopub.execute_input": "2024-06-30T12:04:05.322763Z",
     "iopub.status.busy": "2024-06-30T12:04:05.322363Z",
     "iopub.status.idle": "2024-06-30T12:04:05.397734Z",
     "shell.execute_reply": "2024-06-30T12:04:05.396281Z",
     "shell.execute_reply.started": "2024-06-30T12:04:05.322734Z"
    }
   },
   "outputs": [],
   "source": [
    "env.render(mode=\"ipython\", width=600, height=500)"
   ]
  },
  {
   "cell_type": "markdown",
   "id": "ffd422ac",
   "metadata": {},
   "source": [
    "# 提出可能なエージェントの作成\n",
    "コンペティションにエージェントを提出するには、エージェントのPythonコードをmain.pyというファイルに書き、そのファイルとサポートファイルをsubmission.tar.gzにまとめる必要があります。\n",
    "\n",
    "以下はシンプルな例です。もちろん、実際のコンペティションでは、公式のスターターノートブック（https://www.kaggle.com/code/ryanholbrook/llm-20-questions-starter-notebook）で示されているように、実際のLLMを使用することになるでしょう。ノートブックでLLMエージェントを実行するのは、時間とメモリがかかるため、テストとしてプレイヤー1にシンプルなエージェントを使用したい場面もあるでしょう。\n"
   ]
  },
  {
   "cell_type": "code",
   "execution_count": null,
   "metadata": {
    "execution": {
     "iopub.execute_input": "2024-06-30T12:05:13.186819Z",
     "iopub.status.busy": "2024-06-30T12:05:13.186374Z",
     "iopub.status.idle": "2024-06-30T12:05:13.193505Z",
     "shell.execute_reply": "2024-06-30T12:05:13.192363Z",
     "shell.execute_reply.started": "2024-06-30T12:05:13.18679Z"
    }
   },
   "outputs": [],
   "source": [
    "import os\n",
    "submission_directory = \"/kaggle/working/submission\"\n",
    "submission_subdirectory = \"lib\"\n",
    "# メインディレクトリが存在しない場合は作成\n",
    "if not os.path.exists(submission_directory):\n",
    "    os.mkdir(submission_directory)\n",
    "    subdirectory_path = os.path.join(submission_directory, submission_subdirectory)\n",
    "    os.mkdir(subdirectory_path)"
   ]
  },
  {
   "cell_type": "code",
   "execution_count": null,
   "metadata": {
    "execution": {
     "iopub.execute_input": "2024-06-30T12:06:27.039111Z",
     "iopub.status.busy": "2024-06-30T12:06:27.038579Z",
     "iopub.status.idle": "2024-06-30T12:06:27.049513Z",
     "shell.execute_reply": "2024-06-30T12:06:27.048207Z",
     "shell.execute_reply.started": "2024-06-30T12:06:27.039076Z"
    }
   },
   "outputs": [],
   "source": [
    "import os\n",
    "import csv\n",
    "\n",
    "# メインディレクトリとサブディレクトリを定義\n",
    "submission_directory = \"/kaggle/working/submission\"\n",
    "submission_subdirectory = \"lib\"\n",
    "\n",
    "# メインディレクトリが存在しない場合は作成\n",
    "if not os.path.exists(submission_directory):\n",
    "    os.mkdir(submission_directory)\n",
    "\n",
    "# サブディレクトリの完全なパスを定義\n",
    "subdirectory_path = os.path.join(submission_directory, submission_subdirectory)\n",
    "\n",
    "# サブディレクトリが存在しない場合は作成\n",
    "if not os.path.exists(subdirectory_path):\n",
    "    os.mkdir(subdirectory_path)\n",
    "\n",
    "# libディレクトリに例示用のCSVファイルを作成\n",
    "with open(os.path.join(subdirectory_path, \"example.csv\"), mode='w') as file:\n",
    "    writer = csv.writer(file)\n",
    "    writer.writerow([\"牛\", \"馬\"])"
   ]
  },
  {
   "cell_type": "markdown",
   "id": "0c812e11",
   "metadata": {},
   "source": [
    "* エージェントのためのmain.py Pythonコードを書く\n",
    "* 環境はmain.pyの最後の関数をエージェントとして使用します。この場合は`agent_fun()`です。\n",
    "\n"
   ]
  },
  {
   "cell_type": "code",
   "execution_count": null,
   "metadata": {
    "execution": {
     "iopub.execute_input": "2024-06-30T12:07:24.809724Z",
     "iopub.status.busy": "2024-06-30T12:07:24.809209Z",
     "iopub.status.idle": "2024-06-30T12:07:24.82231Z",
     "shell.execute_reply": "2024-06-30T12:07:24.820737Z",
     "shell.execute_reply.started": "2024-06-30T12:07:24.809689Z"
    }
   },
   "outputs": [],
   "source": [
    "%%writefile /kaggle/working/submission/main.py\n",
    "\n",
    "import os\n",
    "import sys\n",
    "import csv\n",
    "import random\n",
    "\n",
    "\n",
    "\n",
    "# 提出/libディレクトリに他のファイル（例：モデルの重み）を置く場合は、パスを設定する必要があります\n",
    "KAGGLE_COMPETITION_PATH = \"/kaggle_simulations/agent/\" # コンペティションパス\n",
    "if os.path.exists(KAGGLE_COMPETITION_PATH):  # コンペティション内で実行中の場合\n",
    "    subdirectory_path = os.path.join(KAGGLE_COMPETITION_PATH, \"lib\")\n",
    "else: # ノートブックで実行中の場合\n",
    "    subdirectory_path = os.path.join(\"/kaggle/working/submission/\", \"lib\")\n",
    "sys.path.insert(0, subdirectory_path)\n",
    "\n",
    "\n",
    "# 例示用ファイルを読み込む\n",
    "with open(os.path.join(subdirectory_path,\"example.csv\"), mode='r') as file:\n",
    "    reader = csv.reader(file)\n",
    "    guess_list = list(reader)\n",
    "    guess_list = guess_list[0]\n",
    "\n",
    "# 例示ファイルからランダムに選んだ\"動物\"をグローバル変数として設定\n",
    "animal = random.choice(guess_list)\n",
    "    \n",
    "# main.py の最後の関数がエージェント関数となります\n",
    "def agent_fn(obs, cfg):\n",
    "    \n",
    "    # エージェントが推測者で、turnType が \"ask\" の場合\n",
    "    if obs.turnType == \"ask\":\n",
    "        response = f'それは{animal}のように見えますか?'\n",
    "    # エージェントが推測者で、turnType が \"guess\" の場合\n",
    "    elif obs.turnType == \"guess\":\n",
    "        if obs.answers[-1]==\"yes\":\n",
    "            response = animal\n",
    "        else:\n",
    "            response = \"ペンギン\"\n",
    "    # エージェントが回答者の場合\n",
    "    elif obs.turnType == \"answer\":\n",
    "        if obs.keyword in obs.questions[-1]:\n",
    "            response = \"はい\"\n",
    "        else:\n",
    "            response = \"いいえ\"\n",
    "        \n",
    "    return response"
   ]
  },
  {
   "cell_type": "markdown",
   "id": "0aecc431",
   "metadata": {},
   "source": [
    "この`main.py`ファイルとエージェントは、`/lib/example.csv`サポートファイルと共に提出する準備が整いました。\n"
   ]
  },
  {
   "cell_type": "code",
   "execution_count": null,
   "metadata": {
    "execution": {
     "iopub.execute_input": "2024-06-30T12:07:49.775128Z",
     "iopub.status.busy": "2024-06-30T12:07:49.774204Z",
     "iopub.status.idle": "2024-06-30T12:07:54.400238Z",
     "shell.execute_reply": "2024-06-30T12:07:54.398813Z",
     "shell.execute_reply.started": "2024-06-30T12:07:49.775092Z"
    }
   },
   "outputs": [],
   "source": [
    "!apt install pigz pv > /dev/null\n",
    "!tar --use-compress-program='pigz --fast --recursive | pv' -cf submission.tar.gz -C /kaggle/working/submission ."
   ]
  },
  {
   "cell_type": "code",
   "execution_count": null,
   "metadata": {
    "execution": {
     "iopub.execute_input": "2024-06-30T12:08:00.503074Z",
     "iopub.status.busy": "2024-06-30T12:08:00.502607Z",
     "iopub.status.idle": "2024-06-30T12:08:01.09092Z",
     "shell.execute_reply": "2024-06-30T12:08:01.089708Z",
     "shell.execute_reply.started": "2024-06-30T12:08:00.503039Z"
    }
   },
   "outputs": [],
   "source": [
    "game_output = env.run(agents=[\"/kaggle/working/submission/main.py\", \"/kaggle/working/submission/main.py\", simple_agent3, simple_agent4])\n",
    "env.render(mode=\"ipython\", width=600, height=500)"
   ]
  }
 ],
 "metadata": {
  "kaggle": {
   "accelerator": "none",
   "dataSources": [
    {
     "databundleVersionId": 8550470,
     "sourceId": 61247,
     "sourceType": "competition"
    }
   ],
   "dockerImageVersionId": 30732,
   "isGpuEnabled": false,
   "isInternetEnabled": true,
   "language": "python",
   "sourceType": "notebook"
  },
  "kernelspec": {
   "display_name": "Python 3",
   "language": "python",
   "name": "python3"
  },
  "language_info": {
   "codemirror_mode": {
    "name": "ipython",
    "version": 3
   },
   "file_extension": ".py",
   "mimetype": "text/x-python",
   "name": "python",
   "nbconvert_exporter": "python",
   "pygments_lexer": "ipython3",
   "version": "3.10.13"
  }
 },
 "nbformat": 4,
 "nbformat_minor": 4
}
