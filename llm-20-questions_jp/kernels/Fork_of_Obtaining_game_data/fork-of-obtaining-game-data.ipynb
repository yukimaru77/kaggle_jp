{
 "cells": [
  {
   "cell_type": "markdown",
   "id": "d7d9b166",
   "metadata": {},
   "source": [
    "# 要約 \n",
    "このJupyter Notebookでは、Kaggleの「20の質問」ゲームのエピソードデータを収集し、分析することを目的としています。具体的には、各エピソードでの質問、回答、予測、及び関連するキーワードを取得し、それらのデータをデータフレームに整理して保存する手法が採用されています。\n",
    "\n",
    "### 問題のアプローチ\n",
    "1. **データ収集**:\n",
    "   - KaggleのURLからエピソードのJSONデータを取得するために、`requests`ライブラリを使用しています。\n",
    "   - 複数のエピソードIDに基づき、各エピソードのURLを生成し、そこからデータを収集します。\n",
    "\n",
    "2. **データ処理**:\n",
    "   - 収集したデータから質問、回答、予測、キーワードを抽出し、これらをリストに格納します。\n",
    "   - 最終的に、リストを利用してPandasのデータフレームを作成し、CSVファイルとして保存します。\n",
    "\n",
    "3. **データ分析**:\n",
    "   - 保存されたデータを基に、最も頻繁に聞かれた質問や、キーワードの発見に貢献した質問の頻度を分析します。\n",
    "   - 分析結果から、上位10件の質問を表示します。\n",
    "\n",
    "### 使用されるライブラリ\n",
    "- `requests`: HTTPリクエストを行うためのライブラリ。\n",
    "- `pandas`: データ操作と解析のための強力なライブラリで、データフレームの作成やCSVファイルへの保存を行います。\n",
    "\n",
    "### 結果\n",
    "ノートブックは、エピソードから正常にデータを抽出し、`20_questions_data.csv`というCSVファイルに保存したことを報告し、また、各質問の頻度や効率的な質問のリストも表示します。\n",
    "\n",
    "この取り組みにより、わかりやすくデータを整理するだけでなく、ゲームにおける質問戦略の分析も可能となります。\n",
    "\n",
    "---\n"
   ]
  },
  {
   "cell_type": "markdown",
   "id": "4460fc6b",
   "metadata": {},
   "source": [
    "# 用語概説 \n",
    "以下は、提供されたJupyter Notebookの内容に基づいて、初心者がつまずきそうな専門用語の簡単な解説です。特に、あまり馴染みがない用語や実務を経験していないと理解しにくいものを中心にしています。\n",
    "\n",
    "1. **HTTPリクエスト**:\n",
    "   ウェブサーバーに情報を要求するためのプロトコル。`GET`はサーバーからデータを取得するためのリクエストの一種。\n",
    "\n",
    "2. **JSON (JavaScript Object Notation)**:\n",
    "   データを軽量なテキスト形式で表現するためのフォーマット。データの受け渡しやAPI通信でよく使われる。\n",
    "\n",
    "3. **データフレーム**:\n",
    "   Pandasライブラリで提供される、2次元のラベル付きデータ構造。エクセルの表のような形式でデータを扱うことができる。\n",
    "\n",
    "4. **キーワード**:\n",
    "   データ分析や質問応答システムなどで特定の情報を示す言葉。ここではターゲットとなる言葉を指す。\n",
    "\n",
    "5. **観察データ (Observation Data)**:\n",
    "   何らかの実験や観察から得られるデータ。通常、変数の値や条件を含む。\n",
    "\n",
    "6. **イテレーション (Iteration)**:\n",
    "   特定のタスクを繰り返し実行するプロセス。ここでは、各エピソードのデータを処理する回数を指している。\n",
    "\n",
    "7. **フィルタリング (Filtering)**:\n",
    "   与えられた条件に基づいてデータを選別するプロセス。特定の条件を満たすデータのみを抽出することを指す。\n",
    "\n",
    "8. **頻度カウント**:\n",
    "   特定のデータの出現回数を数えること。データの傾向を把握するために使用される。\n",
    "\n",
    "9. **予測 (Guess)**:\n",
    "   提示された情報に基づいて、何らかの事象や結果を見込む行為。ここでは、質問に対する回答者の想定する単語を指す。\n",
    "\n",
    "10. **エピソード (Episode)**:\n",
    "    ここでは、特定の一連のイベントや試行を指す。コンペティションのルールに従ったゲームのプレイ単位を表す。\n",
    "\n",
    "これらの用語は、深層学習や機械学習の実務において頻繁に使用されることが多く、特に初心者にとっては理解が難しい場合があります。この解説が役に立つことを願っています。\n",
    "\n",
    "---\n"
   ]
  },
  {
   "cell_type": "code",
   "execution_count": null,
   "metadata": {
    "execution": {
     "iopub.execute_input": "2024-07-04T19:23:31.0128Z",
     "iopub.status.busy": "2024-07-04T19:23:31.012282Z",
     "iopub.status.idle": "2024-07-04T19:23:46.624809Z",
     "shell.execute_reply": "2024-07-04T19:23:46.623092Z",
     "shell.execute_reply.started": "2024-07-04T19:23:31.012755Z"
    }
   },
   "outputs": [],
   "source": [
    "# 必要なライブラリをインストールします\n",
    "# 'requests'はHTTPリクエストを簡単に行うためのライブラリです\n",
    "# 'pandas'はデータ操作や解析のための強力なライブラリです\n",
    "pip install requests pandas"
   ]
  },
  {
   "cell_type": "code",
   "execution_count": null,
   "metadata": {
    "execution": {
     "iopub.execute_input": "2024-07-04T19:51:52.094949Z",
     "iopub.status.busy": "2024-07-04T19:51:52.09383Z",
     "iopub.status.idle": "2024-07-04T19:52:32.823467Z",
     "shell.execute_reply": "2024-07-04T19:52:32.822183Z",
     "shell.execute_reply.started": "2024-07-04T19:51:52.094899Z"
    }
   },
   "outputs": [],
   "source": [
    "import requests  # URLからデータを取得するためのライブラリをインポートします\n",
    "import pandas as pd  # データフレームを操作するためのライブラリをインポートします\n",
    "\n",
    "# URLからJSONデータを読み込む関数\n",
    "def read_json_from_url(url):\n",
    "    response = requests.get(url)  # 指定したURLにGETリクエストを送信します\n",
    "    response.raise_for_status()  # 不正なレスポンスがあった場合は例外を発生させて知らせます\n",
    "    return response.json()  # レスポンスからJSONデータを取得します\n",
    "\n",
    "# データを格納するリスト\n",
    "data = []\n",
    "\n",
    "# ベースURL\n",
    "base_url = \"https://www.kaggleusercontent.com/episodes/\"\n",
    "\n",
    "# 各エピソードIDでループします\n",
    "for i in [55235305, 55177813, 55181874, 55054770]:\n",
    "    url = f\"{base_url}{i}.json\"  # 各エピソードのURLを作成します\n",
    "    json_data = read_json_from_url(url)  # URLからJSONデータを読み込みます\n",
    "    # キーと値のペアをイテレートします\n",
    "    auxVar1 = json_data['steps'][len(json_data['steps'])-1]  # 最後のステップを取得します\n",
    "    for i in range(len(auxVar1)):  # 最後のステップの各要素をループします\n",
    "        obs = dict(auxVar1[i])['observation']  # 観察データを取得します\n",
    "        if 'questions' in obs:  # 'questions'が存在する場合\n",
    "            for j in range(min(len(obs['questions']),len(obs['guesses']))):  # 質問と予測の最小長さでループします\n",
    "                data.append({  # データを追加します\n",
    "                    'iteration' : i+1,  # 何回目のイテレーションか\n",
    "                    'episode_id': json_data['info']['EpisodeId'],  # エピソードID\n",
    "                    'questions' : obs['questions'][j],  # 質問\n",
    "                    'answers'   : obs['answers'][j],  # 答え\n",
    "                    'guesses'   : obs['guesses'][j],  # 予測\n",
    "                    'keyword'   : obs['keyword']  # キーワード\n",
    "                })\n",
    "\n",
    "# DataFrameを作成します\n",
    "df = pd.DataFrame(data)  # リストからデータフレームを作成します\n",
    "df.to_csv('20_questions_data.csv', index=False)  # データフレームをCSVファイルに保存します\n",
    "\n",
    "print(\"データが正常に抽出され、'20_questions_data.csv'に保存されました。\")  # 処理完了のメッセージを表示します"
   ]
  },
  {
   "cell_type": "code",
   "execution_count": null,
   "metadata": {
    "execution": {
     "iopub.execute_input": "2024-07-04T19:52:32.82573Z",
     "iopub.status.busy": "2024-07-04T19:52:32.825337Z",
     "iopub.status.idle": "2024-07-04T19:52:32.84672Z",
     "shell.execute_reply": "2024-07-04T19:52:32.845427Z",
     "shell.execute_reply.started": "2024-07-04T19:52:32.825697Z"
    }
   },
   "outputs": [],
   "source": [
    "# データフレームの最初の数行を表示します\n",
    "print(df.head())\n",
    "\n",
    "# 各質問の頻度をカウントします\n",
    "question_counts = df['questions'].value_counts()\n",
    "\n",
    "# 最も頻繁に聞かれた質問を表示します\n",
    "print(\"最も頻繁に聞かれた質問:\")\n",
    "print(question_counts.head(10))  # 上位10件を表示します\n",
    "\n",
    "# 予測がキーワードと一致する行をフィルタリングします\n",
    "keyword_discovered = df[df['guesses'] == df['keyword']]\n",
    "\n",
    "# キーワードの発見につながった質問の頻度をカウントします\n",
    "discovery_question_counts = keyword_discovered['questions'].value_counts()\n",
    "\n",
    "# キーワードを発見するための最も効果的な質問を表示します\n",
    "print(\"キーワードを発見するための質問:\")\n",
    "print(discovery_question_counts.head(10))  # 上位10件を表示します"
   ]
  }
 ],
 "metadata": {
  "kaggle": {
   "accelerator": "none",
   "dataSources": [
    {
     "databundleVersionId": 8550470,
     "sourceId": 61247,
     "sourceType": "competition"
    }
   ],
   "dockerImageVersionId": 30732,
   "isGpuEnabled": false,
   "isInternetEnabled": true,
   "language": "python",
   "sourceType": "notebook"
  },
  "kernelspec": {
   "display_name": "Python 3",
   "language": "python",
   "name": "python3"
  },
  "language_info": {
   "codemirror_mode": {
    "name": "ipython",
    "version": 3
   },
   "file_extension": ".py",
   "mimetype": "text/x-python",
   "name": "python",
   "nbconvert_exporter": "python",
   "pygments_lexer": "ipython3",
   "version": "3.10.13"
  }
 },
 "nbformat": 4,
 "nbformat_minor": 4
}
