{
 "cells": [
  {
   "cell_type": "markdown",
   "id": "8b7e63c5",
   "metadata": {},
   "source": [
    "# 要約 \n",
    "このJupyter Notebookは、Kaggleのコンペティション「LLM 20 Questions」において、Gemmaモデルを使用するためのガイドラインを提供しています。初心者向けにステップバイステップでGemmaのセットアップと使用方法を説明しています。\n",
    "\n",
    "### 問題の概要\n",
    "本ノートブックは、Gemmaモデルを利用して「20の質問」ゲームをプレイするための準備作業に焦点を当てています。このゲームでは、プレイヤーがキーワードを思いつき、質問者が「はい」または「いいえ」で質問をし、キーワードを推測する形式です。Gemmaモデルを用いることで、より高度な推論や戦略的な質問が可能になります。\n",
    "\n",
    "### アプローチと手法\n",
    "ノートブックは以下の主要な手法とライブラリを使用しています：\n",
    "1. **Gemmaモデルの選定と設定**: Gemmaモデルは、`GemmaForCausalLM`クラスを使用して設定され、特定のバリアント（例えば、2bや7b）に基づいています。ユーザーは使用するモデルのバリアントに応じて設定を変更できます。\n",
    "\n",
    "2. **依存関係のインストール**: 必要なライブラリ（`immutabledict`や`sentencepiece`など）をインストールし、GemmaのPyTorch実装をダウンロードしてビルディングします。\n",
    "\n",
    "3. **モデルのロードとトークナイザーの設定**: PyTorchとGemmaのコンフィギュレーションを活用してロードされたモデルにプロンプトを入力し、ユーザーが指定した設定（デバイスやモデルバリアントなど）に従ってモデルを初期化します。\n",
    "\n",
    "4. **質問応答（QA）機能の実装**: `generate`メソッドを使って、モデルに対して質問を送信し、その回答を出力します。プロンプトエンジニアリング（指示チューニング）もサポートされており、特に「20の質問ゲーム」を意識したプロンプトの準備を行います。\n",
    "\n",
    "### 使用されているライブラリとツール\n",
    "- **PyTorch**: 深層学習モデルを扱うための主なライブラリ。\n",
    "- **Gemma**: 質問応答や自然言語処理タスクに利用されるモデル。\n",
    "- **Git**: Gemmaのコードをクローンするために使用される。\n",
    "\n",
    "このノートブックは、Gemmaを「20の質問」ゲームで利用するための入門資料として非常に有用であり、読み手がGemmaの導入からモデルの活用までの過程を理解できるように構成されています。\n",
    "\n",
    "---\n"
   ]
  },
  {
   "cell_type": "markdown",
   "id": "eb788195",
   "metadata": {},
   "source": [
    "# 用語概説 \n",
    "以下は、提供されたJupyterノートブックに出てくる専門用語や特有のドメイン知識に関する説明です。機械学習・深層学習に関する基礎的な知識を持つ初心者を対象に、特に難しいと感じられる可能性のある用語に焦点を当てています。\n",
    "\n",
    "1. **Gemmaモデル**: Googleが開発した言語モデルで、特定のタスク向けに設計されたさまざまなバリアントが存在します。このノートブックでは、特に「Causal LM」(因果言語モデル)としてのGemmaが紹介されています。\n",
    "\n",
    "2. **Causal LM**: この用語は、モデルがこれまでの文脈を基に次の単語を生成することができるという意味です。つまり、前の単語が次の単語の生成に影響を与えるモデルのことを指します。\n",
    "\n",
    "3. **トークナイザー**: テキストをコンピュータが理解できる形式（トークン）に変換するためのツールです。特に自然言語処理では、文章を単語やサブワード、文字などの単位に分割します。\n",
    "\n",
    "4. **プロンプトエンジニアリング**: モデルに対して適切な入力（プロンプト）を作成する技術です。この技術により、モデルの応答の質を向上させることができます。\n",
    "\n",
    "5. **指示チューニング**: モデルが特定の指示に従って予測や出力を生成する能力を高めるための手法です。これはプロンプトに特定の条件や文脈を与えることで行われます。\n",
    "\n",
    "6. **温度 (temperature)**: モデルの生成する確率分布の「ランダム性」を制御するパラメータです。値が低いほど、モデルは高確率の単語を優先するようになり（より決定的な応答）、高いと多様な出力を生成します。\n",
    "\n",
    "7. **top_p (核サンプリング)**: 出力の中で、累積確率がtop_pに達するまでの最も高い確率の単語群からサンプリングする手法です。これにより、候補の多様性を持ちながら適切な単語を選ぶことができます。\n",
    "\n",
    "8. **top_k**: 予測する際に考慮する上位k個の単語を選択する手法です。これは、モデルの出力の中から最も確からしいk個を選択することで、生成されるテキストの質を保つ役割があります。\n",
    "\n",
    "9. **重み (weights)**: ニューラルネットワーク内の各接続に付与されるパラメータであり、学習により最適化される数値です。重みは、モデルが入力に対して適切な出力を生成するための重要な要素です。\n",
    "\n",
    "10. **評価モード (eval mode)**: モデルを評価する際の特定の状態で、通常はドロップアウトなどの特有の技術が無効になります。このモードは訓練済みモデルが正確に推論できるようにするために重要です。\n",
    "\n",
    "---\n"
   ]
  },
  {
   "cell_type": "markdown",
   "id": "27e383ae",
   "metadata": {},
   "source": [
    "このノートブックは、KaggleでGemmaを使用することに新しい方のためのものです。  \n",
    "手順に従って、使い方を説明していきましょう。\n",
    "\n",
    "**謝辞**  \n",
    "このノートブックは、[LLM 20 Questions Starter Notebook](https://www.kaggle.com/code/ryanholbrook/llm-20-questions-starter-notebook)に基づいています。\n",
    "\n",
    "始める前に、GPUのセットアップを確認してください。\n",
    "\n",
    "<img width=\"400px\" src=attachment:9319be98-0139-41f9-a741-6b606b7cadc6.png>\n",
    "\n",
    "---\n",
    "\n",
    "## Gemmaモデルを追加\n",
    "\n",
    "1. `+ Add Input`ボタンをクリックします。\n",
    "<img src=attachment:6dabe5ed-9e7e-437b-be73-ee0c3b3a2afe.png width=\"400\">\n",
    "\n",
    "2. `Gemma`モデルを検索します。\n",
    "<img src=attachment:68d9d1fa-84f4-4c37-acf9-f5cb2b825fcb.png width=\"400\">\n",
    "\n",
    "3. パラメータを設定します。 (*2b-it*を使用しましたが、*7b*はテストを早く実行するには遅すぎるため)\n",
    "<img src=attachment:c7f1744e-08df-4ba7-ab61-4b0cd4e4e6fd.png width=\"400\">\n",
    "\n",
    "4. モデルが追加されたのを確認できます。\n",
    "<img src=attachment:056f294d-eee3-4bbb-b68b-6bc991a9c746.png width=\"400\">\n"
   ]
  },
  {
   "cell_type": "code",
   "execution_count": null,
   "metadata": {
    "execution": {
     "iopub.execute_input": "2024-07-12T06:20:28.755136Z",
     "iopub.status.busy": "2024-07-12T06:20:28.754795Z",
     "iopub.status.idle": "2024-07-12T06:20:28.781595Z",
     "shell.execute_reply": "2024-07-12T06:20:28.780519Z",
     "shell.execute_reply.started": "2024-07-12T06:20:28.755109Z"
    }
   },
   "outputs": [],
   "source": [
    "%%bash\n",
    "# 入力ファイルは `/kaggle/input` ディレクトリにあります。\n",
    "tree /kaggle/input/gemma/pytorch"
   ]
  },
  {
   "cell_type": "markdown",
   "id": "8bad04e3",
   "metadata": {},
   "source": [
    "# Gemmaを使用するための設定\n",
    "\n",
    "Gemmaモデルを使用するには、いくつかの設定が必要です。\n",
    "\n",
    "## 依存関係のインストール\n"
   ]
  },
  {
   "cell_type": "code",
   "execution_count": null,
   "metadata": {
    "execution": {
     "iopub.execute_input": "2024-07-12T06:22:35.489033Z",
     "iopub.status.busy": "2024-07-12T06:22:35.48834Z",
     "iopub.status.idle": "2024-07-12T06:22:50.198234Z",
     "shell.execute_reply": "2024-07-12T06:22:50.197376Z",
     "shell.execute_reply.started": "2024-07-12T06:22:35.489002Z"
    }
   },
   "outputs": [],
   "source": [
    "%%bash\n",
    "# `/kaggle/working/submission/lib` ディレクトリに Python パッケージをインストールします。\n",
    "mkdir -p /kaggle/working/submission/lib\n",
    "pip install -q -U -t /kaggle/working/submission/lib immutabledict sentencepiece\n",
    "\n",
    "# `gemma_pytorch`をダウンロードし、それを `/kaggle/working/submission/lib` ディレクトリに移動します。\n",
    "cd /kaggle/working\n",
    "git clone https://github.com/google/gemma_pytorch.git > /dev/null\n",
    "mkdir /kaggle/working/submission/lib/gemma/\n",
    "mv /kaggle/working/gemma_pytorch/gemma/* /kaggle/working/submission/lib/gemma/"
   ]
  },
  {
   "cell_type": "code",
   "execution_count": null,
   "metadata": {
    "execution": {
     "iopub.execute_input": "2024-07-12T06:22:51.821292Z",
     "iopub.status.busy": "2024-07-12T06:22:51.820345Z",
     "iopub.status.idle": "2024-07-12T06:22:51.862287Z",
     "shell.execute_reply": "2024-07-12T06:22:51.861431Z",
     "shell.execute_reply.started": "2024-07-12T06:22:51.821259Z"
    }
   },
   "outputs": [],
   "source": [
    "%%bash\n",
    "# 結果を確認できます。\n",
    "tree /kaggle/working/submission/lib"
   ]
  },
  {
   "cell_type": "code",
   "execution_count": null,
   "metadata": {
    "execution": {
     "iopub.execute_input": "2024-07-12T06:25:49.971923Z",
     "iopub.status.busy": "2024-07-12T06:25:49.971287Z",
     "iopub.status.idle": "2024-07-12T06:25:49.976324Z",
     "shell.execute_reply": "2024-07-12T06:25:49.975257Z",
     "shell.execute_reply.started": "2024-07-12T06:25:49.971892Z"
    }
   },
   "outputs": [],
   "source": [
    "import sys\n",
    "\n",
    "# ライブラリを使用するために、`/kaggle/working/submission/lib` ディレクトリにモジュールパスを追加します。\n",
    "sys.path.insert(0, \"/kaggle/working/submission/lib\")"
   ]
  },
  {
   "cell_type": "markdown",
   "id": "6fd14afe",
   "metadata": {},
   "source": [
    "## Gemmaモデルのロード\n"
   ]
  },
  {
   "cell_type": "code",
   "execution_count": null,
   "metadata": {
    "execution": {
     "iopub.execute_input": "2024-07-12T06:35:36.82969Z",
     "iopub.status.busy": "2024-07-12T06:35:36.829336Z",
     "iopub.status.idle": "2024-07-12T06:35:36.835864Z",
     "shell.execute_reply": "2024-07-12T06:35:36.834928Z",
     "shell.execute_reply.started": "2024-07-12T06:35:36.829661Z"
    }
   },
   "outputs": [],
   "source": [
    "import torch\n",
    "from gemma.config import get_config_for_7b, get_config_for_2b\n",
    "from gemma.model import GemmaForCausalLM\n",
    "\n",
    "# グローバルパラメータを設定\n",
    "DEVICE = \"cuda:0\" if torch.cuda.is_available() else \"cpu\"  # 使用可能なGPUをチェック\n",
    "VARIANT = \"2b-it\"\n",
    "# VARIANT = \"7b-it-quant\"\n",
    "WEIGHTS_PATH = f\"/kaggle/input/gemma/pytorch/{VARIANT}/2\" # 入力モデルパス\n",
    "\n",
    "print(\"現在のデバイスは\", DEVICE)\n",
    "print(\"現在のGemmaモデルのバリアントは\", VARIANT)"
   ]
  },
  {
   "cell_type": "code",
   "execution_count": null,
   "metadata": {
    "execution": {
     "iopub.execute_input": "2024-07-12T06:35:37.114006Z",
     "iopub.status.busy": "2024-07-12T06:35:37.113721Z",
     "iopub.status.idle": "2024-07-12T06:35:40.834872Z",
     "shell.execute_reply": "2024-07-12T06:35:40.833859Z",
     "shell.execute_reply.started": "2024-07-12T06:35:37.113984Z"
    }
   },
   "outputs": [],
   "source": [
    "# モデル設定を行います\n",
    "def get_model_config(variant):\n",
    "    if \"2b\" in variant:\n",
    "        return get_config_for_2b()  # 2bモデルの設定を取得\n",
    "    if \"7b\" in variant:\n",
    "        return get_config_for_7b()  # 7bモデルの設定を取得\n",
    "    raise ValueError(f\"サポートされていないバリアント - {variant}\")\n",
    "model_config = get_model_config(VARIANT)  # 指定されたバリアントの設定を取得\n",
    "model_config.tokenizer = f\"{WEIGHTS_PATH}/tokenizer.model\"  # トークナイザーのパスを設定\n",
    "model_config.quant = \"quant\" in VARIANT  # バリアントに\"quant\"が含まれているか確認\n",
    "torch.set_default_dtype(model_config.get_dtype())  # デフォルトのデータ型を設定\n",
    "\n",
    "# Gemmaモデルを読み込む\n",
    "gemma_model = GemmaForCausalLM(model_config)  # Causal LMモデルを初期化\n",
    "gemma_model.load_weights(f\"{WEIGHTS_PATH}/gemma-{VARIANT}.ckpt\")  # 重みをロード\n",
    "gemma_model = gemma_model.to(DEVICE).eval()  # モデルを指定デバイスに移動し評価モードに設定"
   ]
  },
  {
   "cell_type": "markdown",
   "id": "e3c71b36",
   "metadata": {},
   "source": [
    "## Gemmaの使用\n",
    "\n",
    "### シンプルなQA\n",
    "\n",
    "`generate`メソッドを使用してモデルを利用できます。\n"
   ]
  },
  {
   "cell_type": "code",
   "execution_count": null,
   "metadata": {
    "execution": {
     "iopub.execute_input": "2024-07-12T06:37:45.814383Z",
     "iopub.status.busy": "2024-07-12T06:37:45.813806Z",
     "iopub.status.idle": "2024-07-12T06:37:48.814026Z",
     "shell.execute_reply": "2024-07-12T06:37:48.813056Z",
     "shell.execute_reply.started": "2024-07-12T06:37:45.814353Z"
    }
   },
   "outputs": [],
   "source": [
    "prompt = \"使い方を教えてください。\"\n",
    "\n",
    "model_answer = gemma_model.generate(\n",
    "    prompts=prompt,\n",
    "    device=torch.device(DEVICE),\n",
    "    output_len=100, # 最大出力トークン数\n",
    "    temperature=0.01,\n",
    "    top_p=0.1,\n",
    "    top_k=1,\n",
    ")\n",
    "\n",
    "print(model_answer)  # モデルの回答を出力"
   ]
  },
  {
   "cell_type": "markdown",
   "id": "1285f4cd",
   "metadata": {},
   "source": [
    "### 指示チューニングによるQA\n",
    "\n",
    "指示チューニングを使用してプロンプトエンジニアリングを行うことができます。  \n",
    "詳細については、[Starter Notebook](https://www.kaggle.com/code/ryanholbrook/llm-20-questions-starter-notebook)の`GemmaFormatter`クラスを参照してください。\n",
    "\n",
    "参考: https://ai.google.dev/gemma/docs/formatting\n"
   ]
  },
  {
   "cell_type": "code",
   "execution_count": null,
   "metadata": {
    "execution": {
     "iopub.execute_input": "2024-07-12T06:44:23.61528Z",
     "iopub.status.busy": "2024-07-12T06:44:23.614886Z",
     "iopub.status.idle": "2024-07-12T06:44:23.621332Z",
     "shell.execute_reply": "2024-07-12T06:44:23.620262Z",
     "shell.execute_reply.started": "2024-07-12T06:44:23.615248Z"
    }
   },
   "outputs": [],
   "source": [
    "system_prompt = \"あなたは20質問ゲームをプレイするために設計されたAIアシスタントです。このゲームでは、回答者がキーワードを思いつき、質問者がはいまたはいいえの質問に答えます。キーワードは特定の人物、場所、または物です。\"\n",
    "\n",
    "prompt = \"<start_of_turn>user\\n\" # GemmaFormatter.user\n",
    "prompt += f\"{system_prompt}<end_of_turn>\\n\"  # システムプロンプトを追加\n",
    "prompt += \"<start_of_turn>model\\n\" # GemmaFormatter.start_model_turn\n",
    "\n",
    "print(prompt)  # プロンプトを出力"
   ]
  },
  {
   "cell_type": "code",
   "execution_count": null,
   "metadata": {
    "execution": {
     "iopub.execute_input": "2024-07-12T06:44:23.858165Z",
     "iopub.status.busy": "2024-07-12T06:44:23.857815Z",
     "iopub.status.idle": "2024-07-12T06:44:26.954729Z",
     "shell.execute_reply": "2024-07-12T06:44:26.953599Z",
     "shell.execute_reply.started": "2024-07-12T06:44:23.858138Z"
    }
   },
   "outputs": [],
   "source": [
    "model_answer = gemma_model.generate(\n",
    "    prompts=prompt,\n",
    "    device=torch.device(DEVICE),\n",
    "    output_len=100, # 最大出力トークン数\n",
    "    temperature=0.01,\n",
    "    top_p=0.1,\n",
    "    top_k=1,\n",
    ")\n",
    "\n",
    "print(model_answer)  # モデルの回答を出力"
   ]
  },
  {
   "cell_type": "markdown",
   "id": "3032da23",
   "metadata": {},
   "source": [
    "---\n",
    "\n",
    "これで、Gemmaモデルをコンペティションで利用する方法が理解できたことを願っています。  \n",
    "このノートブックがスターターノートブックを理解するのに役立ちますように。"
   ]
  }
 ],
 "metadata": {
  "kaggle": {
   "accelerator": "nvidiaTeslaT4",
   "dataSources": [
    {
     "databundleVersionId": 8550470,
     "sourceId": 61247,
     "sourceType": "competition"
    },
    {
     "isSourceIdPinned": true,
     "modelInstanceId": 5383,
     "sourceId": 11358,
     "sourceType": "modelInstanceVersion"
    }
   ],
   "dockerImageVersionId": 30733,
   "isGpuEnabled": true,
   "isInternetEnabled": true,
   "language": "python",
   "sourceType": "notebook"
  },
  "kernelspec": {
   "display_name": "Python 3",
   "language": "python",
   "name": "python3"
  },
  "language_info": {
   "codemirror_mode": {
    "name": "ipython",
    "version": 3
   },
   "file_extension": ".py",
   "mimetype": "text/x-python",
   "name": "python",
   "nbconvert_exporter": "python",
   "pygments_lexer": "ipython3",
   "version": "3.10.13"
  }
 },
 "nbformat": 4,
 "nbformat_minor": 4
}
