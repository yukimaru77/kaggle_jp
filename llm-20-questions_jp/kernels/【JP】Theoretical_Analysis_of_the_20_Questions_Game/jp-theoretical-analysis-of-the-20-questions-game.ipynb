{
 "cells": [
  {
   "cell_type": "markdown",
   "id": "682b71ae",
   "metadata": {},
   "source": [
    "# 要約 \n",
    "このJupyter Notebookは、「20Questions」ゲームのシミュレーションを通じて勝利確率を計算し、ゲームの戦略を理解することを目的としています。具体的には、ゲーム内での勝利確率を算出するための関数を実装し、異なる「削減係数」を用いたシミュレーションを行います。\n",
    "\n",
    "### 問題\n",
    "「20Questions」ゲームは、プレイヤーが隠された単語を20の質問で当てるゲームで、質問は「はい」または「いいえ」で答えられる形式です。このNotebookでは、各ラウンドでの勝利確率を計算し、効果的な質問戦略の重要性を確認することに取り組んでいます。\n",
    "\n",
    "### 手法とライブラリ\n",
    "- **勝利確率の計算**: `calculate_win_probability`関数は、成功した推測の数と総ラウンド数を基に勝利確率を計算します。また、`calculate_win_probabilities`関数を使い、初期の単語候補数と削減係数を考慮して、各ラウンドの累積勝利確率を計算します。\n",
    "  \n",
    "- **データの視覚化**: `matplotlib.pyplot`ライブラリを使用して、計算された勝利確率をグラフとして表示します。このライブラリにより、視覚的に結果を理解する手助けをします。\n",
    "\n",
    "- **メインプロセス**: `main`関数が全体の流れをまとめており、初期データの設定、勝利確率の計算、結果の表示およびグラフ化を行います。\n",
    "\n",
    "### 結果と解釈\n",
    "シミュレーションの結果は、削減係数が小さいほど早期に高い勝利確率に達することを示しています。逆に、削減係数が1.0の場合は勝利確率がほとんど上がらないことから、効果的な質問戦略の必要性が明らかになります。そのため、勝利確率の向上には、質問の戦略が重要であるという結論に至ります。\n",
    "\n",
    "### まとめ\n",
    "このNotebookはゲーム理論や機械学習に関連する基本的な確率計算とデータ視覚化の手法を学ぶための良い例となっており、シミュレーションを通じて質問戦略の評価を行う方法を示しています。ユーザーはこのノートを基に、更なる探求やパラメータの変更を行うことで学びを深めることが推奨されています。\n",
    "\n",
    "---\n"
   ]
  },
  {
   "cell_type": "markdown",
   "id": "7669d4fc",
   "metadata": {},
   "source": [
    "# 用語概説 \n",
    "以下は、Jupyter Notebook内の専門用語に関する簡単な解説です。初心者にとって馴染みのない、もしくは業務経験がないと理解しにくい用語に焦点を当てています。\n",
    "\n",
    "1. **削減係数 (Reduction Factor)**:\n",
    "   - 各質問の後に残る候補単語の割合を示す値です。例えば、削減係数が0.7であれば、質問の後に候補が70%に減少することを意味します。この値が小さいほど、より多くの情報を得られる効果的な質問が行われたことを示します。\n",
    "\n",
    "2. **累積勝利確率 (Cumulative Win Probability)**:\n",
    "   - あるラウンドまでに得られた勝利確率の合計を示します。各ラウンドにおいて、前のラウンドまでの成功した推測による確率を足し合わせることで計算され、全体的な成功率を把握するのに役立ちます。\n",
    "\n",
    "3. **計算の制約 (Computational Constraints)**:\n",
    "   - プログラムやアルゴリズムが動作する際に考慮すべき、計算資源の制限（時間やメモリなど）を指します。このNotebookのシミュレーションにおいては、大量のデータを処理する場合、これらの制約を意識する必要があります。\n",
    "\n",
    "4. **非線形性 (Non-linearity)**:\n",
    "   - 出力が入力に対して線形でない関係性を示す概念で、ゲームや戦略においては、複雑な相互作用を考慮する必要があることを強調します。このシミュレーションで使われる勝利確率の更新式も、非線形的な性質を助長します。\n",
    "\n",
    "5. **視覚化 (Visualization)**:\n",
    "   - データや結果を視覚的な形式（グラフや図）に変換するプロセスです。結果の解釈を容易にするために重要であり、このNotebookではmatplotlibを使用して累積勝利確率を視覚化しています。視覚化は、特に複雑なデータ分析において理解を深めるための強力なツールです。\n",
    "\n",
    "6. **シミュレーション (Simulation)**:\n",
    "   - 現実のプロセスやシステムを模倣して、挙動を観察するための手法のことです。このNotebookでは、20Questionsゲームの進行過程をシミュレートし、勝利確率を計算しています。シミュレーションは、実験的な方法では難しい場合の実験手法として広く使用されます。\n",
    "\n",
    "7. **エイリアス (Alias)**:\n",
    "   - ある名前や関数に対する短縮名や別名を指します。Pythonでは、頻繁に使うライブラリに対してエイリアスを用いることで、コーディングを簡潔にすることができます。このNotebookでは、`matplotlib.pyplot`が`plt`としてインポートされています。\n",
    "\n",
    "8. **パラメータ (Parameter)**:\n",
    "   - 関数やモデルにおいて、その動作や出力を決定するための変数のことです。このNotebookの中で、関数に渡される`N`や`rounds`、`reduction_factor`がそれに該当します。パラメータを変えることで、モデルの挙動を調整し、より良い結果を得ることが期待されます。\n",
    "\n",
    "これらの用語の解説は、初心者がノートブックの内容を理解するための手助けになることを目的としています。\n",
    "\n",
    "---\n"
   ]
  },
  {
   "cell_type": "markdown",
   "id": "612bef82",
   "metadata": {},
   "source": [
    "# 20Questionsゲームシミュレーション：勝利確率の計算"
   ]
  },
  {
   "cell_type": "code",
   "execution_count": null,
   "metadata": {},
   "outputs": [],
   "source": [
    "# 20Questionsゲームの勝利確率を計算する関数を定義します\n",
    "def calculate_win_probability(total_rounds, successful_guesses):\n",
    "    \"\"\"\n",
    "    勝利確率を計算するための関数\n",
    "    total_rounds: ゲームのラウンド数\n",
    "    successful_guesses: 正しく予測した回数\n",
    "    \"\"\"\n",
    "    # 勝利確率は、成功した推測の数を総ラウンド数で割ったものです\n",
    "    win_probability = successful_guesses / total_rounds\n",
    "    return win_probability\n",
    "\n",
    "# サンプルデータを使って関数をテストしてみましょう\n",
    "rounds = 20  # ゲーム全体のラウンド数\n",
    "success = 15  # 正しく予測した回数\n",
    "\n",
    "# 勝利確率を計算して結果を表示します\n",
    "probability = calculate_win_probability(rounds, success)\n",
    "print(f\"勝利確率: {probability:.2f}\")  # 確率を表示（小数点以下2桁まで）\n",
    "```\n",
    "このコードは、20Questionsゲームの勝利確率を計算するための関数を定義しています。以下は、コードの説明です：\n",
    "\n",
    "- `calculate_win_probability`という関数を定義します。この関数には、総ラウンド数（`total_rounds`）と成功した推測の回数（`successful_guesses`）を引数として受け取ります。\n",
    "- 関数内部では、勝利確率を計算します。これは、成功した推測の数を総ラウンド数で割ることで求められます。\n",
    "- 次に、この関数をサンプルデータ（20ラウンドで15回の成功）に対して呼び出し、計算された勝利確率を表示します。\n",
    "- 結果を表示する際には、小数点以下2桁までにフォーマットされています。"
   ]
  },
  {
   "cell_type": "markdown",
   "id": "059aabb5",
   "metadata": {},
   "source": [
    "## はじめに\n",
    "\n",
    "このチュートリアルでは、有名な推理ゲーム「20Questions」のシミュレーションを行う方法を学びます。Pythonを使用して、ゲームの勝利確率を計算し、その結果をグラフ化します。初心者の方でも理解しやすいよう、ステップバイステップで解説していきます。\n",
    "\n",
    "## 20Questionsゲームとは\n",
    "\n",
    "20Questionsは、プレイヤーが隠された単語を20問以内の質問で当てるゲームです。各質問は「はい」か「いいえ」で答えられるものに限定されます。\n",
    "\n",
    "```mermaid\n",
    "%%{init:{'theme':'base'}}%%\n",
    "graph LR\n",
    "    A[🎮 ゲーム開始] --> B{❓ 質問する}\n",
    "    B -->|はい👍/いいえ👎| C{⏱️ 20問以内?}\n",
    "    C -->|はい👍| D{🤔 単語を推測}\n",
    "    C -->|いいえ👎| E[😢 ゲーム終了: 負け]\n",
    "    D -->|正解✅| F[🎉 ゲーム終了: 勝ち]\n",
    "    D -->|不正解❌| B\n",
    "```\n",
    "\n",
    "## シミュレーションの概要\n",
    "\n",
    "このシミュレーションでは、異なる「削減係数」を用いて、各ラウンドでの勝利確率を計算します。削減係数は、各質問後に残る候補単語の割合を表します。\n",
    "\n",
    "## 確率計算の理論\n",
    "\n",
    "勝利確率の計算には、以下の要素が関係します：\n",
    "\n",
    "1. N: 初期の単語候補数\n",
    "2. k: 質問回数\n",
    "3. r: 削減係数（各質問後に残る候補単語の割合）\n",
    "\n",
    "各ラウンドkでの単語候補数Nkは次のように計算されます：\n",
    "\n",
    "```\n",
    "Nk = N * (r^k)\n",
    "```\n",
    "\n",
    "そして、各ラウンドでの勝利確率Pkは：\n",
    "\n",
    "```\n",
    "Pk = (1 - P(k-1)) * (1 / Nk)\n",
    "```\n",
    "\n",
    "ここで、P(k-1)は前のラウンドまでの累積勝利確率です。\n",
    "\n",
    "## Pythonによる実装\n",
    "\n",
    "それでは、Pythonを使ってこのシミュレーションを実装していきましょう。\n",
    "\n",
    "### 必要なライブラリのインポート\n",
    "\n",
    "まず、必要なライブラリをインポートします。"
   ]
  },
  {
   "cell_type": "code",
   "execution_count": null,
   "metadata": {
    "execution": {
     "iopub.execute_input": "2024-07-26T13:09:06.036192Z",
     "iopub.status.busy": "2024-07-26T13:09:06.03511Z",
     "iopub.status.idle": "2024-07-26T13:09:06.041667Z",
     "shell.execute_reply": "2024-07-26T13:09:06.040381Z",
     "shell.execute_reply.started": "2024-07-26T13:09:06.036141Z"
    }
   },
   "outputs": [],
   "source": [
    "# グラフを描画するためのmatplotlib.pyplotライブラリをインポートします\n",
    "import matplotlib.pyplot as plt\n",
    "# matplotlibはデータ可視化を行うための便利なライブラリです。\n",
    "# pltはこのライブラリのエイリアス（短縮名）です。"
   ]
  },
  {
   "cell_type": "markdown",
   "id": "c0f15ee6",
   "metadata": {},
   "source": [
    "このコードでは、グラフ描画のためにmatplotlibライブラリをインポートしています。\n",
    "\n",
    "### 勝利確率の計算\n",
    "\n",
    "次に、各ラウンドの勝利確率を計算する関数を定義します。"
   ]
  },
  {
   "cell_type": "code",
   "execution_count": null,
   "metadata": {
    "execution": {
     "iopub.execute_input": "2024-07-26T13:09:06.044706Z",
     "iopub.status.busy": "2024-07-26T13:09:06.044259Z",
     "iopub.status.idle": "2024-07-26T13:09:06.053979Z",
     "shell.execute_reply": "2024-07-26T13:09:06.052816Z",
     "shell.execute_reply.started": "2024-07-26T13:09:06.044666Z"
    }
   },
   "outputs": [],
   "source": [
    "def calculate_win_probabilities(N: int, rounds: int, reduction_factor: float) -> list[float]:\n",
    "    \"\"\"\n",
    "    各ラウンドの累積勝利確率を計算する関数\n",
    "\n",
    "    Args:\n",
    "        N (int): 初期の単語候補数\n",
    "        rounds (int): 質問の総数\n",
    "        reduction_factor (float): 各ラウンドで候補数が減少する割合\n",
    "\n",
    "    Returns:\n",
    "        list[float]: 各ラウンドの累積勝利確率のリスト\n",
    "    \"\"\"\n",
    "    cumulative_probabilities = []  # 累積勝利確率を格納するリスト\n",
    "    previous_prob = 0  # 前のラウンドまでの累積勝利確率を初期化\n",
    "\n",
    "    for k in range(1, rounds + 1):  # 各ラウンドに対してループ\n",
    "        # 現在のラウンドでの候補数を計算\n",
    "        Nk = N * (reduction_factor ** k)\n",
    "        # 現在のラウンドでの勝利確率を計算\n",
    "        current_prob = (1 - previous_prob) * (1 / Nk)\n",
    "        # 累積確率を更新\n",
    "        previous_prob += current_prob\n",
    "        if previous_prob > 1:  # 勝利確率が1を超えないようにする\n",
    "            previous_prob = 1\n",
    "        cumulative_probabilities.append(previous_prob)  # 現在の累積勝利確率をリストに追加\n",
    "\n",
    "    return cumulative_probabilities  # 全てのラウンドの累積勝利確率のリストを返す\n",
    "```\n",
    "このコードは、各ラウンドの勝利確率を計算する関数を定義しています。以下は、コードの説明です：\n",
    "\n",
    "- `calculate_win_probabilities`という関数を定義します。この関数は、初期の単語候補数（`N`）、質問の総数（`rounds`）、削減係数（`reduction_factor`）を引数として受け取ります。\n",
    "- 累積勝利確率を格納するための空のリスト`cumulative_probabilities`と、前のラウンドまでの累積勝利確率を表す変数`previous_prob`を初期化します。\n",
    "- 各ラウンドに対して、候補数`Nk`と勝利確率`current_prob`を計算し、累積勝利確率を更新します。勝利確率が1を超えないように制御します。\n",
    "- 最後に、各ラウンドの累積勝利確率のリストを返します。"
   ]
  },
  {
   "cell_type": "markdown",
   "id": "46393bc4",
   "metadata": {},
   "source": [
    "この関数は、初期候補数、ラウンド数、削減係数を受け取り、各ラウンドの累積勝利確率を計算して返します。\n",
    "\n",
    "### 確率のプロット\n",
    "\n",
    "計算した確率をグラフ化する関数を定義します。"
   ]
  },
  {
   "cell_type": "code",
   "execution_count": null,
   "metadata": {
    "execution": {
     "iopub.execute_input": "2024-07-26T13:09:06.055726Z",
     "iopub.status.busy": "2024-07-26T13:09:06.055369Z",
     "iopub.status.idle": "2024-07-26T13:09:06.066436Z",
     "shell.execute_reply": "2024-07-26T13:09:06.065263Z",
     "shell.execute_reply.started": "2024-07-26T13:09:06.055696Z"
    }
   },
   "outputs": [],
   "source": [
    "def plot_cumulative_probabilities(probabilities_dict: dict[float, list[float]]):\n",
    "    \"\"\"\n",
    "    累積勝利確率をプロットする関数\n",
    "\n",
    "    Args:\n",
    "        probabilities_dict (dict[float, list[float]]): \n",
    "            各削減係数に対する累積勝利確率の辞書\n",
    "    \"\"\"\n",
    "    plt.figure(figsize=(12, 8))  # グラフのサイズを設定\n",
    "    \n",
    "    for reduction_factor, probabilities in probabilities_dict.items():  # 各削減係数に対してプロット\n",
    "        rounds = range(1, len(probabilities) + 1)  # ラウンドの範囲を設定\n",
    "        plt.plot(rounds, probabilities, marker='o', linestyle='-', \n",
    "                 label=f'Reduction Factor = {reduction_factor}')  # ラウンドごとの累積勝利確率をプロット\n",
    "\n",
    "    # グラフの設定\n",
    "    plt.xlabel('ラウンド')  # x軸ラベル\n",
    "    plt.ylabel('累積勝利確率')  # y軸ラベル\n",
    "    plt.title('異なる削減係数の各ラウンドにおける累積勝利確率')  # グラフのタイトル\n",
    "    plt.grid(True)  # グリッドを表示\n",
    "    plt.xticks(range(1, 21))  # x軸の目盛りを1から20に設定\n",
    "    plt.yticks([i/10 for i in range(11)])  # y軸の目盛りを0から1まで設定\n",
    "    plt.ylim(0, 1)  # y軸の範囲を0から1に設定\n",
    "    plt.legend()  # 凡例を表示\n",
    "    plt.show()  # グラフを表示\n",
    "```\n",
    "このコードは、計算した累積勝利確率をグラフ化するための関数を定義しています。以下は、コードの説明です：\n",
    "\n",
    "- `plot_cumulative_probabilities`という関数を定義します。この関数は、各削減係数に対する累積勝利確率の辞書を引数として受け取ります。\n",
    "- グラフのサイズを指定し、辞書内の各削減係数に対してラウンドごとの累積勝利確率をプロットします。\n",
    "- グラフの軸ラベル、タイトル、目盛り、凡例などを設定し、最終的にグラフを表示します。"
   ]
  },
  {
   "cell_type": "markdown",
   "id": "3f0ee40d",
   "metadata": {},
   "source": [
    "この関数は、異なる削減係数での確率をまとめてプロットします。\n",
    "\n",
    "### メイン関数\n",
    "\n",
    "最後に、すべての処理を統合するメイン関数を定義します。"
   ]
  },
  {
   "cell_type": "code",
   "execution_count": null,
   "metadata": {
    "execution": {
     "iopub.execute_input": "2024-07-26T13:09:06.068296Z",
     "iopub.status.busy": "2024-07-26T13:09:06.067861Z",
     "iopub.status.idle": "2024-07-26T13:09:06.596996Z",
     "shell.execute_reply": "2024-07-26T13:09:06.595694Z",
     "shell.execute_reply.started": "2024-07-26T13:09:06.06826Z"
    }
   },
   "outputs": [],
   "source": [
    "def main():\n",
    "    N = 1024  # 初期の単語候補数\n",
    "    rounds = 20  # 質問の総数\n",
    "    reduction_factors = [0.5, 0.6, 0.7, 0.8, 0.9, 1.0]  # 異なる削減係数\n",
    "    probabilities_dict = {}  # 各削減係数の確率を格納する辞書\n",
    "\n",
    "    for reduction_factor in reduction_factors:  # 各削減係数に対してループ\n",
    "        # 各削減係数での確率を計算\n",
    "        probabilities = calculate_win_probabilities(N, rounds, reduction_factor)\n",
    "        probabilities_dict[reduction_factor] = probabilities  # 辞書に確率を追加\n",
    "        # 結果を表示\n",
    "        for i, prob in enumerate(probabilities, 1):  # 各ラウンドの確率を表示\n",
    "            print(f\"削減係数 {reduction_factor}, ラウンド {i}: 累積勝利確率 = {prob:.10f}\")\n",
    "\n",
    "    # 結果をプロット\n",
    "    plot_cumulative_probabilities(probabilities_dict)\n",
    "\n",
    "if __name__ == \"__main__\":\n",
    "    main()  # スクリプトが直接実行された場合にmain関数を呼び出す\n",
    "```\n",
    "このコードは、すべての処理を統合するメイン関数を定義しています。以下は、コードの説明です：\n",
    "\n",
    "- `main`関数を定義します。この関数では、初期の単語候補数（`N`）、質問の総数（`rounds`）、異なる削減係数のリストを設定します。\n",
    "- 各削減係数に対して、`calculate_win_probabilities`関数を呼び出し、得られた確率を辞書に格納します。\n",
    "- 各ラウンドの累積勝利確率をコンソールに表示します。\n",
    "- 最後に、`plot_cumulative_probabilities`関数を呼び出し、結果をグラフとしてプロットします。\n",
    "- スクリプトが直接実行された場合、`main`関数を呼び出します。"
   ]
  },
  {
   "cell_type": "markdown",
   "id": "3e079d10",
   "metadata": {},
   "source": [
    "このメイン関数は、異なる削減係数での確率を計算し、結果を表示してグラフ化します。\n",
    "\n",
    "## 結果の解釈\n",
    "\n",
    "シミュレーションの結果、以下のことが分かります：\n",
    "\n",
    "1. 削減係数が小さいほど（各質問で候補が大きく減るほど）、早いラウンドで高い勝利確率に達します。\n",
    "2. 削減係数が1.0の場合（質問が効果的でない場合）、勝利確率はほとんど上がりません。\n",
    "3. 多くの場合、20ラウンド以内で勝利確率が非常に高くなります。\n",
    "\n",
    "この結果は、効果的な質問戦略の重要性を示しています。\n",
    "\n",
    "## まとめ\n",
    "\n",
    "このチュートリアルでは、20Questionsゲームのシミュレーションを通じて、以下のことを学びました：\n",
    "\n",
    "1. 確率計算の基本概念\n",
    "2. Pythonを使用したシミュレーションの実装方法\n",
    "3. matplotlib.pyplotを使用したデータの視覚化\n",
    "4. 結果の解釈と実際のゲーム戦略への応用\n",
    "\n",
    "このシミュレーションは、ゲーム理論や機械学習の分野でも応用可能な基本的な概念を含んでいます。ぜひ、パラメータを変更したり、新しい要素を追加したりして、さらに探究してみてください。"
   ]
  }
 ],
 "metadata": {
  "jupytext": {
   "cell_metadata_filter": "-all",
   "main_language": "python",
   "notebook_metadata_filter": "-all"
  },
  "kaggle": {
   "accelerator": "none",
   "dataSources": [
    {
     "databundleVersionId": 8550470,
     "sourceId": 61247,
     "sourceType": "competition"
    }
   ],
   "dockerImageVersionId": 30746,
   "isGpuEnabled": false,
   "isInternetEnabled": true,
   "language": "python",
   "sourceType": "notebook"
  },
  "kernelspec": {
   "display_name": "Python 3",
   "language": "python",
   "name": "python3"
  },
  "language_info": {
   "codemirror_mode": {
    "name": "ipython",
    "version": 3
   },
   "file_extension": ".py",
   "mimetype": "text/x-python",
   "name": "python",
   "nbconvert_exporter": "python",
   "pygments_lexer": "ipython3",
   "version": "3.10.13"
  }
 },
 "nbformat": 4,
 "nbformat_minor": 4
}
