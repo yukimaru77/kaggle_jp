{
 "cells": [
  {
   "cell_type": "code",
   "execution_count": 1,
   "metadata": {},
   "outputs": [],
   "source": [
    "import os\n",
    "file_dir = r\".\\llm-20-questions\"\n",
    "discuss_path = file_dir + r\"\\discuss.json\"\n",
    "kernels_path = file_dir + r\"\\kernels.json\"\n",
    "output_dir = file_dir + \"_jp\""
   ]
  },
  {
   "cell_type": "code",
   "execution_count": 2,
   "metadata": {},
   "outputs": [],
   "source": [
    "#jsonファイルを読み込む\n",
    "import json\n",
    "\n",
    "with open(discuss_path, \"r\", encoding=\"utf-8\") as f:\n",
    "    discuss_info = json.load(f)\n",
    "\n",
    "with open(kernels_path, \"r\", encoding=\"utf-8\") as f:\n",
    "    kernels_info = json.load(f)"
   ]
  },
  {
   "cell_type": "code",
   "execution_count": 3,
   "metadata": {},
   "outputs": [],
   "source": [
    "#discuss_infoを\"votes\"順に並び替え\n",
    "discuss_info_sort_by_vite = sorted(discuss_info, key=lambda x: x[\"votes\"], reverse=True)\n",
    "\n",
    "#discuss_infoを\"comments\"順に並び替え\n",
    "discuss_info_sort_by_comments = sorted(discuss_info, key=lambda x: x[\"comments\"], reverse=True)\n",
    "\n",
    "#kernel_infoを\"totalVotes  \"順に並び替え\n",
    "kernels_info_sort_by_totalVotes = sorted(kernels_info, key=lambda x: x[\"totalVotes  \"], reverse=True)"
   ]
  },
  {
   "cell_type": "code",
   "execution_count": 4,
   "metadata": {},
   "outputs": [],
   "source": [
    "import re\n",
    "#リンク一覧\n",
    "discuss_link_sort_by_vite = []\n",
    "discuss_link_sort_by_comments = []\n",
    "kernels_directory_sort_by_totalVotes = []\n",
    "\n",
    "for discuss in discuss_info_sort_by_vite:\n",
    "  file_name = discuss['title']\n",
    "  # エスケープシーケンスを削除\n",
    "  file_name = re.sub(r'\\\\x[0-9a-fA-F]{2}', '', file_name)\n",
    "\n",
    "  # 無効な文字を置換または除去\n",
    "  file_name = re.sub(r'[<>:\"/\\\\|?*]', '', file_name)\n",
    "  file_name = file_name.replace(\" \", \"_\") + \".md\"\n",
    "  link = \"./discuss/\" + file_name\n",
    "  discuss_link_sort_by_vite.append(link)\n",
    "\n",
    "for discuss in discuss_info_sort_by_comments:\n",
    "  file_name = discuss['title']\n",
    "  # エスケープシーケンスを削除\n",
    "  file_name = re.sub(r'\\\\x[0-9a-fA-F]{2}', '', file_name)\n",
    "\n",
    "  # 無効な文字を置換または除去\n",
    "  file_name = re.sub(r'[<>:\"/\\\\|?*]', '', file_name)\n",
    "  file_name = file_name.replace(\" \", \"_\") + \".md\"\n",
    "  link = \"./discuss/\" + file_name\n",
    "  discuss_link_sort_by_comments.append(link)\n",
    "\n",
    "for kernel in kernels_info_sort_by_totalVotes:\n",
    "  directory = kernel['title']\n",
    "  # エスケープシーケンスを削除\n",
    "  directory = re.sub(r'\\\\x[0-9a-fA-F]{2}', '', directory)\n",
    "\n",
    "  # 無効なファイル名の文字を定義\n",
    "  invalid_chars = r'<>:\"/\\|?*'\n",
    "\n",
    "  # 無効な文字を置換または除去\n",
    "  directory = re.sub(r'[<>:\"/\\\\|?*]', '', directory)\n",
    "  directory = directory.replace(\" \", \"_\")\n",
    "\n",
    "  kernels_directory_sort_by_totalVotes.append(directory)"
   ]
  },
  {
   "cell_type": "code",
   "execution_count": 9,
   "metadata": {},
   "outputs": [],
   "source": [
    "#各kernels_directory_sort_by_totalVotesの中に一つipynbファイルがあるので、そのファイル名を取得\n",
    "\n",
    "import os\n",
    "kernels_ipynb_sort_by_totalVotes = []\n",
    "for directory in kernels_directory_sort_by_totalVotes:\n",
    "  for file in os.listdir(file_dir + r\"\\kernels\" + \"\\\\\" + directory):\n",
    "    if file.endswith(\".ipynb\"):\n",
    "      kernels_ipynb_sort_by_totalVotes.append(file)\n",
    "      break\n",
    "#kernels_directory_sort_by_totalVotesとkernels_ipynb_sort_by_totalVotesをzipして、リンクを作成\n",
    "kernels_link_sort_by_totalVotes = []\n",
    "for directory, ipynb in zip(kernels_directory_sort_by_totalVotes, kernels_ipynb_sort_by_totalVotes):\n",
    "  link = \"./kernels/\" + directory + \"/\" + ipynb\n",
    "  kernels_link_sort_by_totalVotes.append(link)"
   ]
  },
  {
   "cell_type": "code",
   "execution_count": 12,
   "metadata": {},
   "outputs": [],
   "source": [
    "#マークダウンファイルを作成\n",
    "mdfile_discuss_link_sort_by_vite = \"\"\n",
    "mdfile_discuss_link_sort_by_comments = \"\"\n",
    "mdfile_kernels_link_sort_by_totalVotes = \"\"\n",
    "\n",
    "for i,link in enumerate(discuss_link_sort_by_vite):\n",
    "  mdfile_discuss_link_sort_by_vite += f\"* Vote数:{discuss_info_sort_by_vite[i]['votes']} @ [{discuss_info_sort_by_vite[i]['title']}]({link})\\n\"\n",
    "\n",
    "for i,link in enumerate(discuss_link_sort_by_comments):\n",
    "  mdfile_discuss_link_sort_by_comments += f\"* コメント数:{discuss_info_sort_by_comments[i]['comments']} @ [{discuss_info_sort_by_comments[i]['title']}]({link})\\n\"\n",
    "\n",
    "for i,link in enumerate(kernels_link_sort_by_totalVotes):\n",
    "  mdfile_kernels_link_sort_by_totalVotes += f\"* Vote数:{kernels_info_sort_by_totalVotes[i]['totalVotes  ']} @ [{kernels_info_sort_by_totalVotes[i]['title']}]({link})\\n\"\n",
    "\n",
    "#ファイルを書き込む\n",
    "with open(output_dir + r\"\\discuss_by_votes.md\", \"w\", encoding=\"utf-8\") as f:\n",
    "    f.write(mdfile_discuss_link_sort_by_vite)\n",
    "\n",
    "with open(output_dir + r\"\\discuss_by_comments.md\", \"w\", encoding=\"utf-8\") as f:\n",
    "    f.write(mdfile_discuss_link_sort_by_comments)\n",
    "\n",
    "with open(output_dir + r\"\\kernels_by_votes.md\", \"w\", encoding=\"utf-8\") as f:\n",
    "    f.write(mdfile_kernels_link_sort_by_totalVotes)\n",
    "\n"
   ]
  },
  {
   "cell_type": "code",
   "execution_count": null,
   "metadata": {},
   "outputs": [],
   "source": []
  }
 ],
 "metadata": {
  "kernelspec": {
   "display_name": "kaggle-scraper-new",
   "language": "python",
   "name": "python3"
  },
  "language_info": {
   "codemirror_mode": {
    "name": "ipython",
    "version": 3
   },
   "file_extension": ".py",
   "mimetype": "text/x-python",
   "name": "python",
   "nbconvert_exporter": "python",
   "pygments_lexer": "ipython3",
   "version": "3.9.19"
  }
 },
 "nbformat": 4,
 "nbformat_minor": 2
}
