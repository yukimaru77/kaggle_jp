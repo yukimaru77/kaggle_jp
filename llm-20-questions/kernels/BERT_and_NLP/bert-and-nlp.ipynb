{
 "cells": [
  {
   "cell_type": "code",
   "execution_count": null,
   "metadata": {
    "_cell_guid": "b1076dfc-b9ad-4769-8c92-a6c4dae69d19",
    "_uuid": "8f2839f25d086af736a60e9eeb907d3b93b6e0e5",
    "execution": {
     "iopub.execute_input": "2024-05-19T15:17:16.671497Z",
     "iopub.status.busy": "2024-05-19T15:17:16.671077Z",
     "iopub.status.idle": "2024-05-19T15:17:16.677143Z",
     "shell.execute_reply": "2024-05-19T15:17:16.676092Z",
     "shell.execute_reply.started": "2024-05-19T15:17:16.671469Z"
    }
   },
   "outputs": [],
   "source": [
    "import pandas as pd\n",
    "import json\n",
    "from textblob import TextBlob"
   ]
  },
  {
   "cell_type": "code",
   "execution_count": null,
   "metadata": {
    "execution": {
     "iopub.execute_input": "2024-05-19T15:17:31.824792Z",
     "iopub.status.busy": "2024-05-19T15:17:31.824351Z",
     "iopub.status.idle": "2024-05-19T15:17:31.832609Z",
     "shell.execute_reply": "2024-05-19T15:17:31.831069Z",
     "shell.execute_reply.started": "2024-05-19T15:17:31.824745Z"
    }
   },
   "outputs": [],
   "source": [
    "# Load and inspect the JSON data\n",
    "with open('/kaggle/input/llm-20-questions/llm_20_questions/llm_20_questions.json') as file:\n",
    "    raw_data = json.load(file)"
   ]
  },
  {
   "cell_type": "code",
   "execution_count": null,
   "metadata": {
    "execution": {
     "iopub.execute_input": "2024-05-19T15:18:30.029068Z",
     "iopub.status.busy": "2024-05-19T15:18:30.028605Z",
     "iopub.status.idle": "2024-05-19T15:18:30.035645Z",
     "shell.execute_reply": "2024-05-19T15:18:30.034248Z",
     "shell.execute_reply.started": "2024-05-19T15:18:30.029036Z"
    }
   },
   "outputs": [],
   "source": [
    "# Inspect the keys of the JSON data\n",
    "print(raw_data.keys())"
   ]
  },
  {
   "cell_type": "code",
   "execution_count": null,
   "metadata": {
    "execution": {
     "iopub.execute_input": "2024-05-19T15:19:56.039436Z",
     "iopub.status.busy": "2024-05-19T15:19:56.038923Z",
     "iopub.status.idle": "2024-05-19T15:19:56.045608Z",
     "shell.execute_reply": "2024-05-19T15:19:56.044353Z",
     "shell.execute_reply.started": "2024-05-19T15:19:56.039404Z"
    }
   },
   "outputs": [],
   "source": [
    "# Extract data under the 'agents' key\n",
    "data = raw_data['agents']"
   ]
  },
  {
   "cell_type": "code",
   "execution_count": null,
   "metadata": {
    "execution": {
     "iopub.execute_input": "2024-05-19T15:20:08.892517Z",
     "iopub.status.busy": "2024-05-19T15:20:08.892058Z",
     "iopub.status.idle": "2024-05-19T15:20:08.898945Z",
     "shell.execute_reply": "2024-05-19T15:20:08.897265Z",
     "shell.execute_reply.started": "2024-05-19T15:20:08.892485Z"
    }
   },
   "outputs": [],
   "source": [
    "# Convert the data to a DataFrame (assuming it's a list of dictionaries)\n",
    "data = pd.DataFrame(data)"
   ]
  },
  {
   "cell_type": "code",
   "execution_count": null,
   "metadata": {
    "execution": {
     "iopub.execute_input": "2024-05-19T15:20:33.877395Z",
     "iopub.status.busy": "2024-05-19T15:20:33.876959Z",
     "iopub.status.idle": "2024-05-19T15:20:33.885332Z",
     "shell.execute_reply": "2024-05-19T15:20:33.883708Z",
     "shell.execute_reply.started": "2024-05-19T15:20:33.877363Z"
    }
   },
   "outputs": [],
   "source": [
    "# Display the first few rows to confirm correct loading\n",
    "print(data.head())"
   ]
  },
  {
   "cell_type": "code",
   "execution_count": null,
   "metadata": {
    "execution": {
     "iopub.execute_input": "2024-05-19T15:39:30.643169Z",
     "iopub.status.busy": "2024-05-19T15:39:30.642707Z",
     "iopub.status.idle": "2024-05-19T15:39:30.823214Z",
     "shell.execute_reply": "2024-05-19T15:39:30.822047Z",
     "shell.execute_reply.started": "2024-05-19T15:39:30.643139Z"
    }
   },
   "outputs": [],
   "source": [
    "import numpy as np\n",
    "import pandas as pd\n",
    "import json\n",
    "import os\n",
    "import sys\n",
    "\n",
    "# Show files\n",
    "for dirname, _, filenames in os.walk('/kaggle/input'):\n",
    "    for filename in filenames:\n",
    "        print(os.path.join(dirname, filename))\n",
    "\n",
    "# Import keywords.py\n",
    "sys.path.append('../input/llm-20-questions/llm_20_questions/')\n",
    "import keywords\n",
    "\n",
    "# Configurations\n",
    "pd.set_option('display.max_rows', None)  # Show all rows of data frames\n",
    "pd.set_option('display.max_colwidth', None)  # Display also longer texts in full\n",
    "\n",
    "# Convert to JSON\n",
    "my_json = json.loads(keywords.KEYWORDS_JSON)\n",
    "\n",
    "# Extract components\n",
    "json_country = my_json[0]\n",
    "json_city = my_json[1]\n",
    "json_landmark = my_json[2]\n",
    "\n",
    "# Country\n",
    "df_country = pd.json_normalize(json_country['words'])\n",
    "print(\"Country Dataframe:\")\n",
    "print(df_country)\n",
    "\n",
    "# City\n",
    "df_city = pd.json_normalize(json_city['words'])\n",
    "print(\"\\nCity Dataframe:\")\n",
    "print(df_city)\n",
    "\n",
    "# Landmark\n",
    "df_landmark = pd.json_normalize(json_landmark['words'])\n",
    "print(\"\\nLandmark Dataframe:\")\n",
    "print(df_landmark)\n",
    "\n",
    "print(\"\\nLength of my_json:\", len(my_json))"
   ]
  },
  {
   "cell_type": "code",
   "execution_count": null,
   "metadata": {
    "execution": {
     "iopub.execute_input": "2024-05-19T15:43:33.33797Z",
     "iopub.status.busy": "2024-05-19T15:43:33.337378Z",
     "iopub.status.idle": "2024-05-19T15:43:33.48537Z",
     "shell.execute_reply": "2024-05-19T15:43:33.484154Z",
     "shell.execute_reply.started": "2024-05-19T15:43:33.337934Z"
    }
   },
   "outputs": [],
   "source": [
    "import numpy as np\n",
    "import pandas as pd\n",
    "import json\n",
    "import os\n",
    "import sys\n",
    "\n",
    "# Show files\n",
    "for dirname, _, filenames in os.walk('/kaggle/input'):\n",
    "    for filename in filenames:\n",
    "        print(os.path.join(dirname, filename))\n",
    "\n",
    "# Import keywords.py\n",
    "sys.path.append('../input/llm-20-questions/llm_20_questions/')\n",
    "import keywords\n",
    "\n",
    "# Configurations\n",
    "pd.set_option('display.max_rows', None)  # Show all rows of data frames\n",
    "pd.set_option('display.max_colwidth', None)  # Display also longer texts in full\n",
    "\n",
    "# Convert to JSON\n",
    "my_json = json.loads(keywords.KEYWORDS_JSON)\n",
    "\n",
    "# Extract components\n",
    "json_country = my_json[0]\n",
    "json_city = my_json[1]\n",
    "json_landmark = my_json[2]\n",
    "\n",
    "# Country\n",
    "df_country = pd.json_normalize(json_country['words'])\n",
    "print(\"Country Dataframe:\")\n",
    "print(df_country)\n",
    "df_country.to_csv('/kaggle/working/country.csv', index=False)\n",
    "\n",
    "# City\n",
    "df_city = pd.json_normalize(json_city['words'])\n",
    "print(\"\\nCity Dataframe:\")\n",
    "print(df_city)\n",
    "df_city.to_csv('/kaggle/working/city.csv', index=False)\n",
    "\n",
    "# Landmark\n",
    "df_landmark = pd.json_normalize(json_landmark['words'])\n",
    "print(\"\\nLandmark Dataframe:\")\n",
    "print(df_landmark)\n",
    "df_landmark.to_csv('/kaggle/working/landmark.csv', index=False)\n",
    "\n",
    "print(\"\\nLength of my_json:\", len(my_json))"
   ]
  },
  {
   "cell_type": "code",
   "execution_count": null,
   "metadata": {
    "execution": {
     "iopub.execute_input": "2024-05-19T15:45:15.308119Z",
     "iopub.status.busy": "2024-05-19T15:45:15.307648Z",
     "iopub.status.idle": "2024-05-19T15:45:15.454376Z",
     "shell.execute_reply": "2024-05-19T15:45:15.453167Z",
     "shell.execute_reply.started": "2024-05-19T15:45:15.308086Z"
    }
   },
   "outputs": [],
   "source": [
    "import numpy as np\n",
    "import pandas as pd\n",
    "import json\n",
    "import os\n",
    "import sys\n",
    "\n",
    "def main():\n",
    "    # Show files\n",
    "    for dirname, _, filenames in os.walk('/kaggle/input'):\n",
    "        for filename in filenames:\n",
    "            print(os.path.join(dirname, filename))\n",
    "\n",
    "    # Import keywords.py\n",
    "    sys.path.append('../input/llm-20-questions/llm_20_questions/')\n",
    "    import keywords\n",
    "\n",
    "    # Configurations\n",
    "    pd.set_option('display.max_rows', None)  # Show all rows of data frames\n",
    "    pd.set_option('display.max_colwidth', None)  # Display also longer texts in full\n",
    "\n",
    "    # Convert to JSON\n",
    "    my_json = json.loads(keywords.KEYWORDS_JSON)\n",
    "\n",
    "    # Extract components\n",
    "    json_country = my_json[0]\n",
    "    json_city = my_json[1]\n",
    "    json_landmark = my_json[2]\n",
    "\n",
    "    # Country\n",
    "    df_country = pd.json_normalize(json_country['words'])\n",
    "    print(\"Country Dataframe:\")\n",
    "    print(df_country)\n",
    "    df_country.to_csv('/kaggle/working/country.csv', index=False)\n",
    "\n",
    "    # City\n",
    "    df_city = pd.json_normalize(json_city['words'])\n",
    "    print(\"\\nCity Dataframe:\")\n",
    "    print(df_city)\n",
    "    df_city.to_csv('/kaggle/working/city.csv', index=False)\n",
    "\n",
    "    # Landmark\n",
    "    df_landmark = pd.json_normalize(json_landmark['words'])\n",
    "    print(\"\\nLandmark Dataframe:\")\n",
    "    print(df_landmark)\n",
    "    df_landmark.to_csv('/kaggle/working/landmark.csv', index=False)\n",
    "\n",
    "    print(\"\\nLength of my_json:\", len(my_json))\n",
    "\n",
    "if __name__ == \"__main__\":\n",
    "    main()\n"
   ]
  }
 ],
 "metadata": {
  "kaggle": {
   "accelerator": "none",
   "dataSources": [
    {
     "databundleVersionId": 8550470,
     "sourceId": 61247,
     "sourceType": "competition"
    }
   ],
   "dockerImageVersionId": 30698,
   "isGpuEnabled": false,
   "isInternetEnabled": true,
   "language": "python",
   "sourceType": "notebook"
  },
  "kernelspec": {
   "display_name": "Python 3",
   "language": "python",
   "name": "python3"
  },
  "language_info": {
   "codemirror_mode": {
    "name": "ipython",
    "version": 3
   },
   "file_extension": ".py",
   "mimetype": "text/x-python",
   "name": "python",
   "nbconvert_exporter": "python",
   "pygments_lexer": "ipython3",
   "version": "3.10.13"
  }
 },
 "nbformat": 4,
 "nbformat_minor": 4
}
