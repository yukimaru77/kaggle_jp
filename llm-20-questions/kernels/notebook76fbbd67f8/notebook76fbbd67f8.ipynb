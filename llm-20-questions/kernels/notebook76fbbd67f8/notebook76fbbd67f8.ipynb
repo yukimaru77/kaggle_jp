{
 "cells": [
  {
   "cell_type": "code",
   "execution_count": null,
   "metadata": {
    "execution": {
     "iopub.execute_input": "2024-06-20T23:48:58.257559Z",
     "iopub.status.busy": "2024-06-20T23:48:58.256834Z",
     "iopub.status.idle": "2024-06-20T23:48:58.262353Z",
     "shell.execute_reply": "2024-06-20T23:48:58.261142Z",
     "shell.execute_reply.started": "2024-06-20T23:48:58.257521Z"
    }
   },
   "outputs": [],
   "source": [
    "import pandas as pd\n",
    "import numpy as np"
   ]
  },
  {
   "cell_type": "code",
   "execution_count": null,
   "metadata": {
    "execution": {
     "iopub.execute_input": "2024-06-20T23:52:23.469759Z",
     "iopub.status.busy": "2024-06-20T23:52:23.468807Z",
     "iopub.status.idle": "2024-06-20T23:52:23.481779Z",
     "shell.execute_reply": "2024-06-20T23:52:23.480681Z",
     "shell.execute_reply.started": "2024-06-20T23:52:23.469719Z"
    }
   },
   "outputs": [],
   "source": [
    "import tarfile\n",
    "\n",
    "# Define the name of the Python file to compress\n",
    "python_file = '/kaggle/input/llm-20-questions/llm_20_questions/llm_20_questions.py'\n",
    "\n",
    "# Define the name of the tar.gz file to create\n",
    "output_file = '/kaggle/working/submission.tar.gz'\n",
    "\n",
    "# Open a tar.gz file for writing\n",
    "with tarfile.open(output_file, 'w:gz') as tar:\n",
    "    # Add the Python file to the tar.gz archive\n",
    "    tar.add(python_file, arcname=os.path.basename(python_file))\n",
    "\n",
    "print(f'File {python_file} has been compressed and saved as {output_file}')\n"
   ]
  }
 ],
 "metadata": {
  "kaggle": {
   "accelerator": "none",
   "dataSources": [
    {
     "databundleVersionId": 8550470,
     "sourceId": 61247,
     "sourceType": "competition"
    }
   ],
   "dockerImageVersionId": 30732,
   "isGpuEnabled": false,
   "isInternetEnabled": false,
   "language": "python",
   "sourceType": "notebook"
  },
  "kernelspec": {
   "display_name": "Python 3",
   "language": "python",
   "name": "python3"
  },
  "language_info": {
   "codemirror_mode": {
    "name": "ipython",
    "version": 3
   },
   "file_extension": ".py",
   "mimetype": "text/x-python",
   "name": "python",
   "nbconvert_exporter": "python",
   "pygments_lexer": "ipython3",
   "version": "3.10.13"
  }
 },
 "nbformat": 4,
 "nbformat_minor": 4
}
