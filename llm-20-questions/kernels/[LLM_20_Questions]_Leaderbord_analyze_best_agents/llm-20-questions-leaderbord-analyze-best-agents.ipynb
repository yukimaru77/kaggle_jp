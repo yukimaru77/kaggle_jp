{
 "cells": [
  {
   "cell_type": "markdown",
   "id": "e73e5563",
   "metadata": {},
   "source": [
    "# Table_of_Contents\n",
    "Show games from the best in each category:\n",
    "* [Guesser leaderbord](#Guesser_leaderbord)\n",
    "* [Answerer leaderbord](#Answerer_leaderbord)\n",
    "* [Guesser submission_leaderbord](#Guesser_submission_leaderbord)\n",
    "* [Answerer submission leaderbord](#Answerer_submission_leaderbord)\n",
    "* [Questions Wordcould](#Questions_wordcould)"
   ]
  },
  {
   "cell_type": "code",
   "execution_count": null,
   "metadata": {
    "_cell_guid": "b1076dfc-b9ad-4769-8c92-a6c4dae69d19",
    "_uuid": "8f2839f25d086af736a60e9eeb907d3b93b6e0e5",
    "execution": {
     "iopub.execute_input": "2024-06-19T01:48:31.345536Z",
     "iopub.status.busy": "2024-06-19T01:48:31.345001Z",
     "iopub.status.idle": "2024-06-19T01:48:35.010003Z",
     "shell.execute_reply": "2024-06-19T01:48:35.008592Z",
     "shell.execute_reply.started": "2024-06-19T01:48:31.345475Z"
    }
   },
   "outputs": [],
   "source": [
    "import pandas as pd\n",
    "from ast import literal_eval\n",
    "from IPython.display import display, Markdown\n",
    "import string\n",
    "import json\n",
    "\n",
    "import nltk\n",
    "from nltk.corpus import stopwords\n",
    "from wordcloud import WordCloud, STOPWORDS, ImageColorGenerator\n",
    "import matplotlib.pyplot as plt\n",
    "from sklearn.feature_extraction.text import TfidfVectorizer\n",
    "from collections import Counter"
   ]
  },
  {
   "cell_type": "code",
   "execution_count": null,
   "metadata": {
    "execution": {
     "iopub.execute_input": "2024-06-19T01:48:35.01228Z",
     "iopub.status.busy": "2024-06-19T01:48:35.011662Z",
     "iopub.status.idle": "2024-06-19T01:48:54.120305Z",
     "shell.execute_reply": "2024-06-19T01:48:54.118928Z",
     "shell.execute_reply.started": "2024-06-19T01:48:35.012237Z"
    }
   },
   "outputs": [],
   "source": [
    "df = pd.read_csv(\"/kaggle/input/llm-20-questions-games-dataset/LLM-20Questions-games.csv\", converters={col_list:literal_eval for col_list in [\"answers\", \"questions\", \"guesses\"]})\n",
    "df"
   ]
  },
  {
   "cell_type": "code",
   "execution_count": null,
   "metadata": {
    "execution": {
     "iopub.execute_input": "2024-06-19T01:48:54.123369Z",
     "iopub.status.busy": "2024-06-19T01:48:54.122991Z",
     "iopub.status.idle": "2024-06-19T01:48:54.131102Z",
     "shell.execute_reply": "2024-06-19T01:48:54.129596Z",
     "shell.execute_reply.started": "2024-06-19T01:48:54.123338Z"
    }
   },
   "outputs": [],
   "source": [
    "def keyword_guessed(guess: str, keyword:str, alts:list[str]) -> bool:\n",
    "    # From competition source llm_20_questions.py\n",
    "    def normalize(s: str) -> str:\n",
    "        t = str.maketrans(\"\", \"\", string.punctuation)\n",
    "        return s.lower().replace(\"the\", \"\").replace(\" \", \"\").translate(t)\n",
    "\n",
    "    if normalize(guess) == normalize(keyword):\n",
    "        return True\n",
    "    for s in alts:\n",
    "        if normalize(guess) == normalize(s):\n",
    "            return True\n",
    "\n",
    "    return False"
   ]
  },
  {
   "cell_type": "code",
   "execution_count": null,
   "metadata": {
    "_kg_hide-output": true,
    "execution": {
     "iopub.execute_input": "2024-06-19T01:48:54.137911Z",
     "iopub.status.busy": "2024-06-19T01:48:54.137334Z",
     "iopub.status.idle": "2024-06-19T01:48:54.158548Z",
     "shell.execute_reply": "2024-06-19T01:48:54.156841Z",
     "shell.execute_reply.started": "2024-06-19T01:48:54.137878Z"
    }
   },
   "outputs": [],
   "source": [
    "exec(open(\"/kaggle/input/llm-20-questions/llm_20_questions/keywords.py\").read()) # create KEYWORDS_JSON\n",
    "KEYWORDS_JSON = json.loads(KEYWORDS_JSON)\n",
    "# needed to apply keyword_guessed \n",
    "KEYWORD_TO_ALTS = {words[\"keyword\"]:words[\"alts\"] for category in KEYWORDS_JSON for words in category[\"words\"]}\n",
    "# KEYWORD_TO_ALTS"
   ]
  },
  {
   "cell_type": "code",
   "execution_count": null,
   "metadata": {
    "execution": {
     "iopub.execute_input": "2024-06-19T01:49:25.338053Z",
     "iopub.status.busy": "2024-06-19T01:49:25.336254Z",
     "iopub.status.idle": "2024-06-19T01:49:29.749981Z",
     "shell.execute_reply": "2024-06-19T01:49:29.748592Z",
     "shell.execute_reply.started": "2024-06-19T01:49:25.337994Z"
    }
   },
   "outputs": [],
   "source": [
    "# fix `guessed`. Use competition function instead of isin \n",
    "df[\"guessed\"]=df.apply(lambda row: keyword_guessed(row.guesses[-1] if len(row.guesses)>0 else \"\", row.keyword, KEYWORD_TO_ALTS.get(row.keyword,[])), axis=1)\n",
    "\n",
    "# games count by team, to normalize\n",
    "guesser_counts = {k:v for k,v in df.guesser.value_counts().items()}\n",
    "answerer_counts = {k:v for k,v in df.answerer.value_counts().items()}\n",
    "\n",
    "winner_df = df.loc[df.guessed]\n",
    "winner_df"
   ]
  },
  {
   "cell_type": "code",
   "execution_count": null,
   "metadata": {
    "execution": {
     "iopub.execute_input": "2024-06-19T01:49:50.861952Z",
     "iopub.status.busy": "2024-06-19T01:49:50.860435Z",
     "iopub.status.idle": "2024-06-19T01:49:50.874572Z",
     "shell.execute_reply": "2024-06-19T01:49:50.873159Z",
     "shell.execute_reply.started": "2024-06-19T01:49:50.861903Z"
    }
   },
   "outputs": [],
   "source": [
    "winner_df.guesser.value_counts().head(10)"
   ]
  },
  {
   "cell_type": "code",
   "execution_count": null,
   "metadata": {
    "execution": {
     "iopub.execute_input": "2024-06-19T01:49:50.877375Z",
     "iopub.status.busy": "2024-06-19T01:49:50.876968Z",
     "iopub.status.idle": "2024-06-19T01:49:50.885921Z",
     "shell.execute_reply": "2024-06-19T01:49:50.884844Z",
     "shell.execute_reply.started": "2024-06-19T01:49:50.877344Z"
    }
   },
   "outputs": [],
   "source": [
    "def fmt_team_winrate(team, team_fmt = \"{:30} winrate: {:.3%} ({}/{})\")->str:\n",
    "    return team_fmt.format(team[0], team[1][0], team[1][1], team[1][2])\n",
    "\n",
    "def winrate(win_counts:dict, total_counts:dict)->list:\n",
    "    ratio_win = {k:(v/total_counts.get(k,1), v, total_counts.get(k)) for k,v in win_counts}\n",
    "    return sorted(ratio_win.items(), key=lambda item: item[1][0], reverse = True)"
   ]
  },
  {
   "cell_type": "code",
   "execution_count": null,
   "metadata": {
    "execution": {
     "iopub.execute_input": "2024-06-19T01:49:50.888471Z",
     "iopub.status.busy": "2024-06-19T01:49:50.888118Z",
     "iopub.status.idle": "2024-06-19T01:49:50.900725Z",
     "shell.execute_reply": "2024-06-19T01:49:50.899025Z",
     "shell.execute_reply.started": "2024-06-19T01:49:50.888442Z"
    }
   },
   "outputs": [],
   "source": [
    "def print_winrate(winner_df=winner_df, df=df):\n",
    "    nb_total_games = len(df)\n",
    "    nb_wins = len(winner_df)\n",
    "    print(fmt_team_winrate((\"Winrate total\",(nb_wins/nb_total_games,nb_wins,nb_total_games))))\n",
    "\n",
    "print_winrate()"
   ]
  },
  {
   "cell_type": "markdown",
   "id": "b69822f9",
   "metadata": {},
   "source": [
    "# Guesser_leaderbord"
   ]
  },
  {
   "cell_type": "code",
   "execution_count": null,
   "metadata": {
    "execution": {
     "iopub.execute_input": "2024-06-19T01:49:50.903202Z",
     "iopub.status.busy": "2024-06-19T01:49:50.902731Z",
     "iopub.status.idle": "2024-06-19T01:49:50.915007Z",
     "shell.execute_reply": "2024-06-19T01:49:50.913529Z",
     "shell.execute_reply.started": "2024-06-19T01:49:50.903163Z"
    }
   },
   "outputs": [],
   "source": [
    "guesser_win = winrate(winner_df.guesser.value_counts().items(), guesser_counts)\n",
    "for team in guesser_win[:10]:\n",
    "    print(fmt_team_winrate(team))"
   ]
  },
  {
   "cell_type": "markdown",
   "id": "452f0cc1",
   "metadata": {},
   "source": [
    "# Answerer_leaderbord\n",
    "[Table of Contents](#Table_of_Contents)"
   ]
  },
  {
   "cell_type": "code",
   "execution_count": null,
   "metadata": {
    "execution": {
     "iopub.execute_input": "2024-06-19T01:49:50.91853Z",
     "iopub.status.busy": "2024-06-19T01:49:50.918134Z",
     "iopub.status.idle": "2024-06-19T01:49:50.928242Z",
     "shell.execute_reply": "2024-06-19T01:49:50.926858Z",
     "shell.execute_reply.started": "2024-06-19T01:49:50.918478Z"
    }
   },
   "outputs": [],
   "source": [
    "answerer_win = winrate(winner_df.answerer.value_counts().items(), answerer_counts)\n",
    "for team in answerer_win[:10]:\n",
    "    print(fmt_team_winrate(team))"
   ]
  },
  {
   "cell_type": "markdown",
   "id": "807d0840",
   "metadata": {},
   "source": [
    "## Top guessed keywords:"
   ]
  },
  {
   "cell_type": "code",
   "execution_count": null,
   "metadata": {
    "execution": {
     "iopub.execute_input": "2024-06-19T01:49:50.930091Z",
     "iopub.status.busy": "2024-06-19T01:49:50.929737Z",
     "iopub.status.idle": "2024-06-19T01:49:50.944728Z",
     "shell.execute_reply": "2024-06-19T01:49:50.943137Z",
     "shell.execute_reply.started": "2024-06-19T01:49:50.930062Z"
    }
   },
   "outputs": [],
   "source": [
    "winner_df.keyword.value_counts() # france in top, probably because of the baseline example"
   ]
  },
  {
   "cell_type": "code",
   "execution_count": null,
   "metadata": {
    "execution": {
     "iopub.execute_input": "2024-06-19T01:49:50.946628Z",
     "iopub.status.busy": "2024-06-19T01:49:50.946225Z",
     "iopub.status.idle": "2024-06-19T01:49:51.560972Z",
     "shell.execute_reply": "2024-06-19T01:49:51.559598Z",
     "shell.execute_reply.started": "2024-06-19T01:49:50.946572Z"
    }
   },
   "outputs": [],
   "source": [
    "episode_agents = pd.read_csv(\"/kaggle/input/llm-20-questions-games-dataset/EpisodeAgents.csv\")\n",
    "episode_agents=episode_agents.groupby([\"EpisodeId\",\"SubmissionId\"]).first()\n",
    "episode_agents"
   ]
  },
  {
   "cell_type": "code",
   "execution_count": null,
   "metadata": {
    "execution": {
     "iopub.execute_input": "2024-06-19T01:49:51.563138Z",
     "iopub.status.busy": "2024-06-19T01:49:51.562683Z",
     "iopub.status.idle": "2024-06-19T01:49:51.596959Z",
     "shell.execute_reply": "2024-06-19T01:49:51.595367Z",
     "shell.execute_reply.started": "2024-06-19T01:49:51.563095Z"
    }
   },
   "outputs": [],
   "source": [
    "def show_game(row:pd.Series):\n",
    "    if row.empty:\n",
    "        return \n",
    "    table_format = \"| {question} | {answer} | {guess} |\"\n",
    "    history = \"\\n\".join([table_format.format(question=\"question\",answer=\"answer\", guess=\"guess\"), table_format.format(question=\"---\",answer=\"---\", guess=\"---\") ] + [table_format.format(question=question,answer=answer, guess=guess) for answer, question, guess in zip(row.answers, row.questions, row.guesses)])\n",
    "    guesser_score = episode_agents.loc[(row.game_num, row.guesser_SubmissionId)]\n",
    "    guesser_score = f\"{guesser_score.InitialScore:.2f}->{guesser_score.UpdatedScore:.2f} Confidence={guesser_score.UpdatedConfidence:.2f}\" if not guesser_score.empty else \"\"\n",
    "    \n",
    "    answerer_score = episode_agents.loc[(row.game_num, row.answerer_SubmissionId)]\n",
    "    answerer_score = f\"{answerer_score.InitialScore:.2f}->{answerer_score.UpdatedScore:.2f} Confidence={answerer_score.UpdatedConfidence:.2f}\" if not answerer_score.empty else \"\"\n",
    "    \n",
    "    return display(Markdown(f\"\"\"\\\n",
    "* {row.game_num=}\n",
    "* Guesser:  **{row.guesser}** score: {guesser_score}\n",
    "* Answerer: **{row.answerer}** score: {answerer_score}\n",
    "* Keyword: **{row.keyword}** Category: {row.category} \n",
    "* Nb round: {row.nb_round} {row.CreateTime}\n",
    "\n",
    "{history}\n",
    "\"\"\"))\n",
    "    \n",
    "show_game(winner_df.iloc[0]) # this example show that `the answer is: france` did not won the game, need exact keyword or one of alts"
   ]
  },
  {
   "cell_type": "code",
   "execution_count": null,
   "metadata": {
    "_kg_hide-output": true,
    "execution": {
     "iopub.execute_input": "2024-06-19T01:49:51.599325Z",
     "iopub.status.busy": "2024-06-19T01:49:51.598884Z",
     "iopub.status.idle": "2024-06-19T01:49:51.627006Z",
     "shell.execute_reply": "2024-06-19T01:49:51.625583Z",
     "shell.execute_reply.started": "2024-06-19T01:49:51.599286Z"
    }
   },
   "outputs": [],
   "source": [
    "display(Markdown(f\"## Best answerer **{fmt_team_winrate(answerer_win[0])}**\"))\n",
    "for i, row in winner_df[winner_df.answerer==answerer_win[0][0]].iterrows():\n",
    "    show_game(row)"
   ]
  },
  {
   "cell_type": "code",
   "execution_count": null,
   "metadata": {
    "_kg_hide-output": true,
    "execution": {
     "iopub.execute_input": "2024-06-19T01:49:51.631672Z",
     "iopub.status.busy": "2024-06-19T01:49:51.631172Z",
     "iopub.status.idle": "2024-06-19T01:49:51.933959Z",
     "shell.execute_reply": "2024-06-19T01:49:51.932862Z",
     "shell.execute_reply.started": "2024-06-19T01:49:51.631633Z"
    }
   },
   "outputs": [],
   "source": [
    "display(Markdown(f\"## Best guesser **{fmt_team_winrate(guesser_win[0])}**\"))\n",
    "for i, row in winner_df[winner_df.guesser==guesser_win[0][0]].iterrows():\n",
    "    show_game(row)"
   ]
  },
  {
   "cell_type": "markdown",
   "id": "280696da",
   "metadata": {},
   "source": [
    "# Best submissions\n",
    "Same, per SubmissionId instead of just guesser/answerer.  \n",
    "The goal is to have a more precise leaderbord, a team could submit multiple agents with different strategies and results.    \n",
    "With the submissionId we can see if a new submission perform well (no matter how many submissions the team made and how many games they played)\n"
   ]
  },
  {
   "cell_type": "code",
   "execution_count": null,
   "metadata": {
    "execution": {
     "iopub.execute_input": "2024-06-19T01:49:51.935575Z",
     "iopub.status.busy": "2024-06-19T01:49:51.935222Z",
     "iopub.status.idle": "2024-06-19T01:49:51.965267Z",
     "shell.execute_reply": "2024-06-19T01:49:51.963945Z",
     "shell.execute_reply.started": "2024-06-19T01:49:51.935547Z"
    }
   },
   "outputs": [],
   "source": [
    "guesser_sub_counts = {k:v for k,v in df.guesser_SubmissionId.value_counts().items()}\n",
    "answerer_sub_counts = {k:v for k,v in df.answerer_SubmissionId.value_counts().items()}\n",
    "\n",
    "guesser_sub_win = winrate(winner_df.guesser_SubmissionId.value_counts().items(), guesser_sub_counts)\n",
    "answerer_sub_win = winrate(winner_df.answerer_SubmissionId.value_counts().items(), answerer_sub_counts)\n",
    "\n",
    "subId_to_team = {**winner_df.groupby(\"answerer_SubmissionId\").answerer.first(), **winner_df.groupby(\"guesser_SubmissionId\").guesser.first()}"
   ]
  },
  {
   "cell_type": "markdown",
   "id": "f449711e",
   "metadata": {},
   "source": [
    "# Guesser_submission_leaderbord\n",
    "[Table of Contents](#Table_of_Contents)"
   ]
  },
  {
   "cell_type": "code",
   "execution_count": null,
   "metadata": {
    "_kg_hide-output": true,
    "execution": {
     "iopub.execute_input": "2024-06-19T01:49:51.967764Z",
     "iopub.status.busy": "2024-06-19T01:49:51.967316Z",
     "iopub.status.idle": "2024-06-19T01:49:51.974057Z",
     "shell.execute_reply": "2024-06-19T01:49:51.972917Z",
     "shell.execute_reply.started": "2024-06-19T01:49:51.967722Z"
    }
   },
   "outputs": [],
   "source": [
    "for team in guesser_sub_win[:10]:\n",
    "    team = (f\"{subId_to_team[team[0]]} {team[0]}\",(team[1]))\n",
    "    print(fmt_team_winrate(team))"
   ]
  },
  {
   "cell_type": "code",
   "execution_count": null,
   "metadata": {
    "_kg_hide-output": false,
    "execution": {
     "iopub.execute_input": "2024-06-19T01:49:51.976152Z",
     "iopub.status.busy": "2024-06-19T01:49:51.97573Z",
     "iopub.status.idle": "2024-06-19T01:49:51.991996Z",
     "shell.execute_reply": "2024-06-19T01:49:51.990978Z",
     "shell.execute_reply.started": "2024-06-19T01:49:51.976114Z"
    }
   },
   "outputs": [],
   "source": [
    "display(Markdown(f\"## Games from the best guesser agents: SubmissionId={fmt_team_winrate(guesser_sub_win[0])}\"))\n",
    "for i, row in winner_df[winner_df.guesser_SubmissionId==guesser_sub_win[0][0]].iterrows():\n",
    "    show_game(row)"
   ]
  },
  {
   "cell_type": "markdown",
   "id": "8e5209be",
   "metadata": {},
   "source": [
    "# Answerer_submission_leaderbord\n",
    "[Table of Contents](#Table_of_Contents)"
   ]
  },
  {
   "cell_type": "code",
   "execution_count": null,
   "metadata": {
    "_kg_hide-output": true,
    "execution": {
     "iopub.execute_input": "2024-06-19T01:49:51.994194Z",
     "iopub.status.busy": "2024-06-19T01:49:51.993559Z",
     "iopub.status.idle": "2024-06-19T01:49:52.003176Z",
     "shell.execute_reply": "2024-06-19T01:49:52.002216Z",
     "shell.execute_reply.started": "2024-06-19T01:49:51.994156Z"
    }
   },
   "outputs": [],
   "source": [
    "for team in answerer_sub_win[:10]:\n",
    "    team = (f\"{subId_to_team[team[0]]} {team[0]}\",(team[1]))\n",
    "    print(fmt_team_winrate(team))"
   ]
  },
  {
   "cell_type": "code",
   "execution_count": null,
   "metadata": {
    "_kg_hide-output": false,
    "execution": {
     "iopub.execute_input": "2024-06-19T01:49:52.005406Z",
     "iopub.status.busy": "2024-06-19T01:49:52.004773Z",
     "iopub.status.idle": "2024-06-19T01:49:52.038065Z",
     "shell.execute_reply": "2024-06-19T01:49:52.036767Z",
     "shell.execute_reply.started": "2024-06-19T01:49:52.00537Z"
    }
   },
   "outputs": [],
   "source": [
    "display(Markdown(f\"## Games from the best answerer agents: {subId_to_team[answerer_sub_win[0][0]]} SubmissionId={fmt_team_winrate(answerer_sub_win[0])}\"))\n",
    "for i, row in winner_df[winner_df.answerer_SubmissionId==answerer_sub_win[0][0]].iterrows():\n",
    "    show_game(row)"
   ]
  },
  {
   "cell_type": "code",
   "execution_count": null,
   "metadata": {
    "execution": {
     "iopub.execute_input": "2024-06-19T01:49:52.040746Z",
     "iopub.status.busy": "2024-06-19T01:49:52.040258Z",
     "iopub.status.idle": "2024-06-19T01:49:52.055875Z",
     "shell.execute_reply": "2024-06-19T01:49:52.053996Z",
     "shell.execute_reply.started": "2024-06-19T01:49:52.040707Z"
    }
   },
   "outputs": [],
   "source": [
    "display(Markdown(f\"## Games from the 2nd best answerer agents: {subId_to_team[answerer_sub_win[1][0]]} SubmissionId={fmt_team_winrate(answerer_sub_win[1])}\"))\n",
    "for i, row in winner_df[winner_df.answerer_SubmissionId==answerer_sub_win[1][0]].iterrows():\n",
    "    show_game(row)"
   ]
  },
  {
   "cell_type": "markdown",
   "id": "0ae02965",
   "metadata": {},
   "source": [
    "# Games from submissions with the best score\n",
    "Also count previous submissions, not very useful for now"
   ]
  },
  {
   "cell_type": "code",
   "execution_count": null,
   "metadata": {
    "execution": {
     "iopub.execute_input": "2024-06-19T01:49:52.058784Z",
     "iopub.status.busy": "2024-06-19T01:49:52.058325Z",
     "iopub.status.idle": "2024-06-19T01:49:52.117108Z",
     "shell.execute_reply": "2024-06-19T01:49:52.115749Z",
     "shell.execute_reply.started": "2024-06-19T01:49:52.058743Z"
    }
   },
   "outputs": [],
   "source": [
    "_, best_subId = episode_agents.iloc[episode_agents.UpdatedScore.argmax()].name\n",
    "display(Markdown(f\"## Submission with best score: {subId_to_team[best_subId]} SubmissionId={best_subId}\"))\n",
    "for i, row in winner_df[winner_df.answerer_SubmissionId==best_subId].iterrows():\n",
    "    show_game(row)\n",
    "    \n",
    "for i, row in winner_df[winner_df.guesser_SubmissionId==best_subId].iterrows():\n",
    "    show_game(row)"
   ]
  },
  {
   "cell_type": "markdown",
   "id": "8237f667",
   "metadata": {},
   "source": [
    "# Questions_wordcould"
   ]
  },
  {
   "cell_type": "code",
   "execution_count": null,
   "metadata": {
    "execution": {
     "iopub.execute_input": "2024-06-19T01:49:52.119755Z",
     "iopub.status.busy": "2024-06-19T01:49:52.119272Z",
     "iopub.status.idle": "2024-06-19T01:49:52.989842Z",
     "shell.execute_reply": "2024-06-19T01:49:52.988408Z",
     "shell.execute_reply.started": "2024-06-19T01:49:52.119715Z"
    }
   },
   "outputs": [],
   "source": [
    "t = str.maketrans(\"\", \"\", string.punctuation)\n",
    "questions_flat = [question.lower() for questions in df.questions.values for question in questions]\n",
    "print(\"nb unique questions:\",len(set(questions_flat)))"
   ]
  },
  {
   "cell_type": "code",
   "execution_count": null,
   "metadata": {
    "execution": {
     "iopub.execute_input": "2024-06-19T01:49:52.992246Z",
     "iopub.status.busy": "2024-06-19T01:49:52.991796Z",
     "iopub.status.idle": "2024-06-19T01:49:53.630399Z",
     "shell.execute_reply": "2024-06-19T01:49:53.629021Z",
     "shell.execute_reply.started": "2024-06-19T01:49:52.992209Z"
    }
   },
   "outputs": [],
   "source": [
    "Counter(questions_flat).most_common(50)"
   ]
  },
  {
   "cell_type": "code",
   "execution_count": null,
   "metadata": {
    "_kg_hide-output": true,
    "execution": {
     "iopub.execute_input": "2024-06-19T01:49:53.633213Z",
     "iopub.status.busy": "2024-06-19T01:49:53.632687Z",
     "iopub.status.idle": "2024-06-19T01:49:53.934105Z",
     "shell.execute_reply": "2024-06-19T01:49:53.932717Z",
     "shell.execute_reply.started": "2024-06-19T01:49:53.633172Z"
    }
   },
   "outputs": [],
   "source": [
    "nltk.download('stopwords')\n",
    "stop_words = list(stopwords.words('english'))\n",
    "stop_words"
   ]
  },
  {
   "cell_type": "code",
   "execution_count": null,
   "metadata": {
    "execution": {
     "iopub.execute_input": "2024-06-19T01:49:53.936515Z",
     "iopub.status.busy": "2024-06-19T01:49:53.93603Z",
     "iopub.status.idle": "2024-06-19T01:49:56.711153Z",
     "shell.execute_reply": "2024-06-19T01:49:56.709899Z",
     "shell.execute_reply.started": "2024-06-19T01:49:53.936455Z"
    }
   },
   "outputs": [],
   "source": [
    "%%time\n",
    "top_q_str = \" \".join(question for question, count in Counter(questions_flat).most_common(200))\n",
    "wordcloud = WordCloud(stopwords=stop_words, background_color=\"white\", width=800, height=400).generate(top_q_str)\n",
    "\n",
    "# Display the generated image:\n",
    "plt.figure(figsize=(30,20))\n",
    "plt.imshow(wordcloud, interpolation='bilinear')\n",
    "plt.axis(\"off\")\n",
    "plt.show()"
   ]
  },
  {
   "cell_type": "code",
   "execution_count": null,
   "metadata": {
    "execution": {
     "iopub.execute_input": "2024-06-19T01:49:56.716595Z",
     "iopub.status.busy": "2024-06-19T01:49:56.715389Z",
     "iopub.status.idle": "2024-06-19T01:49:58.583441Z",
     "shell.execute_reply": "2024-06-19T01:49:58.58043Z",
     "shell.execute_reply.started": "2024-06-19T01:49:56.716557Z"
    }
   },
   "outputs": [],
   "source": [
    "%%time\n",
    "stop_words+=[\"keyword\",\"question\",\"questions\",\"sure\",\"please\",\"answer\",\"answerer\",\"answers\",\"yes\"]\n",
    "wordcloud_words = WordCloud(stopwords=stop_words, background_color=\"white\", width=800, height=400).generate(top_q_str)\n",
    "\n",
    "# Display the generated image:\n",
    "plt.figure(figsize=(30,20))\n",
    "plt.imshow(wordcloud_words, interpolation='bilinear')\n",
    "plt.axis(\"off\")\n",
    "plt.show()"
   ]
  },
  {
   "cell_type": "code",
   "execution_count": null,
   "metadata": {
    "execution": {
     "iopub.execute_input": "2024-06-19T01:49:58.585319Z",
     "iopub.status.busy": "2024-06-19T01:49:58.584971Z",
     "iopub.status.idle": "2024-06-19T01:49:58.590695Z",
     "shell.execute_reply": "2024-06-19T01:49:58.589326Z",
     "shell.execute_reply.started": "2024-06-19T01:49:58.585294Z"
    }
   },
   "outputs": [],
   "source": [
    "# tfidf = TfidfVectorizer(max_df=.98, min_df=.01, stop_words=stop_words, use_idf=True, norm=None)\n",
    "# questions_tfidf = tfidf.fit_transform(questions_flat)\n",
    "# questions_tfidf"
   ]
  },
  {
   "cell_type": "code",
   "execution_count": null,
   "metadata": {
    "execution": {
     "iopub.execute_input": "2024-06-19T01:49:58.592906Z",
     "iopub.status.busy": "2024-06-19T01:49:58.592431Z",
     "iopub.status.idle": "2024-06-19T01:49:58.60476Z",
     "shell.execute_reply": "2024-06-19T01:49:58.603403Z",
     "shell.execute_reply.started": "2024-06-19T01:49:58.59287Z"
    }
   },
   "outputs": [],
   "source": [
    "# tfidf.get_feature_names_out()"
   ]
  },
  {
   "cell_type": "code",
   "execution_count": null,
   "metadata": {
    "execution": {
     "iopub.execute_input": "2024-06-19T01:49:58.607418Z",
     "iopub.status.busy": "2024-06-19T01:49:58.606909Z",
     "iopub.status.idle": "2024-06-19T01:49:58.619257Z",
     "shell.execute_reply": "2024-06-19T01:49:58.617712Z",
     "shell.execute_reply.started": "2024-06-19T01:49:58.60738Z"
    }
   },
   "outputs": [],
   "source": [
    "# questions_tfidf = pd.DataFrame(questions_tfidf.todense(),columns=tfidf.get_feature_names_out())\n",
    "# questions_tfidf"
   ]
  },
  {
   "cell_type": "markdown",
   "id": "1aa9448f",
   "metadata": {},
   "source": [
    "# Most asked questions from winning games"
   ]
  },
  {
   "cell_type": "code",
   "execution_count": null,
   "metadata": {
    "execution": {
     "iopub.execute_input": "2024-06-19T01:49:58.621698Z",
     "iopub.status.busy": "2024-06-19T01:49:58.621263Z",
     "iopub.status.idle": "2024-06-19T01:49:58.632102Z",
     "shell.execute_reply": "2024-06-19T01:49:58.630282Z",
     "shell.execute_reply.started": "2024-06-19T01:49:58.621664Z"
    }
   },
   "outputs": [],
   "source": [
    "# questions_win = {question for questions in winner_df.questions.values for question in questions}\n",
    "# print(len(questions_win))\n",
    "# questions_win"
   ]
  },
  {
   "cell_type": "code",
   "execution_count": null,
   "metadata": {
    "execution": {
     "iopub.execute_input": "2024-06-19T01:49:58.63476Z",
     "iopub.status.busy": "2024-06-19T01:49:58.634347Z",
     "iopub.status.idle": "2024-06-19T01:49:58.650183Z",
     "shell.execute_reply": "2024-06-19T01:49:58.648787Z",
     "shell.execute_reply.started": "2024-06-19T01:49:58.634714Z"
    }
   },
   "outputs": [],
   "source": [
    "all_questions_win = [question.lower() for questions in winner_df.questions.values for question in questions]\n",
    "len(all_questions_win)"
   ]
  },
  {
   "cell_type": "code",
   "execution_count": null,
   "metadata": {
    "execution": {
     "iopub.execute_input": "2024-06-19T01:49:58.653033Z",
     "iopub.status.busy": "2024-06-19T01:49:58.652156Z",
     "iopub.status.idle": "2024-06-19T01:49:58.669233Z",
     "shell.execute_reply": "2024-06-19T01:49:58.667824Z",
     "shell.execute_reply.started": "2024-06-19T01:49:58.652989Z"
    }
   },
   "outputs": [],
   "source": [
    "Counter(all_questions_win).most_common(50)"
   ]
  },
  {
   "cell_type": "code",
   "execution_count": null,
   "metadata": {
    "execution": {
     "iopub.execute_input": "2024-06-19T01:49:58.671319Z",
     "iopub.status.busy": "2024-06-19T01:49:58.670914Z",
     "iopub.status.idle": "2024-06-19T01:49:59.903938Z",
     "shell.execute_reply": "2024-06-19T01:49:59.902436Z",
     "shell.execute_reply.started": "2024-06-19T01:49:58.671286Z"
    }
   },
   "outputs": [],
   "source": [
    "%%time\n",
    "stop_words+=[\"keyword\",\"question\",\"questions\",\"sure\",\"please\",\"answer\",\"answerer\",\"answers\",\"yes\"]\n",
    "wordcloud_words = WordCloud(stopwords=stop_words, background_color=\"white\", width=800, height=400).generate(\" \".join(question for question, count in Counter(all_questions_win).most_common(50)))\n",
    "\n",
    "# Display the generated image:\n",
    "plt.figure(figsize=(30,20))\n",
    "plt.imshow(wordcloud_words, interpolation='bilinear')\n",
    "plt.axis(\"off\")\n",
    "plt.show()"
   ]
  },
  {
   "cell_type": "markdown",
   "id": "5ee30e95",
   "metadata": {},
   "source": [
    "# Episodes succesful since the keywords maj"
   ]
  },
  {
   "cell_type": "code",
   "execution_count": null,
   "metadata": {
    "execution": {
     "iopub.execute_input": "2024-06-19T01:53:14.275928Z",
     "iopub.status.busy": "2024-06-19T01:53:14.274626Z",
     "iopub.status.idle": "2024-06-19T01:53:14.306313Z",
     "shell.execute_reply": "2024-06-19T01:53:14.304699Z",
     "shell.execute_reply.started": "2024-06-19T01:53:14.275889Z"
    }
   },
   "outputs": [],
   "source": [
    "winner_df_maj = winner_df.loc[winner_df.category.isin([\"place\",\"things\"])]\n",
    "winner_df_maj"
   ]
  },
  {
   "cell_type": "code",
   "execution_count": null,
   "metadata": {
    "execution": {
     "iopub.execute_input": "2024-06-19T01:53:16.007103Z",
     "iopub.status.busy": "2024-06-19T01:53:16.006583Z",
     "iopub.status.idle": "2024-06-19T01:53:16.016911Z",
     "shell.execute_reply": "2024-06-19T01:53:16.01581Z",
     "shell.execute_reply.started": "2024-06-19T01:53:16.007061Z"
    }
   },
   "outputs": [],
   "source": [
    "winner_df_maj.answerer.value_counts()"
   ]
  },
  {
   "cell_type": "code",
   "execution_count": null,
   "metadata": {
    "execution": {
     "iopub.execute_input": "2024-06-19T01:53:26.702196Z",
     "iopub.status.busy": "2024-06-19T01:53:26.701753Z",
     "iopub.status.idle": "2024-06-19T01:53:26.713151Z",
     "shell.execute_reply": "2024-06-19T01:53:26.711868Z",
     "shell.execute_reply.started": "2024-06-19T01:53:26.702167Z"
    }
   },
   "outputs": [],
   "source": [
    "winner_df_maj.guesser.value_counts()"
   ]
  }
 ],
 "metadata": {
  "kaggle": {
   "accelerator": "none",
   "dataSources": [
    {
     "databundleVersionId": 8550470,
     "sourceId": 61247,
     "sourceType": "competition"
    },
    {
     "datasetId": 5068883,
     "sourceId": 8626439,
     "sourceType": "datasetVersion"
    },
    {
     "sourceId": 184227696,
     "sourceType": "kernelVersion"
    }
   ],
   "dockerImageVersionId": 30698,
   "isGpuEnabled": false,
   "isInternetEnabled": true,
   "language": "python",
   "sourceType": "notebook"
  },
  "kernelspec": {
   "display_name": "Python 3",
   "language": "python",
   "name": "python3"
  },
  "language_info": {
   "codemirror_mode": {
    "name": "ipython",
    "version": 3
   },
   "file_extension": ".py",
   "mimetype": "text/x-python",
   "name": "python",
   "nbconvert_exporter": "python",
   "pygments_lexer": "ipython3",
   "version": "3.10.13"
  }
 },
 "nbformat": 4,
 "nbformat_minor": 4
}
