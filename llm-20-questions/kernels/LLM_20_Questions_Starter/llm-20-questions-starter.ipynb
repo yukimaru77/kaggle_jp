{
 "cells": [
  {
   "cell_type": "code",
   "execution_count": null,
   "metadata": {
    "_cell_guid": "b1076dfc-b9ad-4769-8c92-a6c4dae69d19",
    "_uuid": "8f2839f25d086af736a60e9eeb907d3b93b6e0e5",
    "execution": {
     "iopub.execute_input": "2024-06-30T11:10:37.007149Z",
     "iopub.status.busy": "2024-06-30T11:10:37.006737Z",
     "iopub.status.idle": "2024-06-30T11:10:38.1373Z",
     "shell.execute_reply": "2024-06-30T11:10:38.135812Z",
     "shell.execute_reply.started": "2024-06-30T11:10:37.007119Z"
    }
   },
   "outputs": [],
   "source": [
    "# This Python 3 environment comes with many helpful analytics libraries installed\n",
    "# It is defined by the kaggle/python Docker image: https://github.com/kaggle/docker-python\n",
    "# For example, here's several helpful packages to load\n",
    "\n",
    "import numpy as np # linear algebra\n",
    "import pandas as pd # data processing, CSV file I/O (e.g. pd.read_csv)\n",
    "\n",
    "# Input data files are available in the read-only \"../input/\" directory\n",
    "# For example, running this (by clicking run or pressing Shift+Enter) will list all files under the input directory\n",
    "\n",
    "import os\n",
    "for dirname, _, filenames in os.walk('/kaggle/input'):\n",
    "    for filename in filenames:\n",
    "        print(os.path.join(dirname, filename))\n",
    "\n",
    "# You can write up to 20GB to the current directory (/kaggle/working/) that gets preserved as output when you create a version using \"Save & Run All\" \n",
    "# You can also write temporary files to /kaggle/temp/, but they won't be saved outside of the current session"
   ]
  },
  {
   "cell_type": "code",
   "execution_count": null,
   "metadata": {
    "execution": {
     "iopub.execute_input": "2024-06-30T12:02:23.166113Z",
     "iopub.status.busy": "2024-06-30T12:02:23.165581Z",
     "iopub.status.idle": "2024-06-30T12:02:23.183858Z",
     "shell.execute_reply": "2024-06-30T12:02:23.182617Z",
     "shell.execute_reply.started": "2024-06-30T12:02:23.166082Z"
    }
   },
   "outputs": [],
   "source": [
    "import random\n",
    "\n",
    "# Helper function to check if a keyword is related to a category\n",
    "def is_related(keyword, category_keywords):\n",
    "    return keyword.lower() in category_keywords\n",
    "\n",
    "# Category Keywords\n",
    "electronics_keywords = {\"smartphone\", \"laptop\", \"tablet\", \"television\"}\n",
    "food_keywords = {\"pizza\", \"burger\", \"sushi\", \"pasta\"}\n",
    "vehicles_keywords = {\"car\", \"bike\", \"plane\", \"boat\"}\n",
    "countries_keywords = {\"japan\", \"france\", \"brazil\", \"canada\"}\n",
    "\n",
    "def simple_agent1(obs, cfg):\n",
    "    electronics_questions = [\n",
    "        \"Is it a smartphone?\", \"Is it a laptop?\", \n",
    "        \"Is it a tablet?\", \"Is it a television?\"\n",
    "    ]\n",
    "    \n",
    "    if obs.turnType == \"ask\": \n",
    "        response = random.choice(electronics_questions)\n",
    "    elif obs.turnType == \"guess\": \n",
    "        response = \"smartphone\"  # Improved logic can be added here\n",
    "    elif obs.turnType == \"answer\":\n",
    "        response = \"**yes**\" if is_related(obs.keyword, electronics_keywords) else \"**no**\"\n",
    "    return response\n",
    "\n",
    "def simple_agent2(obs, cfg):\n",
    "    food_questions = [\n",
    "        \"Is it a pizza?\", \"Is it a burger?\", \n",
    "        \"Is it sushi?\", \"Is it pasta?\"\n",
    "    ]\n",
    "    \n",
    "    if obs.turnType == \"ask\": \n",
    "        response = random.choice(food_questions)\n",
    "    elif obs.turnType == \"guess\": \n",
    "        response = \"pizza\"  # Improved logic can be added here\n",
    "    elif obs.turnType == \"answer\":\n",
    "        response = \"**yes**\" if is_related(obs.keyword, food_keywords) else \"**no**\"\n",
    "    return response\n",
    "\n",
    "def simple_agent3(obs, cfg):\n",
    "    vehicle_questions = [\n",
    "        \"Is it a car?\", \"Is it a bike?\", \n",
    "        \"Is it a plane?\", \"Is it a boat?\"\n",
    "    ]\n",
    "    \n",
    "    if obs.turnType == \"ask\": \n",
    "        response = random.choice(vehicle_questions)\n",
    "    elif obs.turnType == \"guess\": \n",
    "        response = \"car\"  # Improved logic can be added here\n",
    "    elif obs.turnType == \"answer\":\n",
    "        response = \"**yes**\" if is_related(obs.keyword, vehicles_keywords) else \"**no**\"\n",
    "    return response\n",
    "\n",
    "def simple_agent4(obs, cfg):\n",
    "    country_questions = [\n",
    "        \"Is it Japan?\", \"Is it France?\", \n",
    "        \"Is it Brazil?\", \"Is it Canada?\"\n",
    "    ]\n",
    "    \n",
    "    if obs.turnType == \"ask\": \n",
    "        response = random.choice(country_questions)\n",
    "    elif obs.turnType == \"guess\": \n",
    "        response = \"Japan\"  # Improved logic can be added here\n",
    "    elif obs.turnType == \"answer\":\n",
    "        response = \"**yes**\" if is_related(obs.keyword, countries_keywords) else \"**no**\"\n",
    "    return response\n"
   ]
  },
  {
   "cell_type": "code",
   "execution_count": null,
   "metadata": {},
   "outputs": [],
   "source": []
  },
  {
   "cell_type": "markdown",
   "id": "468ab94b",
   "metadata": {},
   "source": [
    "# Make and Configure Game Environment\n",
    "\n",
    "Kaggle environments are created with the `make()` function with the *environment* name (`\"llm_20_questions\"`) and some optional defaults, like *configuration* and *info*. If you want to run a game just like the competition, you can just use the defaults."
   ]
  },
  {
   "cell_type": "code",
   "execution_count": null,
   "metadata": {
    "execution": {
     "iopub.execute_input": "2024-06-30T12:00:57.041028Z",
     "iopub.status.busy": "2024-06-30T12:00:57.040585Z",
     "iopub.status.idle": "2024-06-30T12:00:57.187884Z",
     "shell.execute_reply": "2024-06-30T12:00:57.186401Z",
     "shell.execute_reply.started": "2024-06-30T12:00:57.040996Z"
    }
   },
   "outputs": [],
   "source": [
    "import kaggle_environments\n",
    "env = kaggle_environments.make(environment=\"llm_20_questions\")\n",
    "# (you can ignore the error \"No pygame installed\")"
   ]
  },
  {
   "cell_type": "code",
   "execution_count": null,
   "metadata": {
    "execution": {
     "iopub.execute_input": "2024-06-30T12:03:58.125579Z",
     "iopub.status.busy": "2024-06-30T12:03:58.125025Z",
     "iopub.status.idle": "2024-06-30T12:03:58.133924Z",
     "shell.execute_reply": "2024-06-30T12:03:58.132183Z",
     "shell.execute_reply.started": "2024-06-30T12:03:58.125545Z"
    }
   },
   "outputs": [],
   "source": [
    "print(\"The keyword for this session is: \")\n",
    "print(kaggle_environments.envs.llm_20_questions.llm_20_questions.keyword)\n",
    "print(\" \")\n",
    "print(\"Some keywords have a list of alternative guesses (alts) that are also accepted.\")\n",
    "print(\"For this session, the list of alts is:\")\n",
    "print(kaggle_environments.envs.llm_20_questions.llm_20_questions.alts)"
   ]
  },
  {
   "cell_type": "markdown",
   "id": "f4f57c7b",
   "metadata": {},
   "source": [
    "# Running LLM 20 Questions (default)\n",
    "\n",
    "With the environment you created (`env`), you run the game in this environment. When you run the game, you must submit a list of four agents: \n",
    "* \"Agent1\" (guesser for Team 1), \n",
    "* \"Agent2\" (answerer for Team 1), \n",
    "* \"Agent3\" (guesser for Team 2), \n",
    "* \"Agent4\" (answerer for Team 2). \n",
    "\n",
    "In the competition, you are randomly paired with a teammate to either be the guesser or the answerer."
   ]
  },
  {
   "cell_type": "code",
   "execution_count": null,
   "metadata": {
    "execution": {
     "iopub.execute_input": "2024-06-30T12:04:01.605235Z",
     "iopub.status.busy": "2024-06-30T12:04:01.60481Z",
     "iopub.status.idle": "2024-06-30T12:04:02.12006Z",
     "shell.execute_reply": "2024-06-30T12:04:02.118693Z",
     "shell.execute_reply.started": "2024-06-30T12:04:01.605203Z"
    }
   },
   "outputs": [],
   "source": [
    "%%time\n",
    "game_output = env.run(agents=[simple_agent1, simple_agent2, simple_agent3, simple_agent4])"
   ]
  },
  {
   "cell_type": "code",
   "execution_count": null,
   "metadata": {
    "execution": {
     "iopub.execute_input": "2024-06-30T12:04:05.322763Z",
     "iopub.status.busy": "2024-06-30T12:04:05.322363Z",
     "iopub.status.idle": "2024-06-30T12:04:05.397734Z",
     "shell.execute_reply": "2024-06-30T12:04:05.396281Z",
     "shell.execute_reply.started": "2024-06-30T12:04:05.322734Z"
    }
   },
   "outputs": [],
   "source": [
    "env.render(mode=\"ipython\", width=600, height=500)"
   ]
  },
  {
   "cell_type": "markdown",
   "id": "ad341fdf",
   "metadata": {},
   "source": [
    "# Create an Agent that Could be Submitted\n",
    "To submit an agent to the competition, you need to write the Python code for the agent in a file titled main.py and put it along with any supporting files in submission.tar.gz\n",
    "\n",
    "A simple example is below. Of course, in the actual competition, you'll probably want to use a real LLM like in the official starter notebook (https://www.kaggle.com/code/ryanholbrook/llm-20-questions-starter-notebook). Running LLM agents in a notebook will take more time and memory, so if you're testing your LLM agent as player 1, you might want to put a simple agent as player 2."
   ]
  },
  {
   "cell_type": "code",
   "execution_count": null,
   "metadata": {
    "execution": {
     "iopub.execute_input": "2024-06-30T12:05:13.186819Z",
     "iopub.status.busy": "2024-06-30T12:05:13.186374Z",
     "iopub.status.idle": "2024-06-30T12:05:13.193505Z",
     "shell.execute_reply": "2024-06-30T12:05:13.192363Z",
     "shell.execute_reply.started": "2024-06-30T12:05:13.18679Z"
    }
   },
   "outputs": [],
   "source": [
    "import os\n",
    "submission_directory = \"/kaggle/working/submission\"\n",
    "submission_subdirectory = \"lib\"\n",
    "# Create the main directory if it doesn't exist\n",
    "if not os.path.exists(submission_directory):\n",
    "    os.mkdir(submission_directory)\n",
    "    subdirectory_path = os.path.join(submission_directory, submission_subdirectory)\n",
    "    os.mkdir(subdirectory_path)"
   ]
  },
  {
   "cell_type": "code",
   "execution_count": null,
   "metadata": {
    "execution": {
     "iopub.execute_input": "2024-06-30T12:06:27.039111Z",
     "iopub.status.busy": "2024-06-30T12:06:27.038579Z",
     "iopub.status.idle": "2024-06-30T12:06:27.049513Z",
     "shell.execute_reply": "2024-06-30T12:06:27.048207Z",
     "shell.execute_reply.started": "2024-06-30T12:06:27.039076Z"
    }
   },
   "outputs": [],
   "source": [
    "import os\n",
    "import csv\n",
    "\n",
    "# Define the main directory and the subdirectory\n",
    "submission_directory = \"/kaggle/working/submission\"\n",
    "submission_subdirectory = \"lib\"\n",
    "\n",
    "# Create the main directory if it doesn't exist\n",
    "if not os.path.exists(submission_directory):\n",
    "    os.mkdir(submission_directory)\n",
    "\n",
    "# Define the full path for the subdirectory\n",
    "subdirectory_path = os.path.join(submission_directory, submission_subdirectory)\n",
    "\n",
    "# Create the subdirectory if it doesn't exist\n",
    "if not os.path.exists(subdirectory_path):\n",
    "    os.mkdir(subdirectory_path)\n",
    "\n",
    "# Create an example CSV file in the lib directory\n",
    "with open(os.path.join(subdirectory_path, \"example.csv\"), mode='w') as file:\n",
    "    writer = csv.writer(file)\n",
    "    writer.writerow([\"cow\", \"horse\"])\n"
   ]
  },
  {
   "cell_type": "code",
   "execution_count": null,
   "metadata": {},
   "outputs": [],
   "source": []
  },
  {
   "cell_type": "markdown",
   "id": "58486835",
   "metadata": {},
   "source": [
    "* Write the main.py Python code for your agent\n",
    "* The environment will use the last function in main.py for your agent, in this case `agent_fun()`\n"
   ]
  },
  {
   "cell_type": "code",
   "execution_count": null,
   "metadata": {
    "execution": {
     "iopub.execute_input": "2024-06-30T12:07:24.809724Z",
     "iopub.status.busy": "2024-06-30T12:07:24.809209Z",
     "iopub.status.idle": "2024-06-30T12:07:24.82231Z",
     "shell.execute_reply": "2024-06-30T12:07:24.820737Z",
     "shell.execute_reply.started": "2024-06-30T12:07:24.809689Z"
    }
   },
   "outputs": [],
   "source": [
    "%%writefile /kaggle/working/submission/main.py\n",
    "\n",
    "import os\n",
    "import sys\n",
    "import csv\n",
    "import random\n",
    "\n",
    "\n",
    "\n",
    "# If you put other files (e.g. model weights) in your submission/lib directory, you need to set the path\n",
    "KAGGLE_COMPETITION_PATH = \"/kaggle_simulations/agent/\" # competition path\n",
    "if os.path.exists(KAGGLE_COMPETITION_PATH):  # if running in the competition\n",
    "    subdirectory_path = os.path.join(KAGGLE_COMPETITION_PATH, \"lib\")\n",
    "else: # if running in notebook\n",
    "    subdirectory_path = os.path.join(\"/kaggle/working/submission/\", \"lib\")\n",
    "sys.path.insert(0, subdirectory_path)\n",
    "\n",
    "\n",
    "# Loading our example file\n",
    "with open(os.path.join(subdirectory_path,\"example.csv\"), mode='r') as file:\n",
    "    reader = csv.reader(file)\n",
    "    guess_list = list(reader)\n",
    "    guess_list = guess_list[0]\n",
    "\n",
    "# Setting a random \"animal\" from example file as a global variable\n",
    "animal = random.choice(guess_list)\n",
    "    \n",
    "# Last function in the main.py will be the agent function\n",
    "def agent_fn(obs, cfg):\n",
    "    \n",
    "    # if agent is guesser and turnType is \"ask\"\n",
    "    if obs.turnType == \"ask\":\n",
    "        response = f'Does it look like a {animal}?'\n",
    "    # if agent is guesser and turnType is \"guess\"\n",
    "    elif obs.turnType == \"guess\":\n",
    "        if obs.answers[-1]==\"yes\":\n",
    "            response = animal\n",
    "        else:\n",
    "            response = \"penguin\"\n",
    "    # if agent is the answerer\n",
    "    elif obs.turnType == \"answer\":\n",
    "        if obs.keyword in obs.questions[-1]:\n",
    "            response = \"yes\"\n",
    "        else:\n",
    "            response = \"no\"\n",
    "        \n",
    "    return response"
   ]
  },
  {
   "cell_type": "code",
   "execution_count": null,
   "metadata": {},
   "outputs": [],
   "source": []
  },
  {
   "cell_type": "markdown",
   "id": "072e06cb",
   "metadata": {},
   "source": [
    "This `main.py` file with the agent is ready to submit along with the `/lib/example.csv` supporting file."
   ]
  },
  {
   "cell_type": "code",
   "execution_count": null,
   "metadata": {
    "execution": {
     "iopub.execute_input": "2024-06-30T12:07:49.775128Z",
     "iopub.status.busy": "2024-06-30T12:07:49.774204Z",
     "iopub.status.idle": "2024-06-30T12:07:54.400238Z",
     "shell.execute_reply": "2024-06-30T12:07:54.398813Z",
     "shell.execute_reply.started": "2024-06-30T12:07:49.775092Z"
    }
   },
   "outputs": [],
   "source": [
    "!apt install pigz pv > /dev/null\n",
    "!tar --use-compress-program='pigz --fast --recursive | pv' -cf submission.tar.gz -C /kaggle/working/submission ."
   ]
  },
  {
   "cell_type": "code",
   "execution_count": null,
   "metadata": {
    "execution": {
     "iopub.execute_input": "2024-06-30T12:08:00.503074Z",
     "iopub.status.busy": "2024-06-30T12:08:00.502607Z",
     "iopub.status.idle": "2024-06-30T12:08:01.09092Z",
     "shell.execute_reply": "2024-06-30T12:08:01.089708Z",
     "shell.execute_reply.started": "2024-06-30T12:08:00.503039Z"
    }
   },
   "outputs": [],
   "source": [
    "game_output = env.run(agents=[\"/kaggle/working/submission/main.py\", \"/kaggle/working/submission/main.py\", simple_agent3, simple_agent4])\n",
    "env.render(mode=\"ipython\", width=600, height=500)"
   ]
  },
  {
   "cell_type": "code",
   "execution_count": null,
   "metadata": {},
   "outputs": [],
   "source": []
  }
 ],
 "metadata": {
  "kaggle": {
   "accelerator": "none",
   "dataSources": [
    {
     "databundleVersionId": 8550470,
     "sourceId": 61247,
     "sourceType": "competition"
    }
   ],
   "dockerImageVersionId": 30732,
   "isGpuEnabled": false,
   "isInternetEnabled": true,
   "language": "python",
   "sourceType": "notebook"
  },
  "kernelspec": {
   "display_name": "Python 3",
   "language": "python",
   "name": "python3"
  },
  "language_info": {
   "codemirror_mode": {
    "name": "ipython",
    "version": 3
   },
   "file_extension": ".py",
   "mimetype": "text/x-python",
   "name": "python",
   "nbconvert_exporter": "python",
   "pygments_lexer": "ipython3",
   "version": "3.10.13"
  }
 },
 "nbformat": 4,
 "nbformat_minor": 4
}
