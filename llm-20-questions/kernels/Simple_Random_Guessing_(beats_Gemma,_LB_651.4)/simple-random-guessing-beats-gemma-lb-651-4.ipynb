{
 "cells": [
  {
   "cell_type": "markdown",
   "id": "2f84c37d",
   "metadata": {},
   "source": [
    "# Simplest possible submission (LB: ~651.4)\n",
    "Writes a bot to `/kaggle/working/submission.tar.gz` which will:\n",
    "- Always **ask** if it a place or a thing\n",
    "- **Guess** a random word from `keywords.py`\n",
    "- Always **answer** no\n",
    "\n",
    "Gemma models seem to be pretty inconsistent at the moment, which hover around LB: ~635.5."
   ]
  },
  {
   "cell_type": "code",
   "execution_count": null,
   "metadata": {
    "execution": {
     "iopub.execute_input": "2024-06-20T14:14:54.153975Z",
     "iopub.status.busy": "2024-06-20T14:14:54.153555Z",
     "iopub.status.idle": "2024-06-20T14:14:56.157517Z",
     "shell.execute_reply": "2024-06-20T14:14:56.156315Z",
     "shell.execute_reply.started": "2024-06-20T14:14:54.153937Z"
    }
   },
   "outputs": [],
   "source": [
    "!cd /kaggle/working\n",
    "!mkdir submission\n",
    "!readlink -f *"
   ]
  },
  {
   "cell_type": "code",
   "execution_count": null,
   "metadata": {
    "execution": {
     "iopub.execute_input": "2024-06-20T14:16:00.230247Z",
     "iopub.status.busy": "2024-06-20T14:16:00.22988Z",
     "iopub.status.idle": "2024-06-20T14:16:01.267318Z",
     "shell.execute_reply": "2024-06-20T14:16:01.265569Z",
     "shell.execute_reply.started": "2024-06-20T14:16:00.23022Z"
    }
   },
   "outputs": [],
   "source": [
    "# add keywords\n",
    "!cp /kaggle/input/llm-20-questions/llm_20_questions/keywords.py submission/keywords.py"
   ]
  },
  {
   "cell_type": "code",
   "execution_count": null,
   "metadata": {
    "execution": {
     "iopub.execute_input": "2024-06-20T14:20:41.1612Z",
     "iopub.status.busy": "2024-06-20T14:20:41.160827Z",
     "iopub.status.idle": "2024-06-20T14:20:41.16889Z",
     "shell.execute_reply": "2024-06-20T14:20:41.167748Z",
     "shell.execute_reply.started": "2024-06-20T14:20:41.161161Z"
    }
   },
   "outputs": [],
   "source": [
    "%%writefile submission/main.py\n",
    "\n",
    "import os, sys, glob, random, json\n",
    "\n",
    "from keywords import KEYWORDS_JSON\n",
    "kws = json.loads(KEYWORDS_JSON)[0]\n",
    "\n",
    "def agent_fn(obs, cfg):\n",
    "    if obs.turnType == \"ask\": response = 'Is it a thing or a place?'\n",
    "    elif obs.turnType == \"guess\": response = random.choice(kws['words'])['keyword']\n",
    "    elif obs.turnType == \"answer\": response = 'no'\n",
    "    return response"
   ]
  },
  {
   "cell_type": "code",
   "execution_count": null,
   "metadata": {
    "execution": {
     "iopub.execute_input": "2024-06-20T14:20:42.943096Z",
     "iopub.status.busy": "2024-06-20T14:20:42.942706Z",
     "iopub.status.idle": "2024-06-20T14:20:43.959433Z",
     "shell.execute_reply": "2024-06-20T14:20:43.957754Z",
     "shell.execute_reply.started": "2024-06-20T14:20:42.943064Z"
    }
   },
   "outputs": [],
   "source": [
    "!tar czf submission.tar.gz -C /kaggle/working/submission ."
   ]
  },
  {
   "cell_type": "code",
   "execution_count": null,
   "metadata": {
    "execution": {
     "iopub.execute_input": "2024-06-20T14:20:58.832395Z",
     "iopub.status.busy": "2024-06-20T14:20:58.831975Z",
     "iopub.status.idle": "2024-06-20T14:21:00.869993Z",
     "shell.execute_reply": "2024-06-20T14:21:00.868598Z",
     "shell.execute_reply.started": "2024-06-20T14:20:58.832358Z"
    }
   },
   "outputs": [],
   "source": [
    "!ls\n",
    "!ls submission"
   ]
  },
  {
   "cell_type": "code",
   "execution_count": null,
   "metadata": {
    "execution": {
     "iopub.execute_input": "2024-06-20T14:21:06.146315Z",
     "iopub.status.busy": "2024-06-20T14:21:06.145899Z",
     "iopub.status.idle": "2024-06-20T14:21:06.156823Z",
     "shell.execute_reply": "2024-06-20T14:21:06.155763Z",
     "shell.execute_reply.started": "2024-06-20T14:21:06.146279Z"
    }
   },
   "outputs": [],
   "source": [
    "import numpy as np\n",
    "import pandas as pd\n",
    "import os\n",
    "for dirname, _, filenames in os.walk('/kaggle'):\n",
    "    for filename in filenames:\n",
    "        print(os.path.join(dirname, filename))"
   ]
  },
  {
   "cell_type": "code",
   "execution_count": null,
   "metadata": {
    "execution": {
     "iopub.execute_input": "2024-06-20T14:21:07.776765Z",
     "iopub.status.busy": "2024-06-20T14:21:07.776081Z",
     "iopub.status.idle": "2024-06-20T14:21:11.822756Z",
     "shell.execute_reply": "2024-06-20T14:21:11.821359Z",
     "shell.execute_reply.started": "2024-06-20T14:21:07.776725Z"
    }
   },
   "outputs": [],
   "source": [
    "!ls\n",
    "!tar -xzvf submission.tar.gz \n",
    "!cat main.py\n",
    "!ls"
   ]
  },
  {
   "cell_type": "code",
   "execution_count": null,
   "metadata": {},
   "outputs": [],
   "source": []
  },
  {
   "cell_type": "code",
   "execution_count": null,
   "metadata": {},
   "outputs": [],
   "source": []
  }
 ],
 "metadata": {
  "kaggle": {
   "accelerator": "none",
   "dataSources": [
    {
     "databundleVersionId": 8550470,
     "sourceId": 61247,
     "sourceType": "competition"
    }
   ],
   "dockerImageVersionId": 30732,
   "isGpuEnabled": false,
   "isInternetEnabled": false,
   "language": "python",
   "sourceType": "notebook"
  },
  "kernelspec": {
   "display_name": "Python 3",
   "language": "python",
   "name": "python3"
  },
  "language_info": {
   "codemirror_mode": {
    "name": "ipython",
    "version": 3
   },
   "file_extension": ".py",
   "mimetype": "text/x-python",
   "name": "python",
   "nbconvert_exporter": "python",
   "pygments_lexer": "ipython3",
   "version": "3.10.13"
  }
 },
 "nbformat": 4,
 "nbformat_minor": 4
}
