{
 "cells": [
  {
   "cell_type": "markdown",
   "id": "e96cf3e1",
   "metadata": {},
   "source": [
    "# Environment Tips: Run LLM 20 Questions in a Notebook\n",
    "\n",
    "\n",
    "![robots_playing_20qs_small.png](attachment:0869cff5-c499-4b2c-bccd-227e14e8aa90.png)\n",
    "\n",
    "To test and debug your agent in LLM 20 Questions or any other competition using Kaggle environments, it helps to be able to run the environment in a notebook. Here are some tips and explanations that may be helpful.\n",
    "\n",
    "# Create a Simple Agent\n",
    "\n",
    "If you just want to experiment, an agent can be as simple as a Python function. Your agent is a function with two inputs, obs and cfg, and it provides a text response as output. \n",
    "\n",
    "The agent needs to be able to handle three turnTypes (\"ask\", \"guess\" and \"answer\"). The response for answer has to be \"yes\" or \"no\".\n",
    "\n",
    "Here are four simple agents:"
   ]
  },
  {
   "cell_type": "code",
   "execution_count": null,
   "metadata": {
    "execution": {
     "iopub.execute_input": "2024-06-10T04:34:18.466594Z",
     "iopub.status.busy": "2024-06-10T04:34:18.466043Z",
     "iopub.status.idle": "2024-06-10T04:34:18.477022Z",
     "shell.execute_reply": "2024-06-10T04:34:18.475723Z",
     "shell.execute_reply.started": "2024-06-10T04:34:18.466531Z"
    }
   },
   "outputs": [],
   "source": [
    "def simple_agent1(obs, cfg):\n",
    "    # if agent is guesser and turnType is \"ask\"\n",
    "    if obs.turnType == \"ask\": response = \"Is it a duck?\"\n",
    "    elif obs.turnType == \"guess\": response = \"duck\"\n",
    "    elif obs.turnType == \"answer\": response = \"no\"\n",
    "    return response\n",
    "\n",
    "def simple_agent2(obs, cfg):\n",
    "    # if agent is guesser and turnType is \"ask\"\n",
    "    if obs.turnType == \"ask\": response = \"Is it a bird?\"\n",
    "    elif obs.turnType == \"guess\": response = \"bird\"\n",
    "    elif obs.turnType == \"answer\": response = \"no\"\n",
    "    return response\n",
    "\n",
    "def simple_agent3(obs, cfg):\n",
    "    # if agent is guesser and turnType is \"ask\"\n",
    "    if obs.turnType == \"ask\": response = \"Is it a pig?\"\n",
    "    elif obs.turnType == \"guess\": response = \"pig\"\n",
    "    elif obs.turnType == \"answer\": response = \"no\"\n",
    "    return response\n",
    "\n",
    "def simple_agent4(obs, cfg):\n",
    "    # if agent is guesser and turnType is \"ask\"\n",
    "    if obs.turnType == \"ask\": response = \"Is it a cow?\"\n",
    "    elif obs.turnType == \"guess\": response = \"cow\"\n",
    "    elif obs.turnType == \"answer\": response = \"no\"\n",
    "    return response"
   ]
  },
  {
   "cell_type": "markdown",
   "id": "cf4b5a15",
   "metadata": {},
   "source": [
    "# Make and Configure Game Environment\n",
    "\n",
    "Kaggle environments are created with the `make()` function with the *environment* name (`\"llm_20_questions\"`) and some optional defaults, like *configuration* and *info*. If you want to run a game just like the competition, you can just use the defaults."
   ]
  },
  {
   "cell_type": "code",
   "execution_count": null,
   "metadata": {
    "execution": {
     "iopub.execute_input": "2024-06-10T04:34:18.479149Z",
     "iopub.status.busy": "2024-06-10T04:34:18.478752Z",
     "iopub.status.idle": "2024-06-10T04:34:18.633428Z",
     "shell.execute_reply": "2024-06-10T04:34:18.632194Z",
     "shell.execute_reply.started": "2024-06-10T04:34:18.479111Z"
    }
   },
   "outputs": [],
   "source": [
    "import kaggle_environments\n",
    "env = kaggle_environments.make(environment=\"llm_20_questions\")\n",
    "# (you can ignore the error \"No pygame installed\")"
   ]
  },
  {
   "cell_type": "markdown",
   "id": "6d8d6e5e",
   "metadata": {},
   "source": [
    "When you initialize the environment, it sets the keyword to be guessed. You can inspect or change this in `kaggle_environments.envs.llm_20_questions.llm_20_questions.keyword`"
   ]
  },
  {
   "cell_type": "code",
   "execution_count": null,
   "metadata": {
    "execution": {
     "iopub.execute_input": "2024-06-10T04:34:18.635484Z",
     "iopub.status.busy": "2024-06-10T04:34:18.635023Z",
     "iopub.status.idle": "2024-06-10T04:34:18.643245Z",
     "shell.execute_reply": "2024-06-10T04:34:18.641906Z",
     "shell.execute_reply.started": "2024-06-10T04:34:18.635436Z"
    }
   },
   "outputs": [],
   "source": [
    "print(\"The keyword for this session is: \")\n",
    "print(kaggle_environments.envs.llm_20_questions.llm_20_questions.keyword)\n",
    "print(\" \")\n",
    "print(\"Some keywords have a list of alternative guesses (alts) that are also accepted.\")\n",
    "print(\"For this session, the list of alts is:\")\n",
    "print(kaggle_environments.envs.llm_20_questions.llm_20_questions.alts)"
   ]
  },
  {
   "cell_type": "markdown",
   "id": "e0f7a301",
   "metadata": {},
   "source": [
    "# Running LLM 20 Questions (default)\n",
    "\n",
    "\n",
    "\n",
    "With the environment you created (`env`), you run the game in this environment. When you run the game, you must submit a list of four agents: \n",
    "* \"Agent1\" (guesser for Team 1), \n",
    "* \"Agent2\" (answerer for Team 1), \n",
    "* \"Agent3\" (guesser for Team 2), \n",
    "* \"Agent4\" (answerer for Team 2). \n",
    "\n",
    "In the competition, you are randomly paired with a teammate to either be the guesser or the answerer.\n",
    "\n",
    "(When I first started this competition, I mistakenly thought your agent plays both the guesser and answerer role for the team. But you are paired with someone else in the competition. You do well or poorly depending on your ability to cooperate with a random partner.)"
   ]
  },
  {
   "cell_type": "code",
   "execution_count": null,
   "metadata": {
    "execution": {
     "iopub.execute_input": "2024-06-10T04:34:25.876729Z",
     "iopub.status.busy": "2024-06-10T04:34:25.875785Z",
     "iopub.status.idle": "2024-06-10T04:34:26.391224Z",
     "shell.execute_reply": "2024-06-10T04:34:26.39002Z",
     "shell.execute_reply.started": "2024-06-10T04:34:25.876691Z"
    }
   },
   "outputs": [],
   "source": [
    "%%time\n",
    "game_output = env.run(agents=[simple_agent1, simple_agent2, simple_agent3, simple_agent4])"
   ]
  },
  {
   "cell_type": "markdown",
   "id": "881f2d7e",
   "metadata": {},
   "source": [
    "The game in this example completes quickly since the simple agents respond immediately. A real game with large LLM's as agents could take a minute for each step, so the total game could take an hour!\n",
    "\n",
    "You can look at the data from each step of the game in `game_output`.\n",
    "\n",
    "If want to watch the game visually, you can render it."
   ]
  },
  {
   "cell_type": "code",
   "execution_count": null,
   "metadata": {
    "execution": {
     "iopub.execute_input": "2024-06-10T04:34:32.379146Z",
     "iopub.status.busy": "2024-06-10T04:34:32.37873Z",
     "iopub.status.idle": "2024-06-10T04:34:32.475882Z",
     "shell.execute_reply": "2024-06-10T04:34:32.474457Z",
     "shell.execute_reply.started": "2024-06-10T04:34:32.379113Z"
    }
   },
   "outputs": [],
   "source": [
    "env.render(mode=\"ipython\", width=600, height=500)"
   ]
  },
  {
   "cell_type": "markdown",
   "id": "0447a736",
   "metadata": {},
   "source": [
    "# Create an Agent that Could be Submitted\n",
    "\n",
    "To submit an agent to the competition, you need to write the Python code for the agent in a file titled `main.py` and put it along with any supporting files in `submission.tar.gz`\n",
    "\n",
    "A simple example is below. Of course, in the actual competition, you'll probably want to use a real LLM like in the official starter notebook (https://www.kaggle.com/code/ryanholbrook/llm-20-questions-starter-notebook). Running LLM agents in a notebook will take more time and memory, so if you're testing your LLM agent as player 1, you might want to put a simple agent as player 2.\n",
    "\n",
    "* Create a directory `/kaggle/working/submission` with a subdirectory `lib` where you would put any supporting files\n"
   ]
  },
  {
   "cell_type": "code",
   "execution_count": null,
   "metadata": {
    "execution": {
     "iopub.execute_input": "2024-06-10T04:34:43.678455Z",
     "iopub.status.busy": "2024-06-10T04:34:43.678027Z",
     "iopub.status.idle": "2024-06-10T04:34:43.685333Z",
     "shell.execute_reply": "2024-06-10T04:34:43.684059Z",
     "shell.execute_reply.started": "2024-06-10T04:34:43.678424Z"
    }
   },
   "outputs": [],
   "source": [
    "import os\n",
    "submission_directory = \"/kaggle/working/submission\"\n",
    "submission_subdirectory = \"lib\"\n",
    "# Create the main directory if it doesn't exist\n",
    "if not os.path.exists(submission_directory):\n",
    "    os.mkdir(submission_directory)\n",
    "    subdirectory_path = os.path.join(submission_directory, submission_subdirectory)\n",
    "    os.mkdir(subdirectory_path)"
   ]
  },
  {
   "cell_type": "code",
   "execution_count": null,
   "metadata": {
    "execution": {
     "iopub.execute_input": "2024-06-10T04:34:44.370372Z",
     "iopub.status.busy": "2024-06-10T04:34:44.369943Z",
     "iopub.status.idle": "2024-06-10T04:34:44.377094Z",
     "shell.execute_reply": "2024-06-10T04:34:44.375962Z",
     "shell.execute_reply.started": "2024-06-10T04:34:44.37034Z"
    }
   },
   "outputs": [],
   "source": [
    "# create an example file to save in the lib directory\n",
    "import csv\n",
    "with open(os.path.join(subdirectory_path, \"example.csv\"),mode='w') as file:\n",
    "    writer = csv.writer(file)\n",
    "    writer.writerow([\"cow\", \"horse\"])"
   ]
  },
  {
   "cell_type": "markdown",
   "id": "32c55d67",
   "metadata": {},
   "source": [
    "* Write the main.py Python code for your agent\n",
    "* The environment will use the last function in main.py for your agent, in this case `agent_fun()`\n"
   ]
  },
  {
   "cell_type": "code",
   "execution_count": null,
   "metadata": {
    "execution": {
     "iopub.execute_input": "2024-06-10T04:34:45.788411Z",
     "iopub.status.busy": "2024-06-10T04:34:45.788002Z",
     "iopub.status.idle": "2024-06-10T04:34:45.797254Z",
     "shell.execute_reply": "2024-06-10T04:34:45.795819Z",
     "shell.execute_reply.started": "2024-06-10T04:34:45.788371Z"
    }
   },
   "outputs": [],
   "source": [
    "%%writefile /kaggle/working/submission/main.py\n",
    "\n",
    "import os\n",
    "import sys\n",
    "import csv\n",
    "import random\n",
    "\n",
    "\n",
    "\n",
    "# If you put other files (e.g. model weights) in your submission/lib directory, you need to set the path\n",
    "KAGGLE_COMPETITION_PATH = \"/kaggle_simulations/agent/\" # competition path\n",
    "if os.path.exists(KAGGLE_COMPETITION_PATH):  # if running in the competition\n",
    "    subdirectory_path = os.path.join(KAGGLE_COMPETITION_PATH, \"lib\")\n",
    "else: # if running in notebook\n",
    "    subdirectory_path = os.path.join(\"/kaggle/working/submission/\", \"lib\")\n",
    "sys.path.insert(0, subdirectory_path)\n",
    "\n",
    "\n",
    "# Loading our example file\n",
    "with open(os.path.join(subdirectory_path,\"example.csv\"), mode='r') as file:\n",
    "    reader = csv.reader(file)\n",
    "    guess_list = list(reader)\n",
    "    guess_list = guess_list[0]\n",
    "\n",
    "# Setting a random \"animal\" from example file as a global variable\n",
    "animal = random.choice(guess_list)\n",
    "    \n",
    "# Last function in the main.py will be the agent function\n",
    "def agent_fn(obs, cfg):\n",
    "    \n",
    "    # if agent is guesser and turnType is \"ask\"\n",
    "    if obs.turnType == \"ask\":\n",
    "        response = f'Does it look like a {animal}?'\n",
    "    # if agent is guesser and turnType is \"guess\"\n",
    "    elif obs.turnType == \"guess\":\n",
    "        if obs.answers[-1]==\"yes\":\n",
    "            response = animal\n",
    "        else:\n",
    "            response = \"penguin\"\n",
    "    # if agent is the answerer\n",
    "    elif obs.turnType == \"answer\":\n",
    "        if obs.keyword in obs.questions[-1]:\n",
    "            response = \"yes\"\n",
    "        else:\n",
    "            response = \"no\"\n",
    "        \n",
    "    return response"
   ]
  },
  {
   "cell_type": "markdown",
   "id": "4f7eeb6b",
   "metadata": {},
   "source": [
    "This `main.py` file with the agent is ready to submit along with the `/lib/example.csv` supporting file."
   ]
  },
  {
   "cell_type": "code",
   "execution_count": null,
   "metadata": {
    "execution": {
     "iopub.execute_input": "2024-06-10T04:34:47.723136Z",
     "iopub.status.busy": "2024-06-10T04:34:47.722698Z",
     "iopub.status.idle": "2024-06-10T04:34:57.136564Z",
     "shell.execute_reply": "2024-06-10T04:34:57.134906Z",
     "shell.execute_reply.started": "2024-06-10T04:34:47.723102Z"
    }
   },
   "outputs": [],
   "source": [
    "!apt install pigz pv > /dev/null\n",
    "!tar --use-compress-program='pigz --fast --recursive | pv' -cf submission.tar.gz -C /kaggle/working/submission ."
   ]
  },
  {
   "cell_type": "markdown",
   "id": "5af0b570",
   "metadata": {},
   "source": [
    "\n",
    "\n",
    "You can run the agent in `main.py` from this Jupyter notebook as both players on Team 1, and we'll use simple_agent3 and simple_agent4 for Team 2."
   ]
  },
  {
   "cell_type": "code",
   "execution_count": null,
   "metadata": {
    "execution": {
     "iopub.execute_input": "2024-06-10T04:35:25.42841Z",
     "iopub.status.busy": "2024-06-10T04:35:25.426862Z",
     "iopub.status.idle": "2024-06-10T04:35:26.014335Z",
     "shell.execute_reply": "2024-06-10T04:35:26.012802Z",
     "shell.execute_reply.started": "2024-06-10T04:35:25.428367Z"
    }
   },
   "outputs": [],
   "source": [
    "game_output = env.run(agents=[\"/kaggle/working/submission/main.py\", \"/kaggle/working/submission/main.py\", simple_agent3, simple_agent4])\n",
    "env.render(mode=\"ipython\", width=600, height=500)"
   ]
  },
  {
   "cell_type": "markdown",
   "id": "3eb4a149",
   "metadata": {},
   "source": [
    "# Debugging Tips\n",
    "\n",
    "\n",
    "When you're designing and debugging, you normally want to change some of the optional arguments in creating the environment. These include:\n",
    "\n",
    "`env = make(environment, configuration=None, info=None, steps=None, logs=None, debug=False, state=None)`\n",
    "\n",
    "You can look at the specifications in `env.specification` to learn about how `configuration` and other objects defined in the environment. It has explanations and shows the default values.\n",
    "\n",
    "When working on new agents, I'd suggest changing the configuration to run a shorter episode with only a few steps and setting `debug=True` so you can see any verbose output printed by your agents.\n",
    "\n",
    "Here is a new environment that is better for debugging."
   ]
  },
  {
   "cell_type": "code",
   "execution_count": null,
   "metadata": {
    "execution": {
     "iopub.execute_input": "2024-06-10T04:35:52.124862Z",
     "iopub.status.busy": "2024-06-10T04:35:52.124311Z",
     "iopub.status.idle": "2024-06-10T04:35:52.277817Z",
     "shell.execute_reply": "2024-06-10T04:35:52.276254Z",
     "shell.execute_reply.started": "2024-06-10T04:35:52.124819Z"
    }
   },
   "outputs": [],
   "source": [
    "# For debugging, play game with only two rounds\n",
    "debug_config = {'episodeSteps': 7,     # initial step plus 3 steps per round (ask/answer/guess)\n",
    "                'actTimeout': 5,       # agent time per round in seconds; default is 60\n",
    "                'runTimeout': 60,      # max time for the episode in seconds; default is 1200\n",
    "                'agentTimeout': 3600}  # obsolete field; default is 3600\n",
    "\n",
    "env = kaggle_environments.make(\"llm_20_questions\", configuration=debug_config, debug=True)"
   ]
  },
  {
   "cell_type": "markdown",
   "id": "5fbdd623",
   "metadata": {},
   "source": [
    "Note that are session already set the keyword to be guessed. So if you run another game, you'll be guessing the same keyword!"
   ]
  },
  {
   "cell_type": "code",
   "execution_count": null,
   "metadata": {
    "execution": {
     "iopub.execute_input": "2024-06-10T04:36:52.894928Z",
     "iopub.status.busy": "2024-06-10T04:36:52.894491Z",
     "iopub.status.idle": "2024-06-10T04:36:52.901283Z",
     "shell.execute_reply": "2024-06-10T04:36:52.900033Z",
     "shell.execute_reply.started": "2024-06-10T04:36:52.894894Z"
    }
   },
   "outputs": [],
   "source": [
    "print(kaggle_environments.envs.llm_20_questions.llm_20_questions.keyword)"
   ]
  },
  {
   "cell_type": "markdown",
   "id": "ba0d533b",
   "metadata": {},
   "source": [
    "When debugging, you might want to set the keyword manually (or randomly from the keywords list)."
   ]
  },
  {
   "cell_type": "code",
   "execution_count": null,
   "metadata": {
    "execution": {
     "iopub.execute_input": "2024-06-10T04:37:15.519578Z",
     "iopub.status.busy": "2024-06-10T04:37:15.519136Z",
     "iopub.status.idle": "2024-06-10T04:37:15.525976Z",
     "shell.execute_reply": "2024-06-10T04:37:15.524776Z",
     "shell.execute_reply.started": "2024-06-10T04:37:15.519521Z"
    }
   },
   "outputs": [],
   "source": [
    "keyword = \"Duck\"\n",
    "alts = [\"The Duck\",\"A Duck\"]\n",
    "kaggle_environments.envs.llm_20_questions.llm_20_questions.category = \"Example\"\n",
    "kaggle_environments.envs.llm_20_questions.llm_20_questions.keyword_obj = {'keyword':keyword,'alts':alts}\n",
    "kaggle_environments.envs.llm_20_questions.llm_20_questions.keyword = keyword\n",
    "kaggle_environments.envs.llm_20_questions.llm_20_questions.alts = alts"
   ]
  },
  {
   "cell_type": "markdown",
   "id": "b091e93f",
   "metadata": {},
   "source": [
    "And we can have our agent print some information for debugging. I added print statements to simple agent 1 to show what information is available in `obs`"
   ]
  },
  {
   "cell_type": "code",
   "execution_count": null,
   "metadata": {
    "execution": {
     "iopub.execute_input": "2024-06-10T04:37:17.014254Z",
     "iopub.status.busy": "2024-06-10T04:37:17.01382Z",
     "iopub.status.idle": "2024-06-10T04:37:17.021839Z",
     "shell.execute_reply": "2024-06-10T04:37:17.020624Z",
     "shell.execute_reply.started": "2024-06-10T04:37:17.014222Z"
    }
   },
   "outputs": [],
   "source": [
    "def simple_verbose_agent1(obs, cfg):\n",
    "    \n",
    "    # if agent is guesser and turnType is \"ask\"\n",
    "    if obs.turnType == \"ask\":\n",
    "        response = \"Is it a duck?\"\n",
    "    # if agent is guesser and turnType is \"guess\"\n",
    "    elif obs.turnType == \"guess\":\n",
    "        response = \"duck\"\n",
    "    # if agent is the answerer\n",
    "    elif obs.turnType == \"answer\":\n",
    "        response = \"no\"\n",
    "    \n",
    "    # Print debugging information\n",
    "    print(\"====================\")\n",
    "    print(f\"step = {obs.step}\")\n",
    "    print(f\"turnType = {obs.turnType}\")\n",
    "    print(\"obs =\")\n",
    "    print(obs)\n",
    "    print(\" \")\n",
    "    print(f'response = \"{response}\"')\n",
    "    \n",
    "    \n",
    "    return response"
   ]
  },
  {
   "cell_type": "markdown",
   "id": "f3628231",
   "metadata": {},
   "source": [
    "Putting this simple_verbose_agent1 as both players on Team 1 allows us to observe each of the three turn types (ask/guess/answer). "
   ]
  },
  {
   "cell_type": "code",
   "execution_count": null,
   "metadata": {
    "execution": {
     "iopub.execute_input": "2024-06-10T04:37:18.855588Z",
     "iopub.status.busy": "2024-06-10T04:37:18.854684Z",
     "iopub.status.idle": "2024-06-10T04:37:19.019973Z",
     "shell.execute_reply": "2024-06-10T04:37:19.018703Z",
     "shell.execute_reply.started": "2024-06-10T04:37:18.855551Z"
    }
   },
   "outputs": [],
   "source": [
    "game_output = env.run(agents=[simple_verbose_agent1,simple_verbose_agent1, simple_agent3, \"/kaggle/working/submission/main.py\"])"
   ]
  },
  {
   "cell_type": "code",
   "execution_count": null,
   "metadata": {
    "execution": {
     "iopub.execute_input": "2024-06-10T04:37:36.703326Z",
     "iopub.status.busy": "2024-06-10T04:37:36.702575Z",
     "iopub.status.idle": "2024-06-10T04:37:36.719951Z",
     "shell.execute_reply": "2024-06-10T04:37:36.718563Z",
     "shell.execute_reply.started": "2024-06-10T04:37:36.703292Z"
    }
   },
   "outputs": [],
   "source": [
    "env.render(mode=\"ipython\", width=600, height=500)"
   ]
  }
 ],
 "metadata": {
  "kaggle": {
   "accelerator": "none",
   "dataSources": [
    {
     "databundleVersionId": 8550470,
     "sourceId": 61247,
     "sourceType": "competition"
    }
   ],
   "dockerImageVersionId": 30699,
   "isGpuEnabled": false,
   "isInternetEnabled": true,
   "language": "python",
   "sourceType": "notebook"
  },
  "kernelspec": {
   "display_name": "Python 3",
   "language": "python",
   "name": "python3"
  },
  "language_info": {
   "codemirror_mode": {
    "name": "ipython",
    "version": 3
   },
   "file_extension": ".py",
   "mimetype": "text/x-python",
   "name": "python",
   "nbconvert_exporter": "python",
   "pygments_lexer": "ipython3",
   "version": "3.10.13"
  }
 },
 "nbformat": 4,
 "nbformat_minor": 4
}
