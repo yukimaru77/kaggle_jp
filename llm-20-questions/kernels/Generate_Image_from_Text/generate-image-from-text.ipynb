{
 "cells": [
  {
   "cell_type": "code",
   "execution_count": null,
   "metadata": {
    "execution": {
     "iopub.execute_input": "2024-07-04T12:12:11.197518Z",
     "iopub.status.busy": "2024-07-04T12:12:11.197212Z",
     "iopub.status.idle": "2024-07-04T12:12:39.214623Z",
     "shell.execute_reply": "2024-07-04T12:12:39.213523Z",
     "shell.execute_reply.started": "2024-07-04T12:12:11.197487Z"
    }
   },
   "outputs": [],
   "source": [
    "!pip install diffusers --upgrade\n",
    "!pip install invisible_watermark transformers accelerate safetensors"
   ]
  },
  {
   "cell_type": "code",
   "execution_count": null,
   "metadata": {
    "execution": {
     "iopub.execute_input": "2024-07-04T12:13:38.626824Z",
     "iopub.status.busy": "2024-07-04T12:13:38.626206Z",
     "iopub.status.idle": "2024-07-04T12:13:38.631251Z",
     "shell.execute_reply": "2024-07-04T12:13:38.630341Z",
     "shell.execute_reply.started": "2024-07-04T12:13:38.626791Z"
    }
   },
   "outputs": [],
   "source": [
    "import torch\n",
    "from diffusers import DiffusionPipeline\n",
    "import warnings\n",
    "warnings.filterwarnings('ignore')"
   ]
  },
  {
   "cell_type": "code",
   "execution_count": null,
   "metadata": {
    "execution": {
     "iopub.execute_input": "2024-07-04T12:13:40.117436Z",
     "iopub.status.busy": "2024-07-04T12:13:40.117071Z",
     "iopub.status.idle": "2024-07-04T12:15:12.172168Z",
     "shell.execute_reply": "2024-07-04T12:15:12.171367Z",
     "shell.execute_reply.started": "2024-07-04T12:13:40.117405Z"
    }
   },
   "outputs": [],
   "source": [
    "pipe = DiffusionPipeline.from_pretrained(\"stabilityai/stable-diffusion-xl-base-1.0\", torch_dtype=torch.float16, use_safetensors=True, variant=\"fp16\")\n",
    "pipe.to(\"cuda\")\n"
   ]
  },
  {
   "cell_type": "code",
   "execution_count": null,
   "metadata": {
    "execution": {
     "iopub.execute_input": "2024-07-04T12:24:15.314529Z",
     "iopub.status.busy": "2024-07-04T12:24:15.313871Z",
     "iopub.status.idle": "2024-07-04T12:25:49.256818Z",
     "shell.execute_reply": "2024-07-04T12:25:49.256002Z",
     "shell.execute_reply.started": "2024-07-04T12:24:15.314498Z"
    }
   },
   "outputs": [],
   "source": [
    "prompt = \"a rabbit wearing glasses while reading a book \"\n",
    "\n",
    "images = pipe(prompt=prompt)"
   ]
  },
  {
   "cell_type": "code",
   "execution_count": null,
   "metadata": {
    "execution": {
     "iopub.execute_input": "2024-07-04T12:25:54.076017Z",
     "iopub.status.busy": "2024-07-04T12:25:54.075283Z",
     "iopub.status.idle": "2024-07-04T12:25:54.586855Z",
     "shell.execute_reply": "2024-07-04T12:25:54.585952Z",
     "shell.execute_reply.started": "2024-07-04T12:25:54.075985Z"
    }
   },
   "outputs": [],
   "source": [
    "images.images[0]"
   ]
  },
  {
   "cell_type": "code",
   "execution_count": null,
   "metadata": {},
   "outputs": [],
   "source": []
  }
 ],
 "metadata": {
  "kaggle": {
   "accelerator": "gpu",
   "dataSources": [
    {
     "databundleVersionId": 7516023,
     "sourceId": 61542,
     "sourceType": "competition"
    },
    {
     "databundleVersionId": 8550470,
     "sourceId": 61247,
     "sourceType": "competition"
    }
   ],
   "dockerImageVersionId": 30733,
   "isGpuEnabled": true,
   "isInternetEnabled": true,
   "language": "python",
   "sourceType": "notebook"
  },
  "kernelspec": {
   "display_name": "Python 3",
   "language": "python",
   "name": "python3"
  },
  "language_info": {
   "codemirror_mode": {
    "name": "ipython",
    "version": 3
   },
   "file_extension": ".py",
   "mimetype": "text/x-python",
   "name": "python",
   "nbconvert_exporter": "python",
   "pygments_lexer": "ipython3",
   "version": "3.10.13"
  }
 },
 "nbformat": 4,
 "nbformat_minor": 4
}
