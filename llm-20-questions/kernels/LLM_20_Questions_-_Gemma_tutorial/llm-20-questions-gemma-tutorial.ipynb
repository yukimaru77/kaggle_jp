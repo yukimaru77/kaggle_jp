{
 "cells": [
  {
   "cell_type": "markdown",
   "id": "27e383ae",
   "metadata": {},
   "source": [
    "This notebook is for who is new to using Gemma in Kaggle.  \n",
    "Let's go through how to use it step by step.\n",
    "\n",
    "**Acknowledgment**  \n",
    "This notebook based on [LLM 20 Questions Starter Notebook](https://www.kaggle.com/code/ryanholbrook/llm-20-questions-starter-notebook)\n",
    "\n",
    "Before we start, check the GPU setup.\n",
    "\n",
    "<img width=\"400px\" src=attachment:9319be98-0139-41f9-a741-6b606b7cadc6.png>\n",
    "\n",
    "---\n",
    "\n",
    "## Add Gemma model\n",
    "\n",
    "1. Click `+ Add Input` button.\n",
    "<img src=attachment:6dabe5ed-9e7e-437b-be73-ee0c3b3a2afe.png width=\"400\">\n",
    "\n",
    "2. Search `Gemma` model.\n",
    "<img src=attachment:68d9d1fa-84f4-4c37-acf9-f5cb2b825fcb.png width=\"400\">\n",
    "\n",
    "3. Set parameters. (I used *2b-it* because *7b* is too slow to test fast)\n",
    "<img src=attachment:c7f1744e-08df-4ba7-ab61-4b0cd4e4e6fd.png width=\"400\">\n",
    "\n",
    "4. You can see the model has added.\n",
    "<img src=attachment:056f294d-eee3-4bbb-b68b-6bc991a9c746.png width=\"400\">"
   ]
  },
  {
   "cell_type": "code",
   "execution_count": null,
   "metadata": {
    "execution": {
     "iopub.execute_input": "2024-07-12T06:20:28.755136Z",
     "iopub.status.busy": "2024-07-12T06:20:28.754795Z",
     "iopub.status.idle": "2024-07-12T06:20:28.781595Z",
     "shell.execute_reply": "2024-07-12T06:20:28.780519Z",
     "shell.execute_reply.started": "2024-07-12T06:20:28.755109Z"
    }
   },
   "outputs": [],
   "source": [
    "%%bash\n",
    "# You can find input files in `/kaggle/input` directory.\n",
    "tree /kaggle/input/gemma/pytorch"
   ]
  },
  {
   "cell_type": "markdown",
   "id": "8bad04e3",
   "metadata": {},
   "source": [
    "# Setup Gemma to code\n",
    "\n",
    "To use Gemma model, you have to setup few things.\n",
    "\n",
    "## Install dependencies"
   ]
  },
  {
   "cell_type": "code",
   "execution_count": null,
   "metadata": {
    "execution": {
     "iopub.execute_input": "2024-07-12T06:22:35.489033Z",
     "iopub.status.busy": "2024-07-12T06:22:35.48834Z",
     "iopub.status.idle": "2024-07-12T06:22:50.198234Z",
     "shell.execute_reply": "2024-07-12T06:22:50.197376Z",
     "shell.execute_reply.started": "2024-07-12T06:22:35.489002Z"
    }
   },
   "outputs": [],
   "source": [
    "%%bash\n",
    "# Install python packages in `/kaggle/working/submission/lib` directory.\n",
    "mkdir -p /kaggle/working/submission/lib\n",
    "pip install -q -U -t /kaggle/working/submission/lib immutabledict sentencepiece\n",
    "\n",
    "# Download `gemma_pytorch` and move it to `/kaggle/working/submission/lib` directory.\n",
    "cd /kaggle/working\n",
    "git clone https://github.com/google/gemma_pytorch.git > /dev/null\n",
    "mkdir /kaggle/working/submission/lib/gemma/\n",
    "mv /kaggle/working/gemma_pytorch/gemma/* /kaggle/working/submission/lib/gemma/"
   ]
  },
  {
   "cell_type": "code",
   "execution_count": null,
   "metadata": {
    "execution": {
     "iopub.execute_input": "2024-07-12T06:22:51.821292Z",
     "iopub.status.busy": "2024-07-12T06:22:51.820345Z",
     "iopub.status.idle": "2024-07-12T06:22:51.862287Z",
     "shell.execute_reply": "2024-07-12T06:22:51.861431Z",
     "shell.execute_reply.started": "2024-07-12T06:22:51.821259Z"
    }
   },
   "outputs": [],
   "source": [
    "%%bash\n",
    "# You can see the result.\n",
    "tree /kaggle/working/submission/lib"
   ]
  },
  {
   "cell_type": "code",
   "execution_count": null,
   "metadata": {
    "execution": {
     "iopub.execute_input": "2024-07-12T06:25:49.971923Z",
     "iopub.status.busy": "2024-07-12T06:25:49.971287Z",
     "iopub.status.idle": "2024-07-12T06:25:49.976324Z",
     "shell.execute_reply": "2024-07-12T06:25:49.975257Z",
     "shell.execute_reply.started": "2024-07-12T06:25:49.971892Z"
    }
   },
   "outputs": [],
   "source": [
    "import sys\n",
    "\n",
    "# Add module path to use libraries in `/kaggle/working/submission/lib` directory.\n",
    "sys.path.insert(0, \"/kaggle/working/submission/lib\")"
   ]
  },
  {
   "cell_type": "markdown",
   "id": "6fd14afe",
   "metadata": {},
   "source": [
    "## Load Gemma model"
   ]
  },
  {
   "cell_type": "code",
   "execution_count": null,
   "metadata": {
    "execution": {
     "iopub.execute_input": "2024-07-12T06:35:36.82969Z",
     "iopub.status.busy": "2024-07-12T06:35:36.829336Z",
     "iopub.status.idle": "2024-07-12T06:35:36.835864Z",
     "shell.execute_reply": "2024-07-12T06:35:36.834928Z",
     "shell.execute_reply.started": "2024-07-12T06:35:36.829661Z"
    }
   },
   "outputs": [],
   "source": [
    "import torch\n",
    "from gemma.config import get_config_for_7b, get_config_for_2b\n",
    "from gemma.model import GemmaForCausalLM\n",
    "\n",
    "# Set global parameters\n",
    "DEVICE = \"cuda:0\" if torch.cuda.is_available() else \"cpu\"\n",
    "VARIANT = \"2b-it\"\n",
    "# VARIANT = \"7b-it-quant\"\n",
    "WEIGHTS_PATH = f\"/kaggle/input/gemma/pytorch/{VARIANT}/2\" # input model path\n",
    "\n",
    "print(\"current device is\", DEVICE)\n",
    "print(\"current Gemma model variant is\", VARIANT)"
   ]
  },
  {
   "cell_type": "code",
   "execution_count": null,
   "metadata": {
    "execution": {
     "iopub.execute_input": "2024-07-12T06:35:37.114006Z",
     "iopub.status.busy": "2024-07-12T06:35:37.113721Z",
     "iopub.status.idle": "2024-07-12T06:35:40.834872Z",
     "shell.execute_reply": "2024-07-12T06:35:40.833859Z",
     "shell.execute_reply.started": "2024-07-12T06:35:37.113984Z"
    }
   },
   "outputs": [],
   "source": [
    "# Set model_config\n",
    "def get_model_config(variant):\n",
    "    if \"2b\" in variant:\n",
    "        return get_config_for_2b()\n",
    "    if \"7b\" in variant:\n",
    "        return get_config_for_7b()\n",
    "    raise ValueError(f\"Not supported variant - {variant}\")\n",
    "model_config = get_model_config(VARIANT)\n",
    "model_config.tokenizer = f\"{WEIGHTS_PATH}/tokenizer.model\"\n",
    "model_config.quant = \"quant\" in VARIANT\n",
    "torch.set_default_dtype(model_config.get_dtype())\n",
    "\n",
    "# Load Gemma model\n",
    "gemma_model = GemmaForCausalLM(model_config)\n",
    "gemma_model.load_weights(f\"{WEIGHTS_PATH}/gemma-{VARIANT}.ckpt\")\n",
    "gemma_model = gemma_model.to(DEVICE).eval()"
   ]
  },
  {
   "cell_type": "markdown",
   "id": "e3c71b36",
   "metadata": {},
   "source": [
    "## Use Gemma\n",
    "\n",
    "### Simple QA\n",
    "\n",
    "You can use the model with `generate` method."
   ]
  },
  {
   "cell_type": "code",
   "execution_count": null,
   "metadata": {
    "execution": {
     "iopub.execute_input": "2024-07-12T06:37:45.814383Z",
     "iopub.status.busy": "2024-07-12T06:37:45.813806Z",
     "iopub.status.idle": "2024-07-12T06:37:48.814026Z",
     "shell.execute_reply": "2024-07-12T06:37:48.813056Z",
     "shell.execute_reply.started": "2024-07-12T06:37:45.814353Z"
    }
   },
   "outputs": [],
   "source": [
    "prompt = \"Let me know how to use you.\"\n",
    "\n",
    "model_answer = gemma_model.generate(\n",
    "    prompts=prompt,\n",
    "    device=torch.device(DEVICE),\n",
    "    output_len=100, # max output tokens\n",
    "    temperature=0.01,\n",
    "    top_p=0.1,\n",
    "    top_k=1,\n",
    ")\n",
    "\n",
    "print(model_answer)"
   ]
  },
  {
   "cell_type": "markdown",
   "id": "1285f4cd",
   "metadata": {},
   "source": [
    "### QA with instruction tuning\n",
    "\n",
    "You can do the prompt engineering with instruction tuning.  \n",
    "And you can see the code in detail in `GemmaFormatter` class of [Starter Notebook](https://www.kaggle.com/code/ryanholbrook/llm-20-questions-starter-notebook).\n",
    "\n",
    "Reference: https://ai.google.dev/gemma/docs/formatting"
   ]
  },
  {
   "cell_type": "code",
   "execution_count": null,
   "metadata": {
    "execution": {
     "iopub.execute_input": "2024-07-12T06:44:23.61528Z",
     "iopub.status.busy": "2024-07-12T06:44:23.614886Z",
     "iopub.status.idle": "2024-07-12T06:44:23.621332Z",
     "shell.execute_reply": "2024-07-12T06:44:23.620262Z",
     "shell.execute_reply.started": "2024-07-12T06:44:23.615248Z"
    }
   },
   "outputs": [],
   "source": [
    "system_prompt = \"You are an AI assistant designed to play the 20 Questions game. In this game, the Answerer thinks of a keyword and responds to yes-or-no questions by the Questioner. The keyword is a specific person, place, or thing.\"\n",
    "\n",
    "prompt = \"<start_of_turn>user\\n\" # GemmaFormatter.user\n",
    "prompt += f\"{system_prompt}<end_of_turn>\\n\"\n",
    "prompt += \"<start_of_turn>model\\n\" # GemmaFormatter.start_model_turn\n",
    "\n",
    "print(prompt)"
   ]
  },
  {
   "cell_type": "code",
   "execution_count": null,
   "metadata": {
    "execution": {
     "iopub.execute_input": "2024-07-12T06:44:23.858165Z",
     "iopub.status.busy": "2024-07-12T06:44:23.857815Z",
     "iopub.status.idle": "2024-07-12T06:44:26.954729Z",
     "shell.execute_reply": "2024-07-12T06:44:26.953599Z",
     "shell.execute_reply.started": "2024-07-12T06:44:23.858138Z"
    }
   },
   "outputs": [],
   "source": [
    "model_answer = gemma_model.generate(\n",
    "    prompts=prompt,\n",
    "    device=torch.device(DEVICE),\n",
    "    output_len=100, # max output tokens\n",
    "    temperature=0.01,\n",
    "    top_p=0.1,\n",
    "    top_k=1,\n",
    ")\n",
    "\n",
    "print(model_answer)"
   ]
  },
  {
   "cell_type": "markdown",
   "id": "3032da23",
   "metadata": {},
   "source": [
    "---\n",
    "\n",
    "I hope now you can use how to use the Gemma model for the competition  \n",
    "and this notebook helps understand the starter notebook."
   ]
  }
 ],
 "metadata": {
  "kaggle": {
   "accelerator": "nvidiaTeslaT4",
   "dataSources": [
    {
     "databundleVersionId": 8550470,
     "sourceId": 61247,
     "sourceType": "competition"
    },
    {
     "isSourceIdPinned": true,
     "modelInstanceId": 5383,
     "sourceId": 11358,
     "sourceType": "modelInstanceVersion"
    }
   ],
   "dockerImageVersionId": 30733,
   "isGpuEnabled": true,
   "isInternetEnabled": true,
   "language": "python",
   "sourceType": "notebook"
  },
  "kernelspec": {
   "display_name": "Python 3",
   "language": "python",
   "name": "python3"
  },
  "language_info": {
   "codemirror_mode": {
    "name": "ipython",
    "version": 3
   },
   "file_extension": ".py",
   "mimetype": "text/x-python",
   "name": "python",
   "nbconvert_exporter": "python",
   "pygments_lexer": "ipython3",
   "version": "3.10.13"
  }
 },
 "nbformat": 4,
 "nbformat_minor": 4
}
