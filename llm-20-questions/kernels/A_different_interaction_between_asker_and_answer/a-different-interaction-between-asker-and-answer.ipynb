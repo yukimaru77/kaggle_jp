{
 "cells": [
  {
   "cell_type": "markdown",
   "id": "201994a8",
   "metadata": {},
   "source": [
    "This code provide a new thought of getting right answer. It's just a sample. Also I want to know if it's allowed. "
   ]
  },
  {
   "cell_type": "code",
   "execution_count": null,
   "metadata": {
    "_cell_guid": "b1076dfc-b9ad-4769-8c92-a6c4dae69d19",
    "_uuid": "8f2839f25d086af736a60e9eeb907d3b93b6e0e5",
    "execution": {
     "iopub.execute_input": "2024-07-14T07:11:15.517703Z",
     "iopub.status.busy": "2024-07-14T07:11:15.516793Z",
     "iopub.status.idle": "2024-07-14T07:11:16.826586Z",
     "shell.execute_reply": "2024-07-14T07:11:16.825265Z",
     "shell.execute_reply.started": "2024-07-14T07:11:15.517665Z"
    }
   },
   "outputs": [],
   "source": [
    "# This Python 3 environment comes with many helpful analytics libraries installed\n",
    "# It is defined by the kaggle/python Docker image: https://github.com/kaggle/docker-python\n",
    "# For example, here's several helpful packages to load\n",
    "\n",
    "import numpy as np # linear algebra\n",
    "import pandas as pd # data processing, CSV file I/O (e.g. pd.read_csv)\n",
    "\n",
    "# Input data files are available in the read-only \"../input/\" directory\n",
    "# For example, running this (by clicking run or pressing Shift+Enter) will list all files under the input directory\n",
    "\n",
    "import os\n",
    "for dirname, _, filenames in os.walk('/kaggle/input'):\n",
    "    for filename in filenames:\n",
    "        print(os.path.join(dirname, filename))\n",
    "\n",
    "# You can write up to 20GB to the current directory (/kaggle/working/) that gets preserved as output when you create a version using \"Save & Run All\" \n",
    "# You can also write temporary files to /kaggle/temp/, but they won't be saved outside of the current session"
   ]
  },
  {
   "cell_type": "code",
   "execution_count": null,
   "metadata": {
    "execution": {
     "iopub.execute_input": "2024-07-14T07:15:05.848668Z",
     "iopub.status.busy": "2024-07-14T07:15:05.848256Z",
     "iopub.status.idle": "2024-07-14T07:15:05.875845Z",
     "shell.execute_reply": "2024-07-14T07:15:05.874522Z",
     "shell.execute_reply.started": "2024-07-14T07:15:05.848637Z"
    }
   },
   "outputs": [],
   "source": [
    "#%%writefile /kaggle/working/submission/main.py\n",
    "\n",
    "import os\n",
    "import sys\n",
    "import csv\n",
    "import random\n",
    "\n",
    "animal_list= [\"dog\",\"cat\",\"hen\",\"fish\",'duck','cow','tiger','']\n",
    "person_list= ['Elon Musk','Jos Biden','Jack Ma','Harry Potter']\n",
    "place_list=['Beijing', \"London\", 'New York','Tokyo']\n",
    "\n",
    "\n",
    "# If you put other files (e.g. model weights) in your submission/lib directory, you need to set the path\n",
    "KAGGLE_COMPETITION_PATH = \"/kaggle_simulations/agent/\" # competition path\n",
    "if os.path.exists(KAGGLE_COMPETITION_PATH):  # if running in the competition\n",
    "    subdirectory_path = os.path.join(KAGGLE_COMPETITION_PATH, \"lib\")\n",
    "else: # if running in notebook\n",
    "    subdirectory_path = os.path.join(\"/kaggle/working/submission/\", \"lib\")\n",
    "sys.path.insert(0, subdirectory_path)\n",
    "\n",
    "\n",
    "def agent_first_letter(obs, cfg):    \n",
    "    if obs.turnType == \"ask\":        \n",
    "        #print(obs.step)\n",
    "        if len(obs['answers']) == 0:  \n",
    "            response = \"str(obs.keyword)[0].lower() in list('abcdefghijklm') #Is the first letter of the keyword any of the following: ['a','b','c','d','e','f','g','h','i','j','k','l','m'] ?\"\n",
    "        elif (len(obs.answers) == 1):\n",
    "            if (obs.answers[-1]==\"yes\"):\n",
    "                response = \"str(obs.keyword)[0].lower() in list('abcdef') #Is the first letter of the keyword any of the following: ['a','b','c','d','e','f']?\"\n",
    "            else:\n",
    "                response = \"str(obs.keyword)[0].lower() in list('nopqrs') #Is the first letter of the keyword any of the following: ['n','o','p','q','r','s']?\"\n",
    "        elif (len(obs.answers) == 2):\n",
    "            if (obs.answers[-2]==\"yes\")&(obs.answers[-1]==\"yes\"):\n",
    "                response = \"str(obs.keyword)[0].lower() in list('abc') #Is the first letter of the keyword any of the following: ['a','b','c'] ? \"\n",
    "\n",
    "            elif (obs.answers[-2]==\"yes\")&(obs.answers[-1]==\"no\"):\n",
    "                response = \"str(obs.keyword)[0].lower() in list('ghij') #Is the first letter of the keyword any of the following: ['g','h','i','j'] ?\"\n",
    "\n",
    "            elif (obs.answers[-2]==\"no\")&(obs.answers[-1]==\"yes\"):\n",
    "                response = \"str(obs.keyword)[0].lower() in list('nop') #Is the first letter of the keyword any of the following: ['n','o','p'] ?\"\n",
    "\n",
    "            elif (obs.answers[-2]==\"no\")&(obs.answers[-1]==\"no\"):\n",
    "                response = \"str(obs.keyword)[0].lower() in list('tuvw') #Is the first letter of the keyword any of the following: ['t','u','v','w'] ?\"\n",
    "\n",
    "        elif (len(obs.answers) == 3):\n",
    "            if (obs.answers[-3]==\"yes\")&(obs.answers[-2]==\"yes\")&(obs.answers[-1]==\"yes\"):\n",
    "                response = \"str(obs.keyword)[0].lower() in list('ab') #Is the first letter of the keyword any of the following: ['a','b'] ?\"\n",
    "\n",
    "            elif (obs.answers[-3]==\"yes\")&(obs.answers[-2]==\"yes\")&(obs.answers[-1]==\"no\"):\n",
    "                response = \"str(obs.keyword)[0].lower() in list('de') #Is the first letter of the keyword any of the following:['d','e'] ?\"\n",
    "\n",
    "            elif (obs.answers[-3]==\"yes\")&(obs.answers[-2]==\"no\")&(obs.answers[-1]==\"yes\"):\n",
    "                response = \"str(obs.keyword)[0].lower() in list('gh') #Is the first letter of the keyword any of the following: ['g','h'] ?\"\n",
    "\n",
    "            elif (obs.answers[-3]==\"yes\")&(obs.answers[-2]==\"no\")&(obs.answers[-1]==\"no\"):\n",
    "                response = \"str(obs.keyword)[0].lower() in list('kl') #Is the first letter of the keyword any of the following: ['k','l'] ?\"\n",
    "\n",
    "            elif (obs.answers[-3]==\"no\")&(obs.answers[-2]==\"yes\")&(obs.answers[-1]==\"yes\"):\n",
    "                response = \"str(obs.keyword)[0].lower() in list('no') #Is the first letter of the keyword any of the following: ['n','o'] ?\"\n",
    "\n",
    "            elif (obs.answers[-3]==\"no\")&(obs.answers[-2]==\"yes\")&(obs.answers[-1]==\"no\"):\n",
    "                response = \"str(obs.keyword)[0].lower() in list('qr') #Is the first letter of the keyword any of the following: ['q','r'] ?\"\n",
    "\n",
    "            elif (obs.answers[-3]==\"no\")&(obs.answers[-2]==\"no\")&(obs.answers[-1]==\"yes\"):\n",
    "                response = \"str(obs.keyword)[0].lower() in list('tu') #Is the first letter of the keyword any of the following: ['t','u'] ?\"\n",
    "            \n",
    "            elif (obs.answers[-3]==\"no\")&(obs.answers[-2]==\"no\")&(obs.answers[-1]==\"no\"):\n",
    "                response = \"str(obs.keyword)[0].lower() in list('xz') #Is the first letter of the keyword any of the following: ['x','z'] ?\"\n",
    "\n",
    "        \n",
    "        else:\n",
    "            response = 'Is the keyword xxxxxx?' + str(obs[\"step\"])\n",
    "            \n",
    "    # if agent is guesser and turnType is \"guess\"\n",
    "    elif obs.turnType == \"guess\":\n",
    "        \n",
    "        if (obs.questions[-1]==\"is it a place\") & (obs.answers[-1]==\"yes\"):\n",
    "            guess = random.choice(place_list)\n",
    "        else:\n",
    "            guess = random.choice(animal_list)\n",
    "         \n",
    "        response = guess     \n",
    "  \n",
    "    # if agent is the answerer\n",
    "    elif obs.turnType == \"answer\":\n",
    "        if \"#\" in (obs.questions)[-1]:\n",
    "            ques = (obs.questions)[-1]\n",
    "            try:\n",
    "                ques = ques[0:ques.find('#')]            \n",
    "                response = 'yes' if eval(ques) else 'no'  \n",
    "            except:\n",
    "                ques = ques[ques.find('#')+1:] \n",
    "                random.choice(['yes','no']) #here you may use llm instead         \n",
    "        else:             \n",
    "            response = random.choice(['yes','no']) #here you may use llm instead        \n",
    "    return response\n",
    "\n",
    "\n"
   ]
  },
  {
   "cell_type": "code",
   "execution_count": null,
   "metadata": {
    "execution": {
     "iopub.execute_input": "2024-07-14T07:11:47.669525Z",
     "iopub.status.busy": "2024-07-14T07:11:47.668737Z",
     "iopub.status.idle": "2024-07-14T07:11:47.683066Z",
     "shell.execute_reply": "2024-07-14T07:11:47.681514Z",
     "shell.execute_reply.started": "2024-07-14T07:11:47.66949Z"
    }
   },
   "outputs": [],
   "source": [
    "import random\n",
    "def simple_agent1(obs, cfg):\n",
    "    # if agent is guesser and turnType is \"ask\"\n",
    "    if obs.turnType == \"ask\": response = random.choice(list_qs)\n",
    "    elif obs.turnType == \"guess\": \n",
    "        if obs.answers[-1]==\"yes\":\n",
    "            response = \"duck\"\n",
    "        else:\n",
    "            response = \"penguin\"\n",
    "        \n",
    "    elif obs.turnType == \"answer\": response = random.choice(['yes','no'])\n",
    "    return response\n",
    "\n",
    "def simple_agent2(obs, cfg):\n",
    "    # if agent is guesser and turnType is \"ask\"\n",
    "    if obs.turnType == \"ask\": response = \"Is it a bird?\"\n",
    "    elif obs.turnType == \"guess\": response = \"bird\"\n",
    "    elif obs.turnType == \"answer\": response = random.choice(['yes','no'])\n",
    "    return response\n",
    "def simple_agent3(obs, cfg):\n",
    "    # if agent is guesser and turnType is \"ask\"\n",
    "    if obs.turnType == \"ask\": response = random.choice(list_qs)\n",
    "    elif obs.turnType == \"guess\": \n",
    "        if len(obs.answers) == 0:\n",
    "            response = \"cat\"\n",
    "        elif obs.answers[-1]==\"yes\":\n",
    "            response = \"duck\"\n",
    "        else:\n",
    "            response = \"penguin\"\n",
    "        \n",
    "    elif obs.turnType == \"answer\":\n",
    "        if \"#\" in (obs.questions)[-1]:\n",
    "            ques = (obs.questions)[-1]\n",
    "            try:\n",
    "                ques = ques[0:ques.find('#')]            \n",
    "                response = 'yes' if eval(ques) else 'no'  \n",
    "            except:\n",
    "                random.choice(['yes','no']) #here you may use llm instead         \n",
    "        else:             \n",
    "            response = random.choice(['yes','no']) #here you may use llm instead\n",
    "        \n",
    "    return response"
   ]
  },
  {
   "cell_type": "code",
   "execution_count": null,
   "metadata": {
    "execution": {
     "iopub.execute_input": "2024-07-14T07:11:57.113673Z",
     "iopub.status.busy": "2024-07-14T07:11:57.113292Z",
     "iopub.status.idle": "2024-07-14T07:12:05.219093Z",
     "shell.execute_reply": "2024-07-14T07:12:05.21788Z",
     "shell.execute_reply.started": "2024-07-14T07:11:57.113645Z"
    }
   },
   "outputs": [],
   "source": [
    "from kaggle_environments import make\n",
    "env = make(environment=\"llm_20_questions\")"
   ]
  },
  {
   "cell_type": "code",
   "execution_count": null,
   "metadata": {
    "execution": {
     "iopub.execute_input": "2024-07-14T07:15:11.530699Z",
     "iopub.status.busy": "2024-07-14T07:15:11.530262Z",
     "iopub.status.idle": "2024-07-14T07:15:12.110594Z",
     "shell.execute_reply": "2024-07-14T07:15:12.109384Z",
     "shell.execute_reply.started": "2024-07-14T07:15:11.530664Z"
    }
   },
   "outputs": [],
   "source": [
    "game_output = env.run(agents=[agent_first_letter, simple_agent3, simple_agent2, simple_agent1])\n",
    "env.render(mode=\"ipython\", width=600, height=900)"
   ]
  }
 ],
 "metadata": {
  "kaggle": {
   "accelerator": "none",
   "dataSources": [
    {
     "databundleVersionId": 8550470,
     "sourceId": 61247,
     "sourceType": "competition"
    }
   ],
   "dockerImageVersionId": 30732,
   "isGpuEnabled": false,
   "isInternetEnabled": true,
   "language": "python",
   "sourceType": "notebook"
  },
  "kernelspec": {
   "display_name": "Python 3",
   "language": "python",
   "name": "python3"
  },
  "language_info": {
   "codemirror_mode": {
    "name": "ipython",
    "version": 3
   },
   "file_extension": ".py",
   "mimetype": "text/x-python",
   "name": "python",
   "nbconvert_exporter": "python",
   "pygments_lexer": "ipython3",
   "version": "3.10.13"
  }
 },
 "nbformat": 4,
 "nbformat_minor": 4
}
