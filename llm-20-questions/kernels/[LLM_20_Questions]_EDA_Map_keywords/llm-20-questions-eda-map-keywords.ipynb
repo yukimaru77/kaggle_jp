{
 "cells": [
  {
   "cell_type": "code",
   "execution_count": null,
   "metadata": {
    "execution": {
     "iopub.execute_input": "2024-05-16T18:23:58.942308Z",
     "iopub.status.busy": "2024-05-16T18:23:58.94186Z",
     "iopub.status.idle": "2024-05-16T18:23:59.942114Z",
     "shell.execute_reply": "2024-05-16T18:23:59.940918Z",
     "shell.execute_reply.started": "2024-05-16T18:23:58.942274Z"
    }
   },
   "outputs": [],
   "source": [
    "import json\n",
    "import requests\n",
    "import time\n",
    "import folium\n",
    "from kaggle_secrets import UserSecretsClient"
   ]
  },
  {
   "cell_type": "code",
   "execution_count": null,
   "metadata": {
    "_kg_hide-output": true,
    "collapsed": true,
    "execution": {
     "iopub.execute_input": "2024-05-16T17:55:55.247302Z",
     "iopub.status.busy": "2024-05-16T17:55:55.246871Z",
     "iopub.status.idle": "2024-05-16T17:55:55.351092Z",
     "shell.execute_reply": "2024-05-16T17:55:55.3497Z",
     "shell.execute_reply.started": "2024-05-16T17:55:55.24727Z"
    },
    "jupyter": {
     "outputs_hidden": true
    }
   },
   "outputs": [],
   "source": [
    "exec(open(\"/kaggle/input/llm-20-questions/llm_20_questions/keywords.py\").read())\n",
    "KEYWORDS_JSON = json.loads(KEYWORDS_JSON)\n",
    "KEYWORDS_JSON"
   ]
  },
  {
   "cell_type": "code",
   "execution_count": null,
   "metadata": {
    "execution": {
     "iopub.execute_input": "2024-05-16T17:55:58.223396Z",
     "iopub.status.busy": "2024-05-16T17:55:58.222997Z",
     "iopub.status.idle": "2024-05-16T17:55:58.230541Z",
     "shell.execute_reply": "2024-05-16T17:55:58.229177Z",
     "shell.execute_reply.started": "2024-05-16T17:55:58.223363Z"
    }
   },
   "outputs": [],
   "source": [
    "print(len(KEYWORDS_JSON))\n",
    "for category in KEYWORDS_JSON:\n",
    "    print(category[\"category\"], len(category[\"words\"]))"
   ]
  },
  {
   "cell_type": "code",
   "execution_count": null,
   "metadata": {
    "execution": {
     "iopub.execute_input": "2024-05-16T17:55:59.50905Z",
     "iopub.status.busy": "2024-05-16T17:55:59.50854Z",
     "iopub.status.idle": "2024-05-16T17:55:59.619759Z",
     "shell.execute_reply": "2024-05-16T17:55:59.618557Z",
     "shell.execute_reply.started": "2024-05-16T17:55:59.509009Z"
    }
   },
   "outputs": [],
   "source": [
    "user_secrets = UserSecretsClient()\n",
    "geocoding_api_key = user_secrets.get_secret(\"geocoding_api_key\") # add your api_key in 'Add-ons'->'secret' (see https://www.kaggle.com/discussions/product-feedback/114053)"
   ]
  },
  {
   "cell_type": "code",
   "execution_count": null,
   "metadata": {
    "execution": {
     "iopub.execute_input": "2024-05-16T17:58:35.644302Z",
     "iopub.status.busy": "2024-05-16T17:58:35.64388Z",
     "iopub.status.idle": "2024-05-16T17:58:36.472799Z",
     "shell.execute_reply": "2024-05-16T17:58:36.471635Z",
     "shell.execute_reply.started": "2024-05-16T17:58:35.644272Z"
    }
   },
   "outputs": [],
   "source": [
    "url_api = \"https://geocode.maps.co/search?q={address}&api_key={api_key}\"\n",
    "# test api\n",
    "r = requests.get(url_api.format(address=\"croatia\",api_key=geocoding_api_key))\n",
    "r.status_code"
   ]
  },
  {
   "cell_type": "code",
   "execution_count": null,
   "metadata": {
    "_kg_hide-input": false,
    "_kg_hide-output": true,
    "collapsed": true,
    "execution": {
     "iopub.execute_input": "2024-05-16T17:58:47.182179Z",
     "iopub.status.busy": "2024-05-16T17:58:47.181239Z",
     "iopub.status.idle": "2024-05-16T17:58:47.195768Z",
     "shell.execute_reply": "2024-05-16T17:58:47.194522Z",
     "shell.execute_reply.started": "2024-05-16T17:58:47.182135Z"
    },
    "jupyter": {
     "outputs_hidden": true
    }
   },
   "outputs": [],
   "source": [
    "r.json()"
   ]
  },
  {
   "cell_type": "code",
   "execution_count": null,
   "metadata": {
    "execution": {
     "iopub.execute_input": "2024-05-16T19:10:02.80108Z",
     "iopub.status.busy": "2024-05-16T19:10:02.799838Z",
     "iopub.status.idle": "2024-05-16T19:10:02.812877Z",
     "shell.execute_reply": "2024-05-16T19:10:02.811432Z",
     "shell.execute_reply.started": "2024-05-16T19:10:02.801036Z"
    }
   },
   "outputs": [],
   "source": [
    "worldmap = folium.Map([0, 0], titles='Map', zoom_start=4)"
   ]
  },
  {
   "cell_type": "code",
   "execution_count": null,
   "metadata": {
    "execution": {
     "iopub.execute_input": "2024-05-16T19:14:24.101496Z",
     "iopub.status.busy": "2024-05-16T19:14:24.101077Z",
     "iopub.status.idle": "2024-05-16T19:25:24.098997Z",
     "shell.execute_reply": "2024-05-16T19:25:24.097556Z",
     "shell.execute_reply.started": "2024-05-16T19:14:24.10145Z"
    }
   },
   "outputs": [],
   "source": [
    "colors = {\"country\":\"blue\",\"city\":\"green\",\"landmark\":\"orange\"}\n",
    "for category, name in zip(KEYWORDS_JSON,[\"country\",\"city\",\"landmark\"]):\n",
    "    for location in category[\"words\"]:\n",
    "        r = requests.get(url_api.format(address=location[\"keyword\"],api_key=geocoding_api_key))\n",
    "        if r.status_code != 200:\n",
    "            print(f\"error {r.status_code = } {name} {location['keyword']}\")\n",
    "            continue\n",
    "        try:\n",
    "            resp = r.json()[0]\n",
    "            folium.Circle(location = [resp.get('lat'),resp.get('lon')],\n",
    "                      popup=f\"{name} {location['keyword']}\",\n",
    "                      color=colors[name],\n",
    "                      tooltip=f\"{name} {location['keyword']} {location['alts']}\",\n",
    "                      fill = False).add_to(worldmap)\n",
    "        except IndexError:\n",
    "            print(\"error empty response\", name, location[\"keyword\"])\n",
    "        time.sleep(1) # limit of 1 request per second for free plan\n",
    "    \n",
    "worldmap"
   ]
  }
 ],
 "metadata": {
  "kaggle": {
   "accelerator": "none",
   "dataSources": [
    {
     "databundleVersionId": 8550470,
     "sourceId": 61247,
     "sourceType": "competition"
    }
   ],
   "dockerImageVersionId": 30698,
   "isGpuEnabled": false,
   "isInternetEnabled": true,
   "language": "python",
   "sourceType": "notebook"
  },
  "kernelspec": {
   "display_name": "Python 3",
   "language": "python",
   "name": "python3"
  },
  "language_info": {
   "codemirror_mode": {
    "name": "ipython",
    "version": 3
   },
   "file_extension": ".py",
   "mimetype": "text/x-python",
   "name": "python",
   "nbconvert_exporter": "python",
   "pygments_lexer": "ipython3",
   "version": "3.10.13"
  }
 },
 "nbformat": 4,
 "nbformat_minor": 4
}
