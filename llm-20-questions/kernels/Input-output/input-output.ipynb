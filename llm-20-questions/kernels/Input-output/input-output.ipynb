{
 "cells": [
  {
   "cell_type": "code",
   "execution_count": null,
   "metadata": {
    "_cell_guid": "b1076dfc-b9ad-4769-8c92-a6c4dae69d19",
    "_uuid": "8f2839f25d086af736a60e9eeb907d3b93b6e0e5",
    "execution": {
     "iopub.execute_input": "2024-06-11T10:01:36.855351Z",
     "iopub.status.busy": "2024-06-11T10:01:36.854318Z",
     "iopub.status.idle": "2024-06-11T10:01:38.210483Z",
     "shell.execute_reply": "2024-06-11T10:01:38.209041Z",
     "shell.execute_reply.started": "2024-06-11T10:01:36.855304Z"
    }
   },
   "outputs": [],
   "source": [
    "# This Python 3 environment comes with many helpful analytics libraries installed\n",
    "# It is defined by the kaggle/python Docker image: https://github.com/kaggle/docker-python\n",
    "# For example, here's several helpful packages to load\n",
    "\n",
    "import numpy as np # linear algebra\n",
    "import pandas as pd # data processing, CSV file I/O (e.g. pd.read_csv)\n",
    "\n",
    "# Input data files are available in the read-only \"../input/\" directory\n",
    "# For example, running this (by clicking run or pressing Shift+Enter) will list all files under the input directory\n",
    "\n",
    "import os\n",
    "for dirname, _, filenames in os.walk('/kaggle/input'):\n",
    "    for filename in filenames:\n",
    "        print(os.path.join(dirname, filename))\n",
    "\n",
    "# You can write up to 20GB to the current directory (/kaggle/working/) that gets preserved as output when you create a version using \"Save & Run All\" \n",
    "# You can also write temporary files to /kaggle/temp/, but they won't be saved outside of the current session"
   ]
  },
  {
   "cell_type": "code",
   "execution_count": null,
   "metadata": {
    "execution": {
     "iopub.execute_input": "2024-06-11T10:01:52.852586Z",
     "iopub.status.busy": "2024-06-11T10:01:52.852042Z",
     "iopub.status.idle": "2024-06-11T10:01:52.864651Z",
     "shell.execute_reply": "2024-06-11T10:01:52.863073Z",
     "shell.execute_reply.started": "2024-06-11T10:01:52.852551Z"
    }
   },
   "outputs": [],
   "source": [
    "def simple_agent1(obs, cfg):    \n",
    "    if obs.turnType == \"ask\": response = \"Is it a duck?\"\n",
    "    elif obs.turnType == \"guess\": response = \"duck\"\n",
    "    elif obs.turnType == \"answer\": response = \"no\"\n",
    "    print(obs)\n",
    "    return response\n",
    "\n",
    "def simple_agent2(obs, cfg):\n",
    "    # if agent is guesser and turnType is \"ask\"\n",
    "    if obs.turnType == \"ask\": response = \"Is it a bird?\"\n",
    "    elif obs.turnType == \"guess\": response = \"bird\"\n",
    "    elif obs.turnType == \"answer\": response = \"no\"\n",
    "    print(obs)\n",
    "    return response\n",
    "\n",
    "def simple_agent3(obs, cfg):\n",
    "    # if agent is guesser and turnType is \"ask\"\n",
    "    if obs.turnType == \"ask\": response = \"Is it a pig?\"\n",
    "    elif obs.turnType == \"guess\": response = \"pig\"\n",
    "    elif obs.turnType == \"answer\": response = \"no\"\n",
    "    print(obs)\n",
    "    return response\n",
    "\n",
    "def simple_agent4(obs, cfg):\n",
    "    # if agent is guesser and turnType is \"ask\"\n",
    "    if obs.turnType == \"ask\": response = \"Is it a cow?\"\n",
    "    elif obs.turnType == \"guess\": response = \"cow\"\n",
    "    elif obs.turnType == \"answer\": response = \"no\"\n",
    "    print(obs)\n",
    "    return response"
   ]
  },
  {
   "cell_type": "code",
   "execution_count": null,
   "metadata": {
    "execution": {
     "iopub.execute_input": "2024-06-11T10:01:57.431146Z",
     "iopub.status.busy": "2024-06-11T10:01:57.430362Z",
     "iopub.status.idle": "2024-06-11T10:02:05.395446Z",
     "shell.execute_reply": "2024-06-11T10:02:05.394241Z",
     "shell.execute_reply.started": "2024-06-11T10:01:57.431108Z"
    }
   },
   "outputs": [],
   "source": [
    "from kaggle_environments import make\n",
    "env = make(environment=\"llm_20_questions\",debug=True)"
   ]
  },
  {
   "cell_type": "code",
   "execution_count": null,
   "metadata": {
    "execution": {
     "iopub.execute_input": "2024-06-11T10:02:21.423343Z",
     "iopub.status.busy": "2024-06-11T10:02:21.422683Z",
     "iopub.status.idle": "2024-06-11T10:02:21.942457Z",
     "shell.execute_reply": "2024-06-11T10:02:21.941242Z",
     "shell.execute_reply.started": "2024-06-11T10:02:21.423309Z"
    }
   },
   "outputs": [],
   "source": [
    "game_output = env.run(agents=[simple_agent1, simple_agent3,simple_agent2, simple_agent4])"
   ]
  },
  {
   "cell_type": "code",
   "execution_count": null,
   "metadata": {
    "execution": {
     "iopub.execute_input": "2024-06-11T10:02:24.742418Z",
     "iopub.status.busy": "2024-06-11T10:02:24.74158Z",
     "iopub.status.idle": "2024-06-11T10:02:24.835862Z",
     "shell.execute_reply": "2024-06-11T10:02:24.834681Z",
     "shell.execute_reply.started": "2024-06-11T10:02:24.742382Z"
    }
   },
   "outputs": [],
   "source": [
    "env.render(mode=\"ipython\", width=400, height=400)"
   ]
  },
  {
   "cell_type": "code",
   "execution_count": null,
   "metadata": {},
   "outputs": [],
   "source": []
  }
 ],
 "metadata": {
  "kaggle": {
   "accelerator": "none",
   "dataSources": [
    {
     "databundleVersionId": 8550470,
     "sourceId": 61247,
     "sourceType": "competition"
    }
   ],
   "dockerImageVersionId": 30732,
   "isGpuEnabled": false,
   "isInternetEnabled": true,
   "language": "python",
   "sourceType": "notebook"
  },
  "kernelspec": {
   "display_name": "Python 3",
   "language": "python",
   "name": "python3"
  },
  "language_info": {
   "codemirror_mode": {
    "name": "ipython",
    "version": 3
   },
   "file_extension": ".py",
   "mimetype": "text/x-python",
   "name": "python",
   "nbconvert_exporter": "python",
   "pygments_lexer": "ipython3",
   "version": "3.10.13"
  }
 },
 "nbformat": 4,
 "nbformat_minor": 4
}
