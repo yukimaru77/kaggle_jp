{
 "cells": [
  {
   "cell_type": "code",
   "execution_count": null,
   "metadata": {
    "execution": {
     "iopub.execute_input": "2024-08-04T11:53:57.201422Z",
     "iopub.status.busy": "2024-08-04T11:53:57.201037Z",
     "iopub.status.idle": "2024-08-04T11:53:57.237148Z",
     "shell.execute_reply": "2024-08-04T11:53:57.235862Z",
     "shell.execute_reply.started": "2024-08-04T11:53:57.201391Z"
    }
   },
   "outputs": [],
   "source": [
    "%%writefile requirements.txt\n",
    "bitsandbytes==0.43.3\n",
    "transformers==4.43.3\n",
    "Unidecode==1.3.8"
   ]
  },
  {
   "cell_type": "code",
   "execution_count": null,
   "metadata": {
    "execution": {
     "iopub.execute_input": "2024-08-04T11:54:01.31192Z",
     "iopub.status.busy": "2024-08-04T11:54:01.311511Z",
     "iopub.status.idle": "2024-08-04T11:55:22.686618Z",
     "shell.execute_reply": "2024-08-04T11:55:22.68461Z",
     "shell.execute_reply.started": "2024-08-04T11:54:01.31189Z"
    }
   },
   "outputs": [],
   "source": [
    "!python -m pip download --destination-directory . -r requirements.txt"
   ]
  }
 ],
 "metadata": {
  "kaggle": {
   "accelerator": "none",
   "dataSources": [
    {
     "databundleVersionId": 8550470,
     "sourceId": 61247,
     "sourceType": "competition"
    }
   ],
   "dockerImageVersionId": 30746,
   "isGpuEnabled": false,
   "isInternetEnabled": true,
   "language": "python",
   "sourceType": "notebook"
  },
  "kernelspec": {
   "display_name": "Python 3",
   "language": "python",
   "name": "python3"
  },
  "language_info": {
   "codemirror_mode": {
    "name": "ipython",
    "version": 3
   },
   "file_extension": ".py",
   "mimetype": "text/x-python",
   "name": "python",
   "nbconvert_exporter": "python",
   "pygments_lexer": "ipython3",
   "version": "3.10.13"
  }
 },
 "nbformat": 4,
 "nbformat_minor": 4
}
