{
 "cells": [
  {
   "cell_type": "markdown",
   "id": "612bef82",
   "metadata": {},
   "source": [
    "\n",
    "# 20Questionsゲームシミュレーション：勝利確率の計算"
   ]
  },
  {
   "cell_type": "code",
   "execution_count": null,
   "metadata": {},
   "outputs": [],
   "source": []
  },
  {
   "cell_type": "markdown",
   "id": "059aabb5",
   "metadata": {},
   "source": [
    "## はじめに\n",
    "\n",
    "このチュートリアルでは、有名な推理ゲーム「20Questions」のシミュレーションを行う方法を学びます。Pythonを使用して、ゲームの勝利確率を計算し、その結果をグラフ化します。初心者の方でも理解しやすいよう、ステップバイステップで解説していきます。\n",
    "\n",
    "## 20Questionsゲームとは\n",
    "\n",
    "20Questionsは、プレイヤーが隠された単語を20問以内の質問で当てるゲームです。各質問は「はい」か「いいえ」で答えられるものに限定されます。\n",
    "\n",
    "```mermaid\n",
    "%%{init:{'theme':'base'}}%%\n",
    "graph LR\n",
    "    A[🎮 ゲーム開始] --> B{❓ 質問する}\n",
    "    B -->|はい👍/いいえ👎| C{⏱️ 20問以内?}\n",
    "    C -->|はい👍| D{🤔 単語を推測}\n",
    "    C -->|いいえ👎| E[😢 ゲーム終了: 負け]\n",
    "    D -->|正解✅| F[🎉 ゲーム終了: 勝ち]\n",
    "    D -->|不正解❌| B\n",
    "```\n",
    "\n",
    "## シミュレーションの概要\n",
    "\n",
    "このシミュレーションでは、異なる「削減係数」を用いて、各ラウンドでの勝利確率を計算します。削減係数は、各質問後に残る候補単語の割合を表します。\n",
    "\n",
    "## 確率計算の理論\n",
    "\n",
    "勝利確率の計算には、以下の要素が関係します：\n",
    "\n",
    "1. N: 初期の単語候補数\n",
    "2. k: 質問回数\n",
    "3. r: 削減係数（各質問後に残る候補単語の割合）\n",
    "\n",
    "各ラウンドkでの単語候補数Nkは次のように計算されます：\n",
    "\n",
    "```\n",
    "Nk = N * (r^k)\n",
    "```\n",
    "\n",
    "そして、各ラウンドでの勝利確率Pkは：\n",
    "\n",
    "```\n",
    "Pk = (1 - P(k-1)) * (1 / Nk)\n",
    "```\n",
    "\n",
    "ここで、P(k-1)は前のラウンドまでの累積勝利確率です。\n",
    "\n",
    "## Pythonによる実装\n",
    "\n",
    "それでは、Pythonを使ってこのシミュレーションを実装していきましょう。\n",
    "\n",
    "### 必要なライブラリのインポート\n",
    "\n",
    "まず、必要なライブラリをインポートします。"
   ]
  },
  {
   "cell_type": "code",
   "execution_count": null,
   "metadata": {
    "execution": {
     "iopub.execute_input": "2024-07-26T13:09:06.036192Z",
     "iopub.status.busy": "2024-07-26T13:09:06.03511Z",
     "iopub.status.idle": "2024-07-26T13:09:06.041667Z",
     "shell.execute_reply": "2024-07-26T13:09:06.040381Z",
     "shell.execute_reply.started": "2024-07-26T13:09:06.036141Z"
    }
   },
   "outputs": [],
   "source": [
    "import matplotlib.pyplot as plt"
   ]
  },
  {
   "cell_type": "markdown",
   "id": "c0f15ee6",
   "metadata": {},
   "source": [
    "このコードでは、グラフ描画のためにmatplotlibライブラリをインポートしています。\n",
    "\n",
    "### 勝利確率の計算\n",
    "\n",
    "次に、各ラウンドの勝利確率を計算する関数を定義します。"
   ]
  },
  {
   "cell_type": "code",
   "execution_count": null,
   "metadata": {
    "execution": {
     "iopub.execute_input": "2024-07-26T13:09:06.044706Z",
     "iopub.status.busy": "2024-07-26T13:09:06.044259Z",
     "iopub.status.idle": "2024-07-26T13:09:06.053979Z",
     "shell.execute_reply": "2024-07-26T13:09:06.052816Z",
     "shell.execute_reply.started": "2024-07-26T13:09:06.044666Z"
    }
   },
   "outputs": [],
   "source": [
    "def calculate_win_probabilities(N: int, rounds: int, reduction_factor: float) -> list[float]:\n",
    "    \"\"\"\n",
    "    各ラウンドの累積勝利確率を計算する関数\n",
    "\n",
    "    Args:\n",
    "        N (int): 初期の単語候補数\n",
    "        rounds (int): 質問の総数\n",
    "        reduction_factor (float): 各ラウンドで候補数が減少する割合\n",
    "\n",
    "    Returns:\n",
    "        list[float]: 各ラウンドの累積勝利確率のリスト\n",
    "    \"\"\"\n",
    "    cumulative_probabilities = []\n",
    "    previous_prob = 0\n",
    "\n",
    "    for k in range(1, rounds + 1):\n",
    "        # 現在のラウンドでの候補数を計算\n",
    "        Nk = N * (reduction_factor ** k)\n",
    "        # 現在のラウンドでの勝利確率を計算\n",
    "        current_prob = (1 - previous_prob) * (1 / Nk)\n",
    "        # 累積確率を更新\n",
    "        previous_prob += current_prob\n",
    "        if previous_prob > 1:\n",
    "            previous_prob = 1  # 勝利確率が1を超えないようにする\n",
    "        cumulative_probabilities.append(previous_prob)\n",
    "\n",
    "    return cumulative_probabilities"
   ]
  },
  {
   "cell_type": "markdown",
   "id": "46393bc4",
   "metadata": {},
   "source": [
    "この関数は、初期候補数、ラウンド数、削減係数を受け取り、各ラウンドの累積勝利確率を計算して返します。\n",
    "\n",
    "### 確率のプロット\n",
    "\n",
    "計算した確率をグラフ化する関数を定義します。"
   ]
  },
  {
   "cell_type": "code",
   "execution_count": null,
   "metadata": {
    "execution": {
     "iopub.execute_input": "2024-07-26T13:09:06.055726Z",
     "iopub.status.busy": "2024-07-26T13:09:06.055369Z",
     "iopub.status.idle": "2024-07-26T13:09:06.066436Z",
     "shell.execute_reply": "2024-07-26T13:09:06.065263Z",
     "shell.execute_reply.started": "2024-07-26T13:09:06.055696Z"
    }
   },
   "outputs": [],
   "source": [
    "\n",
    "def plot_cumulative_probabilities(probabilities_dict: dict[float, list[float]]):\n",
    "    \"\"\"\n",
    "    Plot the cumulative winning probabilities\n",
    "\n",
    "    Args:\n",
    "        probabilities_dict (dict[float, list[float]]): \n",
    "            Dictionary of cumulative winning probabilities for each reduction factor\n",
    "    \"\"\"\n",
    "    plt.figure(figsize=(12, 8))\n",
    "    \n",
    "    for reduction_factor, probabilities in probabilities_dict.items():\n",
    "        rounds = range(1, len(probabilities) + 1)\n",
    "        plt.plot(rounds, probabilities, marker='o', linestyle='-', \n",
    "                 label=f'Reduction Factor = {reduction_factor}')\n",
    "\n",
    "    # Graph settings\n",
    "    plt.xlabel('Round')\n",
    "    plt.ylabel('Cumulative Winning Probability')\n",
    "    plt.title('Cumulative Winning Probability per Round for Different Reduction Factors')\n",
    "    plt.grid(True)\n",
    "    plt.xticks(range(1, 21))\n",
    "    plt.yticks([i/10 for i in range(11)])\n",
    "    plt.ylim(0, 1)\n",
    "    plt.legend()\n",
    "    plt.show()\n"
   ]
  },
  {
   "cell_type": "markdown",
   "id": "3f0ee40d",
   "metadata": {},
   "source": [
    "この関数は、異なる削減係数での確率をまとめてプロットします。\n",
    "\n",
    "### メイン関数\n",
    "\n",
    "最後に、すべての処理を統合するメイン関数を定義します。"
   ]
  },
  {
   "cell_type": "code",
   "execution_count": null,
   "metadata": {
    "execution": {
     "iopub.execute_input": "2024-07-26T13:09:06.068296Z",
     "iopub.status.busy": "2024-07-26T13:09:06.067861Z",
     "iopub.status.idle": "2024-07-26T13:09:06.596996Z",
     "shell.execute_reply": "2024-07-26T13:09:06.595694Z",
     "shell.execute_reply.started": "2024-07-26T13:09:06.06826Z"
    }
   },
   "outputs": [],
   "source": [
    "def main():\n",
    "    N = 1024  # 初期の単語候補数\n",
    "    rounds = 20  # 質問の総数\n",
    "    reduction_factors = [0.5, 0.6, 0.7, 0.8, 0.9, 1.0]  # 異なる削減係数\n",
    "    probabilities_dict = {}\n",
    "\n",
    "    for reduction_factor in reduction_factors:\n",
    "        # 各削減係数での確率を計算\n",
    "        probabilities = calculate_win_probabilities(N, rounds, reduction_factor)\n",
    "        probabilities_dict[reduction_factor] = probabilities\n",
    "        # 結果を表示\n",
    "        for i, prob in enumerate(probabilities, 1):\n",
    "            print(f\"削減係数 {reduction_factor}, ラウンド {i}: 累積勝利確率 = {prob:.10f}\")\n",
    "\n",
    "    # 結果をプロット\n",
    "    plot_cumulative_probabilities(probabilities_dict)\n",
    "\n",
    "if __name__ == \"__main__\":\n",
    "    main()"
   ]
  },
  {
   "cell_type": "markdown",
   "id": "3e079d10",
   "metadata": {},
   "source": [
    "このメイン関数は、異なる削減係数での確率を計算し、結果を表示してグラフ化します。\n",
    "\n",
    "## 結果の解釈\n",
    "\n",
    "シミュレーションの結果、以下のことが分かります：\n",
    "\n",
    "1. 削減係数が小さいほど（各質問で候補が大きく減るほど）、早いラウンドで高い勝利確率に達します。\n",
    "2. 削減係数が1.0の場合（質問が効果的でない場合）、勝利確率はほとんど上がりません。\n",
    "3. 多くの場合、20ラウンド以内で勝利確率が非常に高くなります。\n",
    "\n",
    "この結果は、効果的な質問戦略の重要性を示しています。\n",
    "\n",
    "## まとめ\n",
    "\n",
    "このチュートリアルでは、20Questionsゲームのシミュレーションを通じて、以下のことを学びました：\n",
    "\n",
    "1. 確率計算の基本概念\n",
    "2. Pythonを使用したシミュレーションの実装方法\n",
    "3. matplotlib.pyplotを使用したデータの視覚化\n",
    "4. 結果の解釈と実際のゲーム戦略への応用\n",
    "\n",
    "このシミュレーションは、ゲーム理論や機械学習の分野でも応用可能な基本的な概念を含んでいます。ぜひ、パラメータを変更したり、新しい要素を追加したりして、さらに探究してみてください。"
   ]
  }
 ],
 "metadata": {
  "jupytext": {
   "cell_metadata_filter": "-all",
   "main_language": "python",
   "notebook_metadata_filter": "-all"
  },
  "kaggle": {
   "accelerator": "none",
   "dataSources": [
    {
     "databundleVersionId": 8550470,
     "sourceId": 61247,
     "sourceType": "competition"
    }
   ],
   "dockerImageVersionId": 30746,
   "isGpuEnabled": false,
   "isInternetEnabled": true,
   "language": "python",
   "sourceType": "notebook"
  },
  "kernelspec": {
   "display_name": "Python 3",
   "language": "python",
   "name": "python3"
  },
  "language_info": {
   "codemirror_mode": {
    "name": "ipython",
    "version": 3
   },
   "file_extension": ".py",
   "mimetype": "text/x-python",
   "name": "python",
   "nbconvert_exporter": "python",
   "pygments_lexer": "ipython3",
   "version": "3.10.13"
  }
 },
 "nbformat": 4,
 "nbformat_minor": 4
}
