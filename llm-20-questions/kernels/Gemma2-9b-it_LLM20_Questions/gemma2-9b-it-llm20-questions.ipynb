{
 "cells": [
  {
   "cell_type": "code",
   "execution_count": null,
   "metadata": {
    "_cell_guid": "b1076dfc-b9ad-4769-8c92-a6c4dae69d19",
    "_uuid": "8f2839f25d086af736a60e9eeb907d3b93b6e0e5",
    "collapsed": true,
    "execution": {
     "iopub.execute_input": "2024-07-10T15:39:11.56763Z",
     "iopub.status.busy": "2024-07-10T15:39:11.56738Z",
     "iopub.status.idle": "2024-07-10T15:39:56.873551Z",
     "shell.execute_reply": "2024-07-10T15:39:56.872658Z",
     "shell.execute_reply.started": "2024-07-10T15:39:11.567607Z"
    },
    "jupyter": {
     "outputs_hidden": true
    }
   },
   "outputs": [],
   "source": [
    "%%bash\n",
    "mkdir -p /kaggle/working/submission\n",
    "pip install bitsandbytes accelerate\n",
    "pip install -U transformers"
   ]
  },
  {
   "cell_type": "markdown",
   "id": "fb93209c",
   "metadata": {},
   "source": [
    "**Keep Secrets:** Add-ons>Secrets"
   ]
  },
  {
   "cell_type": "code",
   "execution_count": null,
   "metadata": {
    "execution": {
     "iopub.execute_input": "2024-07-10T15:39:56.875485Z",
     "iopub.status.busy": "2024-07-10T15:39:56.875218Z",
     "iopub.status.idle": "2024-07-10T15:39:57.049016Z",
     "shell.execute_reply": "2024-07-10T15:39:57.048069Z",
     "shell.execute_reply.started": "2024-07-10T15:39:56.875462Z"
    }
   },
   "outputs": [],
   "source": [
    "from kaggle_secrets import UserSecretsClient\n",
    "secrets = UserSecretsClient()\n",
    "\n",
    "HF_TOKEN: str | None  = None\n",
    "\n",
    "try:\n",
    "    HF_TOKEN = secrets.get_secret(\"hf_token\")\n",
    "except:\n",
    "    pass"
   ]
  },
  {
   "cell_type": "markdown",
   "id": "9ffd7b48",
   "metadata": {},
   "source": [
    "**Download the LLM Locally.** gemma2 could not be executed by calling it from input. so downloaded it locally."
   ]
  },
  {
   "cell_type": "code",
   "execution_count": null,
   "metadata": {
    "execution": {
     "iopub.execute_input": "2024-07-10T15:39:57.050416Z",
     "iopub.status.busy": "2024-07-10T15:39:57.050137Z",
     "iopub.status.idle": "2024-07-10T15:40:57.561902Z",
     "shell.execute_reply": "2024-07-10T15:40:57.560938Z",
     "shell.execute_reply.started": "2024-07-10T15:39:57.050392Z"
    }
   },
   "outputs": [],
   "source": [
    "from huggingface_hub import snapshot_download\n",
    "from pathlib import Path\n",
    "import shutil\n",
    "\n",
    "g_model_path = Path(\"/kaggle/working/submission/model\")\n",
    "if g_model_path.exists():\n",
    "    shutil.rmtree(g_model_path)\n",
    "g_model_path.mkdir(parents=True)\n",
    "\n",
    "snapshot_download(\n",
    "    repo_id=\"google/gemma-2-9b-it\",\n",
    "    ignore_patterns=\"original*\",\n",
    "    local_dir=g_model_path,\n",
    "    local_dir_use_symlinks=False,\n",
    "    token=globals().get(\"HF_TOKEN\", None)\n",
    ")"
   ]
  },
  {
   "cell_type": "code",
   "execution_count": null,
   "metadata": {
    "execution": {
     "iopub.execute_input": "2024-07-10T15:40:57.564206Z",
     "iopub.status.busy": "2024-07-10T15:40:57.563925Z",
     "iopub.status.idle": "2024-07-10T15:40:58.593106Z",
     "shell.execute_reply": "2024-07-10T15:40:58.592201Z",
     "shell.execute_reply.started": "2024-07-10T15:40:57.564182Z"
    }
   },
   "outputs": [],
   "source": [
    "!ls -l /kaggle/working/submission/model"
   ]
  },
  {
   "cell_type": "markdown",
   "id": "05f2be42",
   "metadata": {},
   "source": [
    "**Device Mapping for Model Layers**\n",
    "When dealing with large models, distributing the layers across multiple devices can help in managing memory and computational resources more efficiently. The device_maps variable is used to specify which layers of the model are assigned to which device.\n",
    "\n",
    "By using torch.backends.cuda.enable_mem_efficient_sdp(False), you can disable memory-efficient SDP in PyTorch, which might be necessary for certain models or debugging purposes. This configuration can help achieve better performance or consistency across different hardware setups.\n",
    "\n",
    "[How to prompt Gemma 2](https://huggingface.co/blog/gemma2#how-to-prompt-gemma-2)"
   ]
  },
  {
   "cell_type": "code",
   "execution_count": null,
   "metadata": {
    "execution": {
     "iopub.execute_input": "2024-07-10T15:40:58.595334Z",
     "iopub.status.busy": "2024-07-10T15:40:58.595041Z",
     "iopub.status.idle": "2024-07-10T15:40:58.797631Z",
     "shell.execute_reply": "2024-07-10T15:40:58.796439Z",
     "shell.execute_reply.started": "2024-07-10T15:40:58.595309Z"
    }
   },
   "outputs": [],
   "source": [
    "%%writefile -a submission/main.py\n",
    "\n",
    "import os\n",
    "import torch\n",
    "import re\n",
    "from transformers import AutoTokenizer, AutoModelForCausalLM, BitsAndBytesConfig, AutoConfig\n",
    "\n",
    "torch.backends.cuda.enable_mem_efficient_sdp(False)\n",
    "\n",
    "KAGGLE_AGENT_PATH = \"/kaggle_simulations/agent/\"\n",
    "if os.path.exists(KAGGLE_AGENT_PATH):\n",
    "    model_id = os.path.join(KAGGLE_AGENT_PATH, \"model\")\n",
    "else:\n",
    "    model_id = \"/kaggle/working/submission/model\"\n",
    "\n",
    "device_maps = [('model.layers.0', 0),\n",
    " ('model.layers.1', 0),\n",
    " ('model.layers.2', 0),\n",
    " ('model.layers.3', 0),\n",
    " ('model.layers.4', 0),\n",
    " ('model.layers.5', 0),\n",
    " ('model.layers.6', 0),\n",
    " ('model.layers.7', 0),\n",
    " ('model.layers.8', 0),\n",
    " ('model.layers.9', 0),\n",
    " ('model.layers.10', 0),\n",
    " ('model.layers.11', 0),\n",
    " ('model.layers.12', 0),\n",
    " ('model.layers.13', 0),\n",
    " ('model.layers.14', 0),\n",
    " ('model.layers.15', 0),\n",
    " ('model.layers.16', 0),\n",
    " ('model.layers.17', 0),\n",
    " ('model.layers.18', 0),\n",
    " ('model.layers.19', 1),\n",
    " ('model.layers.20', 1),\n",
    " ('model.layers.21', 1),\n",
    " ('model.layers.22', 1),\n",
    " ('model.layers.23', 1),\n",
    " ('model.layers.24', 1),\n",
    " ('model.layers.25', 1),\n",
    " ('model.layers.26', 1),\n",
    " ('model.layers.27', 1),\n",
    " ('model.layers.28', 1),\n",
    " ('model.layers.29', 1),\n",
    " ('model.layers.30', 1),\n",
    " ('model.layers.31', 1),\n",
    " ('model.layers.32', 1),\n",
    " ('model.layers.33', 1),\n",
    " ('model.layers.34', 1),\n",
    " ('model.layers.35', 1),\n",
    " ('model.layers.36', 1),\n",
    " ('model.layers.37', 1),\n",
    " ('model.layers.38', 1),\n",
    " ('model.layers.39', 1),\n",
    " ('model.layers.40', 1),\n",
    " ('model.layers.41', 1),\n",
    " ('model.embed_tokens', 1),\n",
    " ('model.layers', 1)]\n",
    "\n",
    "quantization_config = BitsAndBytesConfig(load_in_8bit=True)\n",
    "tokenizer = AutoTokenizer.from_pretrained(model_id) \n",
    "id_eot = tokenizer.convert_tokens_to_ids([\"<eos>\"])[0]\n",
    "\n",
    "device = {layer:gpu_mem for (layer,gpu_mem) in device_maps}\n",
    "config = AutoConfig.from_pretrained(model_id)\n",
    "config.gradient_checkpointing = True\n",
    "model = AutoModelForCausalLM.from_pretrained(model_id, torch_dtype=\"auto\", quantization_config=quantization_config,\n",
    "                                             device_map=\"auto\", trust_remote_code=True, config=config)\n",
    "\n",
    "def generate_answer(template):\n",
    "    input_ids = tokenizer(template, return_tensors=\"pt\").to(\"cuda\")\n",
    "    output_ids = model.generate(**input_ids, max_new_tokens=15).squeeze()\n",
    "    start_gen = input_ids.input_ids.shape[1]\n",
    "    output_ids = output_ids[start_gen:]\n",
    "    if id_eot in output_ids:\n",
    "        stop = output_ids.tolist().index(id_eot)\n",
    "        output = tokenizer.decode(output_ids[:stop])\n",
    "    else:\n",
    "        output = tokenizer.decode(output_ids)\n",
    "    output = re.sub('\\n', '', output)\n",
    "    output = re.sub(' <end_of_turn>', '', output)\n",
    "    output = re.sub('<end_of_turn>', '', output)\n",
    "    return output\n",
    "\n",
    "class Robot:\n",
    "    def __init__(self):\n",
    "        pass\n",
    "    \n",
    "    def on(self, mode, obs):\n",
    "        assert mode in [\"asking\", \"guessing\", \"answering\"], \"mode can only take one of these values: asking, answering, guessing\"\n",
    "        if mode == \"asking\":\n",
    "            output = self.asker(obs)\n",
    "        if mode == \"answering\":\n",
    "            output = self.answerer(obs)\n",
    "            if \"yes\" in output.lower() or \"Yes\" in output.lower():\n",
    "                output = \"yes\"\n",
    "            elif \"no\" in output.lower() or \"No\" in output.lower():\n",
    "                output = \"no\"\n",
    "            else:\n",
    "                output = \"yes\"\n",
    "        if mode == \"guessing\":\n",
    "            output = self.asker(obs)\n",
    "        return output\n",
    "\n",
    "    def asker(self, obs):\n",
    "        sys_prompt = \"\"\"\n",
    "        You are an AI assistant designed to play the 20 Questions game. \n",
    "        In this game, the Answerer thinks of a keyword and responds to yes-or-no questions by the Questioner.\n",
    "        The keyword is a specific \"thing\" or \"place\".\n",
    "        \"\"\"\n",
    "        if obs.turnType ==\"ask\":\n",
    "            ask_prompt = sys_prompt + \"\"\"\n",
    "            Let's play 20 Questions. You are playing the role of the Questioner.\n",
    "            Please ask a yes-or-no question.\n",
    "            to help you, here's an example of how it should work assuming that the keyword is Morocco:\n",
    "            examle:\n",
    "            <you: is it a contry?\n",
    "            user: yes\n",
    "            you: is it in europe?\n",
    "            user: no\n",
    "            you: is it in africa?\n",
    "            user: yes\n",
    "            you: do most people living there have dark skin?\n",
    "            user: no\n",
    "            you: is it a country name starting by m ?\n",
    "            user: yes\n",
    "            you: is it Morocco?\n",
    "            user: yes.>\n",
    "            the user has chosen the word, ask your first question!\n",
    "            please be short and not verbose, give only one question, no extra word!\n",
    "            \"\"\"\n",
    "        \n",
    "            chat_template = f\"\"\"<start_of_turn>system\\n{ask_prompt}<end_of_turn>\\n\"\"\"\n",
    "            chat_template += \"<start_of_turn>model\\n\"\n",
    "\n",
    "            if len(obs.questions)>=1:\n",
    "                    for q, a in zip(obs.questions, obs.answers):\n",
    "                        chat_template += f\"{q}<end_of_turn>\\n<start_of_turn>user\\n\"\n",
    "                        chat_template += f\"{a}<end_of_turn>\\n<start_of_turn>model\\n\"\n",
    "                    \n",
    "        elif obs.turnType == \"guess\":\n",
    "                conv = \"\"\n",
    "                for q, a in zip(obs.questions, obs.answers):\n",
    "                    conv += f\"\"\"Question: {q}\\nAnswer: {a}\\n\"\"\"\n",
    "                guess_prompt =  sys_prompt + f\"\"\"\n",
    "                so far, the current state of the game is as following:\\n{conv}\n",
    "                based on the conversation, can you guess the word, please give only the word, no verbosity around\n",
    "                \"\"\"\n",
    "                chat_template = f\"\"\"<start_of_turn>system\\n{guess_prompt}<end_of_turn>\\n\"\"\"\n",
    "                chat_template += \"<start_of_turn>model\\n\"\n",
    "\n",
    "        output = generate_answer(chat_template)        \n",
    "        return output\n",
    "    \n",
    "    def answerer(self, obs):\n",
    "        ask_prompt = f\"\"\"\n",
    "        You are an AI assistant designed to play the 20 Questions game. \n",
    "        In this game, the Answerer thinks of a keyword and responds to yes-or-no questions by the Questioner.\n",
    "        The keyword is a specific place, or thing.\\n\n",
    "        so make sure you understand the user's question and you understand the keyword you're playig on.\n",
    "        for now the word that the user should guess is: \"{obs.keyword}\", it is of category \"{obs.category}\",\n",
    "        to help you, here's an example of how it should work assuming that the keyword is Morocco in the category \"place\":\n",
    "        examle:\n",
    "        <user: is it a place?\n",
    "        you: yes\n",
    "        user: is it in europe?\n",
    "        you: no\n",
    "        user: is it in africa?\n",
    "        you: yes\n",
    "        user: do most people living there have dark skin?\n",
    "        you: no\n",
    "        user: is it a country name starting by m ?\n",
    "        you: yes\n",
    "        user: is it Morocco?\n",
    "        you: yes.>\n",
    "        \"\"\"\n",
    "        chat_template = f\"\"\"<start_of_turn>system\\n{ask_prompt}<end_of_turn>\\n\"\"\"\n",
    "        chat_template += \"<start_of_turn>user\\n\"\n",
    "        chat_template += f\"{obs.questions[0]}\"\n",
    "        chat_template += \"<start_of_turn>model\\n\"\n",
    "        if len(obs.answers)>=1:\n",
    "            for q, a in zip(obs.questions[1:], obs.answers):\n",
    "                chat_template += f\"{q}<end_of_turn>\\n<start_of_turn>user\\n\"\n",
    "                chat_template += f\"{a}<end_of_turn>\\n<start_of_turn>model\\n\"\n",
    "        output = generate_answer(chat_template)\n",
    "        return output\n",
    "\n",
    "robot = Robot()\n",
    "\n",
    "def agent(obs, cfg):\n",
    "    \n",
    "    if obs.turnType ==\"ask\":\n",
    "        response = robot.on(mode = \"asking\", obs = obs)\n",
    "        \n",
    "    elif obs.turnType ==\"guess\":\n",
    "        response = robot.on(mode = \"guessing\", obs = obs)\n",
    "        \n",
    "    elif obs.turnType ==\"answer\":\n",
    "        response = robot.on(mode = \"answering\", obs = obs)\n",
    "        \n",
    "    if response == None or len(response)<=1:\n",
    "        response = \"yes\"\n",
    "        \n",
    "    return response"
   ]
  },
  {
   "cell_type": "code",
   "execution_count": null,
   "metadata": {
    "execution": {
     "iopub.execute_input": "2024-07-10T15:40:58.799087Z",
     "iopub.status.busy": "2024-07-10T15:40:58.798823Z",
     "iopub.status.idle": "2024-07-10T15:41:00.206372Z",
     "shell.execute_reply": "2024-07-10T15:41:00.205574Z",
     "shell.execute_reply.started": "2024-07-10T15:40:58.799064Z"
    }
   },
   "outputs": [],
   "source": [
    "# def simple_agent1(obs, cfg):\n",
    "#     # if agent is guesser and turnType is \"ask\"\n",
    "#     if obs.turnType == \"ask\":\n",
    "#         response_list = [\n",
    "#             'Is it in Africa?',\n",
    "#             'Is it in America?',\n",
    "#             'Is it in Asia?',\n",
    "#             'Is it in Oceania?',\n",
    "#             'Is it in Eastern Europe?',\n",
    "#             'Is it in Northern Europe?',\n",
    "#             'Is it in Southern Europe?',\n",
    "#             'Is it in Western Europe?',\n",
    "#             'Is it Japan?'\n",
    "#         ]\n",
    "# #         response = response_list[len(obs.questions)]\n",
    "#         response = random.choice(response_list)\n",
    "#     elif obs.turnType == \"guess\":\n",
    "#         response = \"duck\"\n",
    "#     elif obs.turnType == \"answer\":\n",
    "#         response = random.choices([\"yes\", \"no\"])[0]\n",
    "#     return response"
   ]
  },
  {
   "cell_type": "code",
   "execution_count": null,
   "metadata": {
    "execution": {
     "iopub.execute_input": "2024-07-10T15:41:00.208008Z",
     "iopub.status.busy": "2024-07-10T15:41:00.207714Z",
     "iopub.status.idle": "2024-07-10T15:41:01.705608Z",
     "shell.execute_reply": "2024-07-10T15:41:01.704802Z",
     "shell.execute_reply.started": "2024-07-10T15:41:00.207986Z"
    }
   },
   "outputs": [],
   "source": [
    "# %%time\n",
    "\n",
    "# import random\n",
    "# from kaggle_environments import make\n",
    "# agent = \"/kaggle/working/submission/main.py\"\n",
    "# env = make(\"llm_20_questions\", debug=True)\n",
    "# game_output = env.run(agents=[agent, simple_agent1, simple_agent1, simple_agent1])"
   ]
  },
  {
   "cell_type": "code",
   "execution_count": null,
   "metadata": {
    "execution": {
     "iopub.execute_input": "2024-07-10T15:41:01.707399Z",
     "iopub.status.busy": "2024-07-10T15:41:01.707041Z",
     "iopub.status.idle": "2024-07-10T15:41:02.480554Z",
     "shell.execute_reply": "2024-07-10T15:41:02.479157Z",
     "shell.execute_reply.started": "2024-07-10T15:41:01.707365Z"
    }
   },
   "outputs": [],
   "source": [
    "# env.render(mode=\"ipython\", width=600, height=500)"
   ]
  },
  {
   "cell_type": "code",
   "execution_count": null,
   "metadata": {
    "execution": {
     "iopub.execute_input": "2024-07-10T15:41:02.482477Z",
     "iopub.status.busy": "2024-07-10T15:41:02.482077Z",
     "iopub.status.idle": "2024-07-10T15:41:05.287786Z",
     "shell.execute_reply": "2024-07-10T15:41:05.2869Z",
     "shell.execute_reply.started": "2024-07-10T15:41:02.482443Z"
    }
   },
   "outputs": [],
   "source": [
    "!wget -O keywords_local.py https://raw.githubusercontent.com/Kaggle/kaggle-environments/master/kaggle_environments/envs/llm_20_questions/keywords.py"
   ]
  },
  {
   "cell_type": "code",
   "execution_count": null,
   "metadata": {
    "execution": {
     "iopub.execute_input": "2024-07-10T15:41:05.291607Z",
     "iopub.status.busy": "2024-07-10T15:41:05.291296Z",
     "iopub.status.idle": "2024-07-10T15:42:07.62528Z",
     "shell.execute_reply": "2024-07-10T15:42:07.624291Z",
     "shell.execute_reply.started": "2024-07-10T15:41:05.291581Z"
    }
   },
   "outputs": [],
   "source": [
    "import json\n",
    "import pandas as pd\n",
    "from submission.main import agent\n",
    "from keywords_local import KEYWORDS_JSON\n",
    "\n",
    "class Observation:\n",
    "    def __init__(self):\n",
    "        self.step = 0\n",
    "        self.role = \"guesser\"\n",
    "        self.turnType = \"ask\"\n",
    "        self.keyword = \"Japan\"\n",
    "        self.category = \"country\"\n",
    "        self.questions = []\n",
    "        self.answers = []\n",
    "        self.guesses = []\n",
    "        \n",
    "def create_keyword_df(KEYWORDS_JSON):\n",
    "    json_data = json.loads(KEYWORDS_JSON)\n",
    "\n",
    "    keyword_list = []\n",
    "    category_list = []\n",
    "    alts_list = []\n",
    "\n",
    "    for i in range(len(json_data)):\n",
    "        for j in range(len(json_data[i]['words'])):\n",
    "            keyword = json_data[i]['words'][j]['keyword']\n",
    "            keyword_list.append(keyword)\n",
    "            category_list.append(json_data[i]['category'])\n",
    "            alts_list.append(json_data[i]['words'][j]['alts'])\n",
    "\n",
    "    data_pd = pd.DataFrame(columns=['keyword', 'category', 'alts'])\n",
    "    data_pd['keyword'] = keyword_list\n",
    "    data_pd['category'] = category_list\n",
    "    data_pd['alts'] = alts_list\n",
    "    \n",
    "    return data_pd\n",
    "    \n",
    "keywords_df = create_keyword_df(KEYWORDS_JSON)"
   ]
  },
  {
   "cell_type": "code",
   "execution_count": null,
   "metadata": {
    "execution": {
     "iopub.execute_input": "2024-07-10T15:42:07.627207Z",
     "iopub.status.busy": "2024-07-10T15:42:07.626631Z",
     "iopub.status.idle": "2024-07-10T15:46:53.496045Z",
     "shell.execute_reply": "2024-07-10T15:46:53.49507Z",
     "shell.execute_reply.started": "2024-07-10T15:42:07.627171Z"
    }
   },
   "outputs": [],
   "source": [
    "obs = Observation()\n",
    "cfg = \"_\"\n",
    "\n",
    "sample_df = keywords_df.sample()\n",
    "obs.keyword = sample_df[\"keyword\"].values[0]\n",
    "obs.category = sample_df[\"category\"].values[0]\n",
    "alts_list = sample_df[\"alts\"].values[0]\n",
    "alts_list.append(obs.keyword)\n",
    "\n",
    "print(f\"keyword:{obs.keyword}\")\n",
    "\n",
    "for round in range(20):\n",
    "    obs.step = round+1\n",
    "    \n",
    "    obs.role = \"guesser\"\n",
    "    obs.turnType = \"ask\"\n",
    "    question = agent(obs, cfg)\n",
    "    obs.questions.append(question)\n",
    "    \n",
    "    obs.role = \"answerer\"\n",
    "    obs.turnType = \"answer\"\n",
    "    answer = agent(obs, cfg)\n",
    "    obs.answers.append(answer)\n",
    "    \n",
    "    obs.role = \"guesser\"\n",
    "    obs.turnType = \"guess\"\n",
    "    guess = agent(obs, cfg)\n",
    "    obs.guesses.append(guess)\n",
    "    \n",
    "    print(f\"round: {round+1}\")\n",
    "    print(f\"question: {question}\")\n",
    "    print(f\"answer: {answer}\")\n",
    "    print(f\"guess: {guess}\")\n",
    "    \n",
    "    if guess in alts_list:\n",
    "        print(\"Win!!\")\n",
    "        break"
   ]
  },
  {
   "cell_type": "markdown",
   "id": "e6a2d31c",
   "metadata": {},
   "source": [
    "**I could not submit...** The tar file could not be created because the output directory exceeded its capacity."
   ]
  },
  {
   "cell_type": "code",
   "execution_count": null,
   "metadata": {
    "execution": {
     "iopub.execute_input": "2024-07-10T15:46:53.49879Z",
     "iopub.status.busy": "2024-07-10T15:46:53.497553Z",
     "iopub.status.idle": "2024-07-10T15:46:53.504268Z",
     "shell.execute_reply": "2024-07-10T15:46:53.503391Z",
     "shell.execute_reply.started": "2024-07-10T15:46:53.498731Z"
    }
   },
   "outputs": [],
   "source": [
    "# !apt install pigz pv > /dev/null"
   ]
  },
  {
   "cell_type": "code",
   "execution_count": null,
   "metadata": {
    "execution": {
     "iopub.execute_input": "2024-07-10T15:46:53.505787Z",
     "iopub.status.busy": "2024-07-10T15:46:53.505413Z",
     "iopub.status.idle": "2024-07-10T15:46:53.515746Z",
     "shell.execute_reply": "2024-07-10T15:46:53.515003Z",
     "shell.execute_reply.started": "2024-07-10T15:46:53.505737Z"
    }
   },
   "outputs": [],
   "source": [
    "# !tar --use-compress-program='pigz --fast --recursive | pv' -cf submission.tar.gz -C /kaggle/working/submission ."
   ]
  },
  {
   "cell_type": "code",
   "execution_count": null,
   "metadata": {
    "execution": {
     "iopub.execute_input": "2024-07-10T15:46:53.517652Z",
     "iopub.status.busy": "2024-07-10T15:46:53.516865Z",
     "iopub.status.idle": "2024-07-10T15:46:53.531178Z",
     "shell.execute_reply": "2024-07-10T15:46:53.530504Z",
     "shell.execute_reply.started": "2024-07-10T15:46:53.517622Z"
    }
   },
   "outputs": [],
   "source": [
    "# # to see what's inside tar.gz file\n",
    "\n",
    "# import tarfile\n",
    "# tar = tarfile.open(\"/kaggle/working/submission.tar.gz\")\n",
    "# for file in tar.getmembers():\n",
    "#     print(file.name)"
   ]
  }
 ],
 "metadata": {
  "kaggle": {
   "accelerator": "nvidiaTeslaT4",
   "dataSources": [
    {
     "databundleVersionId": 8550470,
     "sourceId": 61247,
     "sourceType": "competition"
    }
   ],
   "dockerImageVersionId": 30733,
   "isGpuEnabled": true,
   "isInternetEnabled": true,
   "language": "python",
   "sourceType": "notebook"
  },
  "kernelspec": {
   "display_name": "Python 3",
   "language": "python",
   "name": "python3"
  },
  "language_info": {
   "codemirror_mode": {
    "name": "ipython",
    "version": 3
   },
   "file_extension": ".py",
   "mimetype": "text/x-python",
   "name": "python",
   "nbconvert_exporter": "python",
   "pygments_lexer": "ipython3",
   "version": "3.10.13"
  }
 },
 "nbformat": 4,
 "nbformat_minor": 4
}
