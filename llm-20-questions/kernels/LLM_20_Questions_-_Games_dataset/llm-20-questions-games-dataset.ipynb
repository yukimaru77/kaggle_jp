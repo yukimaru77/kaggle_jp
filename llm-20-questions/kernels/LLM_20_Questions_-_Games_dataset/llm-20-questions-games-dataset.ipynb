{
 "cells": [
  {
   "cell_type": "code",
   "execution_count": null,
   "metadata": {
    "execution": {
     "iopub.execute_input": "2024-06-18T16:45:17.108327Z",
     "iopub.status.busy": "2024-06-18T16:45:17.107635Z",
     "iopub.status.idle": "2024-06-18T16:45:18.280376Z",
     "shell.execute_reply": "2024-06-18T16:45:18.279214Z",
     "shell.execute_reply.started": "2024-06-18T16:45:17.108283Z"
    }
   },
   "outputs": [],
   "source": [
    "import requests\n",
    "import json\n",
    "import pandas as pd\n",
    "from pathlib import Path"
   ]
  },
  {
   "cell_type": "markdown",
   "id": "816da97a",
   "metadata": {},
   "source": [
    "Use [Meta kaggle dataset](https://www.kaggle.com/datasets/kaggle/meta-kaggle) to get episodeId from the competition https://www.kaggle.com/competitions/llm-20-questions  \n",
    "(when meta-kaggle update sometime it will show `[Dataset no longer available]` in source but that still works)\n",
    "\n",
    "Update: Added submissionId from guesser and anserer  \n",
    "See next step: https://www.kaggle.com/code/waechter/llm-20-questions-leaderbord-analyze-best-agents\n",
    "\n",
    "⚠️ *Please do not fork and run from scratch because that's a lot of requests,  \n",
    "instead use the dataset or the notebook output* ⚠️\n",
    "\n",
    "# Load previous games"
   ]
  },
  {
   "cell_type": "code",
   "execution_count": null,
   "metadata": {
    "execution": {
     "iopub.execute_input": "2024-06-18T16:45:18.282632Z",
     "iopub.status.busy": "2024-06-18T16:45:18.282122Z",
     "iopub.status.idle": "2024-06-18T16:45:22.461811Z",
     "shell.execute_reply": "2024-06-18T16:45:22.460732Z",
     "shell.execute_reply.started": "2024-06-18T16:45:18.282599Z"
    }
   },
   "outputs": [],
   "source": [
    "df_games = pd.read_csv(\"/kaggle/input/llm-20-questions-games-dataset/LLM-20Questions-games.csv\", index_col='index')\n",
    "df_games"
   ]
  },
  {
   "cell_type": "code",
   "execution_count": null,
   "metadata": {
    "_cell_guid": "133eef0f-9aa7-4b07-b5af-7df770367166",
    "_uuid": "da2b05fe-4018-42d7-acde-25b330fe40ca",
    "collapsed": false,
    "execution": {
     "iopub.execute_input": "2024-06-18T16:45:22.464124Z",
     "iopub.status.busy": "2024-06-18T16:45:22.463531Z",
     "iopub.status.idle": "2024-06-18T16:45:22.476629Z",
     "shell.execute_reply": "2024-06-18T16:45:22.474916Z",
     "shell.execute_reply.started": "2024-06-18T16:45:22.464081Z"
    },
    "jupyter": {
     "outputs_hidden": false
    }
   },
   "outputs": [],
   "source": [
    "def download_game(num, CreateTime, do_print=False):\n",
    "    url_api = \"https://www.kaggleusercontent.com/episodes/{num_episode}.json\"\n",
    "    try:\n",
    "        r = requests.get(url_api.format(num_episode=num))\n",
    "        if r.status_code!=200:\n",
    "            print(f\"Error http {r.status_code=} {num=}\")\n",
    "            return {}\n",
    "        resp = r.json()\n",
    "        teams = resp[\"info\"][\"TeamNames\"][0:2], resp[\"info\"][\"TeamNames\"][2:] # <=> teams=(guesser_team1, answerer_team1), (guesser_team2, answerer_team2)\n",
    "        formated = {}\n",
    "        for (guesser,answerer), step in zip(teams, resp[\"steps\"][-1][1::2]): # Look only for the last step as guesser for each team since it contain all we need\n",
    "            keyword, category = step['observation']['keyword'], step['observation']['category']\n",
    "            if do_print:\n",
    "                print(f\"###\\n{guesser=} {answerer=} step {len(step['observation']['answers'])}\")\n",
    "                print(f\"{keyword=} {category=}\")\n",
    "                for answer, question, guess in zip(step['observation']['answers'], step['observation']['questions'], step['observation']['guesses']):\n",
    "                    print(f\"\\t{question=} {answer=} {guess=}\")\n",
    "            game_index = f\"{num}__{guesser}__{answerer}\"\n",
    "            formated[game_index] = {key : step['observation'][key] for key in ['answers', 'questions', 'guesses', 'keyword', 'category']}\n",
    "            formated[game_index][\"guesser\"]=guesser\n",
    "            formated[game_index][\"answerer\"]=answerer\n",
    "            formated[game_index][\"nb_round\"]=len(step['observation']['answers'])\n",
    "            formated[game_index][\"game_num\"]=num\n",
    "            formated[game_index][\"guessed\"]=keyword in step['observation']['guesses'] # not correct, see keyword_guessed https://www.kaggle.com/code/waechter/llm-20-questions-leaderbord-analyze-best-agents?scriptVersionId=181553251&cellId=4\n",
    "            formated[game_index][\"CreateTime\"]=CreateTime\n",
    "        return formated\n",
    "    except Exception as e:\n",
    "        print(\"Error parsing\", num)\n",
    "#         print(e)\n",
    "        return {}"
   ]
  },
  {
   "cell_type": "markdown",
   "id": "4f78ff89",
   "metadata": {},
   "source": [
    "# Get the new episodes from this competition from meta kaggle dataset"
   ]
  },
  {
   "cell_type": "code",
   "execution_count": null,
   "metadata": {
    "execution": {
     "iopub.execute_input": "2024-06-18T16:45:22.479794Z",
     "iopub.status.busy": "2024-06-18T16:45:22.479429Z",
     "iopub.status.idle": "2024-06-18T16:46:40.617501Z",
     "shell.execute_reply": "2024-06-18T16:46:40.616391Z",
     "shell.execute_reply.started": "2024-06-18T16:45:22.479766Z"
    }
   },
   "outputs": [],
   "source": [
    "%%time\n",
    "meta_path = Path(\"/kaggle/input/meta-kaggle\")\n",
    "episodes_df = pd.read_csv(meta_path/\"Episodes.csv\", index_col=\"Id\")"
   ]
  },
  {
   "cell_type": "code",
   "execution_count": null,
   "metadata": {
    "execution": {
     "iopub.execute_input": "2024-06-18T16:46:40.61928Z",
     "iopub.status.busy": "2024-06-18T16:46:40.618875Z",
     "iopub.status.idle": "2024-06-18T16:46:41.888702Z",
     "shell.execute_reply": "2024-06-18T16:46:41.887538Z",
     "shell.execute_reply.started": "2024-06-18T16:46:40.619244Z"
    }
   },
   "outputs": [],
   "source": [
    "episodes_df = episodes_df.loc[episodes_df.CompetitionId==61247]\n",
    "episodes_df"
   ]
  },
  {
   "cell_type": "markdown",
   "id": "83b92c00",
   "metadata": {},
   "source": [
    "* Type 4 are validation games (1 team, same agent both side)\n",
    "* Type 1 2teams, 4agents, we keep only thoses"
   ]
  },
  {
   "cell_type": "code",
   "execution_count": null,
   "metadata": {
    "execution": {
     "iopub.execute_input": "2024-06-18T16:46:41.890655Z",
     "iopub.status.busy": "2024-06-18T16:46:41.890236Z",
     "iopub.status.idle": "2024-06-18T16:46:41.899254Z",
     "shell.execute_reply": "2024-06-18T16:46:41.897952Z",
     "shell.execute_reply.started": "2024-06-18T16:46:41.890618Z"
    }
   },
   "outputs": [],
   "source": [
    "# keep only real games (filter out validation games)\n",
    "episodes_df = episodes_df.loc[episodes_df.Type==1,\"CreateTime\"]"
   ]
  },
  {
   "cell_type": "markdown",
   "id": "b4691ccd",
   "metadata": {},
   "source": [
    "## Use generator to read and filter a big file\n",
    "`EpisodeAgents.csv` is too big to be read at once"
   ]
  },
  {
   "cell_type": "code",
   "execution_count": null,
   "metadata": {
    "execution": {
     "iopub.execute_input": "2024-06-18T16:46:41.900855Z",
     "iopub.status.busy": "2024-06-18T16:46:41.900539Z",
     "iopub.status.idle": "2024-06-18T16:46:41.911006Z",
     "shell.execute_reply": "2024-06-18T16:46:41.909584Z",
     "shell.execute_reply.started": "2024-06-18T16:46:41.900829Z"
    }
   },
   "outputs": [],
   "source": [
    "def filter_gen(filepath=meta_path/\"EpisodeAgents.csv\", chunksize = 10 ** 6):\n",
    "    episodes_ids = episodes_df.index\n",
    "    with pd.read_csv(filepath, chunksize=chunksize, index_col=\"Id\") as reader:\n",
    "        for chunk in reader:\n",
    "            mask = chunk.EpisodeId.isin(episodes_ids)\n",
    "            if mask.any():\n",
    "                yield chunk.loc[mask]"
   ]
  },
  {
   "cell_type": "code",
   "execution_count": null,
   "metadata": {
    "execution": {
     "iopub.execute_input": "2024-06-18T16:46:41.912833Z",
     "iopub.status.busy": "2024-06-18T16:46:41.91219Z",
     "iopub.status.idle": "2024-06-18T16:50:44.125868Z",
     "shell.execute_reply": "2024-06-18T16:50:44.124293Z",
     "shell.execute_reply.started": "2024-06-18T16:46:41.912798Z"
    }
   },
   "outputs": [],
   "source": [
    "%%time\n",
    "agents_df = pd.concat(filter_gen())\n",
    "agents_df"
   ]
  },
  {
   "cell_type": "markdown",
   "id": "743d255c",
   "metadata": {},
   "source": [
    "# Adding new games"
   ]
  },
  {
   "cell_type": "code",
   "execution_count": null,
   "metadata": {
    "execution": {
     "iopub.execute_input": "2024-06-18T16:50:44.128182Z",
     "iopub.status.busy": "2024-06-18T16:50:44.12779Z",
     "iopub.status.idle": "2024-06-18T17:13:35.153991Z",
     "shell.execute_reply": "2024-06-18T17:13:35.152932Z",
     "shell.execute_reply.started": "2024-06-18T16:50:44.128136Z"
    }
   },
   "outputs": [],
   "source": [
    "%%time\n",
    "print(f\"previous {len(df_games)=}\")\n",
    "df_games = pd.concat([df_games]+[pd.DataFrame(download_game(episode_id, date)).T for episode_id, date in episodes_df.items() if episode_id not in df_games.game_num.values])\n",
    "print(f\"after update {len(df_games)=}\")\n",
    "df_games"
   ]
  },
  {
   "cell_type": "code",
   "execution_count": null,
   "metadata": {
    "execution": {
     "iopub.execute_input": "2024-06-18T17:30:22.642268Z",
     "iopub.status.busy": "2024-06-18T17:30:22.641845Z",
     "iopub.status.idle": "2024-06-18T17:30:22.697985Z",
     "shell.execute_reply": "2024-06-18T17:30:22.696244Z",
     "shell.execute_reply.started": "2024-06-18T17:30:22.642235Z"
    }
   },
   "outputs": [],
   "source": [
    "new_category_games = df_games.loc[(df_games.category =='place') | (df_games.category =='things')]\n",
    "new_category_games"
   ]
  },
  {
   "cell_type": "code",
   "execution_count": null,
   "metadata": {
    "execution": {
     "iopub.execute_input": "2024-06-18T17:50:32.368127Z",
     "iopub.status.busy": "2024-06-18T17:50:32.367733Z",
     "iopub.status.idle": "2024-06-18T17:50:32.406191Z",
     "shell.execute_reply": "2024-06-18T17:50:32.405022Z",
     "shell.execute_reply.started": "2024-06-18T17:50:32.368098Z"
    }
   },
   "outputs": [],
   "source": [
    "keywords_category = pd.DataFrame({keyword.lower():{\"keyword\":keyword,\"category\":category} for keyword,category in new_category_games[[\"keyword\",\"category\"]].value_counts().index}).T\n",
    "keywords_category = keywords_category.sort_index()\n",
    "keywords_category.to_csv(\"keywords.csv\")"
   ]
  },
  {
   "cell_type": "markdown",
   "id": "8a3cb723",
   "metadata": {},
   "source": [
    "## Add SubmissionId"
   ]
  },
  {
   "cell_type": "code",
   "execution_count": null,
   "metadata": {
    "_kg_hide-output": true,
    "execution": {
     "iopub.execute_input": "2024-06-18T17:13:35.157549Z",
     "iopub.status.busy": "2024-06-18T17:13:35.157178Z",
     "iopub.status.idle": "2024-06-18T17:14:02.503675Z",
     "shell.execute_reply": "2024-06-18T17:14:02.502465Z",
     "shell.execute_reply.started": "2024-06-18T17:13:35.157517Z"
    }
   },
   "outputs": [],
   "source": [
    "%%time\n",
    "for name, group in df_games.groupby(by=\"game_num\"):\n",
    "    if \"guesser_SubmissionId\" and \"answerer_SubmissionId\" in group.columns and (group.guesser_SubmissionId>0).all() and (group.answerer_SubmissionId>0).all():\n",
    "        continue # already done\n",
    "    \n",
    "    agents_sub=agents_df[agents_df.EpisodeId==name].sort_values(\"Index\")\n",
    "    \n",
    "    if len(agents_sub)!=4:\n",
    "        print(f\"{name=} Not all submissions are available. skip\")\n",
    "        continue\n",
    "        \n",
    "    # EpisodeAgents have 4rows by EpisodeId, indexed 0-4. Same order as is in the output log json [guesser_team1,answerer_team1,guesser_team2,answerer_team2]\n",
    "    for i, (index, row) in enumerate(group.iterrows()):\n",
    "        # 2rows (one for each team)\n",
    "        df_games.loc[index, [\"guesser_SubmissionId\",\"answerer_SubmissionId\"]] = [agents_sub.loc[agents_sub.Index==i*2,\"SubmissionId\"].iloc[0], agents_sub.loc[agents_sub.Index==1+i*2,\"SubmissionId\"].iloc[0]]\n",
    "\n",
    "df_games[[\"guesser_SubmissionId\",\"answerer_SubmissionId\"]] = df_games[[\"guesser_SubmissionId\",\"answerer_SubmissionId\"]].fillna(0).astype(\"int\")\n",
    "df_games"
   ]
  },
  {
   "cell_type": "markdown",
   "id": "c0466d1b",
   "metadata": {},
   "source": [
    "### test if merged correctly"
   ]
  },
  {
   "cell_type": "code",
   "execution_count": null,
   "metadata": {
    "execution": {
     "iopub.execute_input": "2024-06-18T17:14:02.505467Z",
     "iopub.status.busy": "2024-06-18T17:14:02.505041Z",
     "iopub.status.idle": "2024-06-18T17:14:02.647408Z",
     "shell.execute_reply": "2024-06-18T17:14:02.646223Z",
     "shell.execute_reply.started": "2024-06-18T17:14:02.505429Z"
    }
   },
   "outputs": [],
   "source": [
    "if set(df_games.answerer_SubmissionId) != set(df_games.guesser_SubmissionId):\n",
    "    print(\"sub only in guesser\",set(df_games.guesser_SubmissionId) - set(df_games.answerer_SubmissionId))\n",
    "    print(\"sub only answerer\",set(df_games.answerer_SubmissionId) - set(df_games.guesser_SubmissionId))\n",
    "if set(df_games.answerer) != set(df_games.guesser):\n",
    "    print(\"team only in guesser\",set(df_games.guesser) - set(df_games.answerer))\n",
    "    print(\"team only in answerer\",set(df_games.answerer) - set(df_games.guesser))"
   ]
  },
  {
   "cell_type": "code",
   "execution_count": null,
   "metadata": {
    "execution": {
     "iopub.execute_input": "2024-06-18T17:14:02.649207Z",
     "iopub.status.busy": "2024-06-18T17:14:02.648835Z",
     "iopub.status.idle": "2024-06-18T17:14:02.670803Z",
     "shell.execute_reply": "2024-06-18T17:14:02.669573Z",
     "shell.execute_reply.started": "2024-06-18T17:14:02.649169Z"
    }
   },
   "outputs": [],
   "source": [
    "f\"Nb unique team: {len(df_games.answerer.unique())} submissions:{len(df_games.answerer_SubmissionId.unique())}\""
   ]
  },
  {
   "cell_type": "code",
   "execution_count": null,
   "metadata": {
    "_kg_hide-output": true,
    "execution": {
     "iopub.execute_input": "2024-06-18T17:14:02.672662Z",
     "iopub.status.busy": "2024-06-18T17:14:02.672316Z",
     "iopub.status.idle": "2024-06-18T17:14:02.677655Z",
     "shell.execute_reply": "2024-06-18T17:14:02.676551Z",
     "shell.execute_reply.started": "2024-06-18T17:14:02.672632Z"
    }
   },
   "outputs": [],
   "source": [
    "# for submissionId in df_games.answerer_SubmissionId.unique():\n",
    "#     guesser = df_games.loc[df_games.guesser_SubmissionId==submissionId,\"guesser\"].unique()\n",
    "#     answerer = df_games.loc[df_games.answerer_SubmissionId==submissionId,\"answerer\"].unique()\n",
    "#     if len(answerer)>1  or len(guesser)>1:\n",
    "#         print(f\"{submissionId=} found multiple team name {guesser=}, {answerer=}\")"
   ]
  },
  {
   "cell_type": "markdown",
   "id": "bbf46d86",
   "metadata": {},
   "source": [
    "submissionId=0 are the one not found, will try to fill them again at the next data update  \n",
    "The rest is teams that update their name i think"
   ]
  },
  {
   "cell_type": "code",
   "execution_count": null,
   "metadata": {
    "execution": {
     "iopub.execute_input": "2024-06-18T17:14:02.679522Z",
     "iopub.status.busy": "2024-06-18T17:14:02.679141Z",
     "iopub.status.idle": "2024-06-18T17:14:02.721595Z",
     "shell.execute_reply": "2024-06-18T17:14:02.720332Z",
     "shell.execute_reply.started": "2024-06-18T17:14:02.679486Z"
    }
   },
   "outputs": [],
   "source": [
    "df_games[[\"guesser_SubmissionId\",\"guesser\"]].value_counts()"
   ]
  },
  {
   "cell_type": "code",
   "execution_count": null,
   "metadata": {
    "_kg_hide-output": true,
    "execution": {
     "iopub.execute_input": "2024-06-18T17:14:02.723264Z",
     "iopub.status.busy": "2024-06-18T17:14:02.722901Z",
     "iopub.status.idle": "2024-06-18T17:14:08.303206Z",
     "shell.execute_reply": "2024-06-18T17:14:08.301942Z",
     "shell.execute_reply.started": "2024-06-18T17:14:02.723232Z"
    }
   },
   "outputs": [],
   "source": [
    "for team in df_games.answerer.unique():\n",
    "    submissions_set = set(df_games.loc[df_games.guesser==team, \"guesser_SubmissionId\"]) & set(df_games.loc[df_games.answerer==team, \"answerer_SubmissionId\"])\n",
    "    print(f\"{team=}, {len(submissions_set)} submissions\")"
   ]
  },
  {
   "cell_type": "markdown",
   "id": "756146ef",
   "metadata": {},
   "source": [
    "# Save"
   ]
  },
  {
   "cell_type": "code",
   "execution_count": null,
   "metadata": {
    "execution": {
     "iopub.execute_input": "2024-06-18T17:14:08.304849Z",
     "iopub.status.busy": "2024-06-18T17:14:08.30451Z",
     "iopub.status.idle": "2024-06-18T17:14:15.045644Z",
     "shell.execute_reply": "2024-06-18T17:14:15.044281Z",
     "shell.execute_reply.started": "2024-06-18T17:14:08.304814Z"
    }
   },
   "outputs": [],
   "source": [
    "df_games.to_csv(\"LLM-20Questions-games.csv\", index_label=\"index\")\n",
    "agents_df.to_csv(\"EpisodeAgents.csv\", index_label=\"Id\")"
   ]
  },
  {
   "cell_type": "markdown",
   "id": "64d0055c",
   "metadata": {},
   "source": [
    "Use in https://www.kaggle.com/code/waechter/llm-20-questions-leaderbord-analyze-best-agents"
   ]
  }
 ],
 "metadata": {
  "kaggle": {
   "accelerator": "none",
   "dataSources": [
    {
     "databundleVersionId": 8550470,
     "sourceId": 61247,
     "sourceType": "competition"
    },
    {
     "datasetId": 5068883,
     "sourceId": 8626439,
     "sourceType": "datasetVersion"
    },
    {
     "datasetId": 9,
     "sourceId": 8720289,
     "sourceType": "datasetVersion"
    },
    {
     "sourceId": 184069237,
     "sourceType": "kernelVersion"
    }
   ],
   "dockerImageVersionId": 30698,
   "isGpuEnabled": false,
   "isInternetEnabled": true,
   "language": "python",
   "sourceType": "notebook"
  },
  "kernelspec": {
   "display_name": "Python 3",
   "language": "python",
   "name": "python3"
  },
  "language_info": {
   "codemirror_mode": {
    "name": "ipython",
    "version": 3
   },
   "file_extension": ".py",
   "mimetype": "text/x-python",
   "name": "python",
   "nbconvert_exporter": "python",
   "pygments_lexer": "ipython3",
   "version": "3.10.13"
  }
 },
 "nbformat": 4,
 "nbformat_minor": 4
}
