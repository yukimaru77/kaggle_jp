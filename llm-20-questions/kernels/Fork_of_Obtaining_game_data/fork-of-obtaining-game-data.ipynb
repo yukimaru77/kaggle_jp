{
 "cells": [
  {
   "cell_type": "code",
   "execution_count": null,
   "metadata": {
    "execution": {
     "iopub.execute_input": "2024-07-04T19:23:31.0128Z",
     "iopub.status.busy": "2024-07-04T19:23:31.012282Z",
     "iopub.status.idle": "2024-07-04T19:23:46.624809Z",
     "shell.execute_reply": "2024-07-04T19:23:46.623092Z",
     "shell.execute_reply.started": "2024-07-04T19:23:31.012755Z"
    }
   },
   "outputs": [],
   "source": [
    "pip install requests pandas"
   ]
  },
  {
   "cell_type": "code",
   "execution_count": null,
   "metadata": {
    "execution": {
     "iopub.execute_input": "2024-07-04T19:51:52.094949Z",
     "iopub.status.busy": "2024-07-04T19:51:52.09383Z",
     "iopub.status.idle": "2024-07-04T19:52:32.823467Z",
     "shell.execute_reply": "2024-07-04T19:52:32.822183Z",
     "shell.execute_reply.started": "2024-07-04T19:51:52.094899Z"
    }
   },
   "outputs": [],
   "source": [
    "import requests\n",
    "import pandas as pd\n",
    "# Function to read JSON data from URL\n",
    "def read_json_from_url(url):\n",
    "    response = requests.get(url)\n",
    "    response.raise_for_status()  # Ensure we notice bad responses\n",
    "    return response.json()\n",
    "# List to store data\n",
    "data = []\n",
    "# Base URL\n",
    "base_url = \"https://www.kaggleusercontent.com/episodes/\"\n",
    "for i in [55235305, 55177813, 55181874, 55054770]:\n",
    "    url = f\"{base_url}{i}.json\"\n",
    "    json_data = read_json_from_url(url)\n",
    "    # Iterating over key-value pairs\n",
    "    auxVar1 = json_data['steps'][len(json_data['steps'])-1]\n",
    "    for i in range(len(auxVar1)):\n",
    "        obs = dict(auxVar1[i])['observation']\n",
    "        if 'questions' in obs:\n",
    "            for j in range(min(len(obs['questions']),len(obs['guesses']))):\n",
    "                data.append({\n",
    "                    'iteration' : i+1,\n",
    "                    'episode_id': json_data['info']['EpisodeId'],\n",
    "                    'questions' : obs['questions'][j],\n",
    "                    'answers'   : obs['answers'][j],\n",
    "                    'guesses'   : obs['guesses'][j],\n",
    "                    'keyword'   : obs['keyword']}\n",
    "                )\n",
    "# Create DataFrame\n",
    "df = pd.DataFrame(data)\n",
    "df.to_csv('20_questions_data.csv', index=False)\n",
    "\n",
    "print(\"Data successfully extracted and saved to '20_questions_data.csv'.\")"
   ]
  },
  {
   "cell_type": "code",
   "execution_count": null,
   "metadata": {
    "execution": {
     "iopub.execute_input": "2024-07-04T19:52:32.82573Z",
     "iopub.status.busy": "2024-07-04T19:52:32.825337Z",
     "iopub.status.idle": "2024-07-04T19:52:32.84672Z",
     "shell.execute_reply": "2024-07-04T19:52:32.845427Z",
     "shell.execute_reply.started": "2024-07-04T19:52:32.825697Z"
    }
   },
   "outputs": [],
   "source": [
    "# Display the first few rows of the DataFrame\n",
    "print(df.head())\n",
    "\n",
    "# Count the frequency of each question\n",
    "question_counts = df['questions'].value_counts()\n",
    "\n",
    "# Display the most frequently asked questions\n",
    "print(\"Most Frequently Asked Questions:\")\n",
    "print(question_counts.head(10))\n",
    "\n",
    "# Filter rows where the guess is equal to the keyword\n",
    "keyword_discovered = df[df['guesses'] == df['keyword']]\n",
    "\n",
    "# Count the frequency of questions that led to discovering the keyword\n",
    "discovery_question_counts = keyword_discovered['questions'].value_counts()\n",
    "\n",
    "# Display the most effective questions for discovering the keyword\n",
    "print(\"Questions Leading to Discovering the Keyword:\")\n",
    "print(discovery_question_counts.head(10))\n"
   ]
  }
 ],
 "metadata": {
  "kaggle": {
   "accelerator": "none",
   "dataSources": [
    {
     "databundleVersionId": 8550470,
     "sourceId": 61247,
     "sourceType": "competition"
    }
   ],
   "dockerImageVersionId": 30732,
   "isGpuEnabled": false,
   "isInternetEnabled": true,
   "language": "python",
   "sourceType": "notebook"
  },
  "kernelspec": {
   "display_name": "Python 3",
   "language": "python",
   "name": "python3"
  },
  "language_info": {
   "codemirror_mode": {
    "name": "ipython",
    "version": 3
   },
   "file_extension": ".py",
   "mimetype": "text/x-python",
   "name": "python",
   "nbconvert_exporter": "python",
   "pygments_lexer": "ipython3",
   "version": "3.10.13"
  }
 },
 "nbformat": 4,
 "nbformat_minor": 4
}
