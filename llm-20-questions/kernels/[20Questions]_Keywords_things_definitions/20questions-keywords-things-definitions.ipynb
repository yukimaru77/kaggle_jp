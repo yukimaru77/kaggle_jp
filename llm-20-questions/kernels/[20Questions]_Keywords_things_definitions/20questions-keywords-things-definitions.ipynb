{
 "cells": [
  {
   "cell_type": "markdown",
   "id": "20be5299",
   "metadata": {},
   "source": [
    "In this notebook we use `dictionaryapi` to find definitions for the newly added keywords in the [competition](https://www.kaggle.com/competitions/llm-20-questions)  \n",
    "The goal is to use these definitions to:\n",
    "1. Generate (good) questions with known answers for training purpuse\n",
    "1. Understand better what can be keyword `things`, so we can generate more\n",
    "1. Give more information to the agent with role `answerer` so it can respond more accurately (RAG ?)\n",
    "\n",
    "results are store in `things_definitions.json`  \n",
    "Note: \n",
    "- Some word have multiple definitions (Ex:`Plate` has many)\n",
    "- For most of two or more parts words (Ex:`Air compressor`) dictionaryapi has no definition. Some two parts keyword have definitions (Ex:`Contact lenses`)\n",
    "- Almost all one-word keywords have atleast one definition (exceptions: RV, IV,...)\n"
   ]
  },
  {
   "cell_type": "code",
   "execution_count": null,
   "metadata": {
    "execution": {
     "iopub.execute_input": "2024-07-01T22:20:13.490717Z",
     "iopub.status.busy": "2024-07-01T22:20:13.490299Z",
     "iopub.status.idle": "2024-07-01T22:20:30.450772Z",
     "shell.execute_reply": "2024-07-01T22:20:30.449433Z",
     "shell.execute_reply.started": "2024-07-01T22:20:13.490682Z"
    }
   },
   "outputs": [],
   "source": [
    "%%capture\n",
    "!pip install jq"
   ]
  },
  {
   "cell_type": "code",
   "execution_count": null,
   "metadata": {
    "_cell_guid": "b1076dfc-b9ad-4769-8c92-a6c4dae69d19",
    "_uuid": "8f2839f25d086af736a60e9eeb907d3b93b6e0e5",
    "execution": {
     "iopub.execute_input": "2024-07-01T22:20:30.453486Z",
     "iopub.status.busy": "2024-07-01T22:20:30.453106Z",
     "iopub.status.idle": "2024-07-01T22:20:30.466254Z",
     "shell.execute_reply": "2024-07-01T22:20:30.465105Z",
     "shell.execute_reply.started": "2024-07-01T22:20:30.453451Z"
    }
   },
   "outputs": [],
   "source": [
    "import pandas as pd\n",
    "import requests\n",
    "import json\n",
    "import time\n",
    "import jq\n",
    "import random"
   ]
  },
  {
   "cell_type": "code",
   "execution_count": null,
   "metadata": {
    "execution": {
     "iopub.execute_input": "2024-07-01T22:20:30.468187Z",
     "iopub.status.busy": "2024-07-01T22:20:30.467745Z",
     "iopub.status.idle": "2024-07-01T22:20:30.517147Z",
     "shell.execute_reply": "2024-07-01T22:20:30.51598Z",
     "shell.execute_reply.started": "2024-07-01T22:20:30.468149Z"
    }
   },
   "outputs": [],
   "source": [
    "keywords = pd.read_csv(\"/kaggle/input/llm-20-questions-games-dataset/keywords.csv\", index_col=0)\n",
    "keywords"
   ]
  },
  {
   "cell_type": "code",
   "execution_count": null,
   "metadata": {
    "execution": {
     "iopub.execute_input": "2024-07-01T22:14:01.45234Z",
     "iopub.status.busy": "2024-07-01T22:14:01.45188Z",
     "iopub.status.idle": "2024-07-01T22:14:01.476063Z",
     "shell.execute_reply": "2024-07-01T22:14:01.474836Z",
     "shell.execute_reply.started": "2024-07-01T22:14:01.452295Z"
    }
   },
   "outputs": [],
   "source": [
    "%run /kaggle/input/llm-20-questions/llm_20_questions/keywords.py\n",
    "keywords_old:set[str] = {details[\"keyword\"] for category in json.loads(KEYWORDS_JSON) for details in category[\"words\"]}\n",
    "# [w for w in keywords.loc[keywords.category==\"place\",\"keyword\"] if w not in keywords_old]\n",
    "keywords_place = set(keywords.loc[keywords.category==\"place\",\"keyword\"])\n",
    "print(f\"Current place keyword not in the previous json: {keywords_place-keywords_old}\")\n",
    "print(f\"Old place keyword not in current: {keywords_old-keywords_place}\")\n",
    "del keywords_place, keywords_old"
   ]
  },
  {
   "cell_type": "markdown",
   "id": "1281e7a6",
   "metadata": {},
   "source": [
    "# Things"
   ]
  },
  {
   "cell_type": "code",
   "execution_count": null,
   "metadata": {
    "execution": {
     "iopub.execute_input": "2024-07-01T22:14:01.477844Z",
     "iopub.status.busy": "2024-07-01T22:14:01.477453Z",
     "iopub.status.idle": "2024-07-01T22:14:01.493834Z",
     "shell.execute_reply": "2024-07-01T22:14:01.492718Z",
     "shell.execute_reply.started": "2024-07-01T22:14:01.477814Z"
    }
   },
   "outputs": [],
   "source": [
    "keywords[keywords.category==\"things\"]"
   ]
  },
  {
   "cell_type": "code",
   "execution_count": null,
   "metadata": {
    "execution": {
     "iopub.execute_input": "2024-07-01T22:14:01.496124Z",
     "iopub.status.busy": "2024-07-01T22:14:01.495746Z",
     "iopub.status.idle": "2024-07-01T22:14:02.31608Z",
     "shell.execute_reply": "2024-07-01T22:14:02.314976Z",
     "shell.execute_reply.started": "2024-07-01T22:14:01.496093Z"
    }
   },
   "outputs": [],
   "source": [
    "url_api = \"https://api.dictionaryapi.dev/api/v2/entries/en/{word}\"\n",
    "# test api\n",
    "r = requests.get(url_api.format(word=\"Zinc\"))\n",
    "r.status_code"
   ]
  },
  {
   "cell_type": "code",
   "execution_count": null,
   "metadata": {
    "execution": {
     "iopub.execute_input": "2024-07-01T22:14:02.317672Z",
     "iopub.status.busy": "2024-07-01T22:14:02.317298Z",
     "iopub.status.idle": "2024-07-01T22:14:02.327065Z",
     "shell.execute_reply": "2024-07-01T22:14:02.325824Z",
     "shell.execute_reply.started": "2024-07-01T22:14:02.317641Z"
    }
   },
   "outputs": [],
   "source": [
    "r.json()"
   ]
  },
  {
   "cell_type": "code",
   "execution_count": null,
   "metadata": {
    "execution": {
     "iopub.execute_input": "2024-07-01T22:14:02.329063Z",
     "iopub.status.busy": "2024-07-01T22:14:02.328648Z",
     "iopub.status.idle": "2024-07-01T22:14:02.344954Z",
     "shell.execute_reply": "2024-07-01T22:14:02.34377Z",
     "shell.execute_reply.started": "2024-07-01T22:14:02.329001Z"
    }
   },
   "outputs": [],
   "source": [
    "# Example jq to filter json\n",
    "jq.compile('select(length > 0) [][\"meanings\"]').input_value(r.json()).first()"
   ]
  },
  {
   "cell_type": "markdown",
   "id": "7f1e7ae8",
   "metadata": {},
   "source": [
    "## Alternative in bash\n",
    "jq is command-line JSON processor"
   ]
  },
  {
   "cell_type": "code",
   "execution_count": null,
   "metadata": {
    "execution": {
     "iopub.execute_input": "2024-07-01T22:14:02.349644Z",
     "iopub.status.busy": "2024-07-01T22:14:02.349099Z",
     "iopub.status.idle": "2024-07-01T22:14:04.264836Z",
     "shell.execute_reply": "2024-07-01T22:14:04.263389Z",
     "shell.execute_reply.started": "2024-07-01T22:14:02.349598Z"
    }
   },
   "outputs": [],
   "source": [
    "!curl \"https://api.dictionaryapi.dev/api/v2/entries/en/{Wristband}\" | jq '.[][\"meanings\"]'"
   ]
  },
  {
   "cell_type": "code",
   "execution_count": null,
   "metadata": {
    "_kg_hide-output": true,
    "execution": {
     "iopub.execute_input": "2024-07-01T22:14:04.26712Z",
     "iopub.status.busy": "2024-07-01T22:14:04.266698Z",
     "iopub.status.idle": "2024-07-01T22:14:06.266644Z",
     "shell.execute_reply": "2024-07-01T22:14:06.265049Z",
     "shell.execute_reply.started": "2024-07-01T22:14:04.267083Z"
    }
   },
   "outputs": [],
   "source": [
    "!curl \"https://api.dictionaryapi.dev/api/v2/entries/en/{Plate}\" | jq '.[]'"
   ]
  },
  {
   "cell_type": "code",
   "execution_count": null,
   "metadata": {
    "execution": {
     "iopub.execute_input": "2024-07-01T22:14:06.268974Z",
     "iopub.status.busy": "2024-07-01T22:14:06.268523Z",
     "iopub.status.idle": "2024-07-01T22:14:06.28599Z",
     "shell.execute_reply": "2024-07-01T22:14:06.284631Z",
     "shell.execute_reply.started": "2024-07-01T22:14:06.268936Z"
    }
   },
   "outputs": [],
   "source": [
    "keywords.loc[keywords.category==\"things\",\"keyword\"].str.len().max()"
   ]
  },
  {
   "cell_type": "code",
   "execution_count": null,
   "metadata": {
    "execution": {
     "iopub.execute_input": "2024-07-01T22:14:06.287911Z",
     "iopub.status.busy": "2024-07-01T22:14:06.287496Z",
     "iopub.status.idle": "2024-07-01T22:14:06.320227Z",
     "shell.execute_reply": "2024-07-01T22:14:06.319079Z",
     "shell.execute_reply.started": "2024-07-01T22:14:06.28788Z"
    }
   },
   "outputs": [],
   "source": [
    "# Definitions from previous version\n",
    "with open(\"/kaggle/input/20questions-keywords-things-definitions/things_definitions.json\",\"r\") as f:\n",
    "    keywords_definitions = json.load(f)\n",
    "\n",
    "print(len(keywords_definitions), \"things keywords total\")\n",
    "keywords_definitions = {k:v for k,v in keywords_definitions.items() if len(v)>0}\n",
    "print(len(keywords_definitions) , \"with found definitions\")\n",
    "next(iter(keywords_definitions.items()))"
   ]
  },
  {
   "cell_type": "code",
   "execution_count": null,
   "metadata": {
    "_kg_hide-output": true,
    "execution": {
     "iopub.execute_input": "2024-07-01T22:14:06.322289Z",
     "iopub.status.busy": "2024-07-01T22:14:06.321857Z",
     "iopub.status.idle": "2024-07-01T22:18:44.798162Z",
     "shell.execute_reply": "2024-07-01T22:18:44.797026Z",
     "shell.execute_reply.started": "2024-07-01T22:14:06.32225Z"
    },
    "scrolled": true
   },
   "outputs": [],
   "source": [
    "%%time\n",
    "def definition_generator():\n",
    "    fail=0\n",
    "    for num, keyword in enumerate(keywords.loc[keywords.category==\"things\",\"keyword\"]):\n",
    "        r = requests.get(url_api.format(word=keyword))\n",
    "        if keyword in keywords_definitions:\n",
    "            yield keyword, keywords_definitions[keyword]\n",
    "            continue\n",
    "        if r.status_code != 200:\n",
    "            print(f\"Error {r.status_code=} {keyword = :30} failrate:{fail/num:.2%}\")\n",
    "            yield keyword, []\n",
    "            fail+=1\n",
    "            continue\n",
    "        try:\n",
    "            yield keyword, jq.compile('select(length > 0) [][\"meanings\"]').input_value(r.json()).first()\n",
    "        except (ValueError, JSONDecodeError) as e:\n",
    "            print(f\"{type(e).__name__} {e} parsing response {keyword = } failrate:{fail/num:.2%})\")\n",
    "            print(e)\n",
    "            fail+=1\n",
    "            yield keyword, []\n",
    "        time.sleep(1+random.random()/2) #slow request to not be timeout \n",
    "    print(f\"{fail=} ({fail/num:.2%})\")\n",
    "\n",
    "things_definitions={keyword: definitions for keyword, definitions in definition_generator()}\n",
    "len(things_definitions)"
   ]
  },
  {
   "cell_type": "markdown",
   "id": "15608f41",
   "metadata": {},
   "source": [
    "# Result\n",
    "& Store"
   ]
  },
  {
   "cell_type": "code",
   "execution_count": null,
   "metadata": {
    "_kg_hide-output": true,
    "execution": {
     "iopub.execute_input": "2024-07-01T22:18:44.800278Z",
     "iopub.status.busy": "2024-07-01T22:18:44.79985Z",
     "iopub.status.idle": "2024-07-01T22:18:45.02794Z",
     "shell.execute_reply": "2024-07-01T22:18:45.026185Z",
     "shell.execute_reply.started": "2024-07-01T22:18:44.800239Z"
    }
   },
   "outputs": [],
   "source": [
    "with open(\"things_definitions.json\",\"w\") as f:\n",
    "    json.dump(things_definitions,f)\n",
    "things_definitions"
   ]
  }
 ],
 "metadata": {
  "kaggle": {
   "accelerator": "none",
   "dataSources": [
    {
     "databundleVersionId": 8550470,
     "sourceId": 61247,
     "sourceType": "competition"
    },
    {
     "sourceId": 184625227,
     "sourceType": "kernelVersion"
    },
    {
     "sourceId": 184628678,
     "sourceType": "kernelVersion"
    }
   ],
   "dockerImageVersionId": 30732,
   "isGpuEnabled": false,
   "isInternetEnabled": true,
   "language": "python",
   "sourceType": "notebook"
  },
  "kernelspec": {
   "display_name": "Python 3",
   "language": "python",
   "name": "python3"
  },
  "language_info": {
   "codemirror_mode": {
    "name": "ipython",
    "version": 3
   },
   "file_extension": ".py",
   "mimetype": "text/x-python",
   "name": "python",
   "nbconvert_exporter": "python",
   "pygments_lexer": "ipython3",
   "version": "3.10.13"
  }
 },
 "nbformat": 4,
 "nbformat_minor": 4
}
