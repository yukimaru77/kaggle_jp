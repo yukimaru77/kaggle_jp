{
 "cells": [
  {
   "cell_type": "markdown",
   "id": "2e5a31df",
   "metadata": {},
   "source": [
    "## LLM 20 Questions\n",
    "\n",
    "# Description\n",
    "\n",
    "Is it a person, place or thing? Is it smaller than a bread box? Is it smaller than a 70B parameter model?\n",
    "\n",
    "20 Questions is an age-old deduction game where you try to guess a secret word in twenty questions or fewer, using only yes-or-no questions. Players try to deduce the word by narrowing their questions from general to specific, in hopes of guessing the word in the fewest number of questions.\n",
    "\n",
    "Each team will consist of one guesser LLM, responsible for asking questions and making guesses, and one answerer LLM, responsible for responding with \"yes\" or \"no\" answers. Through strategic questioning and answering, the goal is for the guesser to correctly identify the secret word in as few rounds as possible.\n",
    "\n",
    "This competition will evaluate LLMs on key skills like deductive reasoning, efficient information gathering through targeted questioning, and collaboration between paired agents. It also presents a constrained setting requiring creativity and strategy with a limited number of guesses.Success will demonstrate LLMs' capacity for not just answering questions, but also asking insightful questions, performing logical inference, and quickly narrowing down possibilities."
   ]
  },
  {
   "cell_type": "code",
   "execution_count": null,
   "metadata": {
    "execution": {
     "iopub.execute_input": "2024-05-29T14:05:08.613418Z",
     "iopub.status.busy": "2024-05-29T14:05:08.612529Z",
     "iopub.status.idle": "2024-05-29T14:05:20.214755Z",
     "shell.execute_reply": "2024-05-29T14:05:20.213962Z",
     "shell.execute_reply.started": "2024-05-29T14:05:08.613387Z"
    }
   },
   "outputs": [],
   "source": [
    "import pandas as pd\n",
    "import numpy as np\n",
    "from llm_20_questions.keywords import KEYWORDS_JSON\n",
    "import keras\n",
    "import keras_nlp"
   ]
  },
  {
   "cell_type": "code",
   "execution_count": null,
   "metadata": {
    "execution": {
     "iopub.execute_input": "2024-05-29T14:05:20.21719Z",
     "iopub.status.busy": "2024-05-29T14:05:20.216554Z",
     "iopub.status.idle": "2024-05-29T14:05:20.229709Z",
     "shell.execute_reply": "2024-05-29T14:05:20.228876Z",
     "shell.execute_reply.started": "2024-05-29T14:05:20.217158Z"
    }
   },
   "outputs": [],
   "source": [
    "keywords = eval(KEYWORDS_JSON)"
   ]
  },
  {
   "cell_type": "code",
   "execution_count": null,
   "metadata": {
    "execution": {
     "iopub.execute_input": "2024-05-29T14:05:20.231042Z",
     "iopub.status.busy": "2024-05-29T14:05:20.230786Z",
     "iopub.status.idle": "2024-05-29T14:05:20.237859Z",
     "shell.execute_reply": "2024-05-29T14:05:20.237107Z",
     "shell.execute_reply.started": "2024-05-29T14:05:20.231021Z"
    }
   },
   "outputs": [],
   "source": [
    "import os\n",
    "\n",
    "os.environ[\"KERAS_BACKEND\"] = \"tensorflow\""
   ]
  },
  {
   "cell_type": "code",
   "execution_count": null,
   "metadata": {
    "execution": {
     "iopub.execute_input": "2024-05-29T14:05:20.240535Z",
     "iopub.status.busy": "2024-05-29T14:05:20.239718Z",
     "iopub.status.idle": "2024-05-29T14:06:24.770656Z",
     "shell.execute_reply": "2024-05-29T14:06:24.769845Z",
     "shell.execute_reply.started": "2024-05-29T14:05:20.24051Z"
    }
   },
   "outputs": [],
   "source": [
    "gemma_lm = keras_nlp.models.GemmaCausalLM.from_preset(\"gemma_2b_en\")"
   ]
  },
  {
   "cell_type": "code",
   "execution_count": null,
   "metadata": {
    "execution": {
     "iopub.execute_input": "2024-05-29T13:36:04.272755Z",
     "iopub.status.busy": "2024-05-29T13:36:04.271756Z",
     "iopub.status.idle": "2024-05-29T13:36:04.314278Z",
     "shell.execute_reply": "2024-05-29T13:36:04.313375Z",
     "shell.execute_reply.started": "2024-05-29T13:36:04.272713Z"
    }
   },
   "outputs": [],
   "source": [
    "gemma_lm.summary()"
   ]
  },
  {
   "cell_type": "code",
   "execution_count": null,
   "metadata": {
    "execution": {
     "iopub.execute_input": "2024-05-29T13:42:58.626254Z",
     "iopub.status.busy": "2024-05-29T13:42:58.625349Z",
     "iopub.status.idle": "2024-05-29T13:42:58.752954Z",
     "shell.execute_reply": "2024-05-29T13:42:58.752047Z",
     "shell.execute_reply.started": "2024-05-29T13:42:58.626218Z"
    }
   },
   "outputs": [],
   "source": [
    "gemma_lm.generate(KEYWORDS_JSON, max_length=20)"
   ]
  },
  {
   "cell_type": "code",
   "execution_count": null,
   "metadata": {
    "execution": {
     "iopub.execute_input": "2024-05-29T14:34:06.227426Z",
     "iopub.status.busy": "2024-05-29T14:34:06.226825Z",
     "iopub.status.idle": "2024-05-29T14:34:06.231775Z",
     "shell.execute_reply": "2024-05-29T14:34:06.230651Z",
     "shell.execute_reply.started": "2024-05-29T14:34:06.227399Z"
    }
   },
   "outputs": [],
   "source": [
    "promt = \"\"\"\n",
    "    Hello. Now we play game 20 Questions. I have words and you must guess that. \n",
    "    I can answer you only \"Yes\" or \"No\". Please, ask me?\n",
    "    \"\"\""
   ]
  },
  {
   "cell_type": "code",
   "execution_count": null,
   "metadata": {
    "execution": {
     "iopub.execute_input": "2024-05-29T14:34:06.538521Z",
     "iopub.status.busy": "2024-05-29T14:34:06.537748Z",
     "iopub.status.idle": "2024-05-29T14:34:27.902865Z",
     "shell.execute_reply": "2024-05-29T14:34:27.901999Z",
     "shell.execute_reply.started": "2024-05-29T14:34:06.538484Z"
    }
   },
   "outputs": [],
   "source": [
    "gemma_lm.generate(promt, max_length=15)"
   ]
  },
  {
   "cell_type": "code",
   "execution_count": null,
   "metadata": {
    "execution": {
     "iopub.execute_input": "2024-05-29T14:46:24.344754Z",
     "iopub.status.busy": "2024-05-29T14:46:24.34438Z",
     "iopub.status.idle": "2024-05-29T14:46:24.350577Z",
     "shell.execute_reply": "2024-05-29T14:46:24.349729Z",
     "shell.execute_reply.started": "2024-05-29T14:46:24.344724Z"
    }
   },
   "outputs": [],
   "source": [
    "class Agent:\n",
    "    def __init__(self):\n",
    "        self.gemma = gemma_lm\n",
    "        self.knowledge = []\n",
    "\n",
    "    def ask_question(self, question):\n",
    "        self.knowledge.append(question)\n",
    "        response = self.gemma.generate(question)\n",
    "        return response\n",
    "\n",
    "    def receive_answer(self, answer):\n",
    "        self.knowledge.append(answer)\n",
    "        # Process the answer as needed\n",
    "        pass"
   ]
  }
 ],
 "metadata": {
  "kaggle": {
   "accelerator": "nvidiaTeslaT4",
   "dataSources": [
    {
     "databundleVersionId": 8550470,
     "sourceId": 61247,
     "sourceType": "competition"
    },
    {
     "modelInstanceId": 5171,
     "sourceId": 11371,
     "sourceType": "modelInstanceVersion"
    }
   ],
   "dockerImageVersionId": 30699,
   "isGpuEnabled": true,
   "isInternetEnabled": true,
   "language": "python",
   "sourceType": "notebook"
  },
  "kernelspec": {
   "display_name": "Python 3",
   "language": "python",
   "name": "python3"
  },
  "language_info": {
   "codemirror_mode": {
    "name": "ipython",
    "version": 3
   },
   "file_extension": ".py",
   "mimetype": "text/x-python",
   "name": "python",
   "nbconvert_exporter": "python",
   "pygments_lexer": "ipython3",
   "version": "3.10.13"
  }
 },
 "nbformat": 4,
 "nbformat_minor": 4
}
