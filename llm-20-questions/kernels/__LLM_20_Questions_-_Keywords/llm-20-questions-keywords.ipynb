{
 "cells": [
  {
   "cell_type": "code",
   "execution_count": null,
   "metadata": {
    "_cell_guid": "b1076dfc-b9ad-4769-8c92-a6c4dae69d19",
    "_uuid": "8f2839f25d086af736a60e9eeb907d3b93b6e0e5",
    "execution": {
     "iopub.execute_input": "2024-05-17T11:43:18.421832Z",
     "iopub.status.busy": "2024-05-17T11:43:18.421434Z",
     "iopub.status.idle": "2024-05-17T11:43:18.431628Z",
     "shell.execute_reply": "2024-05-17T11:43:18.430254Z",
     "shell.execute_reply.started": "2024-05-17T11:43:18.421801Z"
    }
   },
   "outputs": [],
   "source": [
    "import numpy as np\n",
    "import pandas as pd\n",
    "import json\n",
    "import os\n",
    "import sys\n",
    "\n",
    "# show files\n",
    "for dirname, _, filenames in os.walk('/kaggle/input'):\n",
    "    for filename in filenames:\n",
    "        print(os.path.join(dirname, filename))"
   ]
  },
  {
   "cell_type": "code",
   "execution_count": null,
   "metadata": {
    "execution": {
     "iopub.execute_input": "2024-05-17T11:43:18.435719Z",
     "iopub.status.busy": "2024-05-17T11:43:18.434356Z",
     "iopub.status.idle": "2024-05-17T11:43:18.442836Z",
     "shell.execute_reply": "2024-05-17T11:43:18.441475Z",
     "shell.execute_reply.started": "2024-05-17T11:43:18.435679Z"
    }
   },
   "outputs": [],
   "source": [
    "# import keywords.py\n",
    "sys.path.append('../input/llm-20-questions/llm_20_questions/')\n",
    "import keywords"
   ]
  },
  {
   "cell_type": "code",
   "execution_count": null,
   "metadata": {
    "execution": {
     "iopub.execute_input": "2024-05-17T11:43:18.445262Z",
     "iopub.status.busy": "2024-05-17T11:43:18.444074Z",
     "iopub.status.idle": "2024-05-17T11:43:18.457286Z",
     "shell.execute_reply": "2024-05-17T11:43:18.456259Z",
     "shell.execute_reply.started": "2024-05-17T11:43:18.445222Z"
    }
   },
   "outputs": [],
   "source": [
    "# configs\n",
    "pd.set_option('display.max_rows', None) # show all rows of data frames\n",
    "pd.set_option('display.max_colwidth', None) # to display also longer texts in full"
   ]
  },
  {
   "cell_type": "code",
   "execution_count": null,
   "metadata": {
    "execution": {
     "iopub.execute_input": "2024-05-17T11:43:18.459023Z",
     "iopub.status.busy": "2024-05-17T11:43:18.458654Z",
     "iopub.status.idle": "2024-05-17T11:43:18.470573Z",
     "shell.execute_reply": "2024-05-17T11:43:18.469236Z",
     "shell.execute_reply.started": "2024-05-17T11:43:18.458975Z"
    }
   },
   "outputs": [],
   "source": [
    "# convert to JSON\n",
    "my_json = json.loads(keywords.KEYWORDS_JSON)"
   ]
  },
  {
   "cell_type": "code",
   "execution_count": null,
   "metadata": {
    "execution": {
     "iopub.execute_input": "2024-05-17T11:43:18.473367Z",
     "iopub.status.busy": "2024-05-17T11:43:18.472927Z",
     "iopub.status.idle": "2024-05-17T11:43:18.483921Z",
     "shell.execute_reply": "2024-05-17T11:43:18.482468Z",
     "shell.execute_reply.started": "2024-05-17T11:43:18.473334Z"
    }
   },
   "outputs": [],
   "source": [
    "# extract components\n",
    "json_country = my_json[0]\n",
    "json_city = my_json[1]\n",
    "json_landmark = my_json[2]"
   ]
  },
  {
   "cell_type": "code",
   "execution_count": null,
   "metadata": {
    "execution": {
     "iopub.execute_input": "2024-05-17T11:43:18.485425Z",
     "iopub.status.busy": "2024-05-17T11:43:18.485032Z",
     "iopub.status.idle": "2024-05-17T11:43:18.608517Z",
     "shell.execute_reply": "2024-05-17T11:43:18.606993Z",
     "shell.execute_reply.started": "2024-05-17T11:43:18.485393Z"
    }
   },
   "outputs": [],
   "source": [
    "# country\n",
    "df_country = pd.json_normalize(json_country['words'])\n",
    "df_country"
   ]
  },
  {
   "cell_type": "code",
   "execution_count": null,
   "metadata": {
    "execution": {
     "iopub.execute_input": "2024-05-17T11:43:18.611241Z",
     "iopub.status.busy": "2024-05-17T11:43:18.61057Z",
     "iopub.status.idle": "2024-05-17T11:43:18.787466Z",
     "shell.execute_reply": "2024-05-17T11:43:18.786214Z",
     "shell.execute_reply.started": "2024-05-17T11:43:18.611188Z"
    }
   },
   "outputs": [],
   "source": [
    "# city\n",
    "df_city = pd.json_normalize(json_city['words'])\n",
    "df_city"
   ]
  },
  {
   "cell_type": "code",
   "execution_count": null,
   "metadata": {
    "execution": {
     "iopub.execute_input": "2024-05-17T11:43:18.790227Z",
     "iopub.status.busy": "2024-05-17T11:43:18.789205Z",
     "iopub.status.idle": "2024-05-17T11:43:18.824603Z",
     "shell.execute_reply": "2024-05-17T11:43:18.823465Z",
     "shell.execute_reply.started": "2024-05-17T11:43:18.790189Z"
    }
   },
   "outputs": [],
   "source": [
    "# landmark\n",
    "df_landmark = pd.json_normalize(json_landmark['words'])\n",
    "df_landmark"
   ]
  },
  {
   "cell_type": "code",
   "execution_count": null,
   "metadata": {
    "execution": {
     "iopub.execute_input": "2024-05-17T11:43:18.826707Z",
     "iopub.status.busy": "2024-05-17T11:43:18.826365Z",
     "iopub.status.idle": "2024-05-17T11:43:18.833858Z",
     "shell.execute_reply": "2024-05-17T11:43:18.832626Z",
     "shell.execute_reply.started": "2024-05-17T11:43:18.826677Z"
    }
   },
   "outputs": [],
   "source": [
    "len(my_json)"
   ]
  }
 ],
 "metadata": {
  "kaggle": {
   "accelerator": "none",
   "dataSources": [
    {
     "databundleVersionId": 8550470,
     "sourceId": 61247,
     "sourceType": "competition"
    }
   ],
   "dockerImageVersionId": 30698,
   "isGpuEnabled": false,
   "isInternetEnabled": true,
   "language": "python",
   "sourceType": "notebook"
  },
  "kernelspec": {
   "display_name": "Python 3",
   "language": "python",
   "name": "python3"
  },
  "language_info": {
   "codemirror_mode": {
    "name": "ipython",
    "version": 3
   },
   "file_extension": ".py",
   "mimetype": "text/x-python",
   "name": "python",
   "nbconvert_exporter": "python",
   "pygments_lexer": "ipython3",
   "version": "3.10.13"
  }
 },
 "nbformat": 4,
 "nbformat_minor": 4
}
