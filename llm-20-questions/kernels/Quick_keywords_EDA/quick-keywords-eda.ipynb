{
 "cells": [
  {
   "cell_type": "markdown",
   "id": "16701a8e",
   "metadata": {},
   "source": [
    "<a href=\"https://colab.research.google.com/github/mzaoualim/Kaggle_LLM_20_Questions/blob/main/Quick_EDA.ipynb\" target=\"_parent\"><img src=\"https://colab.research.google.com/assets/colab-badge.svg\" alt=\"Open In Colab\"/></a>\n",
    "\n",
    "# Introduction\n",
    "This is a quick dive into the keywords provided in kaggle's [LLM 20 Questions](https://www.kaggle.com/competitions/llm-20-questions) competition.\n",
    "\n",
    "# Data & Libraries"
   ]
  },
  {
   "cell_type": "code",
   "execution_count": null,
   "metadata": {
    "_cell_guid": "b1076dfc-b9ad-4769-8c92-a6c4dae69d19",
    "_uuid": "8f2839f25d086af736a60e9eeb907d3b93b6e0e5",
    "execution": {
     "iopub.execute_input": "2024-06-02T23:09:13.994925Z",
     "iopub.status.busy": "2024-06-02T23:09:13.994428Z",
     "iopub.status.idle": "2024-06-02T23:09:14.506238Z",
     "shell.execute_reply": "2024-06-02T23:09:14.504806Z",
     "shell.execute_reply.started": "2024-06-02T23:09:13.994889Z"
    },
    "id": "Vyb-qHKjHQf7",
    "outputId": "2bd8f1d4-9b47-46a4-8410-d5dfb0e6a96f"
   },
   "outputs": [],
   "source": [
    "# This Python 3 environment comes with many helpful analytics libraries installed\n",
    "# It is defined by the kaggle/python Docker image: https://github.com/kaggle/docker-python\n",
    "# For example, here's several helpful packages to load\n",
    "\n",
    "import numpy as np # linear algebra\n",
    "import pandas as pd # data processing, CSV file I/O (e.g. pd.read_csv)\n",
    "\n",
    "# Input data files are available in the read-only \"../input/\" directory\n",
    "# For example, running this (by clicking run or pressing Shift+Enter) will list all files under the input directory\n",
    "\n",
    "import os\n",
    "for dirname, _, filenames in os.walk('/kaggle/input'):\n",
    "    for filename in filenames:\n",
    "        print(os.path.join(dirname, filename))\n",
    "\n",
    "# You can write up to 20GB to the current directory (/kaggle/working/) that gets preserved as output when you create a version using \"Save & Run All\"\n",
    "# You can also write temporary files to /kaggle/temp/, but they won't be saved outside of the current session"
   ]
  },
  {
   "cell_type": "markdown",
   "id": "10524831",
   "metadata": {},
   "source": [
    "# keywords analysis\n",
    "\n",
    "## LOADING KEYWORDS"
   ]
  },
  {
   "cell_type": "code",
   "execution_count": null,
   "metadata": {
    "execution": {
     "iopub.execute_input": "2024-06-02T23:09:14.509011Z",
     "iopub.status.busy": "2024-06-02T23:09:14.508493Z",
     "iopub.status.idle": "2024-06-02T23:09:14.521459Z",
     "shell.execute_reply": "2024-06-02T23:09:14.520302Z",
     "shell.execute_reply.started": "2024-06-02T23:09:14.508977Z"
    },
    "id": "YV9yzcv8IpNg",
    "outputId": "8233704d-4402-4caf-d12f-767b8c089b31"
   },
   "outputs": [],
   "source": [
    "# using python builtin function read text file\n",
    "f = open(\"/kaggle/input/llm-20-questions/llm_20_questions/keywords.py\", \"r\")\n",
    "print(f.read())"
   ]
  },
  {
   "cell_type": "code",
   "execution_count": null,
   "metadata": {
    "execution": {
     "iopub.execute_input": "2024-06-02T23:09:14.523518Z",
     "iopub.status.busy": "2024-06-02T23:09:14.523097Z",
     "iopub.status.idle": "2024-06-02T23:09:14.598687Z",
     "shell.execute_reply": "2024-06-02T23:09:14.597508Z",
     "shell.execute_reply.started": "2024-06-02T23:09:14.523486Z"
    },
    "id": "9bZo6_mZIxPI",
    "outputId": "b954e42e-91b1-46d0-d003-d60c3b2d117f"
   },
   "outputs": [],
   "source": [
    "# loading with more elaborate json library\n",
    "import json\n",
    "\n",
    "exec(open(\"/kaggle/input/llm-20-questions/llm_20_questions/keywords.py\").read())\n",
    "KEYWORDS_JSON = json.loads(KEYWORDS_JSON)\n",
    "KEYWORDS_JSON"
   ]
  },
  {
   "cell_type": "code",
   "execution_count": null,
   "metadata": {
    "execution": {
     "iopub.execute_input": "2024-06-02T23:09:14.602614Z",
     "iopub.status.busy": "2024-06-02T23:09:14.602152Z",
     "iopub.status.idle": "2024-06-02T23:09:14.609418Z",
     "shell.execute_reply": "2024-06-02T23:09:14.608111Z",
     "shell.execute_reply.started": "2024-06-02T23:09:14.602571Z"
    },
    "id": "0JZNVFHyNMzF",
    "outputId": "a3eccdbc-42fa-46a1-aa3e-455e749267d4"
   },
   "outputs": [],
   "source": [
    "# sum of each keywords by category\n",
    "\n",
    "print(len(KEYWORDS_JSON))\n",
    "for category in KEYWORDS_JSON:\n",
    "    print(category[\"category\"], len(category[\"words\"]))"
   ]
  },
  {
   "cell_type": "markdown",
   "id": "ba3faeef",
   "metadata": {},
   "source": [
    "## PROCESSING JSON KEYWORDS"
   ]
  },
  {
   "cell_type": "code",
   "execution_count": null,
   "metadata": {
    "execution": {
     "iopub.execute_input": "2024-06-02T23:09:14.61228Z",
     "iopub.status.busy": "2024-06-02T23:09:14.611252Z",
     "iopub.status.idle": "2024-06-02T23:09:14.631154Z",
     "shell.execute_reply": "2024-06-02T23:09:14.629939Z",
     "shell.execute_reply.started": "2024-06-02T23:09:14.612241Z"
    },
    "id": "k9lahYeeNb9L"
   },
   "outputs": [],
   "source": [
    "# from json to dataframe\n",
    "\n",
    "country = pd.json_normalize(KEYWORDS_JSON[0]['words'])\n",
    "city = pd.json_normalize(KEYWORDS_JSON[1]['words'])\n",
    "landmark = pd.json_normalize(KEYWORDS_JSON[2]['words'])"
   ]
  },
  {
   "cell_type": "code",
   "execution_count": null,
   "metadata": {
    "execution": {
     "iopub.execute_input": "2024-06-02T23:09:14.632853Z",
     "iopub.status.busy": "2024-06-02T23:09:14.632526Z",
     "iopub.status.idle": "2024-06-02T23:09:14.671217Z",
     "shell.execute_reply": "2024-06-02T23:09:14.67012Z",
     "shell.execute_reply.started": "2024-06-02T23:09:14.632825Z"
    },
    "id": "qYcsGRyq0bxw",
    "outputId": "58f23891-2ade-49f2-d3d0-37beef26b1f4"
   },
   "outputs": [],
   "source": [
    "country"
   ]
  },
  {
   "cell_type": "code",
   "execution_count": null,
   "metadata": {
    "execution": {
     "iopub.execute_input": "2024-06-02T23:09:14.672629Z",
     "iopub.status.busy": "2024-06-02T23:09:14.672315Z",
     "iopub.status.idle": "2024-06-02T23:09:14.690816Z",
     "shell.execute_reply": "2024-06-02T23:09:14.689187Z",
     "shell.execute_reply.started": "2024-06-02T23:09:14.672602Z"
    },
    "id": "kyIcW9xljQje",
    "outputId": "c621db71-3345-45ac-d6bf-670e95acb123"
   },
   "outputs": [],
   "source": [
    "city"
   ]
  },
  {
   "cell_type": "code",
   "execution_count": null,
   "metadata": {
    "execution": {
     "iopub.execute_input": "2024-06-02T23:09:14.693449Z",
     "iopub.status.busy": "2024-06-02T23:09:14.693057Z",
     "iopub.status.idle": "2024-06-02T23:09:14.735243Z",
     "shell.execute_reply": "2024-06-02T23:09:14.733957Z",
     "shell.execute_reply.started": "2024-06-02T23:09:14.693419Z"
    },
    "id": "mCegnaeWjToc",
    "outputId": "0e03b24a-5520-4610-8d06-631c4a8fb6c5"
   },
   "outputs": [],
   "source": [
    "landmark"
   ]
  },
  {
   "cell_type": "code",
   "execution_count": null,
   "metadata": {
    "execution": {
     "iopub.execute_input": "2024-06-02T23:09:14.73717Z",
     "iopub.status.busy": "2024-06-02T23:09:14.736819Z",
     "iopub.status.idle": "2024-06-02T23:09:14.753052Z",
     "shell.execute_reply": "2024-06-02T23:09:14.751783Z",
     "shell.execute_reply.started": "2024-06-02T23:09:14.73714Z"
    },
    "id": "V_-m9XGGjwFf",
    "outputId": "9f122c64-fe40-426d-f921-09c7f090672b"
   },
   "outputs": [],
   "source": [
    "# looking for missing and duplicated keywords\n",
    "print('sum of missing data:\\n',\n",
    "      'country: ',country['keyword'].isna().sum(), '\\n',\n",
    "      'city: ',city['keyword'].isna().sum(), '\\n',\n",
    "      'landmark: ',landmark['keyword'].isna().sum(), '\\n'\n",
    "      )\n",
    "\n",
    "print('sum of duplicated data:\\n',\n",
    "      'country: ',country['keyword'].duplicated().sum(), '\\n',\n",
    "      'city: ',city['keyword'].duplicated().sum(), '\\n',\n",
    "      'landmark: ',landmark['keyword'].duplicated().sum(), '\\n'\n",
    "      )"
   ]
  },
  {
   "cell_type": "code",
   "execution_count": null,
   "metadata": {
    "execution": {
     "iopub.execute_input": "2024-06-02T23:09:14.761275Z",
     "iopub.status.busy": "2024-06-02T23:09:14.760221Z",
     "iopub.status.idle": "2024-06-02T23:09:14.776665Z",
     "shell.execute_reply": "2024-06-02T23:09:14.775417Z",
     "shell.execute_reply.started": "2024-06-02T23:09:14.761229Z"
    },
    "id": "MwBeBMIb0kL9",
    "outputId": "fdf042fb-b7a6-434d-9607-84dae48bbd0d"
   },
   "outputs": [],
   "source": [
    "# investigating duplicated data\n",
    "## landmark dataset\n",
    "landmark['keyword'].value_counts()"
   ]
  },
  {
   "cell_type": "code",
   "execution_count": null,
   "metadata": {
    "execution": {
     "iopub.execute_input": "2024-06-02T23:09:14.778838Z",
     "iopub.status.busy": "2024-06-02T23:09:14.778284Z",
     "iopub.status.idle": "2024-06-02T23:09:14.794161Z",
     "shell.execute_reply": "2024-06-02T23:09:14.792838Z",
     "shell.execute_reply.started": "2024-06-02T23:09:14.778798Z"
    },
    "id": "Lul9kB-mnOCz",
    "outputId": "06128e68-71e2-410c-9b3d-c091af2005b2"
   },
   "outputs": [],
   "source": [
    "landmark[landmark['keyword'] == 'mount saint helens']"
   ]
  },
  {
   "cell_type": "code",
   "execution_count": null,
   "metadata": {
    "execution": {
     "iopub.execute_input": "2024-06-02T23:09:14.796082Z",
     "iopub.status.busy": "2024-06-02T23:09:14.795601Z",
     "iopub.status.idle": "2024-06-02T23:09:14.809506Z",
     "shell.execute_reply": "2024-06-02T23:09:14.808235Z",
     "shell.execute_reply.started": "2024-06-02T23:09:14.79604Z"
    },
    "id": "O6GbfGgznP6J",
    "outputId": "9976b223-1391-41bf-cf3e-82c66f26ad9c"
   },
   "outputs": [],
   "source": [
    "# eliminate duplicated rows\n",
    "\n",
    "## landmark dataset\n",
    "landmark.drop_duplicates(subset='keyword', keep=\"last\", inplace=True)\n",
    "landmark['keyword'].duplicated().sum()"
   ]
  },
  {
   "cell_type": "code",
   "execution_count": null,
   "metadata": {
    "execution": {
     "iopub.execute_input": "2024-06-02T23:09:14.811149Z",
     "iopub.status.busy": "2024-06-02T23:09:14.81078Z",
     "iopub.status.idle": "2024-06-02T23:09:14.824189Z",
     "shell.execute_reply": "2024-06-02T23:09:14.822963Z",
     "shell.execute_reply.started": "2024-06-02T23:09:14.811116Z"
    },
    "id": "5z0BylAM0pkw",
    "outputId": "043022c2-526c-448b-cc7a-d8bbfecdde42"
   },
   "outputs": [],
   "source": [
    "# eliminate duplicated data\n",
    "## city dataset\n",
    "\n",
    "city['keyword'].duplicated().sum()\n",
    "city.drop_duplicates(subset='keyword', keep=\"last\", inplace=True)\n",
    "city['keyword'].duplicated().sum()"
   ]
  },
  {
   "cell_type": "markdown",
   "id": "595c10b5",
   "metadata": {},
   "source": [
    "## ALTS Analysis"
   ]
  },
  {
   "cell_type": "code",
   "execution_count": null,
   "metadata": {
    "execution": {
     "iopub.execute_input": "2024-06-02T23:09:14.826096Z",
     "iopub.status.busy": "2024-06-02T23:09:14.825579Z",
     "iopub.status.idle": "2024-06-02T23:09:14.834263Z",
     "shell.execute_reply": "2024-06-02T23:09:14.833164Z",
     "shell.execute_reply.started": "2024-06-02T23:09:14.826023Z"
    },
    "id": "lrwj6uJR7cYG"
   },
   "outputs": [],
   "source": [
    "# alts analysis\n",
    "## countries, cities, landmarks with multiples alts"
   ]
  },
  {
   "cell_type": "markdown",
   "id": "7cfac0b2",
   "metadata": {},
   "source": [
    "### city"
   ]
  },
  {
   "cell_type": "code",
   "execution_count": null,
   "metadata": {
    "execution": {
     "iopub.execute_input": "2024-06-02T23:09:14.835916Z",
     "iopub.status.busy": "2024-06-02T23:09:14.835537Z",
     "iopub.status.idle": "2024-06-02T23:09:14.857904Z",
     "shell.execute_reply": "2024-06-02T23:09:14.856615Z",
     "shell.execute_reply.started": "2024-06-02T23:09:14.835876Z"
    },
    "id": "yZUyzp3Ira2r",
    "outputId": "d8600d3e-32b3-4cae-81c6-345235c62e2d"
   },
   "outputs": [],
   "source": [
    "# cities with most alts\n",
    "city"
   ]
  },
  {
   "cell_type": "code",
   "execution_count": null,
   "metadata": {
    "execution": {
     "iopub.execute_input": "2024-06-02T23:09:14.860035Z",
     "iopub.status.busy": "2024-06-02T23:09:14.859571Z",
     "iopub.status.idle": "2024-06-02T23:09:14.893867Z",
     "shell.execute_reply": "2024-06-02T23:09:14.892296Z",
     "shell.execute_reply.started": "2024-06-02T23:09:14.859994Z"
    },
    "id": "VqEpkjfHrqTD"
   },
   "outputs": [],
   "source": [
    "# generate a dictionnary with {city:length of corresponding label(s)}\n",
    "city_alts_dict = dict()\n",
    "for i in range(len(city)):\n",
    "  city_alts_dict[city.iloc[i, 0]] = len(str(city.iloc[i, 1]).strip('[]').split(','))"
   ]
  },
  {
   "cell_type": "code",
   "execution_count": null,
   "metadata": {
    "execution": {
     "iopub.execute_input": "2024-06-02T23:09:14.896095Z",
     "iopub.status.busy": "2024-06-02T23:09:14.895644Z",
     "iopub.status.idle": "2024-06-02T23:09:14.920617Z",
     "shell.execute_reply": "2024-06-02T23:09:14.919287Z",
     "shell.execute_reply.started": "2024-06-02T23:09:14.896055Z"
    },
    "id": "8hJ8UEC95RWL",
    "outputId": "fef62e0f-cb4f-4c69-b3b6-5bc788cecbc0"
   },
   "outputs": [],
   "source": [
    "city_alts_dict"
   ]
  },
  {
   "cell_type": "code",
   "execution_count": null,
   "metadata": {
    "execution": {
     "iopub.execute_input": "2024-06-02T23:09:14.922514Z",
     "iopub.status.busy": "2024-06-02T23:09:14.922157Z",
     "iopub.status.idle": "2024-06-02T23:09:14.933519Z",
     "shell.execute_reply": "2024-06-02T23:09:14.932184Z",
     "shell.execute_reply.started": "2024-06-02T23:09:14.922485Z"
    },
    "id": "ZZw3sGwCsxMb"
   },
   "outputs": [],
   "source": [
    "# form dictionnary to pandas dataframe\n",
    "city_alts_df = pd.DataFrame.from_dict(city_alts_dict, orient='index', columns=['len_alts'])\n",
    "city_alts_df.reset_index(inplace=True)"
   ]
  },
  {
   "cell_type": "code",
   "execution_count": null,
   "metadata": {
    "execution": {
     "iopub.execute_input": "2024-06-02T23:09:14.935428Z",
     "iopub.status.busy": "2024-06-02T23:09:14.935Z",
     "iopub.status.idle": "2024-06-02T23:09:14.948792Z",
     "shell.execute_reply": "2024-06-02T23:09:14.947546Z",
     "shell.execute_reply.started": "2024-06-02T23:09:14.935386Z"
    },
    "id": "LiX9nDCs_X-g"
   },
   "outputs": [],
   "source": [
    "city_alts_df.rename(columns={'index':'city_labels'}, inplace=True)"
   ]
  },
  {
   "cell_type": "code",
   "execution_count": null,
   "metadata": {
    "execution": {
     "iopub.execute_input": "2024-06-02T23:09:14.950703Z",
     "iopub.status.busy": "2024-06-02T23:09:14.950295Z",
     "iopub.status.idle": "2024-06-02T23:09:14.974781Z",
     "shell.execute_reply": "2024-06-02T23:09:14.973255Z",
     "shell.execute_reply.started": "2024-06-02T23:09:14.95064Z"
    },
    "id": "ehFueE-gCe_h",
    "outputId": "164d6560-f4c1-4149-c606-585705784191"
   },
   "outputs": [],
   "source": [
    "city_alts_df"
   ]
  },
  {
   "cell_type": "code",
   "execution_count": null,
   "metadata": {
    "execution": {
     "iopub.execute_input": "2024-06-02T23:09:14.97712Z",
     "iopub.status.busy": "2024-06-02T23:09:14.97664Z",
     "iopub.status.idle": "2024-06-02T23:09:14.995405Z",
     "shell.execute_reply": "2024-06-02T23:09:14.993694Z",
     "shell.execute_reply.started": "2024-06-02T23:09:14.977077Z"
    },
    "id": "_kzhghSh65WX",
    "outputId": "b0fee196-7546-4682-b1fc-2679c2dd3296"
   },
   "outputs": [],
   "source": [
    "# grouping cities by numbers of labels\n",
    "grouped_city_alts_df = city_alts_df.groupby('len_alts').count()\n",
    "grouped_city_alts_df"
   ]
  },
  {
   "cell_type": "code",
   "execution_count": null,
   "metadata": {
    "execution": {
     "iopub.execute_input": "2024-06-02T23:09:14.998416Z",
     "iopub.status.busy": "2024-06-02T23:09:14.997543Z",
     "iopub.status.idle": "2024-06-02T23:09:15.265935Z",
     "shell.execute_reply": "2024-06-02T23:09:15.264093Z",
     "shell.execute_reply.started": "2024-06-02T23:09:14.99837Z"
    },
    "id": "iT_b6-Zw6hyW",
    "outputId": "1fd72304-9cac-46c9-caf0-26911fc6b172"
   },
   "outputs": [],
   "source": [
    "# ploting the distribution of cities by number of alternative labels\n",
    "grouped_city_alts_df.plot(\n",
    "    kind='pie',\n",
    "    title='Cities with Mono Vs Multi Alternative labels',\n",
    "    ylabel='',\n",
    "    legend=False,\n",
    "    subplots=True,\n",
    "    autopct='%1.1f%%'\n",
    "    )"
   ]
  },
  {
   "cell_type": "markdown",
   "id": "a0e3a76e",
   "metadata": {},
   "source": [
    "More than 88% (278 city) of listed cities have a unique label, and one city (Los Angeles) is represented in seven (7) alternatives labels.\n",
    "\n",
    "### country"
   ]
  },
  {
   "cell_type": "code",
   "execution_count": null,
   "metadata": {
    "execution": {
     "iopub.execute_input": "2024-06-02T23:09:15.269149Z",
     "iopub.status.busy": "2024-06-02T23:09:15.268356Z",
     "iopub.status.idle": "2024-06-02T23:09:15.299061Z",
     "shell.execute_reply": "2024-06-02T23:09:15.297591Z",
     "shell.execute_reply.started": "2024-06-02T23:09:15.26909Z"
    },
    "id": "QqSI13SRMCv5",
    "outputId": "558f063a-d8ea-4c24-a4be-8bc08b454c3d"
   },
   "outputs": [],
   "source": [
    "# countries with most alts\n",
    "country"
   ]
  },
  {
   "cell_type": "code",
   "execution_count": null,
   "metadata": {
    "execution": {
     "iopub.execute_input": "2024-06-02T23:09:15.303179Z",
     "iopub.status.busy": "2024-06-02T23:09:15.301898Z",
     "iopub.status.idle": "2024-06-02T23:09:15.335981Z",
     "shell.execute_reply": "2024-06-02T23:09:15.334745Z",
     "shell.execute_reply.started": "2024-06-02T23:09:15.303127Z"
    },
    "id": "ZJFS_gu7MpXM",
    "outputId": "1335cc48-90c8-4468-f308-138539c991a1"
   },
   "outputs": [],
   "source": [
    "# generate a dictionnary with {country:length of corresponding label(s)}\n",
    "country_alts_dict = dict()\n",
    "for i in range(len(country)):\n",
    "  country_alts_dict[country.iloc[i, 0]] = len(str(country.iloc[i, 1]).strip('[]').split(','))\n",
    "\n",
    "country_alts_dict"
   ]
  },
  {
   "cell_type": "code",
   "execution_count": null,
   "metadata": {
    "execution": {
     "iopub.execute_input": "2024-06-02T23:09:15.338515Z",
     "iopub.status.busy": "2024-06-02T23:09:15.338034Z",
     "iopub.status.idle": "2024-06-02T23:09:15.353326Z",
     "shell.execute_reply": "2024-06-02T23:09:15.35219Z",
     "shell.execute_reply.started": "2024-06-02T23:09:15.338463Z"
    },
    "id": "Sh_sAumpNGoo",
    "outputId": "49c00f01-8703-4b97-b19a-cd48b111d72d"
   },
   "outputs": [],
   "source": [
    "max(country_alts_dict.values())"
   ]
  },
  {
   "cell_type": "code",
   "execution_count": null,
   "metadata": {
    "execution": {
     "iopub.execute_input": "2024-06-02T23:09:15.35562Z",
     "iopub.status.busy": "2024-06-02T23:09:15.355227Z",
     "iopub.status.idle": "2024-06-02T23:09:15.366948Z",
     "shell.execute_reply": "2024-06-02T23:09:15.365775Z",
     "shell.execute_reply.started": "2024-06-02T23:09:15.355588Z"
    },
    "id": "JEjz_cUYMpUS"
   },
   "outputs": [],
   "source": [
    "# form dictionnary to pandas dataframe\n",
    "country_alts_df = pd.DataFrame.from_dict(country_alts_dict, orient='index', columns=['len_alts'])\n",
    "country_alts_df.reset_index(inplace=True)\n",
    "country_alts_df.rename(columns={'index':'city_labels'}, inplace=True)"
   ]
  },
  {
   "cell_type": "code",
   "execution_count": null,
   "metadata": {
    "execution": {
     "iopub.execute_input": "2024-06-02T23:09:15.368583Z",
     "iopub.status.busy": "2024-06-02T23:09:15.368176Z",
     "iopub.status.idle": "2024-06-02T23:09:15.386294Z",
     "shell.execute_reply": "2024-06-02T23:09:15.384802Z",
     "shell.execute_reply.started": "2024-06-02T23:09:15.368552Z"
    },
    "id": "VQZsm9ZxMpRA",
    "outputId": "02fe5a1f-96f8-43b1-8e3e-e66d0e8ce70a"
   },
   "outputs": [],
   "source": [
    "# grouping countries by numbers of labels\n",
    "grouped_country_alts_df = country_alts_df.groupby('len_alts').count()\n",
    "grouped_country_alts_df"
   ]
  },
  {
   "cell_type": "code",
   "execution_count": null,
   "metadata": {
    "execution": {
     "iopub.execute_input": "2024-06-02T23:09:15.395405Z",
     "iopub.status.busy": "2024-06-02T23:09:15.395Z",
     "iopub.status.idle": "2024-06-02T23:09:15.575413Z",
     "shell.execute_reply": "2024-06-02T23:09:15.574041Z",
     "shell.execute_reply.started": "2024-06-02T23:09:15.395373Z"
    },
    "id": "BBZqNuhjM2w4",
    "outputId": "1b0d7623-e418-422a-95af-d04e614afa5e"
   },
   "outputs": [],
   "source": [
    "# ploting the distribution of cities by number of alternative labels\n",
    "grouped_country_alts_df.plot(\n",
    "    kind='pie',\n",
    "    title='Countries with Mono Vs Multi Alternative labels',\n",
    "    ylabel='',\n",
    "    legend=False,\n",
    "    subplots=True,\n",
    "    autopct='%1.1f%%'\n",
    "    )"
   ]
  },
  {
   "cell_type": "markdown",
   "id": "256ee0f5",
   "metadata": {},
   "source": [
    "Also, we have 97% (195) of country is represented with a unique labels, 3 with two labels and 2 with 2 labels.\n",
    "\n",
    "### landmark"
   ]
  },
  {
   "cell_type": "code",
   "execution_count": null,
   "metadata": {
    "execution": {
     "iopub.execute_input": "2024-06-02T23:09:15.578245Z",
     "iopub.status.busy": "2024-06-02T23:09:15.577804Z",
     "iopub.status.idle": "2024-06-02T23:09:15.639913Z",
     "shell.execute_reply": "2024-06-02T23:09:15.638548Z",
     "shell.execute_reply.started": "2024-06-02T23:09:15.5782Z"
    },
    "id": "D-BfkqvZN_hf",
    "outputId": "4adb6e67-ef4e-4768-e8fe-b7cdb40b0ace"
   },
   "outputs": [],
   "source": [
    "# landmarks with most alts\n",
    "landmark"
   ]
  },
  {
   "cell_type": "code",
   "execution_count": null,
   "metadata": {
    "execution": {
     "iopub.execute_input": "2024-06-02T23:09:15.641509Z",
     "iopub.status.busy": "2024-06-02T23:09:15.641161Z",
     "iopub.status.idle": "2024-06-02T23:09:15.6573Z",
     "shell.execute_reply": "2024-06-02T23:09:15.655961Z",
     "shell.execute_reply.started": "2024-06-02T23:09:15.641476Z"
    },
    "id": "BKV7soysOKw_",
    "outputId": "c7131783-e6ad-4542-e48a-f6a360ddfa36"
   },
   "outputs": [],
   "source": [
    "# generate a dictionnary with {landmark:length of corresponding label(s)}\n",
    "landmark_alts_dict = dict()\n",
    "for i in range(len(landmark)):\n",
    "  landmark_alts_dict[landmark.iloc[i, 0]] = len(str(landmark.iloc[i, 1]).strip('[]').split(','))\n",
    "\n",
    "landmark_alts_dict"
   ]
  },
  {
   "cell_type": "code",
   "execution_count": null,
   "metadata": {
    "execution": {
     "iopub.execute_input": "2024-06-02T23:09:15.659311Z",
     "iopub.status.busy": "2024-06-02T23:09:15.658881Z",
     "iopub.status.idle": "2024-06-02T23:09:15.671598Z",
     "shell.execute_reply": "2024-06-02T23:09:15.670045Z",
     "shell.execute_reply.started": "2024-06-02T23:09:15.659273Z"
    },
    "id": "M7zvgEVpOv1F",
    "outputId": "949c0dd4-eaf3-4e68-8028-4212a2ccac53"
   },
   "outputs": [],
   "source": [
    "max(landmark_alts_dict.values())"
   ]
  },
  {
   "cell_type": "code",
   "execution_count": null,
   "metadata": {
    "execution": {
     "iopub.execute_input": "2024-06-02T23:09:15.674294Z",
     "iopub.status.busy": "2024-06-02T23:09:15.673829Z",
     "iopub.status.idle": "2024-06-02T23:09:15.685107Z",
     "shell.execute_reply": "2024-06-02T23:09:15.684009Z",
     "shell.execute_reply.started": "2024-06-02T23:09:15.674249Z"
    },
    "id": "K7CxaJNMO3EG"
   },
   "outputs": [],
   "source": [
    "# form dictionnary to pandas dataframe\n",
    "landmark_alts_df = pd.DataFrame.from_dict(landmark_alts_dict, orient='index', columns=['len_alts'])\n",
    "landmark_alts_df.reset_index(inplace=True)\n",
    "landmark_alts_df.rename(columns={'index':'landmark_labels'}, inplace=True)"
   ]
  },
  {
   "cell_type": "code",
   "execution_count": null,
   "metadata": {
    "execution": {
     "iopub.execute_input": "2024-06-02T23:09:15.6872Z",
     "iopub.status.busy": "2024-06-02T23:09:15.686754Z",
     "iopub.status.idle": "2024-06-02T23:09:15.707682Z",
     "shell.execute_reply": "2024-06-02T23:09:15.705978Z",
     "shell.execute_reply.started": "2024-06-02T23:09:15.687159Z"
    },
    "id": "urHoSfKfPC5A",
    "outputId": "da227812-e53d-405c-df36-be60fa673074"
   },
   "outputs": [],
   "source": [
    "# grouping countries by numbers of labels\n",
    "grouped_landmark_alts_df = landmark_alts_df.groupby('len_alts').count()\n",
    "grouped_landmark_alts_df"
   ]
  },
  {
   "cell_type": "code",
   "execution_count": null,
   "metadata": {
    "execution": {
     "iopub.execute_input": "2024-06-02T23:09:15.710081Z",
     "iopub.status.busy": "2024-06-02T23:09:15.70953Z",
     "iopub.status.idle": "2024-06-02T23:09:15.847789Z",
     "shell.execute_reply": "2024-06-02T23:09:15.846405Z",
     "shell.execute_reply.started": "2024-06-02T23:09:15.710036Z"
    },
    "id": "KVTT6HEqPF11",
    "outputId": "12dbbf1f-0985-4b8a-9d92-8e9d236c9b4b"
   },
   "outputs": [],
   "source": [
    "# ploting the distribution of cities by number of alternative labels\n",
    "grouped_landmark_alts_df.plot(\n",
    "    kind='pie',\n",
    "    title='landmark with Mono Vs Multi Alternative labels',\n",
    "    ylabel='',\n",
    "    legend=False,\n",
    "    subplots=True,\n",
    "    autopct='%1.1f%%'\n",
    "    )"
   ]
  },
  {
   "cell_type": "markdown",
   "id": "7c3cd8c3",
   "metadata": {},
   "source": [
    "Again, most of landmarks (83% or 40) are represented in unique labels versus 16% (8) have dual additionnal labels.\n",
    "\n",
    "## Geographical Analysis"
   ]
  },
  {
   "cell_type": "code",
   "execution_count": null,
   "metadata": {
    "execution": {
     "iopub.execute_input": "2024-06-02T23:09:15.851065Z",
     "iopub.status.busy": "2024-06-02T23:09:15.85019Z",
     "iopub.status.idle": "2024-06-02T23:09:15.857726Z",
     "shell.execute_reply": "2024-06-02T23:09:15.855913Z",
     "shell.execute_reply.started": "2024-06-02T23:09:15.851001Z"
    },
    "id": "JNP4EDn193J2"
   },
   "outputs": [],
   "source": [
    "# Geo analysis\n",
    "## continent representations\n",
    "## countries with multiple cities"
   ]
  },
  {
   "cell_type": "markdown",
   "id": "88277d0c",
   "metadata": {},
   "source": [
    "### Countries by Continent representation"
   ]
  },
  {
   "cell_type": "code",
   "execution_count": null,
   "metadata": {
    "execution": {
     "iopub.execute_input": "2024-06-02T23:09:15.862092Z",
     "iopub.status.busy": "2024-06-02T23:09:15.860137Z",
     "iopub.status.idle": "2024-06-02T23:09:16.137917Z",
     "shell.execute_reply": "2024-06-02T23:09:16.136639Z",
     "shell.execute_reply.started": "2024-06-02T23:09:15.862027Z"
    },
    "id": "EE8WqvCAQlih"
   },
   "outputs": [],
   "source": [
    "#loading list of countries\n",
    "country_by_continent = pd.read_html('https://worldpopulationreview.com/country-rankings/list-of-countries-by-continent')[4].copy()"
   ]
  },
  {
   "cell_type": "code",
   "execution_count": null,
   "metadata": {
    "execution": {
     "iopub.execute_input": "2024-06-02T23:09:16.140149Z",
     "iopub.status.busy": "2024-06-02T23:09:16.139505Z",
     "iopub.status.idle": "2024-06-02T23:09:16.148648Z",
     "shell.execute_reply": "2024-06-02T23:09:16.147299Z",
     "shell.execute_reply.started": "2024-06-02T23:09:16.140105Z"
    },
    "id": "M4KI3c-DRsn4"
   },
   "outputs": [],
   "source": [
    "country_by_continent = country_by_continent[['Country', 'Continent']]"
   ]
  },
  {
   "cell_type": "code",
   "execution_count": null,
   "metadata": {
    "execution": {
     "iopub.execute_input": "2024-06-02T23:09:16.150874Z",
     "iopub.status.busy": "2024-06-02T23:09:16.150385Z",
     "iopub.status.idle": "2024-06-02T23:09:16.402146Z",
     "shell.execute_reply": "2024-06-02T23:09:16.400561Z",
     "shell.execute_reply.started": "2024-06-02T23:09:16.150828Z"
    },
    "id": "SPUDhIebWL61",
    "outputId": "5a13a59e-77e3-4ce0-91e9-3d0ed27f9822"
   },
   "outputs": [],
   "source": [
    "# countries by continent\n",
    "country_by_continent.Continent.value_counts().plot(\n",
    "    kind='pie',\n",
    "    ylabel='',\n",
    "    xlabel='',\n",
    "    title='World countries by continent',\n",
    "    autopct='%1.1f%%')"
   ]
  },
  {
   "cell_type": "code",
   "execution_count": null,
   "metadata": {
    "execution": {
     "iopub.execute_input": "2024-06-02T23:09:16.405362Z",
     "iopub.status.busy": "2024-06-02T23:09:16.404192Z",
     "iopub.status.idle": "2024-06-02T23:09:16.413134Z",
     "shell.execute_reply": "2024-06-02T23:09:16.411894Z",
     "shell.execute_reply.started": "2024-06-02T23:09:16.405319Z"
    },
    "id": "VMxAOwvVTepz"
   },
   "outputs": [],
   "source": [
    "country_by_continent['Country'] = country_by_continent.Country.str.lower()"
   ]
  },
  {
   "cell_type": "code",
   "execution_count": null,
   "metadata": {
    "execution": {
     "iopub.execute_input": "2024-06-02T23:09:16.41544Z",
     "iopub.status.busy": "2024-06-02T23:09:16.414968Z",
     "iopub.status.idle": "2024-06-02T23:09:16.435469Z",
     "shell.execute_reply": "2024-06-02T23:09:16.43381Z",
     "shell.execute_reply.started": "2024-06-02T23:09:16.415394Z"
    },
    "id": "tljpZ072Tlnn",
    "outputId": "0bf185b5-8c5b-446f-cbbd-15c150b72bb1"
   },
   "outputs": [],
   "source": [
    "country_by_continent"
   ]
  },
  {
   "cell_type": "code",
   "execution_count": null,
   "metadata": {
    "execution": {
     "iopub.execute_input": "2024-06-02T23:09:16.438032Z",
     "iopub.status.busy": "2024-06-02T23:09:16.437384Z",
     "iopub.status.idle": "2024-06-02T23:09:16.455056Z",
     "shell.execute_reply": "2024-06-02T23:09:16.453744Z",
     "shell.execute_reply.started": "2024-06-02T23:09:16.43797Z"
    },
    "id": "rpuplK6fSG8g",
    "outputId": "19be669c-9939-4b07-f308-2871ba63becf"
   },
   "outputs": [],
   "source": [
    "# countries distribution by continent\n",
    "country_by_continent.Continent.value_counts(normalize=True)"
   ]
  },
  {
   "cell_type": "code",
   "execution_count": null,
   "metadata": {
    "execution": {
     "iopub.execute_input": "2024-06-02T23:09:16.457419Z",
     "iopub.status.busy": "2024-06-02T23:09:16.456945Z",
     "iopub.status.idle": "2024-06-02T23:09:16.47443Z",
     "shell.execute_reply": "2024-06-02T23:09:16.472821Z",
     "shell.execute_reply.started": "2024-06-02T23:09:16.457364Z"
    },
    "id": "TYzkoVs6SNZl",
    "outputId": "9ff35732-e6e6-415c-c478-39ed546424d6"
   },
   "outputs": [],
   "source": [
    "# duplicated country?\n",
    "country_by_continent.Country.duplicated().sum()"
   ]
  },
  {
   "cell_type": "code",
   "execution_count": null,
   "metadata": {
    "execution": {
     "iopub.execute_input": "2024-06-02T23:09:16.476778Z",
     "iopub.status.busy": "2024-06-02T23:09:16.476269Z",
     "iopub.status.idle": "2024-06-02T23:09:16.494456Z",
     "shell.execute_reply": "2024-06-02T23:09:16.493144Z",
     "shell.execute_reply.started": "2024-06-02T23:09:16.476735Z"
    },
    "id": "RDrlZ_5L-BB4",
    "outputId": "40098eef-1d1c-4013-b816-31e310ac15c7"
   },
   "outputs": [],
   "source": [
    "# missing values\n",
    "country_by_continent.Country.isna().sum()"
   ]
  },
  {
   "cell_type": "code",
   "execution_count": null,
   "metadata": {
    "execution": {
     "iopub.execute_input": "2024-06-02T23:09:16.497452Z",
     "iopub.status.busy": "2024-06-02T23:09:16.496995Z",
     "iopub.status.idle": "2024-06-02T23:09:16.522091Z",
     "shell.execute_reply": "2024-06-02T23:09:16.520829Z",
     "shell.execute_reply.started": "2024-06-02T23:09:16.49741Z"
    },
    "id": "WOdgtTiSUZ4e",
    "outputId": "c6b7e389-ca13-4168-b10b-e386f7b7ec38"
   },
   "outputs": [],
   "source": [
    "# continent representation in the keyword dataset\n",
    "country.merge(\n",
    "    country_by_continent,\n",
    "    how='left',\n",
    "    left_on='keyword',\n",
    "    right_on='Country')['Continent'].value_counts() #.plot(kind='pie')"
   ]
  },
  {
   "cell_type": "code",
   "execution_count": null,
   "metadata": {
    "execution": {
     "iopub.execute_input": "2024-06-02T23:09:16.524086Z",
     "iopub.status.busy": "2024-06-02T23:09:16.52364Z",
     "iopub.status.idle": "2024-06-02T23:09:16.724467Z",
     "shell.execute_reply": "2024-06-02T23:09:16.723213Z",
     "shell.execute_reply.started": "2024-06-02T23:09:16.524053Z"
    },
    "id": "cBPy8T25XfeK",
    "outputId": "e5c7b674-f2bf-4828-a6ca-8fcd6a6a1612"
   },
   "outputs": [],
   "source": [
    "# ploting continent representation in the keyword dataset\n",
    "\n",
    "country.merge(\n",
    "    country_by_continent,\n",
    "    how='left',\n",
    "    left_on='keyword',\n",
    "    right_on='Country')['Continent'].value_counts().plot(kind='pie',\n",
    "                                                         title= 'Countries by continent',\n",
    "                                                         xlabel='',\n",
    "                                                         ylabel='',\n",
    "                                                         autopct='%1.1f%%')"
   ]
  },
  {
   "cell_type": "markdown",
   "id": "ea531957",
   "metadata": {},
   "source": [
    "We have a fair representation of each continent in the keyword dataset.\n",
    "\n",
    "### Cities by Continent representations"
   ]
  },
  {
   "cell_type": "code",
   "execution_count": null,
   "metadata": {
    "execution": {
     "iopub.execute_input": "2024-06-02T23:09:16.727568Z",
     "iopub.status.busy": "2024-06-02T23:09:16.726081Z",
     "iopub.status.idle": "2024-06-02T23:18:16.631576Z",
     "shell.execute_reply": "2024-06-02T23:18:16.630305Z",
     "shell.execute_reply.started": "2024-06-02T23:09:16.727503Z"
    },
    "id": "QAhJgTgEc7Bn"
   },
   "outputs": [],
   "source": [
    "# collecting the world cities\n",
    "data = pd.DataFrame(columns=['Name', 'Country'])\n",
    "for i in range(1, 563):\n",
    "  data = pd.concat([data, pd.read_html(f'https://geokeo.com/database/city/{i}/')[0][['Name', 'Country']]])"
   ]
  },
  {
   "cell_type": "code",
   "execution_count": null,
   "metadata": {
    "execution": {
     "iopub.execute_input": "2024-06-02T23:18:16.633239Z",
     "iopub.status.busy": "2024-06-02T23:18:16.632925Z",
     "iopub.status.idle": "2024-06-02T23:18:16.647423Z",
     "shell.execute_reply": "2024-06-02T23:18:16.646045Z",
     "shell.execute_reply.started": "2024-06-02T23:18:16.633212Z"
    },
    "id": "UV60tUSie7CA",
    "outputId": "ed382a5f-637e-4b0b-acd4-7161d36662be"
   },
   "outputs": [],
   "source": [
    "data"
   ]
  },
  {
   "cell_type": "code",
   "execution_count": null,
   "metadata": {
    "execution": {
     "iopub.execute_input": "2024-06-02T23:18:16.650362Z",
     "iopub.status.busy": "2024-06-02T23:18:16.649219Z",
     "iopub.status.idle": "2024-06-02T23:18:16.689901Z",
     "shell.execute_reply": "2024-06-02T23:18:16.688776Z",
     "shell.execute_reply.started": "2024-06-02T23:18:16.650317Z"
    },
    "id": "SiXPCePhp8uk"
   },
   "outputs": [],
   "source": [
    "# saving data\n",
    "data.to_csv('world_cities.csv')"
   ]
  },
  {
   "cell_type": "code",
   "execution_count": null,
   "metadata": {
    "execution": {
     "iopub.execute_input": "2024-06-02T23:18:16.691648Z",
     "iopub.status.busy": "2024-06-02T23:18:16.691333Z",
     "iopub.status.idle": "2024-06-02T23:18:16.712648Z",
     "shell.execute_reply": "2024-06-02T23:18:16.711237Z",
     "shell.execute_reply.started": "2024-06-02T23:18:16.691622Z"
    },
    "id": "kWAldxTkrSyg",
    "outputId": "6cafc46c-823f-4252-fdcd-5ca8f8770ac3"
   },
   "outputs": [],
   "source": [
    "# preprocessing\n",
    "data['Name'] = data.Name.str.lower()\n",
    "data"
   ]
  },
  {
   "cell_type": "code",
   "execution_count": null,
   "metadata": {
    "execution": {
     "iopub.execute_input": "2024-06-02T23:18:16.714484Z",
     "iopub.status.busy": "2024-06-02T23:18:16.714148Z",
     "iopub.status.idle": "2024-06-02T23:18:16.741255Z",
     "shell.execute_reply": "2024-06-02T23:18:16.739479Z",
     "shell.execute_reply.started": "2024-06-02T23:18:16.714456Z"
    },
    "id": "EGyyjgPHyI0_",
    "outputId": "8f0ad533-e6d8-4da7-f886-a5c2c51eb9ea"
   },
   "outputs": [],
   "source": [
    "data['Country'] = data.Country.str.lower()\n",
    "data"
   ]
  },
  {
   "cell_type": "code",
   "execution_count": null,
   "metadata": {
    "execution": {
     "iopub.execute_input": "2024-06-02T23:18:16.743223Z",
     "iopub.status.busy": "2024-06-02T23:18:16.742854Z",
     "iopub.status.idle": "2024-06-02T23:18:16.767177Z",
     "shell.execute_reply": "2024-06-02T23:18:16.76575Z",
     "shell.execute_reply.started": "2024-06-02T23:18:16.743193Z"
    },
    "id": "eS_F6-1wrf5q",
    "outputId": "ea036b07-b565-4da8-fe21-862b29a1d5e0"
   },
   "outputs": [],
   "source": [
    "city"
   ]
  },
  {
   "cell_type": "code",
   "execution_count": null,
   "metadata": {
    "execution": {
     "iopub.execute_input": "2024-06-02T23:18:16.769232Z",
     "iopub.status.busy": "2024-06-02T23:18:16.768776Z",
     "iopub.status.idle": "2024-06-02T23:18:16.782915Z",
     "shell.execute_reply": "2024-06-02T23:18:16.780983Z",
     "shell.execute_reply.started": "2024-06-02T23:18:16.769189Z"
    },
    "id": "WD1UicRVrnS3"
   },
   "outputs": [],
   "source": [
    "cities = city.copy()"
   ]
  },
  {
   "cell_type": "code",
   "execution_count": null,
   "metadata": {
    "execution": {
     "iopub.execute_input": "2024-06-02T23:18:16.785149Z",
     "iopub.status.busy": "2024-06-02T23:18:16.784667Z",
     "iopub.status.idle": "2024-06-02T23:18:16.812327Z",
     "shell.execute_reply": "2024-06-02T23:18:16.810793Z",
     "shell.execute_reply.started": "2024-06-02T23:18:16.785106Z"
    },
    "id": "eqe69P-7tDw1",
    "outputId": "d13bfe48-382f-490f-b00b-85bbbc2cc2d7"
   },
   "outputs": [],
   "source": [
    "cities"
   ]
  },
  {
   "cell_type": "code",
   "execution_count": null,
   "metadata": {
    "execution": {
     "iopub.execute_input": "2024-06-02T23:18:16.814385Z",
     "iopub.status.busy": "2024-06-02T23:18:16.814024Z",
     "iopub.status.idle": "2024-06-02T23:18:16.92822Z",
     "shell.execute_reply": "2024-06-02T23:18:16.926948Z",
     "shell.execute_reply.started": "2024-06-02T23:18:16.814355Z"
    },
    "id": "4mGkHjjvt7FX",
    "outputId": "4b71ffeb-f9e0-4791-d039-6d249409199b"
   },
   "outputs": [],
   "source": [
    "# extracting country name from keyword\n",
    "for i in cities.index:\n",
    "  cities.loc[i, 'city'] = cities.loc[i, 'keyword'].split(' ')[0]\n",
    "cities"
   ]
  },
  {
   "cell_type": "code",
   "execution_count": null,
   "metadata": {
    "execution": {
     "iopub.execute_input": "2024-06-02T23:18:16.930321Z",
     "iopub.status.busy": "2024-06-02T23:18:16.929899Z",
     "iopub.status.idle": "2024-06-02T23:18:16.95182Z",
     "shell.execute_reply": "2024-06-02T23:18:16.950497Z",
     "shell.execute_reply.started": "2024-06-02T23:18:16.930281Z"
    },
    "id": "v7hB6ehmvEjp",
    "outputId": "02ecd777-0da3-4761-e507-761b328bec5e"
   },
   "outputs": [],
   "source": [
    "# extracting countries of cities\n",
    "cities.merge(\n",
    "    data,\n",
    "    how='left',\n",
    "    left_on='city',\n",
    "    right_on='Name')['Country'].value_counts()"
   ]
  },
  {
   "cell_type": "code",
   "execution_count": null,
   "metadata": {
    "execution": {
     "iopub.execute_input": "2024-06-02T23:18:16.953319Z",
     "iopub.status.busy": "2024-06-02T23:18:16.952958Z"
    },
    "id": "PWKrs1oLueFG",
    "outputId": "1041d6b4-e0bd-4982-cd12-f1df580c071e"
   },
   "outputs": [],
   "source": [
    "cities.merge(\n",
    "    data,\n",
    "    how='left',\n",
    "    left_on='city',\n",
    "    right_on='Name')['Country'].value_counts().plot(kind='pie',\n",
    "                                                         title= 'Cities by Country',\n",
    "                                                         xlabel='',\n",
    "                                                         ylabel='',\n",
    "                                                         autopct='%1.1f%%')"
   ]
  },
  {
   "cell_type": "markdown",
   "id": "30964df9",
   "metadata": {},
   "source": [
    "Kinda messy, but it show how the north american domination of listed cities (US+CA+MEXICO ~ 1/4 of listed cities)"
   ]
  },
  {
   "cell_type": "code",
   "execution_count": null,
   "metadata": {
    "execution": {
     "iopub.execute_input": "2024-06-02T23:18:18.279223Z",
     "iopub.status.busy": "2024-06-02T23:18:18.278849Z",
     "iopub.status.idle": "2024-06-02T23:18:18.295185Z",
     "shell.execute_reply": "2024-06-02T23:18:18.293778Z",
     "shell.execute_reply.started": "2024-06-02T23:18:18.279192Z"
    },
    "id": "hf7e_3FpxpOP",
    "outputId": "fff94d6a-e447-4722-b4e5-9c201486213b"
   },
   "outputs": [],
   "source": [
    "country_by_continent"
   ]
  },
  {
   "cell_type": "code",
   "execution_count": null,
   "metadata": {
    "execution": {
     "iopub.execute_input": "2024-06-02T23:18:18.297458Z",
     "iopub.status.busy": "2024-06-02T23:18:18.29711Z",
     "iopub.status.idle": "2024-06-02T23:18:18.33892Z",
     "shell.execute_reply": "2024-06-02T23:18:18.337087Z",
     "shell.execute_reply.started": "2024-06-02T23:18:18.297428Z"
    },
    "id": "eyLb9VPRvfAy",
    "outputId": "537bd7eb-bd14-4570-eb85-56b27350f162"
   },
   "outputs": [],
   "source": [
    "# extracting continent based on city names\n",
    "cities_countries = cities.merge(\n",
    "                      data,\n",
    "                      how='left',\n",
    "                      left_on='city',\n",
    "                      right_on='Name'\n",
    "                      )\n",
    "\n",
    "cities_countries['countries'] = cities_countries.Country.str.lower()\n",
    "cities_countries.drop(columns='Country', inplace=True)\n",
    "\n",
    "cities_countries.merge(\n",
    "                    country_by_continent,\n",
    "                    how='left',\n",
    "                    left_on='countries',\n",
    "                    right_on='Country'\n",
    "                    )"
   ]
  },
  {
   "cell_type": "code",
   "execution_count": null,
   "metadata": {
    "execution": {
     "iopub.execute_input": "2024-06-02T23:18:18.341039Z",
     "iopub.status.busy": "2024-06-02T23:18:18.340396Z",
     "iopub.status.idle": "2024-06-02T23:18:18.5454Z",
     "shell.execute_reply": "2024-06-02T23:18:18.544109Z",
     "shell.execute_reply.started": "2024-06-02T23:18:18.341002Z"
    },
    "id": "gE22GhWow327",
    "outputId": "e9d95849-6ccc-4c02-985a-fc3c242d1b7d"
   },
   "outputs": [],
   "source": [
    "# presenting continent representation based on the cities\n",
    "cities_countries.merge(\n",
    "                    country_by_continent,\n",
    "                    how='left',\n",
    "                    left_on='countries',\n",
    "                    right_on='Country'\n",
    "                    )['Continent'].value_counts().plot(kind='pie',\n",
    "                                                      title='Continent representation based on cities',\n",
    "                                                      xlabel='',\n",
    "                                                      ylabel='',\n",
    "                                                      autopct='%1.1f%%')"
   ]
  },
  {
   "cell_type": "markdown",
   "id": "81386ea0",
   "metadata": {},
   "source": [
    "Two thirds of the cities are from Europe and Asia, other continent are under-presented.\n",
    "\n",
    "# Ressources\n",
    "\n",
    "[LLM 20 Questions - Keywords](https://www.kaggle.com/code/docxian/llm-20-questions-keywords/notebook)\n",
    "\n",
    "[[LLM 20 Questions] EDA Map keywords](https://www.kaggle.com/code/waechter/llm-20-questions-eda-map-keywords)"
   ]
  }
 ],
 "metadata": {
  "colab": {
   "include_colab_link": true,
   "name": "notebook289a4cfa26",
   "provenance": [],
   "toc_visible": true
  },
  "kaggle": {
   "accelerator": "none",
   "dataSources": [
    {
     "databundleVersionId": 8550470,
     "sourceId": 61247,
     "sourceType": "competition"
    }
   ],
   "dockerImageVersionId": 30715,
   "isGpuEnabled": false,
   "isInternetEnabled": true,
   "language": "python",
   "sourceType": "notebook"
  },
  "kernelspec": {
   "display_name": "Python 3",
   "language": "python",
   "name": "python3"
  },
  "language_info": {
   "codemirror_mode": {
    "name": "ipython",
    "version": 3
   },
   "file_extension": ".py",
   "mimetype": "text/x-python",
   "name": "python",
   "nbconvert_exporter": "python",
   "pygments_lexer": "ipython3",
   "version": "3.10.13"
  }
 },
 "nbformat": 4,
 "nbformat_minor": 4
}
