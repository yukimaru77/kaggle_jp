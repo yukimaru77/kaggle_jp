{
 "cells": [
  {
   "cell_type": "code",
   "execution_count": null,
   "metadata": {
    "_cell_guid": "b1076dfc-b9ad-4769-8c92-a6c4dae69d19",
    "_uuid": "8f2839f25d086af736a60e9eeb907d3b93b6e0e5",
    "execution": {
     "iopub.execute_input": "2024-07-14T01:27:43.298104Z",
     "iopub.status.busy": "2024-07-14T01:27:43.297577Z",
     "iopub.status.idle": "2024-07-14T01:27:43.793386Z",
     "shell.execute_reply": "2024-07-14T01:27:43.792314Z",
     "shell.execute_reply.started": "2024-07-14T01:27:43.298065Z"
    }
   },
   "outputs": [],
   "source": [
    "import matplotlib.pyplot as plt\n",
    "\n",
    "def calculate_win_probabilities(N: int, rounds: int, reduction_factor: float) -> list[float]:\n",
    "    \"\"\"\n",
    "    A function to calculate and display the cumulative winning probabilities for each round.\n",
    "\n",
    "    Args:\n",
    "        N (int): Initial number of keywords\n",
    "        rounds (int): Total number of questions\n",
    "        reduction_factor (float): The ratio by which the number of candidates is reduced each round\n",
    "\n",
    "    Returns:\n",
    "        list[float]: The cumulative winning probabilities for each round\n",
    "    \"\"\"\n",
    "    cumulative_probabilities = []\n",
    "    previous_prob = 0\n",
    "\n",
    "    for k in range(1, rounds + 1):\n",
    "        Nk = N * (reduction_factor ** k)\n",
    "        current_prob = (1 - previous_prob) * (1 / Nk)\n",
    "        previous_prob += current_prob\n",
    "        if previous_prob > 1:\n",
    "            previous_prob = 1  # Ensure the winning probability does not exceed 1\n",
    "        cumulative_probabilities.append(previous_prob)\n",
    "\n",
    "    return cumulative_probabilities\n",
    "\n",
    "def plot_cumulative_probabilities(probabilities_dict: dict[float, list[float]]):\n",
    "    \"\"\"\n",
    "    A function to plot the cumulative winning probabilities.\n",
    "\n",
    "    Args:\n",
    "        probabilities_dict (dict[float, list[float]]): A dictionary of cumulative winning probabilities for each round\n",
    "    \"\"\"\n",
    "    plt.figure(figsize=(12, 8))\n",
    "    \n",
    "    for reduction_factor, probabilities in probabilities_dict.items():\n",
    "        rounds = range(1, len(probabilities) + 1)\n",
    "        plt.plot(rounds, probabilities, marker='o', linestyle='-', label=f'Reduction Factor = {reduction_factor}')\n",
    "\n",
    "    plt.xlabel('Round')\n",
    "    plt.ylabel('Cumulative Probability of Winning')\n",
    "    plt.title('Cumulative Probability of Winning per Round for Different Reduction Factors')\n",
    "    plt.grid(True)\n",
    "    plt.xticks(range(1, 21))\n",
    "    plt.yticks([i/10 for i in range(11)])\n",
    "    plt.ylim(0, 1)\n",
    "    plt.legend()\n",
    "    plt.show()\n",
    "\n",
    "def main():\n",
    "    N = 1024\n",
    "    rounds = 20\n",
    "    reduction_factors = [0.5, 0.6, 0.7, 0.8, 0.9, 1.0]  # Reduction factors ranging from 0.5 to 1.0\n",
    "    probabilities_dict = {}\n",
    "\n",
    "    for reduction_factor in reduction_factors:\n",
    "        probabilities = calculate_win_probabilities(N, rounds, reduction_factor)\n",
    "        probabilities_dict[reduction_factor] = probabilities\n",
    "        for i, prob in enumerate(probabilities, 1):\n",
    "            print(f\"Reduction Factor {reduction_factor}, Round {i}: Cumulative probability of winning = {prob:.10f}\")\n",
    "\n",
    "    plot_cumulative_probabilities(probabilities_dict)\n",
    "\n",
    "if __name__ == \"__main__\":\n",
    "    main()\n"
   ]
  }
 ],
 "metadata": {
  "kaggle": {
   "accelerator": "none",
   "dataSources": [
    {
     "databundleVersionId": 8550470,
     "sourceId": 61247,
     "sourceType": "competition"
    }
   ],
   "dockerImageVersionId": 30746,
   "isGpuEnabled": false,
   "isInternetEnabled": true,
   "language": "python",
   "sourceType": "notebook"
  },
  "kernelspec": {
   "display_name": "Python 3",
   "language": "python",
   "name": "python3"
  },
  "language_info": {
   "codemirror_mode": {
    "name": "ipython",
    "version": 3
   },
   "file_extension": ".py",
   "mimetype": "text/x-python",
   "name": "python",
   "nbconvert_exporter": "python",
   "pygments_lexer": "ipython3",
   "version": "3.10.13"
  }
 },
 "nbformat": 4,
 "nbformat_minor": 4
}
