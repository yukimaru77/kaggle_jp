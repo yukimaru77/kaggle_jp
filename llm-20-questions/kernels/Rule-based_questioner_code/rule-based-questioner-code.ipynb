{
 "cells": [
  {
   "cell_type": "markdown",
   "id": "f52113b5",
   "metadata": {},
   "source": [
    "# How do you implement a rule-based questioner?\n",
    "Many top rankers develop a hybrid rule-based/LLM questioner. How do you implement rule-based algorithms? Do you use multiple \"if\"? Are there any other useful libraries?  \n",
    "I've implemented a rule-based questioner without using multiple \"if\" statements. If there is any other easy way please share in comment!\n",
    "\n",
    "![tree.png](attachment:ca56c51b-c2d5-44ee-b7d5-a199907a881f.png)"
   ]
  },
  {
   "cell_type": "code",
   "execution_count": null,
   "metadata": {
    "_cell_guid": "b1076dfc-b9ad-4769-8c92-a6c4dae69d19",
    "_uuid": "8f2839f25d086af736a60e9eeb907d3b93b6e0e5",
    "execution": {
     "iopub.execute_input": "2024-07-19T15:04:45.124265Z",
     "iopub.status.busy": "2024-07-19T15:04:45.123828Z",
     "iopub.status.idle": "2024-07-19T15:04:45.180538Z",
     "shell.execute_reply": "2024-07-19T15:04:45.179342Z",
     "shell.execute_reply.started": "2024-07-19T15:04:45.124234Z"
    }
   },
   "outputs": [],
   "source": [
    "%%bash\n",
    "mkdir -p /kaggle/working/submission"
   ]
  },
  {
   "cell_type": "code",
   "execution_count": null,
   "metadata": {
    "execution": {
     "iopub.execute_input": "2024-07-19T15:04:45.183557Z",
     "iopub.status.busy": "2024-07-19T15:04:45.183059Z",
     "iopub.status.idle": "2024-07-19T15:04:45.195116Z",
     "shell.execute_reply": "2024-07-19T15:04:45.193456Z",
     "shell.execute_reply.started": "2024-07-19T15:04:45.183516Z"
    }
   },
   "outputs": [],
   "source": [
    "%%writefile -a submission/main.py\n",
    "\n",
    "import random\n",
    "\n",
    "class Robot:\n",
    "    def __init__(self):\n",
    "        pass\n",
    "    \n",
    "    def on(self, mode, obs):\n",
    "        assert mode in [\"asking\", \"guessing\", \"answering\"], \"mode can only take one of these values: asking, answering, guessing\"\n",
    "        if mode == \"asking\":\n",
    "            tree_dic = {\n",
    "                \"1\": {\n",
    "                    \"\": \"Is it a place?\",\n",
    "                },\n",
    "                \"2\": {\n",
    "                    \"y\": \"Is it a country?\",\n",
    "                    \"n\": \"Is it a food?\",\n",
    "                },\n",
    "                \"3\": {\n",
    "                    \"yy\":\"Is it located ou Europe?\",\n",
    "                    \"yn\":\"Is it a city?\",\n",
    "                    \"ny\":\"Is that food sweet?\",\n",
    "                    \"nn\":\"Is it a drink?\",\n",
    "                },\n",
    "                \"4\": {\n",
    "                    \"yyy\":\"Does the keyword begins with the letter 'a'?\",\n",
    "                    \"yyn\":\"Does the keyword begins with the letter 'a'?\",\n",
    "                    \"yny\":\"Does the keyword begins with the letter 'a'?\",\n",
    "                    \"ynn\":\"Does the keyword begins with the letter 'a'?\",\n",
    "                    \"nyy\":\"Does the keyword begins with the letter 'a'?\",\n",
    "                    \"nyn\":\"Does the keyword begins with the letter 'a'?\",\n",
    "                    \"nny\":\"Does the keyword begins with the letter 'a'?\",\n",
    "                    \"nnn\":\"Does the keyword begins with the letter 'a'?\",\n",
    "                },\n",
    "                \"5\": {\n",
    "                    \"yyyy\":\"\",\n",
    "                    \"yyyn\":\"Does the keyword begins with the letter 'b'?\",\n",
    "                    \"yyny\":\"\",\n",
    "                    \"yynn\":\"Does the keyword begins with the letter 'b'?\",\n",
    "                    \"ynyy\":\"\",\n",
    "                    \"ynyn\":\"Does the keyword begins with the letter 'b'?\",\n",
    "                    \"ynny\":\"\",\n",
    "                    \"ynnn\":\"Does the keyword begins with the letter 'b'?\",\n",
    "                    \"nyyy\":\"\",\n",
    "                    \"nyyn\":\"Does the keyword begins with the letter 'b'?\",\n",
    "                    \"nyny\":\"\",\n",
    "                    \"nynn\":\"Does the keyword begins with the letter 'b'?\",\n",
    "                    \"nnyy\":\"\",\n",
    "                    \"nnyn\":\"Does the keyword begins with the letter 'b'?\",\n",
    "                    \"nnny\":\"\",\n",
    "                    \"nnnn\":\"Does the keyword begins with the letter 'b'?\",\n",
    "                }\n",
    "            }\n",
    "            answers_hist = \"\"\n",
    "            for answer in obs.answers:\n",
    "                answers_hist += answer[0]\n",
    "                \n",
    "            if len(obs.answers)<len(tree_dic):\n",
    "                output = tree_dic[str(len(obs.answers)+1)][answers_hist]\n",
    "                if output==\"\":\n",
    "                    output = \"Call your LLM agent\"\n",
    "            else:\n",
    "                output = \"Call your LLM agent\"\n",
    "        if mode == \"answering\":\n",
    "            output = random.choice(['yes', 'no'])\n",
    "        if mode == \"guessing\":\n",
    "            output = 'apple'\n",
    "        return output\n",
    "\n",
    "robot = Robot()\n",
    "    \n",
    "def agent(obs, cfg):\n",
    "    \n",
    "    if obs.turnType ==\"ask\":\n",
    "        response = robot.on(mode = \"asking\", obs = obs)\n",
    "    elif obs.turnType ==\"guess\":\n",
    "        response = robot.on(mode = \"guessing\", obs = obs)\n",
    "    elif obs.turnType ==\"answer\":\n",
    "        response = robot.on(mode = \"answering\", obs = obs)\n",
    "        \n",
    "    return response"
   ]
  },
  {
   "cell_type": "code",
   "execution_count": null,
   "metadata": {
    "execution": {
     "iopub.execute_input": "2024-07-19T15:04:45.197068Z",
     "iopub.status.busy": "2024-07-19T15:04:45.196727Z",
     "iopub.status.idle": "2024-07-19T15:04:53.151969Z",
     "shell.execute_reply": "2024-07-19T15:04:53.150671Z",
     "shell.execute_reply.started": "2024-07-19T15:04:45.197038Z"
    }
   },
   "outputs": [],
   "source": [
    "%%time\n",
    "\n",
    "from kaggle_environments import make\n",
    "agent = \"/kaggle/working/submission/main.py\"\n",
    "env = make(\"llm_20_questions\", debug=True)\n",
    "game_output = env.run(agents=[agent, agent, agent, agent])\n",
    "env.render(mode=\"ipython\", width=600, height=500)"
   ]
  },
  {
   "cell_type": "code",
   "execution_count": null,
   "metadata": {},
   "outputs": [],
   "source": []
  }
 ],
 "metadata": {
  "kaggle": {
   "accelerator": "none",
   "dataSources": [
    {
     "databundleVersionId": 8550470,
     "sourceId": 61247,
     "sourceType": "competition"
    }
   ],
   "dockerImageVersionId": 30746,
   "isGpuEnabled": false,
   "isInternetEnabled": true,
   "language": "python",
   "sourceType": "notebook"
  },
  "kernelspec": {
   "display_name": "Python 3",
   "language": "python",
   "name": "python3"
  },
  "language_info": {
   "codemirror_mode": {
    "name": "ipython",
    "version": 3
   },
   "file_extension": ".py",
   "mimetype": "text/x-python",
   "name": "python",
   "nbconvert_exporter": "python",
   "pygments_lexer": "ipython3",
   "version": "3.10.13"
  }
 },
 "nbformat": 4,
 "nbformat_minor": 4
}
